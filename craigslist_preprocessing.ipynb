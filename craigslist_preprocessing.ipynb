{
 "cells": [
  {
   "cell_type": "markdown",
   "metadata": {},
   "source": [
    "# Preprocessing"
   ]
  },
  {
   "cell_type": "code",
   "execution_count": 956,
   "metadata": {},
   "outputs": [
    {
     "name": "stderr",
     "output_type": "stream",
     "text": [
      "[nltk_data] Downloading package punkt to\n",
      "[nltk_data]     C:\\Users\\adrie\\AppData\\Roaming\\nltk_data...\n",
      "[nltk_data]   Package punkt is already up-to-date!\n"
     ]
    },
    {
     "data": {
      "text/plain": [
       "True"
      ]
     },
     "execution_count": 956,
     "metadata": {},
     "output_type": "execute_result"
    }
   ],
   "source": [
    "import pandas as pd\n",
    "import numpy as np\n",
    "import re\n",
    "import datetime\n",
    "from os.path import exists\n",
    "from geopy.geocoders import Nominatim\n",
    "import folium\n",
    "import json\n",
    "import requests\n",
    "import nltk\n",
    "from gensim import corpora\n",
    "from gensim.models.ldamodel import LdaModel\n",
    "from gensim.parsing.preprocessing import STOPWORDS\n",
    "import pprint\n",
    "from wordcloud import WordCloud, STOPWORDS\n",
    "from nltk.corpus import PlaintextCorpusReader\n",
    "from nltk import sent_tokenize,word_tokenize \n",
    "from itertools import chain\n",
    "import matplotlib.pyplot as plt\n",
    "from random import shuffle\n",
    "nltk.download('punkt')"
   ]
  },
  {
   "cell_type": "markdown",
   "metadata": {},
   "source": [
    "Now that the data has been scraped, we can take the data from all the cities we scraped and put them all together into one single dataframe."
   ]
  },
  {
   "cell_type": "code",
   "execution_count": 957,
   "metadata": {},
   "outputs": [],
   "source": [
    "places_raw = pd.read_excel('places.xlsx', header=None)\n",
    "places = places_raw[0].values\n",
    "\n",
    "index=0\n",
    "cities_scraped = []\n",
    "for city in places:\n",
    "    if city not in cities_scraped:\n",
    "        if exists('data_craigslist'+str(city)+'.csv'):\n",
    "            cities_scraped.append(city)\n",
    "            if index == 0:\n",
    "                df = pd.read_csv('data_craigslist'+str(city)+'.csv').drop(columns=['Unnamed: 0'])\n",
    "                index += 1\n",
    "            else:\n",
    "                df = pd.concat([df, pd.read_csv('data_craigslist'+str(city)+'.csv').drop(columns=['Unnamed: 0'])], axis=0, ignore_index=True)"
   ]
  },
  {
   "cell_type": "code",
   "execution_count": 958,
   "metadata": {},
   "outputs": [],
   "source": [
    "# Gets rid of the rows where we don't have any features\n",
    "new_index = []\n",
    "for ind in df.index:\n",
    "    try:\n",
    "        if df.loc[ind].count() >= 7:\n",
    "            new_index.append(ind)\n",
    "    except:\n",
    "        pass\n",
    "\n",
    "df = df.loc[new_index].reset_index(drop=True)"
   ]
  },
  {
   "cell_type": "code",
   "execution_count": 959,
   "metadata": {},
   "outputs": [
    {
     "data": {
      "text/plain": [
       "Index(['Price', 'Location', 'URL', 'Date', 'Title', 'num image', 'text',\n",
       "       'condition', 'make / manufacturer', 'model name / number',\n",
       "       'bicycle frame material', 'bicycle type', 'brake type',\n",
       "       'electric assist', 'frame size', 'handlebar type', 'suspension',\n",
       "       'wheel size', 'size / dimensions', 'serial number', 'part type',\n",
       "       'paint color', 'year manufactured', 'engine hours (total)',\n",
       "       'length overall (LOA)', 'propulsion type'],\n",
       "      dtype='object')"
      ]
     },
     "execution_count": 959,
     "metadata": {},
     "output_type": "execute_result"
    }
   ],
   "source": [
    "df.columns"
   ]
  },
  {
   "cell_type": "code",
   "execution_count": 960,
   "metadata": {},
   "outputs": [
    {
     "name": "stdout",
     "output_type": "stream",
     "text": [
      "<class 'pandas.core.frame.DataFrame'>\n",
      "RangeIndex: 4624 entries, 0 to 4623\n",
      "Data columns (total 26 columns):\n",
      " #   Column                  Non-Null Count  Dtype  \n",
      "---  ------                  --------------  -----  \n",
      " 0   Price                   4624 non-null   float64\n",
      " 1   Location                4624 non-null   object \n",
      " 2   URL                     4624 non-null   object \n",
      " 3   Date                    4624 non-null   object \n",
      " 4   Title                   4624 non-null   object \n",
      " 5   num image               4624 non-null   int64  \n",
      " 6   text                    4624 non-null   object \n",
      " 7   condition               2091 non-null   object \n",
      " 8   make / manufacturer     1828 non-null   object \n",
      " 9   model name / number     1283 non-null   object \n",
      " 10  bicycle frame material  1817 non-null   object \n",
      " 11  bicycle type            1817 non-null   object \n",
      " 12  brake type              679 non-null    object \n",
      " 13  electric assist         451 non-null    object \n",
      " 14  frame size              1717 non-null   object \n",
      " 15  handlebar type          500 non-null    object \n",
      " 16  suspension              639 non-null    object \n",
      " 17  wheel size              1717 non-null   object \n",
      " 18  size / dimensions       211 non-null    object \n",
      " 19  serial number           85 non-null     object \n",
      " 20  part type               137 non-null    object \n",
      " 21  paint color             76 non-null     object \n",
      " 22  year manufactured       142 non-null    float64\n",
      " 23  engine hours (total)    18 non-null     float64\n",
      " 24  length overall (LOA)    28 non-null     float64\n",
      " 25  propulsion type         28 non-null     object \n",
      "dtypes: float64(4), int64(1), object(21)\n",
      "memory usage: 939.4+ KB\n"
     ]
    }
   ],
   "source": [
    "df.info()"
   ]
  },
  {
   "cell_type": "markdown",
   "metadata": {},
   "source": [
    "## Cleaning\n",
    "\n",
    "Let's now go through every column and standardize the features. Because users fill these features by hand, they can type-in many different answers and we have to make sure they all stay consistent."
   ]
  },
  {
   "cell_type": "code",
   "execution_count": 961,
   "metadata": {},
   "outputs": [
    {
     "name": "stdout",
     "output_type": "stream",
     "text": [
      "[nan ' aluminum' ' alloy' ' other/unknown' ' steel' ' carbon fiber'\n",
      " ' titanium' ' composite' ' scandium']\n"
     ]
    }
   ],
   "source": [
    "print(df['bicycle frame material'].unique())"
   ]
  },
  {
   "cell_type": "code",
   "execution_count": 962,
   "metadata": {},
   "outputs": [],
   "source": [
    "def fix_bfm(x):\n",
    "    if pd.isna(x) or x.strip() == 'other/unknown':\n",
    "        return 'unknown'\n",
    "    else:\n",
    "        return x.strip()\n",
    "\n",
    "df['bicycle frame material'] = df['bicycle frame material'].apply(fix_bfm)"
   ]
  },
  {
   "cell_type": "code",
   "execution_count": 963,
   "metadata": {},
   "outputs": [
    {
     "name": "stdout",
     "output_type": "stream",
     "text": [
      "['unknown' 'aluminum' 'alloy' 'steel' 'carbon fiber' 'titanium'\n",
      " 'composite' 'scandium']\n"
     ]
    }
   ],
   "source": [
    "print(df['bicycle frame material'].unique())"
   ]
  },
  {
   "cell_type": "code",
   "execution_count": 964,
   "metadata": {},
   "outputs": [
    {
     "data": {
      "text/plain": [
       "array([nan, ' mountain', ' other', ' kids', ' hybrid/comfort', ' cruiser',\n",
       "       ' bmx', ' road', ' unicycle', ' folding', ' gravel',\n",
       "       ' recumbent/trike', ' cyclocross', ' tandem', ' cargo/pedicab',\n",
       "       ' track'], dtype=object)"
      ]
     },
     "execution_count": 964,
     "metadata": {},
     "output_type": "execute_result"
    }
   ],
   "source": [
    "df['bicycle type'].unique()"
   ]
  },
  {
   "cell_type": "code",
   "execution_count": 965,
   "metadata": {},
   "outputs": [],
   "source": [
    "def fix_bt(x):\n",
    "    if pd.isna(x) or x.strip() == 'other':\n",
    "        return 'unknown'\n",
    "    else:\n",
    "        return x.strip()\n",
    "\n",
    "df['bicycle type'] = df['bicycle type'].apply(fix_bt)"
   ]
  },
  {
   "cell_type": "code",
   "execution_count": 966,
   "metadata": {},
   "outputs": [
    {
     "data": {
      "text/plain": [
       "array(['unknown', 'mountain', 'kids', 'hybrid/comfort', 'cruiser', 'bmx',\n",
       "       'road', 'unicycle', 'folding', 'gravel', 'recumbent/trike',\n",
       "       'cyclocross', 'tandem', 'cargo/pedicab', 'track'], dtype=object)"
      ]
     },
     "execution_count": 966,
     "metadata": {},
     "output_type": "execute_result"
    }
   ],
   "source": [
    "df['bicycle type'].unique()"
   ]
  },
  {
   "cell_type": "code",
   "execution_count": 967,
   "metadata": {},
   "outputs": [
    {
     "data": {
      "text/plain": [
       "array([nan, ' Medium', ' Large', ' 26 inch', ' Fits most bikes!',\n",
       "       ' 12” wheels', ' 18', ' 0', ' 8\"', ' 24”', ' All', ' 26\" and 24\"',\n",
       "       ' medium', ' 19.5', ' any', ' 56cm', ' 54 cm, medium', ' 60cm',\n",
       "       ' All sizes', ' 16 inch', ' unknown', ' N/A', ' Unknown', ' None',\n",
       "       ' 15 inch', ' 60 cm', ' 18 \"', ' 19in', ' 26 in',\n",
       "       ' 42x40x10 inches', ' 52 cm', ' Any size', ' 15\"', ' 18.5”',\n",
       "       ' n/a', ' Kids size', ' 50cm', \" Women's Medium\", ' 20\" wheels',\n",
       "       ' 26in.', ' Medium/Large', ' small', ' Small', \" don't reall know\",\n",
       "       ' 54cm medium17.5', ' Adult', ' good size', ' MEDIUM TO LARGE',\n",
       "       ' 27\"', ' 20\"', ' XXL', ' 65cm', ' 18.25 in (46.35 cm)', ' 20',\n",
       "       ' child size', ' 49 to 63 cm', ' 26”', ' 16', ' 26\"', \" 26'\",\n",
       "       ' 16”, 12”', ' About 16 inches.', ' ?', ' 24\"', ' .', ' 26',\n",
       "       ' 17 inch, 25 inch, etc.', ' 17.5 in  54 in',\n",
       "       ' Standard Cruiser Size', ' kids', ' see pictures',\n",
       "       ' 19inches 49cm', ' Heavy-duty 57 cm.', ' 20”', ' Allen 530RR',\n",
       "       ' 54', ' 16\"', ' 61 cm', ' Not sure', ' 8\"POST', ' 17\"',\n",
       "       ' Several', ' Aluminum', ' Medium large', ' 55cm',\n",
       "       ' 51\"L x 8\"W x 30\"H', ' full size mens', ' Kids', ' 19\"Med/Lg',\n",
       "       ' 19\" M/L', ' 54 cm', ' 15”', ' 12-inch', ' 29\"', ' 14', ' 00',\n",
       "       ' Small medium', ' Snall', ' 20 inches', ' Large Child', ' 13\"',\n",
       "       ' 22in Lg', ' Other', ' 43 W  42 L', ' 12”', ' 26” wheels',\n",
       "       ' 56 Centemeter', ' 17-inch Delta V Frame', ' Medium- large',\n",
       "       ' Medium / large — kids', ' 17 inch', ' 12345', ' large',\n",
       "       ' Medium men’s', ' Large 19\"', ' 11 inches', ' 17',\n",
       "       ' 21” top tube', ' adult', ' XL 27.5\"', ' all sizes', ' Various',\n",
       "       ' L', ' XS (~52cm)', ' 48.5 ish', ' see above', ' 20.5, medium',\n",
       "       ' 52', ' 16 inches', ' X SMall', ' 48 cm', ' 54cm', ' Small.  20”',\n",
       "       ' 58 Large', ' 48', ' 21 inches', ' 61cm', ' 24 in', ' 53cm',\n",
       "       ' 52cm', ' 60', ' 58cm', ' 47 inches', ' Adult size', ' other',\n",
       "       ' 19 inch', ' 00\"', ' 26 inches', ' XL', ' 26”tires', ' 24 INCH',\n",
       "       ' 51cm', ' Trail a Bikes', ' ANY', ' MEDIUM 18', ' 18 MEDIUM',\n",
       "       \" LARGE 19'\", ' 14.8 inches', ' Recumbent', ' Large and Small',\n",
       "       ' ??', ' 26 and 24 inch', ' small to medium', ' Variety',\n",
       "       ' Varies', ' MEDIUM', ' other/unknown', ' Kids bike',\n",
       "       ' 16\" & 18\" Medium', ' 59 x 32 x 42in', ' Standard', ' 55 cm',\n",
       "       ' standard size', ' 26\" wheels', ' 18\"', ' mens / womens',\n",
       "       ' 24 inch', ' 16.2”', ' 26 INCH', ' 000', ' 28',\n",
       "       ' Large frame/59cm', ' 22', ' XL stand over 32', ' 19\"', ' 11',\n",
       "       ' 44\"x35\"', ' Medium, 17.5\"', ' 18 inch', ' 44 x 22 x 57', ' 17.5',\n",
       "       ' xs', ' 24', ' 56', ' M', ' 54cm, medium', ' Youth', ' -',\n",
       "       ' 16.5\" Medium', ' Kids bikes', ' 18 inches',\n",
       "       ' Medium/large/ smalll', ' 54 cm Medium', ' 3', ' 28&26\"',\n",
       "       ' little kids', ' Medium and Large', ' 26” aluminum',\n",
       "       ' medium. small', ' 58 cm', ' na', ' 20 inch and 18 inch',\n",
       "       ' Regular', ' medium, adult', ' Idk', ' 35\"', ' Different sizes',\n",
       "       ' 2”', ' Large, 19 inches', ' 23\"', ' 30\"',\n",
       "       ' telescoping seat post', ' High-Step', ' 17INCH SMALL/ MEDIUM',\n",
       "       ' veries', ' Universal', ' 16in', ' 20in',\n",
       "       ' Schwinn 26-30 66-76 cm', ' 59cm', ' Medium 17”', ' 20 in',\n",
       "       ' 18in medium', ' 57cm (large)', ' child', ' 70 inches L',\n",
       "       ' Small/Medium', ' 53cm, 26in', ' 19.5 inches', ' 135x5mm QR',\n",
       "       ' NA', ' 19”', ' 17”', ' 12\"', ' 21\" L/XL', ' 20\" large',\n",
       "       ' Youth BMX', ' 5', ' 20 inch', ' 110 125 50', ' 20cm', ' Unk',\n",
       "       ' 56 cm', ' teen', ' 19 imches', ' 56CM', ' medium/large',\n",
       "       ' 18 INCH', ' various', ' Hitch Bike', ' 26\"  and 24\" Tires',\n",
       "       ' Med', ' 4 bike', ' 36 inch approx.', ' 54” medium', ' Rare',\n",
       "       ' 21”', ' 5.o 200 series mountan', ' 28” ?', ' Tear drop',\n",
       "       ' 17.5 inches', ' S3/medium', ' kids small', ' Small step through',\n",
       "       ' 18\"/45.72CM Seat Tube', ' XL frame', ' 22 & 19',\n",
       "       ' 61 cm, 21 3/4\"', ' 15” - 63cm', ' Assorted', ' Medium, large',\n",
       "       ' medium?', ' Kids 20\"', ' Youngster size.', ' 54cm.',\n",
       "       ' kids 16 inch', ' 54 cm, medium-ish', ' Regular folder',\n",
       "       ' 20\", 51 CM.', ' 16 in wheels', ' 29 inch', ' 26’', ' 25”',\n",
       "       ' 10”', \" 4'4 - 5' rider\", ' girls/kids', ' one size fits all',\n",
       "       ' 16\"MEDIUM & 20\"LARGE', ' 222', ' See photo', ' 43cm',\n",
       "       ' All Sizes', ' 29x29x29', ' cargo', ' Ladies/Teens',\n",
       "       ' Medium and large', ' 123', ' XS S M L XL',\n",
       "       ' 2 Small and 1  Medium', \" don't know\", ' 46 cm', ' 50 cm',\n",
       "       ' S/M/L', ' expert xl', ' 42cm', ' 44 cm', ' 47', ' 29', ' 2',\n",
       "       ' 1', ' 18.5', ' many sizes', ' Bmx', ' Kids 24\" and 16\"',\n",
       "       ' 42-49cm', ' tbd', ' Medium/17', ' BMX', ' 23', ' SMALL',\n",
       "       ' S M L XL', ' 17\" frame 26\" wheels', ' 13 up', ' 29”',\n",
       "       ' one size', ' ON THE', ' 14 inches', ' Bike Rack', ' 26-inch',\n",
       "       ' 16\", 18\", and 20\"', ' 6061', ' Large and Medium', ' 20-23 in.',\n",
       "       ' 22 inches', ' Ff.', ' 56 Frame', ' 14”', ' Large medium', ' 10\"',\n",
       "       ' Who knows', ' 11\"', ' Medium 52cm', ' Z', ' 26\" Inch, size 15.0',\n",
       "       ' 47cm', ' Unsure', ' 2 bike carrier', ' 3 bike carrier',\n",
       "       ' 3 bike', ' 21', ' 21\"', ' 12.5', ' 21\", 23\"', ' 26 \"', ' 19',\n",
       "       ' 54”', ' 10in', ' 21-womens  26 mens', ' 19 inches', ' Medíum',\n",
       "       ' 12 to 18', ' 21.3\" Top Tube', ' STEEL', ' assorted',\n",
       "       ' Small Medium Large', ' One Size', ' Ned-large', ' see picture',\n",
       "       ' Step through', ' 54.5 x 8 x 31.5 in', ' 28 inch',\n",
       "       ' Riders 5’3” + up', ' 26 28', ' 10 and 12', ' 27',\n",
       "       ' Medium 54.5cm', ' 20” bikes', ' 17 inches', \" I'm not sure\",\n",
       "       ' 14\"', ' 12 inch', \" Kid's\", ' 10', ' 1 1/4 inch', ' 19 and 23',\n",
       "       ' cargo style bike', ' Medium and Small', ' 17 +', ' 18inch',\n",
       "       ' Not ness', ' Na', ' varies', ' ???', ' 16\", 18\", 20\"', ' 17???',\n",
       "       ' One large, one medium', ' 22\"', ' Medium 18 1/2”',\n",
       "       ' 21.5 inches', ' 49 cm', ' 20 \"', ' Kids’', ' Etc', ' 54 in',\n",
       "       ' large and extra large', ' 24” frame', ' full size',\n",
       "       ' 16 inch Razor boys bike', ' will measure', ' different sizes',\n",
       "       ' all', ' 16”', ' 27.5', ' 21 inch', ' Wheelbase 39.5',\n",
       "       ' dont know', ' XS, 480', ' 4 feet', ' 20.5” top tube',\n",
       "       ' adult and child', ' Youth. 24” tires', ' med', ' 27 inches',\n",
       "       ' bmx', ' 12-18', ' Decent', ' BMX 24\"', ' 30 X30\"', ' 25',\n",
       "       ' 21-23', ' 20.5', ' 23.5', ' 15', ' 21.5', ' 24.5', ' 23\"-19\"',\n",
       "       ' 54cm medium', ' 16.5\"', ' girls 24”, boys 24”',\n",
       "       ' multiple sizes', ' 23.6', ' 20.75', \" I don't know, standard\",\n",
       "       ' 36 inches wide', ' 21 Inches', ' 29 Inches', ' ALL',\n",
       "       ' 16 in (40.64 cm)', ' Regular size', ' 16\", 18\", or 20\"',\n",
       "       ' 27.5+', ' unknown adult', ' 24 inches', ' 2 bikes', ' M/55',\n",
       "       ' 15\" STEEL FRAME', ' 24\" TIRES', ' 18\" WHEELS', ' Any car fit',\n",
       "       ' Small 12.5 inches', ' 17 inches medium', ' 19.5\" large',\n",
       "       ' 19 inches large', ' 25.5 cm seat tube length', ' Any',\n",
       "       ' 18-28 INCH', ' Normal Size', ' 16\" small', ' 65 cm (25\")',\n",
       "       ' 64 cm (25\")', ' 66.81 x 25.94 x 41.27', ' 19\" Medium',\n",
       "       ' 21\" large', ' 19\" large', ' 53', ' Reg', ' Electric bike',\n",
       "       ' 20inch', ' 16.5”', ' 18inches', ' 15 in', ' 62 cm',\n",
       "       ' Large, 19\"', ' custom', ' not applicable', ' 54 cm, Medium',\n",
       "       ' 12\" Wheel', ' Wheels-18,20,26\"', ' not sure', ' 19.5\" Large',\n",
       "       ' For riders 5’8” – 6’8”', ' 57 cm', ' 53 cm', ' XS',\n",
       "       ' Medium 17.5 inch', ' Small 15.5 inch', ' Small 14 inch',\n",
       "       ' Small 15 inch', ' Large 19 inch', ' Small Medium 41cm',\n",
       "       ' Extra Large 21.5 inch', ' Medium/Large 56cm', ' Kids 12',\n",
       "       ' 65x27x46\" unfolded', ' 55', ' No', ' Tires 26 - 24 etc.',\n",
       "       ' 33 inch Motobecane', ' 20 Inch', ' 14” wheels',\n",
       "       ' Xl, Small, and Meduim', ' triangle', ' 29\" Big BMX',\n",
       "       ' 60 cm, 60 cm, 56 cm', ' 68mm', ' balance bike', ' M?', ' 12',\n",
       "       ' KIDS', ' 20.5 TT', ' Kids 16”', ' 15.5 in frames',\n",
       "       ' Two bikes, 2” hitch', ' 58cm full carbon', ' *', ' 22.5”, XL',\n",
       "       ' 21\" top tube', ' 23 inches', ' 57 cm large', ' 54”  ???',\n",
       "       ' 62 in long', ' 56 cm, Large', ' 18 (46cm)', ' 19\" - 21\"',\n",
       "       ' 44.45 cm 17.5 in?', ' 000000', ' --', ' 19” and 21”',\n",
       "       ' Approx 38 inches', ' 12 in', ' 24-26', ' XXS'], dtype=object)"
      ]
     },
     "execution_count": 967,
     "metadata": {},
     "output_type": "execute_result"
    }
   ],
   "source": [
    "df['frame size'].unique()"
   ]
  },
  {
   "cell_type": "code",
   "execution_count": 968,
   "metadata": {},
   "outputs": [],
   "source": [
    "def fix_fs(x):\n",
    "    if pd.isna(x):\n",
    "        return 'unknown'\n",
    "    numbers = re.findall(r'\\d+', x)\n",
    "    if len(numbers) == 0:\n",
    "        if 'medium' in x.lower():\n",
    "            return 2\n",
    "        elif 'large' in x.lower():\n",
    "            return 3\n",
    "        elif 'small' in x.lower():\n",
    "            return 1\n",
    "        else:\n",
    "            return 'unknown'\n",
    "    else:\n",
    "        if '\"' or \"'\" or 'inches' or 'inch' or 'in' in x.lower(): #it's in inches\n",
    "            size = float(numbers[0]) # assume it's the first number\n",
    "            if size < 16:\n",
    "                return 1\n",
    "            if size > 19:\n",
    "                return 3\n",
    "            else:\n",
    "                return 2\n",
    "        else: #cm\n",
    "            size = float(numbers[0])\n",
    "            if size < 53:\n",
    "                return 1\n",
    "            if size > 56:\n",
    "                return 3\n",
    "            else:\n",
    "                return 2\n",
    "\n",
    "df['frame size'] = df['frame size'].apply(fix_fs)"
   ]
  },
  {
   "cell_type": "code",
   "execution_count": 969,
   "metadata": {},
   "outputs": [
    {
     "data": {
      "text/plain": [
       "array(['unknown', 2, 3, 1], dtype=object)"
      ]
     },
     "execution_count": 969,
     "metadata": {},
     "output_type": "execute_result"
    }
   ],
   "source": [
    "df['frame size'].unique()"
   ]
  },
  {
   "cell_type": "code",
   "execution_count": 970,
   "metadata": {},
   "outputs": [
    {
     "data": {
      "text/plain": [
       "array([nan, ' suspension fork (hardtail)', ' none (rigid)',\n",
       "       ' other/unknown', ' frame and fork (full suspension)'],\n",
       "      dtype=object)"
      ]
     },
     "execution_count": 970,
     "metadata": {},
     "output_type": "execute_result"
    }
   ],
   "source": [
    "df['suspension'].unique()"
   ]
  },
  {
   "cell_type": "code",
   "execution_count": 971,
   "metadata": {},
   "outputs": [],
   "source": [
    "def fix_s(x):\n",
    "    if pd.isna(x):\n",
    "        return 0\n",
    "    if 'fork' in x.lower():\n",
    "        return 1\n",
    "    else:\n",
    "        return 0\n",
    "\n",
    "df['suspension'] = df['suspension'].apply(fix_s)"
   ]
  },
  {
   "cell_type": "code",
   "execution_count": 972,
   "metadata": {},
   "outputs": [
    {
     "data": {
      "text/plain": [
       "array([0, 1], dtype=int64)"
      ]
     },
     "execution_count": 972,
     "metadata": {},
     "output_type": "execute_result"
    }
   ],
   "source": [
    "df['suspension'].unique()"
   ]
  },
  {
   "cell_type": "code",
   "execution_count": 973,
   "metadata": {},
   "outputs": [
    {
     "data": {
      "text/plain": [
       "array([nan, ' 26 in', ' other/unknown', ' 12 in', ' 24 in', ' 20 in',\n",
       "       ' 27 in', ' 700C', ' 25 in', ' 29 in', ' 14 in', ' 16 in',\n",
       "       ' 10 in', ' 650B', ' 18 in', ' 27.5 in', ' 28 in', ' 26.5 in',\n",
       "       ' 650C'], dtype=object)"
      ]
     },
     "execution_count": 973,
     "metadata": {},
     "output_type": "execute_result"
    }
   ],
   "source": [
    "df['wheel size'].unique()"
   ]
  },
  {
   "cell_type": "code",
   "execution_count": 974,
   "metadata": {},
   "outputs": [],
   "source": [
    "def fix_ws(x):\n",
    "    if pd.isna(x):\n",
    "        return 'unknown'\n",
    "    if '700' in x.strip():\n",
    "        return 29\n",
    "    if '650' in x.strip():\n",
    "        return 26\n",
    "    numbers = re.findall(r'\\d+', x)\n",
    "    if len(numbers)==0:\n",
    "        return 'unknown'\n",
    "    else:\n",
    "        if int(numbers[0]) > 30:\n",
    "            return 'unknown'\n",
    "        else:\n",
    "            return int(numbers[0])\n",
    "\n",
    "df['wheel size'] = df['wheel size'].apply(fix_ws)"
   ]
  },
  {
   "cell_type": "code",
   "execution_count": 975,
   "metadata": {},
   "outputs": [
    {
     "data": {
      "text/plain": [
       "array(['unknown', 26, 12, 24, 20, 27, 29, 25, 14, 16, 10, 18, 28],\n",
       "      dtype=object)"
      ]
     },
     "execution_count": 975,
     "metadata": {},
     "output_type": "execute_result"
    }
   ],
   "source": [
    "df['wheel size'].unique()"
   ]
  },
  {
   "cell_type": "code",
   "execution_count": 976,
   "metadata": {},
   "outputs": [
    {
     "data": {
      "text/plain": [
       "array([nan, ' excellent', ' new', ' good', ' salvage', ' like new',\n",
       "       ' fair'], dtype=object)"
      ]
     },
     "execution_count": 976,
     "metadata": {},
     "output_type": "execute_result"
    }
   ],
   "source": [
    "df['condition'].unique()"
   ]
  },
  {
   "cell_type": "code",
   "execution_count": 977,
   "metadata": {},
   "outputs": [],
   "source": [
    "def fix_c(x):\n",
    "    if pd.isna(x):\n",
    "        return 'unknown'\n",
    "    x = str(x)\n",
    "    if 'good' in x:\n",
    "        return 3\n",
    "    if 'fair' in x:\n",
    "        return 2\n",
    "    if 'salvage' in x or 'poor' in x:\n",
    "        return 1\n",
    "    if 'new' or 'excellent' in x:\n",
    "        return 4\n",
    "    \n",
    "    return 'unknown'\n",
    "\n",
    "\n",
    "df['condition'] = df['condition'].apply(fix_c)"
   ]
  },
  {
   "cell_type": "code",
   "execution_count": 978,
   "metadata": {},
   "outputs": [
    {
     "data": {
      "text/plain": [
       "array(['unknown', 4, 3, 1, 2], dtype=object)"
      ]
     },
     "execution_count": 978,
     "metadata": {},
     "output_type": "execute_result"
    }
   ],
   "source": [
    "df['condition'].unique()"
   ]
  },
  {
   "cell_type": "code",
   "execution_count": 979,
   "metadata": {},
   "outputs": [
    {
     "data": {
      "text/plain": [
       "array([nan, ' none', ' other', ' throttle', ' pedal assist'], dtype=object)"
      ]
     },
     "execution_count": 979,
     "metadata": {},
     "output_type": "execute_result"
    }
   ],
   "source": [
    "df['electric assist'].unique()"
   ]
  },
  {
   "cell_type": "code",
   "execution_count": 980,
   "metadata": {},
   "outputs": [],
   "source": [
    "def fix_ea(x):\n",
    "    if pd.isna(x):\n",
    "        return 0\n",
    "    x = str(x)\n",
    "    if 'other' in x or 'none' in x:\n",
    "        return 0\n",
    "    return 1\n",
    "\n",
    "df['electric assist'] = df['electric assist'].apply(fix_ea)"
   ]
  },
  {
   "cell_type": "code",
   "execution_count": 981,
   "metadata": {},
   "outputs": [
    {
     "data": {
      "text/plain": [
       "array([0, 1], dtype=int64)"
      ]
     },
     "execution_count": 981,
     "metadata": {},
     "output_type": "execute_result"
    }
   ],
   "source": [
    "df['electric assist'].unique()"
   ]
  },
  {
   "cell_type": "code",
   "execution_count": 982,
   "metadata": {},
   "outputs": [
    {
     "data": {
      "text/plain": [
       "array([nan, ' Thule', ' BodyKore', ' Trek', ' Huffy', ' Diamondback',\n",
       "       ' joystar', ' critical', ' huffy', ' SE Bikes', ' Saris',\n",
       "       ' Royce Union, Huffy', ' Kent', ' Real tree', ' Cyberbike',\n",
       "       ' all makes', ' NS Bikes', ' Fuji', ' Allen', ' Schwinn', ' Sun',\n",
       "       ' Marin', ' Sole', ' Specialized', ' Life Fitness, Cybex, Hammer',\n",
       "       ' Yakima', ' HUSQVARNA', ' Gatormade Trailers', ' roadmaster',\n",
       "       ' Orbea', ' Bikemate', ' Suzuki', ' Viathon', ' Harley Davidson',\n",
       "       ' Tony Hawk', ' Scott', ' Stamina', ' central bike', ' Litespeed',\n",
       "       ' Jamis', ' mongoose', ' Rollfast', ' Giant', ' Windsor',\n",
       "       ' Coleman', ' Rad Power Bikes', ' Maxxhaul', ' Dynacraft',\n",
       "       ' grabber', ' Sears, JC Higgins', ' Salsa', ' Rad Power Bike',\n",
       "       ' BMX', ' Hollywood', ' Triton', ' CUB CADET', ' BASS CAT',\n",
       "       ' hotwheels', ' Charge Bikes', ' Free Spirit', ' All', ' Gibson',\n",
       "       ' Bjorn', ' Lamar Trailers', ' Yamaha', ' sixthreezero',\n",
       "       ' Rock Solid Cargo', ' Road Gear', ' sears', ' Schwinn Paramount',\n",
       "       ' Polaris', ' Load Trail', ' Sears and Roebuck', ' Nishiki',\n",
       "       ' Adventurer', ' BOBCAT', ' LOWE', ' Venom', ' Terry', ' Azonic',\n",
       "       ' Kawasaki', ' Fulton', ' FORD  OEM', ' Sunny Health and Fitness',\n",
       "       ' SCHWINN', ' KENT', ' Kent Bicycles', ' Townie 3 light 6061',\n",
       "       ' kawasaki', ' Peloton', ' HJC & Viking', ' T-bag', ' Dyno Jet',\n",
       "       ' Bruno Wisc.', ' Swchinn', ' BMW', ' Honda', ' MISC',\n",
       "       ' Assorted makers', ' Club Car EzGo Western Yamaha', ' Worksman',\n",
       "       ' Trail-a-Bike', ' Dyno Kustom Kruiser Frame', ' Earl by Trek',\n",
       "       ' Firmstrong', ' CST tires', ' Black Widow', ' SE RACING BIKES',\n",
       "       ' MANY', ' Magnum', ' any', ' Bell', ' Bmx', ' Kona', ' Vtuvia',\n",
       "       ' All City', ' Your Zone', ' Fox', ' HOLLYWOOD', ' Miyata',\n",
       "       ' Minnesota Framed', ' Woom', ' ANZA', ' Ridley', ' CMXRT',\n",
       "       ' Harley', ' Kettler', ' Bicycoo', ' Miir', ' Garyfisher',\n",
       "       ' Univega', ' Dutch Dog Design', ' Keno', ' BOB', ' Tunturi',\n",
       "       ' TINY HOUSE COTTAGE', ' Mountain 2 Sea', ' Turner', ' YT', ' REI',\n",
       "       ' Cannondale', ' Novara', ' Chipmunk', ' Norco', ' Mavic',\n",
       "       ' Surly', ' specialized', ' Rocky Mountain', ' Colony',\n",
       "       ' Diamond Back', ' Burley', ' Cogburn', ' Basil', ' REI CO-OP',\n",
       "       ' Topeak', ' framed', ' Various', ' Canyon', ' Bianchi',\n",
       "       ' FitBikeCo', ' bike pro USA', ' Bob', ' TOWSMART TRAILERS',\n",
       "       ' Sunny', ' TOW SMART TRAILERS', ' National Cycle', ' xspec',\n",
       "       ' KONA', ' Haro', ' trek', ' chevy gmc', ' Centurian & Shogun',\n",
       "       ' Juiced Bikes', ' Rad Bikes', ' Hot Cams', ' Ultranautics',\n",
       "       ' PHAT', ' Innovate/Eagle', ' Unknown', ' Motobecane',\n",
       "       ' Pebbled Textured Purse/Backpack', ' Avalon', ' Rsi',\n",
       "       ' Alpinestars', ' Rice', ' Mossi', ' honda', ' BH Bikes', ' FOBO',\n",
       "       ' Niner Bikes', ' Ancheer Vivi', ' Shark', ' Sherco', ' TREK',\n",
       "       ' Guant', ' Polygon custom e bike', ' Electra', ' Mongoose',\n",
       "       ' schwinn', ' Kenda', ' On It Bikes', ' Raleigh', ' REAL RYDER',\n",
       "       ' Swagtron', ' SOUL FAST ELECTRIC BIKES', ' Pinarello', ' TransIt',\n",
       "       ' GenZe', ' See description of 3 bikes', ' kent', ' Sportrack',\n",
       "       ' Raleigh, Giant', ' sun', ' Huffy/Cannondale',\n",
       "       ' like another track', ' Allen Sports', ' Seven Cycles',\n",
       "       ' unbranded', ' Aventon', ' un', ' viking', ' Santa Cruz', ' FELT',\n",
       "       \" O'Neal\", ' Bilt', ' Weslo', ' Nordic Track 400', ' Peugeot',\n",
       "       ' Fitness Reality', ' WOLFE', ' Barracuda', ' BodyRider',\n",
       "       ' A+ Rating with the BBB', ' Osprey', ' assos', ' Nordic Track',\n",
       "       ' Honda,', ' yamaha', ' Fox/Cannondale', ' lectric',\n",
       "       ' Diamondback fitness', ' BAFANG', ' Gilmour bikes',\n",
       "       ' Crust bikes', ' Polygon', ' ANY', ' Giant anthem', ' Mercury',\n",
       "       ' Mongoose Mountain Bikes', ' USPS', ' StreetStrider',\n",
       "       ' RS Helmets', ' Raliegh', ' Bikes', ' Pedago', ' Harley-Davidson',\n",
       "       ' Pedego', ' Athletico', ' TEXAS PRIDE TRAILERS', ' resse',\n",
       "       ' THULE', ' Recon Rack', ' custom', ' Hollywood Racks',\n",
       "       ' north woods', ' Extreme Max', ' Gt chase', ' YardStash', ' look',\n",
       "       ' FirstGear', ' Lifecycle 9500', ' electro', ' Exercise',\n",
       "       ' amerixan ironhorse', ' AMERICA!', ' CYCRA', ' Leonpets',\n",
       "       ' Hyper', ' Star Trac', ' Kuat', ' Revi Bikes',\n",
       "       ' Car bicycle rack', ' G T', ' SE', ' Murray', ' giant',\n",
       "       ' Pletscher', ' Niner', ' cannondale schwinn', ' Livestrong',\n",
       "       ' BCA', ' Bell Disney', ' Ibis', ' Borealis', ' rossingol e-track',\n",
       "       ' Ducati', ' Indian', ' Honda 1998', ' Moto Guzzi',\n",
       "       ' Harley Suzuki Yamaha', ' Harley Davison', ' Harley/Suzuki?',\n",
       "       ' Metzeler', ' Lifespan', ' O zone', ' Mongoose/Kent', ' Sonders',\n",
       "       ' Roadmaster', ' L&O Manufacturing', ' DIRTRACKS', ' Felt', ' N/A',\n",
       "       ' Iron Bull', ' Pit Bull,  Dover, TN', ' YAKIMA', ' BOBCATC',\n",
       "       ' BENNINGTON', ' Cherokee', ' Marlin', ' Curt', ' Malone',\n",
       "       ' East Texas', ' Schwinn IC4', ' Briggs and Stratton', ' Tecumseh',\n",
       "       ' Pivot Works', ' GT Junior', ' Pace', ' Stealth Electric Bikes',\n",
       "       ' Viper', ' ThinkGrow', ' Bodyworks, LLC', ' Healtech',\n",
       "       ' pool tables', ' Triton Trailers', ' PLAYCRAFT TRAILERS',\n",
       "       ' SUMMIT TRAILER MFG', ' Honda Polaris Yamaha',\n",
       "       ' KARAVAN TRAILERS', ' Hufy', ' Centurion', ' HORIZON B600 eTRACK',\n",
       "       ' Cervelo', ' Hard bikes', ' Haro & redline', ' Volkswagen',\n",
       "       ' Hollywood racks', ' SARIS', ' Tusk', ' Diamomd Back',\n",
       "       ' JC Higgins', ' Commencal', ' GIANT', ' multi', ' Kids',\n",
       "       ' CycleOps', ' Schwin', ' YAMAHA', ' Apex',\n",
       "       ' SOUTHLAND TRAILER CORP', ' RUNT', ' Ultra Motor', ' Racor',\n",
       "       ' Thule Sportrack', ' Gazelle', ' Keiser M3i', ' Schwinn Raliegh',\n",
       "       ' BMC', ' Jennifer Garant ART', ' Bottecchia', ' harley davidson',\n",
       "       ' MPEX', ' Fox, Thor, HJC', ' Surface 604', ' strider',\n",
       "       ' GIANT TCR ZERO', ' Giant Explorer E+4,', ' Eahora',\n",
       "       ' Murray Higgins', ' HUFFY', ' Specialized, KHS', ' State Bikes',\n",
       "       ' Motion Madness', ' Yakups', ' raceface', ' Cleary', ' GT',\n",
       "       ' lYAKIMA', ' Free agent', ' Gsc,KKK,OGPURP,ICE CREAM',\n",
       "       ' Callen Camper', ' Intense', ' la jolla', ' great divide',\n",
       "       ' Icon', ' Dahon', ' Surly kona Fuji trek etc.',\n",
       "       ' shimano deity wtb', ' Novara Randonee', ' hydro epic',\n",
       "       ' Sportneer', ' Mongoose Pro.', ' FITBIKE Co', ' Lectric Bike',\n",
       "       ' RALEIGH', ' Big Shot Bikes', ' Greenline', ' Raleigh Bikes',\n",
       "       ' woom', ' 20+ Brands!', ' DMASUM', ' Christiania Bikes', ' Hebba',\n",
       "       ' amf', ' SE BIKES', ' schrader', ' 3G bikes', ' INFINITY BIKES',\n",
       "       ' Dyno', ' Yamee', ' Retrospec', ' Enduro', ' Softride',\n",
       "       ' All Makes', ' Kogu Masamune', ' Copilot',\n",
       "       ' Many used hybrid bikes', ' Many makes', ' Specialized + Trek',\n",
       "       ' yakima', ' Xport', ' Infinity', ' Reese', ' Shwinn / Next',\n",
       "       ' Fit', ' Stampede bikes', ' Trek etc', ' Eastern', ' Se bikes',\n",
       "       ' Bassi', ' KHS', ' DKY Mountain Bikes', ' VARITY', ' state bikes',\n",
       "       ' Flying Bikes , New York', ' DAHON', ' Tamarack',\n",
       "       ' Drummer bikes', ' STOLEN BIKES', ' GENZE', ' Greenstar Bikes',\n",
       "       ' Schwinn/Specialized/Mariushi', ' Masi', ' Sorrento', ' infinity',\n",
       "       ' Rubbermaid', ' Bike trainer', ' Landwave', ' MISSION CYCLES',\n",
       "       ' coachmen', ' KURYAKYN', ' Triple Crown', ' Nashiki',\n",
       "       ' GARY FISHER', ' mongoose and road master', ' huffy and schwin',\n",
       "       ' Kracken Adventure Bikes', ' shwin', ' Next', ' Swagman',\n",
       "       ' topeak', ' Varies', ' Mowen, Delta, Badger, Trek', ' Pingel',\n",
       "       ' OMNI', ' Soul', ' Craftsman', ' Rupp', ' Curt mfg',\n",
       "       ' Graber Outback', ' Lego', ' Madrax', ' Trek and Mongoose',\n",
       "       ' FIREFLY', ' Great Divide', ' Scwinn', ' bikes',\n",
       "       ' Se Bikes    17', ' Hoffman', ' Outback', ' Falter',\n",
       "       ' Public Bikes', ' Trek Schwinn Specialized', ' All.', ' various',\n",
       "       ' schwa', ' Crud', ' ALLEN', ' Zize Bikes', ' Priority Bikes',\n",
       "       ' Scwhinn', ' IZIP', ' Woom Bikes', ' Bulls', ' S22I', ' SCOTT',\n",
       "       ' Magna', ' RALEIGH  & others', ' HOLIDAY', ' Haro dyno redline',\n",
       "       ' RAD Power Bikes', ' Gary Fisher', ' giant, khs, takara',\n",
       "       ' Northern Tool', ' Skyl E', ' Miscellaneous', ' Virtue',\n",
       "       ' varius', ' Mercier', ' Arcam', ' Polytronics', ' Magnavox',\n",
       "       ' Bic', ' Civia', ' Krom', ' sears, bell',\n",
       "       ' Mongoose, Huffy, Hyper, Bayside,', ' Man goose mounting bike',\n",
       "       ' fuji', ' ryder bikes', ' Razor', ' Hyper and Magna',\n",
       "       ' DRC Trailer & Sport', ' River Road', ' Life Fitness',\n",
       "       ' Exerpeutic', ' Allen sports', ' se bikes', ' SHWINN',\n",
       "       ' Se Bikes', ' Carolina Hurricanes.', ' VOSS bikes', ' Multiple',\n",
       "       ' S&M Bikes', ' Priority', ' Delta', ' Lifefitness', ' all',\n",
       "       ' Ross', ' Keiser', ' Mantis Bike Bicycle frame', ' Liv',\n",
       "       ' Pit bull', ' Del Sol', ' Vulcan', ' OnGuard', ' Montague',\n",
       "       ' Jamies', ' LandWave', ' Cinelli', ' Universal', ' see above',\n",
       "       ' Loadstar', ' stolen brand/eastern', ' Nishiki/Diamondback',\n",
       "       ' Santana', ' Bridgestone', ' SWAGMAN', ' Knicks NBA Lamp',\n",
       "       ' THRUSTER', ' Quintana Roo', ' Arcade1Up', ' Sony', ' Lotus',\n",
       "       ' Jack-It', ' DiamondBack', ' trek schwinn raleigh giant',\n",
       "       ' schwin, Huffy', ' Trek,Cannondale,GT',\n",
       "       ' Haro GT Dyno Mongoose SE', ' trek giant diamondback',\n",
       "       ' trek giant gary fisher', ' GT Bikes',\n",
       "       ' fuji trek giat specialized', ' Kazam',\n",
       "       ' trek giant fuji schwinn raleigh', ' Velosolex',\n",
       "       ' trek giant Bianchi vitus', ' raleigh trek schwinn giant',\n",
       "       ' Coaster', ' Shimano', ' Metakoo', ' NYC Bikes',\n",
       "       ' trek fuji giant raleigh', ' RAD POWER BIKES',\n",
       "       ' jamis trek giant schwinn', ' trek fuji panasonic', ' James',\n",
       "       ' SportRack', \" I don't know\", ' Schwinn Spin Bikes',\n",
       "       ' collective Bikes', ' NEXT', ' Reebok', ' Rovio',\n",
       "       ' ROADMASTER 24\" MOUNTAIN BIKE', ' NEXT/HELLO KITTY/',\n",
       "       ' HELLO KITTY 18\" GIRLS BIKE', ' Chillafish', ' Mc', ' Dunlop',\n",
       "       ' Schwinn/ Currie', ' SFD Industries', ' Mini', ' Kachina Bikes',\n",
       "       ' Bri-Mar', ' Hoffman Bikes', ' multiple', ' Spawn',\n",
       "       ' harley dasvidson', ' SCHWINN--HUFFY--ECT', ' All kind', ' FSA',\n",
       "       ' Jack LaLanne', ' Mfi', ' Motoos', ' jamis', ' NordicTrack',\n",
       "       ' Dexter Axle.', ' Biria', ' Fairdale', ' Addmotor', ' Playskool',\n",
       "       ' ACCEL', ' Trek/schwinn', ' Gt', ' Hand Mand', ' Chapter 2',\n",
       "       ' Iron Bull Trailers', ' Vianelli', ' green', ' Brooklyn',\n",
       "       ' Fuji, Trek, Raleigh', ' Mongoose / ozone', ' Jakks Pacific',\n",
       "       ' TFD', ' Solvit', ' Specialized 700c/29', ' VanMoof', ' YGJT',\n",
       "       ' allen', ' Merlin', ' Independent Fabrications', ' Storck',\n",
       "       ' Guru', ' SE Racing', ' Public', ' Stumpjumper', ' R&G Racing',\n",
       "       ' 24 INCH WHEEL, TIRE AND TUBE', ' eJoe', ' Greg Lemond', ' Old',\n",
       "       ' Montrose-roadmaster  etc', ' Ace Bikes', ' Tourmaster',\n",
       "       ' Guardian Bikes', ' Rack', ' la joya', ' Mountain',\n",
       "       ' RadPower Bikes', ' Cannondale and Suteki', ' Ikuram',\n",
       "       ' Joy Star Bikes', ' Trek/Adams', ' Doufit', ' Royalbaby',\n",
       "       ' unisky', ' Argon 18', ' CATL', ' COZIWOW', ' Mitas',\n",
       "       ' hollywood racks', ' Lemond Tourmalet', ' raleigh', ' Pelaton',\n",
       "       ' suziki', ' OC Ramps', ' Swytch', ' Coleman Utah With slide out',\n",
       "       ' Pivot', ' Redline', ' Bowflex', ' Ride 1up', ' marcy',\n",
       "       ' Felt Bikes', ' Ktm', ' Saris Bike Bicycle Rack',\n",
       "       ' Yakima Rack Co.', ' Hitch Mount Bike Rack', ' Fiore', ' Schwann',\n",
       "       ' Slider Corp', ' Land Ryder', ' Wilderness Trail Bikes', ' AMF',\n",
       "       ' Spieth', ' Yeah', ' Scott Bikes', ' BELL', ' LeMond', ' Motus',\n",
       "       ' Norco, Elite , etc', ' LandRover'], dtype=object)"
      ]
     },
     "execution_count": 982,
     "metadata": {},
     "output_type": "execute_result"
    }
   ],
   "source": [
    "df['make / manufacturer'].unique()"
   ]
  },
  {
   "cell_type": "code",
   "execution_count": 983,
   "metadata": {},
   "outputs": [],
   "source": [
    "def fix_mm(x):\n",
    "    if pd.isna(x) or 'unknown' in x.lower():\n",
    "        return 0\n",
    "    return 1\n",
    "\n",
    "df['make / manufacturer'] = df['make / manufacturer'].apply(fix_mm)"
   ]
  },
  {
   "cell_type": "code",
   "execution_count": 984,
   "metadata": {},
   "outputs": [
    {
     "data": {
      "text/plain": [
       "array([0, 1], dtype=int64)"
      ]
     },
     "execution_count": 984,
     "metadata": {},
     "output_type": "execute_result"
    }
   ],
   "source": [
    "df['make / manufacturer'].unique()"
   ]
  },
  {
   "cell_type": "code",
   "execution_count": 985,
   "metadata": {},
   "outputs": [
    {
     "data": {
      "text/plain": [
       "array([nan, ' 961XT Speedway', ' G703', ' 4300', ' Comfort tek', ' cub',\n",
       "       ' So Cal Flyer', ' Grand Slam/4', ' See description', ' Four Bike',\n",
       "       ' Unknown', ' Holy', ' Ace 24', ' Panther', ' Bobcat Trail 4',\n",
       "       ' SB900', ' Ruby Pro', ' Dr. Tray plus one', ' ZERO TURN MOWER',\n",
       "       ' Hotshot/ Gooseneck Trailer', ' Hardrock', ' power', ' Alma Cup',\n",
       "       ' Hotrock', ' Gxsr', ' M.1', ' Sportster SuperLow XL883',\n",
       "       ' Duosonic 8053-38', ' CR1 Team', ' Elite', ' ben hur',\n",
       "       ' Sabre Titanium', ' Ariel', ' Satellite', ' FastRoad SLR',\n",
       "       ' Rascal', ' Wellington', ' CT200AB', ' RadRunner2', ' grabber',\n",
       "       ' 8002114', ' Campeon', ' Rad Rover', ' Duo glide', ' MONGOOSE',\n",
       "       ' 914XT', ' HR8000', ' 179 TRX', ' LT 42', ' PANTERA', ' na',\n",
       "       ' Radwagon Caboose', ' Breeze', ' All', ' 83\" x 14\\'', ' WR 250F',\n",
       "       \" Around the Block Men's Cruiser\", \" 7' x 16' x 7'\",\n",
       "       ' Super Cycle Shuttle', ' gamefisher', ' Series 50', ' General',\n",
       "       ' COMPACT', ' LEGACY', ' Sport Bike Rear Wheel Stand',\n",
       "       ' Liberator', ' Outlaw', ' KZ650 CSR',\n",
       "       ' F250 F350 F450 F550 F-550', ' SF-RW5515', ' SHINE',\n",
       "       ' TEMPEST PRO 20', ' LaJolla Classic Cruiser', ' Electra',\n",
       "       ' vulcan', ' Stump Jumper', ' Bike Trailer', ' 16-049', ' 903202',\n",
       "       ' Chariot', ' R1200RT', ' CB750', ' NA', ' BENNINGTON',\n",
       "       ' PowerWise Delta-q PowerDrive', ' News', ' Original Folder One',\n",
       "       ' Dyno Kustom Kruiser', ' Earl 57 cm.',\n",
       "       ' Urban Girl Beach Cruiser', ' Bike Seat', ' CARACAL',\n",
       "       ' GX 240 and 270', ' 50530', ' Vstar 650', ' BRONCO', ' MANY',\n",
       "       ' any', ' Dry Bags', ' Focus', ' 4 Bike Hitch Mount', ' Honzo ESD',\n",
       "       ' SF20 and SK20', ' SJ26', ' Nazz Elegant / 82780', ' City Line',\n",
       "       ' Schwinn', ' Koen and Ellm', ' Sentinel', ' SINGLE BIKE MOUNT',\n",
       "       ' 2022 Farley 7', ' SN100', ' Three Ten', ' Heavy Duty', ' e bike',\n",
       "       ' 2', ' Blondie', ' Iguana', ' Helium', ' Cascade',\n",
       "       ' mountain bike', ' Cycleops', ' Bingo', ' Barbie', ' Lip gloss',\n",
       "       ' Bmx', ' Twilight twist', ' Sweet', ' Gamma ray', ' Fatboy',\n",
       "       ' Large Novel', ' Ponderosa', ' Yak', ' cardiofit s30',\n",
       "       ' country cottage tiny house', ' a10', ' Bell', ' TT500E',\n",
       "       ' Cyclosis', ' Jeffsy 27.5', ' REV 16 kids bike', ' F700', ' Pik',\n",
       "       ' Balance', ' Makena', ' Cherokee', ' Coaster', ' Crossmax Pro',\n",
       "       ' Cross Check', ' SuperX', ' Flare', ' Dawg Primo', ' 800',\n",
       "       ' High Timber', ' Premise', ' Bones', ' Release 5C', ' Travoy',\n",
       "       ' CB4', ' Xr100', ' DRT 1.1', ' Splice', ' Dual-Touch Bike Stand',\n",
       "       ' Cutthroat Apex 1', ' Ultimate CF SL 8', ' Tourist', ' 700',\n",
       "       ' PowerWise Delta-q PowerDrive +', ' STR', ' Sidewinder',\n",
       "       ' Fuel Ex 5', ' Trailer', ' Pipeline', ' Mountain Frame Bag',\n",
       "       ' StreetShield/N2560', ' Roubaix', ' Synapse', ' STINKY DEE-LUXE',\n",
       "       ' CT 200U', ' Edmonda', ' Steamroller', ' Infinity',\n",
       "       ' MODERN DUAL LOFT CARAVAN', ' Silverado tahoe yukon suburban',\n",
       "       ' Scorpion X', ' SwingAway 4', ' 7.48 mm', ' Wetbike', ' Receiver',\n",
       "       ' RockHopper', ' Phat', ' Jet Boat', ' unknown', ' CBR1000',\n",
       "       ' Z50', ' River Ridge Personal Organizer', ' Waketoon',\n",
       "       ' Expedition', ' Catalina 2385 Quad Lounge',\n",
       "       ' Catalina Platinum Funship', ' Catalina Cruise',\n",
       "       ' Steath 5x8 utility', ' goldwing GL 1800', ' CT90 Trail',\n",
       "       ' AC Power', ' Atom X emotion', ' Source Eleven',\n",
       "       ' RIP 9 RDO 4 star X01', ' Road', ' E BIKE', ' Wild', ' E',\n",
       "       ' Rad Rover Step Thru', ' Recumbent', ' Ct90', ' Soul 965',\n",
       "       ' Malus', ' Sahara', ' coffee and cream', ' 3 Bike',\n",
       "       ' Venture 3.0', ' ABF8 Indoor Cycle', ' EB7 Plus Bike',\n",
       "       ' SONIC STOMPER SABER', ' Razah 550', ' Bikes Aloft 2', ' e101',\n",
       "       ' Precaliber', ' shock wave', ' BC/m300', ' Deelite', ' 1111',\n",
       "       ' S545', ' Scalpel Si Carbon 2', ' Odonata', ' Aventure', ' un',\n",
       "       ' Tall Boy C', ' Czar', ' rockhopper', ' ZW5', ' Series 5',\n",
       "       ' VT two', ' AirDyne', ' Airdyne', ' Pursuit 720D', ' S-Works',\n",
       "       ' Commercial', ' Jubilee DLX', ' TUCANA', ' Dos Equis',\n",
       "       ' 13 plus yrs in Business', ' Siskin 8', ' S22i', ' 1500',\n",
       "       ' yz125', ' 510lc', ' Bbs02', ' 2 bikes', ' ANY', ' Roscoe ebike',\n",
       "       ' E bike', ' CrossCurrent S', ' Fz07', ' RS-8661', ' 230',\n",
       "       ' Sabre', ' Scooters', ' Plus', ' 1 1/2” hitch style',\n",
       "       ' Collegiate Suburban', ' Trail Tracker',\n",
       "       ' All touring bikes, trike.', ' City Commuter',\n",
       "       ' GOOSENECK DUMP TRAILER', ' FX6 Sport',\n",
       "       ' Full Swing Hitch Mount Bike Rack', ' Scenic',\n",
       "       ' Long Haul Trucker', ' RACEWAY PRO 2 PLATFORM  CARRIER',\n",
       "       ' Superbones', ' Six13', ' Domane 5.2', ' 4',\n",
       "       ' 40’ enclosed trailer', ' Model B3 Baja', ' IV', ' Riding pants',\n",
       "       ' 9500HR', ' bike', ' Bike', ' texas chopper', ' Tarmac', ' TCT',\n",
       "       ' Shadow', ' shadow phantom 750cc', ' SWORKS', ' AMERICA!',\n",
       "       ' PROBEND', ' Blade ION', ' NV 2.0', ' Predator', ' Edostory',\n",
       "       ' Backwoods & Avalanche', ' Revi Bikes - Cheetah',\n",
       "       ' AC Performance Carbon Blue', ' Mesa GSX', ' Lil Ripper',\n",
       "       ' Rad Mission', ' 820 MULTITRACK', ' revolt', ' Sherpa',\n",
       "       ' Twin Leg Kickstand', ' Jet 9', ' m300', ' S-series', ' Bloom',\n",
       "       ' marlin 5', ' Cars', ' Hightower', ' Riprock', ' Mojo HDR',\n",
       "       ' Siskiu D6', ' Moment iNeed Street', ' 130',\n",
       "       ' Cimarron/model S5983TG', ' Glenwood Hybrid Bicycle', ' Echo',\n",
       "       ' Diavel', ' 5455342', ' Pitch Comp 1x', ' Clarity', ' Magna750',\n",
       "       ' Aero 750 Shadow/Spirit?', ' Spirit/Shadow', ' VZ800',\n",
       "       ' VL1500 Intruder', ' Shadow/Aero?', ' Roadking', ' Intruder',\n",
       "       ' VTX?', ' Inner primary case twin cam', ' Vulcan',\n",
       "       ' ME880 Marathon', ' VTX1300', ' Goldwing', ' MeanStreak',\n",
       "       ' 72 tooth', ' FLHTCU', ' R5I', ' Heritage', ' Magna V65',\n",
       "       ' Smart Step', ' 83\" x 20\\' Equipment 14k GVWR', ' Dual Sport 2',\n",
       "       ' 6\\'4\" x 12\\' Single Axle', ' 6\\'4\" x 12\\' Tandem Axle',\n",
       "       ' LAMINAR LIP', ' Trail 9', \" 8.5' x 28'\", ' 102\" x 20\\'',\n",
       "       ' 552RR', ' Bike rack', ' 102\" x 36\\' Gooseneck Flat Deck T',\n",
       "       ' 83\"x20\\' Tilt-N-Go Tandem Axle', ' KLR650',\n",
       "       ' 83\" x 14\\' Sky Blue', ' 96\" x 14\\'', \" 7'x16' Tandem Axle\",\n",
       "       ' 60\" x 10\\'', ' MC Lift', \" 6' x 12'\", ' BIKER BAR', ' PONTOON',\n",
       "       ' 6\\'4\" x 16\\' Tandem Axle', \" 8.5' X 16' Tandem Axle\",\n",
       "       ' Tandem Torsion Axle', \" 8.5' x 20'\", ' TREK MARLIN 7', ' 31089',\n",
       "       ' XtraLight', ' Multi-Use', ' Dump', ' XLH Sportster',\n",
       "       ' schwinn circuit', ' 5.0', ' H30', ' Concours', ' 500DS',\n",
       "       ' Trance X3', ' Pwfwk-t11-521', ' Journey',\n",
       "       ' F-37 Stealth Fighter', ' Model-W',\n",
       "       ' CR125R, 250R, 500R, CRF 450', ' stingray fastback', ' iQSE-1',\n",
       "       ' LTWCI-X', \" 5' X 10' - DUMP\", \" ALPINE 4 - 7' X 18' TA\",\n",
       "       ' Outlaw CRT', \" 13' X 82 STEEL UTILITY\", ' FIT 1281', ' Mesa Le',\n",
       "       ' 13105', ' Lighting McQueen', ' Lemans', ' Limited',\n",
       "       ' B600eTRACK', ' S3', ' LTD-3', ' BMX Back Trail X1',\n",
       "       ' Haro F2series & redline romp', ' Leather tourpac', ' BEAM',\n",
       "       ' Tour pac leather', ' Motomag', ' Fleet Streak', ' R800', ' Gsxr',\n",
       "       ' Meta Power 29 SX XL', ' CYPRESS', ' multi', ' Dover 2.0',\n",
       "       ' Small', ' WHY ZEE', ' HighRoad', ' SL714-14K', ' Clown Bike',\n",
       "       ' A2B', ' Trail Tracker Gorilla', ' PLB-4R', ' Timberjack',\n",
       "       ' BC3-OS', ' Ultimate C380', ' Suburban Sprite', ' Trailfox',\n",
       "       ' Scout', ' 9000', ' trail 55', ' Domane SL7', ' ?',\n",
       "       ' electraglide', ' xr650l', ' XJ-3220', ' Foldable', ' Discover',\n",
       "       ' Jersey, Pants, Boots, Helmet', ' 2021 Rook', ' Ranger',\n",
       "       ' Hybrid', ' Enduro', ' Excalibur 6', ' TCR ZERO', ' 2020 model,',\n",
       "       ' Enduro comp', ' AM200', ' Rail 9.9 X01', ' Epic Expert Carbon',\n",
       "       ' ss', ' San Anselmo', ' TITANIUM', ' Baja Trunk Bike rack',\n",
       "       ' Ellison', ' Traveler', ' Assorted', ' SE 900ss', ' 54000082',\n",
       "       ' pad', ' Owl', ' Crossroads 2.0', ' BMX', ' Liv Enchant',\n",
       "       ' Ambush', ' Diverge', ' hotrock', ' Thule EasyFold XT',\n",
       "       ' Airmada', ' 7005 Espresso', ' YZ450', ' 620', ' Mu 8',\n",
       "       ' Roll Sport', ' Multitrack 720', ' Coco', ' crf 450',\n",
       "       ' modern single loft caravan', ' 3 piece', ' Rustler', ' Crx',\n",
       "       ' Trail runner', ' Juiced City Scrambler', ' XP', ' M50',\n",
       "       ' Suburban / Varsity', ' R5-RD350', ' Express', ' Raleigh Tokul 2',\n",
       "       ' 48v 15Ah', ' 515-0109', ' 3', ' Big Ripper', ' Hebba',\n",
       "       ' stingray', ' OM DURO XL', ' slime tubes', ' 3 G', ' BOSS THREE',\n",
       "       ' Cypress', ' BLOCKS FLYER', ' MOON / Deluxe Glide', ' Beaumont',\n",
       "       ' Specialized FSR', ' SE Draft', ' 26496', ' Lily', ' All Models',\n",
       "       ' Ikeda', ' 100 Navigator Hybrid', ' Child Carrier',\n",
       "       ' MANY Models', ' Many models', ' full swing daddy', ' Slipstream',\n",
       "       ' Various', ' 3 Bikes w/sway cradles', ' 2”', ' Explore',\n",
       "       ' Charger', ' 1000', ' Trunk bike rack', ' Fast Ripper',\n",
       "       ' 2 Biked', ' Le Montreal', ' Urban Soul Single Speed',\n",
       "       ' Hardtail', ' Hotrock 20', ' Many top models', ' Radmssion',\n",
       "       ' DBlocks Red Black/Green Camo', ' Big Ripper, Red Ano',\n",
       "       ' Big Ripper Wood Grain', ' OM Duro XL', ' FlipSide - 4',\n",
       "       ' RadMini Step-Thru - White', ' Jetstrem & Vitasse', ' Noshiki',\n",
       "       ' ZEKE', ' 101', ' EcoCross', ' Radrunner', ' SABER 1000',\n",
       "       ' UNO RISER', ' Huffy Trail Runner', ' PIGGYBACK MK2 TRAILER',\n",
       "       ' catalina', ' Y33 Carbon Frame', ' Schwinn and English Rims',\n",
       "       ' Schwinn Piston 16', ' GRAN', ' Clash race', ' 1.0',\n",
       "       ' Allez E5 Sport Bike', ' Punisher', ' meridian', ' Sunshine Day',\n",
       "       ' Sea Star', ' sea star', ' misty', ' Mirage SL', ' 80630',\n",
       "       ' Supercaliber 9.7', ' ADMIRAL', ' 77901', ' LA.BIKE', ' LA.Bike',\n",
       "       ' Stomper', ' Impasse', ' Madone 6.9', ' 1.1 WSD', ' Roadster II',\n",
       "       ' 2 bike', ' 3 bike', ' 3 Bike carrier', ' Super Joe Pro3',\n",
       "       ' 752015', ' traveler', ' GR116-B', ' Trek 820 & Mongoose Sprint',\n",
       "       ' Model 102S', ' whirl', ' GREEN,BLUE,YELLOW,RED',\n",
       "       ' fat tire alumino', ' Sugarbaby', ' Mountain train', ' Star Wars',\n",
       "       ' Continental', ' Sprint/Continental', ' Super Stars', ' Sprout V',\n",
       "       ' V-Star', ' Mountain, Road', ' cross-fit', ' See pics.', ' hutch',\n",
       "       ' Wheelie Pegs', ' redline hutch gt', ' Alpha', ' Cargo Pakyak',\n",
       "       ' Trekking', ' Motr', ' Crd200', ' Rock creek', ' Rad Runner',\n",
       "       ' Leaf 2.0', ' Continuum Onyx', ' All Bikes', ' GRAND PRIX',\n",
       "       ' Suburban', ' Sports', ' tree', ' V7', ' 78 GS 1000', ' Viper jr',\n",
       "       ' E-MTB', ' various', ' Maricopa', ' Road Glide Ultra', ' S22I',\n",
       "       ' GENIUS', ' Grid Iron', ' Hedgehog', ' Runner 2',\n",
       "       ' Big Honkin Cruiser Bars', ' 26\" Blocks Flyer', ' PK Fat Ripper',\n",
       "       ' SC40', ' Grand Prix', ' electric', ' multiple', ' 515-5001',\n",
       "       ' suburban', ' Radmini', ' Curve One', ' Street Stomper',\n",
       "       ' bike pedals', ' Serpens 20 Limited', ' A real 350', ' Sr 23',\n",
       "       ' ITL 200', ' Venturi 6', ' Kingfield', ' 920', ' Gensis', ' Crs',\n",
       "       ' Crossroads', ' cypress dx', ' Palisades', ' XR-75',\n",
       "       ' absolute 2.0', ' ryder', ' HitchSwitch', ' Micro Force',\n",
       "       ' BM-11', ' Momentum Series Model #10-9006', ' Fullback',\n",
       "       ' 9500 RHR Recumbent', ' YZ250', ' Top tube', ' SR2703', ' 4 bike',\n",
       "       ' 102DN', ' BTM', ' Embark', ' Performer', ' all', ' Europa',\n",
       "       ' M3', ' Triple Cross', ' Mountain bike', ' ADORE', ' Calico',\n",
       "       ' MXR', ' Bullet', ' 9027', ' 2.3c', ' 4616', ' Boston', ' Capri',\n",
       "       ' LWR2', ' Rak n Loc', ' Semper', ' Spoke bikes', ' Revel',\n",
       "       ' see above', ' Berkeley & Absolute', ' Huffy', ' Pueblo/Cobra',\n",
       "       ' F24', ' Pro Miyata', ' Sovereign', ' RB-2', ' World Sport',\n",
       "       ' Polo Jr and other', ' Knicks Basketball', ' One Ten', ' ALL',\n",
       "       ' Kilo', ' Ironman Dave Scott', ' ATX 970', ' Supergoose',\n",
       "       ' Street Fighter', ' PlayStation 5', ' Response', ' Unique',\n",
       "       ' Continental II', ' Double bicycle carrier', ' 1220', ' Tandem',\n",
       "       ' Kalamar LX', ' Freewheel', ' Hutch', ' Goldwing 1500',\n",
       "       ' WILDERNESS TRAIL BIKES', ' CG BIG RIPPER',\n",
       "       ' 2021 Pro Performer 20\"', ' Mike Buff Big Ripper 29\"',\n",
       "       \" Matte Trek Black/Blazin' Orange\", ' Stretch Rack',\n",
       "       ' 350 Venture', ' BR-R7000', ' Trak100',\n",
       "       ' The Ultimate New York Bike', ' City Grounds Big Flyer',\n",
       "       ' Radmini Step Thru 2', ' RadMini4',\n",
       "       ' Rack Roof Bike Carrier SR4882RP', ' Ninja', ' c2', ' Gauntlet',\n",
       "       ' Tamahawk', ' Grit 55', ' Level Cruiser', ' GRANITE PEAK 24\"',\n",
       "       ' PEACE 18\" GIRLS BIKE', ' Status 2.2', ' Ledge 2.1',\n",
       "       ' Rock Candy', ' Big Wheel Trike', ' Outlook', ' 3-Bones',\n",
       "       ' 82 71 2 326 515', ' Venture 933', ' Excursion', ' Pisgah',\n",
       "       ' UTE-612', ' UT-614', ' Sugar Baby- Flatland',\n",
       "       ' Triple Link Pedal System', ' VX', ' FC1800A-PB',\n",
       "       ' VX Cruiser HO', ' FX Cruiser SHO', ' VX Cruiser', ' EX Deluxe',\n",
       "       ' EX Sport', ' V1 Sport', ' VX Limited', ' VX 110 Deluxe',\n",
       "       ' Raiju', ' Electra Loft 7D', ' panhead', ' 552rr', ' COMET',\n",
       "       ' Power Juicer', ' Speedster 20 Disc', ' 50cc', ' Talon', ' TK2',\n",
       "       ' Pista', ' GX4.4 PRO', ' Taj', ' E-bike', ' Bones 2', ' 140404',\n",
       "       ' Alpha 4500', ' boulder', ' 3900', ' Suede', ' 7100', ' octane',\n",
       "       ' 7200', ' 6\\'10\"x20\\' Tandem Axle Carhauler/',\n",
       "       ' 6\\'4\" x 10\\' Single Axle', ' 6\\'4\" x 14\\' Single Axle',\n",
       "       \" 8.5' x 24'\", ' HoldUp', ' 83\" x 16\\' 36\" sides', ' 102\" x 22\\'',\n",
       "       ' 102\" x 40\\'', ' A Frame', ' AO', ' 83\" x 20\\'', ' Corsa',\n",
       "       \" 8.5' X 24' Tandem Axle\", ' 102\" x 36\\'', ' 102\" x 32\\'',\n",
       "       ' 102\" x 42\\'', ' 102\" x 25\\'', \" 6' x 12' Single Axle\",\n",
       "       ' Hei Hei', ' SixFifty 800', ' dolomite', ' 26 inch',\n",
       "       ' Super Le Tour 12.2', ' Point Blank and Del Mar', ' The Tray',\n",
       "       ' Splash', ' Rockhopper/Trek', ' SONIC SABER',\n",
       "       ' Baby Balance Bikes', ' Defy 2', ' Kz', ' Revel Jr', ' Cielo',\n",
       "       ' Crown Jewel', ' Scentron G2', ' Carbonio', ' Z35', ' Tachyon',\n",
       "       ' Fuel EX 9.8 GX', ' Crossroads 2.0 Disc', ' So Cal Flyer 24',\n",
       "       ' Bad Habit Carbon 1 + 27.5er', ' Wahoo 26er',\n",
       "       ' Neko WSD Step Thru', ' 1120 Disc 29er+', ' FX 7.3',\n",
       "       ' Vita Comp Carbon', \" C7i Women's Step Thru\",\n",
       "       ' Vita Expert Carbon Disc', ' Stumpjumper Carbon Coil 6Fattie',\n",
       "       ' Quick 4 Disc', ' Habit 5 Disc 27.5er', ' CR0005BK',\n",
       "       ' COMPLETE FRONT DISC BRAKE WHEEL', ' Epik', ' RB-1',\n",
       "       ' HR-1500-2” Hitch Rack,2 bikes', ' kids', ' N/a',\n",
       "       ' Super Joe Pro 2', ' TyreFix - Wheel Tie Down System',\n",
       "       ' Mountain', ' Touring Bikes', ' monster quad', ' Transfer',\n",
       "       ' Ethos 16', ' Rack', ' 6061', ' Rad City 5 Plus Step-thru',\n",
       "       ' 1999 and up touring bikes', ' globe deluxe', ' KRB-H020B',\n",
       "       ' Balance Bike', ' Sedona DX', ' Aksium race', ' EB-01',\n",
       "       ' brochures \"receipts\" included', ' Clutch', ' 52189-00',\n",
       "       ' Sunbird', ' Madone 5.2', ' 302ah', ' Bone', ' Hangout',\n",
       "       ' 7100 Alpha Aluminum', ' E-07 Dakar', ' Hemi Comp', ' Cake 1 DLX',\n",
       "       ' Madone 6.7 SSL', ' 5010', ' Bones 2-Bike Rack', ' Sycamore',\n",
       "       ' Ransom 910', ' Stumpjumper', ' AWOL', ' rush hour 2018',\n",
       "       ' gsxs 1000f', ' Cardio Trainer', ' quarter-pipe ramp', ' 700c',\n",
       "       ' Tandem Classic', ' Sanctuary 7', ' Mach5.5', ' URS', ' C6',\n",
       "       ' Roadster V2', ' Rmz250', ' Feather', ' SX', ' Yak 28 Plus',\n",
       "       ' Trunk Mount', ' Money Lynch', ' Hyperscrambler 2',\n",
       "       ' Trunk-Mount Bike Rack', ' RadRunner Plus',\n",
       "       ' Fits both 1in and 2in hitches', ' North rock',\n",
       "       ' The Bike Slider', ' Hot Rock', ' Legion L60 and L20', ' N/A',\n",
       "       ' Verdict Wet', ' Pacemaker', ' Simone Bikes', ' DT, RT or RD',\n",
       "       ' Yeah', ' SHilouette', ' 522RR', ' Comp Junior', ' 200',\n",
       "       ' Enigma', ' Kazoo/Piccolo', ' REV 20', ' 100963', ' RevMaster',\n",
       "       ' Roadrunner - Holds 4 bikes', ' Fusion', ' Mix', ' Various/mix',\n",
       "       ' DRT 1.0'], dtype=object)"
      ]
     },
     "execution_count": 985,
     "metadata": {},
     "output_type": "execute_result"
    }
   ],
   "source": [
    "df['model name / number'].unique()"
   ]
  },
  {
   "cell_type": "code",
   "execution_count": 986,
   "metadata": {},
   "outputs": [],
   "source": [
    "def fix_mn(x):\n",
    "    if pd.isna(x) or 'unknown' in x.lower():\n",
    "        return 0\n",
    "    return 1\n",
    "\n",
    "df['model name / number'] = df['model name / number'].apply(fix_mn)"
   ]
  },
  {
   "cell_type": "code",
   "execution_count": 987,
   "metadata": {},
   "outputs": [
    {
     "data": {
      "text/plain": [
       "array([0, 1], dtype=int64)"
      ]
     },
     "execution_count": 987,
     "metadata": {},
     "output_type": "execute_result"
    }
   ],
   "source": [
    "df['model name / number'].unique()"
   ]
  },
  {
   "cell_type": "code",
   "execution_count": 988,
   "metadata": {},
   "outputs": [
    {
     "data": {
      "text/plain": [
       "array([nan, ' cantilever', ' disc (mechanical)', ' caliper', ' none',\n",
       "       ' other/unknown', ' coaster', ' disc (hydraulic)', ' gyro/bmx',\n",
       "       ' u-brakes', ' v-brakes', ' drum', ' hydraulic rim brakes'],\n",
       "      dtype=object)"
      ]
     },
     "execution_count": 988,
     "metadata": {},
     "output_type": "execute_result"
    }
   ],
   "source": [
    "df['brake type'].unique()"
   ]
  },
  {
   "cell_type": "code",
   "execution_count": 989,
   "metadata": {},
   "outputs": [],
   "source": [
    "def fix_bt(x):\n",
    "    if pd.isna(x) or 'other/unknown' in x.lower() or 'none' in x.lower():\n",
    "        return 'unknown'\n",
    "    else:\n",
    "        x = str(x)\n",
    "        if 'hydraulic' in x:\n",
    "            return 'hydraulic'\n",
    "        elif 'mechanical' in x:\n",
    "            return 'mechanical'\n",
    "        else:\n",
    "            return 'special'\n",
    "\n",
    "df['brake type'] = df['brake type'].apply(fix_bt)"
   ]
  },
  {
   "cell_type": "code",
   "execution_count": 990,
   "metadata": {},
   "outputs": [
    {
     "data": {
      "text/plain": [
       "array(['unknown', 'special', 'mechanical', 'hydraulic'], dtype=object)"
      ]
     },
     "execution_count": 990,
     "metadata": {},
     "output_type": "execute_result"
    }
   ],
   "source": [
    "df['brake type'].unique()"
   ]
  },
  {
   "cell_type": "code",
   "execution_count": 991,
   "metadata": {},
   "outputs": [
    {
     "data": {
      "text/plain": [
       "array([nan, ' flat', ' bmx', ' other/unknown', ' drop', ' cruiser',\n",
       "       ' triathlon', ' riser', ' downhill', ' aero', ' bullhorn'],\n",
       "      dtype=object)"
      ]
     },
     "execution_count": 991,
     "metadata": {},
     "output_type": "execute_result"
    }
   ],
   "source": [
    "df['handlebar type'].unique()"
   ]
  },
  {
   "cell_type": "code",
   "execution_count": 992,
   "metadata": {},
   "outputs": [],
   "source": [
    "def fix_ht(x):\n",
    "    if pd.isna(x) or 'other/unknown' in x:\n",
    "        return 'unknown'\n",
    "    else:\n",
    "        return 'special'\n",
    "\n",
    "df['handlebar type'] = df['handlebar type'].apply(fix_ht)"
   ]
  },
  {
   "cell_type": "code",
   "execution_count": 993,
   "metadata": {},
   "outputs": [
    {
     "data": {
      "text/plain": [
       "array(['unknown', 'special'], dtype=object)"
      ]
     },
     "execution_count": 993,
     "metadata": {},
     "output_type": "execute_result"
    }
   ],
   "source": [
    "df['handlebar type'].unique()"
   ]
  },
  {
   "cell_type": "code",
   "execution_count": 994,
   "metadata": {},
   "outputs": [
    {
     "data": {
      "text/plain": [
       "array([nan, ' other', ' racks, fenders, bags', ' saddle',\n",
       "       ' grips, bar ends, tape', ' tires', ' wheels and wheel parts',\n",
       "       ' crankset, bottom bracket, guards', ' brakes', ' pedals',\n",
       "       ' headset, stem, spacers', ' frame only'], dtype=object)"
      ]
     },
     "execution_count": 994,
     "metadata": {},
     "output_type": "execute_result"
    }
   ],
   "source": [
    "df['part type'].unique()"
   ]
  },
  {
   "cell_type": "code",
   "execution_count": 995,
   "metadata": {},
   "outputs": [],
   "source": [
    "def fix_pt(x):\n",
    "    if pd.isna(x) or 'other' in x.lower():\n",
    "        return 0\n",
    "    else:\n",
    "        return 1\n",
    "\n",
    "df['part type'] = df['part type'].apply(fix_pt)\n",
    "# Let's get rid of the listings about parts\n",
    "df = df.where(df['part type']==0).dropna(how='all').drop(columns=['part type'])"
   ]
  },
  {
   "cell_type": "code",
   "execution_count": 996,
   "metadata": {},
   "outputs": [
    {
     "data": {
      "text/plain": [
       "array([nan, ' 1 1/4” hitch', ' 26.38 x 12.2 x 13.98',\n",
       "       ' \\u200e42 x 40 x 10 inches', ' 750', ' 56x9.5x4.5',\n",
       "       ' 4-bike capacity', ' 168\" X 86\" X 0\"', ' 192\" X 84\" X 0\"',\n",
       "       ' 168\" X 83\" X 0\"', ' 26”', ' 2011---2016', ' 51x 48x30',\n",
       "       ' 36 Volt 42 Volt 48 Volt', ' S, L, M, XL, XXL', ' See above',\n",
       "       ' 5\\'×17\" UNFOLDED', ' 31.5 x 21 x 25.5 in (Interior)',\n",
       "       ' 125cc 250cc 500cc', ' 8.5 x 28', \" Women's size medium\", ' 1111',\n",
       "       ' Large', ' 22', ' na', ' 196cc', ' 9 x 22', ' 7.48 mm',\n",
       "       ' 2500 sq feet', ' 6 feet', ' 12x5', ' 42', ' 59x32x42in',\n",
       "       ' 7.5 feet tall approx', ' 5x1x3,12', \" Men's Large\",\n",
       "       ' Fully Inspected', ' 41\" x 20\"', ' X-Large', ' 62\"wide',\n",
       "       ' 7X14X3 16K GN DUMP TRAILER', ' 25 LBS', ' 40’x 7’8”x 79”tall',\n",
       "       ' 32\" x 68\" x 74\"', ' 20”', ' 3x4', ' 600', ' Holds 4 Bikes', ' ?',\n",
       "       ' 130/90-16', ' 16 x 5.00', ' 240\" X 82\" X 0\"', ' 144\" X 76\" X 0\"',\n",
       "       ' 240\" X 102\" X 0\"', ' 432\" X 102\" X 0\"', ' 240\" X 83\" X 0\"',\n",
       "       ' 1987-2018', ' 168\" X 96\" X 0\"', ' 192\" X 84\" X 75\"',\n",
       "       ' 120\" X 60\" X 0\"', ' 144\" X 72\" X 75\"', ' 78\"',\n",
       "       ' 192\" X 75\" X 0\"', ' 192\" X 102\" X 75\"', ' 16\\'L x 6\\'10\" wide',\n",
       "       ' 240\" X 101\" X 79\"', ' 08-18', ' 9 x 24', ' 77x12',\n",
       "       ' 48.75\" L x 21.25\" W x 52\" H', ' 8.5 x 20', ' 60 x 22 x 13',\n",
       "       600.0, ' 250 cc', ' XS, 24, Medium, Y1', ' 12”', ' size medium',\n",
       "       ' large 59-50cm', ' 9 footer', ' 9 x 30', ' 125', ' 52\"',\n",
       "       ' 3 Bike Rack', ' 2 bikes', ' 36', ' 10.32 x 7.52 x 2.4 inches',\n",
       "       ' 110\" x 36\" wide x 30\" high', ' 20 inch', ' 26x4.7',\n",
       "       ' All sizes& extra lightweight.', ' 4\" long',\n",
       "       ' All sizes & extra lightweight.', ' 20 18 3', ' 6  feet',\n",
       "       ' 5 1/2”', ' ;quot;w x 15\" d', ' 12x4', ' 12 X 9.5 X 10',\n",
       "       ' 48”H X 25”W X 56”L', ' 3 bike carrier', ' any adult',\n",
       "       ' any 20” 24” 26”', ' L36 x W14 and 17', ' 38.5 x 56 x 12',\n",
       "       ' 22x10', ' 30″x 12″', ' 30 x 8 x 30 inches', ' 16\"', ' M/L',\n",
       "       ' 120 70 17', ' 27\" x 8\" x 12\"', ' 240\" X 81\" X 0\"',\n",
       "       ' 120\" X 75\" X 0\"', ' 168\" X 76\" X 0\"', ' 216\" X 81\" X 0\"',\n",
       "       ' 288\" X 101\" X 0\"', ' 192\" X 83\" X 0\"', ' 480\" X 102\" X 0\"',\n",
       "       ' 8 X 5', ' 288\" X 102\" X 0\"', ' 384\" X 102\" X 0\"',\n",
       "       ' 504\" X 102\" X 0\"', ' 300\" X 102\" X 0\"', ' 72\" X 144\" X 0\"',\n",
       "       ' bmx/mountain bike', ' 14x18x1', ' Picture',\n",
       "       ' Large, Fits on most Backrests', ' Adjustable',\n",
       "       ' 4\" Circular,  3/4\" Shaft', ' 62\"', ' 110/80-19', ' NA',\n",
       "       ' 1000cc', ' 3ft wide', ' Holds 3 bikes', ' Carries 2 Bikes',\n",
       "       ' Securely Holds Up to 2 Bikes', ' 8’2” by 8”'], dtype=object)"
      ]
     },
     "execution_count": 996,
     "metadata": {},
     "output_type": "execute_result"
    }
   ],
   "source": [
    "df['size / dimensions'].unique()"
   ]
  },
  {
   "cell_type": "code",
   "execution_count": 997,
   "metadata": {},
   "outputs": [],
   "source": [
    "def fix_sd(x):\n",
    "    if pd.isna(x):\n",
    "        return 0\n",
    "    else:\n",
    "        return 1\n",
    "\n",
    "df['size / dimensions'] = df['size / dimensions'].apply(fix_sd)"
   ]
  },
  {
   "cell_type": "code",
   "execution_count": 998,
   "metadata": {},
   "outputs": [
    {
     "data": {
      "text/plain": [
       "array([0, 1], dtype=int64)"
      ]
     },
     "execution_count": 998,
     "metadata": {},
     "output_type": "execute_result"
    }
   ],
   "source": [
    "df['size / dimensions'].unique()"
   ]
  },
  {
   "cell_type": "code",
   "execution_count": 999,
   "metadata": {},
   "outputs": [
    {
     "data": {
      "text/plain": [
       "array([nan, ' black', ' grey', ' custom', ' white', ' silver', ' red'],\n",
       "      dtype=object)"
      ]
     },
     "execution_count": 999,
     "metadata": {},
     "output_type": "execute_result"
    }
   ],
   "source": [
    "df['paint color'].unique()"
   ]
  },
  {
   "cell_type": "code",
   "execution_count": 1000,
   "metadata": {},
   "outputs": [],
   "source": [
    "def fix_pc(x):\n",
    "    if pd.isna(x):\n",
    "        return 0\n",
    "    else:\n",
    "        return 1\n",
    "\n",
    "df['paint color'] = df['paint color'].apply(fix_pc)"
   ]
  },
  {
   "cell_type": "code",
   "execution_count": 1001,
   "metadata": {},
   "outputs": [
    {
     "data": {
      "text/plain": [
       "array([0, 1], dtype=int64)"
      ]
     },
     "execution_count": 1001,
     "metadata": {},
     "output_type": "execute_result"
    }
   ],
   "source": [
    "df['paint color'].unique()"
   ]
  },
  {
   "cell_type": "code",
   "execution_count": 1002,
   "metadata": {},
   "outputs": [
    {
     "data": {
      "text/plain": [
       "array([nan, ' Unknown', ' F1068892', ' N/A', ' EN14872XINGING',\n",
       "       ' TC19 222501', ' na', ' NSN not needed', ' Model GS32401', ' 000',\n",
       "       ' 20A16575', ' M5060820', ' RU1F20V0502', ' yes', ' GS62660',\n",
       "       ' un', ' EB720DO', ' S  / N', ' on request', ' none',\n",
       "       ' AITPZ29SD6L1G1', ' SNHU07J15066', ' #185', ' F7U42856',\n",
       "       ' LF201110072', ' ?', ' 01V120067', ' E6EE07509', ' Assorted',\n",
       "       ' WSBC025068284R', ' 170720', ' 26’', ' M50', ' UUK19C01204',\n",
       "       ' EZ-201304 468', ' 408 406 7864 cell', ' Var', ' Nome', ' 23-918',\n",
       "       ' See Photos', ' unknown', ' EG010897', ' 00012345', ' .',\n",
       "       ' various', ' Ninja 2021', ' Freestyle', ' ??', ' NA',\n",
       "       ' WT0406C5218', ' WTU336CT0109R1207', ' N/a', ' 1234567890',\n",
       "       ' CU5C21B3934', ' see photos'], dtype=object)"
      ]
     },
     "execution_count": 1002,
     "metadata": {},
     "output_type": "execute_result"
    }
   ],
   "source": [
    "df['serial number'].unique()"
   ]
  },
  {
   "cell_type": "code",
   "execution_count": 1003,
   "metadata": {},
   "outputs": [],
   "source": [
    "def fix_sn(x):\n",
    "    if pd.isna(x) or 'unknown' in x.lower() or 'na' in x.lower() or 'none' in x.lower():\n",
    "        return 0\n",
    "    else:\n",
    "        return 1\n",
    "\n",
    "df['serial number'] = df['serial number'].apply(fix_sn)"
   ]
  },
  {
   "cell_type": "code",
   "execution_count": 1004,
   "metadata": {},
   "outputs": [
    {
     "data": {
      "text/plain": [
       "array([0, 1], dtype=int64)"
      ]
     },
     "execution_count": 1004,
     "metadata": {},
     "output_type": "execute_result"
    }
   ],
   "source": [
    "df['serial number'].unique()"
   ]
  },
  {
   "cell_type": "code",
   "execution_count": 1005,
   "metadata": {},
   "outputs": [
    {
     "data": {
      "text/plain": [
       "array([  nan, 2022., 2020., 2010., 1975., 2018., 2015., 1979., 2005.,\n",
       "       2021., 2013., 1987., 2001., 2019., 2012., 2017., 2006.])"
      ]
     },
     "execution_count": 1005,
     "metadata": {},
     "output_type": "execute_result"
    }
   ],
   "source": [
    "df['year manufactured'].unique()"
   ]
  },
  {
   "cell_type": "code",
   "execution_count": 1006,
   "metadata": {},
   "outputs": [],
   "source": [
    "def fix_ym(x):\n",
    "    if pd.isna(x):\n",
    "        return 0\n",
    "    else:\n",
    "        return 1\n",
    "\n",
    "df['year manufactured']=df['year manufactured'].apply(fix_ym)"
   ]
  },
  {
   "cell_type": "code",
   "execution_count": 1007,
   "metadata": {},
   "outputs": [
    {
     "data": {
      "text/plain": [
       "array([0, 1], dtype=int64)"
      ]
     },
     "execution_count": 1007,
     "metadata": {},
     "output_type": "execute_result"
    }
   ],
   "source": [
    "df['year manufactured'].unique()"
   ]
  },
  {
   "cell_type": "code",
   "execution_count": 1008,
   "metadata": {},
   "outputs": [
    {
     "name": "stdout",
     "output_type": "stream",
     "text": [
      "<class 'pandas.core.frame.DataFrame'>\n",
      "Int64Index: 4559 entries, 0 to 4623\n",
      "Data columns (total 25 columns):\n",
      " #   Column                  Non-Null Count  Dtype  \n",
      "---  ------                  --------------  -----  \n",
      " 0   Price                   4559 non-null   float64\n",
      " 1   Location                4559 non-null   object \n",
      " 2   URL                     4559 non-null   object \n",
      " 3   Date                    4559 non-null   object \n",
      " 4   Title                   4559 non-null   object \n",
      " 5   num image               4559 non-null   float64\n",
      " 6   text                    4559 non-null   object \n",
      " 7   condition               4559 non-null   object \n",
      " 8   make / manufacturer     4559 non-null   float64\n",
      " 9   model name / number     4559 non-null   float64\n",
      " 10  bicycle frame material  4559 non-null   object \n",
      " 11  bicycle type            4559 non-null   object \n",
      " 12  brake type              4559 non-null   object \n",
      " 13  electric assist         4559 non-null   float64\n",
      " 14  frame size              4559 non-null   object \n",
      " 15  handlebar type          4559 non-null   object \n",
      " 16  suspension              4559 non-null   float64\n",
      " 17  wheel size              4559 non-null   object \n",
      " 18  size / dimensions       4559 non-null   int64  \n",
      " 19  serial number           4559 non-null   int64  \n",
      " 20  paint color             4559 non-null   int64  \n",
      " 21  year manufactured       4559 non-null   int64  \n",
      " 22  engine hours (total)    18 non-null     float64\n",
      " 23  length overall (LOA)    28 non-null     float64\n",
      " 24  propulsion type         28 non-null     object \n",
      "dtypes: float64(8), int64(4), object(13)\n",
      "memory usage: 926.0+ KB\n"
     ]
    }
   ],
   "source": [
    "df.info()"
   ]
  },
  {
   "cell_type": "code",
   "execution_count": 1009,
   "metadata": {},
   "outputs": [
    {
     "data": {
      "text/plain": [
       "Index(['Price', 'Location', 'URL', 'Date', 'Title', 'num image', 'text',\n",
       "       'condition', 'make / manufacturer', 'model name / number',\n",
       "       'bicycle frame material', 'bicycle type', 'brake type',\n",
       "       'electric assist', 'frame size', 'handlebar type', 'suspension',\n",
       "       'wheel size', 'size / dimensions', 'serial number', 'paint color',\n",
       "       'year manufactured', 'engine hours (total)', 'length overall (LOA)',\n",
       "       'propulsion type'],\n",
       "      dtype='object')"
      ]
     },
     "execution_count": 1009,
     "metadata": {},
     "output_type": "execute_result"
    }
   ],
   "source": [
    "df.columns"
   ]
  },
  {
   "cell_type": "code",
   "execution_count": 1010,
   "metadata": {},
   "outputs": [],
   "source": [
    "# These 3 columns have less than 0.1% of data available so we'll drop them\n",
    "df = df.drop(columns=['length overall (LOA)', 'propulsion type', 'engine hours (total)'])"
   ]
  },
  {
   "cell_type": "code",
   "execution_count": 1011,
   "metadata": {},
   "outputs": [],
   "source": [
    "df.columns = [column.replace('/', '').lower().strip().replace(' ', '') for column in df.columns]"
   ]
  },
  {
   "cell_type": "code",
   "execution_count": 1012,
   "metadata": {},
   "outputs": [
    {
     "data": {
      "text/plain": [
       "Index(['price', 'location', 'url', 'date', 'title', 'numimage', 'text',\n",
       "       'condition', 'makemanufacturer', 'modelnamenumber',\n",
       "       'bicycleframematerial', 'bicycletype', 'braketype', 'electricassist',\n",
       "       'framesize', 'handlebartype', 'suspension', 'wheelsize',\n",
       "       'sizedimensions', 'serialnumber', 'paintcolor', 'yearmanufactured'],\n",
       "      dtype='object')"
      ]
     },
     "execution_count": 1012,
     "metadata": {},
     "output_type": "execute_result"
    }
   ],
   "source": [
    "df.columns"
   ]
  },
  {
   "cell_type": "markdown",
   "metadata": {},
   "source": [
    "Let's add the number of days since the listing was posted on the website as a feature."
   ]
  },
  {
   "cell_type": "code",
   "execution_count": 1013,
   "metadata": {},
   "outputs": [],
   "source": [
    "df['days'] = [(datetime.datetime.today()-datetime.datetime.strptime(date_, \"%Y-%m-%d %H:%M\")).days for date_ in df['date']]"
   ]
  },
  {
   "cell_type": "markdown",
   "metadata": {},
   "source": [
    "# Missing values analysis\n",
    "\n",
    "How many of each features are we missing, and can we find these values within the text (body of the listing)?"
   ]
  },
  {
   "cell_type": "code",
   "execution_count": 1014,
   "metadata": {},
   "outputs": [
    {
     "data": {
      "text/html": [
       "<div>\n",
       "<style scoped>\n",
       "    .dataframe tbody tr th:only-of-type {\n",
       "        vertical-align: middle;\n",
       "    }\n",
       "\n",
       "    .dataframe tbody tr th {\n",
       "        vertical-align: top;\n",
       "    }\n",
       "\n",
       "    .dataframe thead th {\n",
       "        text-align: right;\n",
       "    }\n",
       "</style>\n",
       "<table border=\"1\" class=\"dataframe\">\n",
       "  <thead>\n",
       "    <tr style=\"text-align: right;\">\n",
       "      <th></th>\n",
       "      <th>0</th>\n",
       "    </tr>\n",
       "    <tr>\n",
       "      <th>price</th>\n",
       "      <th></th>\n",
       "    </tr>\n",
       "  </thead>\n",
       "  <tbody>\n",
       "    <tr>\n",
       "      <th>1.0</th>\n",
       "      <td>205</td>\n",
       "    </tr>\n",
       "    <tr>\n",
       "      <th>2.0</th>\n",
       "      <td>1</td>\n",
       "    </tr>\n",
       "    <tr>\n",
       "      <th>4.0</th>\n",
       "      <td>1</td>\n",
       "    </tr>\n",
       "    <tr>\n",
       "      <th>5.0</th>\n",
       "      <td>20</td>\n",
       "    </tr>\n",
       "    <tr>\n",
       "      <th>7.0</th>\n",
       "      <td>1</td>\n",
       "    </tr>\n",
       "    <tr>\n",
       "      <th>...</th>\n",
       "      <td>...</td>\n",
       "    </tr>\n",
       "    <tr>\n",
       "      <th>445522.0</th>\n",
       "      <td>1</td>\n",
       "    </tr>\n",
       "    <tr>\n",
       "      <th>595000.0</th>\n",
       "      <td>1</td>\n",
       "    </tr>\n",
       "    <tr>\n",
       "      <th>999992.0</th>\n",
       "      <td>1</td>\n",
       "    </tr>\n",
       "    <tr>\n",
       "      <th>12312398.0</th>\n",
       "      <td>1</td>\n",
       "    </tr>\n",
       "    <tr>\n",
       "      <th>65432897.0</th>\n",
       "      <td>1</td>\n",
       "    </tr>\n",
       "  </tbody>\n",
       "</table>\n",
       "<p>637 rows × 1 columns</p>\n",
       "</div>"
      ],
      "text/plain": [
       "              0\n",
       "price          \n",
       "1.0         205\n",
       "2.0           1\n",
       "4.0           1\n",
       "5.0          20\n",
       "7.0           1\n",
       "...         ...\n",
       "445522.0      1\n",
       "595000.0      1\n",
       "999992.0      1\n",
       "12312398.0    1\n",
       "65432897.0    1\n",
       "\n",
       "[637 rows x 1 columns]"
      ]
     },
     "metadata": {},
     "output_type": "display_data"
    },
    {
     "data": {
      "text/html": [
       "<div>\n",
       "<style scoped>\n",
       "    .dataframe tbody tr th:only-of-type {\n",
       "        vertical-align: middle;\n",
       "    }\n",
       "\n",
       "    .dataframe tbody tr th {\n",
       "        vertical-align: top;\n",
       "    }\n",
       "\n",
       "    .dataframe thead th {\n",
       "        text-align: right;\n",
       "    }\n",
       "</style>\n",
       "<table border=\"1\" class=\"dataframe\">\n",
       "  <thead>\n",
       "    <tr style=\"text-align: right;\">\n",
       "      <th></th>\n",
       "      <th>0</th>\n",
       "    </tr>\n",
       "    <tr>\n",
       "      <th>condition</th>\n",
       "      <th></th>\n",
       "    </tr>\n",
       "  </thead>\n",
       "  <tbody>\n",
       "    <tr>\n",
       "      <th>1</th>\n",
       "      <td>16</td>\n",
       "    </tr>\n",
       "    <tr>\n",
       "      <th>2</th>\n",
       "      <td>77</td>\n",
       "    </tr>\n",
       "    <tr>\n",
       "      <th>3</th>\n",
       "      <td>450</td>\n",
       "    </tr>\n",
       "    <tr>\n",
       "      <th>4</th>\n",
       "      <td>1492</td>\n",
       "    </tr>\n",
       "    <tr>\n",
       "      <th>unknown</th>\n",
       "      <td>2524</td>\n",
       "    </tr>\n",
       "  </tbody>\n",
       "</table>\n",
       "</div>"
      ],
      "text/plain": [
       "              0\n",
       "condition      \n",
       "1            16\n",
       "2            77\n",
       "3           450\n",
       "4          1492\n",
       "unknown    2524"
      ]
     },
     "metadata": {},
     "output_type": "display_data"
    },
    {
     "data": {
      "text/html": [
       "<div>\n",
       "<style scoped>\n",
       "    .dataframe tbody tr th:only-of-type {\n",
       "        vertical-align: middle;\n",
       "    }\n",
       "\n",
       "    .dataframe tbody tr th {\n",
       "        vertical-align: top;\n",
       "    }\n",
       "\n",
       "    .dataframe thead th {\n",
       "        text-align: right;\n",
       "    }\n",
       "</style>\n",
       "<table border=\"1\" class=\"dataframe\">\n",
       "  <thead>\n",
       "    <tr style=\"text-align: right;\">\n",
       "      <th></th>\n",
       "      <th>0</th>\n",
       "    </tr>\n",
       "    <tr>\n",
       "      <th>numimage</th>\n",
       "      <th></th>\n",
       "    </tr>\n",
       "  </thead>\n",
       "  <tbody>\n",
       "    <tr>\n",
       "      <th>0.0</th>\n",
       "      <td>836</td>\n",
       "    </tr>\n",
       "    <tr>\n",
       "      <th>2.0</th>\n",
       "      <td>457</td>\n",
       "    </tr>\n",
       "    <tr>\n",
       "      <th>3.0</th>\n",
       "      <td>418</td>\n",
       "    </tr>\n",
       "    <tr>\n",
       "      <th>4.0</th>\n",
       "      <td>432</td>\n",
       "    </tr>\n",
       "    <tr>\n",
       "      <th>5.0</th>\n",
       "      <td>325</td>\n",
       "    </tr>\n",
       "    <tr>\n",
       "      <th>6.0</th>\n",
       "      <td>320</td>\n",
       "    </tr>\n",
       "    <tr>\n",
       "      <th>7.0</th>\n",
       "      <td>282</td>\n",
       "    </tr>\n",
       "    <tr>\n",
       "      <th>8.0</th>\n",
       "      <td>187</td>\n",
       "    </tr>\n",
       "    <tr>\n",
       "      <th>9.0</th>\n",
       "      <td>144</td>\n",
       "    </tr>\n",
       "    <tr>\n",
       "      <th>10.0</th>\n",
       "      <td>151</td>\n",
       "    </tr>\n",
       "    <tr>\n",
       "      <th>11.0</th>\n",
       "      <td>107</td>\n",
       "    </tr>\n",
       "    <tr>\n",
       "      <th>12.0</th>\n",
       "      <td>90</td>\n",
       "    </tr>\n",
       "    <tr>\n",
       "      <th>13.0</th>\n",
       "      <td>66</td>\n",
       "    </tr>\n",
       "    <tr>\n",
       "      <th>14.0</th>\n",
       "      <td>94</td>\n",
       "    </tr>\n",
       "    <tr>\n",
       "      <th>15.0</th>\n",
       "      <td>88</td>\n",
       "    </tr>\n",
       "    <tr>\n",
       "      <th>16.0</th>\n",
       "      <td>54</td>\n",
       "    </tr>\n",
       "    <tr>\n",
       "      <th>17.0</th>\n",
       "      <td>72</td>\n",
       "    </tr>\n",
       "    <tr>\n",
       "      <th>18.0</th>\n",
       "      <td>39</td>\n",
       "    </tr>\n",
       "    <tr>\n",
       "      <th>19.0</th>\n",
       "      <td>29</td>\n",
       "    </tr>\n",
       "    <tr>\n",
       "      <th>20.0</th>\n",
       "      <td>57</td>\n",
       "    </tr>\n",
       "    <tr>\n",
       "      <th>21.0</th>\n",
       "      <td>30</td>\n",
       "    </tr>\n",
       "    <tr>\n",
       "      <th>22.0</th>\n",
       "      <td>36</td>\n",
       "    </tr>\n",
       "    <tr>\n",
       "      <th>23.0</th>\n",
       "      <td>51</td>\n",
       "    </tr>\n",
       "    <tr>\n",
       "      <th>24.0</th>\n",
       "      <td>194</td>\n",
       "    </tr>\n",
       "  </tbody>\n",
       "</table>\n",
       "</div>"
      ],
      "text/plain": [
       "            0\n",
       "numimage     \n",
       "0.0       836\n",
       "2.0       457\n",
       "3.0       418\n",
       "4.0       432\n",
       "5.0       325\n",
       "6.0       320\n",
       "7.0       282\n",
       "8.0       187\n",
       "9.0       144\n",
       "10.0      151\n",
       "11.0      107\n",
       "12.0       90\n",
       "13.0       66\n",
       "14.0       94\n",
       "15.0       88\n",
       "16.0       54\n",
       "17.0       72\n",
       "18.0       39\n",
       "19.0       29\n",
       "20.0       57\n",
       "21.0       30\n",
       "22.0       36\n",
       "23.0       51\n",
       "24.0      194"
      ]
     },
     "metadata": {},
     "output_type": "display_data"
    },
    {
     "data": {
      "text/html": [
       "<div>\n",
       "<style scoped>\n",
       "    .dataframe tbody tr th:only-of-type {\n",
       "        vertical-align: middle;\n",
       "    }\n",
       "\n",
       "    .dataframe tbody tr th {\n",
       "        vertical-align: top;\n",
       "    }\n",
       "\n",
       "    .dataframe thead th {\n",
       "        text-align: right;\n",
       "    }\n",
       "</style>\n",
       "<table border=\"1\" class=\"dataframe\">\n",
       "  <thead>\n",
       "    <tr style=\"text-align: right;\">\n",
       "      <th></th>\n",
       "      <th>0</th>\n",
       "    </tr>\n",
       "    <tr>\n",
       "      <th>bicycleframematerial</th>\n",
       "      <th></th>\n",
       "    </tr>\n",
       "  </thead>\n",
       "  <tbody>\n",
       "    <tr>\n",
       "      <th>alloy</th>\n",
       "      <td>177</td>\n",
       "    </tr>\n",
       "    <tr>\n",
       "      <th>aluminum</th>\n",
       "      <td>603</td>\n",
       "    </tr>\n",
       "    <tr>\n",
       "      <th>carbon fiber</th>\n",
       "      <td>98</td>\n",
       "    </tr>\n",
       "    <tr>\n",
       "      <th>composite</th>\n",
       "      <td>13</td>\n",
       "    </tr>\n",
       "    <tr>\n",
       "      <th>scandium</th>\n",
       "      <td>1</td>\n",
       "    </tr>\n",
       "    <tr>\n",
       "      <th>steel</th>\n",
       "      <td>488</td>\n",
       "    </tr>\n",
       "    <tr>\n",
       "      <th>titanium</th>\n",
       "      <td>9</td>\n",
       "    </tr>\n",
       "    <tr>\n",
       "      <th>unknown</th>\n",
       "      <td>3170</td>\n",
       "    </tr>\n",
       "  </tbody>\n",
       "</table>\n",
       "</div>"
      ],
      "text/plain": [
       "                         0\n",
       "bicycleframematerial      \n",
       "alloy                  177\n",
       "aluminum               603\n",
       "carbon fiber            98\n",
       "composite               13\n",
       "scandium                 1\n",
       "steel                  488\n",
       "titanium                 9\n",
       "unknown               3170"
      ]
     },
     "metadata": {},
     "output_type": "display_data"
    },
    {
     "data": {
      "text/html": [
       "<div>\n",
       "<style scoped>\n",
       "    .dataframe tbody tr th:only-of-type {\n",
       "        vertical-align: middle;\n",
       "    }\n",
       "\n",
       "    .dataframe tbody tr th {\n",
       "        vertical-align: top;\n",
       "    }\n",
       "\n",
       "    .dataframe thead th {\n",
       "        text-align: right;\n",
       "    }\n",
       "</style>\n",
       "<table border=\"1\" class=\"dataframe\">\n",
       "  <thead>\n",
       "    <tr style=\"text-align: right;\">\n",
       "      <th></th>\n",
       "      <th>0</th>\n",
       "    </tr>\n",
       "    <tr>\n",
       "      <th>bicycletype</th>\n",
       "      <th></th>\n",
       "    </tr>\n",
       "  </thead>\n",
       "  <tbody>\n",
       "    <tr>\n",
       "      <th>bmx</th>\n",
       "      <td>186</td>\n",
       "    </tr>\n",
       "    <tr>\n",
       "      <th>cargo/pedicab</th>\n",
       "      <td>6</td>\n",
       "    </tr>\n",
       "    <tr>\n",
       "      <th>cruiser</th>\n",
       "      <td>174</td>\n",
       "    </tr>\n",
       "    <tr>\n",
       "      <th>cyclocross</th>\n",
       "      <td>6</td>\n",
       "    </tr>\n",
       "    <tr>\n",
       "      <th>folding</th>\n",
       "      <td>39</td>\n",
       "    </tr>\n",
       "    <tr>\n",
       "      <th>gravel</th>\n",
       "      <td>26</td>\n",
       "    </tr>\n",
       "    <tr>\n",
       "      <th>hybrid/comfort</th>\n",
       "      <td>137</td>\n",
       "    </tr>\n",
       "    <tr>\n",
       "      <th>kids</th>\n",
       "      <td>216</td>\n",
       "    </tr>\n",
       "    <tr>\n",
       "      <th>mountain</th>\n",
       "      <td>433</td>\n",
       "    </tr>\n",
       "    <tr>\n",
       "      <th>recumbent/trike</th>\n",
       "      <td>16</td>\n",
       "    </tr>\n",
       "    <tr>\n",
       "      <th>road</th>\n",
       "      <td>244</td>\n",
       "    </tr>\n",
       "    <tr>\n",
       "      <th>tandem</th>\n",
       "      <td>5</td>\n",
       "    </tr>\n",
       "    <tr>\n",
       "      <th>track</th>\n",
       "      <td>8</td>\n",
       "    </tr>\n",
       "    <tr>\n",
       "      <th>unicycle</th>\n",
       "      <td>5</td>\n",
       "    </tr>\n",
       "    <tr>\n",
       "      <th>unknown</th>\n",
       "      <td>3058</td>\n",
       "    </tr>\n",
       "  </tbody>\n",
       "</table>\n",
       "</div>"
      ],
      "text/plain": [
       "                    0\n",
       "bicycletype          \n",
       "bmx               186\n",
       "cargo/pedicab       6\n",
       "cruiser           174\n",
       "cyclocross          6\n",
       "folding            39\n",
       "gravel             26\n",
       "hybrid/comfort    137\n",
       "kids              216\n",
       "mountain          433\n",
       "recumbent/trike    16\n",
       "road              244\n",
       "tandem              5\n",
       "track               8\n",
       "unicycle            5\n",
       "unknown          3058"
      ]
     },
     "metadata": {},
     "output_type": "display_data"
    },
    {
     "data": {
      "text/html": [
       "<div>\n",
       "<style scoped>\n",
       "    .dataframe tbody tr th:only-of-type {\n",
       "        vertical-align: middle;\n",
       "    }\n",
       "\n",
       "    .dataframe tbody tr th {\n",
       "        vertical-align: top;\n",
       "    }\n",
       "\n",
       "    .dataframe thead th {\n",
       "        text-align: right;\n",
       "    }\n",
       "</style>\n",
       "<table border=\"1\" class=\"dataframe\">\n",
       "  <thead>\n",
       "    <tr style=\"text-align: right;\">\n",
       "      <th></th>\n",
       "      <th>0</th>\n",
       "    </tr>\n",
       "    <tr>\n",
       "      <th>braketype</th>\n",
       "      <th></th>\n",
       "    </tr>\n",
       "  </thead>\n",
       "  <tbody>\n",
       "    <tr>\n",
       "      <th>hydraulic</th>\n",
       "      <td>187</td>\n",
       "    </tr>\n",
       "    <tr>\n",
       "      <th>mechanical</th>\n",
       "      <td>98</td>\n",
       "    </tr>\n",
       "    <tr>\n",
       "      <th>special</th>\n",
       "      <td>305</td>\n",
       "    </tr>\n",
       "    <tr>\n",
       "      <th>unknown</th>\n",
       "      <td>3969</td>\n",
       "    </tr>\n",
       "  </tbody>\n",
       "</table>\n",
       "</div>"
      ],
      "text/plain": [
       "               0\n",
       "braketype       \n",
       "hydraulic    187\n",
       "mechanical    98\n",
       "special      305\n",
       "unknown     3969"
      ]
     },
     "metadata": {},
     "output_type": "display_data"
    },
    {
     "data": {
      "text/html": [
       "<div>\n",
       "<style scoped>\n",
       "    .dataframe tbody tr th:only-of-type {\n",
       "        vertical-align: middle;\n",
       "    }\n",
       "\n",
       "    .dataframe tbody tr th {\n",
       "        vertical-align: top;\n",
       "    }\n",
       "\n",
       "    .dataframe thead th {\n",
       "        text-align: right;\n",
       "    }\n",
       "</style>\n",
       "<table border=\"1\" class=\"dataframe\">\n",
       "  <thead>\n",
       "    <tr style=\"text-align: right;\">\n",
       "      <th></th>\n",
       "      <th>0</th>\n",
       "    </tr>\n",
       "    <tr>\n",
       "      <th>framesize</th>\n",
       "      <th></th>\n",
       "    </tr>\n",
       "  </thead>\n",
       "  <tbody>\n",
       "    <tr>\n",
       "      <th>1</th>\n",
       "      <td>208</td>\n",
       "    </tr>\n",
       "    <tr>\n",
       "      <th>2</th>\n",
       "      <td>455</td>\n",
       "    </tr>\n",
       "    <tr>\n",
       "      <th>3</th>\n",
       "      <td>608</td>\n",
       "    </tr>\n",
       "    <tr>\n",
       "      <th>unknown</th>\n",
       "      <td>3288</td>\n",
       "    </tr>\n",
       "  </tbody>\n",
       "</table>\n",
       "</div>"
      ],
      "text/plain": [
       "              0\n",
       "framesize      \n",
       "1           208\n",
       "2           455\n",
       "3           608\n",
       "unknown    3288"
      ]
     },
     "metadata": {},
     "output_type": "display_data"
    },
    {
     "data": {
      "text/html": [
       "<div>\n",
       "<style scoped>\n",
       "    .dataframe tbody tr th:only-of-type {\n",
       "        vertical-align: middle;\n",
       "    }\n",
       "\n",
       "    .dataframe tbody tr th {\n",
       "        vertical-align: top;\n",
       "    }\n",
       "\n",
       "    .dataframe thead th {\n",
       "        text-align: right;\n",
       "    }\n",
       "</style>\n",
       "<table border=\"1\" class=\"dataframe\">\n",
       "  <thead>\n",
       "    <tr style=\"text-align: right;\">\n",
       "      <th></th>\n",
       "      <th>0</th>\n",
       "    </tr>\n",
       "    <tr>\n",
       "      <th>handlebartype</th>\n",
       "      <th></th>\n",
       "    </tr>\n",
       "  </thead>\n",
       "  <tbody>\n",
       "    <tr>\n",
       "      <th>special</th>\n",
       "      <td>394</td>\n",
       "    </tr>\n",
       "    <tr>\n",
       "      <th>unknown</th>\n",
       "      <td>4165</td>\n",
       "    </tr>\n",
       "  </tbody>\n",
       "</table>\n",
       "</div>"
      ],
      "text/plain": [
       "                  0\n",
       "handlebartype      \n",
       "special         394\n",
       "unknown        4165"
      ]
     },
     "metadata": {},
     "output_type": "display_data"
    },
    {
     "data": {
      "text/html": [
       "<div>\n",
       "<style scoped>\n",
       "    .dataframe tbody tr th:only-of-type {\n",
       "        vertical-align: middle;\n",
       "    }\n",
       "\n",
       "    .dataframe tbody tr th {\n",
       "        vertical-align: top;\n",
       "    }\n",
       "\n",
       "    .dataframe thead th {\n",
       "        text-align: right;\n",
       "    }\n",
       "</style>\n",
       "<table border=\"1\" class=\"dataframe\">\n",
       "  <thead>\n",
       "    <tr style=\"text-align: right;\">\n",
       "      <th></th>\n",
       "      <th>0</th>\n",
       "    </tr>\n",
       "    <tr>\n",
       "      <th>wheelsize</th>\n",
       "      <th></th>\n",
       "    </tr>\n",
       "  </thead>\n",
       "  <tbody>\n",
       "    <tr>\n",
       "      <th>10</th>\n",
       "      <td>25</td>\n",
       "    </tr>\n",
       "    <tr>\n",
       "      <th>12</th>\n",
       "      <td>53</td>\n",
       "    </tr>\n",
       "    <tr>\n",
       "      <th>14</th>\n",
       "      <td>27</td>\n",
       "    </tr>\n",
       "    <tr>\n",
       "      <th>16</th>\n",
       "      <td>78</td>\n",
       "    </tr>\n",
       "    <tr>\n",
       "      <th>18</th>\n",
       "      <td>36</td>\n",
       "    </tr>\n",
       "    <tr>\n",
       "      <th>20</th>\n",
       "      <td>212</td>\n",
       "    </tr>\n",
       "    <tr>\n",
       "      <th>24</th>\n",
       "      <td>103</td>\n",
       "    </tr>\n",
       "    <tr>\n",
       "      <th>25</th>\n",
       "      <td>14</td>\n",
       "    </tr>\n",
       "    <tr>\n",
       "      <th>26</th>\n",
       "      <td>431</td>\n",
       "    </tr>\n",
       "    <tr>\n",
       "      <th>27</th>\n",
       "      <td>151</td>\n",
       "    </tr>\n",
       "    <tr>\n",
       "      <th>28</th>\n",
       "      <td>11</td>\n",
       "    </tr>\n",
       "    <tr>\n",
       "      <th>29</th>\n",
       "      <td>265</td>\n",
       "    </tr>\n",
       "    <tr>\n",
       "      <th>unknown</th>\n",
       "      <td>3153</td>\n",
       "    </tr>\n",
       "  </tbody>\n",
       "</table>\n",
       "</div>"
      ],
      "text/plain": [
       "              0\n",
       "wheelsize      \n",
       "10           25\n",
       "12           53\n",
       "14           27\n",
       "16           78\n",
       "18           36\n",
       "20          212\n",
       "24          103\n",
       "25           14\n",
       "26          431\n",
       "27          151\n",
       "28           11\n",
       "29          265\n",
       "unknown    3153"
      ]
     },
     "metadata": {},
     "output_type": "display_data"
    }
   ],
   "source": [
    "important_attributes = ['price', 'condition', 'numimage', 'bicycleframematerial', 'bicycletype', 'braketype', 'framesize', 'handlebartype','wheelsize']\n",
    "\n",
    "for column in important_attributes:\n",
    "    df_values = pd.DataFrame(df.groupby([column]).size())\n",
    "    display(df_values)"
   ]
  },
  {
   "cell_type": "code",
   "execution_count": 1015,
   "metadata": {},
   "outputs": [],
   "source": [
    "def loss_analysis(df):\n",
    "    unknown_dic = dict()\n",
    "    n=len(df)\n",
    "    for column in important_attributes:\n",
    "        df_values = pd.DataFrame(df.groupby([column]).size())\n",
    "        if column == 'price':\n",
    "            unknown = len(df[(df['price']<10) | (df['price']>300)])\n",
    "            unknown_dic[column]=[unknown,round(unknown/n*100,1)]\n",
    "        try:\n",
    "            unknown = int(df_values.loc['unknown'])\n",
    "        except:\n",
    "            pass\n",
    "        else:\n",
    "            unknown_dic[column]=[unknown,round(unknown/n*100,1)]\n",
    "    df_unknown = pd.DataFrame(data=unknown_dic,index=['Unknowns','% of Unknowns']).transpose()\n",
    "    return df_unknown"
   ]
  },
  {
   "cell_type": "code",
   "execution_count": 1016,
   "metadata": {},
   "outputs": [
    {
     "data": {
      "text/html": [
       "<div>\n",
       "<style scoped>\n",
       "    .dataframe tbody tr th:only-of-type {\n",
       "        vertical-align: middle;\n",
       "    }\n",
       "\n",
       "    .dataframe tbody tr th {\n",
       "        vertical-align: top;\n",
       "    }\n",
       "\n",
       "    .dataframe thead th {\n",
       "        text-align: right;\n",
       "    }\n",
       "</style>\n",
       "<table border=\"1\" class=\"dataframe\">\n",
       "  <thead>\n",
       "    <tr style=\"text-align: right;\">\n",
       "      <th></th>\n",
       "      <th>Unknowns</th>\n",
       "      <th>% of Unknowns</th>\n",
       "    </tr>\n",
       "  </thead>\n",
       "  <tbody>\n",
       "    <tr>\n",
       "      <th>price</th>\n",
       "      <td>2526.0</td>\n",
       "      <td>55.4</td>\n",
       "    </tr>\n",
       "    <tr>\n",
       "      <th>condition</th>\n",
       "      <td>2524.0</td>\n",
       "      <td>55.4</td>\n",
       "    </tr>\n",
       "    <tr>\n",
       "      <th>bicycleframematerial</th>\n",
       "      <td>3170.0</td>\n",
       "      <td>69.5</td>\n",
       "    </tr>\n",
       "    <tr>\n",
       "      <th>bicycletype</th>\n",
       "      <td>3058.0</td>\n",
       "      <td>67.1</td>\n",
       "    </tr>\n",
       "    <tr>\n",
       "      <th>braketype</th>\n",
       "      <td>3969.0</td>\n",
       "      <td>87.1</td>\n",
       "    </tr>\n",
       "    <tr>\n",
       "      <th>framesize</th>\n",
       "      <td>3288.0</td>\n",
       "      <td>72.1</td>\n",
       "    </tr>\n",
       "    <tr>\n",
       "      <th>handlebartype</th>\n",
       "      <td>4165.0</td>\n",
       "      <td>91.4</td>\n",
       "    </tr>\n",
       "    <tr>\n",
       "      <th>wheelsize</th>\n",
       "      <td>3153.0</td>\n",
       "      <td>69.2</td>\n",
       "    </tr>\n",
       "  </tbody>\n",
       "</table>\n",
       "</div>"
      ],
      "text/plain": [
       "                      Unknowns  % of Unknowns\n",
       "price                   2526.0           55.4\n",
       "condition               2524.0           55.4\n",
       "bicycleframematerial    3170.0           69.5\n",
       "bicycletype             3058.0           67.1\n",
       "braketype               3969.0           87.1\n",
       "framesize               3288.0           72.1\n",
       "handlebartype           4165.0           91.4\n",
       "wheelsize               3153.0           69.2"
      ]
     },
     "execution_count": 1016,
     "metadata": {},
     "output_type": "execute_result"
    }
   ],
   "source": [
    "loss_analysis(df)"
   ]
  },
  {
   "cell_type": "markdown",
   "metadata": {},
   "source": [
    "## Let's look into the text"
   ]
  },
  {
   "cell_type": "code",
   "execution_count": 1017,
   "metadata": {},
   "outputs": [
    {
     "name": "stdout",
     "output_type": "stream",
     "text": [
      "+ 306 data for 'condition' after using fix_condition_from_txt.\n"
     ]
    }
   ],
   "source": [
    "def retrieve_condition_from_txt(text):\n",
    "    sentences = re.compile(r'([A-Z][^\\.!?]*[\\.!?])', re.M).findall(text)\n",
    "    for sentence in sentences:\n",
    "        if 'condition' in sentence:\n",
    "            return sentence\n",
    "\n",
    "def fix_condition_from_txt(text,condition):\n",
    "    if condition != 'unknown':\n",
    "        return condition\n",
    "    else:\n",
    "        sentence = retrieve_condition_from_txt(text)\n",
    "        if sentence is None:\n",
    "            return 'unknown'\n",
    "        else:\n",
    "            sentence = sentence.lower()\n",
    "            if 'very good' in sentence or 'excellent' in sentence or 'new' in sentence or 'very nice' in sentence:\n",
    "                return str(4)\n",
    "            if 'good used condition' in sentence or 'good' in sentence or 'very pretty' in sentence or 'great' in sentence:\n",
    "                return str(3)\n",
    "            if 'nice' in sentence or 'fair' in sentence:\n",
    "                return str(2)\n",
    "            if 'poor' in sentence or 'salvage' in sentence:\n",
    "                return str(1)\n",
    "            else:\n",
    "                return 'unknown'\n",
    "\n",
    "before = loss_analysis(df).loc['condition','Unknowns']\n",
    "df['condition'] = df.apply(lambda x: fix_condition_from_txt(x['text'],x['condition']), axis=1)\n",
    "after = loss_analysis(df).loc['condition','Unknowns']\n",
    "print(\"+ \"+ str(int(before-after)) + \" data for 'condition' after using fix_condition_from_txt.\")\n"
   ]
  },
  {
   "cell_type": "code",
   "execution_count": 1018,
   "metadata": {},
   "outputs": [
    {
     "name": "stdout",
     "output_type": "stream",
     "text": [
      "+ 404 data for 'bicycleframematerial' after using fix_material_from_txt.\n"
     ]
    }
   ],
   "source": [
    "def fix_material_from_txt(text, material):\n",
    "    if material != 'unknown':\n",
    "        return material\n",
    "    else:\n",
    "        if 'aluminum' in text:\n",
    "            return 'aluminum'\n",
    "        if 'alloy' in text:\n",
    "            return 'alloy'\n",
    "        if 'steel' in text:\n",
    "            return 'steel'\n",
    "        if 'carbon' in text:\n",
    "            return 'carbon fiber'\n",
    "        if 'titanium' in text:\n",
    "            return 'titanium'\n",
    "        if 'composite' in text:\n",
    "            return 'composite'\n",
    "        if 'scandium' in text:\n",
    "            return 'scandium'\n",
    "        else:\n",
    "            return 'unknown'\n",
    "\n",
    "\n",
    "before = loss_analysis(df).loc['bicycleframematerial','Unknowns']\n",
    "df['bicycleframematerial'] = df.apply(lambda x: fix_material_from_txt(x['text'],x['bicycleframematerial']), axis=1)\n",
    "after = loss_analysis(df).loc['bicycleframematerial','Unknowns']\n",
    "print(\"+ \"+ str(int(before-after)) + \" data for 'bicycleframematerial' after using fix_material_from_txt.\")"
   ]
  },
  {
   "cell_type": "code",
   "execution_count": 1019,
   "metadata": {},
   "outputs": [
    {
     "name": "stdout",
     "output_type": "stream",
     "text": [
      "+ 1052 data for 'bicycletype' after using fix_bicycletype_from_txt.\n"
     ]
    }
   ],
   "source": [
    "def fix_bicycletype_from_txt(text,bicycletype):\n",
    "    if bicycletype != 'unknown':\n",
    "        return bicycletype\n",
    "    else:\n",
    "        if 'mountain' in text:\n",
    "            return 'mountain'\n",
    "        if 'kids' in text:\n",
    "            return 'kids'\n",
    "        if 'hybrid' in text:\n",
    "            return 'hybrid/comfort'\n",
    "        if 'comfort' in text:\n",
    "            return 'hybrid/comfort'\n",
    "        if 'cruiser' in text:\n",
    "            return 'cruiser'\n",
    "        if 'bmx' in text:\n",
    "            return 'bmx'\n",
    "        if 'road' in text:\n",
    "            return 'road'\n",
    "        if 'unicycle' in text:\n",
    "            return 'unicycle'\n",
    "        if 'folding' in text:\n",
    "            return 'folding'\n",
    "        if 'gravel' in text:\n",
    "            return 'gravel'\n",
    "        if 'recumbent' in text:\n",
    "            return 'recumbent/trike'\n",
    "        if 'cyclocross' in text:\n",
    "            return 'cyclocross'\n",
    "        if 'tandem' in text:\n",
    "            return 'tandem'\n",
    "        if 'track' in text:\n",
    "            return 'track'\n",
    "        if 'cargo' in text:\n",
    "            return 'cargo/pedicab'\n",
    "        if 'pedicab' in text:\n",
    "            return 'cargo/pedicab'\n",
    "        else:\n",
    "            return 'unknown'\n",
    "\n",
    "before = loss_analysis(df).loc['bicycletype','Unknowns']\n",
    "df['bicycletype'] = df.apply(lambda x: fix_bicycletype_from_txt(x['text'],x['bicycletype']), axis=1)\n",
    "after = loss_analysis(df).loc['bicycletype','Unknowns']\n",
    "print(\"+ \"+ str(int(before-after)) + \" data for 'bicycletype' after using fix_bicycletype_from_txt.\")"
   ]
  },
  {
   "cell_type": "code",
   "execution_count": 1020,
   "metadata": {},
   "outputs": [
    {
     "name": "stdout",
     "output_type": "stream",
     "text": [
      "+ 113 data for 'braketype' after using fix_braketype_from_txt.\n"
     ]
    }
   ],
   "source": [
    "def fix_braketype_from_txt(text,braketype):\n",
    "    if braketype != 'unknown':\n",
    "        return braketype\n",
    "    else:\n",
    "        if 'mechanical' in text:\n",
    "            return 'mechanical'\n",
    "        if 'hydraulic' in text:\n",
    "            return 'hydraulic'\n",
    "        else:\n",
    "            return 'unknown'\n",
    "\n",
    "before = loss_analysis(df).loc['braketype','Unknowns']\n",
    "df['braketype'] = df.apply(lambda x: fix_braketype_from_txt(x['text'],x['braketype']), axis=1)\n",
    "after = loss_analysis(df).loc['braketype','Unknowns']\n",
    "print(\"+ \"+ str(int(before-after)) + \" data for 'braketype' after using fix_braketype_from_txt.\")"
   ]
  },
  {
   "cell_type": "code",
   "execution_count": 1021,
   "metadata": {},
   "outputs": [
    {
     "data": {
      "text/html": [
       "<div>\n",
       "<style scoped>\n",
       "    .dataframe tbody tr th:only-of-type {\n",
       "        vertical-align: middle;\n",
       "    }\n",
       "\n",
       "    .dataframe tbody tr th {\n",
       "        vertical-align: top;\n",
       "    }\n",
       "\n",
       "    .dataframe thead th {\n",
       "        text-align: right;\n",
       "    }\n",
       "</style>\n",
       "<table border=\"1\" class=\"dataframe\">\n",
       "  <thead>\n",
       "    <tr style=\"text-align: right;\">\n",
       "      <th></th>\n",
       "      <th>Unknowns</th>\n",
       "      <th>% of Unknowns</th>\n",
       "    </tr>\n",
       "  </thead>\n",
       "  <tbody>\n",
       "    <tr>\n",
       "      <th>price</th>\n",
       "      <td>2526.0</td>\n",
       "      <td>55.4</td>\n",
       "    </tr>\n",
       "    <tr>\n",
       "      <th>condition</th>\n",
       "      <td>2218.0</td>\n",
       "      <td>48.7</td>\n",
       "    </tr>\n",
       "    <tr>\n",
       "      <th>bicycleframematerial</th>\n",
       "      <td>2766.0</td>\n",
       "      <td>60.7</td>\n",
       "    </tr>\n",
       "    <tr>\n",
       "      <th>bicycletype</th>\n",
       "      <td>2006.0</td>\n",
       "      <td>44.0</td>\n",
       "    </tr>\n",
       "    <tr>\n",
       "      <th>braketype</th>\n",
       "      <td>3856.0</td>\n",
       "      <td>84.6</td>\n",
       "    </tr>\n",
       "    <tr>\n",
       "      <th>framesize</th>\n",
       "      <td>3288.0</td>\n",
       "      <td>72.1</td>\n",
       "    </tr>\n",
       "    <tr>\n",
       "      <th>handlebartype</th>\n",
       "      <td>4165.0</td>\n",
       "      <td>91.4</td>\n",
       "    </tr>\n",
       "    <tr>\n",
       "      <th>wheelsize</th>\n",
       "      <td>3153.0</td>\n",
       "      <td>69.2</td>\n",
       "    </tr>\n",
       "  </tbody>\n",
       "</table>\n",
       "</div>"
      ],
      "text/plain": [
       "                      Unknowns  % of Unknowns\n",
       "price                   2526.0           55.4\n",
       "condition               2218.0           48.7\n",
       "bicycleframematerial    2766.0           60.7\n",
       "bicycletype             2006.0           44.0\n",
       "braketype               3856.0           84.6\n",
       "framesize               3288.0           72.1\n",
       "handlebartype           4165.0           91.4\n",
       "wheelsize               3153.0           69.2"
      ]
     },
     "execution_count": 1021,
     "metadata": {},
     "output_type": "execute_result"
    }
   ],
   "source": [
    "loss_analysis(df)"
   ]
  },
  {
   "cell_type": "markdown",
   "metadata": {},
   "source": [
    "# Price preprocessing\n",
    "\n",
    "It happens pretty often that people set unrealistic prices, of $1 for example. Sometimes, people don't sell bikes too, they sell motorcycles, which are much more extensive. The goal of this part is to get rid of these listings, and if possible, to retrieve the real price from the text."
   ]
  },
  {
   "cell_type": "code",
   "execution_count": 1022,
   "metadata": {},
   "outputs": [
    {
     "data": {
      "text/plain": [
       "count    4.559000e+03\n",
       "mean     2.141205e+04\n",
       "std      9.862088e+05\n",
       "min      1.000000e+00\n",
       "25%      7.500000e+01\n",
       "50%      3.250000e+02\n",
       "75%      2.750000e+03\n",
       "max      6.543290e+07\n",
       "Name: price, dtype: float64"
      ]
     },
     "execution_count": 1022,
     "metadata": {},
     "output_type": "execute_result"
    }
   ],
   "source": [
    "df.price.describe()"
   ]
  },
  {
   "cell_type": "markdown",
   "metadata": {},
   "source": [
    "The standard deviation is extremely high, let's look carefully into the listings with a price greater than $3000 or smaller than $10."
   ]
  },
  {
   "cell_type": "code",
   "execution_count": 1023,
   "metadata": {},
   "outputs": [
    {
     "name": "stdout",
     "output_type": "stream",
     "text": [
      "The number of incoherent announces regarding their price is:  1310\n"
     ]
    }
   ],
   "source": [
    "df_filter = df[(df['price']>3000) | (df['price']<10)]\n",
    "print(f'The number of incoherent announces regarding their price is: ',len(df_filter))"
   ]
  },
  {
   "cell_type": "markdown",
   "metadata": {},
   "source": [
    "For example, you can see below the discrepancy between the listed price and the one we can find in the text:\n",
    "\n",
    "For one listing we have:\n",
    "\n",
    "- Price: $ 1.0\n",
    "- Description:  SCHWINN CLASSIC BIKES, SELLING AS A PAIR. ONLY $100 FOR BOTH!"
   ]
  },
  {
   "cell_type": "code",
   "execution_count": 1024,
   "metadata": {},
   "outputs": [
    {
     "data": {
      "text/html": [
       "<div>\n",
       "<style scoped>\n",
       "    .dataframe tbody tr th:only-of-type {\n",
       "        vertical-align: middle;\n",
       "    }\n",
       "\n",
       "    .dataframe tbody tr th {\n",
       "        vertical-align: top;\n",
       "    }\n",
       "\n",
       "    .dataframe thead th {\n",
       "        text-align: right;\n",
       "    }\n",
       "</style>\n",
       "<table border=\"1\" class=\"dataframe\">\n",
       "  <thead>\n",
       "    <tr style=\"text-align: right;\">\n",
       "      <th></th>\n",
       "      <th>price</th>\n",
       "    </tr>\n",
       "    <tr>\n",
       "      <th>Index</th>\n",
       "      <th></th>\n",
       "    </tr>\n",
       "  </thead>\n",
       "  <tbody>\n",
       "    <tr>\n",
       "      <th>0</th>\n",
       "      <td>1000.0</td>\n",
       "    </tr>\n",
       "    <tr>\n",
       "      <th>1</th>\n",
       "      <td>NaN</td>\n",
       "    </tr>\n",
       "    <tr>\n",
       "      <th>2</th>\n",
       "      <td>2995.0</td>\n",
       "    </tr>\n",
       "    <tr>\n",
       "      <th>3</th>\n",
       "      <td>30.0</td>\n",
       "    </tr>\n",
       "    <tr>\n",
       "      <th>4</th>\n",
       "      <td>112.0</td>\n",
       "    </tr>\n",
       "  </tbody>\n",
       "</table>\n",
       "</div>"
      ],
      "text/plain": [
       "        price\n",
       "Index        \n",
       "0      1000.0\n",
       "1         NaN\n",
       "2      2995.0\n",
       "3        30.0\n",
       "4       112.0"
      ]
     },
     "execution_count": 1024,
     "metadata": {},
     "output_type": "execute_result"
    }
   ],
   "source": [
    "index_list = df_filter.index\n",
    "index_list_final = list()\n",
    "new_price_list = list()\n",
    "\n",
    "for i in df.index:\n",
    "  if i in df_filter.index:\n",
    "    new_price_int = list()\n",
    "    try:\n",
    "      new_price = re.findall('\\$(\\x20?\\d+(?:[,]\\d{0,3})?)', df_filter['text'][i])\n",
    "      for j in new_price:\n",
    "        new_price_int.append(int(j.replace(',','')))\n",
    "      if new_price_int == []:\n",
    "        new_price = float('Nan')\n",
    "        new_price_list.append(new_price)\n",
    "        index_list_final.append(i)\n",
    "      else:\n",
    "        new_price_list.append(int(sum(new_price_int)/len(new_price_int)))\n",
    "        index_list_final.append(i)\n",
    "    except:\n",
    "      #If there is no match, we replace the price value by NaN to eliminate them easily from our database\n",
    "      new_price_list.append(float('Nan'))\n",
    "      index_list_final.append(i)\n",
    "  else:\n",
    "    new_price_list.append(df['price'][i])\n",
    "    index_list_final.append(i)\n",
    "\n",
    "df_new_price = pd.DataFrame({'price' : new_price_list, 'Index':index_list_final})\n",
    "df_new_price.set_index('Index', inplace = True)\n",
    "df_new_price.head()"
   ]
  },
  {
   "cell_type": "markdown",
   "metadata": {},
   "source": [
    "Let's add back the new prices we found:"
   ]
  },
  {
   "cell_type": "code",
   "execution_count": 1025,
   "metadata": {},
   "outputs": [],
   "source": [
    "df['price'] = df_new_price['price']"
   ]
  },
  {
   "cell_type": "code",
   "execution_count": 1026,
   "metadata": {},
   "outputs": [
    {
     "data": {
      "text/plain": [
       "count      3899.000000\n",
       "mean       2029.679918\n",
       "std        9098.659661\n",
       "min           0.000000\n",
       "25%          75.000000\n",
       "50%         250.000000\n",
       "75%        1395.000000\n",
       "max      317422.000000\n",
       "Name: price, dtype: float64"
      ]
     },
     "execution_count": 1026,
     "metadata": {},
     "output_type": "execute_result"
    }
   ],
   "source": [
    "df.price.describe()"
   ]
  },
  {
   "cell_type": "code",
   "execution_count": 1027,
   "metadata": {},
   "outputs": [],
   "source": [
    "df = df[(df['price']<=3000) & (df['price']>=10)]"
   ]
  },
  {
   "cell_type": "code",
   "execution_count": 1028,
   "metadata": {},
   "outputs": [
    {
     "data": {
      "text/plain": [
       "count    3504.000000\n",
       "mean      593.587614\n",
       "std       768.312628\n",
       "min        10.000000\n",
       "25%        68.000000\n",
       "50%       200.000000\n",
       "75%       895.000000\n",
       "max      3000.000000\n",
       "Name: price, dtype: float64"
      ]
     },
     "execution_count": 1028,
     "metadata": {},
     "output_type": "execute_result"
    }
   ],
   "source": [
    "df.price.describe()"
   ]
  },
  {
   "cell_type": "markdown",
   "metadata": {},
   "source": [
    "We can see above that the standard deviation is now much smaller, and that the values seem more realistic for bikes."
   ]
  },
  {
   "cell_type": "markdown",
   "metadata": {},
   "source": [
    "# Let us get rid of the non-bikes listings by finding topics within text"
   ]
  },
  {
   "cell_type": "code",
   "execution_count": 1029,
   "metadata": {},
   "outputs": [],
   "source": [
    "#We will use the description and the title of the annouce to get the topic\n",
    "\n",
    "df_info = df[['text','title']]\n",
    "\n",
    "bike_desc_list = list()\n",
    "for i in df_info.index:\n",
    "    bike_desc_list.append(df_info['title'][i]+df_info['text'][i])\n",
    "\n",
    "for i in range(len(bike_desc_list)):\n",
    "    desc = bike_desc_list[i]\n",
    "    sents = sent_tokenize(desc)\n",
    "    for j in range(len(sents)):\n",
    "        sent = sents[j]\n",
    "        sent = sent.strip().replace('\\n','')\n",
    "        sents[j] = sent\n",
    "    bike_desc_list[i] = '. '.join(sents)\n",
    "\n",
    "texts = [[word for word in desc.lower().split()\n",
    "        if word not in STOPWORDS and word.isalpha() and not word.lower() == 'slate'] #We only keep alpha values\n",
    "        for desc in bike_desc_list]\n",
    "\n",
    "dictionary = corpora.Dictionary(texts) #(word_id,word) pairs\n",
    "corpus = [dictionary.doc2bow(text) for text in texts] #(word_id,freq) pairs by sentence"
   ]
  },
  {
   "cell_type": "code",
   "execution_count": 1030,
   "metadata": {},
   "outputs": [
    {
     "name": "stdout",
     "output_type": "stream",
     "text": [
      "[   (   0,\n",
      "        '0.030*\"bike\" + 0.023*\"bikes\" + 0.013*\"new\" + 0.007*\"rack\" + '\n",
      "        '0.006*\"will\" + 0.006*\"go\" + 0.006*\"hitch\" + 0.006*\"one\"'),\n",
      "    (   1,\n",
      "        '0.109*\"trailers\" + 0.064*\"motorcycle\" + 0.044*\"camping\" + 0.037*\"car\" '\n",
      "        '+ 0.027*\"trailer\" + 0.027*\"dolly\" + 0.025*\"sale\" + 0.025*\"used\"'),\n",
      "    (   2,\n",
      "        '0.010*\"bike\" + 0.009*\"inch\" + 0.007*\"equipment\" + 0.006*\"front\" + '\n",
      "        '0.006*\"rear\" + 0.006*\"road\" + 0.005*\"frame\" + 0.005*\"brakes\"')]\n"
     ]
    },
    {
     "data": {
      "text/plain": [
       "[('bike', 0.009582784),\n",
       " ('inch', 0.009232766),\n",
       " ('equipment', 0.007316863),\n",
       " ('front', 0.005666216),\n",
       " ('rear', 0.005529693),\n",
       " ('road', 0.0055156443),\n",
       " ('frame', 0.0053132614),\n",
       " ('brakes', 0.005156931),\n",
       " ('ready', 0.004987876),\n",
       " ('bikes', 0.0047963015)]"
      ]
     },
     "execution_count": 1030,
     "metadata": {},
     "output_type": "execute_result"
    }
   ],
   "source": [
    "#Set parameters\n",
    "num_topics = 3 #The number of topics that should be generated\n",
    "passes = 10\n",
    "\n",
    "lda = LdaModel(corpus,\n",
    "              id2word=dictionary,\n",
    "              num_topics=num_topics,\n",
    "              passes=passes)\n",
    "\n",
    "pp = pprint.PrettyPrinter(indent=4)\n",
    "pp.pprint(lda.print_topics(num_words=8))\n",
    "\n",
    "lda.show_topic(2)"
   ]
  },
  {
   "cell_type": "code",
   "execution_count": 1031,
   "metadata": {},
   "outputs": [
    {
     "name": "stdout",
     "output_type": "stream",
     "text": [
      "0.4124838398744651\n"
     ]
    }
   ],
   "source": [
    "lda_corpus = lda[corpus]\n",
    "\n",
    "# Find the threshold, let's set the threshold to be 1/#clusters,\n",
    "# To prove that the threshold is sane, we average the sum of all probabilities:\n",
    "scores = list(chain(*[[score for topic_id,score in topic] \\\n",
    "                      for topic in [doc for doc in lda_corpus]]))\n",
    "threshold = sum(scores)/len(scores)\n",
    "print(threshold)\n",
    "index_cluster1=[]\n",
    "index_cluster2=[]\n",
    "index_cluster3=[]\n",
    "counter = -1\n",
    "for i,j in zip(lda_corpus,bike_desc_list):\n",
    "    counter+=1\n",
    "    for size in range(len(i)):\n",
    "        if i[size][1] > threshold:\n",
    "            if i[size][0] == 0:\n",
    "                index_cluster1.append(counter)\n",
    "            elif i[size][0] == 1:\n",
    "                index_cluster2.append(counter)\n",
    "            elif i[size][0] == 2:\n",
    "                index_cluster3.append(counter)"
   ]
  },
  {
   "cell_type": "code",
   "execution_count": 1032,
   "metadata": {},
   "outputs": [
    {
     "data": {
      "image/png": "[encoded data removed]",
      "text/plain": [
       "<Figure size 432x288 with 1 Axes>"
      ]
     },
     "metadata": {
      "needs_background": "light"
     },
     "output_type": "display_data"
    }
   ],
   "source": [
    "#We create word clouds to know which cluster corresponds to which topics\n",
    "\n",
    "def draw_wordcloud(lda,topicnum,min_size=0,STOPWORDS=[]):\n",
    "    word_list=[]\n",
    "    prob_total = 0\n",
    "    for word,prob in lda.show_topic(topicnum,topn=50):\n",
    "        prob_total +=prob\n",
    "    for word,prob in lda.show_topic(topicnum,topn=50):\n",
    "        if word in STOPWORDS or  len(word) < min_size:\n",
    "            continue\n",
    "        freq = int(prob/prob_total*100)\n",
    "        alist=[word]\n",
    "        word_list.extend(alist*freq)\n",
    "        \n",
    "    %matplotlib inline\n",
    "    shuffle(word_list)\n",
    "    text = ' '.join(word_list)\n",
    "    wordcloud = WordCloud(stopwords=STOPWORDS,background_color='white',max_words=20).generate(text)\n",
    "\n",
    "    plt.axis('off')\n",
    "    plt.imshow(wordcloud)\n",
    "\n",
    "    return word_list\n",
    "\n",
    "word_list_1 = draw_wordcloud(lda,0)"
   ]
  },
  {
   "cell_type": "code",
   "execution_count": 1033,
   "metadata": {},
   "outputs": [
    {
     "data": {
      "image/png": "[encoded data removed]",
      "text/plain": [
       "<Figure size 432x288 with 1 Axes>"
      ]
     },
     "metadata": {
      "needs_background": "light"
     },
     "output_type": "display_data"
    }
   ],
   "source": [
    "word_list_2 = draw_wordcloud(lda,1)"
   ]
  },
  {
   "cell_type": "code",
   "execution_count": 1034,
   "metadata": {},
   "outputs": [
    {
     "data": {
      "image/png": "[encoded data removed]",
      "text/plain": [
       "<Figure size 432x288 with 1 Axes>"
      ]
     },
     "metadata": {
      "needs_background": "light"
     },
     "output_type": "display_data"
    }
   ],
   "source": [
    "word_list_3 = draw_wordcloud(lda,2)"
   ]
  },
  {
   "cell_type": "code",
   "execution_count": 1035,
   "metadata": {},
   "outputs": [],
   "source": [
    "def count_bike(list_words):\n",
    "    count=0\n",
    "    for word in list_words:\n",
    "        if word == 'bike' or word == 'bikes':\n",
    "            count+=1\n",
    "    return count"
   ]
  },
  {
   "cell_type": "code",
   "execution_count": 1036,
   "metadata": {},
   "outputs": [
    {
     "name": "stdout",
     "output_type": "stream",
     "text": [
      "We are getting rid of 227 rows.\n",
      "Cluster 1 has 2740 rows.\n",
      "Cluster 1 has 227 rows.\n",
      "Cluster 1 has 769 rows.\n"
     ]
    }
   ],
   "source": [
    "word_lists = [word_list_1, word_list_2, word_list_3]\n",
    "\n",
    "index_not_bikes = []\n",
    "for i, words in enumerate(word_lists):\n",
    "    if count_bike(words) < 3:\n",
    "        if i == 0:\n",
    "            index_not_bikes += index_cluster1\n",
    "        elif i == 1:\n",
    "            index_not_bikes += index_cluster2\n",
    "        elif i == 2:\n",
    "            index_not_bikes += index_cluster3\n",
    "\n",
    "print(f'We are getting rid of {len(index_not_bikes)} rows.')\n",
    "print(f'Cluster 1 has {len(index_cluster1)} rows.')\n",
    "print(f'Cluster 1 has {len(index_cluster2)} rows.')\n",
    "print(f'Cluster 1 has {len(index_cluster3)} rows.')"
   ]
  },
  {
   "cell_type": "code",
   "execution_count": 1037,
   "metadata": {},
   "outputs": [],
   "source": [
    "# We delete the annouces which do not correspond to bike annouces for sure\n",
    "df = df.reset_index(drop=True)\n",
    "\n",
    "for i in index_not_bikes:\n",
    "    df.drop(index=i, inplace = True)\n",
    "df.reset_index(inplace = True)\n",
    "df.drop(columns = 'index', inplace= True)"
   ]
  },
  {
   "cell_type": "code",
   "execution_count": 1038,
   "metadata": {},
   "outputs": [
    {
     "name": "stdout",
     "output_type": "stream",
     "text": [
      "<class 'pandas.core.frame.DataFrame'>\n",
      "RangeIndex: 3277 entries, 0 to 3276\n",
      "Data columns (total 23 columns):\n",
      " #   Column                Non-Null Count  Dtype  \n",
      "---  ------                --------------  -----  \n",
      " 0   price                 3277 non-null   float64\n",
      " 1   location              3277 non-null   object \n",
      " 2   url                   3277 non-null   object \n",
      " 3   date                  3277 non-null   object \n",
      " 4   title                 3277 non-null   object \n",
      " 5   numimage              3277 non-null   float64\n",
      " 6   text                  3277 non-null   object \n",
      " 7   condition             3277 non-null   object \n",
      " 8   makemanufacturer      3277 non-null   float64\n",
      " 9   modelnamenumber       3277 non-null   float64\n",
      " 10  bicycleframematerial  3277 non-null   object \n",
      " 11  bicycletype           3277 non-null   object \n",
      " 12  braketype             3277 non-null   object \n",
      " 13  electricassist        3277 non-null   float64\n",
      " 14  framesize             3277 non-null   object \n",
      " 15  handlebartype         3277 non-null   object \n",
      " 16  suspension            3277 non-null   float64\n",
      " 17  wheelsize             3277 non-null   object \n",
      " 18  sizedimensions        3277 non-null   int64  \n",
      " 19  serialnumber          3277 non-null   int64  \n",
      " 20  paintcolor            3277 non-null   int64  \n",
      " 21  yearmanufactured      3277 non-null   int64  \n",
      " 22  days                  3277 non-null   int64  \n",
      "dtypes: float64(6), int64(5), object(12)\n",
      "memory usage: 589.0+ KB\n"
     ]
    }
   ],
   "source": [
    "df.info()"
   ]
  },
  {
   "cell_type": "markdown",
   "metadata": {},
   "source": [
    "# Analysis and visualization\n",
    "\n",
    "Let's visualize the average price per state."
   ]
  },
  {
   "cell_type": "code",
   "execution_count": 1039,
   "metadata": {},
   "outputs": [],
   "source": [
    "def preprocess_cities(cities):\n",
    "    for i, city in enumerate(cities):\n",
    "        if city == 'newyork':\n",
    "            cities[i] = 'new york'\n",
    "        elif city == 'newjersey':\n",
    "            cities[i] = 'new jersey'\n",
    "        elif city == 'lasvegas':\n",
    "            cities[i] = 'las vegas'\n",
    "        elif city == 'longisland':\n",
    "            cities[i] = 'long island'\n",
    "        elif city == 'losangeles':\n",
    "            cities[i] = 'los angeles'\n",
    "        elif city == 'saltlakecity':\n",
    "            cities[i] = 'salt lake city'\n",
    "        elif city == 'sfbay':\n",
    "            cities[i] = 'san francisco'\n",
    "    return cities\n",
    "\n",
    "def preprocess_back_cities(cities):\n",
    "    for i, city in enumerate(cities):\n",
    "        if city == 'new york':\n",
    "            cities[i] = 'newyork'\n",
    "        elif city == 'new jersey':\n",
    "            cities[i] = 'newjersey'\n",
    "        elif city == 'las vegas':\n",
    "            cities[i] = 'lasvegas'\n",
    "        elif city == 'long island':\n",
    "            cities[i] = 'longisland'\n",
    "        elif city == 'los angeles':\n",
    "            cities[i] = 'losangeles'\n",
    "        elif city == 'salt lake city':\n",
    "            cities[i] = 'saltlakecity'\n",
    "        elif city == 'san francisco':\n",
    "            cities[i] = 'sfbay'\n",
    "    return cities\n",
    "\n",
    "all_cities = preprocess_cities(df['location'].unique())"
   ]
  },
  {
   "cell_type": "code",
   "execution_count": 1040,
   "metadata": {},
   "outputs": [],
   "source": [
    "states= ['Alabama', 'Alaska', 'Arizona', 'Arkansas','California', 'Colorado', 'Connecticut', 'Delaware', 'Florida', 'Georgia', 'Hawaii', 'Idaho', 'Illinois'\n",
    ",'Indiana', 'Iowa', 'Kansas', 'Kentucky', 'Louisiana', 'Maine', 'Maryland', 'Massachusetts', 'Michigan', 'Minnesota', 'Mississippi', 'Missouri'\n",
    ",'Montana', 'Nebraska', 'Nevada', 'New Hampshire', 'New Jersey', 'New Mexico', 'New York', 'North Carolina', 'North Dakota', 'Ohio', 'Oklahoma'\n",
    ",'Oregon', 'Pennsylvania', 'Rhode Island', 'South Carolina', 'South Dakota', 'Tennessee', 'Texas', 'Utah', 'Vermont', 'Virginia', 'Washington', 'West Virginia', 'Wisconsin', 'Wyoming']\n",
    "\n",
    "codes = ['AL', 'AK', 'AZ', 'AR', 'CA', 'CO', 'CT', 'DE', 'FL', 'GA', 'HI', 'ID', 'IL', 'IN', 'IA', 'KS', 'KY', 'LA', 'ME', 'MD', 'MA', 'MI', 'MN', 'MS', 'MO', 'MT', 'NE'\n",
    ",'NV', 'NH', 'NJ', 'NM', 'NY', 'NC', 'ND', 'OH', 'OK', 'OR', 'PA', 'RI', 'SC', 'SD', 'TN', 'TX', 'UT', 'VT', 'VA', 'WA', 'WV', 'WI', 'WY']\n",
    "\n",
    "state_codes = {}\n",
    "for i, state in enumerate(states):\n",
    "    state_codes[state] = codes[i]"
   ]
  },
  {
   "cell_type": "code",
   "execution_count": 1041,
   "metadata": {},
   "outputs": [],
   "source": [
    "def find_states(all_cities):\n",
    "    \"\"\"Takes a list of cities and returns a dictionary of the cities and their corresponding state.\"\"\"\n",
    "    geolocator = Nominatim(user_agent=\"location script\")\n",
    "    \n",
    "    dict_states = {}\n",
    "    \n",
    "    for city in all_cities:\n",
    "\n",
    "        location = str(geolocator.geocode(city))\n",
    "        for state in states:\n",
    "            if state.lower() in location.lower():\n",
    "                dict_states[city] = state_codes[state]\n",
    "        \n",
    "    return dict_states #finally retruns the dict \n",
    "\n",
    "city_states = find_states(all_cities)\n",
    "\n",
    "states_cities = {}\n",
    "for key in city_states:\n",
    "    if city_states[key] not in states_cities:\n",
    "        states_cities[city_states[key]] = [key]\n",
    "    else:\n",
    "        states_cities[city_states[key]].append(key)"
   ]
  },
  {
   "cell_type": "code",
   "execution_count": 1042,
   "metadata": {},
   "outputs": [
    {
     "data": {
      "text/html": [
       "<div>\n",
       "<style scoped>\n",
       "    .dataframe tbody tr th:only-of-type {\n",
       "        vertical-align: middle;\n",
       "    }\n",
       "\n",
       "    .dataframe tbody tr th {\n",
       "        vertical-align: top;\n",
       "    }\n",
       "\n",
       "    .dataframe thead th {\n",
       "        text-align: right;\n",
       "    }\n",
       "</style>\n",
       "<table border=\"1\" class=\"dataframe\">\n",
       "  <thead>\n",
       "    <tr style=\"text-align: right;\">\n",
       "      <th></th>\n",
       "      <th>state</th>\n",
       "      <th>mean price</th>\n",
       "    </tr>\n",
       "  </thead>\n",
       "  <tbody>\n",
       "    <tr>\n",
       "      <th>0</th>\n",
       "      <td>AL</td>\n",
       "      <td>494.416475</td>\n",
       "    </tr>\n",
       "    <tr>\n",
       "      <th>1</th>\n",
       "      <td>IN</td>\n",
       "      <td>454.789474</td>\n",
       "    </tr>\n",
       "    <tr>\n",
       "      <th>2</th>\n",
       "      <td>AK</td>\n",
       "      <td>501.662631</td>\n",
       "    </tr>\n",
       "    <tr>\n",
       "      <th>3</th>\n",
       "      <td>AZ</td>\n",
       "      <td>666.885548</td>\n",
       "    </tr>\n",
       "    <tr>\n",
       "      <th>4</th>\n",
       "      <td>NM</td>\n",
       "      <td>649.218750</td>\n",
       "    </tr>\n",
       "  </tbody>\n",
       "</table>\n",
       "</div>"
      ],
      "text/plain": [
       "  state  mean price\n",
       "0    AL  494.416475\n",
       "1    IN  454.789474\n",
       "2    AK  501.662631\n",
       "3    AZ  666.885548\n",
       "4    NM  649.218750"
      ]
     },
     "execution_count": 1042,
     "metadata": {},
     "output_type": "execute_result"
    }
   ],
   "source": [
    "def find_mean_price_per_state(state_cities_dict):\n",
    "\n",
    "    price_per_state = {}\n",
    "\n",
    "    for state in state_cities_dict:\n",
    "\n",
    "        price_per_state[state] = []\n",
    "\n",
    "        list_of_cities_not_ready = state_cities_dict[state]\n",
    "        list_of_cities = preprocess_back_cities(list_of_cities_not_ready)\n",
    "\n",
    "        for city in list_of_cities:\n",
    "            price_per_state[state].append(df.where(df['location']==city).dropna()['price'].mean())\n",
    "\n",
    "        price_per_state[state] = np.mean(price_per_state[state])\n",
    "    \n",
    "    return price_per_state\n",
    "\n",
    "mean_price_data = pd.DataFrame.from_dict(find_mean_price_per_state(states_cities), 'index', columns=['mean price']).reset_index().rename(columns={'index':'state'})\n",
    "mean_price_data.head()"
   ]
  },
  {
   "cell_type": "code",
   "execution_count": 1043,
   "metadata": {},
   "outputs": [],
   "source": [
    "us_states_url_indata = {}\n",
    "data_url = (\"https://raw.githubusercontent.com/python-visualization/folium/master/examples/data\")\n",
    "us_states_url = f\"{data_url}/us-states.json\"\n",
    "t = requests.get(us_states_url).content\n",
    "geodict = json.loads(t)\n",
    "us_states_url_indata['type'] = geodict['type']\n",
    "us_states_url_indata['features'] = []\n",
    "for state_dic in geodict['features']:\n",
    "    if state_dic['id'] in mean_price_data['state'].values:\n",
    "        us_states_url_indata['features'].append(state_dic)"
   ]
  },
  {
   "cell_type": "code",
   "execution_count": 1044,
   "metadata": {},
   "outputs": [
    {
     "data": {
      "text/html": [
       "<div style=\"width:100%;\"><div style=\"position:relative;width:100%;height:0;padding-bottom:60%;\"><span style=\"color:#565656\">Make this Notebook Trusted to load map: File -> Trust Notebook</span><iframe src=\"about:blank\" style=\"position:absolute;width:100%;height:100%;left:0;top:0;border:none !important;\" data-html=%3C%21DOCTYPE%20html%3E%0A%3Chead%3E%20%20%20%20%0A%20%20%20%20%3Cmeta%20http-equiv%3D%22content-type%22%20content%3D%22text/html%3B%20charset%3DUTF-8%22%20/%3E%0A%20%20%20%20%0A%20%20%20%20%20%20%20%20%3Cscript%3E%0A%20%20%20%20%20%20%20%20%20%20%20%20L_NO_TOUCH%20%3D%20false%3B%0A%20%20%20%20%20%20%20%20%20%20%20%20L_DISABLE_3D%20%3D%20false%3B%0A%20%20%20%20%20%20%20%20%3C/script%3E%0A%20%20%20%20%0A%20%20%20%20%3Cstyle%3Ehtml%2C%20body%20%7Bwidth%3A%20100%25%3Bheight%3A%20100%25%3Bmargin%3A%200%3Bpadding%3A%200%3B%7D%3C/style%3E%0A%20%20%20%20%3Cstyle%3E%23map%20%7Bposition%3Aabsolute%3Btop%3A0%3Bbottom%3A0%3Bright%3A0%3Bleft%3A0%3B%7D%3C/style%3E%0A%20%20%20%20%3Cscript%20src%3D%22https%3A//cdn.jsdelivr.net/npm/leaflet%401.6.0/dist/leaflet.js%22%3E%3C/script%3E%0A%20%20%20%20%3Cscript%20src%3D%22https%3A//code.jquery.com/jquery-1.12.4.min.js%22%3E%3C/script%3E%0A%20%20%20%20%3Cscript%20src%3D%22https%3A//maxcdn.bootstrapcdn.com/bootstrap/3.2.0/js/bootstrap.min.js%22%3E%3C/script%3E%0A%20%20%20%20%3Cscript%20src%3D%22https%3A//cdnjs.cloudflare.com/ajax/libs/Leaflet.awesome-markers/2.0.2/leaflet.awesome-markers.js%22%3E%3C/script%3E%0A%20%20%20%20%3Clink%20rel%3D%22stylesheet%22%20href%3D%22https%3A//cdn.jsdelivr.net/npm/leaflet%401.6.0/dist/leaflet.css%22/%3E%0A%20%20%20%20%3Clink%20rel%3D%22stylesheet%22%20href%3D%22https%3A//maxcdn.bootstrapcdn.com/bootstrap/3.2.0/css/bootstrap.min.css%22/%3E%0A%20%20%20%20%3Clink%20rel%3D%22stylesheet%22%20href%3D%22https%3A//maxcdn.bootstrapcdn.com/bootstrap/3.2.0/css/bootstrap-theme.min.css%22/%3E%0A%20%20%20%20%3Clink%20rel%3D%22stylesheet%22%20href%3D%22https%3A//maxcdn.bootstrapcdn.com/font-awesome/4.6.3/css/font-awesome.min.css%22/%3E%0A%20%20%20%20%3Clink%20rel%3D%22stylesheet%22%20href%3D%22https%3A//cdnjs.cloudflare.com/ajax/libs/Leaflet.awesome-markers/2.0.2/leaflet.awesome-markers.css%22/%3E%0A%20%20%20%20%3Clink%20rel%3D%22stylesheet%22%20href%3D%22https%3A//cdn.jsdelivr.net/gh/python-visualization/folium/folium/templates/leaflet.awesome.rotate.min.css%22/%3E%0A%20%20%20%20%0A%20%20%20%20%20%20%20%20%20%20%20%20%3Cmeta%20name%3D%22viewport%22%20content%3D%22width%3Ddevice-width%2C%0A%20%20%20%20%20%20%20%20%20%20%20%20%20%20%20%20initial-scale%3D1.0%2C%20maximum-scale%3D1.0%2C%20user-scalable%3Dno%22%20/%3E%0A%20%20%20%20%20%20%20%20%20%20%20%20%3Cstyle%3E%0A%20%20%20%20%20%20%20%20%20%20%20%20%20%20%20%20%23map_3849f6171ea94dec946a1971473d4771%20%7B%0A%20%20%20%20%20%20%20%20%20%20%20%20%20%20%20%20%20%20%20%20position%3A%20relative%3B%0A%20%20%20%20%20%20%20%20%20%20%20%20%20%20%20%20%20%20%20%20width%3A%20100.0%25%3B%0A%20%20%20%20%20%20%20%20%20%20%20%20%20%20%20%20%20%20%20%20height%3A%20100.0%25%3B%0A%20%20%20%20%20%20%20%20%20%20%20%20%20%20%20%20%20%20%20%20left%3A%200.0%25%3B%0A%20%20%20%20%20%20%20%20%20%20%20%20%20%20%20%20%20%20%20%20top%3A%200.0%25%3B%0A%20%20%20%20%20%20%20%20%20%20%20%20%20%20%20%20%7D%0A%20%20%20%20%20%20%20%20%20%20%20%20%3C/style%3E%0A%20%20%20%20%20%20%20%20%0A%20%20%20%20%3Cscript%20src%3D%22https%3A//cdnjs.cloudflare.com/ajax/libs/d3/3.5.5/d3.min.js%22%3E%3C/script%3E%0A%3C/head%3E%0A%3Cbody%3E%20%20%20%20%0A%20%20%20%20%0A%20%20%20%20%20%20%20%20%20%20%20%20%3Cdiv%20class%3D%22folium-map%22%20id%3D%22map_3849f6171ea94dec946a1971473d4771%22%20%3E%3C/div%3E%0A%20%20%20%20%20%20%20%20%0A%3C/body%3E%0A%3Cscript%3E%20%20%20%20%0A%20%20%20%20%0A%20%20%20%20%20%20%20%20%20%20%20%20var%20map_3849f6171ea94dec946a1971473d4771%20%3D%20L.map%28%0A%20%20%20%20%20%20%20%20%20%20%20%20%20%20%20%20%22map_3849f6171ea94dec946a1971473d4771%22%2C%0A%20%20%20%20%20%20%20%20%20%20%20%20%20%20%20%20%7B%0A%20%20%20%20%20%20%20%20%20%20%20%20%20%20%20%20%20%20%20%20center%3A%20%5B48.0%2C%20-102.0%5D%2C%0A%20%20%20%20%20%20%20%20%20%20%20%20%20%20%20%20%20%20%20%20crs%3A%20L.CRS.EPSG3857%2C%0A%20%20%20%20%20%20%20%20%20%20%20%20%20%20%20%20%20%20%20%20zoom%3A%203%2C%0A%20%20%20%20%20%20%20%20%20%20%20%20%20%20%20%20%20%20%20%20zoomControl%3A%20true%2C%0A%20%20%20%20%20%20%20%20%20%20%20%20%20%20%20%20%20%20%20%20preferCanvas%3A%20false%2C%0A%20%20%20%20%20%20%20%20%20%20%20%20%20%20%20%20%7D%0A%20%20%20%20%20%20%20%20%20%20%20%20%29%3B%0A%0A%20%20%20%20%20%20%20%20%20%20%20%20%0A%0A%20%20%20%20%20%20%20%20%0A%20%20%20%20%0A%20%20%20%20%20%20%20%20%20%20%20%20var%20tile_layer_20a5886d797a4b24ba43a37e1018218b%20%3D%20L.tileLayer%28%0A%20%20%20%20%20%20%20%20%20%20%20%20%20%20%20%20%22https%3A//%7Bs%7D.tile.openstreetmap.org/%7Bz%7D/%7Bx%7D/%7By%7D.png%22%2C%0A%20%20%20%20%20%20%20%20%20%20%20%20%20%20%20%20%7B%22attribution%22%3A%20%22Data%20by%20%5Cu0026copy%3B%20%5Cu003ca%20href%3D%5C%22http%3A//openstreetmap.org%5C%22%5Cu003eOpenStreetMap%5Cu003c/a%5Cu003e%2C%20under%20%5Cu003ca%20href%3D%5C%22http%3A//www.openstreetmap.org/copyright%5C%22%5Cu003eODbL%5Cu003c/a%5Cu003e.%22%2C%20%22detectRetina%22%3A%20false%2C%20%22maxNativeZoom%22%3A%2018%2C%20%22maxZoom%22%3A%2018%2C%20%22minZoom%22%3A%200%2C%20%22noWrap%22%3A%20false%2C%20%22opacity%22%3A%201%2C%20%22subdomains%22%3A%20%22abc%22%2C%20%22tms%22%3A%20false%7D%0A%20%20%20%20%20%20%20%20%20%20%20%20%29.addTo%28map_3849f6171ea94dec946a1971473d4771%29%3B%0A%20%20%20%20%20%20%20%20%0A%20%20%20%20%0A%20%20%20%20%20%20%20%20%20%20%20%20var%20choropleth_da50c4403dcb44e88e2b978081726596%20%3D%20L.featureGroup%28%0A%20%20%20%20%20%20%20%20%20%20%20%20%20%20%20%20%7B%7D%0A%20%20%20%20%20%20%20%20%20%20%20%20%29.addTo%28map_3849f6171ea94dec946a1971473d4771%29%3B%0A%20%20%20%20%20%20%20%20%0A%20%20%20%20%0A%20%20%20%20%20%20%20%20function%20geo_json_14bcdcc84e1b4cadb6902c46af1cc99b_styler%28feature%29%20%7B%0A%20%20%20%20%20%20%20%20%20%20%20%20switch%28feature.id%29%20%7B%0A%20%20%20%20%20%20%20%20%20%20%20%20%20%20%20%20case%20%22AL%22%3A%20case%20%22AK%22%3A%20case%20%22FL%22%3A%20%0A%20%20%20%20%20%20%20%20%20%20%20%20%20%20%20%20%20%20%20%20return%20%7B%22color%22%3A%20%22black%22%2C%20%22fillColor%22%3A%20%22%2378c679%22%2C%20%22fillOpacity%22%3A%200.7%2C%20%22opacity%22%3A%200.2%2C%20%22weight%22%3A%201%7D%3B%0A%20%20%20%20%20%20%20%20%20%20%20%20%20%20%20%20case%20%22AZ%22%3A%20case%20%22KS%22%3A%20case%20%22NV%22%3A%20case%20%22NM%22%3A%20case%20%22UT%22%3A%20%0A%20%20%20%20%20%20%20%20%20%20%20%20%20%20%20%20%20%20%20%20return%20%7B%22color%22%3A%20%22black%22%2C%20%22fillColor%22%3A%20%22%23006837%22%2C%20%22fillOpacity%22%3A%200.7%2C%20%22opacity%22%3A%200.2%2C%20%22weight%22%3A%201%7D%3B%0A%20%20%20%20%20%20%20%20%20%20%20%20%20%20%20%20case%20%22CA%22%3A%20case%20%22TN%22%3A%20%0A%20%20%20%20%20%20%20%20%20%20%20%20%20%20%20%20%20%20%20%20return%20%7B%22color%22%3A%20%22black%22%2C%20%22fillColor%22%3A%20%22%2331a354%22%2C%20%22fillOpacity%22%3A%200.7%2C%20%22opacity%22%3A%200.2%2C%20%22weight%22%3A%201%7D%3B%0A%20%20%20%20%20%20%20%20%20%20%20%20%20%20%20%20case%20%22IL%22%3A%20case%20%22NC%22%3A%20%0A%20%20%20%20%20%20%20%20%20%20%20%20%20%20%20%20%20%20%20%20return%20%7B%22color%22%3A%20%22black%22%2C%20%22fillColor%22%3A%20%22%23ffffcc%22%2C%20%22fillOpacity%22%3A%200.7%2C%20%22opacity%22%3A%200.2%2C%20%22weight%22%3A%201%7D%3B%0A%20%20%20%20%20%20%20%20%20%20%20%20%20%20%20%20case%20%22MN%22%3A%20case%20%22NJ%22%3A%20case%20%22OH%22%3A%20%0A%20%20%20%20%20%20%20%20%20%20%20%20%20%20%20%20%20%20%20%20return%20%7B%22color%22%3A%20%22black%22%2C%20%22fillColor%22%3A%20%22%23d9f0a3%22%2C%20%22fillOpacity%22%3A%200.7%2C%20%22opacity%22%3A%200.2%2C%20%22weight%22%3A%201%7D%3B%0A%20%20%20%20%20%20%20%20%20%20%20%20%20%20%20%20default%3A%0A%20%20%20%20%20%20%20%20%20%20%20%20%20%20%20%20%20%20%20%20return%20%7B%22color%22%3A%20%22black%22%2C%20%22fillColor%22%3A%20%22%23addd8e%22%2C%20%22fillOpacity%22%3A%200.7%2C%20%22opacity%22%3A%200.2%2C%20%22weight%22%3A%201%7D%3B%0A%20%20%20%20%20%20%20%20%20%20%20%20%7D%0A%20%20%20%20%20%20%20%20%7D%0A%0A%20%20%20%20%20%20%20%20function%20geo_json_14bcdcc84e1b4cadb6902c46af1cc99b_onEachFeature%28feature%2C%20layer%29%20%7B%0A%20%20%20%20%20%20%20%20%20%20%20%20layer.on%28%7B%0A%20%20%20%20%20%20%20%20%20%20%20%20%7D%29%3B%0A%20%20%20%20%20%20%20%20%7D%3B%0A%20%20%20%20%20%20%20%20var%20geo_json_14bcdcc84e1b4cadb6902c46af1cc99b%20%3D%20L.geoJson%28null%2C%20%7B%0A%20%20%20%20%20%20%20%20%20%20%20%20%20%20%20%20onEachFeature%3A%20geo_json_14bcdcc84e1b4cadb6902c46af1cc99b_onEachFeature%2C%0A%20%20%20%20%20%20%20%20%20%20%20%20%0A%20%20%20%20%20%20%20%20%20%20%20%20%20%20%20%20style%3A%20geo_json_14bcdcc84e1b4cadb6902c46af1cc99b_styler%2C%0A%20%20%20%20%20%20%20%20%7D%29%3B%0A%0A%20%20%20%20%20%20%20%20function%20geo_json_14bcdcc84e1b4cadb6902c46af1cc99b_add%20%28data%29%20%7B%0A%20%20%20%20%20%20%20%20%20%20%20%20geo_json_14bcdcc84e1b4cadb6902c46af1cc99b%0A%20%20%20%20%20%20%20%20%20%20%20%20%20%20%20%20.addData%28data%29%0A%20%20%20%20%20%20%20%20%20%20%20%20%20%20%20%20.addTo%28choropleth_da50c4403dcb44e88e2b978081726596%29%3B%0A%20%20%20%20%20%20%20%20%7D%0A%20%20%20%20%20%20%20%20%20%20%20%20geo_json_14bcdcc84e1b4cadb6902c46af1cc99b_add%28%7B%22features%22%3A%20%5B%7B%22geometry%22%3A%20%7B%22coordinates%22%3A%20%5B%5B%5B-87.359296%2C%2035.00118%5D%2C%20%5B-85.606675%2C%2034.984749%5D%2C%20%5B-85.431413%2C%2034.124869%5D%2C%20%5B-85.184951%2C%2032.859696%5D%2C%20%5B-85.069935%2C%2032.580372%5D%2C%20%5B-84.960397%2C%2032.421541%5D%2C%20%5B-85.004212%2C%2032.322956%5D%2C%20%5B-84.889196%2C%2032.262709%5D%2C%20%5B-85.058981%2C%2032.13674%5D%2C%20%5B-85.053504%2C%2032.01077%5D%2C%20%5B-85.141136%2C%2031.840985%5D%2C%20%5B-85.042551%2C%2031.539753%5D%2C%20%5B-85.113751%2C%2031.27686%5D%2C%20%5B-85.004212%2C%2031.003013%5D%2C%20%5B-85.497137%2C%2030.997536%5D%2C%20%5B-87.600282%2C%2030.997536%5D%2C%20%5B-87.633143%2C%2030.86609%5D%2C%20%5B-87.408589%2C%2030.674397%5D%2C%20%5B-87.446927%2C%2030.510088%5D%2C%20%5B-87.37025%2C%2030.427934%5D%2C%20%5B-87.518128%2C%2030.280057%5D%2C%20%5B-87.655051%2C%2030.247195%5D%2C%20%5B-87.90699%2C%2030.411504%5D%2C%20%5B-87.934375%2C%2030.657966%5D%2C%20%5B-88.011052%2C%2030.685351%5D%2C%20%5B-88.10416%2C%2030.499135%5D%2C%20%5B-88.137022%2C%2030.318396%5D%2C%20%5B-88.394438%2C%2030.367688%5D%2C%20%5B-88.471115%2C%2031.895754%5D%2C%20%5B-88.241084%2C%2033.796253%5D%2C%20%5B-88.098683%2C%2034.891641%5D%2C%20%5B-88.202745%2C%2034.995703%5D%2C%20%5B-87.359296%2C%2035.00118%5D%5D%5D%2C%20%22type%22%3A%20%22Polygon%22%7D%2C%20%22id%22%3A%20%22AL%22%2C%20%22properties%22%3A%20%7B%22name%22%3A%20%22Alabama%22%7D%2C%20%22type%22%3A%20%22Feature%22%7D%2C%20%7B%22geometry%22%3A%20%7B%22coordinates%22%3A%20%5B%5B%5B%5B-131.602021%2C%2055.117982%5D%2C%20%5B-131.569159%2C%2055.28229%5D%2C%20%5B-131.355558%2C%2055.183705%5D%2C%20%5B-131.38842%2C%2055.01392%5D%2C%20%5B-131.645836%2C%2055.035827%5D%2C%20%5B-131.602021%2C%2055.117982%5D%5D%5D%2C%20%5B%5B%5B-131.832052%2C%2055.42469%5D%2C%20%5B-131.645836%2C%2055.304197%5D%2C%20%5B-131.749898%2C%2055.128935%5D%2C%20%5B-131.832052%2C%2055.189182%5D%2C%20%5B-131.832052%2C%2055.42469%5D%5D%5D%2C%20%5B%5B%5B-132.976733%2C%2056.437924%5D%2C%20%5B-132.735747%2C%2056.459832%5D%2C%20%5B-132.631685%2C%2056.421493%5D%2C%20%5B-132.664547%2C%2056.273616%5D%2C%20%5B-132.878148%2C%2056.240754%5D%2C%20%5B-133.069841%2C%2056.333862%5D%2C%20%5B-132.976733%2C%2056.437924%5D%5D%5D%2C%20%5B%5B%5B-133.595627%2C%2056.350293%5D%2C%20%5B-133.162949%2C%2056.317431%5D%2C%20%5B-133.05341%2C%2056.125739%5D%2C%20%5B-132.620732%2C%2055.912138%5D%2C%20%5B-132.472854%2C%2055.780691%5D%2C%20%5B-132.4619%2C%2055.671152%5D%2C%20%5B-132.357838%2C%2055.649245%5D%2C%20%5B-132.341408%2C%2055.506844%5D%2C%20%5B-132.166146%2C%2055.364444%5D%2C%20%5B-132.144238%2C%2055.238474%5D%2C%20%5B-132.029222%2C%2055.276813%5D%2C%20%5B-131.97993%2C%2055.178228%5D%2C%20%5B-131.958022%2C%2054.789365%5D%2C%20%5B-132.029222%2C%2054.701734%5D%2C%20%5B-132.308546%2C%2054.718165%5D%2C%20%5B-132.385223%2C%2054.915335%5D%2C%20%5B-132.483808%2C%2054.898904%5D%2C%20%5B-132.686455%2C%2055.046781%5D%2C%20%5B-132.746701%2C%2054.997489%5D%2C%20%5B-132.916486%2C%2055.046781%5D%2C%20%5B-132.889102%2C%2054.898904%5D%2C%20%5B-132.73027%2C%2054.937242%5D%2C%20%5B-132.626209%2C%2054.882473%5D%2C%20%5B-132.675501%2C%2054.679826%5D%2C%20%5B-132.867194%2C%2054.701734%5D%2C%20%5B-133.157472%2C%2054.95915%5D%2C%20%5B-133.239626%2C%2055.090597%5D%2C%20%5B-133.223195%2C%2055.22752%5D%2C%20%5B-133.453227%2C%2055.216566%5D%2C%20%5B-133.453227%2C%2055.320628%5D%2C%20%5B-133.277964%2C%2055.331582%5D%2C%20%5B-133.102702%2C%2055.42469%5D%2C%20%5B-133.17938%2C%2055.588998%5D%2C%20%5B-133.387503%2C%2055.62186%5D%2C%20%5B-133.420365%2C%2055.884753%5D%2C%20%5B-133.497042%2C%2056.0162%5D%2C%20%5B-133.639442%2C%2055.923092%5D%2C%20%5B-133.694212%2C%2056.070969%5D%2C%20%5B-133.546335%2C%2056.142169%5D%2C%20%5B-133.666827%2C%2056.311955%5D%2C%20%5B-133.595627%2C%2056.350293%5D%5D%5D%2C%20%5B%5B%5B-133.738027%2C%2055.556137%5D%2C%20%5B-133.546335%2C%2055.490413%5D%2C%20%5B-133.414888%2C%2055.572568%5D%2C%20%5B-133.283441%2C%2055.534229%5D%2C%20%5B-133.420365%2C%2055.386352%5D%2C%20%5B-133.633966%2C%2055.430167%5D%2C%20%5B-133.738027%2C%2055.556137%5D%5D%5D%2C%20%5B%5B%5B-133.907813%2C%2056.930849%5D%2C%20%5B-134.050213%2C%2057.029434%5D%2C%20%5B-133.885905%2C%2057.095157%5D%2C%20%5B-133.343688%2C%2057.002049%5D%2C%20%5B-133.102702%2C%2057.007526%5D%2C%20%5B-132.932917%2C%2056.82131%5D%2C%20%5B-132.620732%2C%2056.667956%5D%2C%20%5B-132.653593%2C%2056.55294%5D%2C%20%5B-132.817901%2C%2056.492694%5D%2C%20%5B-133.042456%2C%2056.520078%5D%2C%20%5B-133.201287%2C%2056.448878%5D%2C%20%5B-133.420365%2C%2056.492694%5D%2C%20%5B-133.66135%2C%2056.448878%5D%2C%20%5B-133.710643%2C%2056.684386%5D%2C%20%5B-133.688735%2C%2056.837741%5D%2C%20%5B-133.869474%2C%2056.843218%5D%2C%20%5B-133.907813%2C%2056.930849%5D%5D%5D%2C%20%5B%5B%5B-134.115936%2C%2056.48174%5D%2C%20%5B-134.25286%2C%2056.558417%5D%2C%20%5B-134.400737%2C%2056.722725%5D%2C%20%5B-134.417168%2C%2056.848695%5D%2C%20%5B-134.296675%2C%2056.908941%5D%2C%20%5B-134.170706%2C%2056.848695%5D%2C%20%5B-134.143321%2C%2056.952757%5D%2C%20%5B-133.748981%2C%2056.772017%5D%2C%20%5B-133.710643%2C%2056.596755%5D%2C%20%5B-133.847566%2C%2056.574848%5D%2C%20%5B-133.935197%2C%2056.377678%5D%2C%20%5B-133.836612%2C%2056.322908%5D%2C%20%5B-133.957105%2C%2056.092877%5D%2C%20%5B-134.110459%2C%2056.142169%5D%2C%20%5B-134.132367%2C%2055.999769%5D%2C%20%5B-134.230952%2C%2056.070969%5D%2C%20%5B-134.291198%2C%2056.350293%5D%2C%20%5B-134.115936%2C%2056.48174%5D%5D%5D%2C%20%5B%5B%5B-134.636246%2C%2056.28457%5D%2C%20%5B-134.669107%2C%2056.169554%5D%2C%20%5B-134.806031%2C%2056.235277%5D%2C%20%5B-135.178463%2C%2056.67891%5D%2C%20%5B-135.413971%2C%2056.810356%5D%2C%20%5B-135.331817%2C%2056.914418%5D%2C%20%5B-135.424925%2C%2057.166357%5D%2C%20%5B-135.687818%2C%2057.369004%5D%2C%20%5B-135.419448%2C%2057.566174%5D%2C%20%5B-135.298955%2C%2057.48402%5D%2C%20%5B-135.063447%2C%2057.418296%5D%2C%20%5B-134.849846%2C%2057.407343%5D%2C%20%5B-134.844369%2C%2057.248511%5D%2C%20%5B-134.636246%2C%2056.728202%5D%2C%20%5B-134.636246%2C%2056.28457%5D%5D%5D%2C%20%5B%5B%5B-134.712923%2C%2058.223407%5D%2C%20%5B-134.373353%2C%2058.14673%5D%2C%20%5B-134.176183%2C%2058.157683%5D%2C%20%5B-134.187137%2C%2058.081006%5D%2C%20%5B-133.902336%2C%2057.807159%5D%2C%20%5B-134.099505%2C%2057.850975%5D%2C%20%5B-134.148798%2C%2057.757867%5D%2C%20%5B-133.935197%2C%2057.615466%5D%2C%20%5B-133.869474%2C%2057.363527%5D%2C%20%5B-134.083075%2C%2057.297804%5D%2C%20%5B-134.154275%2C%2057.210173%5D%2C%20%5B-134.499322%2C%2057.029434%5D%2C%20%5B-134.603384%2C%2057.034911%5D%2C%20%5B-134.6472%2C%2057.226604%5D%2C%20%5B-134.575999%2C%2057.341619%5D%2C%20%5B-134.608861%2C%2057.511404%5D%2C%20%5B-134.729354%2C%2057.719528%5D%2C%20%5B-134.707446%2C%2057.829067%5D%2C%20%5B-134.784123%2C%2058.097437%5D%2C%20%5B-134.91557%2C%2058.212453%5D%2C%20%5B-134.953908%2C%2058.409623%5D%2C%20%5B-134.712923%2C%2058.223407%5D%5D%5D%2C%20%5B%5B%5B-135.857603%2C%2057.330665%5D%2C%20%5B-135.715203%2C%2057.330665%5D%2C%20%5B-135.567326%2C%2057.149926%5D%2C%20%5B-135.633049%2C%2057.023957%5D%2C%20%5B-135.857603%2C%2056.996572%5D%2C%20%5B-135.824742%2C%2057.193742%5D%2C%20%5B-135.857603%2C%2057.330665%5D%5D%5D%2C%20%5B%5B%5B-136.279328%2C%2058.206976%5D%2C%20%5B-135.978096%2C%2058.201499%5D%2C%20%5B-135.780926%2C%2058.28913%5D%2C%20%5B-135.496125%2C%2058.168637%5D%2C%20%5B-135.64948%2C%2058.037191%5D%2C%20%5B-135.59471%2C%2057.987898%5D%2C%20%5B-135.45231%2C%2058.135776%5D%2C%20%5B-135.107263%2C%2058.086483%5D%2C%20%5B-134.91557%2C%2057.976944%5D%2C%20%5B-135.025108%2C%2057.779775%5D%2C%20%5B-134.937477%2C%2057.763344%5D%2C%20%5B-134.822462%2C%2057.500451%5D%2C%20%5B-135.085355%2C%2057.462112%5D%2C%20%5B-135.572802%2C%2057.675713%5D%2C%20%5B-135.556372%2C%2057.456635%5D%2C%20%5B-135.709726%2C%2057.369004%5D%2C%20%5B-135.890465%2C%2057.407343%5D%2C%20%5B-136.000004%2C%2057.544266%5D%2C%20%5B-136.208128%2C%2057.637374%5D%2C%20%5B-136.366959%2C%2057.829067%5D%2C%20%5B-136.569606%2C%2057.916698%5D%2C%20%5B-136.558652%2C%2058.075529%5D%2C%20%5B-136.421728%2C%2058.130299%5D%2C%20%5B-136.377913%2C%2058.267222%5D%2C%20%5B-136.279328%2C%2058.206976%5D%5D%5D%2C%20%5B%5B%5B-147.079854%2C%2060.200582%5D%2C%20%5B-147.501579%2C%2059.948643%5D%2C%20%5B-147.53444%2C%2059.850058%5D%2C%20%5B-147.874011%2C%2059.784335%5D%2C%20%5B-147.80281%2C%2059.937689%5D%2C%20%5B-147.435855%2C%2060.09652%5D%2C%20%5B-147.205824%2C%2060.271782%5D%2C%20%5B-147.079854%2C%2060.200582%5D%5D%5D%2C%20%5B%5B%5B-147.561825%2C%2060.578491%5D%2C%20%5B-147.616594%2C%2060.370367%5D%2C%20%5B-147.758995%2C%2060.156767%5D%2C%20%5B-147.956165%2C%2060.227967%5D%2C%20%5B-147.791856%2C%2060.474429%5D%2C%20%5B-147.561825%2C%2060.578491%5D%5D%5D%2C%20%5B%5B%5B-147.786379%2C%2070.245291%5D%2C%20%5B-147.682318%2C%2070.201475%5D%2C%20%5B-147.162008%2C%2070.15766%5D%2C%20%5B-146.888161%2C%2070.185044%5D%2C%20%5B-146.510252%2C%2070.185044%5D%2C%20%5B-146.099482%2C%2070.146706%5D%2C%20%5B-145.858496%2C%2070.168614%5D%2C%20%5B-145.622988%2C%2070.08646%5D%2C%20%5B-145.195787%2C%2069.993352%5D%2C%20%5B-144.620708%2C%2069.971444%5D%2C%20%5B-144.461877%2C%2070.026213%5D%2C%20%5B-144.078491%2C%2070.059075%5D%2C%20%5B-143.914183%2C%2070.130275%5D%2C%20%5B-143.497935%2C%2070.141229%5D%2C%20%5B-143.503412%2C%2070.091936%5D%2C%20%5B-143.25695%2C%2070.119321%5D%2C%20%5B-142.747594%2C%2070.042644%5D%2C%20%5B-142.402547%2C%2069.916674%5D%2C%20%5B-142.079408%2C%2069.856428%5D%2C%20%5B-142.008207%2C%2069.801659%5D%2C%20%5B-141.712453%2C%2069.790705%5D%2C%20%5B-141.433129%2C%2069.697597%5D%2C%20%5B-141.378359%2C%2069.63735%5D%2C%20%5B-141.208574%2C%2069.686643%5D%2C%20%5B-141.00045%2C%2069.648304%5D%2C%20%5B-141.00045%2C%2060.304644%5D%2C%20%5B-140.53491%2C%2060.22249%5D%2C%20%5B-140.474664%2C%2060.310121%5D%2C%20%5B-139.987216%2C%2060.184151%5D%2C%20%5B-139.696939%2C%2060.342983%5D%2C%20%5B-139.088998%2C%2060.359413%5D%2C%20%5B-139.198537%2C%2060.091043%5D%2C%20%5B-139.045183%2C%2059.997935%5D%2C%20%5B-138.700135%2C%2059.910304%5D%2C%20%5B-138.623458%2C%2059.767904%5D%2C%20%5B-137.604747%2C%2059.242118%5D%2C%20%5B-137.445916%2C%2058.908024%5D%2C%20%5B-137.265177%2C%2059.001132%5D%2C%20%5B-136.827022%2C%2059.159963%5D%2C%20%5B-136.580559%2C%2059.16544%5D%2C%20%5B-136.465544%2C%2059.285933%5D%2C%20%5B-136.476498%2C%2059.466672%5D%2C%20%5B-136.301236%2C%2059.466672%5D%2C%20%5B-136.25742%2C%2059.625503%5D%2C%20%5B-135.945234%2C%2059.663842%5D%2C%20%5B-135.479694%2C%2059.800766%5D%2C%20%5B-135.025108%2C%2059.565257%5D%2C%20%5B-135.068924%2C%2059.422857%5D%2C%20%5B-134.959385%2C%2059.280456%5D%2C%20%5B-134.701969%2C%2059.247595%5D%2C%20%5B-134.378829%2C%2059.033994%5D%2C%20%5B-134.400737%2C%2058.973748%5D%2C%20%5B-134.25286%2C%2058.858732%5D%2C%20%5B-133.842089%2C%2058.727285%5D%2C%20%5B-133.173903%2C%2058.152206%5D%2C%20%5B-133.075318%2C%2057.998852%5D%2C%20%5B-132.867194%2C%2057.845498%5D%2C%20%5B-132.560485%2C%2057.505928%5D%2C%20%5B-132.253777%2C%2057.21565%5D%2C%20%5B-132.368792%2C%2057.095157%5D%2C%20%5B-132.05113%2C%2057.051341%5D%2C%20%5B-132.127807%2C%2056.876079%5D%2C%20%5B-131.870391%2C%2056.804879%5D%2C%20%5B-131.837529%2C%2056.602232%5D%2C%20%5B-131.580113%2C%2056.613186%5D%2C%20%5B-131.087188%2C%2056.405062%5D%2C%20%5B-130.78048%2C%2056.366724%5D%2C%20%5B-130.621648%2C%2056.268139%5D%2C%20%5B-130.468294%2C%2056.240754%5D%2C%20%5B-130.424478%2C%2056.142169%5D%2C%20%5B-130.101339%2C%2056.114785%5D%2C%20%5B-130.002754%2C%2055.994292%5D%2C%20%5B-130.150631%2C%2055.769737%5D%2C%20%5B-130.128724%2C%2055.583521%5D%2C%20%5B-129.986323%2C%2055.276813%5D%2C%20%5B-130.095862%2C%2055.200136%5D%2C%20%5B-130.336847%2C%2054.920812%5D%2C%20%5B-130.687372%2C%2054.718165%5D%2C%20%5B-130.785957%2C%2054.822227%5D%2C%20%5B-130.917403%2C%2054.789365%5D%2C%20%5B-131.010511%2C%2054.997489%5D%2C%20%5B-130.983126%2C%2055.08512%5D%2C%20%5B-131.092665%2C%2055.189182%5D%2C%20%5B-130.862634%2C%2055.298721%5D%2C%20%5B-130.928357%2C%2055.337059%5D%2C%20%5B-131.158389%2C%2055.200136%5D%2C%20%5B-131.284358%2C%2055.287767%5D%2C%20%5B-131.426759%2C%2055.238474%5D%2C%20%5B-131.843006%2C%2055.457552%5D%2C%20%5B-131.700606%2C%2055.698537%5D%2C%20%5B-131.963499%2C%2055.616383%5D%2C%20%5B-131.974453%2C%2055.49589%5D%2C%20%5B-132.182576%2C%2055.588998%5D%2C%20%5B-132.226392%2C%2055.704014%5D%2C%20%5B-132.083991%2C%2055.829984%5D%2C%20%5B-132.127807%2C%2055.955953%5D%2C%20%5B-132.324977%2C%2055.851892%5D%2C%20%5B-132.522147%2C%2056.076446%5D%2C%20%5B-132.642639%2C%2056.032631%5D%2C%20%5B-132.719317%2C%2056.218847%5D%2C%20%5B-132.527624%2C%2056.339339%5D%2C%20%5B-132.341408%2C%2056.339339%5D%2C%20%5B-132.396177%2C%2056.487217%5D%2C%20%5B-132.297592%2C%2056.67891%5D%2C%20%5B-132.450946%2C%2056.673433%5D%2C%20%5B-132.768609%2C%2056.837741%5D%2C%20%5B-132.993164%2C%2057.034911%5D%2C%20%5B-133.51895%2C%2057.177311%5D%2C%20%5B-133.507996%2C%2057.577128%5D%2C%20%5B-133.677781%2C%2057.62642%5D%2C%20%5B-133.639442%2C%2057.790728%5D%2C%20%5B-133.814705%2C%2057.834544%5D%2C%20%5B-134.072121%2C%2058.053622%5D%2C%20%5B-134.143321%2C%2058.168637%5D%2C%20%5B-134.586953%2C%2058.206976%5D%2C%20%5B-135.074401%2C%2058.502731%5D%2C%20%5B-135.282525%2C%2059.192825%5D%2C%20%5B-135.38111%2C%2059.033994%5D%2C%20%5B-135.337294%2C%2058.891593%5D%2C%20%5B-135.140124%2C%2058.617746%5D%2C%20%5B-135.189417%2C%2058.573931%5D%2C%20%5B-135.05797%2C%2058.349376%5D%2C%20%5B-135.085355%2C%2058.201499%5D%2C%20%5B-135.277048%2C%2058.234361%5D%2C%20%5B-135.430402%2C%2058.398669%5D%2C%20%5B-135.633049%2C%2058.426053%5D%2C%20%5B-135.91785%2C%2058.382238%5D%2C%20%5B-135.912373%2C%2058.617746%5D%2C%20%5B-136.087635%2C%2058.814916%5D%2C%20%5B-136.246466%2C%2058.75467%5D%2C%20%5B-136.876314%2C%2058.962794%5D%2C%20%5B-136.931084%2C%2058.902547%5D%2C%20%5B-136.586036%2C%2058.836824%5D%2C%20%5B-136.317666%2C%2058.672516%5D%2C%20%5B-136.213604%2C%2058.667039%5D%2C%20%5B-136.180743%2C%2058.535592%5D%2C%20%5B-136.043819%2C%2058.382238%5D%2C%20%5B-136.388867%2C%2058.294607%5D%2C%20%5B-136.591513%2C%2058.349376%5D%2C%20%5B-136.59699%2C%2058.212453%5D%2C%20%5B-136.859883%2C%2058.316515%5D%2C%20%5B-136.947514%2C%2058.393192%5D%2C%20%5B-137.111823%2C%2058.393192%5D%2C%20%5B-137.566409%2C%2058.590362%5D%2C%20%5B-137.900502%2C%2058.765624%5D%2C%20%5B-137.933364%2C%2058.869686%5D%2C%20%5B-138.11958%2C%2059.02304%5D%2C%20%5B-138.634412%2C%2059.132579%5D%2C%20%5B-138.919213%2C%2059.247595%5D%2C%20%5B-139.417615%2C%2059.379041%5D%2C%20%5B-139.746231%2C%2059.505011%5D%2C%20%5B-139.718846%2C%2059.641934%5D%2C%20%5B-139.625738%2C%2059.598119%5D%2C%20%5B-139.5162%2C%2059.68575%5D%2C%20%5B-139.625738%2C%2059.88292%5D%2C%20%5B-139.488815%2C%2059.992458%5D%2C%20%5B-139.554538%2C%2060.041751%5D%2C%20%5B-139.801%2C%2059.833627%5D%2C%20%5B-140.315833%2C%2059.696704%5D%2C%20%5B-140.92925%2C%2059.745996%5D%2C%20%5B-141.444083%2C%2059.871966%5D%2C%20%5B-141.46599%2C%2059.970551%5D%2C%20%5B-141.706976%2C%2059.948643%5D%2C%20%5B-141.964392%2C%2060.019843%5D%2C%20%5B-142.539471%2C%2060.085566%5D%2C%20%5B-142.873564%2C%2060.091043%5D%2C%20%5B-143.623905%2C%2060.036274%5D%2C%20%5B-143.892275%2C%2059.997935%5D%2C%20%5B-144.231845%2C%2060.140336%5D%2C%20%5B-144.65357%2C%2060.206059%5D%2C%20%5B-144.785016%2C%2060.29369%5D%2C%20%5B-144.834309%2C%2060.441568%5D%2C%20%5B-145.124586%2C%2060.430614%5D%2C%20%5B-145.223171%2C%2060.299167%5D%2C%20%5B-145.738004%2C%2060.474429%5D%2C%20%5B-145.820158%2C%2060.551106%5D%2C%20%5B-146.351421%2C%2060.408706%5D%2C%20%5B-146.608837%2C%2060.238921%5D%2C%20%5B-146.718376%2C%2060.397752%5D%2C%20%5B-146.608837%2C%2060.485383%5D%2C%20%5B-146.455483%2C%2060.463475%5D%2C%20%5B-145.951604%2C%2060.578491%5D%2C%20%5B-146.017328%2C%2060.666122%5D%2C%20%5B-146.252836%2C%2060.622307%5D%2C%20%5B-146.345944%2C%2060.737322%5D%2C%20%5B-146.565022%2C%2060.753753%5D%2C%20%5B-146.784099%2C%2061.044031%5D%2C%20%5B-146.866253%2C%2060.972831%5D%2C%20%5B-147.172962%2C%2060.934492%5D%2C%20%5B-147.271547%2C%2060.972831%5D%2C%20%5B-147.375609%2C%2060.879723%5D%2C%20%5B-147.758995%2C%2060.912584%5D%2C%20%5B-147.775426%2C%2060.808523%5D%2C%20%5B-148.032842%2C%2060.781138%5D%2C%20%5B-148.153334%2C%2060.819476%5D%2C%20%5B-148.065703%2C%2061.005692%5D%2C%20%5B-148.175242%2C%2061.000215%5D%2C%20%5B-148.350504%2C%2060.803046%5D%2C%20%5B-148.109519%2C%2060.737322%5D%2C%20%5B-148.087611%2C%2060.594922%5D%2C%20%5B-147.939734%2C%2060.441568%5D%2C%20%5B-148.027365%2C%2060.277259%5D%2C%20%5B-148.219058%2C%2060.332029%5D%2C%20%5B-148.273827%2C%2060.249875%5D%2C%20%5B-148.087611%2C%2060.217013%5D%2C%20%5B-147.983549%2C%2059.997935%5D%2C%20%5B-148.251919%2C%2059.95412%5D%2C%20%5B-148.399797%2C%2059.997935%5D%2C%20%5B-148.635305%2C%2059.937689%5D%2C%20%5B-148.755798%2C%2059.986981%5D%2C%20%5B-149.067984%2C%2059.981505%5D%2C%20%5B-149.05703%2C%2060.063659%5D%2C%20%5B-149.204907%2C%2060.008889%5D%2C%20%5B-149.287061%2C%2059.904827%5D%2C%20%5B-149.418508%2C%2059.997935%5D%2C%20%5B-149.582816%2C%2059.866489%5D%2C%20%5B-149.511616%2C%2059.806242%5D%2C%20%5B-149.741647%2C%2059.729565%5D%2C%20%5B-149.949771%2C%2059.718611%5D%2C%20%5B-150.031925%2C%2059.61455%5D%2C%20%5B-150.25648%2C%2059.521442%5D%2C%20%5B-150.409834%2C%2059.554303%5D%2C%20%5B-150.579619%2C%2059.444764%5D%2C%20%5B-150.716543%2C%2059.450241%5D%2C%20%5B-151.001343%2C%2059.225687%5D%2C%20%5B-151.308052%2C%2059.209256%5D%2C%20%5B-151.406637%2C%2059.280456%5D%2C%20%5B-151.592853%2C%2059.159963%5D%2C%20%5B-151.976239%2C%2059.253071%5D%2C%20%5B-151.888608%2C%2059.422857%5D%2C%20%5B-151.636669%2C%2059.483103%5D%2C%20%5B-151.47236%2C%2059.472149%5D%2C%20%5B-151.423068%2C%2059.537872%5D%2C%20%5B-151.127313%2C%2059.669319%5D%2C%20%5B-151.116359%2C%2059.778858%5D%2C%20%5B-151.505222%2C%2059.63098%5D%2C%20%5B-151.828361%2C%2059.718611%5D%2C%20%5B-151.8667%2C%2059.778858%5D%2C%20%5B-151.702392%2C%2060.030797%5D%2C%20%5B-151.423068%2C%2060.211536%5D%2C%20%5B-151.379252%2C%2060.359413%5D%2C%20%5B-151.297098%2C%2060.386798%5D%2C%20%5B-151.264237%2C%2060.545629%5D%2C%20%5B-151.406637%2C%2060.720892%5D%2C%20%5B-151.06159%2C%2060.786615%5D%2C%20%5B-150.404357%2C%2061.038554%5D%2C%20%5B-150.245526%2C%2060.939969%5D%2C%20%5B-150.042879%2C%2060.912584%5D%2C%20%5B-149.741647%2C%2061.016646%5D%2C%20%5B-150.075741%2C%2061.15357%5D%2C%20%5B-150.207187%2C%2061.257632%5D%2C%20%5B-150.47008%2C%2061.246678%5D%2C%20%5B-150.656296%2C%2061.29597%5D%2C%20%5B-150.711066%2C%2061.252155%5D%2C%20%5B-151.023251%2C%2061.180954%5D%2C%20%5B-151.165652%2C%2061.044031%5D%2C%20%5B-151.477837%2C%2061.011169%5D%2C%20%5B-151.800977%2C%2060.852338%5D%2C%20%5B-151.833838%2C%2060.748276%5D%2C%20%5B-152.080301%2C%2060.693507%5D%2C%20%5B-152.13507%2C%2060.578491%5D%2C%20%5B-152.310332%2C%2060.507291%5D%2C%20%5B-152.392486%2C%2060.304644%5D%2C%20%5B-152.732057%2C%2060.173197%5D%2C%20%5B-152.567748%2C%2060.069136%5D%2C%20%5B-152.704672%2C%2059.915781%5D%2C%20%5B-153.022334%2C%2059.888397%5D%2C%20%5B-153.049719%2C%2059.691227%5D%2C%20%5B-153.345474%2C%2059.620026%5D%2C%20%5B-153.438582%2C%2059.702181%5D%2C%20%5B-153.586459%2C%2059.548826%5D%2C%20%5B-153.761721%2C%2059.543349%5D%2C%20%5B-153.72886%2C%2059.433811%5D%2C%20%5B-154.117723%2C%2059.368087%5D%2C%20%5B-154.1944%2C%2059.066856%5D%2C%20%5B-153.750768%2C%2059.050425%5D%2C%20%5B-153.400243%2C%2058.968271%5D%2C%20%5B-153.301658%2C%2058.869686%5D%2C%20%5B-153.444059%2C%2058.710854%5D%2C%20%5B-153.679567%2C%2058.612269%5D%2C%20%5B-153.898645%2C%2058.606793%5D%2C%20%5B-153.920553%2C%2058.519161%5D%2C%20%5B-154.062953%2C%2058.4863%5D%2C%20%5B-153.99723%2C%2058.376761%5D%2C%20%5B-154.145107%2C%2058.212453%5D%2C%20%5B-154.46277%2C%2058.059098%5D%2C%20%5B-154.643509%2C%2058.059098%5D%2C%20%5B-154.818771%2C%2058.004329%5D%2C%20%5B-154.988556%2C%2058.015283%5D%2C%20%5B-155.120003%2C%2057.955037%5D%2C%20%5B-155.081664%2C%2057.872883%5D%2C%20%5B-155.328126%2C%2057.829067%5D%2C%20%5B-155.377419%2C%2057.708574%5D%2C%20%5B-155.547204%2C%2057.785251%5D%2C%20%5B-155.73342%2C%2057.549743%5D%2C%20%5B-156.045606%2C%2057.566174%5D%2C%20%5B-156.023698%2C%2057.440204%5D%2C%20%5B-156.209914%2C%2057.473066%5D%2C%20%5B-156.34136%2C%2057.418296%5D%2C%20%5B-156.34136%2C%2057.248511%5D%2C%20%5B-156.549484%2C%2056.985618%5D%2C%20%5B-156.883577%2C%2056.952757%5D%2C%20%5B-157.157424%2C%2056.832264%5D%2C%20%5B-157.20124%2C%2056.766541%5D%2C%20%5B-157.376502%2C%2056.859649%5D%2C%20%5B-157.672257%2C%2056.607709%5D%2C%20%5B-157.754411%2C%2056.67891%5D%2C%20%5B-157.918719%2C%2056.657002%5D%2C%20%5B-157.957058%2C%2056.514601%5D%2C%20%5B-158.126843%2C%2056.459832%5D%2C%20%5B-158.32949%2C%2056.48174%5D%2C%20%5B-158.488321%2C%2056.339339%5D%2C%20%5B-158.208997%2C%2056.295524%5D%2C%20%5B-158.510229%2C%2055.977861%5D%2C%20%5B-159.375585%2C%2055.873799%5D%2C%20%5B-159.616571%2C%2055.594475%5D%2C%20%5B-159.676817%2C%2055.654722%5D%2C%20%5B-159.643955%2C%2055.829984%5D%2C%20%5B-159.813741%2C%2055.857368%5D%2C%20%5B-160.027341%2C%2055.791645%5D%2C%20%5B-160.060203%2C%2055.720445%5D%2C%20%5B-160.394296%2C%2055.605429%5D%2C%20%5B-160.536697%2C%2055.473983%5D%2C%20%5B-160.580512%2C%2055.567091%5D%2C%20%5B-160.668143%2C%2055.457552%5D%2C%20%5B-160.865313%2C%2055.528752%5D%2C%20%5B-161.232268%2C%2055.358967%5D%2C%20%5B-161.506115%2C%2055.364444%5D%2C%20%5B-161.467776%2C%2055.49589%5D%2C%20%5B-161.588269%2C%2055.62186%5D%2C%20%5B-161.697808%2C%2055.517798%5D%2C%20%5B-161.686854%2C%2055.408259%5D%2C%20%5B-162.053809%2C%2055.074166%5D%2C%20%5B-162.179779%2C%2055.15632%5D%2C%20%5B-162.218117%2C%2055.03035%5D%2C%20%5B-162.470057%2C%2055.052258%5D%2C%20%5B-162.508395%2C%2055.249428%5D%2C%20%5B-162.661749%2C%2055.293244%5D%2C%20%5B-162.716519%2C%2055.222043%5D%2C%20%5B-162.579595%2C%2055.134412%5D%2C%20%5B-162.645319%2C%2054.997489%5D%2C%20%5B-162.847965%2C%2054.926289%5D%2C%20%5B-163.00132%2C%2055.079643%5D%2C%20%5B-163.187536%2C%2055.090597%5D%2C%20%5B-163.220397%2C%2055.03035%5D%2C%20%5B-163.034181%2C%2054.942719%5D%2C%20%5B-163.373752%2C%2054.800319%5D%2C%20%5B-163.14372%2C%2054.76198%5D%2C%20%5B-163.138243%2C%2054.696257%5D%2C%20%5B-163.329936%2C%2054.74555%5D%2C%20%5B-163.587352%2C%2054.614103%5D%2C%20%5B-164.085754%2C%2054.61958%5D%2C%20%5B-164.332216%2C%2054.531949%5D%2C%20%5B-164.354124%2C%2054.466226%5D%2C%20%5B-164.638925%2C%2054.389548%5D%2C%20%5B-164.847049%2C%2054.416933%5D%2C%20%5B-164.918249%2C%2054.603149%5D%2C%20%5B-164.710125%2C%2054.663395%5D%2C%20%5B-164.551294%2C%2054.88795%5D%2C%20%5B-164.34317%2C%2054.893427%5D%2C%20%5B-163.894061%2C%2055.041304%5D%2C%20%5B-163.532583%2C%2055.046781%5D%2C%20%5B-163.39566%2C%2054.904381%5D%2C%20%5B-163.291598%2C%2055.008443%5D%2C%20%5B-163.313505%2C%2055.128935%5D%2C%20%5B-163.105382%2C%2055.183705%5D%2C%20%5B-162.880827%2C%2055.183705%5D%2C%20%5B-162.579595%2C%2055.446598%5D%2C%20%5B-162.245502%2C%2055.682106%5D%2C%20%5B-161.807347%2C%2055.89023%5D%2C%20%5B-161.292514%2C%2055.983338%5D%2C%20%5B-161.078914%2C%2055.939523%5D%2C%20%5B-160.87079%2C%2055.999769%5D%2C%20%5B-160.816021%2C%2055.912138%5D%2C%20%5B-160.931036%2C%2055.813553%5D%2C%20%5B-160.805067%2C%2055.736876%5D%2C%20%5B-160.766728%2C%2055.857368%5D%2C%20%5B-160.509312%2C%2055.868322%5D%2C%20%5B-160.438112%2C%2055.791645%5D%2C%20%5B-160.27928%2C%2055.76426%5D%2C%20%5B-160.273803%2C%2055.857368%5D%2C%20%5B-160.536697%2C%2055.939523%5D%2C%20%5B-160.558604%2C%2055.994292%5D%2C%20%5B-160.383342%2C%2056.251708%5D%2C%20%5B-160.147834%2C%2056.399586%5D%2C%20%5B-159.830171%2C%2056.541986%5D%2C%20%5B-159.326293%2C%2056.667956%5D%2C%20%5B-158.959338%2C%2056.848695%5D%2C%20%5B-158.784076%2C%2056.782971%5D%2C%20%5B-158.641675%2C%2056.810356%5D%2C%20%5B-158.701922%2C%2056.925372%5D%2C%20%5B-158.658106%2C%2057.034911%5D%2C%20%5B-158.378782%2C%2057.264942%5D%2C%20%5B-157.995396%2C%2057.41282%5D%2C%20%5B-157.688688%2C%2057.609989%5D%2C%20%5B-157.705118%2C%2057.719528%5D%2C%20%5B-157.458656%2C%2058.497254%5D%2C%20%5B-157.07527%2C%2058.705377%5D%2C%20%5B-157.119086%2C%2058.869686%5D%2C%20%5B-158.039212%2C%2058.634177%5D%2C%20%5B-158.32949%2C%2058.661562%5D%2C%20%5B-158.40069%2C%2058.760147%5D%2C%20%5B-158.564998%2C%2058.803962%5D%2C%20%5B-158.619768%2C%2058.913501%5D%2C%20%5B-158.767645%2C%2058.864209%5D%2C%20%5B-158.860753%2C%2058.694424%5D%2C%20%5B-158.701922%2C%2058.480823%5D%2C%20%5B-158.893615%2C%2058.387715%5D%2C%20%5B-159.0634%2C%2058.420577%5D%2C%20%5B-159.392016%2C%2058.760147%5D%2C%20%5B-159.616571%2C%2058.929932%5D%2C%20%5B-159.731586%2C%2058.929932%5D%2C%20%5B-159.808264%2C%2058.803962%5D%2C%20%5B-159.906848%2C%2058.782055%5D%2C%20%5B-160.054726%2C%2058.886116%5D%2C%20%5B-160.235465%2C%2058.902547%5D%2C%20%5B-160.317619%2C%2059.072332%5D%2C%20%5B-160.854359%2C%2058.88064%5D%2C%20%5B-161.33633%2C%2058.743716%5D%2C%20%5B-161.374669%2C%2058.667039%5D%2C%20%5B-161.752577%2C%2058.552023%5D%2C%20%5B-161.938793%2C%2058.656085%5D%2C%20%5B-161.769008%2C%2058.776578%5D%2C%20%5B-161.829255%2C%2059.061379%5D%2C%20%5B-161.955224%2C%2059.36261%5D%2C%20%5B-161.703285%2C%2059.48858%5D%2C%20%5B-161.911409%2C%2059.740519%5D%2C%20%5B-162.092148%2C%2059.88292%5D%2C%20%5B-162.234548%2C%2060.091043%5D%2C%20%5B-162.448149%2C%2060.178674%5D%2C%20%5B-162.502918%2C%2059.997935%5D%2C%20%5B-162.760334%2C%2059.959597%5D%2C%20%5B-163.171105%2C%2059.844581%5D%2C%20%5B-163.66403%2C%2059.795289%5D%2C%20%5B-163.9324%2C%2059.806242%5D%2C%20%5B-164.162431%2C%2059.866489%5D%2C%20%5B-164.189816%2C%2060.02532%5D%2C%20%5B-164.386986%2C%2060.074613%5D%2C%20%5B-164.699171%2C%2060.29369%5D%2C%20%5B-164.962064%2C%2060.337506%5D%2C%20%5B-165.268773%2C%2060.578491%5D%2C%20%5B-165.060649%2C%2060.68803%5D%2C%20%5B-165.016834%2C%2060.890677%5D%2C%20%5B-165.175665%2C%2060.846861%5D%2C%20%5B-165.197573%2C%2060.972831%5D%2C%20%5B-165.120896%2C%2061.076893%5D%2C%20%5B-165.323543%2C%2061.170001%5D%2C%20%5B-165.34545%2C%2061.071416%5D%2C%20%5B-165.591913%2C%2061.109754%5D%2C%20%5B-165.624774%2C%2061.279539%5D%2C%20%5B-165.816467%2C%2061.301447%5D%2C%20%5B-165.920529%2C%2061.416463%5D%2C%20%5B-165.915052%2C%2061.558863%5D%2C%20%5B-166.106745%2C%2061.49314%5D%2C%20%5B-166.139607%2C%2061.630064%5D%2C%20%5B-165.904098%2C%2061.662925%5D%2C%20%5B-166.095791%2C%2061.81628%5D%2C%20%5B-165.756221%2C%2061.827233%5D%2C%20%5B-165.756221%2C%2062.013449%5D%2C%20%5B-165.674067%2C%2062.139419%5D%2C%20%5B-165.044219%2C%2062.539236%5D%2C%20%5B-164.912772%2C%2062.659728%5D%2C%20%5B-164.819664%2C%2062.637821%5D%2C%20%5B-164.874433%2C%2062.807606%5D%2C%20%5B-164.633448%2C%2063.097884%5D%2C%20%5B-164.425324%2C%2063.212899%5D%2C%20%5B-164.036462%2C%2063.262192%5D%2C%20%5B-163.73523%2C%2063.212899%5D%2C%20%5B-163.313505%2C%2063.037637%5D%2C%20%5B-163.039658%2C%2063.059545%5D%2C%20%5B-162.661749%2C%2063.22933%5D%2C%20%5B-162.272887%2C%2063.486746%5D%2C%20%5B-162.075717%2C%2063.514131%5D%2C%20%5B-162.026424%2C%2063.448408%5D%2C%20%5B-161.555408%2C%2063.448408%5D%2C%20%5B-161.13916%2C%2063.503177%5D%2C%20%5B-160.766728%2C%2063.771547%5D%2C%20%5B-160.766728%2C%2063.837271%5D%2C%20%5B-160.952944%2C%2064.08921%5D%2C%20%5B-160.974852%2C%2064.237087%5D%2C%20%5B-161.26513%2C%2064.395918%5D%2C%20%5B-161.374669%2C%2064.532842%5D%2C%20%5B-161.078914%2C%2064.494503%5D%2C%20%5B-160.79959%2C%2064.609519%5D%2C%20%5B-160.783159%2C%2064.719058%5D%2C%20%5B-161.144637%2C%2064.921705%5D%2C%20%5B-161.413007%2C%2064.762873%5D%2C%20%5B-161.664946%2C%2064.790258%5D%2C%20%5B-161.900455%2C%2064.702627%5D%2C%20%5B-162.168825%2C%2064.680719%5D%2C%20%5B-162.234548%2C%2064.620473%5D%2C%20%5B-162.541257%2C%2064.532842%5D%2C%20%5B-162.634365%2C%2064.384965%5D%2C%20%5B-162.787719%2C%2064.324718%5D%2C%20%5B-162.858919%2C%2064.49998%5D%2C%20%5B-163.045135%2C%2064.538319%5D%2C%20%5B-163.176582%2C%2064.401395%5D%2C%20%5B-163.253259%2C%2064.467119%5D%2C%20%5B-163.598306%2C%2064.565704%5D%2C%20%5B-164.304832%2C%2064.560227%5D%2C%20%5B-164.80871%2C%2064.450688%5D%2C%20%5B-165.000403%2C%2064.434257%5D%2C%20%5B-165.411174%2C%2064.49998%5D%2C%20%5B-166.188899%2C%2064.576658%5D%2C%20%5B-166.391546%2C%2064.636904%5D%2C%20%5B-166.484654%2C%2064.735489%5D%2C%20%5B-166.413454%2C%2064.872412%5D%2C%20%5B-166.692778%2C%2064.987428%5D%2C%20%5B-166.638008%2C%2065.113398%5D%2C%20%5B-166.462746%2C%2065.179121%5D%2C%20%5B-166.517516%2C%2065.337952%5D%2C%20%5B-166.796839%2C%2065.337952%5D%2C%20%5B-167.026871%2C%2065.381768%5D%2C%20%5B-167.47598%2C%2065.414629%5D%2C%20%5B-167.711489%2C%2065.496784%5D%2C%20%5B-168.072967%2C%2065.578938%5D%2C%20%5B-168.105828%2C%2065.682999%5D%2C%20%5B-167.541703%2C%2065.819923%5D%2C%20%5B-166.829701%2C%2066.049954%5D%2C%20%5B-166.3313%2C%2066.186878%5D%2C%20%5B-166.046499%2C%2066.110201%5D%2C%20%5B-165.756221%2C%2066.09377%5D%2C%20%5B-165.690498%2C%2066.203309%5D%2C%20%5B-165.86576%2C%2066.21974%5D%2C%20%5B-165.88219%2C%2066.312848%5D%2C%20%5B-165.186619%2C%2066.466202%5D%2C%20%5B-164.403417%2C%2066.581218%5D%2C%20%5B-163.981692%2C%2066.592172%5D%2C%20%5B-163.751661%2C%2066.553833%5D%2C%20%5B-163.872153%2C%2066.389525%5D%2C%20%5B-163.828338%2C%2066.274509%5D%2C%20%5B-163.915969%2C%2066.192355%5D%2C%20%5B-163.768091%2C%2066.060908%5D%2C%20%5B-163.494244%2C%2066.082816%5D%2C%20%5B-163.149197%2C%2066.060908%5D%2C%20%5B-162.749381%2C%2066.088293%5D%2C%20%5B-162.634365%2C%2066.039001%5D%2C%20%5B-162.371472%2C%2066.028047%5D%2C%20%5B-162.14144%2C%2066.077339%5D%2C%20%5B-161.840208%2C%2066.02257%5D%2C%20%5B-161.549931%2C%2066.241647%5D%2C%20%5B-161.341807%2C%2066.252601%5D%2C%20%5B-161.199406%2C%2066.208786%5D%2C%20%5B-161.128206%2C%2066.334755%5D%2C%20%5B-161.528023%2C%2066.395002%5D%2C%20%5B-161.911409%2C%2066.345709%5D%2C%20%5B-161.87307%2C%2066.510017%5D%2C%20%5B-162.174302%2C%2066.68528%5D%2C%20%5B-162.502918%2C%2066.740049%5D%2C%20%5B-162.601503%2C%2066.89888%5D%2C%20%5B-162.344087%2C%2066.937219%5D%2C%20%5B-162.015471%2C%2066.778388%5D%2C%20%5B-162.075717%2C%2066.652418%5D%2C%20%5B-161.916886%2C%2066.553833%5D%2C%20%5B-161.571838%2C%2066.438817%5D%2C%20%5B-161.489684%2C%2066.55931%5D%2C%20%5B-161.884024%2C%2066.718141%5D%2C%20%5B-161.714239%2C%2067.002942%5D%2C%20%5B-161.851162%2C%2067.052235%5D%2C%20%5B-162.240025%2C%2066.991988%5D%2C%20%5B-162.639842%2C%2067.008419%5D%2C%20%5B-162.700088%2C%2067.057712%5D%2C%20%5B-162.902735%2C%2067.008419%5D%2C%20%5B-163.740707%2C%2067.128912%5D%2C%20%5B-163.757138%2C%2067.254881%5D%2C%20%5B-164.009077%2C%2067.534205%5D%2C%20%5B-164.211724%2C%2067.638267%5D%2C%20%5B-164.534863%2C%2067.725898%5D%2C%20%5B-165.192096%2C%2067.966884%5D%2C%20%5B-165.493328%2C%2068.059992%5D%2C%20%5B-165.794559%2C%2068.081899%5D%2C%20%5B-166.243668%2C%2068.246208%5D%2C%20%5B-166.681824%2C%2068.339316%5D%2C%20%5B-166.703731%2C%2068.372177%5D%2C%20%5B-166.375115%2C%2068.42147%5D%2C%20%5B-166.227238%2C%2068.574824%5D%2C%20%5B-166.216284%2C%2068.881533%5D%2C%20%5B-165.329019%2C%2068.859625%5D%2C%20%5B-164.255539%2C%2068.930825%5D%2C%20%5B-163.976215%2C%2068.985595%5D%2C%20%5B-163.532583%2C%2069.138949%5D%2C%20%5B-163.110859%2C%2069.374457%5D%2C%20%5B-163.023228%2C%2069.609966%5D%2C%20%5B-162.842489%2C%2069.812613%5D%2C%20%5B-162.470057%2C%2069.982398%5D%2C%20%5B-162.311225%2C%2070.108367%5D%2C%20%5B-161.851162%2C%2070.311014%5D%2C%20%5B-161.779962%2C%2070.256245%5D%2C%20%5B-161.396576%2C%2070.239814%5D%2C%20%5B-160.837928%2C%2070.343876%5D%2C%20%5B-160.487404%2C%2070.453415%5D%2C%20%5B-159.649432%2C%2070.792985%5D%2C%20%5B-159.33177%2C%2070.809416%5D%2C%20%5B-159.298908%2C%2070.760123%5D%2C%20%5B-158.975769%2C%2070.798462%5D%2C%20%5B-158.658106%2C%2070.787508%5D%2C%20%5B-158.033735%2C%2070.831323%5D%2C%20%5B-157.420318%2C%2070.979201%5D%2C%20%5B-156.812377%2C%2071.285909%5D%2C%20%5B-156.565915%2C%2071.351633%5D%2C%20%5B-156.522099%2C%2071.296863%5D%2C%20%5B-155.585543%2C%2071.170894%5D%2C%20%5B-155.508865%2C%2071.083263%5D%2C%20%5B-155.832005%2C%2070.968247%5D%2C%20%5B-155.979882%2C%2070.96277%5D%2C%20%5B-155.974405%2C%2070.809416%5D%2C%20%5B-155.503388%2C%2070.858708%5D%2C%20%5B-155.476004%2C%2070.940862%5D%2C%20%5B-155.262403%2C%2071.017539%5D%2C%20%5B-155.191203%2C%2070.973724%5D%2C%20%5B-155.032372%2C%2071.148986%5D%2C%20%5B-154.566832%2C%2070.990155%5D%2C%20%5B-154.643509%2C%2070.869662%5D%2C%20%5B-154.353231%2C%2070.8368%5D%2C%20%5B-154.183446%2C%2070.7656%5D%2C%20%5B-153.931507%2C%2070.880616%5D%2C%20%5B-153.487874%2C%2070.886093%5D%2C%20%5B-153.235935%2C%2070.924431%5D%2C%20%5B-152.589656%2C%2070.886093%5D%2C%20%5B-152.26104%2C%2070.842277%5D%2C%20%5B-152.419871%2C%2070.606769%5D%2C%20%5B-151.817408%2C%2070.546523%5D%2C%20%5B-151.773592%2C%2070.486276%5D%2C%20%5B-151.187559%2C%2070.382214%5D%2C%20%5B-151.182082%2C%2070.431507%5D%2C%20%5B-150.760358%2C%2070.49723%5D%2C%20%5B-150.355064%2C%2070.491753%5D%2C%20%5B-150.349588%2C%2070.436984%5D%2C%20%5B-150.114079%2C%2070.431507%5D%2C%20%5B-149.867617%2C%2070.508184%5D%2C%20%5B-149.462323%2C%2070.519138%5D%2C%20%5B-149.177522%2C%2070.486276%5D%2C%20%5B-148.78866%2C%2070.404122%5D%2C%20%5B-148.607921%2C%2070.420553%5D%2C%20%5B-148.350504%2C%2070.305537%5D%2C%20%5B-148.202627%2C%2070.349353%5D%2C%20%5B-147.961642%2C%2070.316491%5D%2C%20%5B-147.786379%2C%2070.245291%5D%5D%5D%2C%20%5B%5B%5B-152.94018%2C%2058.026237%5D%2C%20%5B-152.945657%2C%2057.982421%5D%2C%20%5B-153.290705%2C%2058.048145%5D%2C%20%5B-153.044242%2C%2058.305561%5D%2C%20%5B-152.819688%2C%2058.327469%5D%2C%20%5B-152.666333%2C%2058.562977%5D%2C%20%5B-152.496548%2C%2058.354853%5D%2C%20%5B-152.354148%2C%2058.426053%5D%2C%20%5B-152.080301%2C%2058.311038%5D%2C%20%5B-152.080301%2C%2058.152206%5D%2C%20%5B-152.480117%2C%2058.130299%5D%2C%20%5B-152.655379%2C%2058.059098%5D%2C%20%5B-152.94018%2C%2058.026237%5D%5D%5D%2C%20%5B%5B%5B-153.958891%2C%2057.538789%5D%2C%20%5B-153.67409%2C%2057.670236%5D%2C%20%5B-153.931507%2C%2057.69762%5D%2C%20%5B-153.936983%2C%2057.812636%5D%2C%20%5B-153.723383%2C%2057.889313%5D%2C%20%5B-153.570028%2C%2057.834544%5D%2C%20%5B-153.548121%2C%2057.719528%5D%2C%20%5B-153.46049%2C%2057.796205%5D%2C%20%5B-153.455013%2C%2057.96599%5D%2C%20%5B-153.268797%2C%2057.889313%5D%2C%20%5B-153.235935%2C%2057.998852%5D%2C%20%5B-153.071627%2C%2057.933129%5D%2C%20%5B-152.874457%2C%2057.933129%5D%2C%20%5B-152.721103%2C%2057.993375%5D%2C%20%5B-152.469163%2C%2057.889313%5D%2C%20%5B-152.469163%2C%2057.599035%5D%2C%20%5B-152.151501%2C%2057.620943%5D%2C%20%5B-152.359625%2C%2057.42925%5D%2C%20%5B-152.74301%2C%2057.505928%5D%2C%20%5B-152.60061%2C%2057.379958%5D%2C%20%5B-152.710149%2C%2057.275896%5D%2C%20%5B-152.907319%2C%2057.325188%5D%2C%20%5B-152.912796%2C%2057.128019%5D%2C%20%5B-153.214027%2C%2057.073249%5D%2C%20%5B-153.312612%2C%2056.991095%5D%2C%20%5B-153.498828%2C%2057.067772%5D%2C%20%5B-153.695998%2C%2056.859649%5D%2C%20%5B-153.849352%2C%2056.837741%5D%2C%20%5B-154.013661%2C%2056.744633%5D%2C%20%5B-154.073907%2C%2056.969187%5D%2C%20%5B-154.303938%2C%2056.848695%5D%2C%20%5B-154.314892%2C%2056.919895%5D%2C%20%5B-154.523016%2C%2056.991095%5D%2C%20%5B-154.539447%2C%2057.193742%5D%2C%20%5B-154.742094%2C%2057.275896%5D%2C%20%5B-154.627078%2C%2057.511404%5D%2C%20%5B-154.227261%2C%2057.659282%5D%2C%20%5B-153.980799%2C%2057.648328%5D%2C%20%5B-153.958891%2C%2057.538789%5D%5D%5D%2C%20%5B%5B%5B-154.53397%2C%2056.602232%5D%2C%20%5B-154.742094%2C%2056.399586%5D%2C%20%5B-154.807817%2C%2056.432447%5D%2C%20%5B-154.53397%2C%2056.602232%5D%5D%5D%2C%20%5B%5B%5B-155.634835%2C%2055.923092%5D%2C%20%5B-155.476004%2C%2055.912138%5D%2C%20%5B-155.530773%2C%2055.704014%5D%2C%20%5B-155.793666%2C%2055.731399%5D%2C%20%5B-155.837482%2C%2055.802599%5D%2C%20%5B-155.634835%2C%2055.923092%5D%5D%5D%2C%20%5B%5B%5B-159.890418%2C%2055.28229%5D%2C%20%5B-159.950664%2C%2055.068689%5D%2C%20%5B-160.257373%2C%2054.893427%5D%2C%20%5B-160.109495%2C%2055.161797%5D%2C%20%5B-160.005433%2C%2055.134412%5D%2C%20%5B-159.890418%2C%2055.28229%5D%5D%5D%2C%20%5B%5B%5B-160.520266%2C%2055.358967%5D%2C%20%5B-160.33405%2C%2055.358967%5D%2C%20%5B-160.339527%2C%2055.249428%5D%2C%20%5B-160.525743%2C%2055.128935%5D%2C%20%5B-160.690051%2C%2055.211089%5D%2C%20%5B-160.794113%2C%2055.134412%5D%2C%20%5B-160.854359%2C%2055.320628%5D%2C%20%5B-160.79959%2C%2055.380875%5D%2C%20%5B-160.520266%2C%2055.358967%5D%5D%5D%2C%20%5B%5B%5B-162.256456%2C%2054.981058%5D%2C%20%5B-162.234548%2C%2054.893427%5D%2C%20%5B-162.349564%2C%2054.838658%5D%2C%20%5B-162.437195%2C%2054.931766%5D%2C%20%5B-162.256456%2C%2054.981058%5D%5D%5D%2C%20%5B%5B%5B-162.415287%2C%2063.634624%5D%2C%20%5B-162.563165%2C%2063.536039%5D%2C%20%5B-162.612457%2C%2063.62367%5D%2C%20%5B-162.415287%2C%2063.634624%5D%5D%5D%2C%20%5B%5B%5B-162.80415%2C%2054.488133%5D%2C%20%5B-162.590549%2C%2054.449795%5D%2C%20%5B-162.612457%2C%2054.367641%5D%2C%20%5B-162.782242%2C%2054.373118%5D%2C%20%5B-162.80415%2C%2054.488133%5D%5D%5D%2C%20%5B%5B%5B-165.548097%2C%2054.29644%5D%2C%20%5B-165.476897%2C%2054.181425%5D%2C%20%5B-165.630251%2C%2054.132132%5D%2C%20%5B-165.685021%2C%2054.252625%5D%2C%20%5B-165.548097%2C%2054.29644%5D%5D%5D%2C%20%5B%5B%5B-165.73979%2C%2054.15404%5D%2C%20%5B-166.046499%2C%2054.044501%5D%2C%20%5B-166.112222%2C%2054.121178%5D%2C%20%5B-165.980775%2C%2054.219763%5D%2C%20%5B-165.73979%2C%2054.15404%5D%5D%5D%2C%20%5B%5B%5B-166.364161%2C%2060.359413%5D%2C%20%5B-166.13413%2C%2060.397752%5D%2C%20%5B-166.084837%2C%2060.326552%5D%2C%20%5B-165.88219%2C%2060.342983%5D%2C%20%5B-165.685021%2C%2060.277259%5D%2C%20%5B-165.646682%2C%2059.992458%5D%2C%20%5B-165.750744%2C%2059.89935%5D%2C%20%5B-166.00816%2C%2059.844581%5D%2C%20%5B-166.062929%2C%2059.745996%5D%2C%20%5B-166.440838%2C%2059.855535%5D%2C%20%5B-166.6161%2C%2059.850058%5D%2C%20%5B-166.994009%2C%2059.992458%5D%2C%20%5B-167.125456%2C%2059.992458%5D%2C%20%5B-167.344534%2C%2060.074613%5D%2C%20%5B-167.421211%2C%2060.206059%5D%2C%20%5B-167.311672%2C%2060.238921%5D%2C%20%5B-166.93924%2C%2060.206059%5D%2C%20%5B-166.763978%2C%2060.310121%5D%2C%20%5B-166.577762%2C%2060.321075%5D%2C%20%5B-166.495608%2C%2060.392275%5D%2C%20%5B-166.364161%2C%2060.359413%5D%5D%5D%2C%20%5B%5B%5B-166.375115%2C%2054.01164%5D%2C%20%5B-166.210807%2C%2053.934962%5D%2C%20%5B-166.5449%2C%2053.748746%5D%2C%20%5B-166.539423%2C%2053.715885%5D%2C%20%5B-166.117699%2C%2053.852808%5D%2C%20%5B-166.112222%2C%2053.776131%5D%2C%20%5B-166.282007%2C%2053.683023%5D%2C%20%5B-166.555854%2C%2053.622777%5D%2C%20%5B-166.583239%2C%2053.529669%5D%2C%20%5B-166.878994%2C%2053.431084%5D%2C%20%5B-167.13641%2C%2053.425607%5D%2C%20%5B-167.306195%2C%2053.332499%5D%2C%20%5B-167.623857%2C%2053.250345%5D%2C%20%5B-167.793643%2C%2053.337976%5D%2C%20%5B-167.459549%2C%2053.442038%5D%2C%20%5B-167.355487%2C%2053.425607%5D%2C%20%5B-167.103548%2C%2053.513238%5D%2C%20%5B-167.163794%2C%2053.611823%5D%2C%20%5B-167.021394%2C%2053.715885%5D%2C%20%5B-166.807793%2C%2053.666592%5D%2C%20%5B-166.785886%2C%2053.732316%5D%2C%20%5B-167.015917%2C%2053.754223%5D%2C%20%5B-167.141887%2C%2053.825424%5D%2C%20%5B-167.032348%2C%2053.945916%5D%2C%20%5B-166.643485%2C%2054.017116%5D%2C%20%5B-166.561331%2C%2053.880193%5D%2C%20%5B-166.375115%2C%2054.01164%5D%5D%5D%2C%20%5B%5B%5B-168.790446%2C%2053.157237%5D%2C%20%5B-168.40706%2C%2053.34893%5D%2C%20%5B-168.385152%2C%2053.431084%5D%2C%20%5B-168.237275%2C%2053.524192%5D%2C%20%5B-168.007243%2C%2053.568007%5D%2C%20%5B-167.886751%2C%2053.518715%5D%2C%20%5B-167.842935%2C%2053.387268%5D%2C%20%5B-168.270136%2C%2053.244868%5D%2C%20%5B-168.500168%2C%2053.036744%5D%2C%20%5B-168.686384%2C%2052.965544%5D%2C%20%5B-168.790446%2C%2053.157237%5D%5D%5D%2C%20%5B%5B%5B-169.74891%2C%2052.894344%5D%2C%20%5B-169.705095%2C%2052.795759%5D%2C%20%5B-169.962511%2C%2052.790282%5D%2C%20%5B-169.989896%2C%2052.856005%5D%2C%20%5B-169.74891%2C%2052.894344%5D%5D%5D%2C%20%5B%5B%5B-170.148727%2C%2057.221127%5D%2C%20%5B-170.28565%2C%2057.128019%5D%2C%20%5B-170.313035%2C%2057.221127%5D%2C%20%5B-170.148727%2C%2057.221127%5D%5D%5D%2C%20%5B%5B%5B-170.669036%2C%2052.697174%5D%2C%20%5B-170.603313%2C%2052.604066%5D%2C%20%5B-170.789529%2C%2052.538343%5D%2C%20%5B-170.816914%2C%2052.636928%5D%2C%20%5B-170.669036%2C%2052.697174%5D%5D%5D%2C%20%5B%5B%5B-171.742517%2C%2063.716778%5D%2C%20%5B-170.94836%2C%2063.5689%5D%2C%20%5B-170.488297%2C%2063.69487%5D%2C%20%5B-170.280174%2C%2063.683916%5D%2C%20%5B-170.093958%2C%2063.612716%5D%2C%20%5B-170.044665%2C%2063.492223%5D%2C%20%5B-169.644848%2C%2063.4265%5D%2C%20%5B-169.518879%2C%2063.366254%5D%2C%20%5B-168.99857%2C%2063.338869%5D%2C%20%5B-168.686384%2C%2063.295053%5D%2C%20%5B-168.856169%2C%2063.147176%5D%2C%20%5B-169.108108%2C%2063.180038%5D%2C%20%5B-169.376478%2C%2063.152653%5D%2C%20%5B-169.513402%2C%2063.08693%5D%2C%20%5B-169.639372%2C%2062.939052%5D%2C%20%5B-169.831064%2C%2063.075976%5D%2C%20%5B-170.055619%2C%2063.169084%5D%2C%20%5B-170.263743%2C%2063.180038%5D%2C%20%5B-170.362328%2C%2063.2841%5D%2C%20%5B-170.866206%2C%2063.415546%5D%2C%20%5B-171.101715%2C%2063.421023%5D%2C%20%5B-171.463193%2C%2063.306007%5D%2C%20%5B-171.73704%2C%2063.366254%5D%2C%20%5B-171.852055%2C%2063.486746%5D%2C%20%5B-171.742517%2C%2063.716778%5D%5D%5D%2C%20%5B%5B%5B-172.432611%2C%2052.390465%5D%2C%20%5B-172.41618%2C%2052.275449%5D%2C%20%5B-172.607873%2C%2052.253542%5D%2C%20%5B-172.569535%2C%2052.352127%5D%2C%20%5B-172.432611%2C%2052.390465%5D%5D%5D%2C%20%5B%5B%5B-173.626584%2C%2052.14948%5D%2C%20%5B-173.495138%2C%2052.105664%5D%2C%20%5B-173.122706%2C%2052.111141%5D%2C%20%5B-173.106275%2C%2052.07828%5D%2C%20%5B-173.549907%2C%2052.028987%5D%2C%20%5B-173.626584%2C%2052.14948%5D%5D%5D%2C%20%5B%5B%5B-174.322156%2C%2052.280926%5D%2C%20%5B-174.327632%2C%2052.379511%5D%2C%20%5B-174.185232%2C%2052.41785%5D%2C%20%5B-173.982585%2C%2052.319265%5D%2C%20%5B-174.059262%2C%2052.226157%5D%2C%20%5B-174.179755%2C%2052.231634%5D%2C%20%5B-174.141417%2C%2052.127572%5D%2C%20%5B-174.333109%2C%2052.116618%5D%2C%20%5B-174.738403%2C%2052.007079%5D%2C%20%5B-174.968435%2C%2052.039941%5D%2C%20%5B-174.902711%2C%2052.116618%5D%2C%20%5B-174.656249%2C%2052.105664%5D%2C%20%5B-174.322156%2C%2052.280926%5D%5D%5D%2C%20%5B%5B%5B-176.469116%2C%2051.853725%5D%2C%20%5B-176.288377%2C%2051.870156%5D%2C%20%5B-176.288377%2C%2051.744186%5D%2C%20%5B-176.518409%2C%2051.760617%5D%2C%20%5B-176.80321%2C%2051.61274%5D%2C%20%5B-176.912748%2C%2051.80991%5D%2C%20%5B-176.792256%2C%2051.815386%5D%2C%20%5B-176.775825%2C%2051.963264%5D%2C%20%5B-176.627947%2C%2051.968741%5D%2C%20%5B-176.627947%2C%2051.859202%5D%2C%20%5B-176.469116%2C%2051.853725%5D%5D%5D%2C%20%5B%5B%5B-177.153734%2C%2051.946833%5D%2C%20%5B-177.044195%2C%2051.897541%5D%2C%20%5B-177.120872%2C%2051.727755%5D%2C%20%5B-177.274226%2C%2051.678463%5D%2C%20%5B-177.279703%2C%2051.782525%5D%2C%20%5B-177.153734%2C%2051.946833%5D%5D%5D%2C%20%5B%5B%5B-178.123152%2C%2051.919448%5D%2C%20%5B-177.953367%2C%2051.913971%5D%2C%20%5B-177.800013%2C%2051.793479%5D%2C%20%5B-177.964321%2C%2051.651078%5D%2C%20%5B-178.123152%2C%2051.919448%5D%5D%5D%2C%20%5B%5B%5B173.107557%2C%2052.992929%5D%2C%20%5B173.293773%2C%2052.927205%5D%2C%20%5B173.304726%2C%2052.823143%5D%2C%20%5B172.90491%2C%2052.762897%5D%2C%20%5B172.642017%2C%2052.927205%5D%2C%20%5B172.642017%2C%2053.003883%5D%2C%20%5B173.107557%2C%2052.992929%5D%5D%5D%5D%2C%20%22type%22%3A%20%22MultiPolygon%22%7D%2C%20%22id%22%3A%20%22AK%22%2C%20%22properties%22%3A%20%7B%22name%22%3A%20%22Alaska%22%7D%2C%20%22type%22%3A%20%22Feature%22%7D%2C%20%7B%22geometry%22%3A%20%7B%22coordinates%22%3A%20%5B%5B%5B-109.042503%2C%2037.000263%5D%2C%20%5B-109.04798%2C%2031.331629%5D%2C%20%5B-111.074448%2C%2031.331629%5D%2C%20%5B-112.246513%2C%2031.704061%5D%2C%20%5B-114.815198%2C%2032.492741%5D%2C%20%5B-114.72209%2C%2032.717295%5D%2C%20%5B-114.524921%2C%2032.755634%5D%2C%20%5B-114.470151%2C%2032.843265%5D%2C%20%5B-114.524921%2C%2033.029481%5D%2C%20%5B-114.661844%2C%2033.034958%5D%2C%20%5B-114.727567%2C%2033.40739%5D%2C%20%5B-114.524921%2C%2033.54979%5D%2C%20%5B-114.497536%2C%2033.697668%5D%2C%20%5B-114.535874%2C%2033.933176%5D%2C%20%5B-114.415382%2C%2034.108438%5D%2C%20%5B-114.256551%2C%2034.174162%5D%2C%20%5B-114.136058%2C%2034.305608%5D%2C%20%5B-114.333228%2C%2034.448009%5D%2C%20%5B-114.470151%2C%2034.710902%5D%2C%20%5B-114.634459%2C%2034.87521%5D%2C%20%5B-114.634459%2C%2035.00118%5D%2C%20%5B-114.574213%2C%2035.138103%5D%2C%20%5B-114.596121%2C%2035.324319%5D%2C%20%5B-114.678275%2C%2035.516012%5D%2C%20%5B-114.738521%2C%2036.102045%5D%2C%20%5B-114.371566%2C%2036.140383%5D%2C%20%5B-114.251074%2C%2036.01989%5D%2C%20%5B-114.152489%2C%2036.025367%5D%2C%20%5B-114.048427%2C%2036.195153%5D%2C%20%5B-114.048427%2C%2037.000263%5D%2C%20%5B-110.499369%2C%2037.00574%5D%2C%20%5B-109.042503%2C%2037.000263%5D%5D%5D%2C%20%22type%22%3A%20%22Polygon%22%7D%2C%20%22id%22%3A%20%22AZ%22%2C%20%22properties%22%3A%20%7B%22name%22%3A%20%22Arizona%22%7D%2C%20%22type%22%3A%20%22Feature%22%7D%2C%20%7B%22geometry%22%3A%20%7B%22coordinates%22%3A%20%5B%5B%5B-123.233256%2C%2042.006186%5D%2C%20%5B-122.378853%2C%2042.011663%5D%2C%20%5B-121.037003%2C%2041.995232%5D%2C%20%5B-120.001861%2C%2041.995232%5D%2C%20%5B-119.996384%2C%2040.264519%5D%2C%20%5B-120.001861%2C%2038.999346%5D%2C%20%5B-118.71478%2C%2038.101128%5D%2C%20%5B-117.498899%2C%2037.21934%5D%2C%20%5B-116.540435%2C%2036.501861%5D%2C%20%5B-115.85034%2C%2035.970598%5D%2C%20%5B-114.634459%2C%2035.00118%5D%2C%20%5B-114.634459%2C%2034.87521%5D%2C%20%5B-114.470151%2C%2034.710902%5D%2C%20%5B-114.333228%2C%2034.448009%5D%2C%20%5B-114.136058%2C%2034.305608%5D%2C%20%5B-114.256551%2C%2034.174162%5D%2C%20%5B-114.415382%2C%2034.108438%5D%2C%20%5B-114.535874%2C%2033.933176%5D%2C%20%5B-114.497536%2C%2033.697668%5D%2C%20%5B-114.524921%2C%2033.54979%5D%2C%20%5B-114.727567%2C%2033.40739%5D%2C%20%5B-114.661844%2C%2033.034958%5D%2C%20%5B-114.524921%2C%2033.029481%5D%2C%20%5B-114.470151%2C%2032.843265%5D%2C%20%5B-114.524921%2C%2032.755634%5D%2C%20%5B-114.72209%2C%2032.717295%5D%2C%20%5B-116.04751%2C%2032.624187%5D%2C%20%5B-117.126467%2C%2032.536556%5D%2C%20%5B-117.24696%2C%2032.668003%5D%2C%20%5B-117.252437%2C%2032.876127%5D%2C%20%5B-117.329114%2C%2033.122589%5D%2C%20%5B-117.471515%2C%2033.297851%5D%2C%20%5B-117.7837%2C%2033.538836%5D%2C%20%5B-118.183517%2C%2033.763391%5D%2C%20%5B-118.260194%2C%2033.703145%5D%2C%20%5B-118.413548%2C%2033.741483%5D%2C%20%5B-118.391641%2C%2033.840068%5D%2C%20%5B-118.566903%2C%2034.042715%5D%2C%20%5B-118.802411%2C%2033.998899%5D%2C%20%5B-119.218659%2C%2034.146777%5D%2C%20%5B-119.278905%2C%2034.26727%5D%2C%20%5B-119.558229%2C%2034.415147%5D%2C%20%5B-119.875891%2C%2034.40967%5D%2C%20%5B-120.138784%2C%2034.475393%5D%2C%20%5B-120.472878%2C%2034.448009%5D%2C%20%5B-120.64814%2C%2034.579455%5D%2C%20%5B-120.609801%2C%2034.858779%5D%2C%20%5B-120.670048%2C%2034.902595%5D%2C%20%5B-120.631709%2C%2035.099764%5D%2C%20%5B-120.894602%2C%2035.247642%5D%2C%20%5B-120.905556%2C%2035.450289%5D%2C%20%5B-121.004141%2C%2035.461243%5D%2C%20%5B-121.168449%2C%2035.636505%5D%2C%20%5B-121.283465%2C%2035.674843%5D%2C%20%5B-121.332757%2C%2035.784382%5D%2C%20%5B-121.716143%2C%2036.195153%5D%2C%20%5B-121.896882%2C%2036.315645%5D%2C%20%5B-121.935221%2C%2036.638785%5D%2C%20%5B-121.858544%2C%2036.6114%5D%2C%20%5B-121.787344%2C%2036.803093%5D%2C%20%5B-121.929744%2C%2036.978355%5D%2C%20%5B-122.105006%2C%2036.956447%5D%2C%20%5B-122.335038%2C%2037.115279%5D%2C%20%5B-122.417192%2C%2037.241248%5D%2C%20%5B-122.400761%2C%2037.361741%5D%2C%20%5B-122.515777%2C%2037.520572%5D%2C%20%5B-122.515777%2C%2037.783465%5D%2C%20%5B-122.329561%2C%2037.783465%5D%2C%20%5B-122.406238%2C%2038.15042%5D%2C%20%5B-122.488392%2C%2038.112082%5D%2C%20%5B-122.504823%2C%2037.931343%5D%2C%20%5B-122.701993%2C%2037.893004%5D%2C%20%5B-122.937501%2C%2038.029928%5D%2C%20%5B-122.97584%2C%2038.265436%5D%2C%20%5B-123.129194%2C%2038.451652%5D%2C%20%5B-123.331841%2C%2038.566668%5D%2C%20%5B-123.44138%2C%2038.698114%5D%2C%20%5B-123.737134%2C%2038.95553%5D%2C%20%5B-123.687842%2C%2039.032208%5D%2C%20%5B-123.824765%2C%2039.366301%5D%2C%20%5B-123.764519%2C%2039.552517%5D%2C%20%5B-123.85215%2C%2039.831841%5D%2C%20%5B-124.109566%2C%2040.105688%5D%2C%20%5B-124.361506%2C%2040.259042%5D%2C%20%5B-124.410798%2C%2040.439781%5D%2C%20%5B-124.158859%2C%2040.877937%5D%2C%20%5B-124.109566%2C%2041.025814%5D%2C%20%5B-124.158859%2C%2041.14083%5D%2C%20%5B-124.065751%2C%2041.442061%5D%2C%20%5B-124.147905%2C%2041.715908%5D%2C%20%5B-124.257444%2C%2041.781632%5D%2C%20%5B-124.213628%2C%2042.000709%5D%2C%20%5B-123.233256%2C%2042.006186%5D%5D%5D%2C%20%22type%22%3A%20%22Polygon%22%7D%2C%20%22id%22%3A%20%22CA%22%2C%20%22properties%22%3A%20%7B%22name%22%3A%20%22California%22%7D%2C%20%22type%22%3A%20%22Feature%22%7D%2C%20%7B%22geometry%22%3A%20%7B%22coordinates%22%3A%20%5B%5B%5B-85.497137%2C%2030.997536%5D%2C%20%5B-85.004212%2C%2031.003013%5D%2C%20%5B-84.867289%2C%2030.712735%5D%2C%20%5B-83.498053%2C%2030.647012%5D%2C%20%5B-82.216449%2C%2030.570335%5D%2C%20%5B-82.167157%2C%2030.356734%5D%2C%20%5B-82.046664%2C%2030.362211%5D%2C%20%5B-82.002849%2C%2030.564858%5D%2C%20%5B-82.041187%2C%2030.751074%5D%2C%20%5B-81.948079%2C%2030.827751%5D%2C%20%5B-81.718048%2C%2030.745597%5D%2C%20%5B-81.444201%2C%2030.707258%5D%2C%20%5B-81.383954%2C%2030.27458%5D%2C%20%5B-81.257985%2C%2029.787132%5D%2C%20%5B-80.967707%2C%2029.14633%5D%2C%20%5B-80.524075%2C%2028.461713%5D%2C%20%5B-80.589798%2C%2028.41242%5D%2C%20%5B-80.56789%2C%2028.094758%5D%2C%20%5B-80.381674%2C%2027.738757%5D%2C%20%5B-80.091397%2C%2027.021277%5D%2C%20%5B-80.03115%2C%2026.796723%5D%2C%20%5B-80.036627%2C%2026.566691%5D%2C%20%5B-80.146166%2C%2025.739673%5D%2C%20%5B-80.239274%2C%2025.723243%5D%2C%20%5B-80.337859%2C%2025.465826%5D%2C%20%5B-80.304997%2C%2025.383672%5D%2C%20%5B-80.49669%2C%2025.197456%5D%2C%20%5B-80.573367%2C%2025.241272%5D%2C%20%5B-80.759583%2C%2025.164595%5D%2C%20%5B-81.077246%2C%2025.120779%5D%2C%20%5B-81.170354%2C%2025.224841%5D%2C%20%5B-81.126538%2C%2025.378195%5D%2C%20%5B-81.351093%2C%2025.821827%5D%2C%20%5B-81.526355%2C%2025.903982%5D%2C%20%5B-81.679709%2C%2025.843735%5D%2C%20%5B-81.800202%2C%2026.090198%5D%2C%20%5B-81.833064%2C%2026.292844%5D%2C%20%5B-82.041187%2C%2026.517399%5D%2C%20%5B-82.09048%2C%2026.665276%5D%2C%20%5B-82.057618%2C%2026.878877%5D%2C%20%5B-82.172634%2C%2026.917216%5D%2C%20%5B-82.145249%2C%2026.791246%5D%2C%20%5B-82.249311%2C%2026.758384%5D%2C%20%5B-82.566974%2C%2027.300601%5D%2C%20%5B-82.692943%2C%2027.437525%5D%2C%20%5B-82.391711%2C%2027.837342%5D%2C%20%5B-82.588881%2C%2027.815434%5D%2C%20%5B-82.720328%2C%2027.689464%5D%2C%20%5B-82.851774%2C%2027.886634%5D%2C%20%5B-82.676512%2C%2028.434328%5D%2C%20%5B-82.643651%2C%2028.888914%5D%2C%20%5B-82.764143%2C%2028.998453%5D%2C%20%5B-82.802482%2C%2029.14633%5D%2C%20%5B-82.994175%2C%2029.179192%5D%2C%20%5B-83.218729%2C%2029.420177%5D%2C%20%5B-83.399469%2C%2029.518762%5D%2C%20%5B-83.410422%2C%2029.66664%5D%2C%20%5B-83.536392%2C%2029.721409%5D%2C%20%5B-83.640454%2C%2029.885717%5D%2C%20%5B-84.02384%2C%2030.104795%5D%2C%20%5B-84.357933%2C%2030.055502%5D%2C%20%5B-84.341502%2C%2029.902148%5D%2C%20%5B-84.451041%2C%2029.929533%5D%2C%20%5B-84.867289%2C%2029.743317%5D%2C%20%5B-85.310921%2C%2029.699501%5D%2C%20%5B-85.299967%2C%2029.80904%5D%2C%20%5B-85.404029%2C%2029.940487%5D%2C%20%5B-85.924338%2C%2030.236241%5D%2C%20%5B-86.29677%2C%2030.362211%5D%2C%20%5B-86.630863%2C%2030.395073%5D%2C%20%5B-86.910187%2C%2030.373165%5D%2C%20%5B-87.518128%2C%2030.280057%5D%2C%20%5B-87.37025%2C%2030.427934%5D%2C%20%5B-87.446927%2C%2030.510088%5D%2C%20%5B-87.408589%2C%2030.674397%5D%2C%20%5B-87.633143%2C%2030.86609%5D%2C%20%5B-87.600282%2C%2030.997536%5D%2C%20%5B-85.497137%2C%2030.997536%5D%5D%5D%2C%20%22type%22%3A%20%22Polygon%22%7D%2C%20%22id%22%3A%20%22FL%22%2C%20%22properties%22%3A%20%7B%22name%22%3A%20%22Florida%22%7D%2C%20%22type%22%3A%20%22Feature%22%7D%2C%20%7B%22geometry%22%3A%20%7B%22coordinates%22%3A%20%5B%5B%5B-83.109191%2C%2035.00118%5D%2C%20%5B-83.322791%2C%2034.787579%5D%2C%20%5B-83.339222%2C%2034.683517%5D%2C%20%5B-83.005129%2C%2034.469916%5D%2C%20%5B-82.901067%2C%2034.486347%5D%2C%20%5B-82.747713%2C%2034.26727%5D%2C%20%5B-82.714851%2C%2034.152254%5D%2C%20%5B-82.55602%2C%2033.94413%5D%2C%20%5B-82.325988%2C%2033.81816%5D%2C%20%5B-82.194542%2C%2033.631944%5D%2C%20%5B-81.926172%2C%2033.462159%5D%2C%20%5B-81.937125%2C%2033.347144%5D%2C%20%5B-81.761863%2C%2033.160928%5D%2C%20%5B-81.493493%2C%2033.007573%5D%2C%20%5B-81.42777%2C%2032.843265%5D%2C%20%5B-81.416816%2C%2032.629664%5D%2C%20%5B-81.279893%2C%2032.558464%5D%2C%20%5B-81.121061%2C%2032.290094%5D%2C%20%5B-81.115584%2C%2032.120309%5D%2C%20%5B-80.885553%2C%2032.032678%5D%2C%20%5B-81.132015%2C%2031.693108%5D%2C%20%5B-81.175831%2C%2031.517845%5D%2C%20%5B-81.279893%2C%2031.364491%5D%2C%20%5B-81.290846%2C%2031.20566%5D%2C%20%5B-81.400385%2C%2031.13446%5D%2C%20%5B-81.444201%2C%2030.707258%5D%2C%20%5B-81.718048%2C%2030.745597%5D%2C%20%5B-81.948079%2C%2030.827751%5D%2C%20%5B-82.041187%2C%2030.751074%5D%2C%20%5B-82.002849%2C%2030.564858%5D%2C%20%5B-82.046664%2C%2030.362211%5D%2C%20%5B-82.167157%2C%2030.356734%5D%2C%20%5B-82.216449%2C%2030.570335%5D%2C%20%5B-83.498053%2C%2030.647012%5D%2C%20%5B-84.867289%2C%2030.712735%5D%2C%20%5B-85.004212%2C%2031.003013%5D%2C%20%5B-85.113751%2C%2031.27686%5D%2C%20%5B-85.042551%2C%2031.539753%5D%2C%20%5B-85.141136%2C%2031.840985%5D%2C%20%5B-85.053504%2C%2032.01077%5D%2C%20%5B-85.058981%2C%2032.13674%5D%2C%20%5B-84.889196%2C%2032.262709%5D%2C%20%5B-85.004212%2C%2032.322956%5D%2C%20%5B-84.960397%2C%2032.421541%5D%2C%20%5B-85.069935%2C%2032.580372%5D%2C%20%5B-85.184951%2C%2032.859696%5D%2C%20%5B-85.431413%2C%2034.124869%5D%2C%20%5B-85.606675%2C%2034.984749%5D%2C%20%5B-84.319594%2C%2034.990226%5D%2C%20%5B-83.618546%2C%2034.984749%5D%2C%20%5B-83.109191%2C%2035.00118%5D%5D%5D%2C%20%22type%22%3A%20%22Polygon%22%7D%2C%20%22id%22%3A%20%22GA%22%2C%20%22properties%22%3A%20%7B%22name%22%3A%20%22Georgia%22%7D%2C%20%22type%22%3A%20%22Feature%22%7D%2C%20%7B%22geometry%22%3A%20%7B%22coordinates%22%3A%20%5B%5B%5B-90.639984%2C%2042.510065%5D%2C%20%5B-88.788778%2C%2042.493634%5D%2C%20%5B-87.802929%2C%2042.493634%5D%2C%20%5B-87.83579%2C%2042.301941%5D%2C%20%5B-87.682436%2C%2042.077386%5D%2C%20%5B-87.523605%2C%2041.710431%5D%2C%20%5B-87.529082%2C%2039.34987%5D%2C%20%5B-87.63862%2C%2039.169131%5D%2C%20%5B-87.512651%2C%2038.95553%5D%2C%20%5B-87.49622%2C%2038.780268%5D%2C%20%5B-87.62219%2C%2038.637868%5D%2C%20%5B-87.655051%2C%2038.506421%5D%2C%20%5B-87.83579%2C%2038.292821%5D%2C%20%5B-87.950806%2C%2038.27639%5D%2C%20%5B-87.923421%2C%2038.15042%5D%2C%20%5B-88.000098%2C%2038.101128%5D%2C%20%5B-88.060345%2C%2037.865619%5D%2C%20%5B-88.027483%2C%2037.799896%5D%2C%20%5B-88.15893%2C%2037.657496%5D%2C%20%5B-88.065822%2C%2037.482234%5D%2C%20%5B-88.476592%2C%2037.389126%5D%2C%20%5B-88.514931%2C%2037.285064%5D%2C%20%5B-88.421823%2C%2037.153617%5D%2C%20%5B-88.547792%2C%2037.071463%5D%2C%20%5B-88.914747%2C%2037.224817%5D%2C%20%5B-89.029763%2C%2037.213863%5D%2C%20%5B-89.183118%2C%2037.038601%5D%2C%20%5B-89.133825%2C%2036.983832%5D%2C%20%5B-89.292656%2C%2036.994786%5D%2C%20%5B-89.517211%2C%2037.279587%5D%2C%20%5B-89.435057%2C%2037.34531%5D%2C%20%5B-89.517211%2C%2037.537003%5D%2C%20%5B-89.517211%2C%2037.690357%5D%2C%20%5B-89.84035%2C%2037.903958%5D%2C%20%5B-89.949889%2C%2037.88205%5D%2C%20%5B-90.059428%2C%2038.013497%5D%2C%20%5B-90.355183%2C%2038.216144%5D%2C%20%5B-90.349706%2C%2038.374975%5D%2C%20%5B-90.179921%2C%2038.632391%5D%2C%20%5B-90.207305%2C%2038.725499%5D%2C%20%5B-90.10872%2C%2038.845992%5D%2C%20%5B-90.251121%2C%2038.917192%5D%2C%20%5B-90.470199%2C%2038.961007%5D%2C%20%5B-90.585214%2C%2038.867899%5D%2C%20%5B-90.661891%2C%2038.928146%5D%2C%20%5B-90.727615%2C%2039.256762%5D%2C%20%5B-91.061708%2C%2039.470363%5D%2C%20%5B-91.368417%2C%2039.727779%5D%2C%20%5B-91.494386%2C%2040.034488%5D%2C%20%5B-91.50534%2C%2040.237135%5D%2C%20%5B-91.417709%2C%2040.379535%5D%2C%20%5B-91.401278%2C%2040.560274%5D%2C%20%5B-91.121954%2C%2040.669813%5D%2C%20%5B-91.09457%2C%2040.823167%5D%2C%20%5B-90.963123%2C%2040.921752%5D%2C%20%5B-90.946692%2C%2041.097014%5D%2C%20%5B-91.111001%2C%2041.239415%5D%2C%20%5B-91.045277%2C%2041.414677%5D%2C%20%5B-90.656414%2C%2041.463969%5D%2C%20%5B-90.344229%2C%2041.589939%5D%2C%20%5B-90.311367%2C%2041.743293%5D%2C%20%5B-90.179921%2C%2041.809016%5D%2C%20%5B-90.141582%2C%2042.000709%5D%2C%20%5B-90.168967%2C%2042.126679%5D%2C%20%5B-90.393521%2C%2042.225264%5D%2C%20%5B-90.420906%2C%2042.329326%5D%2C%20%5B-90.639984%2C%2042.510065%5D%5D%5D%2C%20%22type%22%3A%20%22Polygon%22%7D%2C%20%22id%22%3A%20%22IL%22%2C%20%22properties%22%3A%20%7B%22name%22%3A%20%22Illinois%22%7D%2C%20%22type%22%3A%20%22Feature%22%7D%2C%20%7B%22geometry%22%3A%20%7B%22coordinates%22%3A%20%5B%5B%5B-85.990061%2C%2041.759724%5D%2C%20%5B-84.807042%2C%2041.759724%5D%2C%20%5B-84.807042%2C%2041.694001%5D%2C%20%5B-84.801565%2C%2040.500028%5D%2C%20%5B-84.817996%2C%2039.103408%5D%2C%20%5B-84.894673%2C%2039.059592%5D%2C%20%5B-84.812519%2C%2038.785745%5D%2C%20%5B-84.987781%2C%2038.780268%5D%2C%20%5B-85.173997%2C%2038.68716%5D%2C%20%5B-85.431413%2C%2038.730976%5D%2C%20%5B-85.42046%2C%2038.533806%5D%2C%20%5B-85.590245%2C%2038.451652%5D%2C%20%5B-85.655968%2C%2038.325682%5D%2C%20%5B-85.83123%2C%2038.27639%5D%2C%20%5B-85.924338%2C%2038.024451%5D%2C%20%5B-86.039354%2C%2037.958727%5D%2C%20%5B-86.263908%2C%2038.051835%5D%2C%20%5B-86.302247%2C%2038.166851%5D%2C%20%5B-86.521325%2C%2038.040881%5D%2C%20%5B-86.504894%2C%2037.931343%5D%2C%20%5B-86.729448%2C%2037.893004%5D%2C%20%5B-86.795172%2C%2037.991589%5D%2C%20%5B-87.047111%2C%2037.893004%5D%2C%20%5B-87.129265%2C%2037.788942%5D%2C%20%5B-87.381204%2C%2037.93682%5D%2C%20%5B-87.512651%2C%2037.903958%5D%2C%20%5B-87.600282%2C%2037.975158%5D%2C%20%5B-87.682436%2C%2037.903958%5D%2C%20%5B-87.934375%2C%2037.893004%5D%2C%20%5B-88.027483%2C%2037.799896%5D%2C%20%5B-88.060345%2C%2037.865619%5D%2C%20%5B-88.000098%2C%2038.101128%5D%2C%20%5B-87.923421%2C%2038.15042%5D%2C%20%5B-87.950806%2C%2038.27639%5D%2C%20%5B-87.83579%2C%2038.292821%5D%2C%20%5B-87.655051%2C%2038.506421%5D%2C%20%5B-87.62219%2C%2038.637868%5D%2C%20%5B-87.49622%2C%2038.780268%5D%2C%20%5B-87.512651%2C%2038.95553%5D%2C%20%5B-87.63862%2C%2039.169131%5D%2C%20%5B-87.529082%2C%2039.34987%5D%2C%20%5B-87.523605%2C%2041.710431%5D%2C%20%5B-87.42502%2C%2041.644708%5D%2C%20%5B-87.118311%2C%2041.644708%5D%2C%20%5B-86.822556%2C%2041.759724%5D%2C%20%5B-85.990061%2C%2041.759724%5D%5D%5D%2C%20%22type%22%3A%20%22Polygon%22%7D%2C%20%22id%22%3A%20%22IN%22%2C%20%22properties%22%3A%20%7B%22name%22%3A%20%22Indiana%22%7D%2C%20%22type%22%3A%20%22Feature%22%7D%2C%20%7B%22geometry%22%3A%20%7B%22coordinates%22%3A%20%5B%5B%5B-101.90605%2C%2040.001626%5D%2C%20%5B-95.306337%2C%2040.001626%5D%2C%20%5B-95.207752%2C%2039.908518%5D%2C%20%5B-94.884612%2C%2039.831841%5D%2C%20%5B-95.109167%2C%2039.541563%5D%2C%20%5B-94.983197%2C%2039.442978%5D%2C%20%5B-94.824366%2C%2039.20747%5D%2C%20%5B-94.610765%2C%2039.158177%5D%2C%20%5B-94.616242%2C%2037.000263%5D%2C%20%5B-100.087706%2C%2037.000263%5D%2C%20%5B-102.042974%2C%2036.994786%5D%2C%20%5B-102.053927%2C%2040.001626%5D%2C%20%5B-101.90605%2C%2040.001626%5D%5D%5D%2C%20%22type%22%3A%20%22Polygon%22%7D%2C%20%22id%22%3A%20%22KS%22%2C%20%22properties%22%3A%20%7B%22name%22%3A%20%22Kansas%22%7D%2C%20%22type%22%3A%20%22Feature%22%7D%2C%20%7B%22geometry%22%3A%20%7B%22coordinates%22%3A%20%5B%5B%5B-70.917521%2C%2042.887974%5D%2C%20%5B-70.818936%2C%2042.871543%5D%2C%20%5B-70.780598%2C%2042.696281%5D%2C%20%5B-70.824413%2C%2042.55388%5D%2C%20%5B-70.983245%2C%2042.422434%5D%2C%20%5B-70.988722%2C%2042.269079%5D%2C%20%5B-70.769644%2C%2042.247172%5D%2C%20%5B-70.638197%2C%2042.08834%5D%2C%20%5B-70.660105%2C%2041.962371%5D%2C%20%5B-70.550566%2C%2041.929509%5D%2C%20%5B-70.539613%2C%2041.814493%5D%2C%20%5B-70.260289%2C%2041.715908%5D%2C%20%5B-69.937149%2C%2041.809016%5D%2C%20%5B-70.008349%2C%2041.672093%5D%2C%20%5B-70.484843%2C%2041.5516%5D%2C%20%5B-70.660105%2C%2041.546123%5D%2C%20%5B-70.764167%2C%2041.639231%5D%2C%20%5B-70.928475%2C%2041.611847%5D%2C%20%5B-70.933952%2C%2041.540646%5D%2C%20%5B-71.120168%2C%2041.496831%5D%2C%20%5B-71.196845%2C%2041.67757%5D%2C%20%5B-71.22423%2C%2041.710431%5D%2C%20%5B-71.328292%2C%2041.781632%5D%2C%20%5B-71.383061%2C%2042.01714%5D%2C%20%5B-71.530939%2C%2042.01714%5D%2C%20%5B-71.799309%2C%2042.006186%5D%2C%20%5B-71.799309%2C%2042.022617%5D%2C%20%5B-73.053528%2C%2042.039048%5D%2C%20%5B-73.486206%2C%2042.050002%5D%2C%20%5B-73.508114%2C%2042.08834%5D%2C%20%5B-73.267129%2C%2042.745573%5D%2C%20%5B-72.456542%2C%2042.729142%5D%2C%20%5B-71.29543%2C%2042.696281%5D%2C%20%5B-71.185891%2C%2042.789389%5D%2C%20%5B-70.917521%2C%2042.887974%5D%5D%5D%2C%20%22type%22%3A%20%22Polygon%22%7D%2C%20%22id%22%3A%20%22MA%22%2C%20%22properties%22%3A%20%7B%22name%22%3A%20%22Massachusetts%22%7D%2C%20%22type%22%3A%20%22Feature%22%7D%2C%20%7B%22geometry%22%3A%20%7B%22coordinates%22%3A%20%5B%5B%5B-92.014696%2C%2046.705401%5D%2C%20%5B-92.091373%2C%2046.749217%5D%2C%20%5B-92.29402%2C%2046.667063%5D%2C%20%5B-92.29402%2C%2046.075553%5D%2C%20%5B-92.354266%2C%2046.015307%5D%2C%20%5B-92.639067%2C%2045.933153%5D%2C%20%5B-92.869098%2C%2045.719552%5D%2C%20%5B-92.885529%2C%2045.577151%5D%2C%20%5B-92.770513%2C%2045.566198%5D%2C%20%5B-92.644544%2C%2045.440228%5D%2C%20%5B-92.75956%2C%2045.286874%5D%2C%20%5B-92.737652%2C%2045.117088%5D%2C%20%5B-92.808852%2C%2044.750133%5D%2C%20%5B-92.545959%2C%2044.569394%5D%2C%20%5B-92.337835%2C%2044.552964%5D%2C%20%5B-92.233773%2C%2044.443425%5D%2C%20%5B-91.927065%2C%2044.333886%5D%2C%20%5B-91.877772%2C%2044.202439%5D%2C%20%5B-91.592971%2C%2044.032654%5D%2C%20%5B-91.43414%2C%2043.994316%5D%2C%20%5B-91.242447%2C%2043.775238%5D%2C%20%5B-91.269832%2C%2043.616407%5D%2C%20%5B-91.215062%2C%2043.501391%5D%2C%20%5B-91.368417%2C%2043.501391%5D%2C%20%5B-96.451017%2C%2043.501391%5D%2C%20%5B-96.451017%2C%2045.297827%5D%2C%20%5B-96.681049%2C%2045.412843%5D%2C%20%5B-96.856311%2C%2045.604536%5D%2C%20%5B-96.582464%2C%2045.818137%5D%2C%20%5B-96.560556%2C%2045.933153%5D%2C%20%5B-96.598895%2C%2046.332969%5D%2C%20%5B-96.719387%2C%2046.437031%5D%2C%20%5B-96.801542%2C%2046.656109%5D%2C%20%5B-96.785111%2C%2046.924479%5D%2C%20%5B-96.823449%2C%2046.968294%5D%2C%20%5B-96.856311%2C%2047.609096%5D%2C%20%5B-97.053481%2C%2047.948667%5D%2C%20%5B-97.130158%2C%2048.140359%5D%2C%20%5B-97.16302%2C%2048.545653%5D%2C%20%5B-97.097296%2C%2048.682577%5D%2C%20%5B-97.228743%2C%2049.000239%5D%2C%20%5B-95.152983%2C%2049.000239%5D%2C%20%5B-95.152983%2C%2049.383625%5D%2C%20%5B-94.955813%2C%2049.372671%5D%2C%20%5B-94.824366%2C%2049.295994%5D%2C%20%5B-94.69292%2C%2048.775685%5D%2C%20%5B-94.588858%2C%2048.715438%5D%2C%20%5B-94.260241%2C%2048.699007%5D%2C%20%5B-94.221903%2C%2048.649715%5D%2C%20%5B-93.838517%2C%2048.627807%5D%2C%20%5B-93.794701%2C%2048.518268%5D%2C%20%5B-93.466085%2C%2048.545653%5D%2C%20%5B-93.466085%2C%2048.589469%5D%2C%20%5B-93.208669%2C%2048.644238%5D%2C%20%5B-92.984114%2C%2048.62233%5D%2C%20%5B-92.726698%2C%2048.540176%5D%2C%20%5B-92.655498%2C%2048.436114%5D%2C%20%5B-92.50762%2C%2048.447068%5D%2C%20%5B-92.370697%2C%2048.222514%5D%2C%20%5B-92.304974%2C%2048.315622%5D%2C%20%5B-92.053034%2C%2048.359437%5D%2C%20%5B-92.009219%2C%2048.266329%5D%2C%20%5B-91.713464%2C%2048.200606%5D%2C%20%5B-91.713464%2C%2048.112975%5D%2C%20%5B-91.565587%2C%2048.041775%5D%2C%20%5B-91.264355%2C%2048.080113%5D%2C%20%5B-91.083616%2C%2048.178698%5D%2C%20%5B-90.837154%2C%2048.238944%5D%2C%20%5B-90.749522%2C%2048.091067%5D%2C%20%5B-90.579737%2C%2048.123929%5D%2C%20%5B-90.377091%2C%2048.091067%5D%2C%20%5B-90.141582%2C%2048.112975%5D%2C%20%5B-89.873212%2C%2047.987005%5D%2C%20%5B-89.615796%2C%2048.008913%5D%2C%20%5B-89.637704%2C%2047.954144%5D%2C%20%5B-89.971797%2C%2047.828174%5D%2C%20%5B-90.437337%2C%2047.729589%5D%2C%20%5B-90.738569%2C%2047.625527%5D%2C%20%5B-91.171247%2C%2047.368111%5D%2C%20%5B-91.357463%2C%2047.20928%5D%2C%20%5B-91.642264%2C%2047.028541%5D%2C%20%5B-92.091373%2C%2046.787555%5D%2C%20%5B-92.014696%2C%2046.705401%5D%5D%5D%2C%20%22type%22%3A%20%22Polygon%22%7D%2C%20%22id%22%3A%20%22MN%22%2C%20%22properties%22%3A%20%7B%22name%22%3A%20%22Minnesota%22%7D%2C%20%22type%22%3A%20%22Feature%22%7D%2C%20%7B%22geometry%22%3A%20%7B%22coordinates%22%3A%20%5B%5B%5B-117.027882%2C%2042.000709%5D%2C%20%5B-114.04295%2C%2041.995232%5D%2C%20%5B-114.048427%2C%2037.000263%5D%2C%20%5B-114.048427%2C%2036.195153%5D%2C%20%5B-114.152489%2C%2036.025367%5D%2C%20%5B-114.251074%2C%2036.01989%5D%2C%20%5B-114.371566%2C%2036.140383%5D%2C%20%5B-114.738521%2C%2036.102045%5D%2C%20%5B-114.678275%2C%2035.516012%5D%2C%20%5B-114.596121%2C%2035.324319%5D%2C%20%5B-114.574213%2C%2035.138103%5D%2C%20%5B-114.634459%2C%2035.00118%5D%2C%20%5B-115.85034%2C%2035.970598%5D%2C%20%5B-116.540435%2C%2036.501861%5D%2C%20%5B-117.498899%2C%2037.21934%5D%2C%20%5B-118.71478%2C%2038.101128%5D%2C%20%5B-120.001861%2C%2038.999346%5D%2C%20%5B-119.996384%2C%2040.264519%5D%2C%20%5B-120.001861%2C%2041.995232%5D%2C%20%5B-118.698349%2C%2041.989755%5D%2C%20%5B-117.027882%2C%2042.000709%5D%5D%5D%2C%20%22type%22%3A%20%22Polygon%22%7D%2C%20%22id%22%3A%20%22NV%22%2C%20%22properties%22%3A%20%7B%22name%22%3A%20%22Nevada%22%7D%2C%20%22type%22%3A%20%22Feature%22%7D%2C%20%7B%22geometry%22%3A%20%7B%22coordinates%22%3A%20%5B%5B%5B-74.236547%2C%2041.14083%5D%2C%20%5B-73.902454%2C%2040.998429%5D%2C%20%5B-74.022947%2C%2040.708151%5D%2C%20%5B-74.187255%2C%2040.642428%5D%2C%20%5B-74.274886%2C%2040.489074%5D%2C%20%5B-74.001039%2C%2040.412397%5D%2C%20%5B-73.979131%2C%2040.297381%5D%2C%20%5B-74.099624%2C%2039.760641%5D%2C%20%5B-74.411809%2C%2039.360824%5D%2C%20%5B-74.614456%2C%2039.245808%5D%2C%20%5B-74.795195%2C%2038.993869%5D%2C%20%5B-74.888303%2C%2039.158177%5D%2C%20%5B-75.178581%2C%2039.240331%5D%2C%20%5B-75.534582%2C%2039.459409%5D%2C%20%5B-75.55649%2C%2039.607286%5D%2C%20%5B-75.561967%2C%2039.629194%5D%2C%20%5B-75.507197%2C%2039.683964%5D%2C%20%5B-75.414089%2C%2039.804456%5D%2C%20%5B-75.145719%2C%2039.88661%5D%2C%20%5B-75.129289%2C%2039.963288%5D%2C%20%5B-74.82258%2C%2040.127596%5D%2C%20%5B-74.773287%2C%2040.215227%5D%2C%20%5B-75.058088%2C%2040.417874%5D%2C%20%5B-75.069042%2C%2040.543843%5D%2C%20%5B-75.195012%2C%2040.576705%5D%2C%20%5B-75.205966%2C%2040.691721%5D%2C%20%5B-75.052611%2C%2040.866983%5D%2C%20%5B-75.134765%2C%2040.971045%5D%2C%20%5B-74.882826%2C%2041.179168%5D%2C%20%5B-74.828057%2C%2041.288707%5D%2C%20%5B-74.69661%2C%2041.359907%5D%2C%20%5B-74.236547%2C%2041.14083%5D%5D%5D%2C%20%22type%22%3A%20%22Polygon%22%7D%2C%20%22id%22%3A%20%22NJ%22%2C%20%22properties%22%3A%20%7B%22name%22%3A%20%22New%20Jersey%22%7D%2C%20%22type%22%3A%20%22Feature%22%7D%2C%20%7B%22geometry%22%3A%20%7B%22coordinates%22%3A%20%5B%5B%5B-107.421329%2C%2037.000263%5D%2C%20%5B-106.868158%2C%2036.994786%5D%2C%20%5B-104.337812%2C%2036.994786%5D%2C%20%5B-103.001438%2C%2037.000263%5D%2C%20%5B-103.001438%2C%2036.501861%5D%2C%20%5B-103.039777%2C%2036.501861%5D%2C%20%5B-103.045254%2C%2034.01533%5D%2C%20%5B-103.067161%2C%2033.002096%5D%2C%20%5B-103.067161%2C%2031.999816%5D%2C%20%5B-106.616219%2C%2031.999816%5D%2C%20%5B-106.643603%2C%2031.901231%5D%2C%20%5B-106.528588%2C%2031.786216%5D%2C%20%5B-108.210008%2C%2031.786216%5D%2C%20%5B-108.210008%2C%2031.331629%5D%2C%20%5B-109.04798%2C%2031.331629%5D%2C%20%5B-109.042503%2C%2037.000263%5D%2C%20%5B-107.421329%2C%2037.000263%5D%5D%5D%2C%20%22type%22%3A%20%22Polygon%22%7D%2C%20%22id%22%3A%20%22NM%22%2C%20%22properties%22%3A%20%7B%22name%22%3A%20%22New%20Mexico%22%7D%2C%20%22type%22%3A%20%22Feature%22%7D%2C%20%7B%22geometry%22%3A%20%7B%22coordinates%22%3A%20%5B%5B%5B-73.343806%2C%2045.013027%5D%2C%20%5B-73.332852%2C%2044.804903%5D%2C%20%5B-73.387622%2C%2044.618687%5D%2C%20%5B-73.294514%2C%2044.437948%5D%2C%20%5B-73.321898%2C%2044.246255%5D%2C%20%5B-73.436914%2C%2044.043608%5D%2C%20%5B-73.349283%2C%2043.769761%5D%2C%20%5B-73.404052%2C%2043.687607%5D%2C%20%5B-73.245221%2C%2043.523299%5D%2C%20%5B-73.278083%2C%2042.833204%5D%2C%20%5B-73.267129%2C%2042.745573%5D%2C%20%5B-73.508114%2C%2042.08834%5D%2C%20%5B-73.486206%2C%2042.050002%5D%2C%20%5B-73.55193%2C%2041.294184%5D%2C%20%5B-73.48073%2C%2041.21203%5D%2C%20%5B-73.727192%2C%2041.102491%5D%2C%20%5B-73.655992%2C%2040.987475%5D%2C%20%5B-73.22879%2C%2040.905321%5D%2C%20%5B-73.141159%2C%2040.965568%5D%2C%20%5B-72.774204%2C%2040.965568%5D%2C%20%5B-72.587988%2C%2040.998429%5D%2C%20%5B-72.28128%2C%2041.157261%5D%2C%20%5B-72.259372%2C%2041.042245%5D%2C%20%5B-72.100541%2C%2040.992952%5D%2C%20%5B-72.467496%2C%2040.845075%5D%2C%20%5B-73.239744%2C%2040.625997%5D%2C%20%5B-73.562884%2C%2040.582182%5D%2C%20%5B-73.776484%2C%2040.593136%5D%2C%20%5B-73.935316%2C%2040.543843%5D%2C%20%5B-74.022947%2C%2040.708151%5D%2C%20%5B-73.902454%2C%2040.998429%5D%2C%20%5B-74.236547%2C%2041.14083%5D%2C%20%5B-74.69661%2C%2041.359907%5D%2C%20%5B-74.740426%2C%2041.431108%5D%2C%20%5B-74.89378%2C%2041.436584%5D%2C%20%5B-75.074519%2C%2041.60637%5D%2C%20%5B-75.052611%2C%2041.754247%5D%2C%20%5B-75.173104%2C%2041.869263%5D%2C%20%5B-75.249781%2C%2041.863786%5D%2C%20%5B-75.35932%2C%2042.000709%5D%2C%20%5B-79.76278%2C%2042.000709%5D%2C%20%5B-79.76278%2C%2042.252649%5D%2C%20%5B-79.76278%2C%2042.269079%5D%2C%20%5B-79.149363%2C%2042.55388%5D%2C%20%5B-79.050778%2C%2042.690804%5D%2C%20%5B-78.853608%2C%2042.783912%5D%2C%20%5B-78.930285%2C%2042.953697%5D%2C%20%5B-79.012439%2C%2042.986559%5D%2C%20%5B-79.072686%2C%2043.260406%5D%2C%20%5B-78.486653%2C%2043.375421%5D%2C%20%5B-77.966344%2C%2043.369944%5D%2C%20%5B-77.75822%2C%2043.34256%5D%2C%20%5B-77.533665%2C%2043.233021%5D%2C%20%5B-77.391265%2C%2043.276836%5D%2C%20%5B-76.958587%2C%2043.271359%5D%2C%20%5B-76.695693%2C%2043.34256%5D%2C%20%5B-76.41637%2C%2043.523299%5D%2C%20%5B-76.235631%2C%2043.528776%5D%2C%20%5B-76.230154%2C%2043.802623%5D%2C%20%5B-76.137046%2C%2043.961454%5D%2C%20%5B-76.3616%2C%2044.070993%5D%2C%20%5B-76.312308%2C%2044.196962%5D%2C%20%5B-75.912491%2C%2044.366748%5D%2C%20%5B-75.764614%2C%2044.514625%5D%2C%20%5B-75.282643%2C%2044.848718%5D%2C%20%5B-74.828057%2C%2045.018503%5D%2C%20%5B-74.148916%2C%2044.991119%5D%2C%20%5B-73.343806%2C%2045.013027%5D%5D%5D%2C%20%22type%22%3A%20%22Polygon%22%7D%2C%20%22id%22%3A%20%22NY%22%2C%20%22properties%22%3A%20%7B%22name%22%3A%20%22New%20York%22%7D%2C%20%22type%22%3A%20%22Feature%22%7D%2C%20%7B%22geometry%22%3A%20%7B%22coordinates%22%3A%20%5B%5B%5B-80.978661%2C%2036.562108%5D%2C%20%5B-80.294043%2C%2036.545677%5D%2C%20%5B-79.510841%2C%2036.5402%5D%2C%20%5B-75.868676%2C%2036.551154%5D%2C%20%5B-75.75366%2C%2036.151337%5D%2C%20%5B-76.032984%2C%2036.189676%5D%2C%20%5B-76.071322%2C%2036.140383%5D%2C%20%5B-76.410893%2C%2036.080137%5D%2C%20%5B-76.460185%2C%2036.025367%5D%2C%20%5B-76.68474%2C%2036.008937%5D%2C%20%5B-76.673786%2C%2035.937736%5D%2C%20%5B-76.399939%2C%2035.987029%5D%2C%20%5B-76.3616%2C%2035.943213%5D%2C%20%5B-76.060368%2C%2035.992506%5D%2C%20%5B-75.961783%2C%2035.899398%5D%2C%20%5B-75.781044%2C%2035.937736%5D%2C%20%5B-75.715321%2C%2035.696751%5D%2C%20%5B-75.775568%2C%2035.581735%5D%2C%20%5B-75.89606%2C%2035.570781%5D%2C%20%5B-76.147999%2C%2035.324319%5D%2C%20%5B-76.482093%2C%2035.313365%5D%2C%20%5B-76.536862%2C%2035.14358%5D%2C%20%5B-76.394462%2C%2034.973795%5D%2C%20%5B-76.279446%2C%2034.940933%5D%2C%20%5B-76.493047%2C%2034.661609%5D%2C%20%5B-76.673786%2C%2034.694471%5D%2C%20%5B-76.991448%2C%2034.667086%5D%2C%20%5B-77.210526%2C%2034.60684%5D%2C%20%5B-77.555573%2C%2034.415147%5D%2C%20%5B-77.82942%2C%2034.163208%5D%2C%20%5B-77.971821%2C%2033.845545%5D%2C%20%5B-78.179944%2C%2033.916745%5D%2C%20%5B-78.541422%2C%2033.851022%5D%2C%20%5B-79.675149%2C%2034.80401%5D%2C%20%5B-80.797922%2C%2034.820441%5D%2C%20%5B-80.781491%2C%2034.935456%5D%2C%20%5B-80.934845%2C%2035.105241%5D%2C%20%5B-81.038907%2C%2035.044995%5D%2C%20%5B-81.044384%2C%2035.149057%5D%2C%20%5B-82.276696%2C%2035.198349%5D%2C%20%5B-82.550543%2C%2035.160011%5D%2C%20%5B-82.764143%2C%2035.066903%5D%2C%20%5B-83.109191%2C%2035.00118%5D%2C%20%5B-83.618546%2C%2034.984749%5D%2C%20%5B-84.319594%2C%2034.990226%5D%2C%20%5B-84.29221%2C%2035.225734%5D%2C%20%5B-84.09504%2C%2035.247642%5D%2C%20%5B-84.018363%2C%2035.41195%5D%2C%20%5B-83.7719%2C%2035.559827%5D%2C%20%5B-83.498053%2C%2035.565304%5D%2C%20%5B-83.251591%2C%2035.718659%5D%2C%20%5B-82.994175%2C%2035.773428%5D%2C%20%5B-82.775097%2C%2035.997983%5D%2C%20%5B-82.638174%2C%2036.063706%5D%2C%20%5B-82.610789%2C%2035.965121%5D%2C%20%5B-82.216449%2C%2036.156814%5D%2C%20%5B-82.03571%2C%2036.118475%5D%2C%20%5B-81.909741%2C%2036.304691%5D%2C%20%5B-81.723525%2C%2036.353984%5D%2C%20%5B-81.679709%2C%2036.589492%5D%2C%20%5B-80.978661%2C%2036.562108%5D%5D%5D%2C%20%22type%22%3A%20%22Polygon%22%7D%2C%20%22id%22%3A%20%22NC%22%2C%20%22properties%22%3A%20%7B%22name%22%3A%20%22North%20Carolina%22%7D%2C%20%22type%22%3A%20%22Feature%22%7D%2C%20%7B%22geometry%22%3A%20%7B%22coordinates%22%3A%20%5B%5B%5B-80.518598%2C%2041.978802%5D%2C%20%5B-80.518598%2C%2040.636951%5D%2C%20%5B-80.666475%2C%2040.582182%5D%2C%20%5B-80.595275%2C%2040.472643%5D%2C%20%5B-80.600752%2C%2040.319289%5D%2C%20%5B-80.737675%2C%2040.078303%5D%2C%20%5B-80.830783%2C%2039.711348%5D%2C%20%5B-81.219646%2C%2039.388209%5D%2C%20%5B-81.345616%2C%2039.344393%5D%2C%20%5B-81.455155%2C%2039.410117%5D%2C%20%5B-81.57017%2C%2039.267716%5D%2C%20%5B-81.685186%2C%2039.273193%5D%2C%20%5B-81.811156%2C%2039.0815%5D%2C%20%5B-81.783771%2C%2038.966484%5D%2C%20%5B-81.887833%2C%2038.873376%5D%2C%20%5B-82.03571%2C%2039.026731%5D%2C%20%5B-82.221926%2C%2038.785745%5D%2C%20%5B-82.172634%2C%2038.632391%5D%2C%20%5B-82.293127%2C%2038.577622%5D%2C%20%5B-82.331465%2C%2038.446175%5D%2C%20%5B-82.594358%2C%2038.424267%5D%2C%20%5B-82.731282%2C%2038.561191%5D%2C%20%5B-82.846298%2C%2038.588575%5D%2C%20%5B-82.890113%2C%2038.758361%5D%2C%20%5B-83.032514%2C%2038.725499%5D%2C%20%5B-83.142052%2C%2038.626914%5D%2C%20%5B-83.519961%2C%2038.703591%5D%2C%20%5B-83.678792%2C%2038.632391%5D%2C%20%5B-83.903347%2C%2038.769315%5D%2C%20%5B-84.215533%2C%2038.807653%5D%2C%20%5B-84.231963%2C%2038.895284%5D%2C%20%5B-84.43461%2C%2039.103408%5D%2C%20%5B-84.817996%2C%2039.103408%5D%2C%20%5B-84.801565%2C%2040.500028%5D%2C%20%5B-84.807042%2C%2041.694001%5D%2C%20%5B-83.454238%2C%2041.732339%5D%2C%20%5B-83.065375%2C%2041.595416%5D%2C%20%5B-82.933929%2C%2041.513262%5D%2C%20%5B-82.835344%2C%2041.589939%5D%2C%20%5B-82.616266%2C%2041.431108%5D%2C%20%5B-82.479343%2C%2041.381815%5D%2C%20%5B-82.013803%2C%2041.513262%5D%2C%20%5B-81.739956%2C%2041.485877%5D%2C%20%5B-81.444201%2C%2041.672093%5D%2C%20%5B-81.011523%2C%2041.852832%5D%2C%20%5B-80.518598%2C%2041.978802%5D%2C%20%5B-80.518598%2C%2041.978802%5D%5D%5D%2C%20%22type%22%3A%20%22Polygon%22%7D%2C%20%22id%22%3A%20%22OH%22%2C%20%22properties%22%3A%20%7B%22name%22%3A%20%22Ohio%22%7D%2C%20%22type%22%3A%20%22Feature%22%7D%2C%20%7B%22geometry%22%3A%20%7B%22coordinates%22%3A%20%5B%5B%5B-88.054868%2C%2036.496384%5D%2C%20%5B-88.071299%2C%2036.677123%5D%2C%20%5B-87.852221%2C%2036.633308%5D%2C%20%5B-86.592525%2C%2036.655216%5D%2C%20%5B-85.486183%2C%2036.616877%5D%2C%20%5B-85.289013%2C%2036.627831%5D%2C%20%5B-84.544149%2C%2036.594969%5D%2C%20%5B-83.689746%2C%2036.584015%5D%2C%20%5B-83.673316%2C%2036.600446%5D%2C%20%5B-81.679709%2C%2036.589492%5D%2C%20%5B-81.723525%2C%2036.353984%5D%2C%20%5B-81.909741%2C%2036.304691%5D%2C%20%5B-82.03571%2C%2036.118475%5D%2C%20%5B-82.216449%2C%2036.156814%5D%2C%20%5B-82.610789%2C%2035.965121%5D%2C%20%5B-82.638174%2C%2036.063706%5D%2C%20%5B-82.775097%2C%2035.997983%5D%2C%20%5B-82.994175%2C%2035.773428%5D%2C%20%5B-83.251591%2C%2035.718659%5D%2C%20%5B-83.498053%2C%2035.565304%5D%2C%20%5B-83.7719%2C%2035.559827%5D%2C%20%5B-84.018363%2C%2035.41195%5D%2C%20%5B-84.09504%2C%2035.247642%5D%2C%20%5B-84.29221%2C%2035.225734%5D%2C%20%5B-84.319594%2C%2034.990226%5D%2C%20%5B-85.606675%2C%2034.984749%5D%2C%20%5B-87.359296%2C%2035.00118%5D%2C%20%5B-88.202745%2C%2034.995703%5D%2C%20%5B-88.471115%2C%2034.995703%5D%2C%20%5B-90.311367%2C%2034.995703%5D%2C%20%5B-90.212782%2C%2035.023087%5D%2C%20%5B-90.114197%2C%2035.198349%5D%2C%20%5B-90.130628%2C%2035.439335%5D%2C%20%5B-89.944412%2C%2035.603643%5D%2C%20%5B-89.911551%2C%2035.756997%5D%2C%20%5B-89.763673%2C%2035.811767%5D%2C%20%5B-89.730812%2C%2035.997983%5D%2C%20%5B-89.533642%2C%2036.249922%5D%2C%20%5B-89.539119%2C%2036.496384%5D%2C%20%5B-89.484349%2C%2036.496384%5D%2C%20%5B-89.418626%2C%2036.496384%5D%2C%20%5B-89.298133%2C%2036.507338%5D%2C%20%5B-88.054868%2C%2036.496384%5D%5D%5D%2C%20%22type%22%3A%20%22Polygon%22%7D%2C%20%22id%22%3A%20%22TN%22%2C%20%22properties%22%3A%20%7B%22name%22%3A%20%22Tennessee%22%7D%2C%20%22type%22%3A%20%22Feature%22%7D%2C%20%7B%22geometry%22%3A%20%7B%22coordinates%22%3A%20%5B%5B%5B-101.812942%2C%2036.501861%5D%2C%20%5B-100.000075%2C%2036.501861%5D%2C%20%5B-100.000075%2C%2034.563024%5D%2C%20%5B-99.923398%2C%2034.573978%5D%2C%20%5B-99.698843%2C%2034.382285%5D%2C%20%5B-99.57835%2C%2034.415147%5D%2C%20%5B-99.260688%2C%2034.404193%5D%2C%20%5B-99.189488%2C%2034.2125%5D%2C%20%5B-98.986841%2C%2034.223454%5D%2C%20%5B-98.767763%2C%2034.135823%5D%2C%20%5B-98.570593%2C%2034.146777%5D%2C%20%5B-98.488439%2C%2034.064623%5D%2C%20%5B-98.36247%2C%2034.157731%5D%2C%20%5B-98.170777%2C%2034.113915%5D%2C%20%5B-98.088623%2C%2034.004376%5D%2C%20%5B-97.946222%2C%2033.987946%5D%2C%20%5B-97.869545%2C%2033.851022%5D%2C%20%5B-97.694283%2C%2033.982469%5D%2C%20%5B-97.458774%2C%2033.905791%5D%2C%20%5B-97.371143%2C%2033.823637%5D%2C%20%5B-97.256128%2C%2033.861976%5D%2C%20%5B-97.173974%2C%2033.736006%5D%2C%20%5B-96.922034%2C%2033.960561%5D%2C%20%5B-96.850834%2C%2033.845545%5D%2C%20%5B-96.631756%2C%2033.845545%5D%2C%20%5B-96.423633%2C%2033.774345%5D%2C%20%5B-96.346956%2C%2033.686714%5D%2C%20%5B-96.149786%2C%2033.840068%5D%2C%20%5B-95.936185%2C%2033.889361%5D%2C%20%5B-95.8376%2C%2033.834591%5D%2C%20%5B-95.602092%2C%2033.933176%5D%2C%20%5B-95.547322%2C%2033.878407%5D%2C%20%5B-95.289906%2C%2033.87293%5D%2C%20%5B-95.224183%2C%2033.960561%5D%2C%20%5B-94.966767%2C%2033.861976%5D%2C%20%5B-94.868182%2C%2033.74696%5D%2C%20%5B-94.484796%2C%2033.637421%5D%2C%20%5B-94.380734%2C%2033.544313%5D%2C%20%5B-94.183564%2C%2033.593606%5D%2C%20%5B-94.041164%2C%2033.54979%5D%2C%20%5B-94.041164%2C%2033.018527%5D%2C%20%5B-94.041164%2C%2031.994339%5D%2C%20%5B-93.822086%2C%2031.775262%5D%2C%20%5B-93.816609%2C%2031.556184%5D%2C%20%5B-93.542762%2C%2031.15089%5D%2C%20%5B-93.526331%2C%2030.93729%5D%2C%20%5B-93.630393%2C%2030.679874%5D%2C%20%5B-93.728978%2C%2030.575812%5D%2C%20%5B-93.696116%2C%2030.438888%5D%2C%20%5B-93.767317%2C%2030.334826%5D%2C%20%5B-93.690639%2C%2030.143133%5D%2C%20%5B-93.926148%2C%2029.787132%5D%2C%20%5B-93.838517%2C%2029.688547%5D%2C%20%5B-94.002825%2C%2029.68307%5D%2C%20%5B-94.523134%2C%2029.546147%5D%2C%20%5B-94.70935%2C%2029.622824%5D%2C%20%5B-94.742212%2C%2029.787132%5D%2C%20%5B-94.873659%2C%2029.672117%5D%2C%20%5B-94.966767%2C%2029.699501%5D%2C%20%5B-95.016059%2C%2029.557101%5D%2C%20%5B-94.911997%2C%2029.496854%5D%2C%20%5B-94.895566%2C%2029.310638%5D%2C%20%5B-95.081782%2C%2029.113469%5D%2C%20%5B-95.383014%2C%2028.867006%5D%2C%20%5B-95.985477%2C%2028.604113%5D%2C%20%5B-96.045724%2C%2028.647929%5D%2C%20%5B-96.226463%2C%2028.582205%5D%2C%20%5B-96.23194%2C%2028.642452%5D%2C%20%5B-96.478402%2C%2028.598636%5D%2C%20%5B-96.593418%2C%2028.724606%5D%2C%20%5B-96.664618%2C%2028.697221%5D%2C%20%5B-96.401725%2C%2028.439805%5D%2C%20%5B-96.593418%2C%2028.357651%5D%2C%20%5B-96.774157%2C%2028.406943%5D%2C%20%5B-96.801542%2C%2028.226204%5D%2C%20%5B-97.026096%2C%2028.039988%5D%2C%20%5B-97.256128%2C%2027.694941%5D%2C%20%5B-97.404005%2C%2027.333463%5D%2C%20%5B-97.513544%2C%2027.360848%5D%2C%20%5B-97.540929%2C%2027.229401%5D%2C%20%5B-97.425913%2C%2027.262263%5D%2C%20%5B-97.480682%2C%2026.99937%5D%2C%20%5B-97.557359%2C%2026.988416%5D%2C%20%5B-97.562836%2C%2026.840538%5D%2C%20%5B-97.469728%2C%2026.758384%5D%2C%20%5B-97.442344%2C%2026.457153%5D%2C%20%5B-97.332805%2C%2026.353091%5D%2C%20%5B-97.30542%2C%2026.161398%5D%2C%20%5B-97.217789%2C%2025.991613%5D%2C%20%5B-97.524498%2C%2025.887551%5D%2C%20%5B-97.650467%2C%2026.018997%5D%2C%20%5B-97.885976%2C%2026.06829%5D%2C%20%5B-98.198161%2C%2026.057336%5D%2C%20%5B-98.466531%2C%2026.221644%5D%2C%20%5B-98.669178%2C%2026.238075%5D%2C%20%5B-98.822533%2C%2026.369522%5D%2C%20%5B-99.030656%2C%2026.413337%5D%2C%20%5B-99.173057%2C%2026.539307%5D%2C%20%5B-99.266165%2C%2026.840538%5D%2C%20%5B-99.446904%2C%2027.021277%5D%2C%20%5B-99.424996%2C%2027.174632%5D%2C%20%5B-99.50715%2C%2027.33894%5D%2C%20%5B-99.479765%2C%2027.48134%5D%2C%20%5B-99.605735%2C%2027.640172%5D%2C%20%5B-99.709797%2C%2027.656603%5D%2C%20%5B-99.879582%2C%2027.799003%5D%2C%20%5B-99.934351%2C%2027.979742%5D%2C%20%5B-100.082229%2C%2028.14405%5D%2C%20%5B-100.29583%2C%2028.280974%5D%2C%20%5B-100.399891%2C%2028.582205%5D%2C%20%5B-100.498476%2C%2028.66436%5D%2C%20%5B-100.629923%2C%2028.905345%5D%2C%20%5B-100.673738%2C%2029.102515%5D%2C%20%5B-100.799708%2C%2029.244915%5D%2C%20%5B-101.013309%2C%2029.370885%5D%2C%20%5B-101.062601%2C%2029.458516%5D%2C%20%5B-101.259771%2C%2029.535193%5D%2C%20%5B-101.413125%2C%2029.754271%5D%2C%20%5B-101.851281%2C%2029.803563%5D%2C%20%5B-102.114174%2C%2029.792609%5D%2C%20%5B-102.338728%2C%2029.869286%5D%2C%20%5B-102.388021%2C%2029.765225%5D%2C%20%5B-102.629006%2C%2029.732363%5D%2C%20%5B-102.809745%2C%2029.524239%5D%2C%20%5B-102.919284%2C%2029.190146%5D%2C%20%5B-102.97953%2C%2029.184669%5D%2C%20%5B-103.116454%2C%2028.987499%5D%2C%20%5B-103.280762%2C%2028.982022%5D%2C%20%5B-103.527224%2C%2029.135376%5D%2C%20%5B-104.146119%2C%2029.381839%5D%2C%20%5B-104.266611%2C%2029.513285%5D%2C%20%5B-104.507597%2C%2029.639255%5D%2C%20%5B-104.677382%2C%2029.924056%5D%2C%20%5B-104.688336%2C%2030.181472%5D%2C%20%5B-104.858121%2C%2030.389596%5D%2C%20%5B-104.896459%2C%2030.570335%5D%2C%20%5B-105.005998%2C%2030.685351%5D%2C%20%5B-105.394861%2C%2030.855136%5D%2C%20%5B-105.602985%2C%2031.085167%5D%2C%20%5B-105.77277%2C%2031.167321%5D%2C%20%5B-105.953509%2C%2031.364491%5D%2C%20%5B-106.205448%2C%2031.468553%5D%2C%20%5B-106.38071%2C%2031.731446%5D%2C%20%5B-106.528588%2C%2031.786216%5D%2C%20%5B-106.643603%2C%2031.901231%5D%2C%20%5B-106.616219%2C%2031.999816%5D%2C%20%5B-103.067161%2C%2031.999816%5D%2C%20%5B-103.067161%2C%2033.002096%5D%2C%20%5B-103.045254%2C%2034.01533%5D%2C%20%5B-103.039777%2C%2036.501861%5D%2C%20%5B-103.001438%2C%2036.501861%5D%2C%20%5B-101.812942%2C%2036.501861%5D%5D%5D%2C%20%22type%22%3A%20%22Polygon%22%7D%2C%20%22id%22%3A%20%22TX%22%2C%20%22properties%22%3A%20%7B%22name%22%3A%20%22Texas%22%7D%2C%20%22type%22%3A%20%22Feature%22%7D%2C%20%7B%22geometry%22%3A%20%7B%22coordinates%22%3A%20%5B%5B%5B-112.164359%2C%2041.995232%5D%2C%20%5B-111.047063%2C%2042.000709%5D%2C%20%5B-111.047063%2C%2040.998429%5D%2C%20%5B-109.04798%2C%2040.998429%5D%2C%20%5B-109.053457%2C%2039.125316%5D%2C%20%5B-109.058934%2C%2038.27639%5D%2C%20%5B-109.042503%2C%2038.166851%5D%2C%20%5B-109.042503%2C%2037.000263%5D%2C%20%5B-110.499369%2C%2037.00574%5D%2C%20%5B-114.048427%2C%2037.000263%5D%2C%20%5B-114.04295%2C%2041.995232%5D%2C%20%5B-112.164359%2C%2041.995232%5D%5D%5D%2C%20%22type%22%3A%20%22Polygon%22%7D%2C%20%22id%22%3A%20%22UT%22%2C%20%22properties%22%3A%20%7B%22name%22%3A%20%22Utah%22%7D%2C%20%22type%22%3A%20%22Feature%22%7D%2C%20%7B%22geometry%22%3A%20%7B%22coordinates%22%3A%20%5B%5B%5B%5B-117.033359%2C%2049.000239%5D%2C%20%5B-117.044313%2C%2047.762451%5D%2C%20%5B-117.038836%2C%2046.426077%5D%2C%20%5B-117.055267%2C%2046.343923%5D%2C%20%5B-116.92382%2C%2046.168661%5D%2C%20%5B-116.918344%2C%2045.993399%5D%2C%20%5B-118.988627%2C%2045.998876%5D%2C%20%5B-119.125551%2C%2045.933153%5D%2C%20%5B-119.525367%2C%2045.911245%5D%2C%20%5B-119.963522%2C%2045.823614%5D%2C%20%5B-120.209985%2C%2045.725029%5D%2C%20%5B-120.505739%2C%2045.697644%5D%2C%20%5B-120.637186%2C%2045.746937%5D%2C%20%5B-121.18488%2C%2045.604536%5D%2C%20%5B-121.217742%2C%2045.670259%5D%2C%20%5B-121.535404%2C%2045.725029%5D%2C%20%5B-121.809251%2C%2045.708598%5D%2C%20%5B-122.247407%2C%2045.549767%5D%2C%20%5B-122.762239%2C%2045.659305%5D%2C%20%5B-122.811531%2C%2045.960537%5D%2C%20%5B-122.904639%2C%2046.08103%5D%2C%20%5B-123.11824%2C%2046.185092%5D%2C%20%5B-123.211348%2C%2046.174138%5D%2C%20%5B-123.370179%2C%2046.146753%5D%2C%20%5B-123.545441%2C%2046.261769%5D%2C%20%5B-123.72618%2C%2046.300108%5D%2C%20%5B-123.874058%2C%2046.239861%5D%2C%20%5B-124.065751%2C%2046.327492%5D%2C%20%5B-124.027412%2C%2046.464416%5D%2C%20%5B-123.895966%2C%2046.535616%5D%2C%20%5B-124.098612%2C%2046.74374%5D%2C%20%5B-124.235536%2C%2047.285957%5D%2C%20%5B-124.31769%2C%2047.357157%5D%2C%20%5B-124.427229%2C%2047.740543%5D%2C%20%5B-124.624399%2C%2047.88842%5D%2C%20%5B-124.706553%2C%2048.184175%5D%2C%20%5B-124.597014%2C%2048.381345%5D%2C%20%5B-124.394367%2C%2048.288237%5D%2C%20%5B-123.983597%2C%2048.162267%5D%2C%20%5B-123.704273%2C%2048.167744%5D%2C%20%5B-123.424949%2C%2048.118452%5D%2C%20%5B-123.162056%2C%2048.167744%5D%2C%20%5B-123.036086%2C%2048.080113%5D%2C%20%5B-122.800578%2C%2048.08559%5D%2C%20%5B-122.636269%2C%2047.866512%5D%2C%20%5B-122.515777%2C%2047.882943%5D%2C%20%5B-122.493869%2C%2047.587189%5D%2C%20%5B-122.422669%2C%2047.318818%5D%2C%20%5B-122.324084%2C%2047.346203%5D%2C%20%5B-122.422669%2C%2047.576235%5D%2C%20%5B-122.395284%2C%2047.800789%5D%2C%20%5B-122.230976%2C%2048.030821%5D%2C%20%5B-122.362422%2C%2048.123929%5D%2C%20%5B-122.373376%2C%2048.288237%5D%2C%20%5B-122.471961%2C%2048.468976%5D%2C%20%5B-122.422669%2C%2048.600422%5D%2C%20%5B-122.488392%2C%2048.753777%5D%2C%20%5B-122.647223%2C%2048.775685%5D%2C%20%5B-122.795101%2C%2048.8907%5D%2C%20%5B-122.756762%2C%2049.000239%5D%2C%20%5B-117.033359%2C%2049.000239%5D%5D%5D%2C%20%5B%5B%5B-122.718423%2C%2048.310145%5D%2C%20%5B-122.586977%2C%2048.35396%5D%2C%20%5B-122.608885%2C%2048.151313%5D%2C%20%5B-122.767716%2C%2048.227991%5D%2C%20%5B-122.718423%2C%2048.310145%5D%5D%5D%2C%20%5B%5B%5B-123.025132%2C%2048.583992%5D%2C%20%5B-122.915593%2C%2048.715438%5D%2C%20%5B-122.767716%2C%2048.556607%5D%2C%20%5B-122.811531%2C%2048.419683%5D%2C%20%5B-123.041563%2C%2048.458022%5D%2C%20%5B-123.025132%2C%2048.583992%5D%5D%5D%5D%2C%20%22type%22%3A%20%22MultiPolygon%22%7D%2C%20%22id%22%3A%20%22WA%22%2C%20%22properties%22%3A%20%7B%22name%22%3A%20%22Washington%22%7D%2C%20%22type%22%3A%20%22Feature%22%7D%5D%2C%20%22type%22%3A%20%22FeatureCollection%22%7D%29%3B%0A%0A%20%20%20%20%20%20%20%20%0A%20%20%20%20%0A%20%20%20%20var%20color_map_17b2f501ff624871a2f1c4953846a7d2%20%3D%20%7B%7D%3B%0A%0A%20%20%20%20%0A%20%20%20%20color_map_17b2f501ff624871a2f1c4953846a7d2.color%20%3D%20d3.scale.threshold%28%29%0A%20%20%20%20%20%20%20%20%20%20%20%20%20%20.domain%28%5B269.10769230769233%2C%20269.9578681839203%2C%20270.8080440601483%2C%20271.65821993637627%2C%20272.50839581260425%2C%20273.3585716888322%2C%20274.2087475650602%2C%20275.0589234412882%2C%20275.90909931751617%2C%20276.75927519374414%2C%20277.6094510699721%2C%20278.4596269462001%2C%20279.3098028224281%2C%20280.15997869865606%2C%20281.01015457488404%2C%20281.860330451112%2C%20282.71050632734%2C%20283.560682203568%2C%20284.41085807979596%2C%20285.26103395602394%2C%20286.1112098322519%2C%20286.9613857084799%2C%20287.8115615847079%2C%20288.6617374609359%2C%20289.5119133371639%2C%20290.36208921339187%2C%20291.21226508961985%2C%20292.0624409658478%2C%20292.9126168420758%2C%20293.7627927183038%2C%20294.61296859453176%2C%20295.46314447075974%2C%20296.3133203469877%2C%20297.1634962232157%2C%20298.0136720994437%2C%20298.86384797567166%2C%20299.71402385189964%2C%20300.5641997281276%2C%20301.4143756043556%2C%20302.2645514805836%2C%20303.11472735681156%2C%20303.96490323303954%2C%20304.8150791092675%2C%20305.6652549854955%2C%20306.5154308617235%2C%20307.36560673795145%2C%20308.21578261417943%2C%20309.0659584904074%2C%20309.9161343666354%2C%20310.76631024286337%2C%20311.61648611909135%2C%20312.4666619953193%2C%20313.3168378715473%2C%20314.1670137477753%2C%20315.01718962400327%2C%20315.86736550023124%2C%20316.7175413764592%2C%20317.5677172526872%2C%20318.4178931289152%2C%20319.26806900514316%2C%20320.11824488137114%2C%20320.9684207575991%2C%20321.8185966338271%2C%20322.6687725100551%2C%20323.51894838628306%2C%20324.36912426251104%2C%20325.2193001387391%2C%20326.069476014967%2C%20326.91965189119503%2C%20327.76982776742295%2C%20328.620003643651%2C%20329.47017951987897%2C%20330.32035539610695%2C%20331.1705312723349%2C%20332.0207071485629%2C%20332.8708830247909%2C%20333.72105890101886%2C%20334.57123477724684%2C%20335.4214106534748%2C%20336.2715865297028%2C%20337.1217624059308%2C%20337.97193828215876%2C%20338.82211415838674%2C%20339.6722900346147%2C%20340.5224659108427%2C%20341.3726417870707%2C%20342.22281766329866%2C%20343.07299353952664%2C%20343.9231694157546%2C%20344.7733452919826%2C%20345.6235211682106%2C%20346.47369704443855%2C%20347.32387292066653%2C%20348.1740487968945%2C%20349.0242246731225%2C%20349.87440054935047%2C%20350.72457642557845%2C%20351.5747523018064%2C%20352.4249281780344%2C%20353.2751040542624%2C%20354.12527993049036%2C%20354.97545580671834%2C%20355.8256316829463%2C%20356.6758075591743%2C%20357.5259834354023%2C%20358.37615931163026%2C%20359.22633518785824%2C%20360.0765110640863%2C%20360.9266869403142%2C%20361.7768628165422%2C%20362.62703869277016%2C%20363.4772145689982%2C%20364.3273904452261%2C%20365.17756632145415%2C%20366.0277421976821%2C%20366.8779180739101%2C%20367.7280939501381%2C%20368.57826982636607%2C%20369.428445702594%2C%20370.278621578822%2C%20371.12879745504995%2C%20371.978973331278%2C%20372.82914920750596%2C%20373.67932508373394%2C%20374.5295009599619%2C%20375.3796768361899%2C%20376.2298527124179%2C%20377.08002858864586%2C%20377.93020446487384%2C%20378.7803803411018%2C%20379.6305562173298%2C%20380.4807320935578%2C%20381.33090796978576%2C%20382.18108384601373%2C%20383.0312597222417%2C%20383.8814355984697%2C%20384.7316114746977%2C%20385.58178735092565%2C%20386.43196322715363%2C%20387.2821391033816%2C%20388.1323149796096%2C%20388.98249085583757%2C%20389.83266673206555%2C%20390.6828426082935%2C%20391.5330184845215%2C%20392.3831943607495%2C%20393.23337023697746%2C%20394.08354611320544%2C%20394.9337219894334%2C%20395.7838978656614%2C%20396.6340737418894%2C%20397.48424961811736%2C%20398.3344254943454%2C%20399.1846013705733%2C%20400.03477724680135%2C%20400.8849531230293%2C%20401.7351289992573%2C%20402.58530487548524%2C%20403.43548075171327%2C%20404.2856566279412%2C%20405.13583250416923%2C%20405.98600838039715%2C%20406.8361842566252%2C%20407.6863601328531%2C%20408.53653600908115%2C%20409.38671188530907%2C%20410.2368877615371%2C%20411.087063637765%2C%20411.93723951399306%2C%20412.78741539022104%2C%20413.637591266449%2C%20414.487767142677%2C%20415.337943018905%2C%20416.18811889513296%2C%20417.03829477136094%2C%20417.88847064758886%2C%20418.7386465238169%2C%20419.5888224000448%2C%20420.43899827627286%2C%20421.28917415250083%2C%20422.1393500287288%2C%20422.9895259049568%2C%20423.8397017811848%2C%20424.68987765741275%2C%20425.54005353364073%2C%20426.3902294098687%2C%20427.2404052860967%2C%20428.09058116232467%2C%20428.94075703855265%2C%20429.7909329147807%2C%20430.6411087910086%2C%20431.49128466723664%2C%20432.34146054346456%2C%20433.19163641969254%2C%20434.0418122959205%2C%20434.8919881721485%2C%20435.7421640483765%2C%20436.5923399246045%2C%20437.44251580083244%2C%20438.2926916770605%2C%20439.1428675532884%2C%20439.99304342951643%2C%20440.84321930574436%2C%20441.6933951819724%2C%20442.5435710582003%2C%20443.39374693442835%2C%20444.2439228106563%2C%20445.0940986868843%2C%20445.94427456311223%2C%20446.79445043934027%2C%20447.6446263155682%2C%20448.4948021917962%2C%20449.3449780680242%2C%20450.1951539442522%2C%20451.04532982048016%2C%20451.89550569670814%2C%20452.7456815729361%2C%20453.5958574491641%2C%20454.446033325392%2C%20455.29620920162006%2C%20456.146385077848%2C%20456.996560954076%2C%20457.846736830304%2C%20458.696912706532%2C%20459.54708858275995%2C%20460.39726445898793%2C%20461.2474403352159%2C%20462.0976162114439%2C%20462.94779208767187%2C%20463.79796796389985%2C%20464.64814384012783%2C%20465.4983197163558%2C%20466.34849559258384%2C%20467.19867146881177%2C%20468.0488473450398%2C%20468.8990232212677%2C%20469.7491990974957%2C%20470.5993749737237%2C%20471.44955084995166%2C%20472.29972672617964%2C%20473.1499026024076%2C%20474.0000784786356%2C%20474.85025435486364%2C%20475.70043023109156%2C%20476.5506061073196%2C%20477.4007819835475%2C%20478.25095785977555%2C%20479.1011337360035%2C%20479.9513096122315%2C%20480.80148548845943%2C%20481.65166136468747%2C%20482.5018372409154%2C%20483.35201311714343%2C%20484.20218899337135%2C%20485.0523648695994%2C%20485.9025407458273%2C%20486.75271662205535%2C%20487.6028924982833%2C%20488.4530683745113%2C%20489.3032442507393%2C%20490.15342012696726%2C%20491.0035960031952%2C%20491.8537718794232%2C%20492.70394775565114%2C%20493.5541236318792%2C%20494.4042995081071%2C%20495.25447538433514%2C%20496.1046512605631%2C%20496.9548271367911%2C%20497.8050030130191%2C%20498.65517888924705%2C%20499.50535476547503%2C%20500.355530641703%2C%20501.205706517931%2C%20502.05588239415897%2C%20502.90605827038695%2C%20503.75623414661493%2C%20504.60641002284297%2C%20505.4565858990709%2C%20506.30676177529887%2C%20507.15693765152685%2C%20508.0071135277548%2C%20508.8572894039828%2C%20509.7074652802108%2C%20510.55764115643876%2C%20511.40781703266674%2C%20512.2579929088947%2C%20513.1081687851228%2C%20513.9583446613507%2C%20514.8085205375787%2C%20515.6586964138066%2C%20516.5088722900347%2C%20517.3590481662626%2C%20518.2092240424906%2C%20519.0593999187186%2C%20519.9095757949466%2C%20520.7597516711745%2C%20521.6099275474025%2C%20522.4601034236305%2C%20523.3102792998585%2C%20524.1604551760864%2C%20525.0106310523145%2C%20525.8608069285424%2C%20526.7109828047704%2C%20527.5611586809985%2C%20528.4113345572264%2C%20529.2615104334543%2C%20530.1116863096823%2C%20530.9618621859104%2C%20531.8120380621383%2C%20532.6622139383662%2C%20533.5123898145943%2C%20534.3625656908223%2C%20535.2127415670502%2C%20536.0629174432781%2C%20536.9130933195062%2C%20537.7632691957342%2C%20538.6134450719621%2C%20539.46362094819%2C%20540.3137968244181%2C%20541.1639727006461%2C%20542.014148576874%2C%20542.864324453102%2C%20543.71450032933%2C%20544.564676205558%2C%20545.414852081786%2C%20546.2650279580139%2C%20547.1152038342419%2C%20547.96537971047%2C%20548.8155555866979%2C%20549.6657314629258%2C%20550.515907339154%2C%20551.3660832153819%2C%20552.2162590916098%2C%20553.0664349678377%2C%20553.9166108440659%2C%20554.7667867202938%2C%20555.6169625965217%2C%20556.4671384727498%2C%20557.3173143489778%2C%20558.1674902252057%2C%20559.0176661014336%2C%20559.8678419776617%2C%20560.7180178538896%2C%20561.5681937301176%2C%20562.4183696063455%2C%20563.2685454825736%2C%20564.1187213588015%2C%20564.9688972350295%2C%20565.8190731112575%2C%20566.6692489874854%2C%20567.5194248637135%2C%20568.3696007399415%2C%20569.2197766161694%2C%20570.0699524923973%2C%20570.9201283686255%2C%20571.7703042448534%2C%20572.6204801210813%2C%20573.4706559973093%2C%20574.3208318735374%2C%20575.1710077497653%2C%20576.0211836259932%2C%20576.8713595022213%2C%20577.7215353784493%2C%20578.5717112546772%2C%20579.4218871309051%2C%20580.2720630071332%2C%20581.1222388833612%2C%20581.9724147595891%2C%20582.822590635817%2C%20583.6727665120451%2C%20584.5229423882731%2C%20585.373118264501%2C%20586.223294140729%2C%20587.073470016957%2C%20587.923645893185%2C%20588.773821769413%2C%20589.6239976456409%2C%20590.474173521869%2C%20591.324349398097%2C%20592.1745252743249%2C%20593.0247011505529%2C%20593.874877026781%2C%20594.7250529030089%2C%20595.5752287792368%2C%20596.4254046554648%2C%20597.2755805316928%2C%20598.1257564079208%2C%20598.9759322841487%2C%20599.8261081603767%2C%20600.6762840366047%2C%20601.5264599128327%2C%20602.3766357890606%2C%20603.2268116652886%2C%20604.0769875415167%2C%20604.9271634177446%2C%20605.7773392939725%2C%20606.6275151702005%2C%20607.4776910464286%2C%20608.3278669226565%2C%20609.1780427988845%2C%20610.0282186751125%2C%20610.8783945513405%2C%20611.7285704275685%2C%20612.5787463037964%2C%20613.4289221800244%2C%20614.2790980562525%2C%20615.1292739324804%2C%20615.9794498087083%2C%20616.8296256849363%2C%20617.6798015611644%2C%20618.5299774373923%2C%20619.3801533136202%2C%20620.2303291898482%2C%20621.0805050660763%2C%20621.9306809423042%2C%20622.7808568185321%2C%20623.6310326947602%2C%20624.4812085709882%2C%20625.3313844472161%2C%20626.181560323444%2C%20627.0317361996722%2C%20627.8819120759001%2C%20628.732087952128%2C%20629.5822638283561%2C%20630.4324397045841%2C%20631.282615580812%2C%20632.13279145704%2C%20632.982967333268%2C%20633.8331432094959%2C%20634.683319085724%2C%20635.5334949619519%2C%20636.3836708381799%2C%20637.2338467144078%2C%20638.0840225906359%2C%20638.9341984668638%2C%20639.7843743430917%2C%20640.6345502193197%2C%20641.4847260955478%2C%20642.3349019717757%2C%20643.1850778480036%2C%20644.0352537242318%2C%20644.8854296004597%2C%20645.7356054766876%2C%20646.5857813529157%2C%20647.4359572291437%2C%20648.2861331053716%2C%20649.1363089815995%2C%20649.9864848578276%2C%20650.8366607340556%2C%20651.6868366102835%2C%20652.5370124865115%2C%20653.3871883627395%2C%20654.2373642389675%2C%20655.0875401151955%2C%20655.9377159914234%2C%20656.7878918676514%2C%20657.6380677438794%2C%20658.4882436201074%2C%20659.3384194963353%2C%20660.1885953725633%2C%20661.0387712487914%2C%20661.8889471250193%2C%20662.7391230012472%2C%20663.5892988774754%2C%20664.4394747537033%2C%20665.2896506299312%2C%20666.1398265061591%2C%20666.9900023823873%2C%20667.8401782586152%2C%20668.6903541348431%2C%20669.5405300110712%2C%20670.3907058872991%2C%20671.2408817635271%2C%20672.091057639755%2C%20672.9412335159831%2C%20673.791409392211%2C%20674.641585268439%2C%20675.491761144667%2C%20676.3419370208949%2C%20677.1921128971229%2C%20678.042288773351%2C%20678.8924646495789%2C%20679.7426405258068%2C%20680.5928164020349%2C%20681.4429922782629%2C%20682.2931681544908%2C%20683.1433440307187%2C%20683.9935199069469%2C%20684.8436957831748%2C%20685.6938716594027%2C%20686.5440475356307%2C%20687.3942234118588%2C%20688.2443992880867%2C%20689.0945751643146%2C%20689.9447510405427%2C%20690.7949269167707%2C%20691.6451027929986%2C%20692.4952786692265%2C%20693.3454545454546%5D%29%0A%20%20%20%20%20%20%20%20%20%20%20%20%20%20.range%28%5B%27%23ffffccff%27%2C%20%27%23ffffccff%27%2C%20%27%23ffffccff%27%2C%20%27%23ffffccff%27%2C%20%27%23ffffccff%27%2C%20%27%23ffffccff%27%2C%20%27%23ffffccff%27%2C%20%27%23ffffccff%27%2C%20%27%23ffffccff%27%2C%20%27%23ffffccff%27%2C%20%27%23ffffccff%27%2C%20%27%23ffffccff%27%2C%20%27%23ffffccff%27%2C%20%27%23ffffccff%27%2C%20%27%23ffffccff%27%2C%20%27%23ffffccff%27%2C%20%27%23ffffccff%27%2C%20%27%23ffffccff%27%2C%20%27%23ffffccff%27%2C%20%27%23ffffccff%27%2C%20%27%23ffffccff%27%2C%20%27%23ffffccff%27%2C%20%27%23ffffccff%27%2C%20%27%23ffffccff%27%2C%20%27%23ffffccff%27%2C%20%27%23ffffccff%27%2C%20%27%23ffffccff%27%2C%20%27%23ffffccff%27%2C%20%27%23ffffccff%27%2C%20%27%23ffffccff%27%2C%20%27%23ffffccff%27%2C%20%27%23ffffccff%27%2C%20%27%23ffffccff%27%2C%20%27%23ffffccff%27%2C%20%27%23ffffccff%27%2C%20%27%23ffffccff%27%2C%20%27%23ffffccff%27%2C%20%27%23ffffccff%27%2C%20%27%23ffffccff%27%2C%20%27%23ffffccff%27%2C%20%27%23ffffccff%27%2C%20%27%23ffffccff%27%2C%20%27%23ffffccff%27%2C%20%27%23ffffccff%27%2C%20%27%23ffffccff%27%2C%20%27%23ffffccff%27%2C%20%27%23ffffccff%27%2C%20%27%23ffffccff%27%2C%20%27%23ffffccff%27%2C%20%27%23ffffccff%27%2C%20%27%23ffffccff%27%2C%20%27%23ffffccff%27%2C%20%27%23ffffccff%27%2C%20%27%23ffffccff%27%2C%20%27%23ffffccff%27%2C%20%27%23ffffccff%27%2C%20%27%23ffffccff%27%2C%20%27%23ffffccff%27%2C%20%27%23ffffccff%27%2C%20%27%23ffffccff%27%2C%20%27%23ffffccff%27%2C%20%27%23ffffccff%27%2C%20%27%23ffffccff%27%2C%20%27%23ffffccff%27%2C%20%27%23ffffccff%27%2C%20%27%23ffffccff%27%2C%20%27%23ffffccff%27%2C%20%27%23ffffccff%27%2C%20%27%23ffffccff%27%2C%20%27%23ffffccff%27%2C%20%27%23ffffccff%27%2C%20%27%23ffffccff%27%2C%20%27%23ffffccff%27%2C%20%27%23ffffccff%27%2C%20%27%23ffffccff%27%2C%20%27%23ffffccff%27%2C%20%27%23ffffccff%27%2C%20%27%23ffffccff%27%2C%20%27%23ffffccff%27%2C%20%27%23ffffccff%27%2C%20%27%23ffffccff%27%2C%20%27%23ffffccff%27%2C%20%27%23ffffccff%27%2C%20%27%23ffffccff%27%2C%20%27%23d9f0a3ff%27%2C%20%27%23d9f0a3ff%27%2C%20%27%23d9f0a3ff%27%2C%20%27%23d9f0a3ff%27%2C%20%27%23d9f0a3ff%27%2C%20%27%23d9f0a3ff%27%2C%20%27%23d9f0a3ff%27%2C%20%27%23d9f0a3ff%27%2C%20%27%23d9f0a3ff%27%2C%20%27%23d9f0a3ff%27%2C%20%27%23d9f0a3ff%27%2C%20%27%23d9f0a3ff%27%2C%20%27%23d9f0a3ff%27%2C%20%27%23d9f0a3ff%27%2C%20%27%23d9f0a3ff%27%2C%20%27%23d9f0a3ff%27%2C%20%27%23d9f0a3ff%27%2C%20%27%23d9f0a3ff%27%2C%20%27%23d9f0a3ff%27%2C%20%27%23d9f0a3ff%27%2C%20%27%23d9f0a3ff%27%2C%20%27%23d9f0a3ff%27%2C%20%27%23d9f0a3ff%27%2C%20%27%23d9f0a3ff%27%2C%20%27%23d9f0a3ff%27%2C%20%27%23d9f0a3ff%27%2C%20%27%23d9f0a3ff%27%2C%20%27%23d9f0a3ff%27%2C%20%27%23d9f0a3ff%27%2C%20%27%23d9f0a3ff%27%2C%20%27%23d9f0a3ff%27%2C%20%27%23d9f0a3ff%27%2C%20%27%23d9f0a3ff%27%2C%20%27%23d9f0a3ff%27%2C%20%27%23d9f0a3ff%27%2C%20%27%23d9f0a3ff%27%2C%20%27%23d9f0a3ff%27%2C%20%27%23d9f0a3ff%27%2C%20%27%23d9f0a3ff%27%2C%20%27%23d9f0a3ff%27%2C%20%27%23d9f0a3ff%27%2C%20%27%23d9f0a3ff%27%2C%20%27%23d9f0a3ff%27%2C%20%27%23d9f0a3ff%27%2C%20%27%23d9f0a3ff%27%2C%20%27%23d9f0a3ff%27%2C%20%27%23d9f0a3ff%27%2C%20%27%23d9f0a3ff%27%2C%20%27%23d9f0a3ff%27%2C%20%27%23d9f0a3ff%27%2C%20%27%23d9f0a3ff%27%2C%20%27%23d9f0a3ff%27%2C%20%27%23d9f0a3ff%27%2C%20%27%23d9f0a3ff%27%2C%20%27%23d9f0a3ff%27%2C%20%27%23d9f0a3ff%27%2C%20%27%23d9f0a3ff%27%2C%20%27%23d9f0a3ff%27%2C%20%27%23d9f0a3ff%27%2C%20%27%23d9f0a3ff%27%2C%20%27%23d9f0a3ff%27%2C%20%27%23d9f0a3ff%27%2C%20%27%23d9f0a3ff%27%2C%20%27%23d9f0a3ff%27%2C%20%27%23d9f0a3ff%27%2C%20%27%23d9f0a3ff%27%2C%20%27%23d9f0a3ff%27%2C%20%27%23d9f0a3ff%27%2C%20%27%23d9f0a3ff%27%2C%20%27%23d9f0a3ff%27%2C%20%27%23d9f0a3ff%27%2C%20%27%23d9f0a3ff%27%2C%20%27%23d9f0a3ff%27%2C%20%27%23d9f0a3ff%27%2C%20%27%23d9f0a3ff%27%2C%20%27%23d9f0a3ff%27%2C%20%27%23d9f0a3ff%27%2C%20%27%23d9f0a3ff%27%2C%20%27%23d9f0a3ff%27%2C%20%27%23d9f0a3ff%27%2C%20%27%23d9f0a3ff%27%2C%20%27%23d9f0a3ff%27%2C%20%27%23d9f0a3ff%27%2C%20%27%23addd8eff%27%2C%20%27%23addd8eff%27%2C%20%27%23addd8eff%27%2C%20%27%23addd8eff%27%2C%20%27%23addd8eff%27%2C%20%27%23addd8eff%27%2C%20%27%23addd8eff%27%2C%20%27%23addd8eff%27%2C%20%27%23addd8eff%27%2C%20%27%23addd8eff%27%2C%20%27%23addd8eff%27%2C%20%27%23addd8eff%27%2C%20%27%23addd8eff%27%2C%20%27%23addd8eff%27%2C%20%27%23addd8eff%27%2C%20%27%23addd8eff%27%2C%20%27%23addd8eff%27%2C%20%27%23addd8eff%27%2C%20%27%23addd8eff%27%2C%20%27%23addd8eff%27%2C%20%27%23addd8eff%27%2C%20%27%23addd8eff%27%2C%20%27%23addd8eff%27%2C%20%27%23addd8eff%27%2C%20%27%23addd8eff%27%2C%20%27%23addd8eff%27%2C%20%27%23addd8eff%27%2C%20%27%23addd8eff%27%2C%20%27%23addd8eff%27%2C%20%27%23addd8eff%27%2C%20%27%23addd8eff%27%2C%20%27%23addd8eff%27%2C%20%27%23addd8eff%27%2C%20%27%23addd8eff%27%2C%20%27%23addd8eff%27%2C%20%27%23addd8eff%27%2C%20%27%23addd8eff%27%2C%20%27%23addd8eff%27%2C%20%27%23addd8eff%27%2C%20%27%23addd8eff%27%2C%20%27%23addd8eff%27%2C%20%27%23addd8eff%27%2C%20%27%23addd8eff%27%2C%20%27%23addd8eff%27%2C%20%27%23addd8eff%27%2C%20%27%23addd8eff%27%2C%20%27%23addd8eff%27%2C%20%27%23addd8eff%27%2C%20%27%23addd8eff%27%2C%20%27%23addd8eff%27%2C%20%27%23addd8eff%27%2C%20%27%23addd8eff%27%2C%20%27%23addd8eff%27%2C%20%27%23addd8eff%27%2C%20%27%23addd8eff%27%2C%20%27%23addd8eff%27%2C%20%27%23addd8eff%27%2C%20%27%23addd8eff%27%2C%20%27%23addd8eff%27%2C%20%27%23addd8eff%27%2C%20%27%23addd8eff%27%2C%20%27%23addd8eff%27%2C%20%27%23addd8eff%27%2C%20%27%23addd8eff%27%2C%20%27%23addd8eff%27%2C%20%27%23addd8eff%27%2C%20%27%23addd8eff%27%2C%20%27%23addd8eff%27%2C%20%27%23addd8eff%27%2C%20%27%23addd8eff%27%2C%20%27%23addd8eff%27%2C%20%27%23addd8eff%27%2C%20%27%23addd8eff%27%2C%20%27%23addd8eff%27%2C%20%27%23addd8eff%27%2C%20%27%23addd8eff%27%2C%20%27%23addd8eff%27%2C%20%27%23addd8eff%27%2C%20%27%23addd8eff%27%2C%20%27%23addd8eff%27%2C%20%27%23addd8eff%27%2C%20%27%23addd8eff%27%2C%20%27%23addd8eff%27%2C%20%27%2378c679ff%27%2C%20%27%2378c679ff%27%2C%20%27%2378c679ff%27%2C%20%27%2378c679ff%27%2C%20%27%2378c679ff%27%2C%20%27%2378c679ff%27%2C%20%27%2378c679ff%27%2C%20%27%2378c679ff%27%2C%20%27%2378c679ff%27%2C%20%27%2378c679ff%27%2C%20%27%2378c679ff%27%2C%20%27%2378c679ff%27%2C%20%27%2378c679ff%27%2C%20%27%2378c679ff%27%2C%20%27%2378c679ff%27%2C%20%27%2378c679ff%27%2C%20%27%2378c679ff%27%2C%20%27%2378c679ff%27%2C%20%27%2378c679ff%27%2C%20%27%2378c679ff%27%2C%20%27%2378c679ff%27%2C%20%27%2378c679ff%27%2C%20%27%2378c679ff%27%2C%20%27%2378c679ff%27%2C%20%27%2378c679ff%27%2C%20%27%2378c679ff%27%2C%20%27%2378c679ff%27%2C%20%27%2378c679ff%27%2C%20%27%2378c679ff%27%2C%20%27%2378c679ff%27%2C%20%27%2378c679ff%27%2C%20%27%2378c679ff%27%2C%20%27%2378c679ff%27%2C%20%27%2378c679ff%27%2C%20%27%2378c679ff%27%2C%20%27%2378c679ff%27%2C%20%27%2378c679ff%27%2C%20%27%2378c679ff%27%2C%20%27%2378c679ff%27%2C%20%27%2378c679ff%27%2C%20%27%2378c679ff%27%2C%20%27%2378c679ff%27%2C%20%27%2378c679ff%27%2C%20%27%2378c679ff%27%2C%20%27%2378c679ff%27%2C%20%27%2378c679ff%27%2C%20%27%2378c679ff%27%2C%20%27%2378c679ff%27%2C%20%27%2378c679ff%27%2C%20%27%2378c679ff%27%2C%20%27%2378c679ff%27%2C%20%27%2378c679ff%27%2C%20%27%2378c679ff%27%2C%20%27%2378c679ff%27%2C%20%27%2378c679ff%27%2C%20%27%2378c679ff%27%2C%20%27%2378c679ff%27%2C%20%27%2378c679ff%27%2C%20%27%2378c679ff%27%2C%20%27%2378c679ff%27%2C%20%27%2378c679ff%27%2C%20%27%2378c679ff%27%2C%20%27%2378c679ff%27%2C%20%27%2378c679ff%27%2C%20%27%2378c679ff%27%2C%20%27%2378c679ff%27%2C%20%27%2378c679ff%27%2C%20%27%2378c679ff%27%2C%20%27%2378c679ff%27%2C%20%27%2378c679ff%27%2C%20%27%2378c679ff%27%2C%20%27%2378c679ff%27%2C%20%27%2378c679ff%27%2C%20%27%2378c679ff%27%2C%20%27%2378c679ff%27%2C%20%27%2378c679ff%27%2C%20%27%2378c679ff%27%2C%20%27%2378c679ff%27%2C%20%27%2378c679ff%27%2C%20%27%2378c679ff%27%2C%20%27%2378c679ff%27%2C%20%27%2378c679ff%27%2C%20%27%2378c679ff%27%2C%20%27%2331a354ff%27%2C%20%27%2331a354ff%27%2C%20%27%2331a354ff%27%2C%20%27%2331a354ff%27%2C%20%27%2331a354ff%27%2C%20%27%2331a354ff%27%2C%20%27%2331a354ff%27%2C%20%27%2331a354ff%27%2C%20%27%2331a354ff%27%2C%20%27%2331a354ff%27%2C%20%27%2331a354ff%27%2C%20%27%2331a354ff%27%2C%20%27%2331a354ff%27%2C%20%27%2331a354ff%27%2C%20%27%2331a354ff%27%2C%20%27%2331a354ff%27%2C%20%27%2331a354ff%27%2C%20%27%2331a354ff%27%2C%20%27%2331a354ff%27%2C%20%27%2331a354ff%27%2C%20%27%2331a354ff%27%2C%20%27%2331a354ff%27%2C%20%27%2331a354ff%27%2C%20%27%2331a354ff%27%2C%20%27%2331a354ff%27%2C%20%27%2331a354ff%27%2C%20%27%2331a354ff%27%2C%20%27%2331a354ff%27%2C%20%27%2331a354ff%27%2C%20%27%2331a354ff%27%2C%20%27%2331a354ff%27%2C%20%27%2331a354ff%27%2C%20%27%2331a354ff%27%2C%20%27%2331a354ff%27%2C%20%27%2331a354ff%27%2C%20%27%2331a354ff%27%2C%20%27%2331a354ff%27%2C%20%27%2331a354ff%27%2C%20%27%2331a354ff%27%2C%20%27%2331a354ff%27%2C%20%27%2331a354ff%27%2C%20%27%2331a354ff%27%2C%20%27%2331a354ff%27%2C%20%27%2331a354ff%27%2C%20%27%2331a354ff%27%2C%20%27%2331a354ff%27%2C%20%27%2331a354ff%27%2C%20%27%2331a354ff%27%2C%20%27%2331a354ff%27%2C%20%27%2331a354ff%27%2C%20%27%2331a354ff%27%2C%20%27%2331a354ff%27%2C%20%27%2331a354ff%27%2C%20%27%2331a354ff%27%2C%20%27%2331a354ff%27%2C%20%27%2331a354ff%27%2C%20%27%2331a354ff%27%2C%20%27%2331a354ff%27%2C%20%27%2331a354ff%27%2C%20%27%2331a354ff%27%2C%20%27%2331a354ff%27%2C%20%27%2331a354ff%27%2C%20%27%2331a354ff%27%2C%20%27%2331a354ff%27%2C%20%27%2331a354ff%27%2C%20%27%2331a354ff%27%2C%20%27%2331a354ff%27%2C%20%27%2331a354ff%27%2C%20%27%2331a354ff%27%2C%20%27%2331a354ff%27%2C%20%27%2331a354ff%27%2C%20%27%2331a354ff%27%2C%20%27%2331a354ff%27%2C%20%27%2331a354ff%27%2C%20%27%2331a354ff%27%2C%20%27%2331a354ff%27%2C%20%27%2331a354ff%27%2C%20%27%2331a354ff%27%2C%20%27%2331a354ff%27%2C%20%27%2331a354ff%27%2C%20%27%2331a354ff%27%2C%20%27%2331a354ff%27%2C%20%27%2331a354ff%27%2C%20%27%23006837ff%27%2C%20%27%23006837ff%27%2C%20%27%23006837ff%27%2C%20%27%23006837ff%27%2C%20%27%23006837ff%27%2C%20%27%23006837ff%27%2C%20%27%23006837ff%27%2C%20%27%23006837ff%27%2C%20%27%23006837ff%27%2C%20%27%23006837ff%27%2C%20%27%23006837ff%27%2C%20%27%23006837ff%27%2C%20%27%23006837ff%27%2C%20%27%23006837ff%27%2C%20%27%23006837ff%27%2C%20%27%23006837ff%27%2C%20%27%23006837ff%27%2C%20%27%23006837ff%27%2C%20%27%23006837ff%27%2C%20%27%23006837ff%27%2C%20%27%23006837ff%27%2C%20%27%23006837ff%27%2C%20%27%23006837ff%27%2C%20%27%23006837ff%27%2C%20%27%23006837ff%27%2C%20%27%23006837ff%27%2C%20%27%23006837ff%27%2C%20%27%23006837ff%27%2C%20%27%23006837ff%27%2C%20%27%23006837ff%27%2C%20%27%23006837ff%27%2C%20%27%23006837ff%27%2C%20%27%23006837ff%27%2C%20%27%23006837ff%27%2C%20%27%23006837ff%27%2C%20%27%23006837ff%27%2C%20%27%23006837ff%27%2C%20%27%23006837ff%27%2C%20%27%23006837ff%27%2C%20%27%23006837ff%27%2C%20%27%23006837ff%27%2C%20%27%23006837ff%27%2C%20%27%23006837ff%27%2C%20%27%23006837ff%27%2C%20%27%23006837ff%27%2C%20%27%23006837ff%27%2C%20%27%23006837ff%27%2C%20%27%23006837ff%27%2C%20%27%23006837ff%27%2C%20%27%23006837ff%27%2C%20%27%23006837ff%27%2C%20%27%23006837ff%27%2C%20%27%23006837ff%27%2C%20%27%23006837ff%27%2C%20%27%23006837ff%27%2C%20%27%23006837ff%27%2C%20%27%23006837ff%27%2C%20%27%23006837ff%27%2C%20%27%23006837ff%27%2C%20%27%23006837ff%27%2C%20%27%23006837ff%27%2C%20%27%23006837ff%27%2C%20%27%23006837ff%27%2C%20%27%23006837ff%27%2C%20%27%23006837ff%27%2C%20%27%23006837ff%27%2C%20%27%23006837ff%27%2C%20%27%23006837ff%27%2C%20%27%23006837ff%27%2C%20%27%23006837ff%27%2C%20%27%23006837ff%27%2C%20%27%23006837ff%27%2C%20%27%23006837ff%27%2C%20%27%23006837ff%27%2C%20%27%23006837ff%27%2C%20%27%23006837ff%27%2C%20%27%23006837ff%27%2C%20%27%23006837ff%27%2C%20%27%23006837ff%27%2C%20%27%23006837ff%27%2C%20%27%23006837ff%27%2C%20%27%23006837ff%27%2C%20%27%23006837ff%27%2C%20%27%23006837ff%27%5D%29%3B%0A%20%20%20%20%0A%0A%20%20%20%20color_map_17b2f501ff624871a2f1c4953846a7d2.x%20%3D%20d3.scale.linear%28%29%0A%20%20%20%20%20%20%20%20%20%20%20%20%20%20.domain%28%5B269.10769230769233%2C%20693.3454545454546%5D%29%0A%20%20%20%20%20%20%20%20%20%20%20%20%20%20.range%28%5B0%2C%20400%5D%29%3B%0A%0A%20%20%20%20color_map_17b2f501ff624871a2f1c4953846a7d2.legend%20%3D%20L.control%28%7Bposition%3A%20%27topright%27%7D%29%3B%0A%20%20%20%20color_map_17b2f501ff624871a2f1c4953846a7d2.legend.onAdd%20%3D%20function%20%28map%29%20%7Bvar%20div%20%3D%20L.DomUtil.create%28%27div%27%2C%20%27legend%27%29%3B%20return%20div%7D%3B%0A%20%20%20%20color_map_17b2f501ff624871a2f1c4953846a7d2.legend.addTo%28map_3849f6171ea94dec946a1971473d4771%29%3B%0A%0A%20%20%20%20color_map_17b2f501ff624871a2f1c4953846a7d2.xAxis%20%3D%20d3.svg.axis%28%29%0A%20%20%20%20%20%20%20%20.scale%28color_map_17b2f501ff624871a2f1c4953846a7d2.x%29%0A%20%20%20%20%20%20%20%20.orient%28%22top%22%29%0A%20%20%20%20%20%20%20%20.tickSize%281%29%0A%20%20%20%20%20%20%20%20.tickValues%28%5B269.10769230769233%2C%20339.81398601398604%2C%20410.52027972027975%2C%20481.22657342657345%2C%20551.9328671328672%2C%20622.6391608391609%2C%20693.3454545454546%5D%29%3B%0A%0A%20%20%20%20color_map_17b2f501ff624871a2f1c4953846a7d2.svg%20%3D%20d3.select%28%22.legend.leaflet-control%22%29.append%28%22svg%22%29%0A%20%20%20%20%20%20%20%20.attr%28%22id%22%2C%20%27legend%27%29%0A%20%20%20%20%20%20%20%20.attr%28%22width%22%2C%20450%29%0A%20%20%20%20%20%20%20%20.attr%28%22height%22%2C%2040%29%3B%0A%0A%20%20%20%20color_map_17b2f501ff624871a2f1c4953846a7d2.g%20%3D%20color_map_17b2f501ff624871a2f1c4953846a7d2.svg.append%28%22g%22%29%0A%20%20%20%20%20%20%20%20.attr%28%22class%22%2C%20%22key%22%29%0A%20%20%20%20%20%20%20%20.attr%28%22transform%22%2C%20%22translate%2825%2C16%29%22%29%3B%0A%0A%20%20%20%20color_map_17b2f501ff624871a2f1c4953846a7d2.g.selectAll%28%22rect%22%29%0A%20%20%20%20%20%20%20%20.data%28color_map_17b2f501ff624871a2f1c4953846a7d2.color.range%28%29.map%28function%28d%2C%20i%29%20%7B%0A%20%20%20%20%20%20%20%20%20%20return%20%7B%0A%20%20%20%20%20%20%20%20%20%20%20%20x0%3A%20i%20%3F%20color_map_17b2f501ff624871a2f1c4953846a7d2.x%28color_map_17b2f501ff624871a2f1c4953846a7d2.color.domain%28%29%5Bi%20-%201%5D%29%20%3A%20color_map_17b2f501ff624871a2f1c4953846a7d2.x.range%28%29%5B0%5D%2C%0A%20%20%20%20%20%20%20%20%20%20%20%20x1%3A%20i%20%3C%20color_map_17b2f501ff624871a2f1c4953846a7d2.color.domain%28%29.length%20%3F%20color_map_17b2f501ff624871a2f1c4953846a7d2.x%28color_map_17b2f501ff624871a2f1c4953846a7d2.color.domain%28%29%5Bi%5D%29%20%3A%20color_map_17b2f501ff624871a2f1c4953846a7d2.x.range%28%29%5B1%5D%2C%0A%20%20%20%20%20%20%20%20%20%20%20%20z%3A%20d%0A%20%20%20%20%20%20%20%20%20%20%7D%3B%0A%20%20%20%20%20%20%20%20%7D%29%29%0A%20%20%20%20%20%20.enter%28%29.append%28%22rect%22%29%0A%20%20%20%20%20%20%20%20.attr%28%22height%22%2C%2010%29%0A%20%20%20%20%20%20%20%20.attr%28%22x%22%2C%20function%28d%29%20%7B%20return%20d.x0%3B%20%7D%29%0A%20%20%20%20%20%20%20%20.attr%28%22width%22%2C%20function%28d%29%20%7B%20return%20d.x1%20-%20d.x0%3B%20%7D%29%0A%20%20%20%20%20%20%20%20.style%28%22fill%22%2C%20function%28d%29%20%7B%20return%20d.z%3B%20%7D%29%3B%0A%0A%20%20%20%20color_map_17b2f501ff624871a2f1c4953846a7d2.g.call%28color_map_17b2f501ff624871a2f1c4953846a7d2.xAxis%29.append%28%22text%22%29%0A%20%20%20%20%20%20%20%20.attr%28%22class%22%2C%20%22caption%22%29%0A%20%20%20%20%20%20%20%20.attr%28%22y%22%2C%2021%29%0A%20%20%20%20%20%20%20%20.text%28%27Mean%20price%27%29%3B%0A%3C/script%3E onload=\"this.contentDocument.open();this.contentDocument.write(    decodeURIComponent(this.getAttribute('data-html')));this.contentDocument.close();\" allowfullscreen webkitallowfullscreen mozallowfullscreen></iframe></div></div>"
      ],
      "text/plain": [
       "<folium.folium.Map at 0x27f35c31100>"
      ]
     },
     "execution_count": 1044,
     "metadata": {},
     "output_type": "execute_result"
    }
   ],
   "source": [
    "m = folium.Map(location=[48, -102], zoom_start=3)\n",
    "\n",
    "folium.Choropleth(\n",
    "    geo_data=us_states_url_indata,\n",
    "    name='choropleth',\n",
    "    data=mean_price_data,\n",
    "    columns=['state', 'mean price'],\n",
    "    key_on='feature.id',\n",
    "    fill_color='YlGn',\n",
    "    fill_opacity=0.7,\n",
    "    line_opacity=0.2,\n",
    "    legend_name='Mean price'\n",
    ").add_to(m)\n",
    "\n",
    "m"
   ]
  },
  {
   "cell_type": "code",
   "execution_count": 1045,
   "metadata": {},
   "outputs": [],
   "source": [
    "df.to_csv('preprocessed_data_craigslist.csv')"
   ]
  }
 ],
 "metadata": {
  "interpreter": {
   "hash": "b3ba2566441a7c06988d0923437866b63cedc61552a5af99d1f4fb67d367b25f"
  },
  "kernelspec": {
   "display_name": "Python 3 (ipykernel)",
   "language": "python",
   "name": "python3"
  },
  "language_info": {
   "codemirror_mode": {
    "name": "ipython",
    "version": 3
   },
   "file_extension": ".py",
   "mimetype": "text/x-python",
   "name": "python",
   "nbconvert_exporter": "python",
   "pygments_lexer": "ipython3",
   "version": "3.8.5"
  },
  "toc": {
   "base_numbering": 1,
   "nav_menu": {},
   "number_sections": true,
   "sideBar": true,
   "skip_h1_title": false,
   "title_cell": "Table of Contents",
   "title_sidebar": "Contents",
   "toc_cell": false,
   "toc_position": {},
   "toc_section_display": true,
   "toc_window_display": false
  }
 },
 "nbformat": 4,
 "nbformat_minor": 2
}
