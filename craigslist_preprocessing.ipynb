{
 "cells": [
  {
   "cell_type": "code",
   "execution_count": 1,
   "metadata": {},
   "outputs": [],
   "source": [
    "import pandas as pd\n",
    "import numpy as np\n",
    "import re\n",
    "import datetime\n",
    "from os.path import exists"
   ]
  },
  {
   "cell_type": "code",
   "execution_count": 2,
   "metadata": {},
   "outputs": [],
   "source": [
    "places_raw = pd.read_excel('places.xlsx', header=None)\n",
    "places = places_raw[0].values"
   ]
  },
  {
   "cell_type": "code",
   "execution_count": 3,
   "metadata": {},
   "outputs": [],
   "source": [
    "index=0\n",
    "for city in places:\n",
    "    if exists('data_craigslist'+str(city)+'.csv'):\n",
    "        if index == 0:\n",
    "            df = pd.read_csv('data_craigslist'+str(city)+'.csv').drop(columns=['Unnamed: 0'])\n",
    "            index += 1\n",
    "        else:\n",
    "            df = pd.concat([df, pd.read_csv('data_craigslist'+str(city)+'.csv').drop(columns=['Unnamed: 0'])], axis=0, ignore_index=True)"
   ]
  },
  {
   "cell_type": "code",
   "execution_count": 4,
   "metadata": {},
   "outputs": [],
   "source": [
    "# Gets rid of the rows where we don't have any features\n",
    "new_index = []\n",
    "for ind in df.index:\n",
    "    try:\n",
    "        if df.loc[ind].count() >= 7:\n",
    "            new_index.append(ind)\n",
    "    except:\n",
    "        pass\n",
    "\n",
    "df = df.loc[new_index].reset_index(drop=True)"
   ]
  },
  {
   "cell_type": "code",
   "execution_count": 5,
   "metadata": {},
   "outputs": [
    {
     "data": {
      "text/plain": [
       "Index(['Price', 'Location', 'URL', 'Date', 'Title', 'num image', 'text',\n",
       "       'condition', 'make / manufacturer', 'model name / number',\n",
       "       'bicycle frame material', 'bicycle type', 'brake type',\n",
       "       'electric assist', 'frame size', 'handlebar type', 'suspension',\n",
       "       'wheel size', 'size / dimensions', 'serial number', 'part type',\n",
       "       'paint color', 'year manufactured', 'engine hours (total)',\n",
       "       'length overall (LOA)', 'propulsion type'],\n",
       "      dtype='object')"
      ]
     },
     "execution_count": 5,
     "metadata": {},
     "output_type": "execute_result"
    }
   ],
   "source": [
    "df.columns"
   ]
  },
  {
   "cell_type": "code",
   "execution_count": 6,
   "metadata": {},
   "outputs": [
    {
     "name": "stdout",
     "output_type": "stream",
     "text": [
      "<class 'pandas.core.frame.DataFrame'>\n",
      "RangeIndex: 3953 entries, 0 to 3952\n",
      "Data columns (total 26 columns):\n",
      " #   Column                  Non-Null Count  Dtype  \n",
      "---  ------                  --------------  -----  \n",
      " 0   Price                   3953 non-null   float64\n",
      " 1   Location                3953 non-null   object \n",
      " 2   URL                     3953 non-null   object \n",
      " 3   Date                    3953 non-null   object \n",
      " 4   Title                   3953 non-null   object \n",
      " 5   num image               3953 non-null   int64  \n",
      " 6   text                    3953 non-null   object \n",
      " 7   condition               1789 non-null   object \n",
      " 8   make / manufacturer     1567 non-null   object \n",
      " 9   model name / number     1095 non-null   object \n",
      " 10  bicycle frame material  1739 non-null   object \n",
      " 11  bicycle type            1739 non-null   object \n",
      " 12  brake type              635 non-null    object \n",
      " 13  electric assist         426 non-null    object \n",
      " 14  frame size              1634 non-null   object \n",
      " 15  handlebar type          476 non-null    object \n",
      " 16  suspension              583 non-null    object \n",
      " 17  wheel size              1634 non-null   object \n",
      " 18  size / dimensions       171 non-null    object \n",
      " 19  serial number           74 non-null     object \n",
      " 20  part type               125 non-null    object \n",
      " 21  paint color             61 non-null     object \n",
      " 22  year manufactured       109 non-null    float64\n",
      " 23  engine hours (total)    16 non-null     float64\n",
      " 24  length overall (LOA)    26 non-null     float64\n",
      " 25  propulsion type         26 non-null     object \n",
      "dtypes: float64(4), int64(1), object(21)\n",
      "memory usage: 803.1+ KB\n"
     ]
    }
   ],
   "source": [
    "df.info()"
   ]
  },
  {
   "cell_type": "code",
   "execution_count": 7,
   "metadata": {},
   "outputs": [
    {
     "name": "stdout",
     "output_type": "stream",
     "text": [
      "[nan ' aluminum' ' alloy' ' other/unknown' ' steel' ' carbon fiber'\n",
      " ' titanium' ' composite' ' scandium']\n"
     ]
    }
   ],
   "source": [
    "print(df['bicycle frame material'].unique())"
   ]
  },
  {
   "cell_type": "code",
   "execution_count": 8,
   "metadata": {},
   "outputs": [],
   "source": [
    "def fix_bfm(x):\n",
    "    if pd.isna(x) or x.strip() == 'other/unknown':\n",
    "        return 'unknown'\n",
    "    else:\n",
    "        return x.strip()\n",
    "\n",
    "df['bicycle frame material'] = df['bicycle frame material'].apply(fix_bfm)"
   ]
  },
  {
   "cell_type": "code",
   "execution_count": 9,
   "metadata": {},
   "outputs": [
    {
     "name": "stdout",
     "output_type": "stream",
     "text": [
      "['unknown' 'aluminum' 'alloy' 'steel' 'carbon fiber' 'titanium'\n",
      " 'composite' 'scandium']\n"
     ]
    }
   ],
   "source": [
    "print(df['bicycle frame material'].unique())"
   ]
  },
  {
   "cell_type": "code",
   "execution_count": 10,
   "metadata": {},
   "outputs": [
    {
     "data": {
      "text/plain": [
       "array([nan, ' mountain', ' other', ' kids', ' hybrid/comfort', ' cruiser',\n",
       "       ' bmx', ' road', ' unicycle', ' folding', ' gravel',\n",
       "       ' recumbent/trike', ' cyclocross', ' tandem', ' cargo/pedicab',\n",
       "       ' track'], dtype=object)"
      ]
     },
     "execution_count": 10,
     "metadata": {},
     "output_type": "execute_result"
    }
   ],
   "source": [
    "df['bicycle type'].unique()"
   ]
  },
  {
   "cell_type": "code",
   "execution_count": 11,
   "metadata": {},
   "outputs": [],
   "source": [
    "def fix_bt(x):\n",
    "    if pd.isna(x) or x.strip() == 'other':\n",
    "        return 'unknown'\n",
    "    else:\n",
    "        return x.strip()\n",
    "\n",
    "df['bicycle type'] = df['bicycle type'].apply(fix_bt)"
   ]
  },
  {
   "cell_type": "code",
   "execution_count": 12,
   "metadata": {},
   "outputs": [
    {
     "data": {
      "text/plain": [
       "array(['unknown', 'mountain', 'kids', 'hybrid/comfort', 'cruiser', 'bmx',\n",
       "       'road', 'unicycle', 'folding', 'gravel', 'recumbent/trike',\n",
       "       'cyclocross', 'tandem', 'cargo/pedicab', 'track'], dtype=object)"
      ]
     },
     "execution_count": 12,
     "metadata": {},
     "output_type": "execute_result"
    }
   ],
   "source": [
    "df['bicycle type'].unique()"
   ]
  },
  {
   "cell_type": "code",
   "execution_count": 13,
   "metadata": {},
   "outputs": [
    {
     "data": {
      "text/plain": [
       "array([nan, ' Medium', ' Large', ' 26 inch', ' Fits most bikes!',\n",
       "       ' 12” wheels', ' 18', ' 0', ' 8\"', ' 24”', ' All', ' 26\" and 24\"',\n",
       "       ' medium', ' 19.5', ' any', ' 56cm', ' 54 cm, medium', ' 60cm',\n",
       "       ' All sizes', ' 16 inch', ' unknown', ' N/A', ' Unknown', ' None',\n",
       "       ' 15 inch', ' 60 cm', ' 18 \"', ' 19in', ' 26 in',\n",
       "       ' 42x40x10 inches', ' 52 cm', ' Any size', ' 15\"', ' 18.5”',\n",
       "       ' n/a', ' Kids size', ' 50cm', \" Women's Medium\", ' 20\" wheels',\n",
       "       ' 26in.', ' Medium/Large', ' small', ' Small', \" don't reall know\",\n",
       "       ' 54cm medium17.5', ' Adult', ' good size', ' MEDIUM TO LARGE',\n",
       "       ' 27\"', ' 20\"', ' XXL', ' 65cm', ' 18.25 in (46.35 cm)', ' 20',\n",
       "       ' child size', ' 49 to 63 cm', ' 26”', ' 16', ' 26\"', \" 26'\",\n",
       "       ' 16”, 12”', ' About 16 inches.', ' ?', ' 24\"', ' .', ' 26',\n",
       "       ' 17 inch, 25 inch, etc.', ' 17.5 in  54 in',\n",
       "       ' Standard Cruiser Size', ' kids', ' see pictures',\n",
       "       ' 19inches 49cm', ' Heavy-duty 57 cm.', ' 20”', ' Allen 530RR',\n",
       "       ' 54', ' 16\"', ' 61 cm', ' Not sure', ' 8\"POST', ' 17\"',\n",
       "       ' Several', ' Aluminum', ' Medium large', ' 55cm',\n",
       "       ' 51\"L x 8\"W x 30\"H', ' full size mens', ' Kids', ' 19\"Med/Lg',\n",
       "       ' 19\" M/L', ' 54 cm', ' 15”', ' 12-inch', ' 29\"', ' 14', ' 00',\n",
       "       ' Small medium', ' Snall', ' 20 inches', ' Large Child', ' 13\"',\n",
       "       ' 22in Lg', ' Other', ' 43 W  42 L', ' 12”', ' 26” wheels',\n",
       "       ' 56 Centemeter', ' 17-inch Delta V Frame', ' Medium- large',\n",
       "       ' Medium / large — kids', ' 17 inch', ' 12345', ' large',\n",
       "       ' Medium men’s', ' Large 19\"', ' 11 inches', ' 17',\n",
       "       ' 21” top tube', ' adult', ' XL 27.5\"', ' all sizes', ' Various',\n",
       "       ' L', ' XS (~52cm)', ' 48.5 ish', ' see above', ' 20.5, medium',\n",
       "       ' 52', ' 16 inches', ' X SMall', ' 48 cm', ' 54cm', ' Small.  20”',\n",
       "       ' 58 Large', ' 48', ' 21 inches', ' 61cm', ' 24 in', ' 53cm',\n",
       "       ' 52cm', ' 60', ' 58cm', ' 47 inches', ' Adult size', ' other',\n",
       "       ' 19 inch', ' 00\"', ' 26 inches', ' XL', ' 26”tires', ' 24 INCH',\n",
       "       ' 51cm', ' Trail a Bikes', ' ANY', ' MEDIUM 18', ' 18 MEDIUM',\n",
       "       \" LARGE 19'\", ' 14.8 inches', ' Recumbent', ' Large and Small',\n",
       "       ' ??', ' 26 and 24 inch', ' small to medium', ' Variety',\n",
       "       ' Varies', ' MEDIUM', ' other/unknown', ' Kids bike',\n",
       "       ' 16\" & 18\" Medium', ' 59 x 32 x 42in', ' Standard', ' 55 cm',\n",
       "       ' standard size', ' 26\" wheels', ' 18\"', ' mens / womens',\n",
       "       ' 24 inch', ' 16.2”', ' 26 INCH', ' 000', ' 28',\n",
       "       ' Large frame/59cm', ' 22', ' XL stand over 32', ' 19\"', ' 11',\n",
       "       ' 44\"x35\"', ' Medium, 17.5\"', ' 18 inch', ' 44 x 22 x 57', ' 17.5',\n",
       "       ' xs', ' 24', ' 56', ' M', ' 54cm, medium', ' Youth', ' -',\n",
       "       ' 16.5\" Medium', ' Kids bikes', ' 18 inches',\n",
       "       ' Medium/large/ smalll', ' 54 cm Medium', ' 3', ' 28&26\"',\n",
       "       ' little kids', ' Medium and Large', ' 26” aluminum',\n",
       "       ' medium. small', ' 58 cm', ' na', ' 20 inch and 18 inch',\n",
       "       ' Regular', ' medium, adult', ' Idk', ' 35\"', ' Different sizes',\n",
       "       ' 2”', ' Large, 19 inches', ' 23\"', ' 30\"',\n",
       "       ' telescoping seat post', ' girls/kids', ' 16\"MEDIUM & 20\"LARGE',\n",
       "       ' 222', ' 29x29x29', ' See photo', ' 43cm', ' All Sizes', ' cargo',\n",
       "       ' Ladies/Teens', ' Medium and large', ' 123', ' XS S M L XL',\n",
       "       ' 2 Small and 1  Medium', \" don't know\", ' 46 cm', ' 50 cm',\n",
       "       ' S/M/L', ' expert xl', ' 42cm', ' 44 cm', ' 47', ' 29', ' 2',\n",
       "       ' 1', ' 18.5', ' many sizes', ' Bmx', ' Kids 24\" and 16\"',\n",
       "       ' 42-49cm', ' tbd', ' Medium/17', ' BMX', ' 23', ' SMALL',\n",
       "       ' S M L XL', ' 17\" frame 26\" wheels', ' 13 up', ' 29”',\n",
       "       ' one size', ' ON THE', ' 14 inches', ' Bike Rack', ' 26-inch',\n",
       "       ' 16\", 18\", and 20\"', ' 6061', ' Large and Medium', ' 20-23 in.',\n",
       "       ' 22 inches', ' Ff.', ' 56 Frame', ' 14”', ' Large medium', ' 10\"',\n",
       "       ' Who knows', ' 11\"', ' Medium 52cm', ' Z', ' 26\" Inch, size 15.0',\n",
       "       ' 47cm', ' Unsure', ' 2 bike carrier', ' 3 bike carrier',\n",
       "       ' 3 bike', ' 21', ' 21\"', ' 12.5', ' 21\", 23\"', ' 20 inch',\n",
       "       ' 26 \"', ' 19', ' 54”', ' 10in', ' 21-womens  26 mens',\n",
       "       ' 19 inches', ' Medíum', ' 12 to 18', ' 21.3\" Top Tube', ' STEEL',\n",
       "       ' assorted', ' Small Medium Large', ' One Size', ' Ned-large',\n",
       "       ' see picture', ' Step through', ' 54.5 x 8 x 31.5 in', ' various',\n",
       "       ' 28 inch', ' Riders 5’3” + up', ' 26 28', ' 10 and 12', ' 27',\n",
       "       ' Medium 54.5cm', ' 20” bikes', ' 17 inches', \" I'm not sure\",\n",
       "       ' 14\"', ' 12 inch', ' 12\"', \" Kid's\", ' 10', ' 1 1/4 inch',\n",
       "       ' 19 and 23', ' cargo style bike', ' Medium and Small', ' 17 +',\n",
       "       ' 18inch', ' Not ness', ' 19”', ' Na', ' varies', ' ???',\n",
       "       ' 16\", 18\", 20\"', ' 17???', ' NA', ' One large, one medium',\n",
       "       ' 22\"', ' Medium 18 1/2”', ' 21.5 inches', ' 49 cm', ' 20 \"',\n",
       "       ' Kids’', ' 20in', ' Etc', ' 54 in', ' large and extra large',\n",
       "       ' 17”', ' 24” frame', ' full size', ' 16 inch Razor boys bike',\n",
       "       ' will measure', ' different sizes', ' all', ' 16”', ' 27.5',\n",
       "       ' 21 inch', ' Wheelbase 39.5', ' dont know', ' XS, 480', ' 4 feet',\n",
       "       ' 20.5” top tube', ' adult and child', ' Youth. 24” tires', ' med',\n",
       "       ' 27 inches', ' bmx', ' 12-18', ' Decent', ' BMX 24\"', ' 30 X30\"',\n",
       "       ' 25', ' 21-23', ' 20.5', ' 23.5', ' 15', ' 21.5', ' 24.5',\n",
       "       ' 23\"-19\"', ' 54cm medium', ' 16.5\"', ' girls 24”, boys 24”',\n",
       "       ' multiple sizes', ' 23.6', ' 20.75', \" I don't know, standard\",\n",
       "       ' 36 inches wide', ' 21 Inches', ' 29 Inches', ' ALL',\n",
       "       ' 16 in (40.64 cm)', ' Regular size', ' 16\", 18\", or 20\"',\n",
       "       ' 27.5+', ' unknown adult', ' 24 inches', ' 2 bikes', ' M/55',\n",
       "       ' 15\" STEEL FRAME', ' 24\" TIRES', ' 18\" WHEELS', ' Any car fit',\n",
       "       ' Small 12.5 inches', ' 17 inches medium', ' 19.5\" large',\n",
       "       ' 19 inches large', ' 25.5 cm seat tube length', ' Any',\n",
       "       ' 18-28 INCH', ' Normal Size', ' 16\" small', ' 65 cm (25\")',\n",
       "       ' 64 cm (25\")', ' 66.81 x 25.94 x 41.27', ' 19\" Medium',\n",
       "       ' 21\" large', ' 19\" large', ' 53', ' Reg', ' Electric bike',\n",
       "       ' 20inch', ' 16.5”', ' 18inches', ' 15 in', ' 62 cm',\n",
       "       ' Large, 19\"', ' custom', ' 20 in', ' not applicable',\n",
       "       ' 54 cm, Medium', ' 12\" Wheel', ' Wheels-18,20,26\"', ' not sure',\n",
       "       ' 19.5\" Large', ' For riders 5’8” – 6’8”', ' 57 cm', ' 53 cm',\n",
       "       ' 56 cm', ' XS', ' Medium 17.5 inch', ' Small 15.5 inch',\n",
       "       ' Small 14 inch', ' Small 15 inch', ' Large 19 inch',\n",
       "       ' Small Medium 41cm', ' Extra Large 21.5 inch',\n",
       "       ' Medium/Large 56cm', ' Kids 12', ' 65x27x46\" unfolded', ' 55',\n",
       "       ' No', ' Tires 26 - 24 etc.', ' 33 inch Motobecane', ' 20 Inch',\n",
       "       ' 14” wheels', ' Xl, Small, and Meduim', ' triangle',\n",
       "       ' 29\" Big BMX', ' 60 cm, 60 cm, 56 cm', ' 68mm', ' balance bike',\n",
       "       ' M?', ' 12', ' KIDS', ' 20.5 TT', ' Kids 16”', ' 15.5 in frames',\n",
       "       ' Two bikes, 2” hitch', ' 58cm full carbon', ' *', ' 22.5”, XL',\n",
       "       ' 21\" top tube', ' 23 inches', ' 57 cm large', ' 54”  ???',\n",
       "       ' 62 in long', ' 56 cm, Large', ' 18 (46cm)', ' 19\" - 21\"',\n",
       "       ' 44.45 cm 17.5 in?', ' 000000', ' --', ' 19” and 21”',\n",
       "       ' Approx 38 inches', ' 12 in', ' 24-26', ' XXS'], dtype=object)"
      ]
     },
     "execution_count": 13,
     "metadata": {},
     "output_type": "execute_result"
    }
   ],
   "source": [
    "df['frame size'].unique()"
   ]
  },
  {
   "cell_type": "code",
   "execution_count": 14,
   "metadata": {},
   "outputs": [],
   "source": [
    "def fix_fs(x):\n",
    "    if pd.isna(x):\n",
    "        return 'unknown'\n",
    "    numbers = re.findall(r'\\d+', x)\n",
    "    if len(numbers) == 0:\n",
    "        if 'medium' in x.lower():\n",
    "            return 2\n",
    "        elif 'large' in x.lower():\n",
    "            return 3\n",
    "        elif 'small' in x.lower():\n",
    "            return 1\n",
    "        else:\n",
    "            return 'unknown'\n",
    "    else:\n",
    "        if '\"' or \"'\" or 'inches' or 'inch' or 'in' in x.lower(): #it's in inches\n",
    "            size = float(numbers[0]) # assume it's the first number\n",
    "            if size < 16:\n",
    "                return 1\n",
    "            if size > 19:\n",
    "                return 3\n",
    "            else:\n",
    "                return 2\n",
    "        else: #cm\n",
    "            size = float(numbers[0])\n",
    "            if size < 53:\n",
    "                return 1\n",
    "            if size > 56:\n",
    "                return 3\n",
    "            else:\n",
    "                return 2\n",
    "\n",
    "df['frame size'] = df['frame size'].apply(fix_fs)"
   ]
  },
  {
   "cell_type": "code",
   "execution_count": 15,
   "metadata": {},
   "outputs": [
    {
     "data": {
      "text/plain": [
       "array(['unknown', 2, 3, 1], dtype=object)"
      ]
     },
     "execution_count": 15,
     "metadata": {},
     "output_type": "execute_result"
    }
   ],
   "source": [
    "df['frame size'].unique()"
   ]
  },
  {
   "cell_type": "code",
   "execution_count": 16,
   "metadata": {},
   "outputs": [
    {
     "data": {
      "text/plain": [
       "array([nan, ' suspension fork (hardtail)', ' none (rigid)',\n",
       "       ' other/unknown', ' frame and fork (full suspension)'],\n",
       "      dtype=object)"
      ]
     },
     "execution_count": 16,
     "metadata": {},
     "output_type": "execute_result"
    }
   ],
   "source": [
    "df['suspension'].unique()"
   ]
  },
  {
   "cell_type": "code",
   "execution_count": 17,
   "metadata": {},
   "outputs": [],
   "source": [
    "def fix_s(x):\n",
    "    if pd.isna(x):\n",
    "        return 0\n",
    "    if 'fork' in x.lower():\n",
    "        return 1\n",
    "    else:\n",
    "        return 0\n",
    "\n",
    "df['suspension'] = df['suspension'].apply(fix_s)"
   ]
  },
  {
   "cell_type": "code",
   "execution_count": 18,
   "metadata": {},
   "outputs": [
    {
     "data": {
      "text/plain": [
       "array([0, 1], dtype=int64)"
      ]
     },
     "execution_count": 18,
     "metadata": {},
     "output_type": "execute_result"
    }
   ],
   "source": [
    "df['suspension'].unique()"
   ]
  },
  {
   "cell_type": "code",
   "execution_count": 19,
   "metadata": {},
   "outputs": [
    {
     "data": {
      "text/plain": [
       "array([nan, ' 26 in', ' other/unknown', ' 12 in', ' 24 in', ' 20 in',\n",
       "       ' 27 in', ' 700C', ' 25 in', ' 29 in', ' 14 in', ' 16 in',\n",
       "       ' 10 in', ' 650B', ' 18 in', ' 27.5 in', ' 28 in', ' 26.5 in',\n",
       "       ' 650C'], dtype=object)"
      ]
     },
     "execution_count": 19,
     "metadata": {},
     "output_type": "execute_result"
    }
   ],
   "source": [
    "df['wheel size'].unique()"
   ]
  },
  {
   "cell_type": "code",
   "execution_count": 20,
   "metadata": {},
   "outputs": [],
   "source": [
    "def fix_ws(x):\n",
    "    if pd.isna(x):\n",
    "        return 'unknown'\n",
    "    if '700' in x.strip():\n",
    "        return 29\n",
    "    if '650' in x.strip():\n",
    "        return 26\n",
    "    numbers = re.findall(r'\\d+', x)\n",
    "    if len(numbers)==0:\n",
    "        return 'unknown'\n",
    "    else:\n",
    "        if int(numbers[0]) > 30:\n",
    "            return 'unknown'\n",
    "        else:\n",
    "            return int(numbers[0])\n",
    "\n",
    "df['wheel size'] = df['wheel size'].apply(fix_ws)"
   ]
  },
  {
   "cell_type": "code",
   "execution_count": 21,
   "metadata": {},
   "outputs": [
    {
     "data": {
      "text/plain": [
       "array(['unknown', 26, 12, 24, 20, 27, 29, 25, 14, 16, 10, 18, 28],\n",
       "      dtype=object)"
      ]
     },
     "execution_count": 21,
     "metadata": {},
     "output_type": "execute_result"
    }
   ],
   "source": [
    "df['wheel size'].unique()"
   ]
  },
  {
   "cell_type": "code",
   "execution_count": 22,
   "metadata": {},
   "outputs": [
    {
     "data": {
      "text/plain": [
       "array([nan, ' excellent', ' new', ' good', ' salvage', ' like new',\n",
       "       ' fair'], dtype=object)"
      ]
     },
     "execution_count": 22,
     "metadata": {},
     "output_type": "execute_result"
    }
   ],
   "source": [
    "df['condition'].unique()"
   ]
  },
  {
   "cell_type": "code",
   "execution_count": 23,
   "metadata": {},
   "outputs": [],
   "source": [
    "def fix_c(x):\n",
    "    if pd.isna(x):\n",
    "        return 'unknown'\n",
    "    x = str(x)\n",
    "    if 'good' in x:\n",
    "        return 3\n",
    "    if 'fair' in x:\n",
    "        return 2\n",
    "    if 'salvage' in x or 'poor' in x:\n",
    "        return 1\n",
    "    if 'new' or 'excellent' in x:\n",
    "        return 4\n",
    "    \n",
    "    return 'unknown'\n",
    "\n",
    "\n",
    "df['condition'] = df['condition'].apply(fix_c)"
   ]
  },
  {
   "cell_type": "code",
   "execution_count": 24,
   "metadata": {},
   "outputs": [
    {
     "data": {
      "text/plain": [
       "array(['unknown', 4, 3, 1, 2], dtype=object)"
      ]
     },
     "execution_count": 24,
     "metadata": {},
     "output_type": "execute_result"
    }
   ],
   "source": [
    "df['condition'].unique()"
   ]
  },
  {
   "cell_type": "code",
   "execution_count": 25,
   "metadata": {},
   "outputs": [
    {
     "data": {
      "text/plain": [
       "array([nan, ' none', ' other', ' throttle', ' pedal assist'], dtype=object)"
      ]
     },
     "execution_count": 25,
     "metadata": {},
     "output_type": "execute_result"
    }
   ],
   "source": [
    "df['electric assist'].unique()"
   ]
  },
  {
   "cell_type": "code",
   "execution_count": 26,
   "metadata": {},
   "outputs": [],
   "source": [
    "def fix_ea(x):\n",
    "    if pd.isna(x):\n",
    "        return 0\n",
    "    x = str(x)\n",
    "    if 'other' in x or 'none' in x:\n",
    "        return 0\n",
    "    return 1\n",
    "\n",
    "df['electric assist'] = df['electric assist'].apply(fix_ea)"
   ]
  },
  {
   "cell_type": "code",
   "execution_count": 27,
   "metadata": {},
   "outputs": [
    {
     "data": {
      "text/plain": [
       "array([0, 1], dtype=int64)"
      ]
     },
     "execution_count": 27,
     "metadata": {},
     "output_type": "execute_result"
    }
   ],
   "source": [
    "df['electric assist'].unique()"
   ]
  },
  {
   "cell_type": "code",
   "execution_count": 28,
   "metadata": {},
   "outputs": [
    {
     "data": {
      "text/plain": [
       "array([nan, ' Thule', ' BodyKore', ' Trek', ' Huffy', ' Diamondback',\n",
       "       ' joystar', ' critical', ' huffy', ' SE Bikes', ' Saris',\n",
       "       ' Royce Union, Huffy', ' Kent', ' Real tree', ' Cyberbike',\n",
       "       ' all makes', ' NS Bikes', ' Fuji', ' Allen', ' Schwinn', ' Sun',\n",
       "       ' Marin', ' Sole', ' Specialized', ' Life Fitness, Cybex, Hammer',\n",
       "       ' Yakima', ' HUSQVARNA', ' Gatormade Trailers', ' roadmaster',\n",
       "       ' Orbea', ' Bikemate', ' Suzuki', ' Viathon', ' Harley Davidson',\n",
       "       ' Tony Hawk', ' Scott', ' Stamina', ' central bike', ' Litespeed',\n",
       "       ' Jamis', ' mongoose', ' Rollfast', ' Giant', ' Windsor',\n",
       "       ' Coleman', ' Rad Power Bikes', ' Maxxhaul', ' Dynacraft',\n",
       "       ' grabber', ' Sears, JC Higgins', ' Salsa', ' Rad Power Bike',\n",
       "       ' BMX', ' Hollywood', ' Triton', ' CUB CADET', ' BASS CAT',\n",
       "       ' hotwheels', ' Charge Bikes', ' Free Spirit', ' All', ' Gibson',\n",
       "       ' Bjorn', ' Lamar Trailers', ' Yamaha', ' sixthreezero',\n",
       "       ' Rock Solid Cargo', ' Road Gear', ' sears', ' Schwinn Paramount',\n",
       "       ' Polaris', ' Load Trail', ' Sears and Roebuck', ' Nishiki',\n",
       "       ' Adventurer', ' BOBCAT', ' LOWE', ' Venom', ' Terry', ' Azonic',\n",
       "       ' Kawasaki', ' Fulton', ' FORD  OEM', ' Sunny Health and Fitness',\n",
       "       ' SCHWINN', ' KENT', ' Kent Bicycles', ' Townie 3 light 6061',\n",
       "       ' kawasaki', ' Peloton', ' HJC & Viking', ' T-bag', ' Dyno Jet',\n",
       "       ' Bruno Wisc.', ' Swchinn', ' BMW', ' Honda', ' MISC',\n",
       "       ' Assorted makers', ' Club Car EzGo Western Yamaha', ' Worksman',\n",
       "       ' Trail-a-Bike', ' Dyno Kustom Kruiser Frame', ' Earl by Trek',\n",
       "       ' Firmstrong', ' CST tires', ' Black Widow', ' SE RACING BIKES',\n",
       "       ' MANY', ' Magnum', ' any', ' Bell', ' Bmx', ' Kona', ' Vtuvia',\n",
       "       ' All City', ' Your Zone', ' Fox', ' HOLLYWOOD', ' Miyata',\n",
       "       ' Minnesota Framed', ' Woom', ' ANZA', ' Ridley', ' CMXRT',\n",
       "       ' Harley', ' Kettler', ' Bicycoo', ' Miir', ' Garyfisher',\n",
       "       ' Univega', ' Dutch Dog Design', ' Keno', ' BOB', ' Tunturi',\n",
       "       ' TINY HOUSE COTTAGE', ' Mountain 2 Sea', ' Turner', ' YT', ' REI',\n",
       "       ' Cannondale', ' Novara', ' Chipmunk', ' Norco', ' Mavic',\n",
       "       ' Surly', ' specialized', ' Rocky Mountain', ' Colony',\n",
       "       ' Diamond Back', ' Burley', ' Cogburn', ' Basil', ' REI CO-OP',\n",
       "       ' Topeak', ' framed', ' Various', ' Canyon', ' Bianchi',\n",
       "       ' FitBikeCo', ' bike pro USA', ' Bob', ' TOWSMART TRAILERS',\n",
       "       ' Sunny', ' TOW SMART TRAILERS', ' National Cycle', ' xspec',\n",
       "       ' KONA', ' Haro', ' trek', ' chevy gmc', ' Centurian & Shogun',\n",
       "       ' Juiced Bikes', ' Rad Bikes', ' Hot Cams', ' Ultranautics',\n",
       "       ' PHAT', ' Innovate/Eagle', ' Unknown', ' Motobecane',\n",
       "       ' Pebbled Textured Purse/Backpack', ' Avalon', ' Rsi',\n",
       "       ' Alpinestars', ' Rice', ' Mossi', ' honda', ' BH Bikes', ' FOBO',\n",
       "       ' Niner Bikes', ' Ancheer Vivi', ' Shark', ' Sherco', ' TREK',\n",
       "       ' Guant', ' Polygon custom e bike', ' Electra', ' Mongoose',\n",
       "       ' schwinn', ' Kenda', ' On It Bikes', ' Raleigh', ' REAL RYDER',\n",
       "       ' Swagtron', ' SOUL FAST ELECTRIC BIKES', ' Pinarello', ' TransIt',\n",
       "       ' GenZe', ' See description of 3 bikes', ' kent', ' Sportrack',\n",
       "       ' Raleigh, Giant', ' sun', ' Huffy/Cannondale',\n",
       "       ' like another track', ' Allen Sports', ' Seven Cycles',\n",
       "       ' unbranded', ' Aventon', ' un', ' viking', ' Santa Cruz', ' FELT',\n",
       "       \" O'Neal\", ' Bilt', ' Weslo', ' Nordic Track 400', ' Peugeot',\n",
       "       ' Fitness Reality', ' WOLFE', ' Barracuda', ' BodyRider',\n",
       "       ' A+ Rating with the BBB', ' Osprey', ' assos', ' Nordic Track',\n",
       "       ' Honda,', ' yamaha', ' Fox/Cannondale', ' lectric',\n",
       "       ' Diamondback fitness', ' BAFANG', ' Gilmour bikes',\n",
       "       ' Crust bikes', ' Polygon', ' ANY', ' Giant anthem', ' Mercury',\n",
       "       ' Mongoose Mountain Bikes', ' USPS', ' StreetStrider',\n",
       "       ' RS Helmets', ' Raliegh', ' Bikes', ' Pedago', ' Harley-Davidson',\n",
       "       ' Pedego', ' Athletico', ' TEXAS PRIDE TRAILERS', ' resse',\n",
       "       ' THULE', ' Recon Rack', ' custom', ' Hollywood Racks',\n",
       "       ' north woods', ' Extreme Max', ' Gt chase', ' YardStash', ' look',\n",
       "       ' FirstGear', ' Lifecycle 9500', ' electro', ' Exercise',\n",
       "       ' amerixan ironhorse', ' AMERICA!', ' CYCRA', ' Leonpets',\n",
       "       ' Hyper', ' Star Trac', ' Kuat', ' Revi Bikes',\n",
       "       ' Car bicycle rack', ' G T', ' SE', ' RALEIGH', ' Big Shot Bikes',\n",
       "       ' DMASUM', ' woom', ' Christiania Bikes', ' Hebba', ' amf',\n",
       "       ' SE BIKES', ' schrader', ' 3G bikes', ' INFINITY BIKES', ' Dyno',\n",
       "       ' 20+ Brands!', ' Yamee', ' Retrospec', ' Enduro', ' Softride',\n",
       "       ' All Makes', ' Kogu Masamune', ' Copilot',\n",
       "       ' Many used hybrid bikes', ' Many makes', ' Specialized + Trek',\n",
       "       ' yakima', ' Xport', ' Infinity', ' Reese', ' Shwinn / Next',\n",
       "       ' Fit', ' Stampede bikes', ' Trek etc', ' Icon', ' Eastern',\n",
       "       ' Se bikes', ' Bassi', ' KHS', ' DKY Mountain Bikes', ' VARITY',\n",
       "       ' state bikes', ' Flying Bikes , New York', ' DAHON', ' Tamarack',\n",
       "       ' Drummer bikes', ' STOLEN BIKES', ' GENZE', ' Greenstar Bikes',\n",
       "       ' Schwinn/Specialized/Mariushi', ' Masi', ' Sorrento', ' infinity',\n",
       "       ' Rubbermaid', ' Bike trainer', ' Landwave', ' MISSION CYCLES',\n",
       "       ' coachmen', ' KURYAKYN', ' Triple Crown', ' Commencal',\n",
       "       ' Nashiki', ' GARY FISHER', ' mongoose and road master',\n",
       "       ' huffy and schwin', ' Kracken Adventure Bikes', ' shwin',\n",
       "       ' HUFFY', ' Murray', ' Next', ' Swagman', ' Bottecchia', ' topeak',\n",
       "       ' harley davidson', ' Varies', ' Mowen, Delta, Badger, Trek',\n",
       "       ' Pingel', ' OMNI', ' Soul', ' Craftsman', ' Rupp', ' Curt mfg',\n",
       "       ' Graber Outback', ' Lego', ' Madrax', ' Trek and Mongoose',\n",
       "       ' FIREFLY', ' Great Divide', ' Scwinn', ' bikes',\n",
       "       ' Se Bikes    17', ' Hoffman', ' Outback', ' Falter',\n",
       "       ' Public Bikes', ' Trek Schwinn Specialized', ' All.', ' various',\n",
       "       ' schwa', ' Crud', ' ALLEN', ' Zize Bikes', ' Priority Bikes',\n",
       "       ' Scwhinn', ' IZIP', ' Woom Bikes', ' Bulls', ' S22I', ' SCOTT',\n",
       "       ' Magna', ' RALEIGH  & others', ' HOLIDAY', ' Cleary',\n",
       "       ' Haro dyno redline', ' RAD Power Bikes', ' Gary Fisher',\n",
       "       ' giant, khs, takara', ' Northern Tool', ' Skyl E',\n",
       "       ' Miscellaneous', ' Racor', ' Virtue', ' varius', ' Mercier',\n",
       "       ' Arcam', ' Polytronics', ' Magnavox', ' Bic', ' Civia', ' Krom',\n",
       "       ' sears, bell', ' Mongoose, Huffy, Hyper, Bayside,', ' giant',\n",
       "       ' Man goose mounting bike', ' fuji', ' ryder bikes', ' Razor',\n",
       "       ' Hyper and Magna', ' DRC Trailer & Sport', ' River Road',\n",
       "       ' Life Fitness', ' Exerpeutic', ' Allen sports', ' se bikes',\n",
       "       ' SHWINN', ' Se Bikes', ' Carolina Hurricanes.', ' VOSS bikes',\n",
       "       ' Multiple', ' S&M Bikes', ' Priority', ' Delta', ' GT',\n",
       "       ' Lifefitness', ' all', ' Ross', ' Keiser',\n",
       "       ' Mantis Bike Bicycle frame', ' Liv', ' Pit bull', ' Del Sol',\n",
       "       ' Vulcan', ' OnGuard', ' Montague', ' Jamies', ' LandWave',\n",
       "       ' Cinelli', ' Universal', ' see above', ' Loadstar',\n",
       "       ' stolen brand/eastern', ' Nishiki/Diamondback', ' Santana',\n",
       "       ' Bridgestone', ' SWAGMAN', ' Knicks NBA Lamp', ' THRUSTER',\n",
       "       ' Quintana Roo', ' Centurion', ' Arcade1Up', ' Sony', ' Lotus',\n",
       "       ' Jack-It', ' DiamondBack', ' trek schwinn raleigh giant',\n",
       "       ' schwin, Huffy', ' Trek,Cannondale,GT',\n",
       "       ' Haro GT Dyno Mongoose SE', ' trek giant diamondback',\n",
       "       ' trek giant gary fisher', ' GT Bikes',\n",
       "       ' fuji trek giat specialized', ' Kazam',\n",
       "       ' trek giant fuji schwinn raleigh', ' Velosolex',\n",
       "       ' trek giant Bianchi vitus', ' raleigh trek schwinn giant',\n",
       "       ' Coaster', ' Shimano', ' Metakoo', ' NYC Bikes',\n",
       "       ' trek fuji giant raleigh', ' RAD POWER BIKES',\n",
       "       ' jamis trek giant schwinn', ' trek fuji panasonic', ' James',\n",
       "       ' SportRack', \" I don't know\", ' Schwinn Spin Bikes',\n",
       "       ' collective Bikes', ' NEXT', ' Reebok', ' Rovio',\n",
       "       ' ROADMASTER 24\" MOUNTAIN BIKE', ' NEXT/HELLO KITTY/',\n",
       "       ' HELLO KITTY 18\" GIRLS BIKE', ' Chillafish', ' Mc', ' Dunlop',\n",
       "       ' Schwinn/ Currie', ' SFD Industries', ' Mini', ' Kachina Bikes',\n",
       "       ' Bri-Mar', ' Hoffman Bikes', ' multiple', ' Spawn',\n",
       "       ' harley dasvidson', ' SCHWINN--HUFFY--ECT', ' All kind', ' FSA',\n",
       "       ' Jack LaLanne', ' Mfi', ' Motoos', ' Felt', ' jamis',\n",
       "       ' NordicTrack', ' Dexter Axle.', ' Biria', ' Fairdale',\n",
       "       ' Addmotor', ' Playskool', ' ACCEL', ' Trek/schwinn', ' Gt',\n",
       "       ' O zone', ' Mongoose/Kent', ' Sonders', ' L&O Manufacturing',\n",
       "       ' DIRTRACKS', ' N/A', ' Iron Bull', ' BOBCATC', ' Cherokee',\n",
       "       ' East Texas', ' Hand Mand', ' Chapter 2', ' Iron Bull Trailers',\n",
       "       ' Vianelli', ' green', ' Roadmaster', ' Brooklyn',\n",
       "       ' Fuji, Trek, Raleigh', ' Mongoose / ozone', ' Jakks Pacific',\n",
       "       ' TFD', ' Solvit', ' Specialized 700c/29', ' VanMoof', ' YGJT',\n",
       "       ' allen', ' Merlin', ' Independent Fabrications', ' Storck',\n",
       "       ' Guru', ' SE Racing', ' Public', ' Stumpjumper', ' R&G Racing',\n",
       "       ' 24 INCH WHEEL, TIRE AND TUBE', ' eJoe', ' Greg Lemond', ' Old',\n",
       "       ' Montrose-roadmaster  etc', ' Ace Bikes', ' Tourmaster',\n",
       "       ' Guardian Bikes', ' Rack', ' la joya', ' Mountain',\n",
       "       ' RadPower Bikes', ' Cannondale and Suteki', ' Ikuram',\n",
       "       ' Joy Star Bikes', ' Trek/Adams', ' Doufit', ' Royalbaby',\n",
       "       ' unisky', ' Argon 18', ' CATL', ' COZIWOW', ' Mitas',\n",
       "       ' hollywood racks', ' Lemond Tourmalet', ' raleigh', ' Pelaton',\n",
       "       ' suziki', ' OC Ramps', ' Swytch', ' Coleman Utah With slide out',\n",
       "       ' Pivot', ' Redline', ' BMC', ' Bowflex', ' Ride 1up', ' marcy',\n",
       "       ' Felt Bikes', ' Ktm', ' Saris Bike Bicycle Rack',\n",
       "       ' Yakima Rack Co.', ' Hitch Mount Bike Rack', ' Fiore', ' Schwann',\n",
       "       ' Slider Corp', ' Dahon', ' Land Ryder', ' Wilderness Trail Bikes',\n",
       "       ' AMF', ' Spieth', ' Yeah', ' Scott Bikes', ' BELL', ' LeMond',\n",
       "       ' Motus', ' Norco, Elite , etc', ' LandRover'], dtype=object)"
      ]
     },
     "execution_count": 28,
     "metadata": {},
     "output_type": "execute_result"
    }
   ],
   "source": [
    "df['make / manufacturer'].unique()"
   ]
  },
  {
   "cell_type": "code",
   "execution_count": 29,
   "metadata": {},
   "outputs": [],
   "source": [
    "def fix_mm(x):\n",
    "    if pd.isna(x) or 'unknown' in x.lower():\n",
    "        return 0\n",
    "    return 1\n",
    "\n",
    "df['make / manufacturer'] = df['make / manufacturer'].apply(fix_mm)"
   ]
  },
  {
   "cell_type": "code",
   "execution_count": 30,
   "metadata": {},
   "outputs": [
    {
     "data": {
      "text/plain": [
       "array([0, 1], dtype=int64)"
      ]
     },
     "execution_count": 30,
     "metadata": {},
     "output_type": "execute_result"
    }
   ],
   "source": [
    "df['make / manufacturer'].unique()"
   ]
  },
  {
   "cell_type": "code",
   "execution_count": 31,
   "metadata": {},
   "outputs": [
    {
     "data": {
      "text/plain": [
       "array([nan, ' 961XT Speedway', ' G703', ' 4300', ' Comfort tek', ' cub',\n",
       "       ' So Cal Flyer', ' Grand Slam/4', ' See description', ' Four Bike',\n",
       "       ' Unknown', ' Holy', ' Ace 24', ' Panther', ' Bobcat Trail 4',\n",
       "       ' SB900', ' Ruby Pro', ' Dr. Tray plus one', ' ZERO TURN MOWER',\n",
       "       ' Hotshot/ Gooseneck Trailer', ' Hardrock', ' power', ' Alma Cup',\n",
       "       ' Hotrock', ' Gxsr', ' M.1', ' Sportster SuperLow XL883',\n",
       "       ' Duosonic 8053-38', ' CR1 Team', ' Elite', ' ben hur',\n",
       "       ' Sabre Titanium', ' Ariel', ' Satellite', ' FastRoad SLR',\n",
       "       ' Rascal', ' Wellington', ' CT200AB', ' RadRunner2', ' grabber',\n",
       "       ' 8002114', ' Campeon', ' Rad Rover', ' Duo glide', ' MONGOOSE',\n",
       "       ' 914XT', ' HR8000', ' 179 TRX', ' LT 42', ' PANTERA', ' na',\n",
       "       ' Radwagon Caboose', ' Breeze', ' All', ' 83\" x 14\\'', ' WR 250F',\n",
       "       \" Around the Block Men's Cruiser\", \" 7' x 16' x 7'\",\n",
       "       ' Super Cycle Shuttle', ' gamefisher', ' Series 50', ' General',\n",
       "       ' COMPACT', ' LEGACY', ' Sport Bike Rear Wheel Stand',\n",
       "       ' Liberator', ' Outlaw', ' KZ650 CSR',\n",
       "       ' F250 F350 F450 F550 F-550', ' SF-RW5515', ' SHINE',\n",
       "       ' TEMPEST PRO 20', ' LaJolla Classic Cruiser', ' Electra',\n",
       "       ' vulcan', ' Stump Jumper', ' Bike Trailer', ' 16-049', ' 903202',\n",
       "       ' Chariot', ' R1200RT', ' CB750', ' NA', ' BENNINGTON',\n",
       "       ' PowerWise Delta-q PowerDrive', ' News', ' Original Folder One',\n",
       "       ' Dyno Kustom Kruiser', ' Earl 57 cm.',\n",
       "       ' Urban Girl Beach Cruiser', ' Bike Seat', ' CARACAL',\n",
       "       ' GX 240 and 270', ' 50530', ' Vstar 650', ' BRONCO', ' MANY',\n",
       "       ' any', ' Dry Bags', ' Focus', ' 4 Bike Hitch Mount', ' Honzo ESD',\n",
       "       ' SF20 and SK20', ' SJ26', ' Nazz Elegant / 82780', ' City Line',\n",
       "       ' Schwinn', ' Koen and Ellm', ' Sentinel', ' SINGLE BIKE MOUNT',\n",
       "       ' 2022 Farley 7', ' SN100', ' Three Ten', ' Heavy Duty', ' e bike',\n",
       "       ' 2', ' Blondie', ' Iguana', ' Helium', ' Cascade',\n",
       "       ' mountain bike', ' Cycleops', ' Bingo', ' Barbie', ' Lip gloss',\n",
       "       ' Bmx', ' Twilight twist', ' Sweet', ' Gamma ray', ' Fatboy',\n",
       "       ' Large Novel', ' Ponderosa', ' Yak', ' cardiofit s30',\n",
       "       ' country cottage tiny house', ' a10', ' Bell', ' TT500E',\n",
       "       ' Cyclosis', ' Jeffsy 27.5', ' REV 16 kids bike', ' F700', ' Pik',\n",
       "       ' Balance', ' Makena', ' Cherokee', ' Coaster', ' Crossmax Pro',\n",
       "       ' Cross Check', ' SuperX', ' Flare', ' Dawg Primo', ' 800',\n",
       "       ' High Timber', ' Premise', ' Bones', ' Release 5C', ' Travoy',\n",
       "       ' CB4', ' Xr100', ' DRT 1.1', ' Splice', ' Dual-Touch Bike Stand',\n",
       "       ' Cutthroat Apex 1', ' Ultimate CF SL 8', ' Tourist', ' 700',\n",
       "       ' PowerWise Delta-q PowerDrive +', ' STR', ' Sidewinder',\n",
       "       ' Fuel Ex 5', ' Trailer', ' Pipeline', ' Mountain Frame Bag',\n",
       "       ' StreetShield/N2560', ' Roubaix', ' Synapse', ' STINKY DEE-LUXE',\n",
       "       ' CT 200U', ' Edmonda', ' Steamroller', ' Infinity',\n",
       "       ' MODERN DUAL LOFT CARAVAN', ' Silverado tahoe yukon suburban',\n",
       "       ' Scorpion X', ' SwingAway 4', ' 7.48 mm', ' Wetbike', ' Receiver',\n",
       "       ' RockHopper', ' Phat', ' Jet Boat', ' unknown', ' CBR1000',\n",
       "       ' Z50', ' River Ridge Personal Organizer', ' Waketoon',\n",
       "       ' Expedition', ' Catalina 2385 Quad Lounge',\n",
       "       ' Catalina Platinum Funship', ' Catalina Cruise',\n",
       "       ' Steath 5x8 utility', ' goldwing GL 1800', ' CT90 Trail',\n",
       "       ' AC Power', ' Atom X emotion', ' Source Eleven',\n",
       "       ' RIP 9 RDO 4 star X01', ' Road', ' E BIKE', ' Wild', ' E',\n",
       "       ' Rad Rover Step Thru', ' Recumbent', ' Ct90', ' Soul 965',\n",
       "       ' Malus', ' Sahara', ' coffee and cream', ' 3 Bike',\n",
       "       ' Venture 3.0', ' ABF8 Indoor Cycle', ' EB7 Plus Bike',\n",
       "       ' SONIC STOMPER SABER', ' Razah 550', ' Bikes Aloft 2', ' e101',\n",
       "       ' Precaliber', ' shock wave', ' BC/m300', ' Deelite', ' 1111',\n",
       "       ' S545', ' Scalpel Si Carbon 2', ' Odonata', ' Aventure', ' un',\n",
       "       ' Tall Boy C', ' Czar', ' rockhopper', ' ZW5', ' Series 5',\n",
       "       ' VT two', ' AirDyne', ' Airdyne', ' Pursuit 720D', ' S-Works',\n",
       "       ' Commercial', ' Jubilee DLX', ' TUCANA', ' Dos Equis',\n",
       "       ' 13 plus yrs in Business', ' Siskin 8', ' S22i', ' 1500',\n",
       "       ' yz125', ' 510lc', ' Bbs02', ' 2 bikes', ' ANY', ' Roscoe ebike',\n",
       "       ' E bike', ' CrossCurrent S', ' Fz07', ' RS-8661', ' 230',\n",
       "       ' Sabre', ' Scooters', ' Plus', ' 1 1/2” hitch style',\n",
       "       ' Collegiate Suburban', ' Trail Tracker',\n",
       "       ' All touring bikes, trike.', ' City Commuter',\n",
       "       ' GOOSENECK DUMP TRAILER', ' FX6 Sport',\n",
       "       ' Full Swing Hitch Mount Bike Rack', ' Scenic',\n",
       "       ' Long Haul Trucker', ' RACEWAY PRO 2 PLATFORM  CARRIER',\n",
       "       ' Superbones', ' Six13', ' Domane 5.2', ' 4',\n",
       "       ' 40’ enclosed trailer', ' Model B3 Baja', ' IV', ' Riding pants',\n",
       "       ' 9500HR', ' bike', ' Bike', ' texas chopper', ' Tarmac', ' TCT',\n",
       "       ' Shadow', ' shadow phantom 750cc', ' SWORKS', ' AMERICA!',\n",
       "       ' PROBEND', ' Blade ION', ' NV 2.0', ' Predator', ' Edostory',\n",
       "       ' Backwoods & Avalanche', ' Revi Bikes - Cheetah',\n",
       "       ' AC Performance Carbon Blue', ' Mesa GSX', ' Lil Ripper',\n",
       "       ' Juiced City Scrambler', ' M50', ' Suburban / Varsity',\n",
       "       ' R5-RD350', ' 48v 15Ah', ' 3', ' Big Ripper', ' Hebba',\n",
       "       ' stingray', ' OM DURO XL', ' slime tubes', ' 3 G', ' BOSS THREE',\n",
       "       ' Cypress', ' BLOCKS FLYER', ' MOON / Deluxe Glide', ' Beaumont',\n",
       "       ' Specialized FSR', ' SE Draft', ' 26496', ' Lily', ' All Models',\n",
       "       ' Ikeda', ' 100 Navigator Hybrid', ' Child Carrier',\n",
       "       ' MANY Models', ' Many models', ' full swing daddy', ' Slipstream',\n",
       "       ' Various', ' 3 Bikes w/sway cradles', ' 2”', ' Explore',\n",
       "       ' Charger', ' 1000', ' Trunk bike rack', ' Fast Ripper',\n",
       "       ' 2 Biked', ' Le Montreal', ' Urban Soul Single Speed',\n",
       "       ' Hardtail', ' Hotrock 20', ' Many top models', ' Radmssion',\n",
       "       ' DBlocks Red Black/Green Camo', ' Big Ripper, Red Ano',\n",
       "       ' Big Ripper Wood Grain', ' OM Duro XL', ' FlipSide - 4',\n",
       "       ' RadMini Step-Thru - White', ' Jetstrem & Vitasse', ' Noshiki',\n",
       "       ' ZEKE', ' 101', ' EcoCross', ' Radrunner', ' SABER 1000',\n",
       "       ' UNO RISER', ' Huffy Trail Runner', ' PIGGYBACK MK2 TRAILER',\n",
       "       ' catalina', ' Y33 Carbon Frame', ' Schwinn and English Rims',\n",
       "       ' Schwinn Piston 16', ' GRAN', ' Clash race', ' 1.0',\n",
       "       ' Allez E5 Sport Bike', ' Punisher', ' meridian', ' Sunshine Day',\n",
       "       ' Sea Star', ' sea star', ' misty', ' Mirage SL', ' 80630',\n",
       "       ' Supercaliber 9.7', ' ADMIRAL', ' 77901', ' LA.BIKE', ' LA.Bike',\n",
       "       ' Stomper', ' Impasse', ' Madone 6.9', ' 1.1 WSD', ' Roadster II',\n",
       "       ' 2 bike', ' 3 bike', ' 3 Bike carrier', ' Super Joe Pro3',\n",
       "       ' 752015', ' traveler', ' GR116-B', ' Trek 820 & Mongoose Sprint',\n",
       "       ' Model 102S', ' whirl', ' GREEN,BLUE,YELLOW,RED',\n",
       "       ' fat tire alumino', ' Sugarbaby', ' Mountain train', ' Star Wars',\n",
       "       ' Continental', ' Sprint/Continental', ' Super Stars', ' Sprout V',\n",
       "       ' V-Star', ' Mountain, Road', ' cross-fit', ' See pics.', ' hutch',\n",
       "       ' Wheelie Pegs', ' redline hutch gt', ' Alpha', ' Cargo Pakyak',\n",
       "       ' Trekking', ' Motr', ' Crd200', ' Rock creek', ' Rad Runner',\n",
       "       ' Leaf 2.0', ' Continuum Onyx', ' All Bikes', ' GRAND PRIX',\n",
       "       ' Suburban', ' Sports', ' tree', ' V7', ' 78 GS 1000', ' Viper jr',\n",
       "       ' E-MTB', ' various', ' Maricopa', ' Road Glide Ultra', ' S22I',\n",
       "       ' GENIUS', ' Grid Iron', ' Hedgehog', ' Runner 2',\n",
       "       ' Big Honkin Cruiser Bars', ' 26\" Blocks Flyer', ' PK Fat Ripper',\n",
       "       ' SC40', ' Grand Prix', ' electric', ' multiple', ' 515-5001',\n",
       "       ' suburban', ' Radmini', ' Curve One', ' Street Stomper',\n",
       "       ' bike pedals', ' Serpens 20 Limited', ' A real 350', ' Sr 23',\n",
       "       ' ITL 200', ' Venturi 6', ' Kingfield', ' 920', ' Gensis', ' Crs',\n",
       "       ' Crossroads', ' cypress dx', ' Palisades', ' XR-75',\n",
       "       ' absolute 2.0', ' ryder', ' HitchSwitch', ' Micro Force',\n",
       "       ' BM-11', ' Momentum Series Model #10-9006', ' Fullback',\n",
       "       ' 9500 RHR Recumbent', ' YZ250', ' Express', ' Top tube',\n",
       "       ' SR2703', ' 4 bike', ' 102DN', ' BTM', ' Embark', ' Performer',\n",
       "       ' all', ' Europa', ' M3', ' Triple Cross', ' Mountain bike',\n",
       "       ' ADORE', ' Calico', ' MXR', ' Bullet', ' 9027', ' 2.3c', ' 4616',\n",
       "       ' Boston', ' Capri', ' LWR2', ' Rak n Loc', ' Semper',\n",
       "       ' Spoke bikes', ' Revel', ' see above', ' Berkeley & Absolute',\n",
       "       ' Huffy', ' Pueblo/Cobra', ' F24', ' Pro Miyata', ' Sovereign',\n",
       "       ' RB-2', ' World Sport', ' Polo Jr and other',\n",
       "       ' Knicks Basketball', ' One Ten', ' ALL', ' Kilo',\n",
       "       ' Ironman Dave Scott', ' ATX 970', ' Supergoose',\n",
       "       ' Street Fighter', ' PlayStation 5', ' Response', ' Unique',\n",
       "       ' Continental II', ' Double bicycle carrier', ' 1220', ' Tandem',\n",
       "       ' Kalamar LX', ' Freewheel', ' Hutch', ' Goldwing 1500',\n",
       "       ' WILDERNESS TRAIL BIKES', ' CG BIG RIPPER',\n",
       "       ' 2021 Pro Performer 20\"', ' Mike Buff Big Ripper 29\"',\n",
       "       \" Matte Trek Black/Blazin' Orange\", ' Stretch Rack',\n",
       "       ' 350 Venture', ' BR-R7000', ' Trak100',\n",
       "       ' The Ultimate New York Bike', ' City Grounds Big Flyer',\n",
       "       ' Radmini Step Thru 2', ' RadMini4',\n",
       "       ' Rack Roof Bike Carrier SR4882RP', ' Ninja', ' c2', ' Gauntlet',\n",
       "       ' Tamahawk', ' Grit 55', ' Level Cruiser', ' GRANITE PEAK 24\"',\n",
       "       ' PEACE 18\" GIRLS BIKE', ' Status 2.2', ' Ledge 2.1',\n",
       "       ' Rock Candy', ' Big Wheel Trike', ' Outlook', ' 3-Bones',\n",
       "       ' 82 71 2 326 515', ' Venture 933', ' Excursion', ' Pisgah',\n",
       "       ' UTE-612', ' UT-614', ' Sugar Baby- Flatland',\n",
       "       ' Triple Link Pedal System', ' VX', ' FC1800A-PB',\n",
       "       ' VX Cruiser HO', ' FX Cruiser SHO', ' VX Cruiser', ' EX Deluxe',\n",
       "       ' EX Sport', ' V1 Sport', ' VX Limited', ' VX 110 Deluxe',\n",
       "       ' Raiju', ' Electra Loft 7D', ' panhead', ' 552rr', ' COMET',\n",
       "       ' Power Juicer', ' Speedster 20 Disc', ' 50cc', ' Talon', ' TK2',\n",
       "       ' Pista', ' GX4.4 PRO', ' Taj', ' E-bike', ' Bones 2', ' 140404',\n",
       "       ' Alpha 4500', ' boulder', ' 3900', ' Suede', ' 7100', ' octane',\n",
       "       ' 7200', ' Smart Step', ' 83\" x 20\\' Equipment 14k GVWR',\n",
       "       ' 6\\'4\" x 12\\' Single Axle', ' 6\\'4\" x 12\\' Tandem Axle',\n",
       "       ' LAMINAR LIP', \" 8.5' x 28'\", ' 102\" x 20\\'', ' Bike rack',\n",
       "       ' 83\"x20\\' Tilt-N-Go Tandem Axle', ' 83\" x 14\\' Sky Blue',\n",
       "       \" 7'x16' Tandem Axle\", ' 60\" x 10\\'', \" 8.5' X 16' Tandem Axle\",\n",
       "       ' Tandem Torsion Axle', \" 8.5' x 20'\",\n",
       "       ' 6\\'10\"x20\\' Tandem Axle Carhauler/', ' 6\\'4\" x 10\\' Single Axle',\n",
       "       ' 6\\'4\" x 14\\' Single Axle', \" 8.5' x 24'\", ' HoldUp',\n",
       "       ' 83\" x 16\\' 36\" sides', ' 102\" x 22\\'', ' 102\" x 40\\'',\n",
       "       ' A Frame', ' AO', ' 83\" x 20\\'', ' Corsa',\n",
       "       \" 8.5' X 24' Tandem Axle\", ' 102\" x 36\\'', ' 102\" x 32\\'',\n",
       "       ' 102\" x 42\\'', ' 102\" x 25\\'', \" 6' x 12' Single Axle\",\n",
       "       ' Hei Hei', ' SixFifty 800', ' dolomite', ' 26 inch',\n",
       "       ' Super Le Tour 12.2', ' Point Blank and Del Mar', ' The Tray',\n",
       "       ' Splash', ' Rockhopper/Trek', ' S3', ' SONIC SABER',\n",
       "       ' Baby Balance Bikes', ' Defy 2', ' Kz', ' Revel Jr', ' Cielo',\n",
       "       ' Crown Jewel', ' Scentron G2', ' Carbonio', ' Z35', ' Tachyon',\n",
       "       ' Fuel EX 9.8 GX', ' Crossroads 2.0 Disc', ' So Cal Flyer 24',\n",
       "       ' Bad Habit Carbon 1 + 27.5er', ' Wahoo 26er',\n",
       "       ' Neko WSD Step Thru', ' 1120 Disc 29er+', ' FX 7.3',\n",
       "       ' Vita Comp Carbon', \" C7i Women's Step Thru\",\n",
       "       ' Vita Expert Carbon Disc', ' Stumpjumper Carbon Coil 6Fattie',\n",
       "       ' Quick 4 Disc', ' Habit 5 Disc 27.5er', ' CR0005BK',\n",
       "       ' COMPLETE FRONT DISC BRAKE WHEEL', ' Epik', ' RB-1',\n",
       "       ' HR-1500-2” Hitch Rack,2 bikes', ' kids', ' N/a',\n",
       "       ' Super Joe Pro 2', ' TyreFix - Wheel Tie Down System',\n",
       "       ' Mountain', ' Touring Bikes', ' monster quad', ' Transfer',\n",
       "       ' Ethos 16', ' Rack', ' 6061', ' Rad City 5 Plus Step-thru',\n",
       "       ' 1999 and up touring bikes', ' globe deluxe', ' KRB-H020B',\n",
       "       ' Balance Bike', ' Sedona DX', ' Aksium race', ' Ranger', ' EB-01',\n",
       "       ' brochures \"receipts\" included', ' Clutch', ' 52189-00',\n",
       "       ' Sunbird', ' Madone 5.2', ' 302ah', ' Bone', ' Hangout',\n",
       "       ' 7100 Alpha Aluminum', ' E-07 Dakar', ' Hemi Comp', ' Cake 1 DLX',\n",
       "       ' Madone 6.7 SSL', ' 5010', ' Bones 2-Bike Rack', ' Sycamore',\n",
       "       ' Ransom 910', ' Stumpjumper', ' AWOL', ' rush hour 2018',\n",
       "       ' gsxs 1000f', ' Cardio Trainer', ' quarter-pipe ramp', ' 700c',\n",
       "       ' Tandem Classic', ' Sanctuary 7', ' Mach5.5', ' URS', ' C6',\n",
       "       ' Roadster V2', ' Rmz250', ' Feather', ' SX', ' Yak 28 Plus',\n",
       "       ' Trunk Mount', ' Money Lynch', ' Hyperscrambler 2',\n",
       "       ' Trunk-Mount Bike Rack', ' RadRunner Plus',\n",
       "       ' Fits both 1in and 2in hitches', ' North rock',\n",
       "       ' The Bike Slider', ' Hot Rock', ' Legion L60 and L20', ' N/A',\n",
       "       ' Verdict Wet', ' Pacemaker', ' Simone Bikes', ' DT, RT or RD',\n",
       "       ' Yeah', ' SHilouette', ' 522RR', ' Comp Junior', ' 200',\n",
       "       ' Enigma', ' Kazoo/Piccolo', ' REV 20', ' 100963', ' RevMaster',\n",
       "       ' Roadrunner - Holds 4 bikes', ' Fusion', ' Mix', ' Various/mix',\n",
       "       ' DRT 1.0'], dtype=object)"
      ]
     },
     "execution_count": 31,
     "metadata": {},
     "output_type": "execute_result"
    }
   ],
   "source": [
    "df['model name / number'].unique()"
   ]
  },
  {
   "cell_type": "code",
   "execution_count": 32,
   "metadata": {},
   "outputs": [],
   "source": [
    "def fix_mn(x):\n",
    "    if pd.isna(x) or 'unknown' in x.lower():\n",
    "        return 0\n",
    "    return 1\n",
    "\n",
    "df['model name / number'] = df['model name / number'].apply(fix_mn)"
   ]
  },
  {
   "cell_type": "code",
   "execution_count": 33,
   "metadata": {},
   "outputs": [
    {
     "data": {
      "text/plain": [
       "array([0, 1], dtype=int64)"
      ]
     },
     "execution_count": 33,
     "metadata": {},
     "output_type": "execute_result"
    }
   ],
   "source": [
    "df['model name / number'].unique()"
   ]
  },
  {
   "cell_type": "code",
   "execution_count": 34,
   "metadata": {},
   "outputs": [
    {
     "data": {
      "text/plain": [
       "array([nan, ' cantilever', ' disc (mechanical)', ' caliper', ' none',\n",
       "       ' other/unknown', ' coaster', ' disc (hydraulic)', ' gyro/bmx',\n",
       "       ' u-brakes', ' v-brakes', ' drum', ' hydraulic rim brakes'],\n",
       "      dtype=object)"
      ]
     },
     "execution_count": 34,
     "metadata": {},
     "output_type": "execute_result"
    }
   ],
   "source": [
    "df['brake type'].unique()"
   ]
  },
  {
   "cell_type": "code",
   "execution_count": 35,
   "metadata": {},
   "outputs": [],
   "source": [
    "def fix_bt(x):\n",
    "    if pd.isna(x) or 'other/unknown' in x.lower() or 'none' in x.lower():\n",
    "        return 'unknown'\n",
    "    else:\n",
    "        x = str(x)\n",
    "        if 'hydraulic' in x:\n",
    "            return 'hydraulic'\n",
    "        elif 'mechanical' in x:\n",
    "            return 'mechanical'\n",
    "        else:\n",
    "            return 'special'\n",
    "\n",
    "df['brake type'] = df['brake type'].apply(fix_bt)"
   ]
  },
  {
   "cell_type": "code",
   "execution_count": 36,
   "metadata": {},
   "outputs": [
    {
     "data": {
      "text/plain": [
       "array(['unknown', 'special', 'mechanical', 'hydraulic'], dtype=object)"
      ]
     },
     "execution_count": 36,
     "metadata": {},
     "output_type": "execute_result"
    }
   ],
   "source": [
    "df['brake type'].unique()"
   ]
  },
  {
   "cell_type": "code",
   "execution_count": 37,
   "metadata": {},
   "outputs": [
    {
     "data": {
      "text/plain": [
       "array([nan, ' flat', ' bmx', ' other/unknown', ' drop', ' cruiser',\n",
       "       ' triathlon', ' riser', ' downhill', ' aero', ' bullhorn'],\n",
       "      dtype=object)"
      ]
     },
     "execution_count": 37,
     "metadata": {},
     "output_type": "execute_result"
    }
   ],
   "source": [
    "df['handlebar type'].unique()"
   ]
  },
  {
   "cell_type": "code",
   "execution_count": 38,
   "metadata": {},
   "outputs": [],
   "source": [
    "def fix_ht(x):\n",
    "    if pd.isna(x) or 'other/unknown' in x:\n",
    "        return 'unknown'\n",
    "    else:\n",
    "        return 'special'\n",
    "\n",
    "df['handlebar type'] = df['handlebar type'].apply(fix_ht)"
   ]
  },
  {
   "cell_type": "code",
   "execution_count": 39,
   "metadata": {},
   "outputs": [
    {
     "data": {
      "text/plain": [
       "array(['unknown', 'special'], dtype=object)"
      ]
     },
     "execution_count": 39,
     "metadata": {},
     "output_type": "execute_result"
    }
   ],
   "source": [
    "df['handlebar type'].unique()"
   ]
  },
  {
   "cell_type": "code",
   "execution_count": 40,
   "metadata": {},
   "outputs": [
    {
     "data": {
      "text/plain": [
       "array([nan, ' other', ' racks, fenders, bags', ' saddle',\n",
       "       ' grips, bar ends, tape', ' tires', ' wheels and wheel parts',\n",
       "       ' crankset, bottom bracket, guards', ' brakes', ' pedals',\n",
       "       ' headset, stem, spacers', ' frame only'], dtype=object)"
      ]
     },
     "execution_count": 40,
     "metadata": {},
     "output_type": "execute_result"
    }
   ],
   "source": [
    "df['part type'].unique()"
   ]
  },
  {
   "cell_type": "code",
   "execution_count": 41,
   "metadata": {},
   "outputs": [],
   "source": [
    "def fix_pt(x):\n",
    "    if pd.isna(x) or 'other' in x.lower():\n",
    "        return 0\n",
    "    else:\n",
    "        return 1\n",
    "\n",
    "df['part type'] = df['part type'].apply(fix_pt)\n",
    "# Let's get rid of the listings about parts\n",
    "df = df.where(df['part type']==0).dropna(how='all').drop(columns=['part type'])"
   ]
  },
  {
   "cell_type": "code",
   "execution_count": 42,
   "metadata": {},
   "outputs": [
    {
     "data": {
      "text/plain": [
       "array([nan, ' 1 1/4” hitch', ' 26.38 x 12.2 x 13.98',\n",
       "       ' \\u200e42 x 40 x 10 inches', ' 750', ' 56x9.5x4.5',\n",
       "       ' 4-bike capacity', ' 168\" X 86\" X 0\"', ' 192\" X 84\" X 0\"',\n",
       "       ' 168\" X 83\" X 0\"', ' 26”', ' 2011---2016', ' 51x 48x30',\n",
       "       ' 36 Volt 42 Volt 48 Volt', ' S, L, M, XL, XXL', ' See above',\n",
       "       ' 5\\'×17\" UNFOLDED', ' 31.5 x 21 x 25.5 in (Interior)',\n",
       "       ' 125cc 250cc 500cc', ' 8.5 x 28', \" Women's size medium\", ' 1111',\n",
       "       ' Large', ' 22', ' na', ' 196cc', ' 9 x 22', ' 7.48 mm',\n",
       "       ' 2500 sq feet', ' 6 feet', ' 12x5', ' 42', ' 59x32x42in',\n",
       "       ' 7.5 feet tall approx', ' 5x1x3,12', \" Men's Large\",\n",
       "       ' Fully Inspected', ' 41\" x 20\"', ' X-Large', ' 62\"wide',\n",
       "       ' 7X14X3 16K GN DUMP TRAILER', ' 25 LBS', ' 40’x 7’8”x 79”tall',\n",
       "       ' 32\" x 68\" x 74\"', ' 20”', ' 3x4', ' 600', ' Holds 4 Bikes',\n",
       "       ' 52\"', ' 3 Bike Rack', ' 2 bikes', ' 36',\n",
       "       ' 10.32 x 7.52 x 2.4 inches', ' 110\" x 36\" wide x 30\" high',\n",
       "       ' 20 inch', ' 26x4.7', ' All sizes& extra lightweight.',\n",
       "       ' 4\" long', ' All sizes & extra lightweight.', ' 20 18 3',\n",
       "       ' 6  feet', ' 5 1/2”', ' ;quot;w x 15\" d', ' 12x4',\n",
       "       ' 12 X 9.5 X 10', ' 48”H X 25”W X 56”L', ' 3 bike carrier',\n",
       "       ' any adult', ' any 20” 24” 26”', ' L36 x W14 and 17',\n",
       "       ' 38.5 x 56 x 12', ' 22x10', ' 30″x 12″', ' 30 x 8 x 30 inches',\n",
       "       ' 16\"', ' M/L', ' 120 70 17', ' 27\" x 8\" x 12\"',\n",
       "       ' 240\" X 82\" X 0\"', ' 144\" X 76\" X 0\"', ' 240\" X 102\" X 0\"',\n",
       "       ' 240\" X 83\" X 0\"', ' 192\" X 84\" X 75\"', ' 120\" X 60\" X 0\"',\n",
       "       ' 192\" X 102\" X 75\"', ' 16\\'L x 6\\'10\" wide', ' 240\" X 101\" X 79\"',\n",
       "       ' 240\" X 81\" X 0\"', ' 120\" X 75\" X 0\"', ' 168\" X 76\" X 0\"',\n",
       "       ' 216\" X 81\" X 0\"', ' 288\" X 101\" X 0\"', ' 192\" X 83\" X 0\"',\n",
       "       ' 480\" X 102\" X 0\"', ' 8 X 5', ' 288\" X 102\" X 0\"',\n",
       "       ' 432\" X 102\" X 0\"', ' 384\" X 102\" X 0\"', ' 504\" X 102\" X 0\"',\n",
       "       ' 300\" X 102\" X 0\"', ' 72\" X 144\" X 0\"', ' bmx/mountain bike',\n",
       "       ' 14x18x1', ' Picture', ' Large, Fits on most Backrests',\n",
       "       ' Adjustable', ' 4\" Circular,  3/4\" Shaft', ' 62\"', ' 110/80-19',\n",
       "       ' NA', ' 9 x 24', ' 1000cc', ' 3ft wide', ' Holds 3 bikes',\n",
       "       ' Carries 2 Bikes', ' Securely Holds Up to 2 Bikes', ' 8’2” by 8”'],\n",
       "      dtype=object)"
      ]
     },
     "execution_count": 42,
     "metadata": {},
     "output_type": "execute_result"
    }
   ],
   "source": [
    "df['size / dimensions'].unique()"
   ]
  },
  {
   "cell_type": "code",
   "execution_count": 43,
   "metadata": {},
   "outputs": [],
   "source": [
    "def fix_sd(x):\n",
    "    if pd.isna(x):\n",
    "        return 0\n",
    "    else:\n",
    "        return 1\n",
    "\n",
    "df['size / dimensions'] = df['size / dimensions'].apply(fix_sd)"
   ]
  },
  {
   "cell_type": "code",
   "execution_count": 44,
   "metadata": {},
   "outputs": [
    {
     "data": {
      "text/plain": [
       "array([0, 1], dtype=int64)"
      ]
     },
     "execution_count": 44,
     "metadata": {},
     "output_type": "execute_result"
    }
   ],
   "source": [
    "df['size / dimensions'].unique()"
   ]
  },
  {
   "cell_type": "code",
   "execution_count": 45,
   "metadata": {},
   "outputs": [
    {
     "data": {
      "text/plain": [
       "array([nan, ' black', ' grey', ' custom', ' white', ' silver', ' red'],\n",
       "      dtype=object)"
      ]
     },
     "execution_count": 45,
     "metadata": {},
     "output_type": "execute_result"
    }
   ],
   "source": [
    "df['paint color'].unique()"
   ]
  },
  {
   "cell_type": "code",
   "execution_count": 46,
   "metadata": {},
   "outputs": [],
   "source": [
    "def fix_pc(x):\n",
    "    if pd.isna(x):\n",
    "        return 0\n",
    "    else:\n",
    "        return 1\n",
    "\n",
    "df['paint color'] = df['paint color'].apply(fix_pc)"
   ]
  },
  {
   "cell_type": "code",
   "execution_count": 47,
   "metadata": {},
   "outputs": [
    {
     "data": {
      "text/plain": [
       "array([0, 1], dtype=int64)"
      ]
     },
     "execution_count": 47,
     "metadata": {},
     "output_type": "execute_result"
    }
   ],
   "source": [
    "df['paint color'].unique()"
   ]
  },
  {
   "cell_type": "code",
   "execution_count": 48,
   "metadata": {},
   "outputs": [
    {
     "data": {
      "text/plain": [
       "array([nan, ' Unknown', ' F1068892', ' N/A', ' EN14872XINGING',\n",
       "       ' TC19 222501', ' na', ' NSN not needed', ' Model GS32401', ' 000',\n",
       "       ' 20A16575', ' M5060820', ' RU1F20V0502', ' yes', ' GS62660',\n",
       "       ' un', ' EB720DO', ' S  / N', ' on request', ' none', ' M50',\n",
       "       ' EZ-201304 468', ' 408 406 7864 cell', ' Var', ' Nome', ' 23-918',\n",
       "       ' See Photos', ' unknown', ' EG010897', ' 00012345', ' .',\n",
       "       ' various', ' Ninja 2021', ' Freestyle', ' ??', ' NA',\n",
       "       ' WT0406C5218', ' WTU336CT0109R1207', ' N/a', ' 1234567890',\n",
       "       ' CU5C21B3934', ' see photos'], dtype=object)"
      ]
     },
     "execution_count": 48,
     "metadata": {},
     "output_type": "execute_result"
    }
   ],
   "source": [
    "df['serial number'].unique()"
   ]
  },
  {
   "cell_type": "code",
   "execution_count": 49,
   "metadata": {},
   "outputs": [],
   "source": [
    "def fix_sn(x):\n",
    "    if pd.isna(x) or 'unknown' in x.lower() or 'na' in x.lower() or 'none' in x.lower():\n",
    "        return 0\n",
    "    else:\n",
    "        return 1\n",
    "\n",
    "df['serial number'] = df['serial number'].apply(fix_sn)"
   ]
  },
  {
   "cell_type": "code",
   "execution_count": 50,
   "metadata": {},
   "outputs": [
    {
     "data": {
      "text/plain": [
       "array([0, 1], dtype=int64)"
      ]
     },
     "execution_count": 50,
     "metadata": {},
     "output_type": "execute_result"
    }
   ],
   "source": [
    "df['serial number'].unique()"
   ]
  },
  {
   "cell_type": "code",
   "execution_count": 51,
   "metadata": {},
   "outputs": [
    {
     "data": {
      "text/plain": [
       "array([  nan, 2022., 2020., 2010., 1975., 2018., 2015., 1979., 2005.,\n",
       "       2021., 2013., 1987., 2001., 2019., 2012., 2017., 2006.])"
      ]
     },
     "execution_count": 51,
     "metadata": {},
     "output_type": "execute_result"
    }
   ],
   "source": [
    "df['year manufactured'].unique()"
   ]
  },
  {
   "cell_type": "code",
   "execution_count": 52,
   "metadata": {},
   "outputs": [],
   "source": [
    "def fix_ym(x):\n",
    "    if pd.isna(x):\n",
    "        return 0\n",
    "    else:\n",
    "        return 1\n",
    "\n",
    "df['year manufactured']=df['year manufactured'].apply(fix_ym)"
   ]
  },
  {
   "cell_type": "code",
   "execution_count": 53,
   "metadata": {},
   "outputs": [
    {
     "data": {
      "text/plain": [
       "array([0, 1], dtype=int64)"
      ]
     },
     "execution_count": 53,
     "metadata": {},
     "output_type": "execute_result"
    }
   ],
   "source": [
    "df['year manufactured'].unique()"
   ]
  },
  {
   "cell_type": "code",
   "execution_count": 54,
   "metadata": {},
   "outputs": [
    {
     "name": "stdout",
     "output_type": "stream",
     "text": [
      "<class 'pandas.core.frame.DataFrame'>\n",
      "Int64Index: 3891 entries, 0 to 3952\n",
      "Data columns (total 25 columns):\n",
      " #   Column                  Non-Null Count  Dtype  \n",
      "---  ------                  --------------  -----  \n",
      " 0   Price                   3891 non-null   float64\n",
      " 1   Location                3891 non-null   object \n",
      " 2   URL                     3891 non-null   object \n",
      " 3   Date                    3891 non-null   object \n",
      " 4   Title                   3891 non-null   object \n",
      " 5   num image               3891 non-null   float64\n",
      " 6   text                    3891 non-null   object \n",
      " 7   condition               3891 non-null   object \n",
      " 8   make / manufacturer     3891 non-null   float64\n",
      " 9   model name / number     3891 non-null   float64\n",
      " 10  bicycle frame material  3891 non-null   object \n",
      " 11  bicycle type            3891 non-null   object \n",
      " 12  brake type              3891 non-null   object \n",
      " 13  electric assist         3891 non-null   float64\n",
      " 14  frame size              3891 non-null   object \n",
      " 15  handlebar type          3891 non-null   object \n",
      " 16  suspension              3891 non-null   float64\n",
      " 17  wheel size              3891 non-null   object \n",
      " 18  size / dimensions       3891 non-null   int64  \n",
      " 19  serial number           3891 non-null   int64  \n",
      " 20  paint color             3891 non-null   int64  \n",
      " 21  year manufactured       3891 non-null   int64  \n",
      " 22  engine hours (total)    16 non-null     float64\n",
      " 23  length overall (LOA)    26 non-null     float64\n",
      " 24  propulsion type         26 non-null     object \n",
      "dtypes: float64(8), int64(4), object(13)\n",
      "memory usage: 790.4+ KB\n"
     ]
    }
   ],
   "source": [
    "df.info()"
   ]
  },
  {
   "cell_type": "code",
   "execution_count": 55,
   "metadata": {},
   "outputs": [
    {
     "data": {
      "text/plain": [
       "Index(['Price', 'Location', 'URL', 'Date', 'Title', 'num image', 'text',\n",
       "       'condition', 'make / manufacturer', 'model name / number',\n",
       "       'bicycle frame material', 'bicycle type', 'brake type',\n",
       "       'electric assist', 'frame size', 'handlebar type', 'suspension',\n",
       "       'wheel size', 'size / dimensions', 'serial number', 'paint color',\n",
       "       'year manufactured', 'engine hours (total)', 'length overall (LOA)',\n",
       "       'propulsion type'],\n",
       "      dtype='object')"
      ]
     },
     "execution_count": 55,
     "metadata": {},
     "output_type": "execute_result"
    }
   ],
   "source": [
    "df.columns"
   ]
  },
  {
   "cell_type": "code",
   "execution_count": 56,
   "metadata": {},
   "outputs": [],
   "source": [
    "df = df.drop(columns=['length overall (LOA)', 'propulsion type', 'engine hours (total)'])"
   ]
  },
  {
   "cell_type": "code",
   "execution_count": 57,
   "metadata": {},
   "outputs": [],
   "source": [
    "df.columns = [column.replace('/', '').lower().strip().replace(' ', '') for column in df.columns]"
   ]
  },
  {
   "cell_type": "code",
   "execution_count": 58,
   "metadata": {},
   "outputs": [
    {
     "data": {
      "text/plain": [
       "Index(['price', 'location', 'url', 'date', 'title', 'numimage', 'text',\n",
       "       'condition', 'makemanufacturer', 'modelnamenumber',\n",
       "       'bicycleframematerial', 'bicycletype', 'braketype', 'electricassist',\n",
       "       'framesize', 'handlebartype', 'suspension', 'wheelsize',\n",
       "       'sizedimensions', 'serialnumber', 'paintcolor', 'yearmanufactured'],\n",
       "      dtype='object')"
      ]
     },
     "execution_count": 58,
     "metadata": {},
     "output_type": "execute_result"
    }
   ],
   "source": [
    "df.columns"
   ]
  },
  {
   "cell_type": "code",
   "execution_count": 59,
   "metadata": {},
   "outputs": [],
   "source": [
    "df['days'] = [(datetime.datetime.today()-datetime.datetime.strptime(date_, \"%Y-%m-%d %H:%M\")).days for date_ in df['date']]"
   ]
  },
  {
   "cell_type": "code",
   "execution_count": 60,
   "metadata": {},
   "outputs": [],
   "source": [
    "df.to_csv('preprocessed_data_craigslist.csv')"
   ]
  }
 ],
 "metadata": {
  "interpreter": {
   "hash": "b3ba2566441a7c06988d0923437866b63cedc61552a5af99d1f4fb67d367b25f"
  },
  "kernelspec": {
   "display_name": "Python 3 (ipykernel)",
   "language": "python",
   "name": "python3"
  },
  "language_info": {
   "codemirror_mode": {
    "name": "ipython",
    "version": 3
   },
   "file_extension": ".py",
   "mimetype": "text/x-python",
   "name": "python",
   "nbconvert_exporter": "python",
   "pygments_lexer": "ipython3",
   "version": "3.8.5"
  },
  "toc": {
   "base_numbering": 1,
   "nav_menu": {},
   "number_sections": true,
   "sideBar": true,
   "skip_h1_title": false,
   "title_cell": "Table of Contents",
   "title_sidebar": "Contents",
   "toc_cell": false,
   "toc_position": {},
   "toc_section_display": true,
   "toc_window_display": false
  }
 },
 "nbformat": 4,
 "nbformat_minor": 2
}
