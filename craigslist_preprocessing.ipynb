{
 "cells": [
  {
   "cell_type": "code",
   "execution_count": 193,
   "metadata": {},
   "outputs": [],
   "source": [
    "import pandas as pd\n",
    "import numpy as np\n",
    "import re\n",
    "import datetime"
   ]
  },
  {
   "cell_type": "code",
   "execution_count": 155,
   "metadata": {},
   "outputs": [
    {
     "name": "stdout",
     "output_type": "stream",
     "text": [
      "<class 'pandas.core.frame.DataFrame'>\n",
      "RangeIndex: 2938 entries, 0 to 2937\n",
      "Data columns (total 20 columns):\n",
      " #   Column                  Non-Null Count  Dtype  \n",
      "---  ------                  --------------  -----  \n",
      " 0   Price                   2938 non-null   float64\n",
      " 1   Neighborhood            2938 non-null   object \n",
      " 2   URL                     2938 non-null   object \n",
      " 3   Date                    2938 non-null   object \n",
      " 4   bicycle frame material  1864 non-null   object \n",
      " 5   bicycle type            1864 non-null   object \n",
      " 6   frame size              1749 non-null   object \n",
      " 7   suspension              829 non-null    object \n",
      " 8   wheel size              1749 non-null   object \n",
      " 9   num image               2938 non-null   int64  \n",
      " 10  text                    2600 non-null   object \n",
      " 11  condition               1380 non-null   object \n",
      " 12  electric assist         575 non-null    object \n",
      " 13  make / manufacturer     1173 non-null   object \n",
      " 14  model name / number     713 non-null    object \n",
      " 15  brake type              667 non-null    object \n",
      " 16  handlebar type          552 non-null    object \n",
      " 17  part type               161 non-null    object \n",
      " 18  size / dimensions       161 non-null    object \n",
      " 19  serial number           69 non-null     object \n",
      "dtypes: float64(1), int64(1), object(18)\n",
      "memory usage: 459.2+ KB\n"
     ]
    }
   ],
   "source": [
    "df = pd.read_csv('data_craigslist.csv').drop(columns=['Unnamed: 0', 'level_0', 'index'])\n",
    "df.info()"
   ]
  },
  {
   "cell_type": "code",
   "execution_count": 156,
   "metadata": {},
   "outputs": [
    {
     "data": {
      "text/html": [
       "<div>\n",
       "<style scoped>\n",
       "    .dataframe tbody tr th:only-of-type {\n",
       "        vertical-align: middle;\n",
       "    }\n",
       "\n",
       "    .dataframe tbody tr th {\n",
       "        vertical-align: top;\n",
       "    }\n",
       "\n",
       "    .dataframe thead th {\n",
       "        text-align: right;\n",
       "    }\n",
       "</style>\n",
       "<table border=\"1\" class=\"dataframe\">\n",
       "  <thead>\n",
       "    <tr style=\"text-align: right;\">\n",
       "      <th></th>\n",
       "      <th>Price</th>\n",
       "      <th>Neighborhood</th>\n",
       "      <th>URL</th>\n",
       "      <th>Date</th>\n",
       "      <th>bicycle frame material</th>\n",
       "      <th>bicycle type</th>\n",
       "      <th>frame size</th>\n",
       "      <th>suspension</th>\n",
       "      <th>wheel size</th>\n",
       "      <th>num image</th>\n",
       "      <th>text</th>\n",
       "      <th>condition</th>\n",
       "      <th>electric assist</th>\n",
       "      <th>make / manufacturer</th>\n",
       "      <th>model name / number</th>\n",
       "      <th>brake type</th>\n",
       "      <th>handlebar type</th>\n",
       "      <th>part type</th>\n",
       "      <th>size / dimensions</th>\n",
       "      <th>serial number</th>\n",
       "    </tr>\n",
       "  </thead>\n",
       "  <tbody>\n",
       "    <tr>\n",
       "      <th>0</th>\n",
       "      <td>1900.0</td>\n",
       "      <td>(Hudson, FL)</td>\n",
       "      <td>https://newyork.craigslist.org/brk/bik/d/hudso...</td>\n",
       "      <td>2022-04-14 10:05</td>\n",
       "      <td>NaN</td>\n",
       "      <td>NaN</td>\n",
       "      <td>NaN</td>\n",
       "      <td>NaN</td>\n",
       "      <td>NaN</td>\n",
       "      <td>0</td>\n",
       "      <td>NaN</td>\n",
       "      <td>NaN</td>\n",
       "      <td>NaN</td>\n",
       "      <td>NaN</td>\n",
       "      <td>NaN</td>\n",
       "      <td>NaN</td>\n",
       "      <td>NaN</td>\n",
       "      <td>NaN</td>\n",
       "      <td>NaN</td>\n",
       "      <td>NaN</td>\n",
       "    </tr>\n",
       "    <tr>\n",
       "      <th>1</th>\n",
       "      <td>300.0</td>\n",
       "      <td>(Fairfield CT)</td>\n",
       "      <td>https://newyork.craigslist.org/fct/bik/d/fairf...</td>\n",
       "      <td>2022-04-14 10:05</td>\n",
       "      <td>NaN</td>\n",
       "      <td>NaN</td>\n",
       "      <td>NaN</td>\n",
       "      <td>NaN</td>\n",
       "      <td>NaN</td>\n",
       "      <td>0</td>\n",
       "      <td>NaN</td>\n",
       "      <td>NaN</td>\n",
       "      <td>NaN</td>\n",
       "      <td>NaN</td>\n",
       "      <td>NaN</td>\n",
       "      <td>NaN</td>\n",
       "      <td>NaN</td>\n",
       "      <td>NaN</td>\n",
       "      <td>NaN</td>\n",
       "      <td>NaN</td>\n",
       "    </tr>\n",
       "    <tr>\n",
       "      <th>2</th>\n",
       "      <td>190.0</td>\n",
       "      <td>(BROOKLYN)</td>\n",
       "      <td>https://newyork.craigslist.org/brk/bik/d/brook...</td>\n",
       "      <td>2022-04-14 10:01</td>\n",
       "      <td>NaN</td>\n",
       "      <td>NaN</td>\n",
       "      <td>NaN</td>\n",
       "      <td>NaN</td>\n",
       "      <td>NaN</td>\n",
       "      <td>0</td>\n",
       "      <td>NaN</td>\n",
       "      <td>NaN</td>\n",
       "      <td>NaN</td>\n",
       "      <td>NaN</td>\n",
       "      <td>NaN</td>\n",
       "      <td>NaN</td>\n",
       "      <td>NaN</td>\n",
       "      <td>NaN</td>\n",
       "      <td>NaN</td>\n",
       "      <td>NaN</td>\n",
       "    </tr>\n",
       "    <tr>\n",
       "      <th>3</th>\n",
       "      <td>250.0</td>\n",
       "      <td>(West Village)</td>\n",
       "      <td>https://newyork.craigslist.org/mnh/bik/d/new-y...</td>\n",
       "      <td>2022-04-14 08:25</td>\n",
       "      <td>NaN</td>\n",
       "      <td>NaN</td>\n",
       "      <td>NaN</td>\n",
       "      <td>NaN</td>\n",
       "      <td>NaN</td>\n",
       "      <td>0</td>\n",
       "      <td>NaN</td>\n",
       "      <td>NaN</td>\n",
       "      <td>NaN</td>\n",
       "      <td>NaN</td>\n",
       "      <td>NaN</td>\n",
       "      <td>NaN</td>\n",
       "      <td>NaN</td>\n",
       "      <td>NaN</td>\n",
       "      <td>NaN</td>\n",
       "      <td>NaN</td>\n",
       "    </tr>\n",
       "    <tr>\n",
       "      <th>4</th>\n",
       "      <td>800.0</td>\n",
       "      <td>(Brooklyn)</td>\n",
       "      <td>https://newyork.craigslist.org/brk/bik/d/brook...</td>\n",
       "      <td>2022-04-14 00:22</td>\n",
       "      <td>NaN</td>\n",
       "      <td>NaN</td>\n",
       "      <td>NaN</td>\n",
       "      <td>NaN</td>\n",
       "      <td>NaN</td>\n",
       "      <td>0</td>\n",
       "      <td>NaN</td>\n",
       "      <td>NaN</td>\n",
       "      <td>NaN</td>\n",
       "      <td>NaN</td>\n",
       "      <td>NaN</td>\n",
       "      <td>NaN</td>\n",
       "      <td>NaN</td>\n",
       "      <td>NaN</td>\n",
       "      <td>NaN</td>\n",
       "      <td>NaN</td>\n",
       "    </tr>\n",
       "  </tbody>\n",
       "</table>\n",
       "</div>"
      ],
      "text/plain": [
       "    Price     Neighborhood                                                URL  \\\n",
       "0  1900.0     (Hudson, FL)  https://newyork.craigslist.org/brk/bik/d/hudso...   \n",
       "1   300.0   (Fairfield CT)  https://newyork.craigslist.org/fct/bik/d/fairf...   \n",
       "2   190.0       (BROOKLYN)  https://newyork.craigslist.org/brk/bik/d/brook...   \n",
       "3   250.0   (West Village)  https://newyork.craigslist.org/mnh/bik/d/new-y...   \n",
       "4   800.0       (Brooklyn)  https://newyork.craigslist.org/brk/bik/d/brook...   \n",
       "\n",
       "               Date bicycle frame material bicycle type frame size suspension  \\\n",
       "0  2022-04-14 10:05                    NaN          NaN        NaN        NaN   \n",
       "1  2022-04-14 10:05                    NaN          NaN        NaN        NaN   \n",
       "2  2022-04-14 10:01                    NaN          NaN        NaN        NaN   \n",
       "3  2022-04-14 08:25                    NaN          NaN        NaN        NaN   \n",
       "4  2022-04-14 00:22                    NaN          NaN        NaN        NaN   \n",
       "\n",
       "  wheel size  num image text condition electric assist make / manufacturer  \\\n",
       "0        NaN          0  NaN       NaN             NaN                 NaN   \n",
       "1        NaN          0  NaN       NaN             NaN                 NaN   \n",
       "2        NaN          0  NaN       NaN             NaN                 NaN   \n",
       "3        NaN          0  NaN       NaN             NaN                 NaN   \n",
       "4        NaN          0  NaN       NaN             NaN                 NaN   \n",
       "\n",
       "  model name / number brake type handlebar type part type size / dimensions  \\\n",
       "0                 NaN        NaN            NaN       NaN               NaN   \n",
       "1                 NaN        NaN            NaN       NaN               NaN   \n",
       "2                 NaN        NaN            NaN       NaN               NaN   \n",
       "3                 NaN        NaN            NaN       NaN               NaN   \n",
       "4                 NaN        NaN            NaN       NaN               NaN   \n",
       "\n",
       "  serial number  \n",
       "0           NaN  \n",
       "1           NaN  \n",
       "2           NaN  \n",
       "3           NaN  \n",
       "4           NaN  "
      ]
     },
     "execution_count": 156,
     "metadata": {},
     "output_type": "execute_result"
    }
   ],
   "source": [
    "df.head()"
   ]
  },
  {
   "cell_type": "code",
   "execution_count": 157,
   "metadata": {},
   "outputs": [],
   "source": [
    "df['Neighborhood'] = df['Neighborhood'].apply(lambda x:str(x)[2:(len(x)-1)])"
   ]
  },
  {
   "cell_type": "code",
   "execution_count": 158,
   "metadata": {},
   "outputs": [
    {
     "data": {
      "text/plain": [
       "array([nan, ' steel', ' titanium', ' other/unknown', ' aluminum',\n",
       "       ' alloy', ' carbon fiber', ' composite'], dtype=object)"
      ]
     },
     "execution_count": 158,
     "metadata": {},
     "output_type": "execute_result"
    }
   ],
   "source": [
    "df['bicycle frame material'].unique()"
   ]
  },
  {
   "cell_type": "code",
   "execution_count": 159,
   "metadata": {},
   "outputs": [],
   "source": [
    "def fix_bfm(x):\n",
    "    if pd.isna(x) or x.strip() == 'other/unknown':\n",
    "        return np.nan\n",
    "    else:\n",
    "        return x.strip()\n",
    "\n",
    "df['bicycle frame material'] = df['bicycle frame material'].apply(fix_bfm)"
   ]
  },
  {
   "cell_type": "code",
   "execution_count": 160,
   "metadata": {},
   "outputs": [
    {
     "data": {
      "text/plain": [
       "array([nan, ' other', ' bmx', ' track', ' road', ' mountain',\n",
       "       ' hybrid/comfort', ' kids', ' folding', ' cruiser', ' gravel',\n",
       "       ' cargo/pedicab'], dtype=object)"
      ]
     },
     "execution_count": 160,
     "metadata": {},
     "output_type": "execute_result"
    }
   ],
   "source": [
    "df['bicycle type'].unique()"
   ]
  },
  {
   "cell_type": "code",
   "execution_count": 161,
   "metadata": {},
   "outputs": [],
   "source": [
    "def fix_bt(x):\n",
    "    if pd.isna(x) or x.strip() == 'other':\n",
    "        return np.nan\n",
    "    else:\n",
    "        return x.strip()\n",
    "\n",
    "df['bicycle type'] = df['bicycle type'].apply(fix_bt)"
   ]
  },
  {
   "cell_type": "code",
   "execution_count": 162,
   "metadata": {},
   "outputs": [
    {
     "data": {
      "text/plain": [
       "array([nan, ' Medium', \" I don't know, standard\", ' 19', ' 54',\n",
       "       ' all sizes', ' 58cm', ' 54cm medium', ' 16.5\"', ' 1', ' All',\n",
       "       ' 20”', ' 24”', ' 20\"', ' 19\"', ' 36cm  - 14 inches', ' 17”',\n",
       "       ' 20 inches', ' 56cm', ' 36 inches wide', ' 26”', ' 23.6',\n",
       "       ' 20.75', ' 20 inch', ' 21 Inches', ' Varies', ' 50 cm?',\n",
       "       ' 29 Inches', ' 26', ' Large and Medium', ' ALL',\n",
       "       ' 16 in (40.64 cm)', ' all', ' unknown', ' 18\"', ' various',\n",
       "       ' Regular size', ' large', ' 16\", 18\", or 20\"', ' XL'],\n",
       "      dtype=object)"
      ]
     },
     "execution_count": 162,
     "metadata": {},
     "output_type": "execute_result"
    }
   ],
   "source": [
    "df['frame size'].unique()"
   ]
  },
  {
   "cell_type": "code",
   "execution_count": 163,
   "metadata": {},
   "outputs": [],
   "source": [
    "def fix_fs(x):\n",
    "    if pd.isna(x):\n",
    "        return np.nan\n",
    "    numbers = re.findall(r'\\d+', x)\n",
    "    if len(numbers) == 0:\n",
    "        if 'medium' in x.lower():\n",
    "            return 'medium'\n",
    "        elif 'large' in x.lower():\n",
    "            return 'large'\n",
    "        elif 'small' in x.lower():\n",
    "            return 'small'\n",
    "        else:\n",
    "            return np.nan\n",
    "    else:\n",
    "        if '\"' or \"'\" or 'inches' or 'inch' or 'in' in x.lower(): #it's in inches\n",
    "            size = float(numbers[0]) # assume it's the first number\n",
    "            if size < 16:\n",
    "                return 'small'\n",
    "            if size > 19:\n",
    "                return 'large'\n",
    "            else:\n",
    "                return 'medium'\n",
    "        else: #cm\n",
    "            size = float(numbers[0])\n",
    "            if size < 53:\n",
    "                return 'small'\n",
    "            if size > 56:\n",
    "                return 'large'\n",
    "            else:\n",
    "                return 'medium'\n",
    "\n",
    "df['frame size'] = df['frame size'].apply(fix_fs)"
   ]
  },
  {
   "cell_type": "code",
   "execution_count": 164,
   "metadata": {},
   "outputs": [
    {
     "data": {
      "text/plain": [
       "array([nan, ' frame and fork (full suspension)', ' none (rigid)',\n",
       "       ' other/unknown', ' suspension fork (hardtail)'], dtype=object)"
      ]
     },
     "execution_count": 164,
     "metadata": {},
     "output_type": "execute_result"
    }
   ],
   "source": [
    "df['suspension'].unique()"
   ]
  },
  {
   "cell_type": "code",
   "execution_count": 165,
   "metadata": {},
   "outputs": [],
   "source": [
    "def fix_s(x):\n",
    "    if pd.isna(x):\n",
    "        return 0\n",
    "    if 'fork' in x.lower():\n",
    "        return 1\n",
    "    else:\n",
    "        return 0\n",
    "\n",
    "df['suspension'] = df['suspension'].apply(fix_s)"
   ]
  },
  {
   "cell_type": "code",
   "execution_count": 166,
   "metadata": {},
   "outputs": [
    {
     "data": {
      "text/plain": [
       "array([nan, ' 700C', ' 16 in', ' 20 in', ' other/unknown', ' 24 in',\n",
       "       ' 26 in', ' 27 in', ' 29 in', ' 18 in', ' 12 in', ' 25 in',\n",
       "       ' 27.5 in'], dtype=object)"
      ]
     },
     "execution_count": 166,
     "metadata": {},
     "output_type": "execute_result"
    }
   ],
   "source": [
    "df['wheel size'].unique()"
   ]
  },
  {
   "cell_type": "code",
   "execution_count": 167,
   "metadata": {},
   "outputs": [],
   "source": [
    "def fix_ws(x):\n",
    "    if pd.isna(x):\n",
    "        return np.nan\n",
    "    if x.strip() == '700C':\n",
    "        return 29\n",
    "    numbers = re.findall(r'\\d+', x)\n",
    "    if len(numbers)==0:\n",
    "        return np.nan\n",
    "    else:\n",
    "        return int(numbers[0])\n",
    "\n",
    "df['wheel size'] = df['wheel size'].apply(fix_ws)"
   ]
  },
  {
   "cell_type": "code",
   "execution_count": 168,
   "metadata": {},
   "outputs": [
    {
     "data": {
      "text/plain": [
       "array([nan, ' good', ' like new', ' excellent', ' new', ' fair'],\n",
       "      dtype=object)"
      ]
     },
     "execution_count": 168,
     "metadata": {},
     "output_type": "execute_result"
    }
   ],
   "source": [
    "df['condition'].unique()"
   ]
  },
  {
   "cell_type": "code",
   "execution_count": 169,
   "metadata": {},
   "outputs": [],
   "source": [
    "def fix_c(x):\n",
    "    if pd.isna(x):\n",
    "        return np.nan\n",
    "    if 'good' in x:\n",
    "        return 'good'\n",
    "    if 'new' or 'excellent' in x:\n",
    "        return 'excellent'\n",
    "    if 'fair' in x:\n",
    "        return 'fair'\n",
    "\n",
    "df['condition'] = df['condition'].apply(fix_c)"
   ]
  },
  {
   "cell_type": "code",
   "execution_count": 170,
   "metadata": {},
   "outputs": [
    {
     "data": {
      "text/plain": [
       "array([nan, ' pedal assist', ' none', ' throttle'], dtype=object)"
      ]
     },
     "execution_count": 170,
     "metadata": {},
     "output_type": "execute_result"
    }
   ],
   "source": [
    "df['electric assist'].unique()"
   ]
  },
  {
   "cell_type": "code",
   "execution_count": 171,
   "metadata": {},
   "outputs": [],
   "source": [
    "def fix_ea(x):\n",
    "    if pd.isna(x) or 'none' in x:\n",
    "        return 0\n",
    "    else:\n",
    "        return 1\n",
    "\n",
    "df['electric assist'] = df['electric assist'].apply(fix_ea)"
   ]
  },
  {
   "cell_type": "code",
   "execution_count": 172,
   "metadata": {},
   "outputs": [
    {
     "data": {
      "text/plain": [
       "array([nan, ' Velosolex', ' Mongoose', ' trek giant Bianchi vitus',\n",
       "       ' raleigh trek schwinn giant', ' Saris', ' Trek,Cannondale,GT',\n",
       "       ' Haro GT Dyno Mongoose SE', ' trek giant diamondback',\n",
       "       ' trek schwinn raleigh giant', ' TREK', ' Zizzo', ' SE',\n",
       "       ' trek giant fuji schwinn raleigh', ' schwin, Huffy', ' Coaster',\n",
       "       ' Shimano', ' Metakoo', ' SE Bikes', ' GT Bikes', ' NYC Bikes',\n",
       "       ' fuji trek giat specialized', ' Se Bikes', ' Dynacraft',\n",
       "       ' Rad Power Bikes', ' trek fuji giant raleigh', ' RAD POWER BIKES',\n",
       "       ' RAD', ' jamis trek giant schwinn', ' trek fuji panasonic',\n",
       "       ' trek giant gary fisher', ' Cyberbike', ' James', ' SportRack',\n",
       "       ' Kazam', ' Honda', ' various', \" I don't know\",\n",
       "       ' Schwinn Spin Bikes', ' Greenstar Bikes'], dtype=object)"
      ]
     },
     "execution_count": 172,
     "metadata": {},
     "output_type": "execute_result"
    }
   ],
   "source": [
    "df['make / manufacturer'].unique()"
   ]
  },
  {
   "cell_type": "code",
   "execution_count": 173,
   "metadata": {},
   "outputs": [],
   "source": [
    "def fix_mm(x):\n",
    "    if pd.isna(x) or 'various' in x.lower() or x==\"I don't know\": \n",
    "        return np.nan\n",
    "    if 'trek' in x.lower():\n",
    "        return 'trek'\n",
    "    if 'mongoose' in x.lower():\n",
    "        return 'mongoose'\n",
    "    if 'se' in x.lower():\n",
    "        return 'se'\n",
    "    else:\n",
    "        return x.strip().lower()\n",
    "\n",
    "df['make / manufacturer'] = df['make / manufacturer'].apply(fix_mm)"
   ]
  },
  {
   "cell_type": "code",
   "execution_count": 174,
   "metadata": {},
   "outputs": [
    {
     "data": {
      "text/plain": [
       "array([nan, ' Hutch', ' Bones', \" Matte Trek Black/Blazin' Orange\",\n",
       "       ' Via', ' Fat', ' Stretch Rack', ' 350 Venture', ' BR-R7000',\n",
       "       ' Trak100', ' Freewheel', ' CG BIG RIPPER',\n",
       "       ' 2021 Pro Performer 20\"', ' The Ultimate New York Bike',\n",
       "       ' City Grounds Big Flyer', ' Mountain bikes',\n",
       "       ' Radmini Step Thru 2', ' RadMini4', ' Woody Bike Stand',\n",
       "       ' Rack Roof Bike Carrier SR4882RP', ' WILDERNESS TRAIL BIKES',\n",
       "       ' Goldwing 1500', ' various', ' Ninja', ' AC Power', ' EcoCross'],\n",
       "      dtype=object)"
      ]
     },
     "execution_count": 174,
     "metadata": {},
     "output_type": "execute_result"
    }
   ],
   "source": [
    "df['model name / number'].unique()"
   ]
  },
  {
   "cell_type": "code",
   "execution_count": 175,
   "metadata": {},
   "outputs": [
    {
     "data": {
      "text/plain": [
       "array([nan, ' other/unknown', ' u-brakes', ' gyro/bmx',\n",
       "       ' disc (mechanical)', ' v-brakes', ' caliper', ' disc (hydraulic)',\n",
       "       ' none'], dtype=object)"
      ]
     },
     "execution_count": 175,
     "metadata": {},
     "output_type": "execute_result"
    }
   ],
   "source": [
    "df['brake type'].unique()"
   ]
  },
  {
   "cell_type": "code",
   "execution_count": 176,
   "metadata": {},
   "outputs": [],
   "source": [
    "def fix_bt(x):\n",
    "    if pd.isna(x) or 'other/unknown' in x.lower() or 'none' in x.lower():\n",
    "        return np.nan\n",
    "    else:\n",
    "        return x.strip().lower()\n",
    "\n",
    "df['brake type'] = df['brake type'].apply(fix_bt)"
   ]
  },
  {
   "cell_type": "code",
   "execution_count": 177,
   "metadata": {},
   "outputs": [
    {
     "data": {
      "text/plain": [
       "array([nan, ' drop', ' other/unknown', ' flat', ' bmx', ' riser'],\n",
       "      dtype=object)"
      ]
     },
     "execution_count": 177,
     "metadata": {},
     "output_type": "execute_result"
    }
   ],
   "source": [
    "df['handlebar type'].unique()"
   ]
  },
  {
   "cell_type": "code",
   "execution_count": 178,
   "metadata": {},
   "outputs": [],
   "source": [
    "def fix_ht(x):\n",
    "    if pd.isna(x) or 'other/unknown' in x:\n",
    "        return np.nan\n",
    "    else:\n",
    "        return x.strip().lower()\n",
    "\n",
    "df['handlebar type'] = df['handlebar type'].apply(fix_ht)"
   ]
  },
  {
   "cell_type": "code",
   "execution_count": 179,
   "metadata": {},
   "outputs": [
    {
     "data": {
      "text/plain": [
       "array([nan, ' other', ' racks, fenders, bags', ' brakes', ' saddle'],\n",
       "      dtype=object)"
      ]
     },
     "execution_count": 179,
     "metadata": {},
     "output_type": "execute_result"
    }
   ],
   "source": [
    "df['part type'].unique()"
   ]
  },
  {
   "cell_type": "code",
   "execution_count": 180,
   "metadata": {},
   "outputs": [],
   "source": [
    "def fix_pt(x):\n",
    "    if pd.isna(x) or 'other' in x:\n",
    "        return 0\n",
    "    else:\n",
    "        return 1\n",
    "\n",
    "df['part type'] = df['part type'].apply(fix_pt)\n",
    "df = df.where(df['part type']==0).dropna(how='all').drop(columns=['part type'])"
   ]
  },
  {
   "cell_type": "code",
   "execution_count": 181,
   "metadata": {},
   "outputs": [],
   "source": [
    "df = df.drop(columns=['size / dimensions', 'serial number'])"
   ]
  },
  {
   "cell_type": "code",
   "execution_count": 191,
   "metadata": {},
   "outputs": [],
   "source": [
    "df.columns = [column.replace(' ', '') for column in df.columns]"
   ]
  },
  {
   "cell_type": "code",
   "execution_count": 199,
   "metadata": {},
   "outputs": [
    {
     "data": {
      "text/plain": [
       "0       2022-04-14 10:05\n",
       "1       2022-04-14 10:05\n",
       "2       2022-04-14 10:01\n",
       "3       2022-04-14 08:25\n",
       "4       2022-04-14 00:22\n",
       "              ...       \n",
       "2933    2022-03-31 20:33\n",
       "2934    2022-03-31 15:54\n",
       "2935    2022-03-31 11:50\n",
       "2936    2022-03-31 11:35\n",
       "2937    2022-03-31 08:58\n",
       "Name: Date, Length: 2823, dtype: object"
      ]
     },
     "execution_count": 199,
     "metadata": {},
     "output_type": "execute_result"
    }
   ],
   "source": [
    "df['Date']"
   ]
  },
  {
   "cell_type": "code",
   "execution_count": 202,
   "metadata": {},
   "outputs": [],
   "source": [
    "df['days'] = [(datetime.datetime.today()-datetime.datetime.strptime(date_, \"%Y-%m-%d %H:%M\")).days for date_ in df['Date']]"
   ]
  },
  {
   "cell_type": "code",
   "execution_count": 207,
   "metadata": {},
   "outputs": [],
   "source": [
    "df.to_csv('preprocessed_craiglist_data.csv')"
   ]
  }
 ],
 "metadata": {
  "interpreter": {
   "hash": "b3ba2566441a7c06988d0923437866b63cedc61552a5af99d1f4fb67d367b25f"
  },
  "kernelspec": {
   "display_name": "Python 3.8.5 ('base')",
   "language": "python",
   "name": "python3"
  },
  "language_info": {
   "codemirror_mode": {
    "name": "ipython",
    "version": 3
   },
   "file_extension": ".py",
   "mimetype": "text/x-python",
   "name": "python",
   "nbconvert_exporter": "python",
   "pygments_lexer": "ipython3",
   "version": "3.8.5"
  },
  "orig_nbformat": 4
 },
 "nbformat": 4,
 "nbformat_minor": 2
}
