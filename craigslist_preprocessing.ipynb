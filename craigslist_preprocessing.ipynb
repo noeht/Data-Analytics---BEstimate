{
 "cells": [
  {
   "cell_type": "code",
   "execution_count": 852,
   "metadata": {},
   "outputs": [],
   "source": [
    "import pandas as pd\n",
    "import numpy as np\n",
    "import re\n",
    "import datetime\n",
    "from os.path import exists"
   ]
  },
  {
   "cell_type": "code",
   "execution_count": 853,
   "metadata": {},
   "outputs": [],
   "source": [
    "places_raw = pd.read_excel('places.xlsx', header=None)\n",
    "places = places_raw[0].values"
   ]
  },
  {
   "cell_type": "code",
   "execution_count": 854,
   "metadata": {},
   "outputs": [],
   "source": [
    "index=0\n",
    "for city in places:\n",
    "    if exists('data_craigslist'+str(city)+'.csv'):\n",
    "        if index == 0:\n",
    "            df = pd.read_csv('data_craigslist'+str(city)+'.csv').drop(columns=['Unnamed: 0'])\n",
    "            index += 1\n",
    "        else:\n",
    "            df = pd.concat([df, pd.read_csv('data_craigslist'+str(city)+'.csv').drop(columns=['Unnamed: 0'])], axis=0, ignore_index=True)"
   ]
  },
  {
   "cell_type": "code",
   "execution_count": 856,
   "metadata": {},
   "outputs": [],
   "source": [
    "# Gets rid of the rows where we don't have any features\n",
    "new_index = []\n",
    "for ind in df.index:\n",
    "    try:\n",
    "        if df.loc[ind].count() >= 7:\n",
    "            new_index.append(ind)\n",
    "    except:\n",
    "        pass\n",
    "\n",
    "df = df.loc[new_index].reset_index(drop=True)"
   ]
  },
  {
   "cell_type": "code",
   "execution_count": 857,
   "metadata": {},
   "outputs": [
    {
     "data": {
      "text/plain": [
       "Index(['Price', 'Location', 'URL', 'Date', 'Title', 'num image', 'text',\n",
       "       'condition', 'make / manufacturer', 'model name / number',\n",
       "       'bicycle frame material', 'bicycle type', 'brake type',\n",
       "       'electric assist', 'frame size', 'handlebar type', 'suspension',\n",
       "       'wheel size', 'size / dimensions', 'serial number', 'part type',\n",
       "       'paint color', 'year manufactured', 'engine hours (total)',\n",
       "       'length overall (LOA)', 'propulsion type'],\n",
       "      dtype='object')"
      ]
     },
     "execution_count": 857,
     "metadata": {},
     "output_type": "execute_result"
    }
   ],
   "source": [
    "df.columns"
   ]
  },
  {
   "cell_type": "code",
   "execution_count": 858,
   "metadata": {},
   "outputs": [
    {
     "name": "stdout",
     "output_type": "stream",
     "text": [
      "<class 'pandas.core.frame.DataFrame'>\n",
      "RangeIndex: 2431 entries, 0 to 2430\n",
      "Data columns (total 26 columns):\n",
      " #   Column                  Non-Null Count  Dtype  \n",
      "---  ------                  --------------  -----  \n",
      " 0   Price                   2431 non-null   float64\n",
      " 1   Location                2431 non-null   object \n",
      " 2   URL                     2431 non-null   object \n",
      " 3   Date                    2431 non-null   object \n",
      " 4   Title                   2431 non-null   object \n",
      " 5   num image               2431 non-null   int64  \n",
      " 6   text                    2431 non-null   object \n",
      " 7   condition               1104 non-null   object \n",
      " 8   make / manufacturer     952 non-null    object \n",
      " 9   model name / number     665 non-null    object \n",
      " 10  bicycle frame material  1131 non-null   object \n",
      " 11  bicycle type            1131 non-null   object \n",
      " 12  brake type              362 non-null    object \n",
      " 13  electric assist         262 non-null    object \n",
      " 14  frame size              1078 non-null   object \n",
      " 15  handlebar type          294 non-null    object \n",
      " 16  suspension              354 non-null    object \n",
      " 17  wheel size              1078 non-null   object \n",
      " 18  size / dimensions       109 non-null    object \n",
      " 19  serial number           47 non-null     object \n",
      " 20  part type               82 non-null     object \n",
      " 21  paint color             33 non-null     object \n",
      " 22  year manufactured       71 non-null     float64\n",
      " 23  engine hours (total)    10 non-null     float64\n",
      " 24  length overall (LOA)    14 non-null     float64\n",
      " 25  propulsion type         14 non-null     object \n",
      "dtypes: float64(4), int64(1), object(21)\n",
      "memory usage: 493.9+ KB\n"
     ]
    }
   ],
   "source": [
    "df.info()"
   ]
  },
  {
   "cell_type": "code",
   "execution_count": 859,
   "metadata": {},
   "outputs": [
    {
     "name": "stdout",
     "output_type": "stream",
     "text": [
      "[nan ' aluminum' ' alloy' ' other/unknown' ' steel' ' carbon fiber'\n",
      " ' titanium' ' composite' ' scandium']\n"
     ]
    }
   ],
   "source": [
    "print(df['bicycle frame material'].unique())"
   ]
  },
  {
   "cell_type": "code",
   "execution_count": 860,
   "metadata": {},
   "outputs": [],
   "source": [
    "def fix_bfm(x):\n",
    "    if pd.isna(x) or x.strip() == 'other/unknown':\n",
    "        return 'unknown'\n",
    "    else:\n",
    "        return x.strip()\n",
    "\n",
    "df['bicycle frame material'] = df['bicycle frame material'].apply(fix_bfm)"
   ]
  },
  {
   "cell_type": "code",
   "execution_count": 861,
   "metadata": {},
   "outputs": [
    {
     "name": "stdout",
     "output_type": "stream",
     "text": [
      "['unknown' 'aluminum' 'alloy' 'steel' 'carbon fiber' 'titanium'\n",
      " 'composite' 'scandium']\n"
     ]
    }
   ],
   "source": [
    "print(df['bicycle frame material'].unique())"
   ]
  },
  {
   "cell_type": "code",
   "execution_count": 862,
   "metadata": {},
   "outputs": [
    {
     "data": {
      "text/plain": [
       "array([nan, ' mountain', ' other', ' kids', ' hybrid/comfort', ' cruiser',\n",
       "       ' bmx', ' road', ' unicycle', ' folding', ' gravel', ' track',\n",
       "       ' cargo/pedicab', ' recumbent/trike', ' tandem'], dtype=object)"
      ]
     },
     "execution_count": 862,
     "metadata": {},
     "output_type": "execute_result"
    }
   ],
   "source": [
    "df['bicycle type'].unique()"
   ]
  },
  {
   "cell_type": "code",
   "execution_count": 863,
   "metadata": {},
   "outputs": [],
   "source": [
    "def fix_bt(x):\n",
    "    if pd.isna(x) or x.strip() == 'other':\n",
    "        return 'unknown'\n",
    "    else:\n",
    "        return x.strip()\n",
    "\n",
    "df['bicycle type'] = df['bicycle type'].apply(fix_bt)"
   ]
  },
  {
   "cell_type": "code",
   "execution_count": 864,
   "metadata": {},
   "outputs": [
    {
     "data": {
      "text/plain": [
       "array(['unknown', 'mountain', 'kids', 'hybrid/comfort', 'cruiser', 'bmx',\n",
       "       'road', 'unicycle', 'folding', 'gravel', 'track', 'cargo/pedicab',\n",
       "       'recumbent/trike', 'tandem'], dtype=object)"
      ]
     },
     "execution_count": 864,
     "metadata": {},
     "output_type": "execute_result"
    }
   ],
   "source": [
    "df['bicycle type'].unique()"
   ]
  },
  {
   "cell_type": "code",
   "execution_count": 865,
   "metadata": {},
   "outputs": [
    {
     "data": {
      "text/plain": [
       "array([nan, ' Medium', ' Large', ' 26 inch', ' Fits most bikes!',\n",
       "       ' 12” wheels', ' 18', ' 0', ' 8\"', ' 24”', ' All', ' 26\" and 24\"',\n",
       "       ' medium', ' 19.5', ' any', ' 56cm', ' 54 cm, medium', ' 60cm',\n",
       "       ' All sizes', ' 16 inch', ' unknown', ' N/A', ' Unknown', ' None',\n",
       "       ' 15 inch', ' 60 cm', ' 18 \"', ' 19in', ' 26 in',\n",
       "       ' 42x40x10 inches', ' 52 cm', ' Any size', ' 15\"', ' 18.5”',\n",
       "       ' n/a', ' Kids size', ' 50cm', \" Women's Medium\", ' 20\" wheels',\n",
       "       ' 26in.', ' Medium/Large', ' small', ' Small', \" don't reall know\",\n",
       "       ' 54cm medium17.5', ' Adult', ' good size', ' MEDIUM TO LARGE',\n",
       "       ' 27\"', ' 20\"', ' XXL', ' 65cm', ' 18.25 in (46.35 cm)', ' 20',\n",
       "       ' child size', ' 49 to 63 cm', ' 26”', ' 16', ' 26\"', \" 26'\",\n",
       "       ' 16”, 12”', ' 17.5', ' girls/kids', ' 16\"MEDIUM & 20\"LARGE',\n",
       "       ' Various', ' 222', ' 29x29x29', ' Kids', ' See photo',\n",
       "       ' Different sizes', ' 43cm', ' all sizes', ' All Sizes', ' cargo',\n",
       "       ' 26', ' Ladies/Teens', ' Medium and large', ' XL', ' 54cm',\n",
       "       ' 123', ' XS S M L XL', ' 16\"', ' 2 Small and 1  Medium',\n",
       "       \" don't know\", ' 54 cm', ' 46 cm', ' 50 cm', ' S/M/L',\n",
       "       ' expert xl', ' 42cm', ' 58 cm', ' 44 cm', ' 47', ' 29', ' 2',\n",
       "       ' 1', ' 18.5', ' many sizes', ' Variety', ' Bmx', ' kids',\n",
       "       ' Kids 24\" and 16\"', ' 42-49cm', ' tbd', ' Medium/17', ' BMX',\n",
       "       ' 23', ' SMALL', ' 55cm', ' S M L XL', ' 17\" frame 26\" wheels',\n",
       "       ' 13 up', ' 18 inches', ' 29”', ' one size', ' ON THE', ' large',\n",
       "       ' 14 inches', ' Bike Rack', ' 00', ' 26-inch',\n",
       "       ' 16\", 18\", and 20\"', ' 6061', ' Large and Medium', ' 20-23 in.',\n",
       "       ' L', ' 22 inches', ' Ff.', ' 56 Frame', ' 14”', ' Large medium',\n",
       "       ' MEDIUM', ' 10\"', ' Who knows', ' Large 19\"', ' -', ' 11\"',\n",
       "       ' Medium 52cm', ' 3', ' Z', ' 24\"', ' 18 inch',\n",
       "       ' 26\" Inch, size 15.0', ' 47cm', ' Unsure', ' 2 bike carrier',\n",
       "       ' 3 bike carrier', ' 3 bike', ' 21', ' 21\"', ' 12.5', ' 21\", 23\"',\n",
       "       ' ?', ' 20 inch', ' 54', ' 16 inches', ' 26 \"', ' 19', ' 54”',\n",
       "       ' 10in', ' 21-womens  26 mens', ' 19 inches', ' 20”', ' 17 inch',\n",
       "       ' Medíum', ' 24', ' 12 to 18', ' 21.3\" Top Tube', ' STEEL', ' 52',\n",
       "       ' assorted', ' Small Medium Large', ' One Size', ' Ned-large',\n",
       "       ' see picture', ' Step through', ' 54.5 x 8 x 31.5 in', ' various',\n",
       "       ' 17\"', ' 28 inch', ' Riders 5’3” + up', ' 26 28', ' 10 and 12',\n",
       "       ' 27', ' Medium 54.5cm', ' 20” bikes', ' 56', ' 17 inches',\n",
       "       \" I'm not sure\", ' 14\"', ' 12 inch', ' 12\"', \" Kid's\", ' 10',\n",
       "       ' 1 1/4 inch', ' 19 and 23', ' cargo style bike',\n",
       "       ' Medium and Small', ' 17 +', ' 18inch', ' Not ness', ' 19”',\n",
       "       ' Na', ' varies', ' ???', ' 16\", 18\", 20\"', ' 17???', ' NA',\n",
       "       ' One large, one medium', ' 22\"', ' Medium 18 1/2”', ' 23\"',\n",
       "       ' 21.5 inches', ' 49 cm', ' 20 \"', ' Kids’', ' 20in', ' Etc',\n",
       "       ' 54 in', ' large and extra large', ' 17”', ' 24” frame',\n",
       "       ' full size', ' 19\"', ' Varies', ' 16 inch Razor boys bike',\n",
       "       ' will measure', ' 54 cm Medium', ' different sizes', ' all',\n",
       "       ' 000', ' 16”', ' 27.5', ' 21 inch', ' Wheelbase 39.5',\n",
       "       ' dont know', ' XS, 480', ' 4 feet', ' 20.5” top tube', ' 17',\n",
       "       ' 19 inch', ' adult and child', ' Youth. 24” tires', ' med',\n",
       "       ' see above', ' 27 inches', ' bmx', ' 12-18', ' Decent',\n",
       "       ' BMX 24\"', ' 30 X30\"', ' 25', ' 21-23', ' 20.5', ' .', ' 23.5',\n",
       "       ' 58cm', ' 22', ' 15', ' 21.5', ' 24.5', ' 23\"-19\"',\n",
       "       ' 54cm medium', ' 16.5\"', ' girls 24”, boys 24”',\n",
       "       ' multiple sizes', ' 18\"', ' 23.6', ' 20.75',\n",
       "       \" I don't know, standard\", ' 20 inches', ' 36 inches wide',\n",
       "       ' 21 Inches', ' 29 Inches', ' ALL', ' 16 in (40.64 cm)',\n",
       "       ' Regular size', ' 16\", 18\", or 20\"', ' 27.5+', ' unknown adult',\n",
       "       ' 24 inches', ' 2 bikes', ' Kids bike', ' M/55',\n",
       "       ' 15\" STEEL FRAME', ' 24\" TIRES', ' 18\" WHEELS', ' Any car fit',\n",
       "       ' Small 12.5 inches', ' 17 inches medium', ' 19.5\" large',\n",
       "       ' 19 inches large', ' 25.5 cm seat tube length', ' Any',\n",
       "       ' 18-28 INCH', ' other/unknown', ' Normal Size', ' 16\" small',\n",
       "       ' 65 cm (25\")', ' 64 cm (25\")', ' 61 cm', ' 66.81 x 25.94 x 41.27',\n",
       "       ' 19\" Medium', ' 21\" large', ' 19\" large', ' 53', ' Reg',\n",
       "       ' Electric bike', ' 20inch', ' 16.5”', ' 14', ' 18inches',\n",
       "       ' 15 in', ' 62 cm', ' Large, 19\"', ' custom', ' 20 in',\n",
       "       ' not applicable', ' 54 cm, Medium', ' 53cm', ' Not sure',\n",
       "       ' 12\" Wheel', ' Wheels-18,20,26\"', ' not sure', ' 19.5\" Large',\n",
       "       ' For riders 5’8” – 6’8”', ' 57 cm', ' 53 cm', ' 56 cm', ' XS',\n",
       "       ' Medium 17.5 inch', ' Standard', ' Small 15.5 inch',\n",
       "       ' Small 14 inch', ' Small 15 inch', ' Large 19 inch',\n",
       "       ' Small Medium 41cm', ' Extra Large 21.5 inch',\n",
       "       ' Medium/Large 56cm', ' Kids 12', ' 65x27x46\" unfolded', ' 55',\n",
       "       ' No', ' Other', ' Tires 26 - 24 etc.', ' 33 inch Motobecane',\n",
       "       ' 20 Inch', ' 14” wheels', ' Xl, Small, and Meduim', ' triangle',\n",
       "       ' 29\" Big BMX', ' 60 cm, 60 cm, 56 cm', ' 68mm', ' balance bike',\n",
       "       ' M?', ' 12', ' KIDS', ' 20.5 TT', ' Kids 16”', ' 15.5 in frames',\n",
       "       ' Two bikes, 2” hitch', ' 58cm full carbon', ' *', ' 22.5”, XL',\n",
       "       ' 21\" top tube', ' 23 inches', ' 54cm, medium', ' 57 cm large',\n",
       "       ' 54”  ???', ' 24 in', ' 62 in long', ' 56 cm, Large',\n",
       "       ' 18 (46cm)', ' 19\" - 21\"', ' 44.45 cm 17.5 in?', ' 000000',\n",
       "       ' 12”', ' --', ' 60', ' 19” and 21”', ' Approx 38 inches',\n",
       "       ' 12 in', ' 24-26', ' XXS'], dtype=object)"
      ]
     },
     "execution_count": 865,
     "metadata": {},
     "output_type": "execute_result"
    }
   ],
   "source": [
    "df['frame size'].unique()"
   ]
  },
  {
   "cell_type": "code",
   "execution_count": 866,
   "metadata": {},
   "outputs": [],
   "source": [
    "def fix_fs(x):\n",
    "    if pd.isna(x):\n",
    "        return 'unknown'\n",
    "    numbers = re.findall(r'\\d+', x)\n",
    "    if len(numbers) == 0:\n",
    "        if 'medium' in x.lower():\n",
    "            return 'medium'\n",
    "        elif 'large' in x.lower():\n",
    "            return 'large'\n",
    "        elif 'small' in x.lower():\n",
    "            return 'small'\n",
    "        else:\n",
    "            return 'unknown'\n",
    "    else:\n",
    "        if '\"' or \"'\" or 'inches' or 'inch' or 'in' in x.lower(): #it's in inches\n",
    "            size = float(numbers[0]) # assume it's the first number\n",
    "            if size < 16:\n",
    "                return 'small'\n",
    "            if size > 19:\n",
    "                return 'large'\n",
    "            else:\n",
    "                return 'medium'\n",
    "        else: #cm\n",
    "            size = float(numbers[0])\n",
    "            if size < 53:\n",
    "                return 'small'\n",
    "            if size > 56:\n",
    "                return 'large'\n",
    "            else:\n",
    "                return 'medium'\n",
    "\n",
    "df['frame size'] = df['frame size'].apply(fix_fs)"
   ]
  },
  {
   "cell_type": "code",
   "execution_count": 867,
   "metadata": {},
   "outputs": [
    {
     "data": {
      "text/plain": [
       "array(['unknown', 'medium', 'large', 'small'], dtype=object)"
      ]
     },
     "execution_count": 867,
     "metadata": {},
     "output_type": "execute_result"
    }
   ],
   "source": [
    "df['frame size'].unique()"
   ]
  },
  {
   "cell_type": "code",
   "execution_count": 868,
   "metadata": {},
   "outputs": [
    {
     "data": {
      "text/plain": [
       "array([nan, ' suspension fork (hardtail)', ' none (rigid)',\n",
       "       ' other/unknown', ' frame and fork (full suspension)'],\n",
       "      dtype=object)"
      ]
     },
     "execution_count": 868,
     "metadata": {},
     "output_type": "execute_result"
    }
   ],
   "source": [
    "df['suspension'].unique()"
   ]
  },
  {
   "cell_type": "code",
   "execution_count": 869,
   "metadata": {},
   "outputs": [],
   "source": [
    "def fix_s(x):\n",
    "    if pd.isna(x):\n",
    "        return 0\n",
    "    if 'fork' in x.lower():\n",
    "        return 1\n",
    "    else:\n",
    "        return 0\n",
    "\n",
    "df['suspension'] = df['suspension'].apply(fix_s)"
   ]
  },
  {
   "cell_type": "code",
   "execution_count": 870,
   "metadata": {},
   "outputs": [
    {
     "data": {
      "text/plain": [
       "array([0, 1], dtype=int64)"
      ]
     },
     "execution_count": 870,
     "metadata": {},
     "output_type": "execute_result"
    }
   ],
   "source": [
    "df['suspension'].unique()"
   ]
  },
  {
   "cell_type": "code",
   "execution_count": 871,
   "metadata": {},
   "outputs": [
    {
     "data": {
      "text/plain": [
       "array([nan, ' 26 in', ' other/unknown', ' 12 in', ' 24 in', ' 20 in',\n",
       "       ' 27 in', ' 700C', ' 25 in', ' 29 in', ' 14 in', ' 16 in',\n",
       "       ' 10 in', ' 650B', ' 18 in', ' 27.5 in', ' 28 in', ' 26.5 in',\n",
       "       ' 650C'], dtype=object)"
      ]
     },
     "execution_count": 871,
     "metadata": {},
     "output_type": "execute_result"
    }
   ],
   "source": [
    "df['wheel size'].unique()"
   ]
  },
  {
   "cell_type": "code",
   "execution_count": 872,
   "metadata": {},
   "outputs": [],
   "source": [
    "def fix_ws(x):\n",
    "    if pd.isna(x):\n",
    "        return 'unknown'\n",
    "    if '700' in x.strip():\n",
    "        return 29\n",
    "    if '650' in x.strip():\n",
    "        return 26\n",
    "    numbers = re.findall(r'\\d+', x)\n",
    "    if len(numbers)==0:\n",
    "        return 'unknown'\n",
    "    else:\n",
    "        if int(numbers[0]) > 30:\n",
    "            return 'unknown'\n",
    "        else:\n",
    "            return int(numbers[0])\n",
    "\n",
    "df['wheel size'] = df['wheel size'].apply(fix_ws)"
   ]
  },
  {
   "cell_type": "code",
   "execution_count": 873,
   "metadata": {},
   "outputs": [
    {
     "data": {
      "text/plain": [
       "array(['unknown', 26, 12, 24, 20, 27, 29, 25, 14, 16, 10, 18, 28],\n",
       "      dtype=object)"
      ]
     },
     "execution_count": 873,
     "metadata": {},
     "output_type": "execute_result"
    }
   ],
   "source": [
    "df['wheel size'].unique()"
   ]
  },
  {
   "cell_type": "code",
   "execution_count": 874,
   "metadata": {},
   "outputs": [
    {
     "data": {
      "text/plain": [
       "array([nan, ' excellent', ' new', ' good', ' salvage', ' like new',\n",
       "       ' fair'], dtype=object)"
      ]
     },
     "execution_count": 874,
     "metadata": {},
     "output_type": "execute_result"
    }
   ],
   "source": [
    "df['condition'].unique()"
   ]
  },
  {
   "cell_type": "code",
   "execution_count": 875,
   "metadata": {},
   "outputs": [],
   "source": [
    "def fix_c(x):\n",
    "    if pd.isna(x):\n",
    "        return 'unknown'\n",
    "    x = str(x)\n",
    "    if 'good' in x:\n",
    "        return 'good'\n",
    "    if 'fair' in x:\n",
    "        return 'fair'\n",
    "    if 'salvage' in x or 'poor' in x:\n",
    "        return 'poor'\n",
    "    if 'new' or 'excellent' in x:\n",
    "        return 'excellent'\n",
    "    \n",
    "    return 'unknown'\n",
    "\n",
    "\n",
    "df['condition'] = df['condition'].apply(fix_c)"
   ]
  },
  {
   "cell_type": "code",
   "execution_count": 876,
   "metadata": {},
   "outputs": [
    {
     "data": {
      "text/plain": [
       "array(['unknown', 'excellent', 'good', 'poor', 'fair'], dtype=object)"
      ]
     },
     "execution_count": 876,
     "metadata": {},
     "output_type": "execute_result"
    }
   ],
   "source": [
    "df['condition'].unique()"
   ]
  },
  {
   "cell_type": "code",
   "execution_count": 877,
   "metadata": {},
   "outputs": [
    {
     "data": {
      "text/plain": [
       "array([nan, ' none', ' other', ' throttle', ' pedal assist'], dtype=object)"
      ]
     },
     "execution_count": 877,
     "metadata": {},
     "output_type": "execute_result"
    }
   ],
   "source": [
    "df['electric assist'].unique()"
   ]
  },
  {
   "cell_type": "code",
   "execution_count": 878,
   "metadata": {},
   "outputs": [],
   "source": [
    "def fix_ea(x):\n",
    "    if pd.isna(x):\n",
    "        return 0\n",
    "    x = str(x)\n",
    "    if 'other' in x or 'none' in x:\n",
    "        return 0\n",
    "    return 1\n",
    "\n",
    "df['electric assist'] = df['electric assist'].apply(fix_ea)"
   ]
  },
  {
   "cell_type": "code",
   "execution_count": 879,
   "metadata": {},
   "outputs": [
    {
     "data": {
      "text/plain": [
       "array([0, 1], dtype=int64)"
      ]
     },
     "execution_count": 879,
     "metadata": {},
     "output_type": "execute_result"
    }
   ],
   "source": [
    "df['electric assist'].unique()"
   ]
  },
  {
   "cell_type": "code",
   "execution_count": 880,
   "metadata": {},
   "outputs": [
    {
     "data": {
      "text/plain": [
       "array([nan, ' Thule', ' BodyKore', ' Trek', ' Huffy', ' Diamondback',\n",
       "       ' joystar', ' critical', ' huffy', ' SE Bikes', ' Saris',\n",
       "       ' Royce Union, Huffy', ' Kent', ' Real tree', ' Cyberbike',\n",
       "       ' all makes', ' NS Bikes', ' Fuji', ' Allen', ' Schwinn', ' Sun',\n",
       "       ' Marin', ' Sole', ' Specialized', ' Life Fitness, Cybex, Hammer',\n",
       "       ' Yakima', ' HUSQVARNA', ' Gatormade Trailers', ' roadmaster',\n",
       "       ' Orbea', ' Bikemate', ' Suzuki', ' Viathon', ' Harley Davidson',\n",
       "       ' Tony Hawk', ' Scott', ' Stamina', ' central bike', ' Litespeed',\n",
       "       ' Jamis', ' mongoose', ' Rollfast', ' Giant', ' Windsor',\n",
       "       ' Coleman', ' Rad Power Bikes', ' Maxxhaul', ' Dynacraft',\n",
       "       ' grabber', ' Sears, JC Higgins', ' Salsa', ' Rad Power Bike',\n",
       "       ' BMX', ' Hollywood', ' Triton', ' CUB CADET', ' BASS CAT',\n",
       "       ' hotwheels', ' Charge Bikes', ' Free Spirit', ' All', ' Gibson',\n",
       "       ' Bjorn', ' Lamar Trailers', ' Yamaha', ' sixthreezero',\n",
       "       ' Rock Solid Cargo', ' Road Gear', ' sears', ' Schwinn Paramount',\n",
       "       ' Polaris', ' Load Trail', ' Sears and Roebuck', ' Nishiki',\n",
       "       ' Juiced Bikes', ' RALEIGH', ' Big Shot Bikes', ' schwinn',\n",
       "       ' DMASUM', ' woom', ' Christiania Bikes', ' Hebba', ' amf',\n",
       "       ' SE BIKES', ' schrader', ' 3G bikes', ' INFINITY BIKES', ' Dyno',\n",
       "       ' 20+ Brands!', ' Yamee', ' Retrospec', ' Enduro', ' Softride',\n",
       "       ' Novara', ' Raleigh', ' All Makes', ' Kogu Masamune', ' Copilot',\n",
       "       ' Many used hybrid bikes', ' Many makes', ' Specialized + Trek',\n",
       "       ' yakima', ' Xport', ' Various', ' Infinity', ' Reese',\n",
       "       ' Shwinn / Next', ' Fit', ' Stampede bikes', ' Trek etc', ' Icon',\n",
       "       ' Eastern', ' Se bikes', ' Bassi', ' KHS', ' DKY Mountain Bikes',\n",
       "       ' VARITY', ' state bikes', ' Flying Bikes , New York', ' DAHON',\n",
       "       ' Tamarack', ' Drummer bikes', ' STOLEN BIKES', ' GENZE',\n",
       "       ' Greenstar Bikes', ' Schwinn/Specialized/Mariushi',\n",
       "       ' SOUL FAST ELECTRIC BIKES', ' Masi', ' Sorrento', ' infinity',\n",
       "       ' Rubbermaid', ' Bike trainer', ' Landwave', ' MISSION CYCLES',\n",
       "       ' coachmen', ' Kenda', ' KURYAKYN', ' Triple Crown', ' Commencal',\n",
       "       ' Nashiki', ' GARY FISHER', ' Peugeot',\n",
       "       ' mongoose and road master', ' huffy and schwin',\n",
       "       ' Kracken Adventure Bikes', ' shwin', ' HUFFY', ' Murray', ' Next',\n",
       "       ' Motobecane', ' Swagman', ' Bottecchia', ' topeak',\n",
       "       ' harley davidson', ' SCHWINN', ' Varies',\n",
       "       ' Mowen, Delta, Badger, Trek', ' Pingel', ' OMNI', ' Soul',\n",
       "       ' Craftsman', ' Haro', ' Rupp', ' Curt mfg', ' Graber Outback',\n",
       "       ' Bell', ' Lego', ' Madrax', ' Trek and Mongoose', ' FIREFLY',\n",
       "       ' Great Divide', ' Scwinn', ' bikes', ' Se Bikes    17',\n",
       "       ' Hoffman', ' Outback', ' Falter', ' Public Bikes',\n",
       "       ' Trek Schwinn Specialized', ' All.', ' various', ' schwa',\n",
       "       ' Crud', ' ALLEN', ' Rad Bikes', ' Zize Bikes', ' Priority Bikes',\n",
       "       ' Scwhinn', ' IZIP', ' Woom Bikes', ' Bulls', ' S22I', ' SCOTT',\n",
       "       ' Magna', ' RALEIGH  & others', ' HOLIDAY', ' Cleary',\n",
       "       ' Haro dyno redline', ' RAD Power Bikes', ' Gary Fisher',\n",
       "       ' giant, khs, takara', ' Northern Tool', ' Skyl E',\n",
       "       ' Miscellaneous', ' Racor', ' Virtue', ' varius', ' Mercier',\n",
       "       ' Arcam', ' Polytronics', ' Magnavox', ' Bic', ' Civia', ' Krom',\n",
       "       ' Honda', ' sears, bell', ' Mongoose, Huffy, Hyper, Bayside,',\n",
       "       ' giant', ' Man goose mounting bike', ' fuji', ' ryder bikes',\n",
       "       ' Razor', ' Hyper and Magna', ' DRC Trailer & Sport',\n",
       "       ' River Road', ' Life Fitness', ' Exerpeutic', ' Hollywood Racks',\n",
       "       ' Allen sports', ' Sportrack', ' se bikes', ' SHWINN', ' Se Bikes',\n",
       "       ' Carolina Hurricanes.', ' VOSS bikes', ' Multiple', ' S&M Bikes',\n",
       "       ' Priority', ' Delta', ' GT', ' Lifefitness', ' all', ' Ross',\n",
       "       ' Keiser', ' Miyata', ' THULE', ' Mantis Bike Bicycle frame',\n",
       "       ' Liv', ' Diamond Back', ' Pit bull', ' Del Sol', ' Vulcan',\n",
       "       ' OnGuard', ' Montague', ' Jamies', ' LandWave', ' Cinelli',\n",
       "       ' Universal', ' see above', ' Loadstar', ' stolen brand/eastern',\n",
       "       ' Nishiki/Diamondback', ' Santana', ' Bridgestone', ' SWAGMAN',\n",
       "       ' Knicks NBA Lamp', ' THRUSTER', ' Quintana Roo', ' Centurion',\n",
       "       ' Mongoose', ' Arcade1Up', ' Sony', ' Lotus', ' Jack-It',\n",
       "       ' Cannondale', ' DiamondBack', ' trek schwinn raleigh giant',\n",
       "       ' schwin, Huffy', ' Trek,Cannondale,GT',\n",
       "       ' Haro GT Dyno Mongoose SE', ' trek giant diamondback',\n",
       "       ' trek giant gary fisher', ' GT Bikes',\n",
       "       ' fuji trek giat specialized', ' Kazam',\n",
       "       ' trek giant fuji schwinn raleigh', ' Velosolex',\n",
       "       ' trek giant Bianchi vitus', ' raleigh trek schwinn giant',\n",
       "       ' TREK', ' Coaster', ' Shimano', ' Metakoo', ' NYC Bikes',\n",
       "       ' trek fuji giant raleigh', ' RAD POWER BIKES',\n",
       "       ' jamis trek giant schwinn', ' trek fuji panasonic', ' James',\n",
       "       ' SportRack', \" I don't know\", ' Schwinn Spin Bikes',\n",
       "       ' collective Bikes', ' NEXT', ' Reebok', ' Rovio', ' Aventon',\n",
       "       ' ROADMASTER 24\" MOUNTAIN BIKE', ' NEXT/HELLO KITTY/',\n",
       "       ' HELLO KITTY 18\" GIRLS BIKE', ' KENT', ' Chillafish', ' Mc',\n",
       "       ' Dunlop', ' Schwinn/ Currie', ' SFD Industries', ' Mini',\n",
       "       ' Kachina Bikes', ' Bri-Mar', ' Hoffman Bikes', ' multiple',\n",
       "       ' Spawn', ' harley dasvidson', ' SCHWINN--HUFFY--ECT', ' All kind',\n",
       "       ' FSA', ' Jack LaLanne', ' Mfi', ' Motoos', ' Felt', ' Bianchi',\n",
       "       ' jamis', ' NordicTrack', ' Dexter Axle.', ' Biria', ' Fairdale',\n",
       "       ' Addmotor', ' Playskool', ' ACCEL', ' Trek/schwinn', ' Gt',\n",
       "       ' O zone', ' Mongoose/Kent', ' Sonders', ' L&O Manufacturing',\n",
       "       ' DIRTRACKS', ' N/A', ' Iron Bull', ' BOBCATC', ' Cherokee',\n",
       "       ' East Texas', ' Hand Mand', ' Chapter 2', ' Iron Bull Trailers',\n",
       "       ' Vianelli', ' Kona', ' green', ' TINY HOUSE COTTAGE',\n",
       "       ' Roadmaster', ' Brooklyn', ' Fuji, Trek, Raleigh',\n",
       "       ' Mongoose / ozone', ' Jakks Pacific', ' TFD', ' Solvit',\n",
       "       ' Specialized 700c/29', ' VanMoof', ' YGJT', ' Kawasaki', ' allen',\n",
       "       ' Woom', ' Merlin', ' Independent Fabrications', ' Storck',\n",
       "       ' Guru', ' SE Racing', ' Public', ' Stumpjumper', ' R&G Racing',\n",
       "       ' 24 INCH WHEEL, TIRE AND TUBE', ' eJoe', ' HOLLYWOOD',\n",
       "       ' Greg Lemond', ' Old', ' Montrose-roadmaster  etc', ' Ace Bikes',\n",
       "       ' Tourmaster', ' Kuat', ' Guardian Bikes', ' Rack', ' la joya',\n",
       "       ' Mountain', ' RadPower Bikes', ' Cannondale and Suteki',\n",
       "       ' specialized', ' Pedego', ' Ikuram', ' Joy Star Bikes', ' Mavic',\n",
       "       ' Trek/Adams', ' Doufit', ' Royalbaby', ' unisky', ' Argon 18',\n",
       "       ' CATL', ' COZIWOW', ' Mitas', ' Santa Cruz', ' hollywood racks',\n",
       "       ' TOWSMART TRAILERS', ' Lemond Tourmalet', ' TOW SMART TRAILERS',\n",
       "       ' raleigh', ' Pelaton', ' suziki', ' Weslo', ' OC Ramps',\n",
       "       ' Swytch', ' Coleman Utah With slide out', ' Electra', ' Surly',\n",
       "       ' Pivot', ' Redline', ' BMC', ' Bowflex', ' Ride 1up', ' marcy',\n",
       "       ' Felt Bikes', ' Ktm', ' BOB', ' Saris Bike Bicycle Rack',\n",
       "       ' Yakima Rack Co.', ' Hitch Mount Bike Rack', ' Fiore', ' Schwann',\n",
       "       ' Slider Corp', ' Dahon', ' Land Ryder', ' Wilderness Trail Bikes',\n",
       "       ' AMF', ' Spieth', ' Yeah', ' Allen Sports', ' Scott Bikes',\n",
       "       ' BELL', ' Burley', ' REI', ' LeMond', ' Motus',\n",
       "       ' Norco, Elite , etc', ' LandRover'], dtype=object)"
      ]
     },
     "execution_count": 880,
     "metadata": {},
     "output_type": "execute_result"
    }
   ],
   "source": [
    "df['make / manufacturer'].unique()"
   ]
  },
  {
   "cell_type": "code",
   "execution_count": 881,
   "metadata": {},
   "outputs": [],
   "source": [
    "def fix_mm(x):\n",
    "    if pd.isna(x) or 'unknown' in x.lower():\n",
    "        return 0\n",
    "    return 1\n",
    "\n",
    "df['make / manufacturer'] = df['make / manufacturer'].apply(fix_mm)"
   ]
  },
  {
   "cell_type": "code",
   "execution_count": 882,
   "metadata": {},
   "outputs": [
    {
     "data": {
      "text/plain": [
       "array([0, 1], dtype=int64)"
      ]
     },
     "execution_count": 882,
     "metadata": {},
     "output_type": "execute_result"
    }
   ],
   "source": [
    "df['make / manufacturer'].unique()"
   ]
  },
  {
   "cell_type": "code",
   "execution_count": 883,
   "metadata": {},
   "outputs": [
    {
     "data": {
      "text/plain": [
       "array([nan, ' 961XT Speedway', ' G703', ' 4300', ' Comfort tek', ' cub',\n",
       "       ' So Cal Flyer', ' Grand Slam/4', ' See description', ' Four Bike',\n",
       "       ' Unknown', ' Holy', ' Ace 24', ' Panther', ' Bobcat Trail 4',\n",
       "       ' SB900', ' Ruby Pro', ' Dr. Tray plus one', ' ZERO TURN MOWER',\n",
       "       ' Hotshot/ Gooseneck Trailer', ' Hardrock', ' power', ' Alma Cup',\n",
       "       ' Hotrock', ' Gxsr', ' M.1', ' Sportster SuperLow XL883',\n",
       "       ' Duosonic 8053-38', ' CR1 Team', ' Elite', ' ben hur',\n",
       "       ' Sabre Titanium', ' Ariel', ' Satellite', ' FastRoad SLR',\n",
       "       ' Rascal', ' Wellington', ' CT200AB', ' RadRunner2', ' grabber',\n",
       "       ' 8002114', ' Campeon', ' Rad Rover', ' Duo glide', ' MONGOOSE',\n",
       "       ' 914XT', ' HR8000', ' 179 TRX', ' LT 42', ' PANTERA', ' na',\n",
       "       ' Radwagon Caboose', ' Breeze', ' All', ' 83\" x 14\\'', ' WR 250F',\n",
       "       \" Around the Block Men's Cruiser\", \" 7' x 16' x 7'\",\n",
       "       ' Super Cycle Shuttle', ' gamefisher', ' Series 50', ' General',\n",
       "       ' Juiced City Scrambler', ' M50', ' AC Performance Carbon Blue',\n",
       "       ' Suburban / Varsity', ' R5-RD350', ' 48v 15Ah', ' 3',\n",
       "       ' Big Ripper', ' Hebba', ' stingray', ' OM DURO XL',\n",
       "       ' slime tubes', ' 3 G', ' BOSS THREE', ' Cypress', ' BLOCKS FLYER',\n",
       "       ' MOON / Deluxe Glide', ' Beaumont', ' Specialized FSR',\n",
       "       ' SE Draft', ' 26496', ' Lily', ' All Models', ' Ikeda',\n",
       "       ' 100 Navigator Hybrid', ' Child Carrier', ' MANY Models',\n",
       "       ' Many models', ' full swing daddy', ' Slipstream', ' Various',\n",
       "       ' 3 Bikes w/sway cradles', ' 2”', ' Explore', ' Charger', ' 1000',\n",
       "       ' Trunk bike rack', ' Fast Ripper', ' 2 Biked', ' Le Montreal',\n",
       "       ' Urban Soul Single Speed', ' Hardtail', ' Hotrock 20',\n",
       "       ' Many top models', ' Radmssion', ' DBlocks Red Black/Green Camo',\n",
       "       ' Big Ripper, Red Ano', ' Big Ripper Wood Grain', ' OM Duro XL',\n",
       "       ' MANY', ' FlipSide - 4', ' RadMini Step-Thru - White',\n",
       "       ' Jetstrem & Vitasse', ' Noshiki', ' ZEKE', ' 101', ' EcoCross',\n",
       "       ' Radrunner', ' SABER 1000', ' UNO RISER', ' Huffy Trail Runner',\n",
       "       ' PIGGYBACK MK2 TRAILER', ' catalina', ' Y33 Carbon Frame',\n",
       "       ' Schwinn and English Rims', ' Schwinn Piston 16', ' GRAN',\n",
       "       ' Clash race', ' 1.0', ' Allez E5 Sport Bike', ' Punisher',\n",
       "       ' meridian', ' Sunshine Day', ' Sea Star', ' sea star', ' misty',\n",
       "       ' Mirage SL', ' 80630', ' Supercaliber 9.7', ' ADMIRAL', ' 77901',\n",
       "       ' LA.BIKE', ' LA.Bike', ' Stomper', ' Impasse', ' Madone 6.9',\n",
       "       ' 1.1 WSD', ' Roadster II', ' 2 bike', ' 3 bike',\n",
       "       ' 3 Bike carrier', ' Super Joe Pro3', ' 752015', ' traveler',\n",
       "       ' GR116-B', ' Trek 820 & Mongoose Sprint', ' Model 102S', ' whirl',\n",
       "       ' GREEN,BLUE,YELLOW,RED', ' fat tire alumino', ' Sugarbaby',\n",
       "       ' Mountain train', ' Bones', ' Star Wars', ' Schwinn',\n",
       "       ' Continental', ' Sprint/Continental', ' Super Stars', ' Sprout V',\n",
       "       ' Precaliber', ' V-Star', ' Mountain, Road', ' cross-fit',\n",
       "       ' See pics.', ' hutch', ' Wheelie Pegs', ' redline hutch gt',\n",
       "       ' Alpha', ' Cargo Pakyak', ' Trekking', ' Motr', ' Crd200',\n",
       "       ' Rock creek', ' Rad Runner', ' Leaf 2.0', ' Continuum Onyx',\n",
       "       ' All Bikes', ' GRAND PRIX', ' Suburban', ' Sports', ' tree',\n",
       "       ' V7', ' 2', ' 78 GS 1000', ' Viper jr', ' E-MTB', ' various',\n",
       "       ' Maricopa', ' Road Glide Ultra', ' S22I', ' GENIUS', ' Grid Iron',\n",
       "       ' Hedgehog', ' Runner 2', ' Big Honkin Cruiser Bars',\n",
       "       ' 26\" Blocks Flyer', ' PK Fat Ripper', ' SC40', ' Grand Prix',\n",
       "       ' electric', ' multiple', ' 515-5001', ' suburban', ' Radmini',\n",
       "       ' Curve One', ' Street Stomper', ' bike pedals',\n",
       "       ' Serpens 20 Limited', ' A real 350', ' Sr 23', ' ITL 200',\n",
       "       ' Venturi 6', ' Kingfield', ' 920', ' Gensis', ' Crs',\n",
       "       ' Crossroads', ' cypress dx', ' Palisades', ' SONIC STOMPER SABER',\n",
       "       ' XR-75', ' absolute 2.0', ' ryder', ' HitchSwitch',\n",
       "       ' Micro Force', ' BM-11', ' Momentum Series Model #10-9006',\n",
       "       ' Fullback', ' 9500 RHR Recumbent', ' YZ250', ' Express',\n",
       "       ' Top tube', ' SR2703', ' 4 bike', ' 102DN', ' BTM', ' Embark',\n",
       "       ' Performer', ' all', ' Europa', ' M3', ' Triple Cross',\n",
       "       ' Mountain bike', ' ADORE', ' Calico', ' MXR', ' Bullet', ' 9027',\n",
       "       ' 2.3c', ' 4616', ' Boston', ' Capri', ' LWR2', ' Rak n Loc',\n",
       "       ' Semper', ' Spoke bikes', ' Revel', ' see above',\n",
       "       ' Berkeley & Absolute', ' Huffy', ' Pueblo/Cobra', ' F24',\n",
       "       ' Pro Miyata', ' Sovereign', ' RB-2', ' World Sport',\n",
       "       ' Polo Jr and other', ' Knicks Basketball', ' One Ten', ' ALL',\n",
       "       ' Kilo', ' Ironman Dave Scott', ' ATX 970', ' Supergoose',\n",
       "       ' Street Fighter', ' PlayStation 5', ' Response', ' Unique',\n",
       "       ' Continental II', ' Double bicycle carrier', ' 1220', ' Tandem',\n",
       "       ' Kalamar LX', ' Freewheel', ' Hutch', ' Goldwing 1500',\n",
       "       ' WILDERNESS TRAIL BIKES', ' CG BIG RIPPER',\n",
       "       ' 2021 Pro Performer 20\"', ' Mike Buff Big Ripper 29\"',\n",
       "       \" Matte Trek Black/Blazin' Orange\", ' Stretch Rack',\n",
       "       ' 350 Venture', ' BR-R7000', ' Trak100',\n",
       "       ' The Ultimate New York Bike', ' City Grounds Big Flyer',\n",
       "       ' Radmini Step Thru 2', ' RadMini4',\n",
       "       ' Rack Roof Bike Carrier SR4882RP', ' Ninja', ' AC Power', ' c2',\n",
       "       ' Gauntlet', ' 2 bikes', ' Tamahawk', ' Grit 55', ' Level Cruiser',\n",
       "       ' GRANITE PEAK 24\"', ' PEACE 18\" GIRLS BIKE', ' Sidewinder',\n",
       "       ' Status 2.2', ' Ledge 2.1', ' Rock Candy', ' Big Wheel Trike',\n",
       "       ' Outlook', ' 3-Bones', ' 82 71 2 326 515', ' Venture 933',\n",
       "       ' Excursion', ' Pisgah', ' UTE-612', ' UT-614',\n",
       "       ' Sugar Baby- Flatland', ' Triple Link Pedal System', ' VX',\n",
       "       ' FC1800A-PB', ' VX Cruiser HO', ' FX Cruiser SHO', ' VX Cruiser',\n",
       "       ' EX Deluxe', ' EX Sport', ' V1 Sport', ' VX Limited',\n",
       "       ' VX 110 Deluxe', ' Raiju', ' Electra Loft 7D', ' panhead',\n",
       "       ' 552rr', ' COMET', ' Power Juicer', ' Speedster 20 Disc', ' 50cc',\n",
       "       ' Talon', ' TK2', ' Pista', ' GX4.4 PRO', ' Taj', ' E-bike',\n",
       "       ' Bones 2', ' 140404', ' Alpha 4500', ' boulder', ' 3900',\n",
       "       ' Suede', ' 7100', ' octane', ' 7200', ' Smart Step',\n",
       "       ' 83\" x 20\\' Equipment 14k GVWR', ' 6\\'4\" x 12\\' Single Axle',\n",
       "       ' 6\\'4\" x 12\\' Tandem Axle', ' LAMINAR LIP', \" 8.5' x 28'\",\n",
       "       ' 102\" x 20\\'', ' Bike rack', ' 83\"x20\\' Tilt-N-Go Tandem Axle',\n",
       "       ' 83\" x 14\\' Sky Blue', \" 7'x16' Tandem Axle\", ' 60\" x 10\\'',\n",
       "       ' COMPACT', \" 8.5' X 16' Tandem Axle\", ' Tandem Torsion Axle',\n",
       "       \" 8.5' x 20'\", ' 6\\'10\"x20\\' Tandem Axle Carhauler/',\n",
       "       ' 6\\'4\" x 10\\' Single Axle', ' 6\\'4\" x 14\\' Single Axle',\n",
       "       \" 8.5' x 24'\", ' HoldUp', ' 83\" x 16\\' 36\" sides', ' 102\" x 22\\'',\n",
       "       ' 102\" x 40\\'', ' A Frame', ' AO', ' 83\" x 20\\'', ' Corsa',\n",
       "       \" 8.5' X 24' Tandem Axle\", ' 102\" x 36\\'', ' 102\" x 32\\'',\n",
       "       ' 102\" x 42\\'', ' 102\" x 25\\'', \" 6' x 12' Single Axle\",\n",
       "       ' Hei Hei', ' SixFifty 800', ' country cottage tiny house',\n",
       "       ' dolomite', ' 26 inch', ' Super Le Tour 12.2',\n",
       "       ' Point Blank and Del Mar', ' The Tray', ' Splash',\n",
       "       ' Rockhopper/Trek', ' S3', ' SONIC SABER', ' Baby Balance Bikes',\n",
       "       ' Defy 2', ' Kz', ' Revel Jr', ' Cielo', ' Crown Jewel',\n",
       "       ' Scentron G2', ' Carbonio', ' Z35', ' Tachyon', ' Fuel EX 9.8 GX',\n",
       "       ' Crossroads 2.0 Disc', ' So Cal Flyer 24',\n",
       "       ' Bad Habit Carbon 1 + 27.5er', ' Wahoo 26er',\n",
       "       ' Neko WSD Step Thru', ' 1120 Disc 29er+', ' FX 7.3',\n",
       "       ' Vita Comp Carbon', \" C7i Women's Step Thru\",\n",
       "       ' Vita Expert Carbon Disc', ' Stumpjumper Carbon Coil 6Fattie',\n",
       "       ' Quick 4 Disc', ' Habit 5 Disc 27.5er', ' CR0005BK',\n",
       "       ' COMPLETE FRONT DISC BRAKE WHEEL', ' Epik', ' RB-1',\n",
       "       ' HR-1500-2” Hitch Rack,2 bikes', ' kids', ' N/a',\n",
       "       ' Super Joe Pro 2', ' TyreFix - Wheel Tie Down System',\n",
       "       ' Mountain', ' Touring Bikes', ' monster quad', ' Transfer',\n",
       "       ' Ethos 16', ' Rack', ' 6061', ' Rad City 5 Plus Step-thru',\n",
       "       ' 1999 and up touring bikes', ' globe deluxe', ' City Commuter',\n",
       "       ' KRB-H020B', ' Balance Bike', ' Sedona DX', ' Aksium race',\n",
       "       ' Ranger', ' EB-01', ' brochures \"receipts\" included', ' Clutch',\n",
       "       ' 52189-00', ' Sunbird', ' Madone 5.2', ' 302ah', ' Bone',\n",
       "       ' Hangout', ' 7100 Alpha Aluminum', ' E-07 Dakar', ' Hemi Comp',\n",
       "       ' Cake 1 DLX', ' Madone 6.7 SSL', ' 5010', ' Bones 2-Bike Rack',\n",
       "       ' Sycamore', ' Ransom 910', ' Stumpjumper',\n",
       "       ' MODERN DUAL LOFT CARAVAN', ' AWOL', ' rush hour 2018',\n",
       "       ' gsxs 1000f', ' Cardio Trainer', ' quarter-pipe ramp', ' 700c',\n",
       "       ' Tandem Classic', ' Sanctuary 7', ' Long Haul Trucker',\n",
       "       ' Mach5.5', ' URS', ' C6', ' Roadster V2', ' Rmz250', ' Feather',\n",
       "       ' SX', ' Yak 28 Plus', ' Trunk Mount', ' Money Lynch',\n",
       "       ' Hyperscrambler 2', ' Trunk-Mount Bike Rack', ' RadRunner Plus',\n",
       "       ' Fits both 1in and 2in hitches', ' North rock',\n",
       "       ' The Bike Slider', ' Hot Rock', ' Legion L60 and L20', ' N/A',\n",
       "       ' Verdict Wet', ' Pacemaker', ' Simone Bikes', ' DT, RT or RD',\n",
       "       ' Yeah', ' SHilouette', ' 522RR', ' Comp Junior', ' 200',\n",
       "       ' Enigma', ' Kazoo/Piccolo', ' REV 20', ' 100963', ' RevMaster',\n",
       "       ' Roadrunner - Holds 4 bikes', ' Fusion', ' Mix', ' Various/mix',\n",
       "       ' DRT 1.0'], dtype=object)"
      ]
     },
     "execution_count": 883,
     "metadata": {},
     "output_type": "execute_result"
    }
   ],
   "source": [
    "df['model name / number'].unique()"
   ]
  },
  {
   "cell_type": "code",
   "execution_count": 884,
   "metadata": {},
   "outputs": [],
   "source": [
    "def fix_mn(x):\n",
    "    if pd.isna(x) or 'unknown' in x.lower():\n",
    "        return 0\n",
    "    return 1\n",
    "\n",
    "df['model name / number'] = df['model name / number'].apply(fix_mn)"
   ]
  },
  {
   "cell_type": "code",
   "execution_count": 885,
   "metadata": {},
   "outputs": [
    {
     "data": {
      "text/plain": [
       "array([0, 1], dtype=int64)"
      ]
     },
     "execution_count": 885,
     "metadata": {},
     "output_type": "execute_result"
    }
   ],
   "source": [
    "df['model name / number'].unique()"
   ]
  },
  {
   "cell_type": "code",
   "execution_count": 886,
   "metadata": {},
   "outputs": [
    {
     "data": {
      "text/plain": [
       "array([nan, ' cantilever', ' disc (mechanical)', ' caliper', ' none',\n",
       "       ' other/unknown', ' coaster', ' disc (hydraulic)', ' gyro/bmx',\n",
       "       ' v-brakes', ' u-brakes', ' hydraulic rim brakes'], dtype=object)"
      ]
     },
     "execution_count": 886,
     "metadata": {},
     "output_type": "execute_result"
    }
   ],
   "source": [
    "df['brake type'].unique()"
   ]
  },
  {
   "cell_type": "code",
   "execution_count": 887,
   "metadata": {},
   "outputs": [],
   "source": [
    "def fix_bt(x):\n",
    "    if pd.isna(x) or 'other/unknown' in x.lower() or 'none' in x.lower():\n",
    "        return 'unknown'\n",
    "    else:\n",
    "        x = str(x)\n",
    "        if 'hydraulic' in x:\n",
    "            return 'hydraulic'\n",
    "        elif 'mechanical' in x:\n",
    "            return 'mechanical'\n",
    "        else:\n",
    "            return 'special'\n",
    "\n",
    "df['brake type'] = df['brake type'].apply(fix_bt)"
   ]
  },
  {
   "cell_type": "code",
   "execution_count": 888,
   "metadata": {},
   "outputs": [
    {
     "data": {
      "text/plain": [
       "array(['unknown', 'special', 'mechanical', 'hydraulic'], dtype=object)"
      ]
     },
     "execution_count": 888,
     "metadata": {},
     "output_type": "execute_result"
    }
   ],
   "source": [
    "df['brake type'].unique()"
   ]
  },
  {
   "cell_type": "code",
   "execution_count": 889,
   "metadata": {},
   "outputs": [
    {
     "data": {
      "text/plain": [
       "array([nan, ' flat', ' bmx', ' other/unknown', ' drop', ' cruiser',\n",
       "       ' triathlon', ' riser', ' downhill', ' bullhorn', ' aero'],\n",
       "      dtype=object)"
      ]
     },
     "execution_count": 889,
     "metadata": {},
     "output_type": "execute_result"
    }
   ],
   "source": [
    "df['handlebar type'].unique()"
   ]
  },
  {
   "cell_type": "code",
   "execution_count": 890,
   "metadata": {},
   "outputs": [],
   "source": [
    "def fix_ht(x):\n",
    "    if pd.isna(x) or 'other/unknown' in x:\n",
    "        return 'unknown'\n",
    "    else:\n",
    "        return 'special'\n",
    "\n",
    "df['handlebar type'] = df['handlebar type'].apply(fix_ht)"
   ]
  },
  {
   "cell_type": "code",
   "execution_count": 891,
   "metadata": {},
   "outputs": [
    {
     "data": {
      "text/plain": [
       "array(['unknown', 'special'], dtype=object)"
      ]
     },
     "execution_count": 891,
     "metadata": {},
     "output_type": "execute_result"
    }
   ],
   "source": [
    "df['handlebar type'].unique()"
   ]
  },
  {
   "cell_type": "code",
   "execution_count": 892,
   "metadata": {},
   "outputs": [
    {
     "data": {
      "text/plain": [
       "array([nan, ' other', ' racks, fenders, bags', ' grips, bar ends, tape',\n",
       "       ' tires', ' wheels and wheel parts', ' saddle', ' brakes',\n",
       "       ' pedals', ' headset, stem, spacers', ' frame only'], dtype=object)"
      ]
     },
     "execution_count": 892,
     "metadata": {},
     "output_type": "execute_result"
    }
   ],
   "source": [
    "df['part type'].unique()"
   ]
  },
  {
   "cell_type": "code",
   "execution_count": 893,
   "metadata": {},
   "outputs": [],
   "source": [
    "def fix_pt(x):\n",
    "    if pd.isna(x) or 'other' in x.lower():\n",
    "        return 0\n",
    "    else:\n",
    "        return 1\n",
    "\n",
    "df['part type'] = df['part type'].apply(fix_pt)\n",
    "# Let's get rid of the listings about parts\n",
    "df = df.where(df['part type']==0).dropna(how='all').drop(columns=['part type'])"
   ]
  },
  {
   "cell_type": "code",
   "execution_count": 894,
   "metadata": {},
   "outputs": [
    {
     "data": {
      "text/plain": [
       "array([nan, ' 1 1/4” hitch', ' 26.38 x 12.2 x 13.98',\n",
       "       ' \\u200e42 x 40 x 10 inches', ' 750', ' 56x9.5x4.5',\n",
       "       ' 4-bike capacity', ' 168\" X 86\" X 0\"', ' 192\" X 84\" X 0\"',\n",
       "       ' 168\" X 83\" X 0\"', ' 52\"', ' 3 Bike Rack', ' 2 bikes', ' Large',\n",
       "       ' 36', ' 10.32 x 7.52 x 2.4 inches', ' 110\" x 36\" wide x 30\" high',\n",
       "       ' 20 inch', ' 26x4.7', ' All sizes& extra lightweight.',\n",
       "       ' 4\" long', ' All sizes & extra lightweight.', ' 20 18 3',\n",
       "       ' 6  feet', ' 5 1/2”', ' ;quot;w x 15\" d', ' 12x4',\n",
       "       ' 12 X 9.5 X 10', ' 48”H X 25”W X 56”L', ' 3 bike carrier',\n",
       "       ' any adult', ' any 20” 24” 26”', ' L36 x W14 and 17',\n",
       "       ' 38.5 x 56 x 12', ' 22x10', ' 30″x 12″', ' 30 x 8 x 30 inches',\n",
       "       ' 16\"', ' M/L', ' 120 70 17', ' 27\" x 8\" x 12\"',\n",
       "       ' 240\" X 82\" X 0\"', ' 144\" X 76\" X 0\"', ' 240\" X 102\" X 0\"',\n",
       "       ' 240\" X 83\" X 0\"', ' 192\" X 84\" X 75\"', ' 120\" X 60\" X 0\"',\n",
       "       ' 192\" X 102\" X 75\"', ' 16\\'L x 6\\'10\" wide', ' 240\" X 101\" X 79\"',\n",
       "       ' 240\" X 81\" X 0\"', ' 120\" X 75\" X 0\"', ' 168\" X 76\" X 0\"',\n",
       "       ' 216\" X 81\" X 0\"', ' 288\" X 101\" X 0\"', ' 192\" X 83\" X 0\"',\n",
       "       ' 480\" X 102\" X 0\"', ' 8 X 5', ' 288\" X 102\" X 0\"',\n",
       "       ' 432\" X 102\" X 0\"', ' 384\" X 102\" X 0\"', ' 504\" X 102\" X 0\"',\n",
       "       ' 300\" X 102\" X 0\"', ' 72\" X 144\" X 0\"', ' bmx/mountain bike',\n",
       "       ' 8.5 x 28', ' 14x18x1', ' Picture',\n",
       "       ' Large, Fits on most Backrests', ' Adjustable',\n",
       "       ' 4\" Circular,  3/4\" Shaft', ' 62\"', ' 110/80-19', ' NA',\n",
       "       ' 9 x 24', ' 1000cc', ' 3ft wide', ' 9 x 22', ' Holds 3 bikes',\n",
       "       ' Carries 2 Bikes', ' Securely Holds Up to 2 Bikes', ' 8’2” by 8”'],\n",
       "      dtype=object)"
      ]
     },
     "execution_count": 894,
     "metadata": {},
     "output_type": "execute_result"
    }
   ],
   "source": [
    "df['size / dimensions'].unique()"
   ]
  },
  {
   "cell_type": "code",
   "execution_count": 895,
   "metadata": {},
   "outputs": [],
   "source": [
    "def fix_sd(x):\n",
    "    if pd.isna(x):\n",
    "        return 0\n",
    "    else:\n",
    "        return 1\n",
    "\n",
    "df['size / dimensions'] = df['size / dimensions'].apply(fix_sd)"
   ]
  },
  {
   "cell_type": "code",
   "execution_count": 896,
   "metadata": {},
   "outputs": [
    {
     "data": {
      "text/plain": [
       "array([0, 1], dtype=int64)"
      ]
     },
     "execution_count": 896,
     "metadata": {},
     "output_type": "execute_result"
    }
   ],
   "source": [
    "df['size / dimensions'].unique()"
   ]
  },
  {
   "cell_type": "code",
   "execution_count": 897,
   "metadata": {},
   "outputs": [
    {
     "data": {
      "text/plain": [
       "array([nan, ' black', ' custom', ' grey', ' white', ' silver', ' red'],\n",
       "      dtype=object)"
      ]
     },
     "execution_count": 897,
     "metadata": {},
     "output_type": "execute_result"
    }
   ],
   "source": [
    "df['paint color'].unique()"
   ]
  },
  {
   "cell_type": "code",
   "execution_count": 898,
   "metadata": {},
   "outputs": [],
   "source": [
    "def fix_pc(x):\n",
    "    if pd.isna(x):\n",
    "        return 0\n",
    "    else:\n",
    "        return 1\n",
    "\n",
    "df['paint color'] = df['paint color'].apply(fix_pc)"
   ]
  },
  {
   "cell_type": "code",
   "execution_count": 899,
   "metadata": {},
   "outputs": [
    {
     "data": {
      "text/plain": [
       "array([0, 1], dtype=int64)"
      ]
     },
     "execution_count": 899,
     "metadata": {},
     "output_type": "execute_result"
    }
   ],
   "source": [
    "df['paint color'].unique()"
   ]
  },
  {
   "cell_type": "code",
   "execution_count": 900,
   "metadata": {},
   "outputs": [
    {
     "data": {
      "text/plain": [
       "array([nan, ' Unknown', ' F1068892', ' N/A', ' EN14872XINGING',\n",
       "       ' TC19 222501', ' na', ' NSN not needed', ' M50', ' EZ-201304 468',\n",
       "       ' 408 406 7864 cell', ' Var', ' Nome', ' 23-918', ' See Photos',\n",
       "       ' none', ' unknown', ' EG010897', ' 00012345', ' .', ' various',\n",
       "       ' Ninja 2021', ' Freestyle', ' ??', ' NA', ' WT0406C5218',\n",
       "       ' WTU336CT0109R1207', ' N/a', ' 1234567890', ' CU5C21B3934',\n",
       "       ' see photos'], dtype=object)"
      ]
     },
     "execution_count": 900,
     "metadata": {},
     "output_type": "execute_result"
    }
   ],
   "source": [
    "df['serial number'].unique()"
   ]
  },
  {
   "cell_type": "code",
   "execution_count": 901,
   "metadata": {},
   "outputs": [],
   "source": [
    "def fix_sn(x):\n",
    "    if pd.isna(x) or 'unknown' in x.lower() or 'na' in x.lower() or 'none' in x.lower():\n",
    "        return 0\n",
    "    else:\n",
    "        return 1\n",
    "\n",
    "df['serial number'] = df['serial number'].apply(fix_sn)"
   ]
  },
  {
   "cell_type": "code",
   "execution_count": 902,
   "metadata": {},
   "outputs": [
    {
     "data": {
      "text/plain": [
       "array([0, 1], dtype=int64)"
      ]
     },
     "execution_count": 902,
     "metadata": {},
     "output_type": "execute_result"
    }
   ],
   "source": [
    "df['serial number'].unique()"
   ]
  },
  {
   "cell_type": "code",
   "execution_count": 903,
   "metadata": {},
   "outputs": [
    {
     "data": {
      "text/plain": [
       "array([  nan, 2022., 2020., 2010., 1975., 2021., 2005., 2001., 2015.,\n",
       "       2019., 2012., 2013., 2017., 2006.])"
      ]
     },
     "execution_count": 903,
     "metadata": {},
     "output_type": "execute_result"
    }
   ],
   "source": [
    "df['year manufactured'].unique()"
   ]
  },
  {
   "cell_type": "code",
   "execution_count": 904,
   "metadata": {},
   "outputs": [],
   "source": [
    "def fix_ym(x):\n",
    "    if pd.isna(x):\n",
    "        return 0\n",
    "    else:\n",
    "        return 1\n",
    "\n",
    "df['year manufactured']=df['year manufactured'].apply(fix_ym)"
   ]
  },
  {
   "cell_type": "code",
   "execution_count": 905,
   "metadata": {},
   "outputs": [
    {
     "data": {
      "text/plain": [
       "array([0, 1], dtype=int64)"
      ]
     },
     "execution_count": 905,
     "metadata": {},
     "output_type": "execute_result"
    }
   ],
   "source": [
    "df['year manufactured'].unique()"
   ]
  },
  {
   "cell_type": "code",
   "execution_count": 906,
   "metadata": {},
   "outputs": [
    {
     "name": "stdout",
     "output_type": "stream",
     "text": [
      "<class 'pandas.core.frame.DataFrame'>\n",
      "Int64Index: 2388 entries, 0 to 2430\n",
      "Data columns (total 25 columns):\n",
      " #   Column                  Non-Null Count  Dtype  \n",
      "---  ------                  --------------  -----  \n",
      " 0   Price                   2388 non-null   float64\n",
      " 1   Location                2388 non-null   object \n",
      " 2   URL                     2388 non-null   object \n",
      " 3   Date                    2388 non-null   object \n",
      " 4   Title                   2388 non-null   object \n",
      " 5   num image               2388 non-null   float64\n",
      " 6   text                    2388 non-null   object \n",
      " 7   condition               2388 non-null   object \n",
      " 8   make / manufacturer     2388 non-null   float64\n",
      " 9   model name / number     2388 non-null   float64\n",
      " 10  bicycle frame material  2388 non-null   object \n",
      " 11  bicycle type            2388 non-null   object \n",
      " 12  brake type              2388 non-null   object \n",
      " 13  electric assist         2388 non-null   float64\n",
      " 14  frame size              2388 non-null   object \n",
      " 15  handlebar type          2388 non-null   object \n",
      " 16  suspension              2388 non-null   float64\n",
      " 17  wheel size              2388 non-null   object \n",
      " 18  size / dimensions       2388 non-null   int64  \n",
      " 19  serial number           2388 non-null   int64  \n",
      " 20  paint color             2388 non-null   int64  \n",
      " 21  year manufactured       2388 non-null   int64  \n",
      " 22  engine hours (total)    10 non-null     float64\n",
      " 23  length overall (LOA)    14 non-null     float64\n",
      " 24  propulsion type         14 non-null     object \n",
      "dtypes: float64(8), int64(4), object(13)\n",
      "memory usage: 485.1+ KB\n"
     ]
    }
   ],
   "source": [
    "df.info()"
   ]
  },
  {
   "cell_type": "code",
   "execution_count": 907,
   "metadata": {},
   "outputs": [
    {
     "data": {
      "text/plain": [
       "Index(['Price', 'Location', 'URL', 'Date', 'Title', 'num image', 'text',\n",
       "       'condition', 'make / manufacturer', 'model name / number',\n",
       "       'bicycle frame material', 'bicycle type', 'brake type',\n",
       "       'electric assist', 'frame size', 'handlebar type', 'suspension',\n",
       "       'wheel size', 'size / dimensions', 'serial number', 'paint color',\n",
       "       'year manufactured', 'engine hours (total)', 'length overall (LOA)',\n",
       "       'propulsion type'],\n",
       "      dtype='object')"
      ]
     },
     "execution_count": 907,
     "metadata": {},
     "output_type": "execute_result"
    }
   ],
   "source": [
    "df.columns"
   ]
  },
  {
   "cell_type": "code",
   "execution_count": 908,
   "metadata": {},
   "outputs": [],
   "source": [
    "df = df.drop(columns=['length overall (LOA)', 'propulsion type', 'engine hours (total)'])"
   ]
  },
  {
   "cell_type": "code",
   "execution_count": 909,
   "metadata": {},
   "outputs": [],
   "source": [
    "df.columns = [column.replace('/', '').lower().strip().replace(' ', '') for column in df.columns]"
   ]
  },
  {
   "cell_type": "code",
   "execution_count": 910,
   "metadata": {},
   "outputs": [
    {
     "data": {
      "text/plain": [
       "Index(['price', 'location', 'url', 'date', 'title', 'numimage', 'text',\n",
       "       'condition', 'makemanufacturer', 'modelnamenumber',\n",
       "       'bicycleframematerial', 'bicycletype', 'braketype', 'electricassist',\n",
       "       'framesize', 'handlebartype', 'suspension', 'wheelsize',\n",
       "       'sizedimensions', 'serialnumber', 'paintcolor', 'yearmanufactured'],\n",
       "      dtype='object')"
      ]
     },
     "execution_count": 910,
     "metadata": {},
     "output_type": "execute_result"
    }
   ],
   "source": [
    "df.columns"
   ]
  },
  {
   "cell_type": "code",
   "execution_count": 911,
   "metadata": {},
   "outputs": [],
   "source": [
    "df['days'] = [(datetime.datetime.today()-datetime.datetime.strptime(date_, \"%Y-%m-%d %H:%M\")).days for date_ in df['date']]"
   ]
  },
  {
   "cell_type": "code",
   "execution_count": 912,
   "metadata": {},
   "outputs": [],
   "source": [
    "df.to_csv('preprocessed_data_craigslist.csv')"
   ]
  },
  {
   "cell_type": "code",
   "execution_count": null,
   "metadata": {},
   "outputs": [],
   "source": []
  }
 ],
 "metadata": {
  "interpreter": {
   "hash": "b3ba2566441a7c06988d0923437866b63cedc61552a5af99d1f4fb67d367b25f"
  },
  "kernelspec": {
   "display_name": "Python 3 (ipykernel)",
   "language": "python",
   "name": "python3"
  },
  "language_info": {
   "codemirror_mode": {
    "name": "ipython",
    "version": 3
   },
   "file_extension": ".py",
   "mimetype": "text/x-python",
   "name": "python",
   "nbconvert_exporter": "python",
   "pygments_lexer": "ipython3",
   "version": "3.8.5"
  },
  "toc": {
   "base_numbering": 1,
   "nav_menu": {},
   "number_sections": true,
   "sideBar": true,
   "skip_h1_title": false,
   "title_cell": "Table of Contents",
   "title_sidebar": "Contents",
   "toc_cell": false,
   "toc_position": {},
   "toc_section_display": true,
   "toc_window_display": false
  }
 },
 "nbformat": 4,
 "nbformat_minor": 2
}
