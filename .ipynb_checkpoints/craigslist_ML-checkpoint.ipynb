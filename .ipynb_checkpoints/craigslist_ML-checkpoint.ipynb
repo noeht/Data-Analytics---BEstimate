{
 "cells": [
  {
   "cell_type": "code",
   "execution_count": 120,
   "id": "02cb25da",
   "metadata": {},
   "outputs": [],
   "source": [
    "import pandas as pd\n",
    "import numpy as np\n",
    "from sklearn import neighbors, linear_model, model_selection,metrics"
   ]
  },
  {
   "cell_type": "code",
   "execution_count": 121,
   "id": "09af9faf",
   "metadata": {},
   "outputs": [
    {
     "name": "stdout",
     "output_type": "stream",
     "text": [
      "<class 'pandas.core.frame.DataFrame'>\n",
      "RangeIndex: 221 entries, 0 to 220\n",
      "Data columns (total 17 columns):\n",
      " #   Column                Non-Null Count  Dtype  \n",
      "---  ------                --------------  -----  \n",
      " 0   Price                 221 non-null    float64\n",
      " 1   Neighborhood          221 non-null    object \n",
      " 2   URL                   221 non-null    object \n",
      " 3   Date                  221 non-null    object \n",
      " 4   bicycleframematerial  221 non-null    object \n",
      " 5   bicycletype           221 non-null    object \n",
      " 6   framesize             221 non-null    object \n",
      " 7   suspension            221 non-null    float64\n",
      " 8   wheelsize             204 non-null    object \n",
      " 9   numimage              221 non-null    float64\n",
      " 10  condition             221 non-null    object \n",
      " 11  electricassist        221 non-null    float64\n",
      " 12  make/manufacturer     221 non-null    object \n",
      " 13  modelname/number      26 non-null     object \n",
      " 14  braketype             221 non-null    object \n",
      " 15  handlebartype         221 non-null    object \n",
      " 16  days                  221 non-null    int64  \n",
      "dtypes: float64(4), int64(1), object(12)\n",
      "memory usage: 29.5+ KB\n"
     ]
    }
   ],
   "source": [
    "df = pd.read_csv('preprocessed_data_craigslist.csv').drop(['Unnamed: 0','text'],axis=1)\n",
    "df.info()"
   ]
  },
  {
   "cell_type": "code",
   "execution_count": 122,
   "id": "447e03bd",
   "metadata": {
    "scrolled": true
   },
   "outputs": [
    {
     "name": "stdout",
     "output_type": "stream",
     "text": [
      "<class 'pandas.core.frame.DataFrame'>\n",
      "RangeIndex: 221 entries, 0 to 220\n",
      "Columns: 359 entries, Price to handlebartype_riser\n",
      "dtypes: float64(4), int64(1), uint8(354)\n",
      "memory usage: 85.2 KB\n"
     ]
    }
   ],
   "source": [
    "pd.get_dummies(df).info()"
   ]
  },
  {
   "cell_type": "code",
   "execution_count": 129,
   "id": "86b34586",
   "metadata": {},
   "outputs": [],
   "source": [
    "linear_regression = linear_model.LinearRegression()\n",
    "\n",
    "X = pd.get_dummies(df.drop(columns=['Price','modelname/number'])).drop_duplicates(subset=None, keep='first', inplace=False)\n",
    "y = df.Price\n",
    "\n",
    "X_train, X_test, y_train, y_test = model_selection.train_test_split(X, y, test_size=0.3)"
   ]
  },
  {
   "cell_type": "code",
   "execution_count": 130,
   "id": "5ea4f01d",
   "metadata": {},
   "outputs": [
    {
     "data": {
      "text/plain": [
       "LinearRegression()"
      ]
     },
     "execution_count": 130,
     "metadata": {},
     "output_type": "execute_result"
    }
   ],
   "source": [
    "linear_regression.fit(X_train,y_train)"
   ]
  },
  {
   "cell_type": "code",
   "execution_count": 131,
   "id": "c4b1a93c",
   "metadata": {},
   "outputs": [
    {
     "data": {
      "text/plain": [
       "274.35472400085746"
      ]
     },
     "execution_count": 131,
     "metadata": {},
     "output_type": "execute_result"
    }
   ],
   "source": [
    "linear_regression.intercept_"
   ]
  },
  {
   "cell_type": "code",
   "execution_count": 132,
   "id": "9dabee12",
   "metadata": {
    "scrolled": true
   },
   "outputs": [
    {
     "data": {
      "text/plain": [
       "array([-5.91891531e+01, -6.82121026e-13,  2.20473437e+02,  3.28223424e+01,\n",
       "       -1.51729165e+02, -7.23885710e+01,  2.45931623e+01, -2.05614954e+02,\n",
       "        1.29879267e+03,  3.39675009e+01, -1.83333889e+02,  2.30634389e+01,\n",
       "       -5.14783870e+01, -8.56628516e+01, -2.05752192e+02, -7.46720793e+01,\n",
       "       -5.88659620e+01, -6.38543054e+01,  2.70345465e+02, -1.40782946e+02,\n",
       "        2.35696407e+00, -2.00009421e+02, -2.24240728e+02, -2.39444132e+02,\n",
       "       -1.24294337e+02, -1.11463192e+02, -1.24400820e+02,  2.31748872e+02,\n",
       "        1.36816268e+01, -4.21406910e+01, -3.61967249e+01, -2.70459142e+01,\n",
       "        1.60563871e+02,  2.03924247e+02, -1.23122159e+02,  8.66760423e+02,\n",
       "        1.79433028e+02, -9.53501428e+01, -1.31640264e+02,  3.63800681e-01,\n",
       "       -1.10586064e+02, -3.77582699e+01, -1.84610970e-01, -2.23878124e+02,\n",
       "       -1.29682290e+02, -5.54743622e+01, -4.15031433e+01,  1.34977270e+02,\n",
       "        5.13251396e-02, -1.38885123e-01,  4.75258828e+00, -1.18058759e+02,\n",
       "       -4.92334244e+01, -1.53108763e+02, -2.80504514e+01,  2.83884943e+02,\n",
       "       -1.10345515e+02,  1.60596688e+02,  2.30323110e+01, -1.35673464e+02,\n",
       "       -8.63936348e+01, -1.61402779e+02,  3.68172279e+01, -1.35725998e+02,\n",
       "       -1.26107363e+02, -1.49860613e-02, -6.90868990e-02,  1.53295616e+03,\n",
       "       -1.50604445e+02,  1.96461490e+02,  8.86026179e-02, -2.92396881e+02,\n",
       "       -4.50599375e+01, -8.64249189e+01,  1.35183288e+02, -1.65065890e+02,\n",
       "       -3.78845199e+01,  6.43085260e+01, -2.80560953e+01, -3.13503554e+02,\n",
       "       -2.64366781e+02, -1.49210211e+02, -1.65598400e+02, -1.16372593e+02,\n",
       "       -9.99985358e+01, -1.00021092e+02, -8.36624644e+01, -2.11401224e+02,\n",
       "        1.20500281e+03, -7.58844510e+01,  2.29723603e+02,  5.65615367e+01,\n",
       "       -4.19037265e+01, -5.57068745e+01, -2.19239463e+02, -1.70039579e+02,\n",
       "       -1.22764178e+02, -1.26214468e+02, -8.67096264e+01,  4.04986821e-02,\n",
       "        2.16102276e+02, -9.81421661e+01, -5.15655367e+01, -7.69237283e+01,\n",
       "       -1.01923728e+02,  2.16203219e+02,  2.64458416e+02,  3.54261949e+01,\n",
       "       -6.66244466e+01, -1.43551994e+02,  3.69100073e+01,  2.04542321e+01,\n",
       "       -6.24035732e+01, -4.70470377e-02,  1.79116905e+02,  8.66730515e+02,\n",
       "        2.16182771e+02, -2.37833621e+02, -1.23319552e+02, -2.22214432e+02,\n",
       "       -2.87473110e-02, -1.10580174e+02, -1.03597883e+01, -7.66350055e+01,\n",
       "       -1.95282982e+02,  1.80887879e+01,  1.47157701e+01, -1.23926594e-02,\n",
       "        1.67299059e+00,  1.47157701e+01,  1.47157701e+01,  3.44729091e+01,\n",
       "       -8.52842299e+01, -5.72745975e+01, -2.00484107e+02,  1.82286781e+02,\n",
       "       -3.06689748e-03,  1.47157701e+01,  1.47157701e+01,  4.81575223e+01,\n",
       "        1.55031871e+02, -2.39086484e+01, -7.22691853e+01, -1.42953402e+02,\n",
       "       -6.09469537e+01,  4.32516445e+01, -3.57003993e+01,  2.16157823e+02,\n",
       "        2.84155802e+02, -4.20544302e+01, -4.14168825e+01, -1.20510341e+02,\n",
       "       -4.65380167e+01, -1.29280619e+02,  0.00000000e+00, -4.92223093e+01,\n",
       "        0.00000000e+00, -1.99761738e+02,  0.00000000e+00, -1.71916215e+02,\n",
       "        2.16159559e+02, -5.12684550e+00,  0.00000000e+00,  1.89913113e+02,\n",
       "       -1.85353373e+02,  2.16159559e+02, -6.40440978e+01, -9.50355210e+01,\n",
       "        0.00000000e+00, -1.95252864e+02, -3.13204493e+02, -2.22189448e+02,\n",
       "        1.53315813e+03,  0.00000000e+00, -1.50666314e+02, -2.00469902e+02,\n",
       "       -2.37722171e+02, -1.43664984e+02,  0.00000000e+00,  2.84135088e+02,\n",
       "        0.00000000e+00, -2.63874239e+02,  3.54287228e+01,  1.79094828e+02,\n",
       "        1.82403894e+02,  2.28416301e+01, -1.99761738e+02, -2.11516719e+02,\n",
       "        0.00000000e+00, -2.92377112e+02, -1.71916215e+02, -4.92223093e+01,\n",
       "        2.16161295e+02,  2.16216841e+02,  2.16159559e+02,  2.16115898e+02,\n",
       "        2.16159559e+02,  2.16136346e+02,  0.00000000e+00, -1.10134291e+02,\n",
       "       -4.51874041e+01, -1.78021946e+02, -1.35633502e+02, -1.26276867e+02,\n",
       "       -1.77985910e+02, -1.65708566e+02,  6.43845079e+01, -1.35580968e+02,\n",
       "        1.55066299e+02,  0.00000000e+00, -1.29280619e+02, -9.50355210e+01,\n",
       "        1.89913113e+02, -4.18771944e+01, -6.65910920e+01, -2.19245160e+02,\n",
       "       -1.49274412e+02, -1.20510023e+02, -7.59621997e+01, -3.80051761e+01,\n",
       "       -1.10555476e+02, -5.72654858e+01,  2.96240599e+02, -1.43005176e+02,\n",
       "        0.00000000e+00, -3.57017183e+01,  8.66732562e+02,  2.64419619e+02,\n",
       "       -1.61437160e+02, -1.23334790e+02, -1.22717985e+02,  0.00000000e+00,\n",
       "       -8.64150201e+01, -8.64463041e+01,  1.65927233e+00, -1.13835071e+01,\n",
       "       -1.16467346e+02,  2.05522140e+01,  4.32902287e+01,  4.81417307e+01,\n",
       "       -7.66470729e+01,  1.20497960e+03,  1.80658174e+01, -1.69978017e+02,\n",
       "       -7.22964014e+01, -8.33965842e+01, -4.18754305e+01,  3.70471423e+01,\n",
       "       -6.40440978e+01, -4.65380167e+01, -1.85353373e+02,  3.69187812e+01,\n",
       "       -1.00019061e+02, -9.99965046e+01, -6.09484448e+01, -1.03921950e+01,\n",
       "       -5.57729210e+01, -1.64951707e+02, -8.67593374e+01, -5.12684550e+00,\n",
       "        1.96343256e+02, -2.39047937e+01, -2.80252685e+01,  3.45040386e+01,\n",
       "       -8.35327898e+01,  1.69054704e+02,  1.64357663e+01,  3.63699805e+01,\n",
       "        0.00000000e+00, -1.30953591e+01, -3.27862797e+01,  2.64028734e+01,\n",
       "       -3.27862797e+01,  5.12047378e+01, -4.07315100e+01,  1.98269175e+00,\n",
       "        6.11718449e+01, -7.98441534e+00, -2.88694285e+01, -9.33014251e+01,\n",
       "       -7.98441534e+00,  4.12376307e+01, -1.79515224e+01,  4.12376307e+01,\n",
       "       -1.43336628e+01, -1.43336628e+01,  4.48554903e+01, -1.43336628e+01,\n",
       "       -1.86918205e+01,  2.29799525e+02, -7.91233673e+01, -7.91233673e+01,\n",
       "       -1.23812285e+02,  3.92549389e+01, -9.96710709e+00, -1.57414047e+01,\n",
       "       -2.23554508e-12, -5.91891531e+01, -2.43504488e+01,  4.90282648e+01,\n",
       "       -2.43504488e+01, -4.07315100e+01, -6.35114976e+01,  0.00000000e+00,\n",
       "       -1.30953591e+01,  2.36271543e+01,  0.00000000e+00,  0.00000000e+00,\n",
       "       -4.92223093e+01, -1.86918205e+01,  0.00000000e+00, -5.35443906e+01,\n",
       "       -3.80051761e+01, -6.35114976e+01, -6.35114976e+01,  1.55066299e+02,\n",
       "       -6.35114976e+01,  0.00000000e+00,  2.84135088e+02, -8.90064983e+01,\n",
       "        0.00000000e+00, -6.35114976e+01,  2.29799525e+02, -7.34786047e+01,\n",
       "        2.78391120e+01,  0.00000000e+00, -1.56382804e+01,  0.00000000e+00,\n",
       "        4.29593380e+00,  2.22963101e+01, -3.93653257e+01, -2.64131561e+01,\n",
       "        0.00000000e+00, -2.39284975e+01,  5.07583887e+01,  0.00000000e+00])"
      ]
     },
     "execution_count": 132,
     "metadata": {},
     "output_type": "execute_result"
    }
   ],
   "source": [
    "linear_regression.coef_"
   ]
  },
  {
   "cell_type": "code",
   "execution_count": 133,
   "id": "10d0edf7",
   "metadata": {
    "scrolled": true
   },
   "outputs": [
    {
     "name": "stdout",
     "output_type": "stream",
     "text": [
      "Coefficients: \n",
      " [-5.91891531e+01 -6.82121026e-13  2.20473437e+02  3.28223424e+01\n",
      " -1.51729165e+02 -7.23885710e+01  2.45931623e+01 -2.05614954e+02\n",
      "  1.29879267e+03  3.39675009e+01 -1.83333889e+02  2.30634389e+01\n",
      " -5.14783870e+01 -8.56628516e+01 -2.05752192e+02 -7.46720793e+01\n",
      " -5.88659620e+01 -6.38543054e+01  2.70345465e+02 -1.40782946e+02\n",
      "  2.35696407e+00 -2.00009421e+02 -2.24240728e+02 -2.39444132e+02\n",
      " -1.24294337e+02 -1.11463192e+02 -1.24400820e+02  2.31748872e+02\n",
      "  1.36816268e+01 -4.21406910e+01 -3.61967249e+01 -2.70459142e+01\n",
      "  1.60563871e+02  2.03924247e+02 -1.23122159e+02  8.66760423e+02\n",
      "  1.79433028e+02 -9.53501428e+01 -1.31640264e+02  3.63800681e-01\n",
      " -1.10586064e+02 -3.77582699e+01 -1.84610970e-01 -2.23878124e+02\n",
      " -1.29682290e+02 -5.54743622e+01 -4.15031433e+01  1.34977270e+02\n",
      "  5.13251396e-02 -1.38885123e-01  4.75258828e+00 -1.18058759e+02\n",
      " -4.92334244e+01 -1.53108763e+02 -2.80504514e+01  2.83884943e+02\n",
      " -1.10345515e+02  1.60596688e+02  2.30323110e+01 -1.35673464e+02\n",
      " -8.63936348e+01 -1.61402779e+02  3.68172279e+01 -1.35725998e+02\n",
      " -1.26107363e+02 -1.49860613e-02 -6.90868990e-02  1.53295616e+03\n",
      " -1.50604445e+02  1.96461490e+02  8.86026179e-02 -2.92396881e+02\n",
      " -4.50599375e+01 -8.64249189e+01  1.35183288e+02 -1.65065890e+02\n",
      " -3.78845199e+01  6.43085260e+01 -2.80560953e+01 -3.13503554e+02\n",
      " -2.64366781e+02 -1.49210211e+02 -1.65598400e+02 -1.16372593e+02\n",
      " -9.99985358e+01 -1.00021092e+02 -8.36624644e+01 -2.11401224e+02\n",
      "  1.20500281e+03 -7.58844510e+01  2.29723603e+02  5.65615367e+01\n",
      " -4.19037265e+01 -5.57068745e+01 -2.19239463e+02 -1.70039579e+02\n",
      " -1.22764178e+02 -1.26214468e+02 -8.67096264e+01  4.04986821e-02\n",
      "  2.16102276e+02 -9.81421661e+01 -5.15655367e+01 -7.69237283e+01\n",
      " -1.01923728e+02  2.16203219e+02  2.64458416e+02  3.54261949e+01\n",
      " -6.66244466e+01 -1.43551994e+02  3.69100073e+01  2.04542321e+01\n",
      " -6.24035732e+01 -4.70470377e-02  1.79116905e+02  8.66730515e+02\n",
      "  2.16182771e+02 -2.37833621e+02 -1.23319552e+02 -2.22214432e+02\n",
      " -2.87473110e-02 -1.10580174e+02 -1.03597883e+01 -7.66350055e+01\n",
      " -1.95282982e+02  1.80887879e+01  1.47157701e+01 -1.23926594e-02\n",
      "  1.67299059e+00  1.47157701e+01  1.47157701e+01  3.44729091e+01\n",
      " -8.52842299e+01 -5.72745975e+01 -2.00484107e+02  1.82286781e+02\n",
      " -3.06689748e-03  1.47157701e+01  1.47157701e+01  4.81575223e+01\n",
      "  1.55031871e+02 -2.39086484e+01 -7.22691853e+01 -1.42953402e+02\n",
      " -6.09469537e+01  4.32516445e+01 -3.57003993e+01  2.16157823e+02\n",
      "  2.84155802e+02 -4.20544302e+01 -4.14168825e+01 -1.20510341e+02\n",
      " -4.65380167e+01 -1.29280619e+02  0.00000000e+00 -4.92223093e+01\n",
      "  0.00000000e+00 -1.99761738e+02  0.00000000e+00 -1.71916215e+02\n",
      "  2.16159559e+02 -5.12684550e+00  0.00000000e+00  1.89913113e+02\n",
      " -1.85353373e+02  2.16159559e+02 -6.40440978e+01 -9.50355210e+01\n",
      "  0.00000000e+00 -1.95252864e+02 -3.13204493e+02 -2.22189448e+02\n",
      "  1.53315813e+03  0.00000000e+00 -1.50666314e+02 -2.00469902e+02\n",
      " -2.37722171e+02 -1.43664984e+02  0.00000000e+00  2.84135088e+02\n",
      "  0.00000000e+00 -2.63874239e+02  3.54287228e+01  1.79094828e+02\n",
      "  1.82403894e+02  2.28416301e+01 -1.99761738e+02 -2.11516719e+02\n",
      "  0.00000000e+00 -2.92377112e+02 -1.71916215e+02 -4.92223093e+01\n",
      "  2.16161295e+02  2.16216841e+02  2.16159559e+02  2.16115898e+02\n",
      "  2.16159559e+02  2.16136346e+02  0.00000000e+00 -1.10134291e+02\n",
      " -4.51874041e+01 -1.78021946e+02 -1.35633502e+02 -1.26276867e+02\n",
      " -1.77985910e+02 -1.65708566e+02  6.43845079e+01 -1.35580968e+02\n",
      "  1.55066299e+02  0.00000000e+00 -1.29280619e+02 -9.50355210e+01\n",
      "  1.89913113e+02 -4.18771944e+01 -6.65910920e+01 -2.19245160e+02\n",
      " -1.49274412e+02 -1.20510023e+02 -7.59621997e+01 -3.80051761e+01\n",
      " -1.10555476e+02 -5.72654858e+01  2.96240599e+02 -1.43005176e+02\n",
      "  0.00000000e+00 -3.57017183e+01  8.66732562e+02  2.64419619e+02\n",
      " -1.61437160e+02 -1.23334790e+02 -1.22717985e+02  0.00000000e+00\n",
      " -8.64150201e+01 -8.64463041e+01  1.65927233e+00 -1.13835071e+01\n",
      " -1.16467346e+02  2.05522140e+01  4.32902287e+01  4.81417307e+01\n",
      " -7.66470729e+01  1.20497960e+03  1.80658174e+01 -1.69978017e+02\n",
      " -7.22964014e+01 -8.33965842e+01 -4.18754305e+01  3.70471423e+01\n",
      " -6.40440978e+01 -4.65380167e+01 -1.85353373e+02  3.69187812e+01\n",
      " -1.00019061e+02 -9.99965046e+01 -6.09484448e+01 -1.03921950e+01\n",
      " -5.57729210e+01 -1.64951707e+02 -8.67593374e+01 -5.12684550e+00\n",
      "  1.96343256e+02 -2.39047937e+01 -2.80252685e+01  3.45040386e+01\n",
      " -8.35327898e+01  1.69054704e+02  1.64357663e+01  3.63699805e+01\n",
      "  0.00000000e+00 -1.30953591e+01 -3.27862797e+01  2.64028734e+01\n",
      " -3.27862797e+01  5.12047378e+01 -4.07315100e+01  1.98269175e+00\n",
      "  6.11718449e+01 -7.98441534e+00 -2.88694285e+01 -9.33014251e+01\n",
      " -7.98441534e+00  4.12376307e+01 -1.79515224e+01  4.12376307e+01\n",
      " -1.43336628e+01 -1.43336628e+01  4.48554903e+01 -1.43336628e+01\n",
      " -1.86918205e+01  2.29799525e+02 -7.91233673e+01 -7.91233673e+01\n",
      " -1.23812285e+02  3.92549389e+01 -9.96710709e+00 -1.57414047e+01\n",
      " -2.23554508e-12 -5.91891531e+01 -2.43504488e+01  4.90282648e+01\n",
      " -2.43504488e+01 -4.07315100e+01 -6.35114976e+01  0.00000000e+00\n",
      " -1.30953591e+01  2.36271543e+01  0.00000000e+00  0.00000000e+00\n",
      " -4.92223093e+01 -1.86918205e+01  0.00000000e+00 -5.35443906e+01\n",
      " -3.80051761e+01 -6.35114976e+01 -6.35114976e+01  1.55066299e+02\n",
      " -6.35114976e+01  0.00000000e+00  2.84135088e+02 -8.90064983e+01\n",
      "  0.00000000e+00 -6.35114976e+01  2.29799525e+02 -7.34786047e+01\n",
      "  2.78391120e+01  0.00000000e+00 -1.56382804e+01  0.00000000e+00\n",
      "  4.29593380e+00  2.22963101e+01 -3.93653257e+01 -2.64131561e+01\n",
      "  0.00000000e+00 -2.39284975e+01  5.07583887e+01  0.00000000e+00]\n",
      "Mean squared error: 102119.05\n",
      "Variance score: 0.84\n"
     ]
    }
   ],
   "source": [
    "y_pred = linear_regression.predict(X_test)\n",
    "print('Coefficients: \\n', linear_regression.coef_)\n",
    "# The mean squared error\n",
    "print(\"Mean squared error: %.2f\" % np.mean((linear_regression.predict(X_test) - y_test) ** 2))\n",
    "# Explained variance score: 1 is perfect prediction\n",
    "print('Variance score: %.2f' %linear_regression.score(X_test,y_test))"
   ]
  },
  {
   "cell_type": "code",
   "execution_count": 134,
   "id": "36398357",
   "metadata": {},
   "outputs": [
    {
     "data": {
      "text/html": [
       "<div>\n",
       "<style scoped>\n",
       "    .dataframe tbody tr th:only-of-type {\n",
       "        vertical-align: middle;\n",
       "    }\n",
       "\n",
       "    .dataframe tbody tr th {\n",
       "        vertical-align: top;\n",
       "    }\n",
       "\n",
       "    .dataframe thead th {\n",
       "        text-align: right;\n",
       "    }\n",
       "</style>\n",
       "<table border=\"1\" class=\"dataframe\">\n",
       "  <thead>\n",
       "    <tr style=\"text-align: right;\">\n",
       "      <th></th>\n",
       "      <th>Actual</th>\n",
       "      <th>Predicted</th>\n",
       "    </tr>\n",
       "  </thead>\n",
       "  <tbody>\n",
       "    <tr>\n",
       "      <th>203</th>\n",
       "      <td>29.0</td>\n",
       "      <td>165.890211</td>\n",
       "    </tr>\n",
       "    <tr>\n",
       "      <th>218</th>\n",
       "      <td>3850.0</td>\n",
       "      <td>3903.414856</td>\n",
       "    </tr>\n",
       "    <tr>\n",
       "      <th>160</th>\n",
       "      <td>30.0</td>\n",
       "      <td>125.260470</td>\n",
       "    </tr>\n",
       "    <tr>\n",
       "      <th>21</th>\n",
       "      <td>200.0</td>\n",
       "      <td>463.881967</td>\n",
       "    </tr>\n",
       "    <tr>\n",
       "      <th>167</th>\n",
       "      <td>15.0</td>\n",
       "      <td>15.000000</td>\n",
       "    </tr>\n",
       "    <tr>\n",
       "      <th>...</th>\n",
       "      <td>...</td>\n",
       "      <td>...</td>\n",
       "    </tr>\n",
       "    <tr>\n",
       "      <th>182</th>\n",
       "      <td>150.0</td>\n",
       "      <td>557.233083</td>\n",
       "    </tr>\n",
       "    <tr>\n",
       "      <th>122</th>\n",
       "      <td>100.0</td>\n",
       "      <td>100.000000</td>\n",
       "    </tr>\n",
       "    <tr>\n",
       "      <th>17</th>\n",
       "      <td>1.0</td>\n",
       "      <td>1.000000</td>\n",
       "    </tr>\n",
       "    <tr>\n",
       "      <th>34</th>\n",
       "      <td>190.0</td>\n",
       "      <td>190.000000</td>\n",
       "    </tr>\n",
       "    <tr>\n",
       "      <th>219</th>\n",
       "      <td>125.0</td>\n",
       "      <td>55.843740</td>\n",
       "    </tr>\n",
       "  </tbody>\n",
       "</table>\n",
       "<p>67 rows × 2 columns</p>\n",
       "</div>"
      ],
      "text/plain": [
       "     Actual    Predicted\n",
       "203    29.0   165.890211\n",
       "218  3850.0  3903.414856\n",
       "160    30.0   125.260470\n",
       "21    200.0   463.881967\n",
       "167    15.0    15.000000\n",
       "..      ...          ...\n",
       "182   150.0   557.233083\n",
       "122   100.0   100.000000\n",
       "17      1.0     1.000000\n",
       "34    190.0   190.000000\n",
       "219   125.0    55.843740\n",
       "\n",
       "[67 rows x 2 columns]"
      ]
     },
     "execution_count": 134,
     "metadata": {},
     "output_type": "execute_result"
    }
   ],
   "source": [
    "df_pred = pd.DataFrame({'Actual': y_test, 'Predicted': y_pred})\n",
    "df_pred"
   ]
  },
  {
   "cell_type": "code",
   "execution_count": 136,
   "id": "d373f2f1",
   "metadata": {},
   "outputs": [
    {
     "data": {
      "text/plain": [
       "<matplotlib.collections.PathCollection at 0x2ba2a616f10>"
      ]
     },
     "execution_count": 136,
     "metadata": {},
     "output_type": "execute_result"
    },
    {
     "data": {
      "image/png": "[encoded data removed]",
      "text/plain": [
       "<Figure size 432x288 with 1 Axes>"
      ]
     },
     "metadata": {
      "needs_background": "light"
     },
     "output_type": "display_data"
    }
   ],
   "source": [
    "from matplotlib import pyplot as plt\n",
    "\n",
    "plt.scatter(df_pred['Actual'],df_pred['Predicted'])"
   ]
  },
  {
   "cell_type": "code",
   "execution_count": null,
   "id": "9850b608",
   "metadata": {},
   "outputs": [],
   "source": []
  }
 ],
 "metadata": {
  "kernelspec": {
   "display_name": "Python 3 (ipykernel)",
   "language": "python",
   "name": "python3"
  },
  "language_info": {
   "codemirror_mode": {
    "name": "ipython",
    "version": 3
   },
   "file_extension": ".py",
   "mimetype": "text/x-python",
   "name": "python",
   "nbconvert_exporter": "python",
   "pygments_lexer": "ipython3",
   "version": "3.9.7"
  },
  "toc": {
   "base_numbering": 1,
   "nav_menu": {},
   "number_sections": true,
   "sideBar": true,
   "skip_h1_title": false,
   "title_cell": "Table of Contents",
   "title_sidebar": "Contents",
   "toc_cell": false,
   "toc_position": {},
   "toc_section_display": true,
   "toc_window_display": false
  }
 },
 "nbformat": 4,
 "nbformat_minor": 5
}
