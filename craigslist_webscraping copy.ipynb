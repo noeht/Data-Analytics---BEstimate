{
 "cells": [
  {
   "cell_type": "code",
   "execution_count": 1,
   "metadata": {},
   "outputs": [],
   "source": [
    "import pandas as pd\n",
    "import requests\n",
    "from bs4 import BeautifulSoup\n",
    "import numpy as np\n",
    "from time import sleep\n",
    "import random\n",
    "from requests.adapters import HTTPAdapter\n",
    "from requests.packages.urllib3.util.retry import Retry"
   ]
  },
  {
   "cell_type": "code",
   "execution_count": 2,
   "metadata": {},
   "outputs": [
    {
     "name": "stdout",
     "output_type": "stream",
     "text": [
      "0\n",
      "[<td align=\"left\">\n",
      "<script>document.write(\"107\" + \".15\" + \"1.1\" + \"82.\" + \"247\");</script>\n",
      "</td>, <td align=\"left\">\n",
      "<a href=\"/proxy-server-list/port-80/\" title=\"Port 80 proxies\">80</a>\n",
      "</td>, <td align=\"left\">\n",
      "<time class=\"icon icon-check timeago\" datetime=\"2022-04-21 14:47:09Z\"></time>\n",
      "</td>, <td align=\"left\">\n",
      "<div class=\"progress-bar\" data-value=\"0.14069\" title=\"205\"></div>\n",
      "<small>205 ms</small>\n",
      "</td>, <td class=\"text-center text-sm\">\n",
      "<span class=\"uptime-high\">100%</span>\n",
      "<span> (290)</span>\n",
      "</td>, <td align=\"left\">\n",
      "<img alt=\"us\" class=\"flag flag-us inline-block align-middle\" src=\"/assets/images/blank.gif\"/>\n",
      "<a href=\"/proxy-server-list/country-us/\" title=\"Proxies from United States\">United States\n",
      "\n",
      "                    \n",
      "                </a>\n",
      "</td>, <td align=\"left\">\n",
      "<span class=\"proxy_elite font-weight-bold smallish\">Elite</span>\n",
      "</td>]\n",
      "107.151.182.247\n",
      "1\n",
      "[<td align=\"left\">\n",
      "<script>document.write(\"47.\" + \"89.\" + \"153\" + \".21\" + \"3\");</script>\n",
      "</td>, <td align=\"left\">\n",
      "<a href=\"/proxy-server-list/port-80/\" title=\"Port 80 proxies\">80</a>\n",
      "</td>, <td align=\"left\">\n",
      "<time class=\"icon icon-check timeago\" datetime=\"2022-04-21 14:40:14Z\"></time>\n",
      "</td>, <td align=\"left\">\n",
      "<div class=\"progress-bar\" data-value=\"50.02398\" title=\"2200\"></div>\n",
      "<small>2200 ms</small>\n",
      "</td>, <td class=\"text-center text-sm\">\n",
      "<span class=\"uptime-low\">18%</span>\n",
      "<span> (521)</span>\n",
      "</td>, <td align=\"left\">\n",
      "<img alt=\"us\" class=\"flag flag-us inline-block align-middle\" src=\"/assets/images/blank.gif\"/>\n",
      "<a href=\"/proxy-server-list/country-us/\" title=\"Proxies from United States\">United States\n",
      "\n",
      "                    \n",
      "                </a>\n",
      "</td>, <td align=\"left\">\n",
      "<span class=\"proxy_transparent font-weight-bold smallish\">Transparent</span>\n",
      "</td>]\n",
      "47.89.153.213\n",
      "2\n",
      "[<td align=\"left\">\n",
      "<abbr title=\"rrcs-173-196-205-170.west.biz.rr.com\">\n",
      "<script>document.write(\"173\" + \".19\" + \"6.2\" + \"05.\" + \"170\");</script>\n",
      "</abbr>\n",
      "</td>, <td align=\"left\">\n",
      "<a href=\"/proxy-server-list/port-8080/\" title=\"Port 8080 proxies\">8080</a>\n",
      "</td>, <td align=\"left\">\n",
      "<time class=\"icon icon-check timeago\" datetime=\"2022-04-21 14:40:14Z\"></time>\n",
      "</td>, <td align=\"left\">\n",
      "<div class=\"progress-bar\" data-value=\"71.50909\" title=\"3060\"></div>\n",
      "<small>3060 ms</small>\n",
      "</td>, <td class=\"text-center text-sm\">\n",
      "<span class=\"uptime-low\">4%</span>\n",
      "<span> (239)</span>\n",
      "</td>, <td align=\"left\">\n",
      "<img alt=\"us\" class=\"flag flag-us inline-block align-middle\" src=\"/assets/images/blank.gif\"/>\n",
      "<a href=\"/proxy-server-list/country-us/\" title=\"Proxies from United States\">United States\n",
      "\n",
      "                                            <span class=\"proxy-city\"> - Santa Ana </span>\n",
      "</a>\n",
      "</td>, <td align=\"left\">\n",
      "<span class=\"proxy_transparent font-weight-bold smallish\">Transparent</span>\n",
      "</td>]\n",
      "173.196.205.170\n",
      "3\n",
      "[<td align=\"left\">\n",
      "<script>document.write(\"50.\" + \"235\" + \".14\" + \"9.7\" + \"4\");</script>\n",
      "</td>, <td align=\"left\">\n",
      "<a href=\"/proxy-server-list/port-8080/\" title=\"Port 8080 proxies\">8080</a>\n",
      "</td>, <td align=\"left\">\n",
      "<time class=\"icon icon-check timeago\" datetime=\"2022-04-21 14:39:56Z\"></time>\n",
      "</td>, <td align=\"left\">\n",
      "<div class=\"progress-bar\" data-value=\"72.58125\" title=\"3103\"></div>\n",
      "<small>3103 ms</small>\n",
      "</td>, <td class=\"text-center text-sm\">\n",
      "<span class=\"uptime-low\">5%</span>\n",
      "<span> (212)</span>\n",
      "</td>, <td align=\"left\">\n",
      "<img alt=\"us\" class=\"flag flag-us inline-block align-middle\" src=\"/assets/images/blank.gif\"/>\n",
      "<a href=\"/proxy-server-list/country-us/\" title=\"Proxies from United States\">United States\n",
      "\n",
      "                                            <span class=\"proxy-city\"> - Seattle </span>\n",
      "</a>\n",
      "</td>, <td align=\"left\">\n",
      "<span class=\"proxy_transparent font-weight-bold smallish\">Transparent</span>\n",
      "</td>]\n",
      "50.235.149.74\n",
      "4\n",
      "[<td align=\"left\">\n",
      "<abbr title=\"104.192.202.11.gofiber.tech\">\n",
      "<script>document.write(\"104\" + \".19\" + \"2.2\" + \"02.\" + \"11\");</script>\n",
      "</abbr>\n",
      "</td>, <td align=\"left\">\n",
      "<a href=\"/proxy-server-list/port-8080/\" title=\"Port 8080 proxies\">8080</a>\n",
      "</td>, <td align=\"left\">\n",
      "<time class=\"icon icon-check timeago\" datetime=\"2022-04-21 14:39:21Z\"></time>\n",
      "</td>, <td align=\"left\">\n",
      "<div class=\"progress-bar\" data-value=\"95.3777775\" title=\"4015\"></div>\n",
      "<small>4015 ms</small>\n",
      "</td>, <td class=\"text-center text-sm\">\n",
      "<span class=\"uptime-low\">7%</span>\n",
      "<span> (252)</span>\n",
      "</td>, <td align=\"left\">\n",
      "<img alt=\"us\" class=\"flag flag-us inline-block align-middle\" src=\"/assets/images/blank.gif\"/>\n",
      "<a href=\"/proxy-server-list/country-us/\" title=\"Proxies from United States\">United States\n",
      "\n",
      "                                            <span class=\"proxy-city\"> - St. George </span>\n",
      "</a>\n",
      "</td>, <td align=\"left\">\n",
      "<span class=\"proxy_transparent font-weight-bold smallish\">Transparent</span>\n",
      "</td>]\n",
      "104.192.202.11\n",
      "5\n",
      "[<td align=\"left\">\n",
      "<abbr title=\"mycasa.mx\">\n",
      "<script>document.write(\"67.\" + \"212\" + \".18\" + \"6.1\" + \"01\");</script>\n",
      "</abbr>\n",
      "</td>, <td align=\"left\">\n",
      "<a href=\"/proxy-server-list/port-80/\" title=\"Port 80 proxies\">80</a>\n",
      "</td>, <td align=\"left\">\n",
      "<time class=\"icon icon-check timeago\" datetime=\"2022-04-21 14:39:15Z\"></time>\n",
      "</td>, <td align=\"left\">\n",
      "<div class=\"progress-bar\" data-value=\"89.43125\" title=\"3777\"></div>\n",
      "<small>3777 ms</small>\n",
      "</td>, <td class=\"text-center text-sm\">\n",
      "<span class=\"uptime-low\">8%</span>\n",
      "<span> (181)</span>\n",
      "</td>, <td align=\"left\">\n",
      "<img alt=\"us\" class=\"flag flag-us inline-block align-middle\" src=\"/assets/images/blank.gif\"/>\n",
      "<a href=\"/proxy-server-list/country-us/\" title=\"Proxies from United States\">United States\n",
      "\n",
      "                    \n",
      "                </a>\n",
      "</td>, <td align=\"left\">\n",
      "<span class=\"proxy_elite font-weight-bold smallish\">Elite</span>\n",
      "</td>]\n",
      "67.212.186.101\n",
      "6\n",
      "[<td align=\"left\">\n",
      "<abbr title=\"216-169-73-65.scinternet.net\">\n",
      "<script>document.write(\"216\" + \".16\" + \"9.7\" + \"3.6\" + \"5\");</script>\n",
      "</abbr>\n",
      "</td>, <td align=\"left\">\n",
      "                                    34679\n",
      "                            </td>, <td align=\"left\">\n",
      "<time class=\"icon icon-check timeago\" datetime=\"2022-04-21 14:39:00Z\"></time>\n",
      "</td>, <td align=\"left\">\n",
      "<div class=\"progress-bar\" data-value=\"88.2203125\" title=\"3728\"></div>\n",
      "<small>3728 ms</small>\n",
      "</td>, <td class=\"text-center text-sm\">\n",
      "<span class=\"uptime-low\">7%</span>\n",
      "<span> (223)</span>\n",
      "</td>, <td align=\"left\">\n",
      "<img alt=\"us\" class=\"flag flag-us inline-block align-middle\" src=\"/assets/images/blank.gif\"/>\n",
      "<a href=\"/proxy-server-list/country-us/\" title=\"Proxies from United States\">United States\n",
      "\n",
      "                                            <span class=\"proxy-city\"> - Torrey </span>\n",
      "</a>\n",
      "</td>, <td align=\"left\">\n",
      "<span class=\"proxy_elite font-weight-bold smallish\">Elite</span>\n",
      "</td>]\n",
      "216.169.73.65\n",
      "7\n",
      "[<td align=\"left\">\n",
      "<script>document.write(\"138\" + \".68\" + \".23\" + \"5.5\" + \"1\");</script>\n",
      "</td>, <td align=\"left\">\n",
      "<a href=\"/proxy-server-list/port-80/\" title=\"Port 80 proxies\">80</a>\n",
      "</td>, <td align=\"left\">\n",
      "<time class=\"icon icon-check timeago\" datetime=\"2022-04-21 14:38:41Z\"></time>\n",
      "</td>, <td align=\"left\">\n",
      "<div class=\"progress-bar\" data-value=\"32.8625\" title=\"1514\"></div>\n",
      "<small>1514 ms</small>\n",
      "</td>, <td class=\"text-center text-sm\">\n",
      "<span class=\"uptime-low\">4%</span>\n",
      "<span> (243)</span>\n",
      "</td>, <td align=\"left\">\n",
      "<img alt=\"us\" class=\"flag flag-us inline-block align-middle\" src=\"/assets/images/blank.gif\"/>\n",
      "<a href=\"/proxy-server-list/country-us/\" title=\"Proxies from United States\">United States\n",
      "\n",
      "                                            <span class=\"proxy-city\"> - Santa Clara </span>\n",
      "</a>\n",
      "</td>, <td align=\"left\">\n",
      "<span class=\"proxy_elite font-weight-bold smallish\">Elite</span>\n",
      "</td>]\n",
      "138.68.235.51\n",
      "8\n",
      "[<td align=\"left\">\n",
      "<script>document.write(\"161\" + \".35\" + \".4.\" + \"201\");</script>\n",
      "</td>, <td align=\"left\">\n",
      "<a href=\"/proxy-server-list/port-80/\" title=\"Port 80 proxies\">80</a>\n",
      "</td>, <td align=\"left\">\n",
      "<time class=\"icon icon-check timeago\" datetime=\"2022-04-21 14:37:12Z\"></time>\n",
      "</td>, <td align=\"left\">\n",
      "<div class=\"progress-bar\" data-value=\"57.849505\" title=\"2513\"></div>\n",
      "<small>2513 ms</small>\n",
      "</td>, <td class=\"text-center text-sm\">\n",
      "<span class=\"uptime-low\">34%</span>\n",
      "<span> (731)</span>\n",
      "</td>, <td align=\"left\">\n",
      "<img alt=\"us\" class=\"flag flag-us inline-block align-middle\" src=\"/assets/images/blank.gif\"/>\n",
      "<a href=\"/proxy-server-list/country-us/\" title=\"Proxies from United States\">United States\n",
      "\n",
      "                                            <span class=\"proxy-city\"> - North Bergen </span>\n",
      "</a>\n",
      "</td>, <td align=\"left\">\n",
      "<span class=\"proxy_elite font-weight-bold smallish\">Elite</span>\n",
      "</td>]\n",
      "161.35.4.201\n",
      "9\n",
      "[<td align=\"left\">\n",
      "<abbr title=\"ec2-3-211-17-212.compute-1.amazonaws.com\">\n",
      "<script>document.write(\"3.2\" + \"11.\" + \"17.\" + \"212\");</script>\n",
      "</abbr>\n",
      "</td>, <td align=\"left\">\n",
      "<a href=\"/proxy-server-list/port-80/\" title=\"Port 80 proxies\">80</a>\n",
      "</td>, <td align=\"left\">\n",
      "<time class=\"icon icon-check timeago\" datetime=\"2022-04-21 14:36:44Z\"></time>\n",
      "</td>, <td align=\"left\">\n",
      "<div class=\"progress-bar\" data-value=\"11.856705\" title=\"674\"></div>\n",
      "<small>674 ms</small>\n",
      "</td>, <td class=\"text-center text-sm\">\n",
      "<span class=\"uptime-high\">99%</span>\n",
      "<span> (263)</span>\n",
      "</td>, <td align=\"left\">\n",
      "<img alt=\"us\" class=\"flag flag-us inline-block align-middle\" src=\"/assets/images/blank.gif\"/>\n",
      "<a href=\"/proxy-server-list/country-us/\" title=\"Proxies from United States\">United States\n",
      "\n",
      "                                            <span class=\"proxy-city\"> - Ashburn </span>\n",
      "</a>\n",
      "</td>, <td align=\"left\">\n",
      "<span class=\"proxy_transparent font-weight-bold smallish\">Transparent</span>\n",
      "</td>]\n",
      "3.211.17.212\n",
      "10\n",
      "[<td align=\"left\">\n",
      "<abbr title=\"72-47-152-224.terlcmtk02.com.sta.suddenlink.net\">\n",
      "<script>document.write(\"72.\" + \"47.\" + \"152\" + \".22\" + \"4\");</script>\n",
      "</abbr>\n",
      "</td>, <td align=\"left\">\n",
      "                                    55443\n",
      "                            </td>, <td align=\"left\">\n",
      "<time class=\"icon icon-check timeago\" datetime=\"2022-04-21 14:35:39Z\"></time>\n",
      "</td>, <td align=\"left\">\n",
      "<div class=\"progress-bar\" data-value=\"84.2205875\" title=\"3568\"></div>\n",
      "<small>3568 ms</small>\n",
      "</td>, <td class=\"text-center text-sm\">\n",
      "<span class=\"uptime-low\">5%</span>\n",
      "<span> (337)</span>\n",
      "</td>, <td align=\"left\">\n",
      "<img alt=\"us\" class=\"flag flag-us inline-block align-middle\" src=\"/assets/images/blank.gif\"/>\n",
      "<a href=\"/proxy-server-list/country-us/\" title=\"Proxies from United States\">United States\n",
      "\n",
      "                                            <span class=\"proxy-city\"> - Forney </span>\n",
      "</a>\n",
      "</td>, <td align=\"left\">\n",
      "<span class=\"proxy_elite font-weight-bold smallish\">Elite</span>\n",
      "</td>]\n",
      "72.47.152.224\n",
      "11\n",
      "[<td align=\"left\">\n",
      "<script>document.write(\"132\" + \".14\" + \"5.1\" + \"95.\" + \"93\");</script>\n",
      "</td>, <td align=\"left\">\n",
      "<a href=\"/proxy-server-list/port-3128/\" title=\"Port 3128 proxies\">3128</a>\n",
      "</td>, <td align=\"left\">\n",
      "<time class=\"icon icon-check timeago\" datetime=\"2022-04-21 14:35:39Z\"></time>\n",
      "</td>, <td align=\"left\">\n",
      "<div class=\"progress-bar\" data-value=\"51.760715\" title=\"2270\"></div>\n",
      "<small>2270 ms</small>\n",
      "</td>, <td class=\"text-center text-sm\">\n",
      "<span class=\"uptime-low\">22%</span>\n",
      "<span> (158)</span>\n",
      "</td>, <td align=\"left\">\n",
      "<img alt=\"us\" class=\"flag flag-us inline-block align-middle\" src=\"/assets/images/blank.gif\"/>\n",
      "<a href=\"/proxy-server-list/country-us/\" title=\"Proxies from United States\">United States\n",
      "\n",
      "                                            <span class=\"proxy-city\"> - Ashburn </span>\n",
      "</a>\n",
      "</td>, <td align=\"left\">\n",
      "<span class=\"proxy_transparent font-weight-bold smallish\">Transparent</span>\n",
      "</td>]\n",
      "132.145.195.93\n",
      "12\n",
      "[<td colspan=\"10\">\n",
      "<center>\n",
      "<div class=\"ad728x90\">\n",
      "<script async=\"\" src=\"//pagead2.googlesyndication.com/pagead/js/adsbygoogle.js\"></script>\n",
      "<!-- proxy_nova_list_banner -->\n",
      "<ins class=\"adsbygoogle\" data-ad-client=\"ca-pub-4660819739366379\" data-ad-slot=\"4986885628\" style=\"display:inline-block;width:728px;height:90px\"></ins>\n",
      "<script>\n",
      "    (adsbygoogle = window.adsbygoogle || []).push({});\n",
      "</script>\n",
      "</div>\n",
      "</center>\n",
      "</td>]\n",
      "list index out of range\n",
      "13\n",
      "[<td align=\"left\">\n",
      "<script>document.write(\"47.\" + \"88.\" + \"7.1\" + \"15\");</script>\n",
      "</td>, <td align=\"left\">\n",
      "                                    3129\n",
      "                            </td>, <td align=\"left\">\n",
      "<time class=\"icon icon-check timeago\" datetime=\"2022-04-21 14:35:39Z\"></time>\n",
      "</td>, <td align=\"left\">\n",
      "<div class=\"progress-bar\" data-value=\"100\" title=\"4268\"></div>\n",
      "<small>4268 ms</small>\n",
      "</td>, <td class=\"text-center text-sm\">\n",
      "<span class=\"uptime-low\">3%</span>\n",
      "<span> (413)</span>\n",
      "</td>, <td align=\"left\">\n",
      "<img alt=\"us\" class=\"flag flag-us inline-block align-middle\" src=\"/assets/images/blank.gif\"/>\n",
      "<a href=\"/proxy-server-list/country-us/\" title=\"Proxies from United States\">United States\n",
      "\n",
      "                                            <span class=\"proxy-city\"> - San Mateo </span>\n",
      "</a>\n",
      "</td>, <td align=\"left\">\n",
      "<span class=\"proxy_transparent font-weight-bold smallish\">Transparent</span>\n",
      "</td>]\n",
      "47.88.7.115\n",
      "14\n",
      "[<td align=\"left\">\n",
      "<abbr title=\"ec2-3-217-161-14.compute-1.amazonaws.com\">\n",
      "<script>document.write(\"3.2\" + \"17.\" + \"161\" + \".14\");</script>\n",
      "</abbr>\n",
      "</td>, <td align=\"left\">\n",
      "<a href=\"/proxy-server-list/port-8080/\" title=\"Port 8080 proxies\">8080</a>\n",
      "</td>, <td align=\"left\">\n",
      "<time class=\"icon icon-check timeago\" datetime=\"2022-04-21 14:35:33Z\"></time>\n",
      "</td>, <td align=\"left\">\n",
      "<div class=\"progress-bar\" data-value=\"2.05909\" title=\"282\"></div>\n",
      "<small>282 ms</small>\n",
      "</td>, <td class=\"text-center text-sm\">\n",
      "<span class=\"uptime-low\">15%</span>\n",
      "<span> (71)</span>\n",
      "</td>, <td align=\"left\">\n",
      "<img alt=\"us\" class=\"flag flag-us inline-block align-middle\" src=\"/assets/images/blank.gif\"/>\n",
      "<a href=\"/proxy-server-list/country-us/\" title=\"Proxies from United States\">United States\n",
      "\n",
      "                                            <span class=\"proxy-city\"> - Ashburn </span>\n",
      "</a>\n",
      "</td>, <td align=\"left\">\n",
      "<span class=\"proxy_anonymous font-weight-bold smallish\">Anonymous</span>\n",
      "</td>]\n",
      "3.217.161.14\n",
      "15\n",
      "[<td align=\"left\">\n",
      "<abbr title=\"acheiusa.com\">\n",
      "<script>document.write(\"204\" + \".16\" + \".1.\" + \"169\");</script>\n",
      "</abbr>\n",
      "</td>, <td align=\"left\">\n",
      "                                    82\n",
      "                            </td>, <td align=\"left\">\n",
      "<time class=\"icon icon-check timeago\" datetime=\"2022-04-21 14:35:29Z\"></time>\n",
      "</td>, <td align=\"left\">\n",
      "<div class=\"progress-bar\" data-value=\"100\" title=\"4816\"></div>\n",
      "<small>4816 ms</small>\n",
      "</td>, <td class=\"text-center text-sm\">\n",
      "<span class=\"uptime-low\">6%</span>\n",
      "<span> (213)</span>\n",
      "</td>, <td align=\"left\">\n",
      "<img alt=\"us\" class=\"flag flag-us inline-block align-middle\" src=\"/assets/images/blank.gif\"/>\n",
      "<a href=\"/proxy-server-list/country-us/\" title=\"Proxies from United States\">United States\n",
      "\n",
      "                    \n",
      "                </a>\n",
      "</td>, <td align=\"left\">\n",
      "<span class=\"proxy_elite font-weight-bold smallish\">Elite</span>\n",
      "</td>]\n",
      "204.16.1.169\n",
      "16\n",
      "[<td align=\"left\">\n",
      "<script>document.write(\"52.\" + \"168\" + \".34\" + \".11\" + \"3\");</script>\n",
      "</td>, <td align=\"left\">\n",
      "<a href=\"/proxy-server-list/port-80/\" title=\"Port 80 proxies\">80</a>\n",
      "</td>, <td align=\"left\">\n",
      "<time class=\"icon icon-check timeago\" datetime=\"2022-04-21 14:35:26Z\"></time>\n",
      "</td>, <td align=\"left\">\n",
      "<div class=\"progress-bar\" data-value=\"90.7260875\" title=\"3829\"></div>\n",
      "<small>3829 ms</small>\n",
      "</td>, <td class=\"text-center text-sm\">\n",
      "<span class=\"uptime-low\">8%</span>\n",
      "<span> (260)</span>\n",
      "</td>, <td align=\"left\">\n",
      "<img alt=\"us\" class=\"flag flag-us inline-block align-middle\" src=\"/assets/images/blank.gif\"/>\n",
      "<a href=\"/proxy-server-list/country-us/\" title=\"Proxies from United States\">United States\n",
      "\n",
      "                                            <span class=\"proxy-city\"> - Washington </span>\n",
      "</a>\n",
      "</td>, <td align=\"left\">\n",
      "<span class=\"proxy_elite font-weight-bold smallish\">Elite</span>\n",
      "</td>]\n",
      "52.168.34.113\n",
      "17\n",
      "[<td align=\"left\">\n",
      "<script>document.write(\"159\" + \".65\" + \".69\" + \".18\" + \"6\");</script>\n",
      "</td>, <td align=\"left\">\n",
      "                                    9300\n",
      "                            </td>, <td align=\"left\">\n",
      "<time class=\"icon icon-check timeago\" datetime=\"2022-04-21 14:34:09Z\"></time>\n",
      "</td>, <td align=\"left\">\n",
      "<div class=\"progress-bar\" data-value=\"100\" title=\"4852\"></div>\n",
      "<small>4852 ms</small>\n",
      "</td>, <td class=\"text-center text-sm\">\n",
      "<span class=\"uptime-low\">3%</span>\n",
      "<span> (313)</span>\n",
      "</td>, <td align=\"left\">\n",
      "<img alt=\"us\" class=\"flag flag-us inline-block align-middle\" src=\"/assets/images/blank.gif\"/>\n",
      "<a href=\"/proxy-server-list/country-us/\" title=\"Proxies from United States\">United States\n",
      "\n",
      "                                            <span class=\"proxy-city\"> - Santa Clara </span>\n",
      "</a>\n",
      "</td>, <td align=\"left\">\n",
      "<span class=\"proxy_elite font-weight-bold smallish\">Elite</span>\n",
      "</td>]\n",
      "159.65.69.186\n",
      "18\n",
      "[<td align=\"left\">\n",
      "<script>document.write(\"20.\" + \"47.\" + \"108\" + \".20\" + \"4\");</script>\n",
      "</td>, <td align=\"left\">\n",
      "                                    8888\n",
      "                            </td>, <td align=\"left\">\n",
      "<time class=\"icon icon-check timeago\" datetime=\"2022-04-21 14:33:54Z\"></time>\n",
      "</td>, <td align=\"left\">\n",
      "<div class=\"progress-bar\" data-value=\"0\" title=\"158\"></div>\n",
      "<small>158 ms</small>\n",
      "</td>, <td class=\"text-center text-sm\">\n",
      "<span class=\"uptime-medium\">40%</span>\n",
      "<span> (608)</span>\n",
      "</td>, <td align=\"left\">\n",
      "<img alt=\"us\" class=\"flag flag-us inline-block align-middle\" src=\"/assets/images/blank.gif\"/>\n",
      "<a href=\"/proxy-server-list/country-us/\" title=\"Proxies from United States\">United States\n",
      "\n",
      "                                            <span class=\"proxy-city\"> - Washington </span>\n",
      "</a>\n",
      "</td>, <td align=\"left\">\n",
      "<span class=\"proxy_elite font-weight-bold smallish\">Elite</span>\n",
      "</td>]\n",
      "20.47.108.204\n",
      "19\n",
      "[<td align=\"left\">\n",
      "<script>document.write(\"64.\" + \"227\" + \".62\" + \".12\" + \"3\");</script>\n",
      "</td>, <td align=\"left\">\n",
      "<a href=\"/proxy-server-list/port-80/\" title=\"Port 80 proxies\">80</a>\n",
      "</td>, <td align=\"left\">\n",
      "<time class=\"icon icon-check timeago\" datetime=\"2022-04-21 14:22:24Z\"></time>\n",
      "</td>, <td align=\"left\">\n",
      "<div class=\"progress-bar\" data-value=\"0\" title=\"149\"></div>\n",
      "<small>149 ms</small>\n",
      "</td>, <td class=\"text-center text-sm\">\n",
      "<span class=\"uptime-low\">36%</span>\n",
      "<span> (322)</span>\n",
      "</td>, <td align=\"left\">\n",
      "<img alt=\"us\" class=\"flag flag-us inline-block align-middle\" src=\"/assets/images/blank.gif\"/>\n",
      "<a href=\"/proxy-server-list/country-us/\" title=\"Proxies from United States\">United States\n",
      "\n",
      "                                            <span class=\"proxy-city\"> - Santa Clara </span>\n",
      "</a>\n",
      "</td>, <td align=\"left\">\n",
      "<span class=\"proxy_elite font-weight-bold smallish\">Elite</span>\n",
      "</td>]\n",
      "64.227.62.123\n",
      "20\n",
      "[<td align=\"left\">\n",
      "<abbr title=\"rrcs-76-81-164-246.west.biz.rr.com\">\n",
      "<script>document.write(\"76.\" + \"81.\" + \"164\" + \".24\" + \"6\");</script>\n",
      "</abbr>\n",
      "</td>, <td align=\"left\">\n",
      "<a href=\"/proxy-server-list/port-8080/\" title=\"Port 8080 proxies\">8080</a>\n",
      "</td>, <td align=\"left\">\n",
      "<time class=\"icon icon-check timeago\" datetime=\"2022-04-21 14:12:40Z\"></time>\n",
      "</td>, <td align=\"left\">\n",
      "<div class=\"progress-bar\" data-value=\"70.214395\" title=\"3008\"></div>\n",
      "<small>3008 ms</small>\n",
      "</td>, <td class=\"text-center text-sm\">\n",
      "<span class=\"uptime-low\">4%</span>\n",
      "<span> (724)</span>\n",
      "</td>, <td align=\"left\">\n",
      "<img alt=\"us\" class=\"flag flag-us inline-block align-middle\" src=\"/assets/images/blank.gif\"/>\n",
      "<a href=\"/proxy-server-list/country-us/\" title=\"Proxies from United States\">United States\n",
      "\n",
      "                                            <span class=\"proxy-city\"> - Garden Grove </span>\n",
      "</a>\n",
      "</td>, <td align=\"left\">\n",
      "<span class=\"proxy_transparent font-weight-bold smallish\">Transparent</span>\n",
      "</td>]\n",
      "76.81.164.246\n",
      "21\n",
      "[<td align=\"left\">\n",
      "<script>document.write(\"192\" + \".15\" + \"5.1\" + \"07.\" + \"60\");</script>\n",
      "</td>, <td align=\"left\">\n",
      "<a href=\"/proxy-server-list/port-1080/\" title=\"Port 1080 proxies\">1080</a>\n",
      "</td>, <td align=\"left\">\n",
      "<time class=\"icon icon-check timeago\" datetime=\"2022-04-21 14:04:39Z\"></time>\n",
      "</td>, <td align=\"left\">\n",
      "<div class=\"progress-bar\" data-value=\"100\" title=\"4686\"></div>\n",
      "<small>4686 ms</small>\n",
      "</td>, <td class=\"text-center text-sm\">\n",
      "<span class=\"uptime-low\">11%</span>\n",
      "<span> (17)</span>\n",
      "</td>, <td align=\"left\">\n",
      "<img alt=\"us\" class=\"flag flag-us inline-block align-middle\" src=\"/assets/images/blank.gif\"/>\n",
      "<a href=\"/proxy-server-list/country-us/\" title=\"Proxies from United States\">United States\n",
      "\n",
      "                                            <span class=\"proxy-city\"> - Miami </span>\n",
      "</a>\n",
      "</td>, <td align=\"left\">\n",
      "<span class=\"proxy_elite font-weight-bold smallish\">Elite</span>\n",
      "</td>]\n",
      "192.155.107.60\n",
      "22\n",
      "[<td align=\"left\">\n",
      "<abbr title=\"ec2-54-80-246-241.compute-1.amazonaws.com\">\n",
      "<script>document.write(\"54.\" + \"80.\" + \"246\" + \".24\" + \"1\");</script>\n",
      "</abbr>\n",
      "</td>, <td align=\"left\">\n",
      "<a href=\"/proxy-server-list/port-80/\" title=\"Port 80 proxies\">80</a>\n",
      "</td>, <td align=\"left\">\n",
      "<time class=\"icon icon-check timeago\" datetime=\"2022-04-21 14:03:31Z\"></time>\n",
      "</td>, <td align=\"left\">\n",
      "<div class=\"progress-bar\" data-value=\"40.8225\" title=\"1832\"></div>\n",
      "<small>1832 ms</small>\n",
      "</td>, <td class=\"text-center text-sm\">\n",
      "<span class=\"uptime-low\">24%</span>\n",
      "<span> (81)</span>\n",
      "</td>, <td align=\"left\">\n",
      "<img alt=\"us\" class=\"flag flag-us inline-block align-middle\" src=\"/assets/images/blank.gif\"/>\n",
      "<a href=\"/proxy-server-list/country-us/\" title=\"Proxies from United States\">United States\n",
      "\n",
      "                                            <span class=\"proxy-city\"> - Ashburn </span>\n",
      "</a>\n",
      "</td>, <td align=\"left\">\n",
      "<span class=\"proxy_elite font-weight-bold smallish\">Elite</span>\n",
      "</td>]\n",
      "54.80.246.241\n",
      "23\n",
      "[<td align=\"left\">\n",
      "<abbr title=\"ec2-54-244-204-46.us-west-2.compute.amazonaws.com\">\n",
      "<script>document.write(\"54.\" + \"244\" + \".20\" + \"4.4\" + \"6\");</script>\n",
      "</abbr>\n",
      "</td>, <td align=\"left\">\n",
      "<a href=\"/proxy-server-list/port-80/\" title=\"Port 80 proxies\">80</a>\n",
      "</td>, <td align=\"left\">\n",
      "<time class=\"icon icon-check timeago\" datetime=\"2022-04-21 14:03:28Z\"></time>\n",
      "</td>, <td align=\"left\">\n",
      "<div class=\"progress-bar\" data-value=\"1.1830975\" title=\"247\"></div>\n",
      "<small>247 ms</small>\n",
      "</td>, <td class=\"text-center text-sm\">\n",
      "<span class=\"uptime-high\">75%</span>\n",
      "<span> (188)</span>\n",
      "</td>, <td align=\"left\">\n",
      "<img alt=\"us\" class=\"flag flag-us inline-block align-middle\" src=\"/assets/images/blank.gif\"/>\n",
      "<a href=\"/proxy-server-list/country-us/\" title=\"Proxies from United States\">United States\n",
      "\n",
      "                                            <span class=\"proxy-city\"> - Boardman </span>\n",
      "</a>\n",
      "</td>, <td align=\"left\">\n",
      "<span class=\"proxy_elite font-weight-bold smallish\">Elite</span>\n",
      "</td>]\n",
      "54.244.204.46\n",
      "24\n",
      "[<td align=\"left\">\n",
      "<script>document.write(\"23.\" + \"225\" + \".64\" + \".59\");</script>\n",
      "</td>, <td align=\"left\">\n",
      "                                    1089\n",
      "                            </td>, <td align=\"left\">\n",
      "<time class=\"icon icon-check timeago\" datetime=\"2022-04-21 14:03:07Z\"></time>\n",
      "</td>, <td align=\"left\">\n",
      "<div class=\"progress-bar\" data-value=\"56.125\" title=\"2445\"></div>\n",
      "<small>2445 ms</small>\n",
      "</td>, <td class=\"text-center text-sm\">\n",
      "<span class=\"uptime-high\">100%</span>\n",
      "<span> (1)</span>\n",
      "</td>, <td align=\"left\">\n",
      "<img alt=\"us\" class=\"flag flag-us inline-block align-middle\" src=\"/assets/images/blank.gif\"/>\n",
      "<a href=\"/proxy-server-list/country-us/\" title=\"Proxies from United States\">United States\n",
      "\n",
      "                    \n",
      "                </a>\n",
      "</td>, <td align=\"left\">\n",
      "<span class=\"proxy_elite font-weight-bold smallish\">Elite</span>\n",
      "</td>]\n",
      "23.225.64.59\n",
      "25\n",
      "[<td align=\"left\">\n",
      "<script>document.write(\"186\" + \".23\" + \"3.1\" + \"86.\" + \"60\");</script>\n",
      "</td>, <td align=\"left\">\n",
      "<a href=\"/proxy-server-list/port-8080/\" title=\"Port 8080 proxies\">8080</a>\n",
      "</td>, <td align=\"left\">\n",
      "<time class=\"icon icon-check timeago\" datetime=\"2022-04-21 14:03:07Z\"></time>\n",
      "</td>, <td align=\"left\">\n",
      "<div class=\"progress-bar\" data-value=\"33.7821425\" title=\"1551\"></div>\n",
      "<small>1551 ms</small>\n",
      "</td>, <td class=\"text-center text-sm\">\n",
      "<span class=\"uptime-low\">16%</span>\n",
      "<span> (165)</span>\n",
      "</td>, <td align=\"left\">\n",
      "<img alt=\"us\" class=\"flag flag-us inline-block align-middle\" src=\"/assets/images/blank.gif\"/>\n",
      "<a href=\"/proxy-server-list/country-us/\" title=\"Proxies from United States\">United States\n",
      "\n",
      "                                            <span class=\"proxy-city\"> - Chicago </span>\n",
      "</a>\n",
      "</td>, <td align=\"left\">\n",
      "<span class=\"proxy_transparent font-weight-bold smallish\">Transparent</span>\n",
      "</td>]\n",
      "186.233.186.60\n",
      "26\n",
      "[<td align=\"left\">\n",
      "<script>document.write(\"63.\" + \"161\" + \".10\" + \"4.1\" + \"89\");</script>\n",
      "</td>, <td align=\"left\">\n",
      "<a href=\"/proxy-server-list/port-3128/\" title=\"Port 3128 proxies\">3128</a>\n",
      "</td>, <td align=\"left\">\n",
      "<time class=\"icon icon-check timeago\" datetime=\"2022-04-21 14:02:51Z\"></time>\n",
      "</td>, <td align=\"left\">\n",
      "<div class=\"progress-bar\" data-value=\"12.3890875\" title=\"695\"></div>\n",
      "<small>695 ms</small>\n",
      "</td>, <td class=\"text-center text-sm\">\n",
      "<span class=\"uptime-high\">99%</span>\n",
      "<span> (127)</span>\n",
      "</td>, <td align=\"left\">\n",
      "<img alt=\"us\" class=\"flag flag-us inline-block align-middle\" src=\"/assets/images/blank.gif\"/>\n",
      "<a href=\"/proxy-server-list/country-us/\" title=\"Proxies from United States\">United States\n",
      "\n",
      "                    \n",
      "                </a>\n",
      "</td>, <td align=\"left\">\n",
      "<span class=\"proxy_elite font-weight-bold smallish\">Elite</span>\n",
      "</td>]\n",
      "63.161.104.189\n",
      "27\n",
      "[<td align=\"left\">\n",
      "<abbr title=\"h6.41.136.40.static.ip.windstream.net\">\n",
      "<script>document.write(\"40.\" + \"136\" + \".41\" + \".6\");</script>\n",
      "</abbr>\n",
      "</td>, <td align=\"left\">\n",
      "<a href=\"/proxy-server-list/port-8080/\" title=\"Port 8080 proxies\">8080</a>\n",
      "</td>, <td align=\"left\">\n",
      "<time class=\"icon icon-check timeago\" datetime=\"2022-04-21 14:02:17Z\"></time>\n",
      "</td>, <td align=\"left\">\n",
      "<div class=\"progress-bar\" data-value=\"75.55\" title=\"3222\"></div>\n",
      "<small>3222 ms</small>\n",
      "</td>, <td class=\"text-center text-sm\">\n",
      "<span class=\"uptime-low\">6%</span>\n",
      "<span> (458)</span>\n",
      "</td>, <td align=\"left\">\n",
      "<img alt=\"us\" class=\"flag flag-us inline-block align-middle\" src=\"/assets/images/blank.gif\"/>\n",
      "<a href=\"/proxy-server-list/country-us/\" title=\"Proxies from United States\">United States\n",
      "\n",
      "                                            <span class=\"proxy-city\"> - Lexington </span>\n",
      "</a>\n",
      "</td>, <td align=\"left\">\n",
      "<span class=\"proxy_transparent font-weight-bold smallish\">Transparent</span>\n",
      "</td>]\n",
      "40.136.41.6\n",
      "28\n",
      "[<td align=\"left\">\n",
      "<abbr title=\"66-211-155-34.static.firstlight.net\">\n",
      "<script>document.write(\"66.\" + \"211\" + \".15\" + \"5.3\" + \"4\");</script>\n",
      "</abbr>\n",
      "</td>, <td align=\"left\">\n",
      "<a href=\"/proxy-server-list/port-8080/\" title=\"Port 8080 proxies\">8080</a>\n",
      "</td>, <td align=\"left\">\n",
      "<time class=\"icon icon-check timeago\" datetime=\"2022-04-21 14:02:11Z\"></time>\n",
      "</td>, <td align=\"left\">\n",
      "<div class=\"progress-bar\" data-value=\"76.0488625\" title=\"3241\"></div>\n",
      "<small>3241 ms</small>\n",
      "</td>, <td class=\"text-center text-sm\">\n",
      "<span class=\"uptime-low\">7%</span>\n",
      "<span> (312)</span>\n",
      "</td>, <td align=\"left\">\n",
      "<img alt=\"us\" class=\"flag flag-us inline-block align-middle\" src=\"/assets/images/blank.gif\"/>\n",
      "<a href=\"/proxy-server-list/country-us/\" title=\"Proxies from United States\">United States\n",
      "\n",
      "                                            <span class=\"proxy-city\"> - Berlin </span>\n",
      "</a>\n",
      "</td>, <td align=\"left\">\n",
      "<span class=\"proxy_transparent font-weight-bold smallish\">Transparent</span>\n",
      "</td>]\n",
      "66.211.155.34\n",
      "29\n",
      "[<td align=\"left\">\n",
      "<abbr title=\"static-host-74-205-128-200.epbinternet.com\">\n",
      "<script>document.write(\"74.\" + \"205\" + \".12\" + \"8.2\" + \"00\");</script>\n",
      "</abbr>\n",
      "</td>, <td align=\"left\">\n",
      "<a href=\"/proxy-server-list/port-80/\" title=\"Port 80 proxies\">80</a>\n",
      "</td>, <td align=\"left\">\n",
      "<time class=\"icon icon-check timeago\" datetime=\"2022-04-21 14:02:08Z\"></time>\n",
      "</td>, <td align=\"left\">\n",
      "<div class=\"progress-bar\" data-value=\"100\" title=\"4730\"></div>\n",
      "<small>4730 ms</small>\n",
      "</td>, <td class=\"text-center text-sm\">\n",
      "<span class=\"uptime-low\">11%</span>\n",
      "<span> (338)</span>\n",
      "</td>, <td align=\"left\">\n",
      "<img alt=\"us\" class=\"flag flag-us inline-block align-middle\" src=\"/assets/images/blank.gif\"/>\n",
      "<a href=\"/proxy-server-list/country-us/\" title=\"Proxies from United States\">United States\n",
      "\n",
      "                                            <span class=\"proxy-city\"> - Chattanooga </span>\n",
      "</a>\n",
      "</td>, <td align=\"left\">\n",
      "<span class=\"proxy_elite font-weight-bold smallish\">Elite</span>\n",
      "</td>]\n",
      "74.205.128.200\n",
      "30\n",
      "[<td align=\"left\">\n",
      "<script>document.write(\"12.\" + \"151\" + \".56\" + \".30\");</script>\n",
      "</td>, <td align=\"left\">\n",
      "<a href=\"/proxy-server-list/port-80/\" title=\"Port 80 proxies\">80</a>\n",
      "</td>, <td align=\"left\">\n",
      "<time class=\"icon icon-check timeago\" datetime=\"2022-04-21 14:02:05Z\"></time>\n",
      "</td>, <td align=\"left\">\n",
      "<div class=\"progress-bar\" data-value=\"1.5192475\" title=\"260\"></div>\n",
      "<small>260 ms</small>\n",
      "</td>, <td class=\"text-center text-sm\">\n",
      "<span class=\"uptime-medium\">49%</span>\n",
      "<span> (457)</span>\n",
      "</td>, <td align=\"left\">\n",
      "<img alt=\"us\" class=\"flag flag-us inline-block align-middle\" src=\"/assets/images/blank.gif\"/>\n",
      "<a href=\"/proxy-server-list/country-us/\" title=\"Proxies from United States\">United States\n",
      "\n",
      "                                            <span class=\"proxy-city\"> - Colorado Springs </span>\n",
      "</a>\n",
      "</td>, <td align=\"left\">\n",
      "<span class=\"proxy_transparent font-weight-bold smallish\">Transparent</span>\n",
      "</td>]\n",
      "12.151.56.30\n",
      "31\n",
      "[<td align=\"left\">\n",
      "<abbr title=\"ec2-3-230-91-35.compute-1.amazonaws.com\">\n",
      "<script>document.write(\"3.2\" + \"30.\" + \"91.\" + \"35\");</script>\n",
      "</abbr>\n",
      "</td>, <td align=\"left\">\n",
      "<a href=\"/proxy-server-list/port-8080/\" title=\"Port 8080 proxies\">8080</a>\n",
      "</td>, <td align=\"left\">\n",
      "<time class=\"icon icon-check timeago\" datetime=\"2022-04-21 14:01:12Z\"></time>\n",
      "</td>, <td align=\"left\">\n",
      "<div class=\"progress-bar\" data-value=\"1.7895825\" title=\"271\"></div>\n",
      "<small>271 ms</small>\n",
      "</td>, <td class=\"text-center text-sm\">\n",
      "<span class=\"uptime-low\">26%</span>\n",
      "<span> (91)</span>\n",
      "</td>, <td align=\"left\">\n",
      "<img alt=\"us\" class=\"flag flag-us inline-block align-middle\" src=\"/assets/images/blank.gif\"/>\n",
      "<a href=\"/proxy-server-list/country-us/\" title=\"Proxies from United States\">United States\n",
      "\n",
      "                                            <span class=\"proxy-city\"> - Ashburn </span>\n",
      "</a>\n",
      "</td>, <td align=\"left\">\n",
      "<span class=\"proxy_anonymous font-weight-bold smallish\">Anonymous</span>\n",
      "</td>]\n",
      "3.230.91.35\n",
      "32\n",
      "[<td align=\"left\">\n",
      "<script>document.write(\"47.\" + \"252\" + \".82\" + \".13\" + \"5\");</script>\n",
      "</td>, <td align=\"left\">\n",
      "<a href=\"/proxy-server-list/port-8080/\" title=\"Port 8080 proxies\">8080</a>\n",
      "</td>, <td align=\"left\">\n",
      "<time class=\"icon icon-check timeago\" datetime=\"2022-04-21 13:36:29Z\"></time>\n",
      "</td>, <td align=\"left\">\n",
      "<div class=\"progress-bar\" data-value=\"0\" title=\"181\"></div>\n",
      "<small>181 ms</small>\n",
      "</td>, <td class=\"text-center text-sm\">\n",
      "<span class=\"uptime-low\">36%</span>\n",
      "<span> (46)</span>\n",
      "</td>, <td align=\"left\">\n",
      "<img alt=\"us\" class=\"flag flag-us inline-block align-middle\" src=\"/assets/images/blank.gif\"/>\n",
      "<a href=\"/proxy-server-list/country-us/\" title=\"Proxies from United States\">United States\n",
      "\n",
      "                    \n",
      "                </a>\n",
      "</td>, <td align=\"left\">\n",
      "<span class=\"proxy_elite font-weight-bold smallish\">Elite</span>\n",
      "</td>]\n",
      "47.252.82.135\n",
      "33\n",
      "[<td align=\"left\">\n",
      "<abbr title=\"208.72.154.111.vultrusercontent.com\">\n",
      "<script>document.write(\"208\" + \".72\" + \".15\" + \"4.1\" + \"11\");</script>\n",
      "</abbr>\n",
      "</td>, <td align=\"left\">\n",
      "                                    8888\n",
      "                            </td>, <td align=\"left\">\n",
      "<time class=\"icon icon-check timeago\" datetime=\"2022-04-21 13:36:02Z\"></time>\n",
      "</td>, <td align=\"left\">\n",
      "<div class=\"progress-bar\" data-value=\"73.385325\" title=\"3135\"></div>\n",
      "<small>3135 ms</small>\n",
      "</td>, <td class=\"text-center text-sm\">\n",
      "<span class=\"uptime-low\">19%</span>\n",
      "<span> (236)</span>\n",
      "</td>, <td align=\"left\">\n",
      "<img alt=\"us\" class=\"flag flag-us inline-block align-middle\" src=\"/assets/images/blank.gif\"/>\n",
      "<a href=\"/proxy-server-list/country-us/\" title=\"Proxies from United States\">United States\n",
      "\n",
      "                                            <span class=\"proxy-city\"> - Philadelphia </span>\n",
      "</a>\n",
      "</td>, <td align=\"left\">\n",
      "<span class=\"proxy_transparent font-weight-bold smallish\">Transparent</span>\n",
      "</td>]\n",
      "208.72.154.111\n",
      "34\n",
      "[<td align=\"left\">\n",
      "<script>document.write(\"192\" + \".15\" + \"5.1\" + \"07.\" + \"59\");</script>\n",
      "</td>, <td align=\"left\">\n",
      "<a href=\"/proxy-server-list/port-1080/\" title=\"Port 1080 proxies\">1080</a>\n",
      "</td>, <td align=\"left\">\n",
      "<time class=\"icon icon-check timeago\" datetime=\"2022-04-21 13:35:43Z\"></time>\n",
      "</td>, <td align=\"left\">\n",
      "<div class=\"progress-bar\" data-value=\"77.325\" title=\"3293\"></div>\n",
      "<small>3293 ms</small>\n",
      "</td>, <td class=\"text-center text-sm\">\n",
      "<span class=\"uptime-low\">2%</span>\n",
      "<span> (44)</span>\n",
      "</td>, <td align=\"left\">\n",
      "<img alt=\"us\" class=\"flag flag-us inline-block align-middle\" src=\"/assets/images/blank.gif\"/>\n",
      "<a href=\"/proxy-server-list/country-us/\" title=\"Proxies from United States\">United States\n",
      "\n",
      "                                            <span class=\"proxy-city\"> - Miami </span>\n",
      "</a>\n",
      "</td>, <td align=\"left\">\n",
      "<span class=\"proxy_elite font-weight-bold smallish\">Elite</span>\n",
      "</td>]\n",
      "192.155.107.59\n",
      "35\n",
      "[<td align=\"left\">\n",
      "<script>document.write(\"154\" + \".85\" + \".35\" + \".23\" + \"5\");</script>\n",
      "</td>, <td align=\"left\">\n",
      "                                    8888\n",
      "                            </td>, <td align=\"left\">\n",
      "<time class=\"icon icon-check timeago\" datetime=\"2022-04-21 13:34:48Z\"></time>\n",
      "</td>, <td align=\"left\">\n",
      "<div class=\"progress-bar\" data-value=\"16.7791675\" title=\"871\"></div>\n",
      "<small>871 ms</small>\n",
      "</td>, <td class=\"text-center text-sm\">\n",
      "<span class=\"uptime-low\">21%</span>\n",
      "<span> (28)</span>\n",
      "</td>, <td align=\"left\">\n",
      "<img alt=\"us\" class=\"flag flag-us inline-block align-middle\" src=\"/assets/images/blank.gif\"/>\n",
      "<a href=\"/proxy-server-list/country-us/\" title=\"Proxies from United States\">United States\n",
      "\n",
      "                                            <span class=\"proxy-city\"> - Los Angeles </span>\n",
      "</a>\n",
      "</td>, <td align=\"left\">\n",
      "<span class=\"proxy_elite font-weight-bold smallish\">Elite</span>\n",
      "</td>]\n",
      "154.85.35.235\n",
      "[{'ip': '107.151.182.247', 'port': '', 'country': 'UnitedStates'}, {'ip': '47.89.153.213', 'port': '', 'country': 'UnitedStates'}, {'ip': '173.196.205.170', 'port': '', 'country': 'UnitedStates-SantaAna'}, {'ip': '50.235.149.74', 'port': '', 'country': 'UnitedStates-Seattle'}, {'ip': '104.192.202.11', 'port': '', 'country': 'UnitedStates-St.George'}, {'ip': '67.212.186.101', 'port': '', 'country': 'UnitedStates'}, {'ip': '216.169.73.65', 'port': '34679', 'country': 'UnitedStates-Torrey'}, {'ip': '138.68.235.51', 'port': '', 'country': 'UnitedStates-SantaClara'}, {'ip': '161.35.4.201', 'port': '', 'country': 'UnitedStates-NorthBergen'}, {'ip': '3.211.17.212', 'port': '', 'country': 'UnitedStates-Ashburn'}, {'ip': '72.47.152.224', 'port': '55443', 'country': 'UnitedStates-Forney'}, {'ip': '132.145.195.93', 'port': '', 'country': 'UnitedStates-Ashburn'}, {'ip': '47.88.7.115', 'port': '3129', 'country': 'UnitedStates-SanMateo'}, {'ip': '3.217.161.14', 'port': '', 'country': 'UnitedStates-Ashburn'}, {'ip': '204.16.1.169', 'port': '82', 'country': 'UnitedStates'}, {'ip': '52.168.34.113', 'port': '', 'country': 'UnitedStates-Washington'}, {'ip': '159.65.69.186', 'port': '9300', 'country': 'UnitedStates-SantaClara'}, {'ip': '20.47.108.204', 'port': '8888', 'country': 'UnitedStates-Washington'}, {'ip': '64.227.62.123', 'port': '', 'country': 'UnitedStates-SantaClara'}, {'ip': '76.81.164.246', 'port': '', 'country': 'UnitedStates-GardenGrove'}, {'ip': '192.155.107.60', 'port': '', 'country': 'UnitedStates-Miami'}, {'ip': '54.80.246.241', 'port': '', 'country': 'UnitedStates-Ashburn'}, {'ip': '54.244.204.46', 'port': '', 'country': 'UnitedStates-Boardman'}, {'ip': '23.225.64.59', 'port': '1089', 'country': 'UnitedStates'}, {'ip': '186.233.186.60', 'port': '', 'country': 'UnitedStates-Chicago'}, {'ip': '63.161.104.189', 'port': '', 'country': 'UnitedStates'}, {'ip': '40.136.41.6', 'port': '', 'country': 'UnitedStates-Lexington'}, {'ip': '66.211.155.34', 'port': '', 'country': 'UnitedStates-Berlin'}, {'ip': '74.205.128.200', 'port': '', 'country': 'UnitedStates-Chattanooga'}, {'ip': '12.151.56.30', 'port': '', 'country': 'UnitedStates-ColoradoSprings'}, {'ip': '3.230.91.35', 'port': '', 'country': 'UnitedStates-Ashburn'}, {'ip': '47.252.82.135', 'port': '', 'country': 'UnitedStates'}, {'ip': '208.72.154.111', 'port': '8888', 'country': 'UnitedStates-Philadelphia'}, {'ip': '192.155.107.59', 'port': '', 'country': 'UnitedStates-Miami'}, {'ip': '154.85.35.235', 'port': '8888', 'country': 'UnitedStates-LosAngeles'}]\n"
     ]
    }
   ],
   "source": [
    "from bs4 import BeautifulSoup\n",
    "import requests\n",
    "u=list()\n",
    "country_code=\"us\"\n",
    "url=\"https://www.proxynova.com/proxy-server-list/country-\"+country_code+\"/\"\n",
    "soup = BeautifulSoup(requests.get(url).text,\"html.parser\")\n",
    "allproxy = soup.find(\"tbody\").find_all(\"tr\")\n",
    "count = 0\n",
    "for proxy in allproxy:\n",
    "    print(count)\n",
    "    count+=1\n",
    "    foo = proxy.find_all(\"td\")   \n",
    "    print(foo)\n",
    "    try:\n",
    "        l={}\n",
    "        l[\"ip\"]=foo[0].find(\"script\").contents[0].replace(\"\\n\",\"\").replace(\")\",\"\")\n",
    "        l[\"ip\"]=l[\"ip\"].replace(\"document.write(\",\"\").replace(\"\\’\",\"\").replace(\";\",\"\").replace(\"\\\"\",\"\").replace(\" + \",\"\")\n",
    "        print(l['ip'])\n",
    "        l[\"port\"]=foo[1].contents[0].replace(\"\\n\",\"\").replace(\" \",\"\")\n",
    "        l[\"country\"]=foo[5].find(\"a\").text.replace(\"\\n\",\"\").replace(\" \",\"\")\n",
    "        u.append(l)\n",
    "    except Exception as ex:\n",
    "        print(ex)\n",
    "print(u)\n"
   ]
  },
  {
   "cell_type": "code",
   "execution_count": 3,
   "metadata": {},
   "outputs": [
    {
     "name": "stdout",
     "output_type": "stream",
     "text": [
      "417\n"
     ]
    }
   ],
   "source": [
    "places_raw = '''auburn\n",
    "bham\n",
    "dothan\n",
    "shoals\n",
    "gadsden\n",
    "huntsville\n",
    "mobile\n",
    "montgomery\n",
    "tuscaloosa\n",
    "anchorage\n",
    "fairbanks\n",
    "kenai\n",
    "juneau\n",
    "flagstaff\n",
    "mohave\n",
    "phoenix\n",
    "prescott\n",
    "showlow\n",
    "sierravista\n",
    "tucson\n",
    "yuma\n",
    "fayar\n",
    "fortsmith\n",
    "jonesboro\n",
    "littlerock\n",
    "texarkana\n",
    "bakersfield\n",
    "chico\n",
    "fresno\n",
    "goldcountry\n",
    "hanford\n",
    "humboldt\n",
    "imperial\n",
    "inlandempire\n",
    "losangeles\n",
    "mendocino\n",
    "merced\n",
    "modesto\n",
    "monterey\n",
    "orangecounty\n",
    "palmsprings\n",
    "redding\n",
    "sacramento\n",
    "sandiego\n",
    "sfbay\n",
    "slo\n",
    "santabarbara\n",
    "santamaria\n",
    "siskiyou\n",
    "stockton\n",
    "susanville\n",
    "ventura\n",
    "visalia\n",
    "yubasutter\n",
    "boulder\n",
    "cosprings\n",
    "denver\n",
    "eastco\n",
    "fortcollins\n",
    "rockies\n",
    "pueblo\n",
    "westslope\n",
    "newlondon\n",
    "hartford\n",
    "newhaven\n",
    "nwct\n",
    "delaware\n",
    "washingtondc\n",
    "miami\n",
    "daytona\n",
    "keys\n",
    "fortlauderdale\n",
    "fortmyers\n",
    "gainesville\n",
    "cfl\n",
    "jacksonville\n",
    "lakeland\n",
    "miami\n",
    "lakecity\n",
    "ocala\n",
    "okaloosa\n",
    "orlando\n",
    "panamacity\n",
    "pensacola\n",
    "sarasota\n",
    "miami\n",
    "spacecoast\n",
    "staugustine\n",
    "tallahassee\n",
    "tampa\n",
    "treasure\n",
    "miami\n",
    "albanyga\n",
    "athensga\n",
    "atlanta\n",
    "augusta\n",
    "brunswick\n",
    "columbusga\n",
    "macon\n",
    "nwga\n",
    "savannah\n",
    "statesboro\n",
    "valdosta\n",
    "honolulu\n",
    "boise\n",
    "eastidaho\n",
    "lewiston\n",
    "twinfalls\n",
    "bn\n",
    "chambana\n",
    "chicago\n",
    "decatur\n",
    "lasalle\n",
    "mattoon\n",
    "peoria\n",
    "rockford\n",
    "carbondale\n",
    "springfieldil\n",
    "quincy\n",
    "bloomington\n",
    "evansville\n",
    "fortwayne\n",
    "indianapolis\n",
    "kokomo\n",
    "tippecanoe\n",
    "muncie\n",
    "richmondin\n",
    "southbend\n",
    "terrehaute\n",
    "ames\n",
    "cedarrapids\n",
    "desmoines\n",
    "dubuque\n",
    "fortdodge\n",
    "iowacity\n",
    "masoncity\n",
    "quadcities\n",
    "siouxcity\n",
    "ottumwa\n",
    "waterloo\n",
    "lawrence\n",
    "ksu\n",
    "nwks\n",
    "salina\n",
    "seks\n",
    "swks\n",
    "topeka\n",
    "wichita\n",
    "bgky\n",
    "eastky\n",
    "lexington\n",
    "louisville\n",
    "owensboro\n",
    "westky\n",
    "batonrouge\n",
    "cenla\n",
    "houma\n",
    "lafayette\n",
    "lakecharles\n",
    "monroe\n",
    "neworleans\n",
    "shreveport\n",
    "maine\n",
    "annapolis\n",
    "baltimore\n",
    "easternshore\n",
    "frederick\n",
    "smd\n",
    "westmd\n",
    "boston\n",
    "capecod\n",
    "southcoast\n",
    "westernmass\n",
    "worcester\n",
    "annarbor\n",
    "battlecreek\n",
    "centralmich\n",
    "detroit\n",
    "flint\n",
    "grandrapids\n",
    "holland\n",
    "jxn\n",
    "kalamazoo\n",
    "lansing\n",
    "monroemi\n",
    "muskegon\n",
    "nmi\n",
    "porthuron\n",
    "saginaw\n",
    "swmi\n",
    "thumb\n",
    "up\n",
    "bemidji\n",
    "brainerd\n",
    "duluth\n",
    "mankato\n",
    "minneapolis\n",
    "rmn\n",
    "marshall\n",
    "stcloud\n",
    "gulfport\n",
    "hattiesburg\n",
    "jackson\n",
    "meridian\n",
    "northmiss\n",
    "natchez\n",
    "columbiamo\n",
    "joplin\n",
    "kansascity\n",
    "kirksville\n",
    "loz\n",
    "semo\n",
    "springfield\n",
    "stjoseph\n",
    "stlouis\n",
    "billings\n",
    "bozeman\n",
    "butte\n",
    "greatfalls\n",
    "helena\n",
    "kalispell\n",
    "missoula\n",
    "montana\n",
    "grandisland\n",
    "lincoln\n",
    "northplatte\n",
    "omaha\n",
    "scottsbluff\n",
    "elko\n",
    "lasvegas\n",
    "reno\n",
    "nh\n",
    "cnj\n",
    "jerseyshore\n",
    "newjersey\n",
    "southjersey\n",
    "albuquerque\n",
    "clovis\n",
    "farmington\n",
    "lascruces\n",
    "roswell\n",
    "santafe\n",
    "albany\n",
    "binghamton\n",
    "buffalo\n",
    "catskills\n",
    "chautauqua\n",
    "elmira\n",
    "fingerlakes\n",
    "glensfalls\n",
    "hudsonvalley\n",
    "ithaca\n",
    "longisland\n",
    "newyork\n",
    "oneonta\n",
    "plattsburgh\n",
    "potsdam\n",
    "rochester\n",
    "syracuse\n",
    "twintiers\n",
    "utica\n",
    "watertown\n",
    "asheville\n",
    "boone\n",
    "charlotte\n",
    "eastnc\n",
    "fayetteville\n",
    "greensboro\n",
    "hickory\n",
    "onslow\n",
    "outerbanks\n",
    "raleigh\n",
    "wilmington\n",
    "winstonsalem\n",
    "bismarck\n",
    "fargo\n",
    "grandforks\n",
    "nd\n",
    "akroncanton\n",
    "ashtabula\n",
    "athensohio\n",
    "chillicothe\n",
    "cincinnati\n",
    "cleveland\n",
    "columbus\n",
    "dayton\n",
    "limaohio\n",
    "mansfield\n",
    "sandusky\n",
    "toledo\n",
    "tuscarawas\n",
    "youngstown\n",
    "zanesville\n",
    "lawton\n",
    "enid\n",
    "oklahomacity\n",
    "stillwater\n",
    "tulsa\n",
    "bend\n",
    "corvallis\n",
    "eastoregon\n",
    "eugene\n",
    "klamath\n",
    "medford\n",
    "oregoncoast\n",
    "portland\n",
    "roseburg\n",
    "salem\n",
    "altoona\n",
    "chambersburg\n",
    "erie\n",
    "harrisburg\n",
    "lancaster\n",
    "allentown\n",
    "meadville\n",
    "philadelphia\n",
    "pittsburgh\n",
    "poconos\n",
    "reading\n",
    "scranton\n",
    "pennstate\n",
    "williamsport\n",
    "york\n",
    "providence\n",
    "charleston\n",
    "columbia\n",
    "florencesc\n",
    "greenville\n",
    "hiltonhead\n",
    "myrtlebeach\n",
    "nesd\n",
    "csd\n",
    "rapidcity\n",
    "siouxfalls\n",
    "sd\n",
    "chattanooga\n",
    "clarksville\n",
    "cookeville\n",
    "jacksontn\n",
    "knoxville\n",
    "memphis\n",
    "nashville\n",
    "tricities\n",
    "abilene\n",
    "amarillo\n",
    "austin\n",
    "beaumont\n",
    "brownsville\n",
    "collegestation\n",
    "corpuschristi\n",
    "dallas\n",
    "nacogdoches\n",
    "delrio\n",
    "elpaso\n",
    "galveston\n",
    "houston\n",
    "killeen\n",
    "laredo\n",
    "lubbock\n",
    "mcallen\n",
    "odessa\n",
    "sanangelo\n",
    "sanantonio\n",
    "sanmarcos\n",
    "bigbend\n",
    "texoma\n",
    "easttexas\n",
    "victoriatx\n",
    "waco\n",
    "wichitafalls\n",
    "logan\n",
    "ogden\n",
    "provo\n",
    "saltlakecity\n",
    "stgeorge\n",
    "burlington\n",
    "charlottesville\n",
    "danville\n",
    "fredericksburg\n",
    "norfolk\n",
    "harrisonburg\n",
    "lynchburg\n",
    "blacksburg\n",
    "richmond\n",
    "roanoke\n",
    "swva\n",
    "winchester\n",
    "bellingham\n",
    "kpr\n",
    "moseslake\n",
    "olympic\n",
    "pullman\n",
    "seattle\n",
    "skagit\n",
    "spokane\n",
    "wenatchee\n",
    "yakima\n",
    "charlestonwv\n",
    "martinsburg\n",
    "huntington\n",
    "morgantown\n",
    "wheeling\n",
    "parkersburg\n",
    "swv\n",
    "wv\n",
    "appleton\n",
    "eauclaire\n",
    "greenbay\n",
    "janesville\n",
    "racine\n",
    "lacrosse\n",
    "madison\n",
    "milwaukee\n",
    "northernwi\n",
    "sheboygan\n",
    "wausau\n",
    "wyoming'''\n",
    "\n",
    "places = [i for i in places_raw.split('\\n')]\n",
    "print(len(places))\n",
    "places\n",
    "\n",
    "cities=['newyork', 'boston', 'losangeles', 'miami', 'seattle', 'saltlakecity', 'houston', 'dallas', 'memphis', \n",
    "'atlanta', 'austin', 'cleveland', 'charlotte', 'longisland', 'newjersey', 'lasvegas', 'minneapolis', 'chicago',\n",
    "'orlando', 'sfbay']\n"
   ]
  },
  {
   "cell_type": "code",
   "execution_count": 4,
   "metadata": {
    "scrolled": true
   },
   "outputs": [
    {
     "name": "stdout",
     "output_type": "stream",
     "text": [
      "Success\n",
      "Success\n",
      "Success\n",
      "Success\n",
      "Success\n",
      "Success\n",
      "Success\n",
      "Success\n",
      "Success\n",
      "Success\n",
      "Success\n",
      "Success\n",
      "Success\n",
      "Success\n",
      "Success\n",
      "Success\n",
      "Success\n",
      "Success\n",
      "Success\n",
      "Success\n",
      "Success\n",
      "Success\n",
      "Success\n",
      "Success\n",
      "Success\n",
      "Success\n",
      "Success\n",
      "Success\n",
      "Success\n",
      "Success\n",
      "Success\n",
      "Success\n",
      "Success\n",
      "Success\n",
      "Success\n",
      "Success\n",
      "Success\n",
      "Success\n",
      "Success\n",
      "Success\n",
      "Success\n",
      "Success\n",
      "Success\n",
      "Success\n",
      "Success\n",
      "Success\n",
      "Success\n",
      "Success\n",
      "Success\n",
      "Success\n",
      "Success\n",
      "Success\n",
      "Success\n",
      "Success\n",
      "Success\n",
      "Success\n",
      "Success\n",
      "Success\n",
      "Success\n",
      "Success\n",
      "Success\n",
      "Success\n",
      "Success\n",
      "Success\n",
      "Success\n",
      "Success\n",
      "Success\n",
      "Success\n",
      "Success\n",
      "Success\n",
      "Success\n",
      "Success\n",
      "Success\n",
      "Success\n",
      "Success\n",
      "Success\n",
      "Success\n",
      "Success\n",
      "Success\n",
      "Success\n",
      "Success\n",
      "Success\n",
      "Success\n",
      "Success\n",
      "Success\n",
      "Success\n",
      "Success\n",
      "Success\n",
      "Success\n",
      "Success\n",
      "Success\n",
      "Success\n",
      "Success\n",
      "Success\n",
      "Success\n",
      "Success\n",
      "Success\n",
      "Success\n",
      "Success\n",
      "Success\n",
      "Success\n",
      "Success\n",
      "Success\n",
      "Success\n",
      "Success\n",
      "Success\n",
      "Success\n",
      "Success\n",
      "Success\n",
      "Success\n",
      "Success\n",
      "Success\n",
      "Success\n",
      "Success\n",
      "Success\n",
      "Success\n",
      "Success\n",
      "Success\n",
      "Success\n",
      "Success\n",
      "Success\n",
      "Success\n",
      "Success\n",
      "Success\n",
      "Success\n",
      "Success\n",
      "Success\n",
      "Success\n",
      "Success\n",
      "Success\n",
      "Success\n",
      "Success\n",
      "Success\n",
      "Success\n",
      "Success\n",
      "Success\n",
      "Success\n",
      "Success\n",
      "Success\n",
      "Success\n",
      "Success\n",
      "Success\n",
      "Success\n",
      "Success\n",
      "Success\n",
      "Success\n",
      "Success\n",
      "Success\n",
      "Success\n",
      "Success\n",
      "Success\n",
      "Success\n",
      "Success\n",
      "Success\n",
      "Success\n",
      "Success\n",
      "Success\n",
      "Success\n",
      "Success\n",
      "Success\n",
      "Success\n",
      "Success\n",
      "Success\n",
      "Success\n",
      "Success\n",
      "Success\n",
      "Success\n",
      "Success\n",
      "Success\n",
      "Success\n",
      "Success\n",
      "Success\n",
      "Success\n",
      "Success\n",
      "Success\n",
      "Success\n",
      "Success\n",
      "Success\n",
      "Success\n",
      "Success\n",
      "Success\n",
      "Success\n",
      "Success\n",
      "Success\n",
      "Success\n",
      "Success\n",
      "Success\n",
      "Success\n",
      "Success\n",
      "Success\n",
      "Success\n",
      "Success\n",
      "Success\n",
      "Success\n",
      "Success\n",
      "Success\n",
      "Success\n",
      "Success\n",
      "Success\n",
      "Success\n",
      "Success\n",
      "Success\n",
      "Success\n",
      "Success\n",
      "Success\n",
      "Success\n",
      "Success\n",
      "Success\n",
      "Success\n",
      "Success\n",
      "Success\n",
      "Success\n",
      "Success\n",
      "Success\n",
      "Success\n",
      "Success\n",
      "Success\n",
      "Success\n",
      "Success\n",
      "Success\n",
      "Success\n",
      "Success\n",
      "Success\n",
      "Success\n",
      "Success\n",
      "Success\n",
      "Success\n",
      "Success\n",
      "Success\n",
      "Success\n",
      "Success\n",
      "Success\n",
      "Success\n",
      "Success\n",
      "Success\n",
      "Success\n",
      "Success\n",
      "Success\n",
      "Success\n",
      "Success\n",
      "Success\n",
      "Success\n",
      "Success\n",
      "Success\n",
      "Success\n",
      "Success\n",
      "Success\n",
      "Success\n",
      "Success\n",
      "Success\n",
      "Success\n",
      "Success\n",
      "Success\n",
      "Success\n",
      "Success\n",
      "Success\n",
      "Success\n",
      "Success\n",
      "Success\n",
      "Success\n",
      "Success\n",
      "Success\n",
      "Success\n",
      "Success\n",
      "Success\n",
      "Success\n",
      "Success\n",
      "Success\n",
      "Success\n",
      "Success\n",
      "Success\n",
      "Success\n",
      "Success\n",
      "Success\n",
      "Success\n",
      "Success\n",
      "Success\n",
      "Success\n",
      "Success\n",
      "Success\n",
      "Success\n",
      "Success\n",
      "Success\n",
      "Success\n",
      "Success\n",
      "Success\n",
      "Success\n",
      "Success\n",
      "Success\n",
      "Success\n",
      "Success\n",
      "Success\n",
      "Success\n",
      "Success\n",
      "Success\n",
      "Success\n",
      "Success\n",
      "Success\n",
      "Success\n",
      "Success\n",
      "Success\n",
      "Success\n",
      "Success\n",
      "Success\n",
      "Success\n",
      "Success\n",
      "Success\n",
      "Success\n",
      "Success\n",
      "Success\n",
      "Success\n",
      "Success\n",
      "Success\n",
      "Success\n",
      "Success\n",
      "Success\n",
      "Success\n",
      "Success\n",
      "Success\n",
      "Success\n",
      "Success\n",
      "Success\n",
      "Success\n",
      "Success\n",
      "Success\n",
      "Success\n",
      "Success\n",
      "Success\n",
      "Success\n",
      "Success\n",
      "Success\n",
      "Success\n",
      "Success\n",
      "Success\n",
      "Success\n",
      "Success\n",
      "Success\n",
      "Success\n",
      "Success\n",
      "Success\n",
      "Success\n",
      "Success\n",
      "Success\n",
      "Success\n",
      "Success\n",
      "Success\n",
      "Success\n",
      "Success\n",
      "Success\n",
      "Success\n",
      "Success\n",
      "Success\n",
      "Success\n",
      "Success\n"
     ]
    },
    {
     "ename": "KeyboardInterrupt",
     "evalue": "",
     "output_type": "error",
     "traceback": [
      "\u001b[1;31m---------------------------------------------------------------------------\u001b[0m",
      "\u001b[1;31mKeyboardInterrupt\u001b[0m                         Traceback (most recent call last)",
      "\u001b[1;32m~\\AppData\\Local\\Temp/ipykernel_3912/1201514393.py\u001b[0m in \u001b[0;36m<module>\u001b[1;34m\u001b[0m\n\u001b[0;32m     17\u001b[0m         \u001b[0msession\u001b[0m\u001b[1;33m.\u001b[0m\u001b[0mmount\u001b[0m\u001b[1;33m(\u001b[0m\u001b[1;34m'https://'\u001b[0m\u001b[1;33m,\u001b[0m \u001b[0madapter\u001b[0m\u001b[1;33m)\u001b[0m\u001b[1;33m\u001b[0m\u001b[1;33m\u001b[0m\u001b[0m\n\u001b[0;32m     18\u001b[0m \u001b[1;33m\u001b[0m\u001b[0m\n\u001b[1;32m---> 19\u001b[1;33m         \u001b[0mresponse\u001b[0m \u001b[1;33m=\u001b[0m \u001b[0msession\u001b[0m\u001b[1;33m.\u001b[0m\u001b[0mget\u001b[0m\u001b[1;33m(\u001b[0m\u001b[0murl\u001b[0m\u001b[1;33m)\u001b[0m\u001b[1;33m\u001b[0m\u001b[1;33m\u001b[0m\u001b[0m\n\u001b[0m\u001b[0;32m     20\u001b[0m         \u001b[1;31m#response = requests.get(url, headers=headers,proxies = proxies)\u001b[0m\u001b[1;33m\u001b[0m\u001b[1;33m\u001b[0m\u001b[1;33m\u001b[0m\u001b[0m\n\u001b[0;32m     21\u001b[0m         \u001b[1;32mif\u001b[0m \u001b[0mresponse\u001b[0m\u001b[1;33m.\u001b[0m\u001b[0mstatus_code\u001b[0m \u001b[1;33m==\u001b[0m \u001b[1;36m200\u001b[0m\u001b[1;33m:\u001b[0m\u001b[1;33m\u001b[0m\u001b[1;33m\u001b[0m\u001b[0m\n",
      "\u001b[1;32mC:\\ProgramData\\Anaconda3\\lib\\site-packages\\requests\\sessions.py\u001b[0m in \u001b[0;36mget\u001b[1;34m(self, url, **kwargs)\u001b[0m\n\u001b[0;32m    540\u001b[0m \u001b[1;33m\u001b[0m\u001b[0m\n\u001b[0;32m    541\u001b[0m         \u001b[0mkwargs\u001b[0m\u001b[1;33m.\u001b[0m\u001b[0msetdefault\u001b[0m\u001b[1;33m(\u001b[0m\u001b[1;34m'allow_redirects'\u001b[0m\u001b[1;33m,\u001b[0m \u001b[1;32mTrue\u001b[0m\u001b[1;33m)\u001b[0m\u001b[1;33m\u001b[0m\u001b[1;33m\u001b[0m\u001b[0m\n\u001b[1;32m--> 542\u001b[1;33m         \u001b[1;32mreturn\u001b[0m \u001b[0mself\u001b[0m\u001b[1;33m.\u001b[0m\u001b[0mrequest\u001b[0m\u001b[1;33m(\u001b[0m\u001b[1;34m'GET'\u001b[0m\u001b[1;33m,\u001b[0m \u001b[0murl\u001b[0m\u001b[1;33m,\u001b[0m \u001b[1;33m**\u001b[0m\u001b[0mkwargs\u001b[0m\u001b[1;33m)\u001b[0m\u001b[1;33m\u001b[0m\u001b[1;33m\u001b[0m\u001b[0m\n\u001b[0m\u001b[0;32m    543\u001b[0m \u001b[1;33m\u001b[0m\u001b[0m\n\u001b[0;32m    544\u001b[0m     \u001b[1;32mdef\u001b[0m \u001b[0moptions\u001b[0m\u001b[1;33m(\u001b[0m\u001b[0mself\u001b[0m\u001b[1;33m,\u001b[0m \u001b[0murl\u001b[0m\u001b[1;33m,\u001b[0m \u001b[1;33m**\u001b[0m\u001b[0mkwargs\u001b[0m\u001b[1;33m)\u001b[0m\u001b[1;33m:\u001b[0m\u001b[1;33m\u001b[0m\u001b[1;33m\u001b[0m\u001b[0m\n",
      "\u001b[1;32mC:\\ProgramData\\Anaconda3\\lib\\site-packages\\requests\\sessions.py\u001b[0m in \u001b[0;36mrequest\u001b[1;34m(self, method, url, params, data, headers, cookies, files, auth, timeout, allow_redirects, proxies, hooks, stream, verify, cert, json)\u001b[0m\n\u001b[0;32m    527\u001b[0m         }\n\u001b[0;32m    528\u001b[0m         \u001b[0msend_kwargs\u001b[0m\u001b[1;33m.\u001b[0m\u001b[0mupdate\u001b[0m\u001b[1;33m(\u001b[0m\u001b[0msettings\u001b[0m\u001b[1;33m)\u001b[0m\u001b[1;33m\u001b[0m\u001b[1;33m\u001b[0m\u001b[0m\n\u001b[1;32m--> 529\u001b[1;33m         \u001b[0mresp\u001b[0m \u001b[1;33m=\u001b[0m \u001b[0mself\u001b[0m\u001b[1;33m.\u001b[0m\u001b[0msend\u001b[0m\u001b[1;33m(\u001b[0m\u001b[0mprep\u001b[0m\u001b[1;33m,\u001b[0m \u001b[1;33m**\u001b[0m\u001b[0msend_kwargs\u001b[0m\u001b[1;33m)\u001b[0m\u001b[1;33m\u001b[0m\u001b[1;33m\u001b[0m\u001b[0m\n\u001b[0m\u001b[0;32m    530\u001b[0m \u001b[1;33m\u001b[0m\u001b[0m\n\u001b[0;32m    531\u001b[0m         \u001b[1;32mreturn\u001b[0m \u001b[0mresp\u001b[0m\u001b[1;33m\u001b[0m\u001b[1;33m\u001b[0m\u001b[0m\n",
      "\u001b[1;32mC:\\ProgramData\\Anaconda3\\lib\\site-packages\\requests\\sessions.py\u001b[0m in \u001b[0;36msend\u001b[1;34m(self, request, **kwargs)\u001b[0m\n\u001b[0;32m    643\u001b[0m \u001b[1;33m\u001b[0m\u001b[0m\n\u001b[0;32m    644\u001b[0m         \u001b[1;31m# Send the request\u001b[0m\u001b[1;33m\u001b[0m\u001b[1;33m\u001b[0m\u001b[1;33m\u001b[0m\u001b[0m\n\u001b[1;32m--> 645\u001b[1;33m         \u001b[0mr\u001b[0m \u001b[1;33m=\u001b[0m \u001b[0madapter\u001b[0m\u001b[1;33m.\u001b[0m\u001b[0msend\u001b[0m\u001b[1;33m(\u001b[0m\u001b[0mrequest\u001b[0m\u001b[1;33m,\u001b[0m \u001b[1;33m**\u001b[0m\u001b[0mkwargs\u001b[0m\u001b[1;33m)\u001b[0m\u001b[1;33m\u001b[0m\u001b[1;33m\u001b[0m\u001b[0m\n\u001b[0m\u001b[0;32m    646\u001b[0m \u001b[1;33m\u001b[0m\u001b[0m\n\u001b[0;32m    647\u001b[0m         \u001b[1;31m# Total elapsed time of the request (approximately)\u001b[0m\u001b[1;33m\u001b[0m\u001b[1;33m\u001b[0m\u001b[1;33m\u001b[0m\u001b[0m\n",
      "\u001b[1;32mC:\\ProgramData\\Anaconda3\\lib\\site-packages\\requests\\adapters.py\u001b[0m in \u001b[0;36msend\u001b[1;34m(self, request, stream, timeout, verify, cert, proxies)\u001b[0m\n\u001b[0;32m    438\u001b[0m         \u001b[1;32mtry\u001b[0m\u001b[1;33m:\u001b[0m\u001b[1;33m\u001b[0m\u001b[1;33m\u001b[0m\u001b[0m\n\u001b[0;32m    439\u001b[0m             \u001b[1;32mif\u001b[0m \u001b[1;32mnot\u001b[0m \u001b[0mchunked\u001b[0m\u001b[1;33m:\u001b[0m\u001b[1;33m\u001b[0m\u001b[1;33m\u001b[0m\u001b[0m\n\u001b[1;32m--> 440\u001b[1;33m                 resp = conn.urlopen(\n\u001b[0m\u001b[0;32m    441\u001b[0m                     \u001b[0mmethod\u001b[0m\u001b[1;33m=\u001b[0m\u001b[0mrequest\u001b[0m\u001b[1;33m.\u001b[0m\u001b[0mmethod\u001b[0m\u001b[1;33m,\u001b[0m\u001b[1;33m\u001b[0m\u001b[1;33m\u001b[0m\u001b[0m\n\u001b[0;32m    442\u001b[0m                     \u001b[0murl\u001b[0m\u001b[1;33m=\u001b[0m\u001b[0murl\u001b[0m\u001b[1;33m,\u001b[0m\u001b[1;33m\u001b[0m\u001b[1;33m\u001b[0m\u001b[0m\n",
      "\u001b[1;32mC:\\ProgramData\\Anaconda3\\lib\\site-packages\\urllib3\\connectionpool.py\u001b[0m in \u001b[0;36murlopen\u001b[1;34m(self, method, url, body, headers, retries, redirect, assert_same_host, timeout, pool_timeout, release_conn, chunked, body_pos, **response_kw)\u001b[0m\n\u001b[0;32m    701\u001b[0m \u001b[1;33m\u001b[0m\u001b[0m\n\u001b[0;32m    702\u001b[0m             \u001b[1;31m# Make the request on the httplib connection object.\u001b[0m\u001b[1;33m\u001b[0m\u001b[1;33m\u001b[0m\u001b[1;33m\u001b[0m\u001b[0m\n\u001b[1;32m--> 703\u001b[1;33m             httplib_response = self._make_request(\n\u001b[0m\u001b[0;32m    704\u001b[0m                 \u001b[0mconn\u001b[0m\u001b[1;33m,\u001b[0m\u001b[1;33m\u001b[0m\u001b[1;33m\u001b[0m\u001b[0m\n\u001b[0;32m    705\u001b[0m                 \u001b[0mmethod\u001b[0m\u001b[1;33m,\u001b[0m\u001b[1;33m\u001b[0m\u001b[1;33m\u001b[0m\u001b[0m\n",
      "\u001b[1;32mC:\\ProgramData\\Anaconda3\\lib\\site-packages\\urllib3\\connectionpool.py\u001b[0m in \u001b[0;36m_make_request\u001b[1;34m(self, conn, method, url, timeout, chunked, **httplib_request_kw)\u001b[0m\n\u001b[0;32m    447\u001b[0m                     \u001b[1;31m# Python 3 (including for exceptions like SystemExit).\u001b[0m\u001b[1;33m\u001b[0m\u001b[1;33m\u001b[0m\u001b[1;33m\u001b[0m\u001b[0m\n\u001b[0;32m    448\u001b[0m                     \u001b[1;31m# Otherwise it looks like a bug in the code.\u001b[0m\u001b[1;33m\u001b[0m\u001b[1;33m\u001b[0m\u001b[1;33m\u001b[0m\u001b[0m\n\u001b[1;32m--> 449\u001b[1;33m                     \u001b[0msix\u001b[0m\u001b[1;33m.\u001b[0m\u001b[0mraise_from\u001b[0m\u001b[1;33m(\u001b[0m\u001b[0me\u001b[0m\u001b[1;33m,\u001b[0m \u001b[1;32mNone\u001b[0m\u001b[1;33m)\u001b[0m\u001b[1;33m\u001b[0m\u001b[1;33m\u001b[0m\u001b[0m\n\u001b[0m\u001b[0;32m    450\u001b[0m         \u001b[1;32mexcept\u001b[0m \u001b[1;33m(\u001b[0m\u001b[0mSocketTimeout\u001b[0m\u001b[1;33m,\u001b[0m \u001b[0mBaseSSLError\u001b[0m\u001b[1;33m,\u001b[0m \u001b[0mSocketError\u001b[0m\u001b[1;33m)\u001b[0m \u001b[1;32mas\u001b[0m \u001b[0me\u001b[0m\u001b[1;33m:\u001b[0m\u001b[1;33m\u001b[0m\u001b[1;33m\u001b[0m\u001b[0m\n\u001b[0;32m    451\u001b[0m             \u001b[0mself\u001b[0m\u001b[1;33m.\u001b[0m\u001b[0m_raise_timeout\u001b[0m\u001b[1;33m(\u001b[0m\u001b[0merr\u001b[0m\u001b[1;33m=\u001b[0m\u001b[0me\u001b[0m\u001b[1;33m,\u001b[0m \u001b[0murl\u001b[0m\u001b[1;33m=\u001b[0m\u001b[0murl\u001b[0m\u001b[1;33m,\u001b[0m \u001b[0mtimeout_value\u001b[0m\u001b[1;33m=\u001b[0m\u001b[0mread_timeout\u001b[0m\u001b[1;33m)\u001b[0m\u001b[1;33m\u001b[0m\u001b[1;33m\u001b[0m\u001b[0m\n",
      "\u001b[1;32mC:\\ProgramData\\Anaconda3\\lib\\site-packages\\urllib3\\packages\\six.py\u001b[0m in \u001b[0;36mraise_from\u001b[1;34m(value, from_value)\u001b[0m\n",
      "\u001b[1;32mC:\\ProgramData\\Anaconda3\\lib\\site-packages\\urllib3\\connectionpool.py\u001b[0m in \u001b[0;36m_make_request\u001b[1;34m(self, conn, method, url, timeout, chunked, **httplib_request_kw)\u001b[0m\n\u001b[0;32m    442\u001b[0m                 \u001b[1;31m# Python 3\u001b[0m\u001b[1;33m\u001b[0m\u001b[1;33m\u001b[0m\u001b[1;33m\u001b[0m\u001b[0m\n\u001b[0;32m    443\u001b[0m                 \u001b[1;32mtry\u001b[0m\u001b[1;33m:\u001b[0m\u001b[1;33m\u001b[0m\u001b[1;33m\u001b[0m\u001b[0m\n\u001b[1;32m--> 444\u001b[1;33m                     \u001b[0mhttplib_response\u001b[0m \u001b[1;33m=\u001b[0m \u001b[0mconn\u001b[0m\u001b[1;33m.\u001b[0m\u001b[0mgetresponse\u001b[0m\u001b[1;33m(\u001b[0m\u001b[1;33m)\u001b[0m\u001b[1;33m\u001b[0m\u001b[1;33m\u001b[0m\u001b[0m\n\u001b[0m\u001b[0;32m    445\u001b[0m                 \u001b[1;32mexcept\u001b[0m \u001b[0mBaseException\u001b[0m \u001b[1;32mas\u001b[0m \u001b[0me\u001b[0m\u001b[1;33m:\u001b[0m\u001b[1;33m\u001b[0m\u001b[1;33m\u001b[0m\u001b[0m\n\u001b[0;32m    446\u001b[0m                     \u001b[1;31m# Remove the TypeError from the exception chain in\u001b[0m\u001b[1;33m\u001b[0m\u001b[1;33m\u001b[0m\u001b[1;33m\u001b[0m\u001b[0m\n",
      "\u001b[1;32mC:\\ProgramData\\Anaconda3\\lib\\http\\client.py\u001b[0m in \u001b[0;36mgetresponse\u001b[1;34m(self)\u001b[0m\n\u001b[0;32m   1345\u001b[0m         \u001b[1;32mtry\u001b[0m\u001b[1;33m:\u001b[0m\u001b[1;33m\u001b[0m\u001b[1;33m\u001b[0m\u001b[0m\n\u001b[0;32m   1346\u001b[0m             \u001b[1;32mtry\u001b[0m\u001b[1;33m:\u001b[0m\u001b[1;33m\u001b[0m\u001b[1;33m\u001b[0m\u001b[0m\n\u001b[1;32m-> 1347\u001b[1;33m                 \u001b[0mresponse\u001b[0m\u001b[1;33m.\u001b[0m\u001b[0mbegin\u001b[0m\u001b[1;33m(\u001b[0m\u001b[1;33m)\u001b[0m\u001b[1;33m\u001b[0m\u001b[1;33m\u001b[0m\u001b[0m\n\u001b[0m\u001b[0;32m   1348\u001b[0m             \u001b[1;32mexcept\u001b[0m \u001b[0mConnectionError\u001b[0m\u001b[1;33m:\u001b[0m\u001b[1;33m\u001b[0m\u001b[1;33m\u001b[0m\u001b[0m\n\u001b[0;32m   1349\u001b[0m                 \u001b[0mself\u001b[0m\u001b[1;33m.\u001b[0m\u001b[0mclose\u001b[0m\u001b[1;33m(\u001b[0m\u001b[1;33m)\u001b[0m\u001b[1;33m\u001b[0m\u001b[1;33m\u001b[0m\u001b[0m\n",
      "\u001b[1;32mC:\\ProgramData\\Anaconda3\\lib\\http\\client.py\u001b[0m in \u001b[0;36mbegin\u001b[1;34m(self)\u001b[0m\n\u001b[0;32m    305\u001b[0m         \u001b[1;31m# read until we get a non-100 response\u001b[0m\u001b[1;33m\u001b[0m\u001b[1;33m\u001b[0m\u001b[1;33m\u001b[0m\u001b[0m\n\u001b[0;32m    306\u001b[0m         \u001b[1;32mwhile\u001b[0m \u001b[1;32mTrue\u001b[0m\u001b[1;33m:\u001b[0m\u001b[1;33m\u001b[0m\u001b[1;33m\u001b[0m\u001b[0m\n\u001b[1;32m--> 307\u001b[1;33m             \u001b[0mversion\u001b[0m\u001b[1;33m,\u001b[0m \u001b[0mstatus\u001b[0m\u001b[1;33m,\u001b[0m \u001b[0mreason\u001b[0m \u001b[1;33m=\u001b[0m \u001b[0mself\u001b[0m\u001b[1;33m.\u001b[0m\u001b[0m_read_status\u001b[0m\u001b[1;33m(\u001b[0m\u001b[1;33m)\u001b[0m\u001b[1;33m\u001b[0m\u001b[1;33m\u001b[0m\u001b[0m\n\u001b[0m\u001b[0;32m    308\u001b[0m             \u001b[1;32mif\u001b[0m \u001b[0mstatus\u001b[0m \u001b[1;33m!=\u001b[0m \u001b[0mCONTINUE\u001b[0m\u001b[1;33m:\u001b[0m\u001b[1;33m\u001b[0m\u001b[1;33m\u001b[0m\u001b[0m\n\u001b[0;32m    309\u001b[0m                 \u001b[1;32mbreak\u001b[0m\u001b[1;33m\u001b[0m\u001b[1;33m\u001b[0m\u001b[0m\n",
      "\u001b[1;32mC:\\ProgramData\\Anaconda3\\lib\\http\\client.py\u001b[0m in \u001b[0;36m_read_status\u001b[1;34m(self)\u001b[0m\n\u001b[0;32m    266\u001b[0m \u001b[1;33m\u001b[0m\u001b[0m\n\u001b[0;32m    267\u001b[0m     \u001b[1;32mdef\u001b[0m \u001b[0m_read_status\u001b[0m\u001b[1;33m(\u001b[0m\u001b[0mself\u001b[0m\u001b[1;33m)\u001b[0m\u001b[1;33m:\u001b[0m\u001b[1;33m\u001b[0m\u001b[1;33m\u001b[0m\u001b[0m\n\u001b[1;32m--> 268\u001b[1;33m         \u001b[0mline\u001b[0m \u001b[1;33m=\u001b[0m \u001b[0mstr\u001b[0m\u001b[1;33m(\u001b[0m\u001b[0mself\u001b[0m\u001b[1;33m.\u001b[0m\u001b[0mfp\u001b[0m\u001b[1;33m.\u001b[0m\u001b[0mreadline\u001b[0m\u001b[1;33m(\u001b[0m\u001b[0m_MAXLINE\u001b[0m \u001b[1;33m+\u001b[0m \u001b[1;36m1\u001b[0m\u001b[1;33m)\u001b[0m\u001b[1;33m,\u001b[0m \u001b[1;34m\"iso-8859-1\"\u001b[0m\u001b[1;33m)\u001b[0m\u001b[1;33m\u001b[0m\u001b[1;33m\u001b[0m\u001b[0m\n\u001b[0m\u001b[0;32m    269\u001b[0m         \u001b[1;32mif\u001b[0m \u001b[0mlen\u001b[0m\u001b[1;33m(\u001b[0m\u001b[0mline\u001b[0m\u001b[1;33m)\u001b[0m \u001b[1;33m>\u001b[0m \u001b[0m_MAXLINE\u001b[0m\u001b[1;33m:\u001b[0m\u001b[1;33m\u001b[0m\u001b[1;33m\u001b[0m\u001b[0m\n\u001b[0;32m    270\u001b[0m             \u001b[1;32mraise\u001b[0m \u001b[0mLineTooLong\u001b[0m\u001b[1;33m(\u001b[0m\u001b[1;34m\"status line\"\u001b[0m\u001b[1;33m)\u001b[0m\u001b[1;33m\u001b[0m\u001b[1;33m\u001b[0m\u001b[0m\n",
      "\u001b[1;32mC:\\ProgramData\\Anaconda3\\lib\\socket.py\u001b[0m in \u001b[0;36mreadinto\u001b[1;34m(self, b)\u001b[0m\n\u001b[0;32m    667\u001b[0m         \u001b[1;32mwhile\u001b[0m \u001b[1;32mTrue\u001b[0m\u001b[1;33m:\u001b[0m\u001b[1;33m\u001b[0m\u001b[1;33m\u001b[0m\u001b[0m\n\u001b[0;32m    668\u001b[0m             \u001b[1;32mtry\u001b[0m\u001b[1;33m:\u001b[0m\u001b[1;33m\u001b[0m\u001b[1;33m\u001b[0m\u001b[0m\n\u001b[1;32m--> 669\u001b[1;33m                 \u001b[1;32mreturn\u001b[0m \u001b[0mself\u001b[0m\u001b[1;33m.\u001b[0m\u001b[0m_sock\u001b[0m\u001b[1;33m.\u001b[0m\u001b[0mrecv_into\u001b[0m\u001b[1;33m(\u001b[0m\u001b[0mb\u001b[0m\u001b[1;33m)\u001b[0m\u001b[1;33m\u001b[0m\u001b[1;33m\u001b[0m\u001b[0m\n\u001b[0m\u001b[0;32m    670\u001b[0m             \u001b[1;32mexcept\u001b[0m \u001b[0mtimeout\u001b[0m\u001b[1;33m:\u001b[0m\u001b[1;33m\u001b[0m\u001b[1;33m\u001b[0m\u001b[0m\n\u001b[0;32m    671\u001b[0m                 \u001b[0mself\u001b[0m\u001b[1;33m.\u001b[0m\u001b[0m_timeout_occurred\u001b[0m \u001b[1;33m=\u001b[0m \u001b[1;32mTrue\u001b[0m\u001b[1;33m\u001b[0m\u001b[1;33m\u001b[0m\u001b[0m\n",
      "\u001b[1;32mC:\\ProgramData\\Anaconda3\\lib\\ssl.py\u001b[0m in \u001b[0;36mrecv_into\u001b[1;34m(self, buffer, nbytes, flags)\u001b[0m\n\u001b[0;32m   1239\u001b[0m                   \u001b[1;34m\"non-zero flags not allowed in calls to recv_into() on %s\"\u001b[0m \u001b[1;33m%\u001b[0m\u001b[1;33m\u001b[0m\u001b[1;33m\u001b[0m\u001b[0m\n\u001b[0;32m   1240\u001b[0m                   self.__class__)\n\u001b[1;32m-> 1241\u001b[1;33m             \u001b[1;32mreturn\u001b[0m \u001b[0mself\u001b[0m\u001b[1;33m.\u001b[0m\u001b[0mread\u001b[0m\u001b[1;33m(\u001b[0m\u001b[0mnbytes\u001b[0m\u001b[1;33m,\u001b[0m \u001b[0mbuffer\u001b[0m\u001b[1;33m)\u001b[0m\u001b[1;33m\u001b[0m\u001b[1;33m\u001b[0m\u001b[0m\n\u001b[0m\u001b[0;32m   1242\u001b[0m         \u001b[1;32melse\u001b[0m\u001b[1;33m:\u001b[0m\u001b[1;33m\u001b[0m\u001b[1;33m\u001b[0m\u001b[0m\n\u001b[0;32m   1243\u001b[0m             \u001b[1;32mreturn\u001b[0m \u001b[0msuper\u001b[0m\u001b[1;33m(\u001b[0m\u001b[1;33m)\u001b[0m\u001b[1;33m.\u001b[0m\u001b[0mrecv_into\u001b[0m\u001b[1;33m(\u001b[0m\u001b[0mbuffer\u001b[0m\u001b[1;33m,\u001b[0m \u001b[0mnbytes\u001b[0m\u001b[1;33m,\u001b[0m \u001b[0mflags\u001b[0m\u001b[1;33m)\u001b[0m\u001b[1;33m\u001b[0m\u001b[1;33m\u001b[0m\u001b[0m\n",
      "\u001b[1;32mC:\\ProgramData\\Anaconda3\\lib\\ssl.py\u001b[0m in \u001b[0;36mread\u001b[1;34m(self, len, buffer)\u001b[0m\n\u001b[0;32m   1097\u001b[0m         \u001b[1;32mtry\u001b[0m\u001b[1;33m:\u001b[0m\u001b[1;33m\u001b[0m\u001b[1;33m\u001b[0m\u001b[0m\n\u001b[0;32m   1098\u001b[0m             \u001b[1;32mif\u001b[0m \u001b[0mbuffer\u001b[0m \u001b[1;32mis\u001b[0m \u001b[1;32mnot\u001b[0m \u001b[1;32mNone\u001b[0m\u001b[1;33m:\u001b[0m\u001b[1;33m\u001b[0m\u001b[1;33m\u001b[0m\u001b[0m\n\u001b[1;32m-> 1099\u001b[1;33m                 \u001b[1;32mreturn\u001b[0m \u001b[0mself\u001b[0m\u001b[1;33m.\u001b[0m\u001b[0m_sslobj\u001b[0m\u001b[1;33m.\u001b[0m\u001b[0mread\u001b[0m\u001b[1;33m(\u001b[0m\u001b[0mlen\u001b[0m\u001b[1;33m,\u001b[0m \u001b[0mbuffer\u001b[0m\u001b[1;33m)\u001b[0m\u001b[1;33m\u001b[0m\u001b[1;33m\u001b[0m\u001b[0m\n\u001b[0m\u001b[0;32m   1100\u001b[0m             \u001b[1;32melse\u001b[0m\u001b[1;33m:\u001b[0m\u001b[1;33m\u001b[0m\u001b[1;33m\u001b[0m\u001b[0m\n\u001b[0;32m   1101\u001b[0m                 \u001b[1;32mreturn\u001b[0m \u001b[0mself\u001b[0m\u001b[1;33m.\u001b[0m\u001b[0m_sslobj\u001b[0m\u001b[1;33m.\u001b[0m\u001b[0mread\u001b[0m\u001b[1;33m(\u001b[0m\u001b[0mlen\u001b[0m\u001b[1;33m)\u001b[0m\u001b[1;33m\u001b[0m\u001b[1;33m\u001b[0m\u001b[0m\n",
      "\u001b[1;31mKeyboardInterrupt\u001b[0m: "
     ]
    }
   ],
   "source": [
    "#ip_addresses = [\"85.237.57.198:44959\", \"116.0.2.94:43379\", \"186.86.247.169:39168\"]\n",
    "#ip_addresses = [i['ip']+':'+str(i['port']) for i in u]\n",
    "#print(ip_addresses)\n",
    "for place in places:\n",
    "    try:\n",
    "        #proxy_index = random.randint(0, len(ip_addresses) - 1)\n",
    "        #proxies = {\"http\": \"http://\"+ip_addresses[proxy_index], \"https\": \"https://\"+ip_addresses[proxy_index]}\n",
    "        url = \"https://\"+place+\".craigslist.org/search/sss?query=bikes\"\n",
    "        headers = {'User-Agent': 'Mozilla/5.0 (Windows NT 10.0; Win64; x64) AppleWebKit/537.36 (KHTML, like Gecko) Chrome/81.0.4044.138 Safari/537.36'}\n",
    "\n",
    "        from requests.adapters import HTTPAdapter\n",
    "        from requests.packages.urllib3.util.retry import Retry\n",
    "        session = requests.Session()\n",
    "        retry = Retry(connect=3, backoff_factor=0.5)\n",
    "        adapter = HTTPAdapter(max_retries=retry)\n",
    "        session.mount('http://', adapter)\n",
    "        session.mount('https://', adapter)\n",
    "\n",
    "        response = session.get(url)\n",
    "        #response = requests.get(url, headers=headers,proxies = proxies)\n",
    "        if response.status_code == 200:\n",
    "            print(\"Success\")\n",
    "        else:\n",
    "            print(\"Failure\")\n",
    "            #requests.get(url, proxies=proxies)\n",
    "    except Exception as ex:\n",
    "        # implement here what to do when there's a connection error\n",
    "        # example: remove used proxy from  pool and retry request using another one\n",
    "        print(\"failure\")\n",
    "        print(ex)"
   ]
  },
  {
   "cell_type": "code",
   "execution_count": 14,
   "metadata": {},
   "outputs": [
    {
     "name": "stdout",
     "output_type": "stream",
     "text": [
      "Success\n"
     ]
    }
   ],
   "source": [
    "url = \"https://newyork.craigslist.org/search/sss?query=bikes\"\n",
    "response = requests.get(url, headers={'User-Agent': 'Mozilla/5.0'})\n",
    "if response.status_code == 200:\n",
    "    print(\"Success\")\n",
    "else:\n",
    "    print(\"Failure\")"
   ]
  },
  {
   "cell_type": "code",
   "execution_count": 30,
   "metadata": {},
   "outputs": [
    {
     "name": "stderr",
     "output_type": "stream",
     "text": [
      "100%|██████████| 417/417 [25:13<00:00,  3.63s/it] \n"
     ]
    }
   ],
   "source": [
    "from requests.adapters import HTTPAdapter\n",
    "from requests.packages.urllib3.util.retry import Retry\n",
    "from tqdm import tqdm\n",
    "\n",
    "prices = []\n",
    "urls = []\n",
    "dates = []\n",
    "locations = []\n",
    "titles = []\n",
    "\n",
    "for place in tqdm(places):\n",
    "    \n",
    "    try:\n",
    "        #proxy_index = random.randint(0, len(ip_addresses) - 1)\n",
    "        #proxies = {\"http\": \"http://\"+ip_addresses[proxy_index], \"https\": \"https://\"+ip_addresses[proxy_index]}\n",
    "        url = \"https://\"+place+\".craigslist.org/search/sss?query=bikes\"\n",
    "        headers = {'User-Agent': 'Mozilla/5.0 (Windows NT 10.0; Win64; x64) AppleWebKit/537.36 (KHTML, like Gecko) Chrome/81.0.4044.138 Safari/537.36'}\n",
    "\n",
    "        session = requests.Session()\n",
    "        retry = Retry(connect=3, backoff_factor=0.5)\n",
    "        adapter = HTTPAdapter(max_retries=retry)\n",
    "        session.mount('http://', adapter)\n",
    "        session.mount('https://', adapter)\n",
    "\n",
    "        response = session.get(url)\n",
    "        #response = requests.get(url, headers=headers,proxies = proxies)\n",
    "        if response.status_code != 200:\n",
    "            print(\"Failure\")\n",
    "\n",
    "            #requests.get(url, proxies=proxies)\n",
    "    except Exception as ex:\n",
    "        # implement here what to do when there's a connection error\n",
    "        # example: remove used proxy from  pool and retry request using another one\n",
    "        print(\"failure\")\n",
    "        print(ex)\n",
    "\n",
    "    results_page = BeautifulSoup(response.content, 'lxml')\n",
    "\n",
    "    # find the total number of posts\n",
    "    results_num = results_page.find('div', class_='search-legend')\n",
    "    results_total = int(results_num.find('span', class_='totalcount').text)\n",
    "\n",
    "    pages = np.arange(0, results_total+1, 120)\n",
    "\n",
    "    # Loop through all pages\n",
    "    count = 0\n",
    "    for page in pages:\n",
    "        \n",
    "        try:\n",
    "            session = requests.Session()\n",
    "            retry = Retry(connect=3, backoff_factor=0.5)\n",
    "            adapter = HTTPAdapter(max_retries=retry)\n",
    "            session.mount('http://', adapter)\n",
    "            session.mount('https://', adapter)\n",
    "\n",
    "            response = session.get(url+ \"s=\"  # the parameter for defining the page number\n",
    "                                    # the page number in the pages array from earlier\n",
    "                                    + str(page)\n",
    "                                    + \"&hasPic=1\"\n",
    "                                    + \"&availabilityMode=0\")\n",
    "\n",
    "            if response.status_code != 200:\n",
    "                print(\"Failure\")\n",
    "\n",
    "            #requests.get(url, proxies=proxies)\n",
    "        except:\n",
    "            # implement here what to do when there's a connection error\n",
    "            # example: remove used proxy from  pool and retry request using another one\n",
    "            \n",
    "            print(\"Failure \"+str(count))\n",
    "            count+=1\n",
    "            pass\n",
    "\n",
    "        sleep(0.5)\n",
    "        if response.status_code != 200:\n",
    "            print(('Request: {}; Status code: {}'.format(\n",
    "                requests, response.status_code)))\n",
    "\n",
    "        page_html = BeautifulSoup(response.text, 'html.parser')\n",
    "\n",
    "        posts = results_page.find_all('li', class_='result-row')\n",
    "\n",
    "        for post in posts:\n",
    "            try:\n",
    "                prices.append(int(post.find('span', class_=\"result-price\").text[1:].replace(',', '')))\n",
    "                urls.append(post.find('a', class_=\"result-title hdrlnk\")['href'])\n",
    "                dates.append(post.find('time', class_=\"result-date\")['datetime'])\n",
    "                locations.append(place)\n",
    "                titles.append(post.find('a', class_=\"result-title hdrlnk\").text)\n",
    "            except:\n",
    "                pass"
   ]
  },
  {
   "cell_type": "code",
   "execution_count": 45,
   "metadata": {},
   "outputs": [
    {
     "data": {
      "text/html": [
       "<div>\n",
       "<style scoped>\n",
       "    .dataframe tbody tr th:only-of-type {\n",
       "        vertical-align: middle;\n",
       "    }\n",
       "\n",
       "    .dataframe tbody tr th {\n",
       "        vertical-align: top;\n",
       "    }\n",
       "\n",
       "    .dataframe thead th {\n",
       "        text-align: right;\n",
       "    }\n",
       "</style>\n",
       "<table border=\"1\" class=\"dataframe\">\n",
       "  <thead>\n",
       "    <tr style=\"text-align: right;\">\n",
       "      <th></th>\n",
       "      <th>Price</th>\n",
       "      <th>Location</th>\n",
       "      <th>URL</th>\n",
       "      <th>Date</th>\n",
       "      <th>Title</th>\n",
       "    </tr>\n",
       "  </thead>\n",
       "  <tbody>\n",
       "    <tr>\n",
       "      <th>0</th>\n",
       "      <td>1000</td>\n",
       "      <td>auburn</td>\n",
       "      <td>https://auburn.craigslist.org/mcd/d/fayettevil...</td>\n",
       "      <td>2022-04-05 15:32</td>\n",
       "      <td>BAD CREDIT, NO CREDIT, OK! WE WORK WITH EVERYONE!</td>\n",
       "    </tr>\n",
       "    <tr>\n",
       "      <th>1</th>\n",
       "      <td>1000</td>\n",
       "      <td>auburn</td>\n",
       "      <td>https://auburn.craigslist.org/mcd/d/fayettevil...</td>\n",
       "      <td>2022-03-21 13:55</td>\n",
       "      <td>BAD CREDIT, NO CREDIT, OK! WE WORK WITH EVERYONE!</td>\n",
       "    </tr>\n",
       "    <tr>\n",
       "      <th>2</th>\n",
       "      <td>0</td>\n",
       "      <td>auburn</td>\n",
       "      <td>https://auburn.craigslist.org/wad/d/auburn-wan...</td>\n",
       "      <td>2022-04-17 22:46</td>\n",
       "      <td>Wanted Old Motorcycles 📞1(800) 220-9683 www.wa...</td>\n",
       "    </tr>\n",
       "    <tr>\n",
       "      <th>3</th>\n",
       "      <td>1</td>\n",
       "      <td>auburn</td>\n",
       "      <td>https://auburn.craigslist.org/for/d/defuniak-s...</td>\n",
       "      <td>2022-04-17 13:32</td>\n",
       "      <td>Atv’s</td>\n",
       "    </tr>\n",
       "    <tr>\n",
       "      <th>4</th>\n",
       "      <td>8795</td>\n",
       "      <td>auburn</td>\n",
       "      <td>https://auburn.craigslist.org/fod/d/fairburn-2...</td>\n",
       "      <td>2022-04-16 14:51</td>\n",
       "      <td>2017 Club Car Precedent 4 Seater Gas Alabama C...</td>\n",
       "    </tr>\n",
       "    <tr>\n",
       "      <th>...</th>\n",
       "      <td>...</td>\n",
       "      <td>...</td>\n",
       "      <td>...</td>\n",
       "      <td>...</td>\n",
       "      <td>...</td>\n",
       "    </tr>\n",
       "    <tr>\n",
       "      <th>168282</th>\n",
       "      <td>3200</td>\n",
       "      <td>wyoming</td>\n",
       "      <td>https://fortcollins.craigslist.org/bik/d/fort-...</td>\n",
       "      <td>2022-04-15 13:43</td>\n",
       "      <td>Black Sheep Pine Ridge SS titanium Cyclocross ...</td>\n",
       "    </tr>\n",
       "    <tr>\n",
       "      <th>168283</th>\n",
       "      <td>900</td>\n",
       "      <td>wyoming</td>\n",
       "      <td>https://fortcollins.craigslist.org/bik/d/fort-...</td>\n",
       "      <td>2022-04-15 13:43</td>\n",
       "      <td>Specialized S-works Epic Mountain Bike</td>\n",
       "    </tr>\n",
       "    <tr>\n",
       "      <th>168284</th>\n",
       "      <td>14995</td>\n",
       "      <td>wyoming</td>\n",
       "      <td>https://fortcollins.craigslist.org/mcd/d/scott...</td>\n",
       "      <td>2022-04-15 13:28</td>\n",
       "      <td>2011 Harley Davidson Ultra Classic with Trike</td>\n",
       "    </tr>\n",
       "    <tr>\n",
       "      <th>168285</th>\n",
       "      <td>112</td>\n",
       "      <td>wyoming</td>\n",
       "      <td>https://logan.craigslist.org/sgd/d/full-garage...</td>\n",
       "      <td>2022-04-15 12:36</td>\n",
       "      <td>Full Garage Gym-Squat Rack, Dumbbells- Financi...</td>\n",
       "    </tr>\n",
       "    <tr>\n",
       "      <th>168286</th>\n",
       "      <td>13500</td>\n",
       "      <td>wyoming</td>\n",
       "      <td>https://fortcollins.craigslist.org/mcy/d/winds...</td>\n",
       "      <td>2022-04-15 07:00</td>\n",
       "      <td>2009 HARLEY DAVIDSON CVO DYNA FAT BOB..</td>\n",
       "    </tr>\n",
       "  </tbody>\n",
       "</table>\n",
       "<p>168287 rows × 5 columns</p>\n",
       "</div>"
      ],
      "text/plain": [
       "        Price Location                                                URL  \\\n",
       "0        1000   auburn  https://auburn.craigslist.org/mcd/d/fayettevil...   \n",
       "1        1000   auburn  https://auburn.craigslist.org/mcd/d/fayettevil...   \n",
       "2           0   auburn  https://auburn.craigslist.org/wad/d/auburn-wan...   \n",
       "3           1   auburn  https://auburn.craigslist.org/for/d/defuniak-s...   \n",
       "4        8795   auburn  https://auburn.craigslist.org/fod/d/fairburn-2...   \n",
       "...       ...      ...                                                ...   \n",
       "168282   3200  wyoming  https://fortcollins.craigslist.org/bik/d/fort-...   \n",
       "168283    900  wyoming  https://fortcollins.craigslist.org/bik/d/fort-...   \n",
       "168284  14995  wyoming  https://fortcollins.craigslist.org/mcd/d/scott...   \n",
       "168285    112  wyoming  https://logan.craigslist.org/sgd/d/full-garage...   \n",
       "168286  13500  wyoming  https://fortcollins.craigslist.org/mcy/d/winds...   \n",
       "\n",
       "                    Date                                              Title  \n",
       "0       2022-04-05 15:32  BAD CREDIT, NO CREDIT, OK! WE WORK WITH EVERYONE!  \n",
       "1       2022-03-21 13:55  BAD CREDIT, NO CREDIT, OK! WE WORK WITH EVERYONE!  \n",
       "2       2022-04-17 22:46  Wanted Old Motorcycles 📞1(800) 220-9683 www.wa...  \n",
       "3       2022-04-17 13:32                                              Atv’s  \n",
       "4       2022-04-16 14:51  2017 Club Car Precedent 4 Seater Gas Alabama C...  \n",
       "...                  ...                                                ...  \n",
       "168282  2022-04-15 13:43  Black Sheep Pine Ridge SS titanium Cyclocross ...  \n",
       "168283  2022-04-15 13:43             Specialized S-works Epic Mountain Bike  \n",
       "168284  2022-04-15 13:28      2011 Harley Davidson Ultra Classic with Trike  \n",
       "168285  2022-04-15 12:36  Full Garage Gym-Squat Rack, Dumbbells- Financi...  \n",
       "168286  2022-04-15 07:00            2009 HARLEY DAVIDSON CVO DYNA FAT BOB..  \n",
       "\n",
       "[168287 rows x 5 columns]"
      ]
     },
     "execution_count": 45,
     "metadata": {},
     "output_type": "execute_result"
    }
   ],
   "source": [
    "df = pd.DataFrame({'Price':prices, 'Location':locations, 'URL':urls, 'Date':dates, 'Title':titles})\n",
    "df"
   ]
  },
  {
   "cell_type": "code",
   "execution_count": 46,
   "metadata": {},
   "outputs": [],
   "source": [
    "df = df.where(df['Price']!=0).dropna()\n",
    "df = df.drop_duplicates(subset=['Price', 'Location', 'Title']).reset_index(drop=True)"
   ]
  },
  {
   "cell_type": "code",
   "execution_count": 47,
   "metadata": {},
   "outputs": [],
   "source": [
    "df.to_csv('dataurls.csv')"
   ]
  },
  {
   "cell_type": "code",
   "execution_count": 4,
   "metadata": {},
   "outputs": [
    {
     "name": "stdout",
     "output_type": "stream",
     "text": [
      "['170.155.5.235:8080', '63.161.104.189:3128', '8.213.128.149:80']\n"
     ]
    }
   ],
   "source": [
    "import requests\n",
    "from lxml.html import fromstring\n",
    "def get_proxies():\n",
    "    url = 'https://free-proxy-list.net/'\n",
    "    response = requests.get(url)\n",
    "    parser = fromstring(response.text)\n",
    "    proxies = set()\n",
    "    for i in parser.xpath('//tbody/tr')[:10]:\n",
    "        if i.xpath('.//td[7][contains(text(),\"yes\")]'):\n",
    "            #Grabbing IP and corresponding PORT\n",
    "            proxy = \":\".join([i.xpath('.//td[1]/text()')[0], i.xpath('.//td[2]/text()')[0]])\n",
    "            proxies.add(proxy)\n",
    "    return list(proxies)\n",
    "\n",
    "proxies = get_proxies()\n",
    "print(proxies)"
   ]
  },
  {
   "cell_type": "code",
   "execution_count": 5,
   "metadata": {},
   "outputs": [],
   "source": [
    "cities=['newyork', 'boston', 'losangeles', 'miami', 'seattle', 'saltlakecity', 'houston', 'dallas', 'memphis', \n",
    "'atlanta', 'austin', 'cleveland', 'charlotte', 'longisland', 'newjersey', 'lasvegas', 'minneapolis', 'chicago',\n",
    "'orlando', 'sfbay']"
   ]
  },
  {
   "cell_type": "code",
   "execution_count": 9,
   "metadata": {},
   "outputs": [
    {
     "data": {
      "text/html": [
       "<div>\n",
       "<style scoped>\n",
       "    .dataframe tbody tr th:only-of-type {\n",
       "        vertical-align: middle;\n",
       "    }\n",
       "\n",
       "    .dataframe tbody tr th {\n",
       "        vertical-align: top;\n",
       "    }\n",
       "\n",
       "    .dataframe thead th {\n",
       "        text-align: right;\n",
       "    }\n",
       "</style>\n",
       "<table border=\"1\" class=\"dataframe\">\n",
       "  <thead>\n",
       "    <tr style=\"text-align: right;\">\n",
       "      <th></th>\n",
       "      <th>Price</th>\n",
       "      <th>Location</th>\n",
       "      <th>URL</th>\n",
       "      <th>Date</th>\n",
       "      <th>Title</th>\n",
       "    </tr>\n",
       "  </thead>\n",
       "  <tbody>\n",
       "    <tr>\n",
       "      <th>0</th>\n",
       "      <td>1000.0</td>\n",
       "      <td>auburn</td>\n",
       "      <td>https://auburn.craigslist.org/mcd/d/fayettevil...</td>\n",
       "      <td>2022-04-05 15:32</td>\n",
       "      <td>BAD CREDIT, NO CREDIT, OK! WE WORK WITH EVERYONE!</td>\n",
       "    </tr>\n",
       "    <tr>\n",
       "      <th>1</th>\n",
       "      <td>1.0</td>\n",
       "      <td>auburn</td>\n",
       "      <td>https://auburn.craigslist.org/for/d/defuniak-s...</td>\n",
       "      <td>2022-04-17 13:32</td>\n",
       "      <td>Atv’s</td>\n",
       "    </tr>\n",
       "    <tr>\n",
       "      <th>2</th>\n",
       "      <td>8795.0</td>\n",
       "      <td>auburn</td>\n",
       "      <td>https://auburn.craigslist.org/fod/d/fairburn-2...</td>\n",
       "      <td>2022-04-16 14:51</td>\n",
       "      <td>2017 Club Car Precedent 4 Seater Gas Alabama C...</td>\n",
       "    </tr>\n",
       "    <tr>\n",
       "      <th>3</th>\n",
       "      <td>30.0</td>\n",
       "      <td>auburn</td>\n",
       "      <td>https://auburn.craigslist.org/bop/d/opelika-th...</td>\n",
       "      <td>2022-04-16 09:07</td>\n",
       "      <td>Thule 961XT Speedway Bike Strap Rear Rack Carrier</td>\n",
       "    </tr>\n",
       "    <tr>\n",
       "      <th>4</th>\n",
       "      <td>112.0</td>\n",
       "      <td>auburn</td>\n",
       "      <td>https://auburn.craigslist.org/sgd/d/full-garag...</td>\n",
       "      <td>2022-04-15 12:52</td>\n",
       "      <td>Full Garage Gym-Squat Rack, Dumbbells- Financi...</td>\n",
       "    </tr>\n",
       "    <tr>\n",
       "      <th>...</th>\n",
       "      <td>...</td>\n",
       "      <td>...</td>\n",
       "      <td>...</td>\n",
       "      <td>...</td>\n",
       "      <td>...</td>\n",
       "    </tr>\n",
       "    <tr>\n",
       "      <th>45413</th>\n",
       "      <td>65.0</td>\n",
       "      <td>wyoming</td>\n",
       "      <td>https://fortcollins.craigslist.org/mpo/d/lovel...</td>\n",
       "      <td>2022-04-15 15:17</td>\n",
       "      <td>Trailer hitch</td>\n",
       "    </tr>\n",
       "    <tr>\n",
       "      <th>45414</th>\n",
       "      <td>60.0</td>\n",
       "      <td>wyoming</td>\n",
       "      <td>https://fortcollins.craigslist.org/bik/d/fort-...</td>\n",
       "      <td>2022-04-15 14:13</td>\n",
       "      <td>FASTSALE: Free Bike Rack, Raleigh Retroglide 7...</td>\n",
       "    </tr>\n",
       "    <tr>\n",
       "      <th>45415</th>\n",
       "      <td>3200.0</td>\n",
       "      <td>wyoming</td>\n",
       "      <td>https://fortcollins.craigslist.org/bik/d/fort-...</td>\n",
       "      <td>2022-04-15 13:43</td>\n",
       "      <td>Black Sheep Pine Ridge SS titanium Cyclocross ...</td>\n",
       "    </tr>\n",
       "    <tr>\n",
       "      <th>45416</th>\n",
       "      <td>900.0</td>\n",
       "      <td>wyoming</td>\n",
       "      <td>https://fortcollins.craigslist.org/bik/d/fort-...</td>\n",
       "      <td>2022-04-15 13:43</td>\n",
       "      <td>Specialized S-works Epic Mountain Bike</td>\n",
       "    </tr>\n",
       "    <tr>\n",
       "      <th>45417</th>\n",
       "      <td>13500.0</td>\n",
       "      <td>wyoming</td>\n",
       "      <td>https://fortcollins.craigslist.org/mcy/d/winds...</td>\n",
       "      <td>2022-04-15 07:00</td>\n",
       "      <td>2009 HARLEY DAVIDSON CVO DYNA FAT BOB..</td>\n",
       "    </tr>\n",
       "  </tbody>\n",
       "</table>\n",
       "<p>45418 rows × 5 columns</p>\n",
       "</div>"
      ],
      "text/plain": [
       "         Price Location                                                URL  \\\n",
       "0       1000.0   auburn  https://auburn.craigslist.org/mcd/d/fayettevil...   \n",
       "1          1.0   auburn  https://auburn.craigslist.org/for/d/defuniak-s...   \n",
       "2       8795.0   auburn  https://auburn.craigslist.org/fod/d/fairburn-2...   \n",
       "3         30.0   auburn  https://auburn.craigslist.org/bop/d/opelika-th...   \n",
       "4        112.0   auburn  https://auburn.craigslist.org/sgd/d/full-garag...   \n",
       "...        ...      ...                                                ...   \n",
       "45413     65.0  wyoming  https://fortcollins.craigslist.org/mpo/d/lovel...   \n",
       "45414     60.0  wyoming  https://fortcollins.craigslist.org/bik/d/fort-...   \n",
       "45415   3200.0  wyoming  https://fortcollins.craigslist.org/bik/d/fort-...   \n",
       "45416    900.0  wyoming  https://fortcollins.craigslist.org/bik/d/fort-...   \n",
       "45417  13500.0  wyoming  https://fortcollins.craigslist.org/mcy/d/winds...   \n",
       "\n",
       "                   Date                                              Title  \n",
       "0      2022-04-05 15:32  BAD CREDIT, NO CREDIT, OK! WE WORK WITH EVERYONE!  \n",
       "1      2022-04-17 13:32                                              Atv’s  \n",
       "2      2022-04-16 14:51  2017 Club Car Precedent 4 Seater Gas Alabama C...  \n",
       "3      2022-04-16 09:07  Thule 961XT Speedway Bike Strap Rear Rack Carrier  \n",
       "4      2022-04-15 12:52  Full Garage Gym-Squat Rack, Dumbbells- Financi...  \n",
       "...                 ...                                                ...  \n",
       "45413  2022-04-15 15:17                                      Trailer hitch  \n",
       "45414  2022-04-15 14:13  FASTSALE: Free Bike Rack, Raleigh Retroglide 7...  \n",
       "45415  2022-04-15 13:43  Black Sheep Pine Ridge SS titanium Cyclocross ...  \n",
       "45416  2022-04-15 13:43             Specialized S-works Epic Mountain Bike  \n",
       "45417  2022-04-15 07:00            2009 HARLEY DAVIDSON CVO DYNA FAT BOB..  \n",
       "\n",
       "[45418 rows x 5 columns]"
      ]
     },
     "execution_count": 9,
     "metadata": {},
     "output_type": "execute_result"
    }
   ],
   "source": [
    "df = pd.read_csv('dataurls.csv').drop(columns=['Unnamed: 0'])\n",
    "df"
   ]
  },
  {
   "cell_type": "code",
   "execution_count": 11,
   "metadata": {},
   "outputs": [
    {
     "name": "stderr",
     "output_type": "stream",
     "text": [
      "\r",
      "  0%|                                                                                           | 0/87 [00:00<?, ?it/s]"
     ]
    },
    {
     "name": "stdout",
     "output_type": "stream",
     "text": [
      "{'http': 'http://192.155.107.59:', 'https': 'https://192.155.107.59:'}\n"
     ]
    },
    {
     "name": "stderr",
     "output_type": "stream",
     "text": [
      "\r",
      "  1%|▉                                                                                  | 1/87 [00:00<00:33,  2.58it/s]"
     ]
    },
    {
     "name": "stdout",
     "output_type": "stream",
     "text": [
      "Success\n",
      "{'http': 'http://216.169.73.65:34679', 'https': 'https://216.169.73.65:34679'}\n"
     ]
    },
    {
     "name": "stderr",
     "output_type": "stream",
     "text": [
      "  3%|██▊                                                                                | 3/87 [00:00<00:22,  3.66it/s]"
     ]
    },
    {
     "name": "stdout",
     "output_type": "stream",
     "text": [
      "Success\n",
      "{'http': 'http://208.72.154.111:8888', 'https': 'https://208.72.154.111:8888'}\n",
      "Success\n",
      "{'http': 'http://47.88.7.115:3129', 'https': 'https://47.88.7.115:3129'}\n"
     ]
    },
    {
     "name": "stderr",
     "output_type": "stream",
     "text": [
      "\r",
      "  5%|███▊                                                                               | 4/87 [00:01<00:21,  3.93it/s]"
     ]
    },
    {
     "name": "stdout",
     "output_type": "stream",
     "text": [
      "Success\n",
      "{'http': 'http://192.155.107.60:', 'https': 'https://192.155.107.60:'}\n"
     ]
    },
    {
     "name": "stderr",
     "output_type": "stream",
     "text": [
      "  7%|█████▋                                                                             | 6/87 [00:01<00:17,  4.60it/s]"
     ]
    },
    {
     "name": "stdout",
     "output_type": "stream",
     "text": [
      "Success\n",
      "{'http': 'http://40.136.41.6:', 'https': 'https://40.136.41.6:'}\n",
      "Success\n",
      "{'http': 'http://192.155.107.60:', 'https': 'https://192.155.107.60:'}\n"
     ]
    },
    {
     "name": "stderr",
     "output_type": "stream",
     "text": [
      "\r",
      "  8%|██████▋                                                                            | 7/87 [00:01<00:17,  4.58it/s]"
     ]
    },
    {
     "name": "stdout",
     "output_type": "stream",
     "text": [
      "Success\n",
      "{'http': 'http://54.244.204.46:', 'https': 'https://54.244.204.46:'}\n"
     ]
    },
    {
     "name": "stderr",
     "output_type": "stream",
     "text": [
      "\r",
      "  9%|███████▋                                                                           | 8/87 [00:03<00:44,  1.77it/s]"
     ]
    },
    {
     "name": "stdout",
     "output_type": "stream",
     "text": [
      "Success\n",
      "{'http': 'http://3.217.161.14:', 'https': 'https://3.217.161.14:'}\n"
     ]
    },
    {
     "name": "stderr",
     "output_type": "stream",
     "text": [
      "\r",
      " 10%|████████▌                                                                          | 9/87 [00:03<00:36,  2.14it/s]"
     ]
    },
    {
     "name": "stdout",
     "output_type": "stream",
     "text": [
      "Success\n",
      "{'http': 'http://204.16.1.169:82', 'https': 'https://204.16.1.169:82'}\n"
     ]
    },
    {
     "name": "stderr",
     "output_type": "stream",
     "text": [
      "\r",
      " 11%|█████████▍                                                                        | 10/87 [00:03<00:30,  2.52it/s]"
     ]
    },
    {
     "name": "stdout",
     "output_type": "stream",
     "text": [
      "Success\n",
      "{'http': 'http://104.192.202.11:', 'https': 'https://104.192.202.11:'}\n",
      "Success\n"
     ]
    },
    {
     "name": "stderr",
     "output_type": "stream",
     "text": [
      " 14%|███████████▎                                                                      | 12/87 [00:03<00:22,  3.32it/s]"
     ]
    },
    {
     "name": "stdout",
     "output_type": "stream",
     "text": [
      "{'http': 'http://63.161.104.189:', 'https': 'https://63.161.104.189:'}\n",
      "Success\n"
     ]
    },
    {
     "name": "stderr",
     "output_type": "stream",
     "text": [
      "\r",
      " 15%|████████████▎                                                                     | 13/87 [00:04<00:19,  3.81it/s]"
     ]
    },
    {
     "name": "stdout",
     "output_type": "stream",
     "text": [
      "{'http': 'http://47.88.7.115:3129', 'https': 'https://47.88.7.115:3129'}\n",
      "Success\n",
      "{'http': 'http://47.252.82.135:', 'https': 'https://47.252.82.135:'}\n"
     ]
    },
    {
     "name": "stderr",
     "output_type": "stream",
     "text": [
      " 17%|██████████████▏                                                                   | 15/87 [00:04<00:16,  4.41it/s]"
     ]
    },
    {
     "name": "stdout",
     "output_type": "stream",
     "text": [
      "Success\n",
      "{'http': 'http://66.211.155.34:', 'https': 'https://66.211.155.34:'}\n",
      "Success\n"
     ]
    },
    {
     "name": "stderr",
     "output_type": "stream",
     "text": [
      "\r",
      " 18%|███████████████                                                                   | 16/87 [00:04<00:15,  4.68it/s]"
     ]
    },
    {
     "name": "stdout",
     "output_type": "stream",
     "text": [
      "{'http': 'http://138.68.235.51:', 'https': 'https://138.68.235.51:'}\n",
      "Success\n",
      "{'http': 'http://192.155.107.59:', 'https': 'https://192.155.107.59:'}\n"
     ]
    },
    {
     "name": "stderr",
     "output_type": "stream",
     "text": [
      " 21%|████████████████▉                                                                 | 18/87 [00:05<00:14,  4.89it/s]"
     ]
    },
    {
     "name": "stdout",
     "output_type": "stream",
     "text": [
      "Success\n",
      "{'http': 'http://173.196.205.170:', 'https': 'https://173.196.205.170:'}\n",
      "Success\n"
     ]
    },
    {
     "name": "stderr",
     "output_type": "stream",
     "text": [
      "\r",
      " 22%|█████████████████▉                                                                | 19/87 [00:05<00:13,  5.04it/s]"
     ]
    },
    {
     "name": "stdout",
     "output_type": "stream",
     "text": [
      "{'http': 'http://66.211.155.34:', 'https': 'https://66.211.155.34:'}\n",
      "Success\n"
     ]
    },
    {
     "name": "stderr",
     "output_type": "stream",
     "text": [
      "\r",
      " 23%|██████████████████▊                                                               | 20/87 [00:05<00:12,  5.23it/s]"
     ]
    },
    {
     "name": "stdout",
     "output_type": "stream",
     "text": [
      "{'http': 'http://64.227.62.123:', 'https': 'https://64.227.62.123:'}\n",
      "Success\n",
      "{'http': 'http://20.47.108.204:8888', 'https': 'https://20.47.108.204:8888'}\n"
     ]
    },
    {
     "name": "stderr",
     "output_type": "stream",
     "text": [
      " 25%|████████████████████▋                                                             | 22/87 [00:05<00:11,  5.68it/s]"
     ]
    },
    {
     "name": "stdout",
     "output_type": "stream",
     "text": [
      "Success\n",
      "{'http': 'http://63.161.104.189:', 'https': 'https://63.161.104.189:'}\n",
      "Success\n",
      "{'http': 'http://54.80.246.241:', 'https': 'https://54.80.246.241:'}\n"
     ]
    },
    {
     "name": "stderr",
     "output_type": "stream",
     "text": [
      "\r",
      " 26%|█████████████████████▋                                                            | 23/87 [00:05<00:11,  5.79it/s]"
     ]
    },
    {
     "name": "stdout",
     "output_type": "stream",
     "text": [
      "Success\n",
      "{'http': 'http://20.47.108.204:8888', 'https': 'https://20.47.108.204:8888'}\n",
      "Success\n"
     ]
    },
    {
     "name": "stderr",
     "output_type": "stream",
     "text": [
      " 29%|███████████████████████▌                                                          | 25/87 [00:06<00:11,  5.50it/s]"
     ]
    },
    {
     "name": "stdout",
     "output_type": "stream",
     "text": [
      "{'http': 'http://20.47.108.204:8888', 'https': 'https://20.47.108.204:8888'}\n",
      "Success\n",
      "{'http': 'http://47.89.153.213:', 'https': 'https://47.89.153.213:'}\n"
     ]
    },
    {
     "name": "stderr",
     "output_type": "stream",
     "text": [
      " 31%|█████████████████████████▍                                                        | 27/87 [00:06<00:10,  5.71it/s]"
     ]
    },
    {
     "name": "stdout",
     "output_type": "stream",
     "text": [
      "Success\n",
      "{'http': 'http://3.217.161.14:', 'https': 'https://3.217.161.14:'}\n",
      "Success\n"
     ]
    },
    {
     "name": "stderr",
     "output_type": "stream",
     "text": [
      "\r",
      " 32%|██████████████████████████▍                                                       | 28/87 [00:06<00:10,  5.40it/s]"
     ]
    },
    {
     "name": "stdout",
     "output_type": "stream",
     "text": [
      "{'http': 'http://50.235.149.74:', 'https': 'https://50.235.149.74:'}\n",
      "Success\n"
     ]
    },
    {
     "name": "stderr",
     "output_type": "stream",
     "text": [
      "\r",
      " 33%|███████████████████████████▎                                                      | 29/87 [00:07<00:10,  5.42it/s]"
     ]
    },
    {
     "name": "stdout",
     "output_type": "stream",
     "text": [
      "{'http': 'http://20.47.108.204:8888', 'https': 'https://20.47.108.204:8888'}\n",
      "Success\n",
      "{'http': 'http://54.80.246.241:', 'https': 'https://54.80.246.241:'}\n"
     ]
    },
    {
     "name": "stderr",
     "output_type": "stream",
     "text": [
      "\r",
      " 34%|████████████████████████████▎                                                     | 30/87 [00:07<00:11,  4.90it/s]"
     ]
    },
    {
     "name": "stdout",
     "output_type": "stream",
     "text": [
      "Success\n",
      "{'http': 'http://204.16.1.169:82', 'https': 'https://204.16.1.169:82'}\n"
     ]
    },
    {
     "name": "stderr",
     "output_type": "stream",
     "text": [
      "\r",
      " 36%|█████████████████████████████▏                                                    | 31/87 [00:07<00:12,  4.50it/s]"
     ]
    },
    {
     "name": "stdout",
     "output_type": "stream",
     "text": [
      "Success\n",
      "{'http': 'http://208.72.154.111:8888', 'https': 'https://208.72.154.111:8888'}\n"
     ]
    },
    {
     "name": "stderr",
     "output_type": "stream",
     "text": [
      "\r",
      " 37%|██████████████████████████████▏                                                   | 32/87 [00:07<00:12,  4.37it/s]"
     ]
    },
    {
     "name": "stdout",
     "output_type": "stream",
     "text": [
      "Success\n",
      "{'http': 'http://154.85.35.235:8888', 'https': 'https://154.85.35.235:8888'}\n"
     ]
    },
    {
     "name": "stderr",
     "output_type": "stream",
     "text": [
      "\r",
      " 38%|███████████████████████████████                                                   | 33/87 [00:08<00:12,  4.31it/s]"
     ]
    },
    {
     "name": "stdout",
     "output_type": "stream",
     "text": [
      "Success\n",
      "{'http': 'http://67.212.186.101:', 'https': 'https://67.212.186.101:'}\n",
      "Success\n"
     ]
    },
    {
     "name": "stderr",
     "output_type": "stream",
     "text": [
      " 40%|████████████████████████████████▉                                                 | 35/87 [00:08<00:11,  4.50it/s]"
     ]
    },
    {
     "name": "stdout",
     "output_type": "stream",
     "text": [
      "{'http': 'http://132.145.195.93:', 'https': 'https://132.145.195.93:'}\n",
      "Success\n"
     ]
    },
    {
     "name": "stderr",
     "output_type": "stream",
     "text": [
      "\r",
      " 41%|█████████████████████████████████▉                                                | 36/87 [00:08<00:10,  4.81it/s]"
     ]
    },
    {
     "name": "stdout",
     "output_type": "stream",
     "text": [
      "{'http': 'http://159.65.69.186:9300', 'https': 'https://159.65.69.186:9300'}\n",
      "Success\n",
      "{'http': 'http://138.68.235.51:', 'https': 'https://138.68.235.51:'}\n"
     ]
    },
    {
     "name": "stderr",
     "output_type": "stream",
     "text": [
      "\r",
      " 43%|██████████████████████████████████▊                                               | 37/87 [00:08<00:09,  5.11it/s]"
     ]
    },
    {
     "name": "stdout",
     "output_type": "stream",
     "text": [
      "Success\n",
      "{'http': 'http://186.233.186.60:', 'https': 'https://186.233.186.60:'}\n"
     ]
    },
    {
     "name": "stderr",
     "output_type": "stream",
     "text": [
      " 45%|████████████████████████████████████▊                                             | 39/87 [00:09<00:09,  5.05it/s]"
     ]
    },
    {
     "name": "stdout",
     "output_type": "stream",
     "text": [
      "Success\n",
      "{'http': 'http://76.81.164.246:', 'https': 'https://76.81.164.246:'}\n",
      "Success\n",
      "{'http': 'http://20.47.108.204:8888', 'https': 'https://20.47.108.204:8888'}\n"
     ]
    },
    {
     "name": "stderr",
     "output_type": "stream",
     "text": [
      " 47%|██████████████████████████████████████▋                                           | 41/87 [00:10<00:18,  2.48it/s]"
     ]
    },
    {
     "name": "stdout",
     "output_type": "stream",
     "text": [
      "Success\n",
      "{'http': 'http://186.233.186.60:', 'https': 'https://186.233.186.60:'}\n",
      "Success\n"
     ]
    },
    {
     "name": "stderr",
     "output_type": "stream",
     "text": [
      "\r",
      " 48%|███████████████████████████████████████▌                                          | 42/87 [00:10<00:15,  2.94it/s]"
     ]
    },
    {
     "name": "stdout",
     "output_type": "stream",
     "text": [
      "{'http': 'http://132.145.195.93:', 'https': 'https://132.145.195.93:'}\n",
      "Success\n"
     ]
    },
    {
     "name": "stderr",
     "output_type": "stream",
     "text": [
      "\r",
      " 49%|████████████████████████████████████████▌                                         | 43/87 [00:11<00:13,  3.29it/s]"
     ]
    },
    {
     "name": "stdout",
     "output_type": "stream",
     "text": [
      "{'http': 'http://47.89.153.213:', 'https': 'https://47.89.153.213:'}\n",
      "Success\n",
      "{'http': 'http://64.227.62.123:', 'https': 'https://64.227.62.123:'}\n"
     ]
    },
    {
     "name": "stderr",
     "output_type": "stream",
     "text": [
      "\r",
      " 51%|█████████████████████████████████████████▍                                        | 44/87 [00:11<00:12,  3.38it/s]"
     ]
    },
    {
     "name": "stdout",
     "output_type": "stream",
     "text": [
      "Success\n",
      "{'http': 'http://74.205.128.200:', 'https': 'https://74.205.128.200:'}\n",
      "Success\n"
     ]
    },
    {
     "name": "stderr",
     "output_type": "stream",
     "text": [
      "\r",
      " 52%|██████████████████████████████████████████▍                                       | 45/87 [00:11<00:11,  3.67it/s]"
     ]
    },
    {
     "name": "stdout",
     "output_type": "stream",
     "text": [
      "{'http': 'http://138.68.235.51:', 'https': 'https://138.68.235.51:'}\n"
     ]
    },
    {
     "name": "stderr",
     "output_type": "stream",
     "text": [
      "\r",
      " 53%|███████████████████████████████████████████▎                                      | 46/87 [00:11<00:10,  3.81it/s]"
     ]
    },
    {
     "name": "stdout",
     "output_type": "stream",
     "text": [
      "Success\n",
      "{'http': 'http://64.227.62.123:', 'https': 'https://64.227.62.123:'}\n"
     ]
    },
    {
     "name": "stderr",
     "output_type": "stream",
     "text": [
      " 55%|█████████████████████████████████████████████▏                                    | 48/87 [00:12<00:09,  4.32it/s]"
     ]
    },
    {
     "name": "stdout",
     "output_type": "stream",
     "text": [
      "Success\n",
      "{'http': 'http://40.136.41.6:', 'https': 'https://40.136.41.6:'}\n",
      "Success\n"
     ]
    },
    {
     "name": "stderr",
     "output_type": "stream",
     "text": [
      "\r",
      " 56%|██████████████████████████████████████████████▏                                   | 49/87 [00:12<00:08,  4.71it/s]"
     ]
    },
    {
     "name": "stdout",
     "output_type": "stream",
     "text": [
      "{'http': 'http://192.155.107.59:', 'https': 'https://192.155.107.59:'}\n",
      "Success\n",
      "{'http': 'http://63.161.104.189:', 'https': 'https://63.161.104.189:'}\n"
     ]
    },
    {
     "name": "stderr",
     "output_type": "stream",
     "text": [
      " 59%|████████████████████████████████████████████████                                  | 51/87 [00:12<00:06,  5.24it/s]"
     ]
    },
    {
     "name": "stdout",
     "output_type": "stream",
     "text": [
      "Success\n",
      "{'http': 'http://216.169.73.65:34679', 'https': 'https://216.169.73.65:34679'}\n",
      "Success\n",
      "{'http': 'http://208.72.154.111:8888', 'https': 'https://208.72.154.111:8888'}\n"
     ]
    },
    {
     "name": "stderr",
     "output_type": "stream",
     "text": [
      "\r",
      " 60%|█████████████████████████████████████████████████                                 | 52/87 [00:12<00:08,  4.32it/s]"
     ]
    },
    {
     "name": "stdout",
     "output_type": "stream",
     "text": [
      "Success\n",
      "{'http': 'http://64.227.62.123:', 'https': 'https://64.227.62.123:'}\n"
     ]
    },
    {
     "name": "stderr",
     "output_type": "stream",
     "text": [
      "\r",
      " 61%|█████████████████████████████████████████████████▉                                | 53/87 [00:13<00:08,  3.94it/s]"
     ]
    },
    {
     "name": "stdout",
     "output_type": "stream",
     "text": [
      "Success\n",
      "{'http': 'http://161.35.4.201:', 'https': 'https://161.35.4.201:'}\n"
     ]
    },
    {
     "name": "stderr",
     "output_type": "stream",
     "text": [
      " 63%|███████████████████████████████████████████████████▊                              | 55/87 [00:13<00:07,  4.24it/s]"
     ]
    },
    {
     "name": "stdout",
     "output_type": "stream",
     "text": [
      "Success\n",
      "{'http': 'http://12.151.56.30:', 'https': 'https://12.151.56.30:'}\n",
      "Success\n",
      "{'http': 'http://192.155.107.59:', 'https': 'https://192.155.107.59:'}\n",
      "Success\n"
     ]
    },
    {
     "name": "stderr",
     "output_type": "stream",
     "text": [
      " 66%|█████████████████████████████████████████████████████▋                            | 57/87 [00:14<00:06,  4.47it/s]"
     ]
    },
    {
     "name": "stdout",
     "output_type": "stream",
     "text": [
      "{'http': 'http://63.161.104.189:', 'https': 'https://63.161.104.189:'}\n",
      "Success\n"
     ]
    },
    {
     "name": "stderr",
     "output_type": "stream",
     "text": [
      "\r",
      " 67%|██████████████████████████████████████████████████████▋                           | 58/87 [00:14<00:06,  4.66it/s]"
     ]
    },
    {
     "name": "stdout",
     "output_type": "stream",
     "text": [
      "{'http': 'http://161.35.4.201:', 'https': 'https://161.35.4.201:'}\n",
      "Success\n"
     ]
    },
    {
     "name": "stderr",
     "output_type": "stream",
     "text": [
      "\r",
      " 68%|███████████████████████████████████████████████████████▌                          | 59/87 [00:14<00:05,  4.79it/s]"
     ]
    },
    {
     "name": "stdout",
     "output_type": "stream",
     "text": [
      "{'http': 'http://192.155.107.59:', 'https': 'https://192.155.107.59:'}\n",
      "Success\n"
     ]
    },
    {
     "name": "stderr",
     "output_type": "stream",
     "text": [
      "\r",
      " 69%|████████████████████████████████████████████████████████▌                         | 60/87 [00:14<00:05,  5.14it/s]"
     ]
    },
    {
     "name": "stdout",
     "output_type": "stream",
     "text": [
      "{'http': 'http://3.230.91.35:', 'https': 'https://3.230.91.35:'}\n",
      "Success\n",
      "{'http': 'http://20.47.108.204:8888', 'https': 'https://20.47.108.204:8888'}\n"
     ]
    },
    {
     "name": "stderr",
     "output_type": "stream",
     "text": [
      "\r",
      " 70%|█████████████████████████████████████████████████████████▍                        | 61/87 [00:14<00:04,  5.21it/s]"
     ]
    },
    {
     "name": "stdout",
     "output_type": "stream",
     "text": [
      "Success\n",
      "{'http': 'http://138.68.235.51:', 'https': 'https://138.68.235.51:'}\n"
     ]
    },
    {
     "name": "stderr",
     "output_type": "stream",
     "text": [
      "\r",
      " 71%|██████████████████████████████████████████████████████████▍                       | 62/87 [00:15<00:05,  4.53it/s]"
     ]
    },
    {
     "name": "stdout",
     "output_type": "stream",
     "text": [
      "Success\n",
      "{'http': 'http://161.35.4.201:', 'https': 'https://161.35.4.201:'}\n"
     ]
    },
    {
     "name": "stderr",
     "output_type": "stream",
     "text": [
      "\r",
      " 72%|███████████████████████████████████████████████████████████▍                      | 63/87 [00:15<00:05,  4.29it/s]"
     ]
    },
    {
     "name": "stdout",
     "output_type": "stream",
     "text": [
      "Success\n",
      "{'http': 'http://54.80.246.241:', 'https': 'https://54.80.246.241:'}\n",
      "Success\n"
     ]
    },
    {
     "name": "stderr",
     "output_type": "stream",
     "text": [
      " 75%|█████████████████████████████████████████████████████████████▎                    | 65/87 [00:15<00:04,  4.65it/s]"
     ]
    },
    {
     "name": "stdout",
     "output_type": "stream",
     "text": [
      "{'http': 'http://64.227.62.123:', 'https': 'https://64.227.62.123:'}\n",
      "Success\n"
     ]
    },
    {
     "name": "stderr",
     "output_type": "stream",
     "text": [
      "\r",
      " 76%|██████████████████████████████████████████████████████████████▏                   | 66/87 [00:16<00:04,  4.97it/s]"
     ]
    },
    {
     "name": "stdout",
     "output_type": "stream",
     "text": [
      "{'http': 'http://138.68.235.51:', 'https': 'https://138.68.235.51:'}\n",
      "Success\n",
      "{'http': 'http://74.205.128.200:', 'https': 'https://74.205.128.200:'}\n"
     ]
    },
    {
     "name": "stderr",
     "output_type": "stream",
     "text": [
      "\r",
      " 77%|███████████████████████████████████████████████████████████████▏                  | 67/87 [00:16<00:03,  5.09it/s]"
     ]
    },
    {
     "name": "stdout",
     "output_type": "stream",
     "text": [
      "Success\n",
      "{'http': 'http://47.89.153.213:', 'https': 'https://47.89.153.213:'}\n",
      "Success\n"
     ]
    },
    {
     "name": "stderr",
     "output_type": "stream",
     "text": [
      " 79%|█████████████████████████████████████████████████████████████████                 | 69/87 [00:16<00:03,  4.87it/s]"
     ]
    },
    {
     "name": "stdout",
     "output_type": "stream",
     "text": [
      "{'http': 'http://63.161.104.189:', 'https': 'https://63.161.104.189:'}\n",
      "Success\n"
     ]
    },
    {
     "name": "stderr",
     "output_type": "stream",
     "text": [
      "\r",
      " 80%|█████████████████████████████████████████████████████████████████▉                | 70/87 [00:16<00:03,  5.00it/s]"
     ]
    },
    {
     "name": "stdout",
     "output_type": "stream",
     "text": [
      "{'http': 'http://20.47.108.204:8888', 'https': 'https://20.47.108.204:8888'}\n",
      "Success\n"
     ]
    },
    {
     "name": "stderr",
     "output_type": "stream",
     "text": [
      "\r",
      " 82%|██████████████████████████████████████████████████████████████████▉               | 71/87 [00:17<00:03,  5.13it/s]"
     ]
    },
    {
     "name": "stdout",
     "output_type": "stream",
     "text": [
      "{'http': 'http://54.244.204.46:', 'https': 'https://54.244.204.46:'}\n",
      "Success\n",
      "{'http': 'http://154.85.35.235:8888', 'https': 'https://154.85.35.235:8888'}\n"
     ]
    },
    {
     "name": "stderr",
     "output_type": "stream",
     "text": [
      "\r",
      " 83%|███████████████████████████████████████████████████████████████████▊              | 72/87 [00:17<00:03,  4.43it/s]"
     ]
    },
    {
     "name": "stdout",
     "output_type": "stream",
     "text": [
      "Success\n",
      "{'http': 'http://52.168.34.113:', 'https': 'https://52.168.34.113:'}\n",
      "Success\n"
     ]
    },
    {
     "name": "stderr",
     "output_type": "stream",
     "text": [
      " 85%|█████████████████████████████████████████████████████████████████████▋            | 74/87 [00:17<00:02,  4.78it/s]"
     ]
    },
    {
     "name": "stdout",
     "output_type": "stream",
     "text": [
      "{'http': 'http://63.161.104.189:', 'https': 'https://63.161.104.189:'}\n",
      "Success\n"
     ]
    },
    {
     "name": "stderr",
     "output_type": "stream",
     "text": [
      "\r",
      " 86%|██████████████████████████████████████████████████████████████████████▋           | 75/87 [00:17<00:02,  5.10it/s]"
     ]
    },
    {
     "name": "stdout",
     "output_type": "stream",
     "text": [
      "{'http': 'http://50.235.149.74:', 'https': 'https://50.235.149.74:'}\n",
      "Success\n",
      "{'http': 'http://161.35.4.201:', 'https': 'https://161.35.4.201:'}\n"
     ]
    },
    {
     "name": "stderr",
     "output_type": "stream",
     "text": [
      " 89%|████████████████████████████████████████████████████████████████████████▌         | 77/87 [00:18<00:01,  5.24it/s]"
     ]
    },
    {
     "name": "stdout",
     "output_type": "stream",
     "text": [
      "Success\n",
      "{'http': 'http://64.227.62.123:', 'https': 'https://64.227.62.123:'}\n",
      "Success\n",
      "{'http': 'http://138.68.235.51:', 'https': 'https://138.68.235.51:'}\n"
     ]
    },
    {
     "name": "stderr",
     "output_type": "stream",
     "text": [
      "\r",
      " 90%|█████████████████████████████████████████████████████████████████████████▌        | 78/87 [00:18<00:01,  4.86it/s]"
     ]
    },
    {
     "name": "stdout",
     "output_type": "stream",
     "text": [
      "Success\n",
      "{'http': 'http://67.212.186.101:', 'https': 'https://67.212.186.101:'}\n",
      "Success\n"
     ]
    },
    {
     "name": "stderr",
     "output_type": "stream",
     "text": [
      " 92%|███████████████████████████████████████████████████████████████████████████▍      | 80/87 [00:18<00:01,  5.02it/s]"
     ]
    },
    {
     "name": "stdout",
     "output_type": "stream",
     "text": [
      "{'http': 'http://54.244.204.46:', 'https': 'https://54.244.204.46:'}\n",
      "Success\n",
      "{'http': 'http://47.88.7.115:3129', 'https': 'https://47.88.7.115:3129'}\n"
     ]
    },
    {
     "name": "stderr",
     "output_type": "stream",
     "text": [
      "\r",
      " 93%|████████████████████████████████████████████████████████████████████████████▎     | 81/87 [00:19<00:01,  4.94it/s]"
     ]
    },
    {
     "name": "stdout",
     "output_type": "stream",
     "text": [
      "Success\n",
      "{'http': 'http://3.211.17.212:', 'https': 'https://3.211.17.212:'}\n"
     ]
    },
    {
     "name": "stderr",
     "output_type": "stream",
     "text": [
      " 95%|██████████████████████████████████████████████████████████████████████████████▏   | 83/87 [00:19<00:01,  3.69it/s]"
     ]
    },
    {
     "name": "stdout",
     "output_type": "stream",
     "text": [
      "Success\n",
      "{'http': 'http://138.68.235.51:', 'https': 'https://138.68.235.51:'}\n",
      "Success\n"
     ]
    },
    {
     "name": "stderr",
     "output_type": "stream",
     "text": [
      "\r",
      " 97%|███████████████████████████████████████████████████████████████████████████████▏  | 84/87 [00:19<00:00,  4.06it/s]"
     ]
    },
    {
     "name": "stdout",
     "output_type": "stream",
     "text": [
      "{'http': 'http://23.225.64.59:1089', 'https': 'https://23.225.64.59:1089'}\n",
      "Success\n"
     ]
    },
    {
     "name": "stderr",
     "output_type": "stream",
     "text": [
      "\r",
      " 98%|████████████████████████████████████████████████████████████████████████████████  | 85/87 [00:20<00:00,  4.21it/s]"
     ]
    },
    {
     "name": "stdout",
     "output_type": "stream",
     "text": [
      "{'http': 'http://40.136.41.6:', 'https': 'https://40.136.41.6:'}\n",
      "Success\n"
     ]
    },
    {
     "name": "stderr",
     "output_type": "stream",
     "text": [
      "\r",
      " 99%|█████████████████████████████████████████████████████████████████████████████████ | 86/87 [00:20<00:00,  4.40it/s]"
     ]
    },
    {
     "name": "stdout",
     "output_type": "stream",
     "text": [
      "{'http': 'http://208.72.154.111:8888', 'https': 'https://208.72.154.111:8888'}\n",
      "Success\n"
     ]
    },
    {
     "name": "stderr",
     "output_type": "stream",
     "text": [
      "\r",
      "100%|██████████████████████████████████████████████████████████████████████████████████| 87/87 [00:20<00:00,  4.50it/s]"
     ]
    },
    {
     "name": "stdout",
     "output_type": "stream",
     "text": [
      "{'http': 'http://47.88.7.115:3129', 'https': 'https://47.88.7.115:3129'}\n",
      "Success\n"
     ]
    },
    {
     "name": "stderr",
     "output_type": "stream",
     "text": [
      "100%|██████████████████████████████████████████████████████████████████████████████████| 87/87 [00:20<00:00,  4.22it/s]\n"
     ]
    }
   ],
   "source": [
    "from tqdm import tqdm \n",
    "\n",
    "def scrape(df, city):\n",
    "\n",
    "    df = df.where(df['Location']==city).dropna()\n",
    "    ip_addresses = [i['ip']+':'+str(i['port']) for i in u]\n",
    "\n",
    "    for ind in tqdm(df.index):\n",
    "        proxy_index = random.randint(0, len(ip_addresses) - 1)\n",
    "        proxies = {\"http\": \"http://\"+ip_addresses[proxy_index], \"https\": \"https://\"+ip_addresses[proxy_index]}\n",
    "        #print(proxies)\n",
    "\n",
    "        url_ = df.loc[ind, 'URL']\n",
    "\n",
    "        session = requests.Session()\n",
    "        retry = Retry(connect=3, backoff_factor=1)\n",
    "        adapter = HTTPAdapter(max_retries=retry)\n",
    "        session.mount('http://', adapter)\n",
    "        session.mount('https://', adapter)\n",
    "\n",
    "        response = session.get(url_, headers={'User-Agent': 'Mozilla/5.0'})\n",
    "\n",
    "        if response.status_code != 200:\n",
    "            print(('Request: {}; Status code: {}'.format(requests, response.status_code)))\n",
    "            print(ind)\n",
    "        else:\n",
    "            #print('Success')\n",
    "\n",
    "        page_html = BeautifulSoup(response.text, 'html.parser')\n",
    "        \n",
    "        all_attributes = page_html.find('p', class_= 'attrgroup')\n",
    "\n",
    "        # Finds all the attributes\n",
    "        try:\n",
    "            attr = all_attributes.find_all('span')\n",
    "\n",
    "            for att in attr:\n",
    "                str_attr = att.text.split(':')\n",
    "                attribute, value = str_attr\n",
    "                if attribute not in df.columns:\n",
    "                    df[attribute] = [np.nan for _ in range(len(df))]\n",
    "                df.loc[ind, attribute] = value\n",
    "        except:\n",
    "            pass\n",
    "\n",
    "        # Finds the number of images\n",
    "        try:\n",
    "            user_body = page_html.find('section', class_=\"userbody\")\n",
    "            multi_img = user_body.find('figure', class_=\"iw multiimage\")\n",
    "            num_img = multi_img.find('span', class_=\"slider-info\").text.split(' ')[-1]\n",
    "            if 'num image' not in df.columns:\n",
    "                df['num image'] = [0 for _ in range(len(df))]\n",
    "            df.loc[ind, 'num image'] = num_img\n",
    "        except:\n",
    "            if 'num image' not in df.columns:\n",
    "                df['num image'] = [0 for _ in range(len(df))]\n",
    "            df.loc[ind, 'num image'] = 0\n",
    "\n",
    "        # Find the text\n",
    "        try:\n",
    "            user_text = str(page_html.find('section', {'id':\"postingbody\"}).text).strip().replace('QR Code Link to This Post', '').replace('\\n', ' ').strip()\n",
    "            if 'text' not in df.columns:\n",
    "                    df['text'] = [np.nan for _ in range(len(df))]\n",
    "            df.loc[ind, 'text'] = user_text\n",
    "        except:\n",
    "            pass\n",
    "    \n",
    "    df.to_csv('data_craigslist_'+str(city)+'.csv')\n",
    "\n",
    "scrape(df, cities[0])"
   ]
  },
  {
   "cell_type": "code",
   "execution_count": 12,
   "metadata": {},
   "outputs": [
    {
     "name": "stderr",
     "output_type": "stream",
     "text": [
      "  1%|▉                                                                                  | 1/87 [00:00<00:16,  5.36it/s]"
     ]
    },
    {
     "name": "stdout",
     "output_type": "stream",
     "text": [
      "{'http': 'http://50.235.149.74:', 'https': 'https://50.235.149.74:'}\n",
      "Success\n"
     ]
    },
    {
     "name": "stderr",
     "output_type": "stream",
     "text": [
      "\r",
      "  2%|█▉                                                                                 | 2/87 [00:00<00:14,  5.92it/s]"
     ]
    },
    {
     "name": "stdout",
     "output_type": "stream",
     "text": [
      "{'http': 'http://52.168.34.113:', 'https': 'https://52.168.34.113:'}\n",
      "Success\n",
      "{'http': 'http://104.192.202.11:', 'https': 'https://104.192.202.11:'}\n"
     ]
    },
    {
     "name": "stderr",
     "output_type": "stream",
     "text": [
      "  5%|███▊                                                                               | 4/87 [00:00<00:14,  5.66it/s]"
     ]
    },
    {
     "name": "stdout",
     "output_type": "stream",
     "text": [
      "Success\n",
      "{'http': 'http://72.47.152.224:55443', 'https': 'https://72.47.152.224:55443'}\n",
      "Success\n"
     ]
    },
    {
     "name": "stderr",
     "output_type": "stream",
     "text": [
      "\r",
      "  6%|████▊                                                                              | 5/87 [00:00<00:14,  5.81it/s]"
     ]
    },
    {
     "name": "stdout",
     "output_type": "stream",
     "text": [
      "{'http': 'http://159.65.69.186:9300', 'https': 'https://159.65.69.186:9300'}\n",
      "Success\n",
      "{'http': 'http://20.47.108.204:8888', 'https': 'https://20.47.108.204:8888'}\n"
     ]
    },
    {
     "name": "stderr",
     "output_type": "stream",
     "text": [
      "\r",
      "  7%|█████▋                                                                             | 6/87 [00:01<00:14,  5.73it/s]"
     ]
    },
    {
     "name": "stdout",
     "output_type": "stream",
     "text": [
      "Success\n",
      "{'http': 'http://76.81.164.246:', 'https': 'https://76.81.164.246:'}\n",
      "Success\n"
     ]
    },
    {
     "name": "stderr",
     "output_type": "stream",
     "text": [
      "  9%|███████▋                                                                           | 8/87 [00:01<00:15,  5.19it/s]"
     ]
    },
    {
     "name": "stdout",
     "output_type": "stream",
     "text": [
      "{'http': 'http://66.211.155.34:', 'https': 'https://66.211.155.34:'}\n",
      "Success\n"
     ]
    },
    {
     "name": "stderr",
     "output_type": "stream",
     "text": [
      "\r",
      " 10%|████████▌                                                                          | 9/87 [00:01<00:14,  5.41it/s]"
     ]
    },
    {
     "name": "stdout",
     "output_type": "stream",
     "text": [
      "{'http': 'http://12.151.56.30:', 'https': 'https://12.151.56.30:'}\n",
      "Success\n",
      "{'http': 'http://54.244.204.46:', 'https': 'https://54.244.204.46:'}\n"
     ]
    },
    {
     "name": "stderr",
     "output_type": "stream",
     "text": [
      " 13%|██████████▎                                                                       | 11/87 [00:01<00:12,  6.03it/s]"
     ]
    },
    {
     "name": "stdout",
     "output_type": "stream",
     "text": [
      "Success\n",
      "{'http': 'http://107.151.182.247:', 'https': 'https://107.151.182.247:'}\n",
      "Success\n",
      "{'http': 'http://3.217.161.14:', 'https': 'https://3.217.161.14:'}\n"
     ]
    },
    {
     "name": "stderr",
     "output_type": "stream",
     "text": [
      " 15%|████████████▎                                                                     | 13/87 [00:02<00:12,  6.08it/s]"
     ]
    },
    {
     "name": "stdout",
     "output_type": "stream",
     "text": [
      "Success\n",
      "{'http': 'http://50.235.149.74:', 'https': 'https://50.235.149.74:'}\n",
      "Success\n",
      "{'http': 'http://12.151.56.30:', 'https': 'https://12.151.56.30:'}\n"
     ]
    },
    {
     "name": "stderr",
     "output_type": "stream",
     "text": [
      " 17%|██████████████▏                                                                   | 15/87 [00:02<00:12,  5.91it/s]"
     ]
    },
    {
     "name": "stdout",
     "output_type": "stream",
     "text": [
      "Success\n",
      "{'http': 'http://138.68.235.51:', 'https': 'https://138.68.235.51:'}\n",
      "Success\n"
     ]
    },
    {
     "name": "stderr",
     "output_type": "stream",
     "text": [
      "\r",
      " 18%|███████████████                                                                   | 16/87 [00:02<00:11,  5.98it/s]"
     ]
    },
    {
     "name": "stdout",
     "output_type": "stream",
     "text": [
      "{'http': 'http://159.65.69.186:9300', 'https': 'https://159.65.69.186:9300'}\n",
      "Success\n",
      "{'http': 'http://54.244.204.46:', 'https': 'https://54.244.204.46:'}\n"
     ]
    },
    {
     "name": "stderr",
     "output_type": "stream",
     "text": [
      " 21%|████████████████▉                                                                 | 18/87 [00:03<00:11,  6.13it/s]"
     ]
    },
    {
     "name": "stdout",
     "output_type": "stream",
     "text": [
      "Success\n",
      "{'http': 'http://204.16.1.169:82', 'https': 'https://204.16.1.169:82'}\n",
      "Success\n"
     ]
    },
    {
     "name": "stderr",
     "output_type": "stream",
     "text": [
      "\r",
      " 22%|█████████████████▉                                                                | 19/87 [00:03<00:12,  5.57it/s]"
     ]
    },
    {
     "name": "stdout",
     "output_type": "stream",
     "text": [
      "{'http': 'http://186.233.186.60:', 'https': 'https://186.233.186.60:'}\n",
      "Success\n",
      "{'http': 'http://47.252.82.135:', 'https': 'https://47.252.82.135:'}\n"
     ]
    },
    {
     "name": "stderr",
     "output_type": "stream",
     "text": [
      " 24%|███████████████████▊                                                              | 21/87 [00:03<00:12,  5.27it/s]"
     ]
    },
    {
     "name": "stdout",
     "output_type": "stream",
     "text": [
      "Success\n",
      "{'http': 'http://63.161.104.189:', 'https': 'https://63.161.104.189:'}\n",
      "Success\n"
     ]
    },
    {
     "name": "stderr",
     "output_type": "stream",
     "text": [
      "\r",
      " 25%|████████████████████▋                                                             | 22/87 [00:03<00:11,  5.46it/s]"
     ]
    },
    {
     "name": "stdout",
     "output_type": "stream",
     "text": [
      "{'http': 'http://3.217.161.14:', 'https': 'https://3.217.161.14:'}\n",
      "Success\n",
      "{'http': 'http://47.89.153.213:', 'https': 'https://47.89.153.213:'}\n"
     ]
    },
    {
     "name": "stderr",
     "output_type": "stream",
     "text": [
      " 28%|██████████████████████▌                                                           | 24/87 [00:04<00:11,  5.65it/s]"
     ]
    },
    {
     "name": "stdout",
     "output_type": "stream",
     "text": [
      "Success\n",
      "{'http': 'http://52.168.34.113:', 'https': 'https://52.168.34.113:'}\n",
      "Success\n"
     ]
    },
    {
     "name": "stderr",
     "output_type": "stream",
     "text": [
      "\r",
      " 29%|███████████████████████▌                                                          | 25/87 [00:04<00:10,  5.66it/s]"
     ]
    },
    {
     "name": "stdout",
     "output_type": "stream",
     "text": [
      "{'http': 'http://52.168.34.113:', 'https': 'https://52.168.34.113:'}\n",
      "Success\n",
      "{'http': 'http://63.161.104.189:', 'https': 'https://63.161.104.189:'}\n"
     ]
    },
    {
     "name": "stderr",
     "output_type": "stream",
     "text": [
      " 31%|█████████████████████████▍                                                        | 27/87 [00:04<00:10,  5.55it/s]"
     ]
    },
    {
     "name": "stdout",
     "output_type": "stream",
     "text": [
      "Success\n",
      "{'http': 'http://208.72.154.111:8888', 'https': 'https://208.72.154.111:8888'}\n",
      "Success\n"
     ]
    },
    {
     "name": "stderr",
     "output_type": "stream",
     "text": [
      "\r",
      " 32%|██████████████████████████▍                                                       | 28/87 [00:04<00:10,  5.83it/s]"
     ]
    },
    {
     "name": "stdout",
     "output_type": "stream",
     "text": [
      "{'http': 'http://154.85.35.235:8888', 'https': 'https://154.85.35.235:8888'}\n",
      "Success\n",
      "{'http': 'http://138.68.235.51:', 'https': 'https://138.68.235.51:'}\n"
     ]
    },
    {
     "name": "stderr",
     "output_type": "stream",
     "text": [
      "\r",
      " 33%|███████████████████████████▎                                                      | 29/87 [00:05<00:10,  5.65it/s]"
     ]
    },
    {
     "name": "stdout",
     "output_type": "stream",
     "text": [
      "Success\n",
      "{'http': 'http://192.155.107.60:', 'https': 'https://192.155.107.60:'}\n"
     ]
    },
    {
     "name": "stderr",
     "output_type": "stream",
     "text": [
      "\r",
      " 34%|████████████████████████████▎                                                     | 30/87 [00:05<00:11,  5.05it/s]"
     ]
    },
    {
     "name": "stdout",
     "output_type": "stream",
     "text": [
      "Success\n",
      "{'http': 'http://159.65.69.186:9300', 'https': 'https://159.65.69.186:9300'}\n"
     ]
    },
    {
     "name": "stderr",
     "output_type": "stream",
     "text": [
      "\r",
      " 36%|█████████████████████████████▏                                                    | 31/87 [00:05<00:11,  4.67it/s]"
     ]
    },
    {
     "name": "stdout",
     "output_type": "stream",
     "text": [
      "Success\n",
      "{'http': 'http://159.65.69.186:9300', 'https': 'https://159.65.69.186:9300'}\n",
      "Success\n"
     ]
    },
    {
     "name": "stderr",
     "output_type": "stream",
     "text": [
      " 38%|███████████████████████████████                                                   | 33/87 [00:06<00:11,  4.66it/s]"
     ]
    },
    {
     "name": "stdout",
     "output_type": "stream",
     "text": [
      "{'http': 'http://52.168.34.113:', 'https': 'https://52.168.34.113:'}\n",
      "Success\n"
     ]
    },
    {
     "name": "stderr",
     "output_type": "stream",
     "text": [
      "\r",
      " 39%|████████████████████████████████                                                  | 34/87 [00:06<00:10,  5.02it/s]"
     ]
    },
    {
     "name": "stdout",
     "output_type": "stream",
     "text": [
      "{'http': 'http://3.217.161.14:', 'https': 'https://3.217.161.14:'}\n",
      "Success\n",
      "{'http': 'http://12.151.56.30:', 'https': 'https://12.151.56.30:'}\n"
     ]
    },
    {
     "name": "stderr",
     "output_type": "stream",
     "text": [
      " 41%|█████████████████████████████████▉                                                | 36/87 [00:06<00:09,  5.40it/s]"
     ]
    },
    {
     "name": "stdout",
     "output_type": "stream",
     "text": [
      "Success\n",
      "{'http': 'http://192.155.107.59:', 'https': 'https://192.155.107.59:'}\n",
      "Success\n"
     ]
    },
    {
     "name": "stderr",
     "output_type": "stream",
     "text": [
      "\r",
      " 43%|██████████████████████████████████▊                                               | 37/87 [00:06<00:09,  5.55it/s]"
     ]
    },
    {
     "name": "stdout",
     "output_type": "stream",
     "text": [
      "{'http': 'http://173.196.205.170:', 'https': 'https://173.196.205.170:'}\n",
      "Success\n",
      "{'http': 'http://204.16.1.169:82', 'https': 'https://204.16.1.169:82'}\n"
     ]
    },
    {
     "name": "stderr",
     "output_type": "stream",
     "text": [
      " 45%|████████████████████████████████████▊                                             | 39/87 [00:07<00:08,  5.63it/s]"
     ]
    },
    {
     "name": "stdout",
     "output_type": "stream",
     "text": [
      "Success\n",
      "{'http': 'http://132.145.195.93:', 'https': 'https://132.145.195.93:'}\n",
      "Success\n",
      "{'http': 'http://204.16.1.169:82', 'https': 'https://204.16.1.169:82'}\n"
     ]
    },
    {
     "name": "stderr",
     "output_type": "stream",
     "text": [
      "\r",
      " 46%|█████████████████████████████████████▋                                            | 40/87 [00:07<00:09,  4.79it/s]"
     ]
    },
    {
     "name": "stdout",
     "output_type": "stream",
     "text": [
      "Success\n",
      "{'http': 'http://154.85.35.235:8888', 'https': 'https://154.85.35.235:8888'}\n",
      "Success\n"
     ]
    },
    {
     "name": "stderr",
     "output_type": "stream",
     "text": [
      " 48%|███████████████████████████████████████▌                                          | 42/87 [00:07<00:09,  4.99it/s]"
     ]
    },
    {
     "name": "stdout",
     "output_type": "stream",
     "text": [
      "{'http': 'http://54.244.204.46:', 'https': 'https://54.244.204.46:'}\n",
      "Success\n",
      "{'http': 'http://208.72.154.111:8888', 'https': 'https://208.72.154.111:8888'}\n"
     ]
    },
    {
     "name": "stderr",
     "output_type": "stream",
     "text": [
      " 51%|█████████████████████████████████████████▍                                        | 44/87 [00:08<00:07,  5.48it/s]"
     ]
    },
    {
     "name": "stdout",
     "output_type": "stream",
     "text": [
      "Success\n",
      "{'http': 'http://3.217.161.14:', 'https': 'https://3.217.161.14:'}\n",
      "Success\n",
      "{'http': 'http://216.169.73.65:34679', 'https': 'https://216.169.73.65:34679'}\n"
     ]
    },
    {
     "name": "stderr",
     "output_type": "stream",
     "text": [
      " 53%|███████████████████████████████████████████▎                                      | 46/87 [00:08<00:07,  5.77it/s]"
     ]
    },
    {
     "name": "stdout",
     "output_type": "stream",
     "text": [
      "Success\n",
      "{'http': 'http://47.252.82.135:', 'https': 'https://47.252.82.135:'}\n",
      "Success\n",
      "{'http': 'http://154.85.35.235:8888', 'https': 'https://154.85.35.235:8888'}\n"
     ]
    },
    {
     "name": "stderr",
     "output_type": "stream",
     "text": [
      " 55%|█████████████████████████████████████████████▏                                    | 48/87 [00:08<00:06,  5.97it/s]"
     ]
    },
    {
     "name": "stdout",
     "output_type": "stream",
     "text": [
      "Success\n",
      "{'http': 'http://173.196.205.170:', 'https': 'https://173.196.205.170:'}\n",
      "Success\n",
      "{'http': 'http://52.168.34.113:', 'https': 'https://52.168.34.113:'}\n"
     ]
    },
    {
     "name": "stderr",
     "output_type": "stream",
     "text": [
      "\r",
      " 56%|██████████████████████████████████████████████▏                                   | 49/87 [00:08<00:06,  5.83it/s]"
     ]
    },
    {
     "name": "stdout",
     "output_type": "stream",
     "text": [
      "Success\n",
      "{'http': 'http://50.235.149.74:', 'https': 'https://50.235.149.74:'}\n"
     ]
    },
    {
     "name": "stderr",
     "output_type": "stream",
     "text": [
      "\r",
      " 57%|███████████████████████████████████████████████▏                                  | 50/87 [00:09<00:07,  5.09it/s]"
     ]
    },
    {
     "name": "stdout",
     "output_type": "stream",
     "text": [
      "Success\n",
      "{'http': 'http://72.47.152.224:55443', 'https': 'https://72.47.152.224:55443'}\n"
     ]
    },
    {
     "name": "stderr",
     "output_type": "stream",
     "text": [
      "\r",
      " 59%|████████████████████████████████████████████████                                  | 51/87 [00:09<00:08,  4.17it/s]"
     ]
    },
    {
     "name": "stdout",
     "output_type": "stream",
     "text": [
      "Success\n",
      "{'http': 'http://64.227.62.123:', 'https': 'https://64.227.62.123:'}\n",
      "Success\n"
     ]
    },
    {
     "name": "stderr",
     "output_type": "stream",
     "text": [
      " 61%|█████████████████████████████████████████████████▉                                | 53/87 [00:09<00:07,  4.76it/s]"
     ]
    },
    {
     "name": "stdout",
     "output_type": "stream",
     "text": [
      "{'http': 'http://204.16.1.169:82', 'https': 'https://204.16.1.169:82'}\n",
      "Success\n",
      "{'http': 'http://47.88.7.115:3129', 'https': 'https://47.88.7.115:3129'}\n"
     ]
    },
    {
     "name": "stderr",
     "output_type": "stream",
     "text": [
      " 63%|███████████████████████████████████████████████████▊                              | 55/87 [00:10<00:05,  5.41it/s]"
     ]
    },
    {
     "name": "stdout",
     "output_type": "stream",
     "text": [
      "Success\n",
      "{'http': 'http://52.168.34.113:', 'https': 'https://52.168.34.113:'}\n",
      "Success\n",
      "{'http': 'http://186.233.186.60:', 'https': 'https://186.233.186.60:'}\n"
     ]
    },
    {
     "name": "stderr",
     "output_type": "stream",
     "text": [
      " 66%|█████████████████████████████████████████████████████▋                            | 57/87 [00:10<00:05,  5.74it/s]"
     ]
    },
    {
     "name": "stdout",
     "output_type": "stream",
     "text": [
      "Success\n",
      "{'http': 'http://173.196.205.170:', 'https': 'https://173.196.205.170:'}\n",
      "Success\n",
      "{'http': 'http://3.211.17.212:', 'https': 'https://3.211.17.212:'}\n"
     ]
    },
    {
     "name": "stderr",
     "output_type": "stream",
     "text": [
      " 68%|███████████████████████████████████████████████████████▌                          | 59/87 [00:10<00:04,  6.09it/s]"
     ]
    },
    {
     "name": "stdout",
     "output_type": "stream",
     "text": [
      "Success\n",
      "{'http': 'http://66.211.155.34:', 'https': 'https://66.211.155.34:'}\n",
      "Success\n",
      "{'http': 'http://74.205.128.200:', 'https': 'https://74.205.128.200:'}\n"
     ]
    },
    {
     "name": "stderr",
     "output_type": "stream",
     "text": [
      "\r",
      " 69%|████████████████████████████████████████████████████████▌                         | 60/87 [00:10<00:04,  5.96it/s]"
     ]
    },
    {
     "name": "stdout",
     "output_type": "stream",
     "text": [
      "Success\n",
      "{'http': 'http://173.196.205.170:', 'https': 'https://173.196.205.170:'}\n",
      "Success\n"
     ]
    },
    {
     "name": "stderr",
     "output_type": "stream",
     "text": [
      "\r",
      " 70%|█████████████████████████████████████████████████████████▍                        | 61/87 [00:11<00:04,  5.45it/s]"
     ]
    },
    {
     "name": "stdout",
     "output_type": "stream",
     "text": [
      "{'http': 'http://47.89.153.213:', 'https': 'https://47.89.153.213:'}\n"
     ]
    },
    {
     "name": "stderr",
     "output_type": "stream",
     "text": [
      " 72%|███████████████████████████████████████████████████████████▍                      | 63/87 [00:11<00:04,  4.82it/s]"
     ]
    },
    {
     "name": "stdout",
     "output_type": "stream",
     "text": [
      "Success\n",
      "{'http': 'http://132.145.195.93:', 'https': 'https://132.145.195.93:'}\n",
      "Success\n"
     ]
    },
    {
     "name": "stderr",
     "output_type": "stream",
     "text": [
      "\r",
      " 74%|████████████████████████████████████████████████████████████▎                     | 64/87 [00:11<00:04,  5.04it/s]"
     ]
    },
    {
     "name": "stdout",
     "output_type": "stream",
     "text": [
      "{'http': 'http://47.88.7.115:3129', 'https': 'https://47.88.7.115:3129'}\n",
      "Success\n",
      "{'http': 'http://204.16.1.169:82', 'https': 'https://204.16.1.169:82'}\n"
     ]
    },
    {
     "name": "stderr",
     "output_type": "stream",
     "text": [
      "\r",
      " 75%|█████████████████████████████████████████████████████████████▎                    | 65/87 [00:12<00:04,  5.13it/s]"
     ]
    },
    {
     "name": "stdout",
     "output_type": "stream",
     "text": [
      "Success\n",
      "{'http': 'http://66.211.155.34:', 'https': 'https://66.211.155.34:'}\n",
      "Success\n"
     ]
    },
    {
     "name": "stderr",
     "output_type": "stream",
     "text": [
      "\r",
      " 76%|██████████████████████████████████████████████████████████████▏                   | 66/87 [00:12<00:04,  4.98it/s]"
     ]
    },
    {
     "name": "stdout",
     "output_type": "stream",
     "text": [
      "{'http': 'http://204.16.1.169:82', 'https': 'https://204.16.1.169:82'}\n"
     ]
    },
    {
     "name": "stderr",
     "output_type": "stream",
     "text": [
      " 78%|████████████████████████████████████████████████████████████████                  | 68/87 [00:12<00:04,  4.36it/s]"
     ]
    },
    {
     "name": "stdout",
     "output_type": "stream",
     "text": [
      "Success\n",
      "{'http': 'http://47.89.153.213:', 'https': 'https://47.89.153.213:'}\n",
      "Success\n"
     ]
    },
    {
     "name": "stderr",
     "output_type": "stream",
     "text": [
      "\r",
      " 79%|█████████████████████████████████████████████████████████████████                 | 69/87 [00:12<00:03,  4.62it/s]"
     ]
    },
    {
     "name": "stdout",
     "output_type": "stream",
     "text": [
      "{'http': 'http://66.211.155.34:', 'https': 'https://66.211.155.34:'}\n",
      "Success\n",
      "{'http': 'http://204.16.1.169:82', 'https': 'https://204.16.1.169:82'}\n"
     ]
    },
    {
     "name": "stderr",
     "output_type": "stream",
     "text": [
      "\r",
      " 80%|█████████████████████████████████████████████████████████████████▉                | 70/87 [00:13<00:03,  4.42it/s]"
     ]
    },
    {
     "name": "stdout",
     "output_type": "stream",
     "text": [
      "Success\n",
      "{'http': 'http://3.211.17.212:', 'https': 'https://3.211.17.212:'}\n"
     ]
    },
    {
     "name": "stderr",
     "output_type": "stream",
     "text": [
      " 83%|███████████████████████████████████████████████████████████████████▊              | 72/87 [00:13<00:03,  4.80it/s]"
     ]
    },
    {
     "name": "stdout",
     "output_type": "stream",
     "text": [
      "Success\n",
      "{'http': 'http://50.235.149.74:', 'https': 'https://50.235.149.74:'}\n",
      "Success\n",
      "{'http': 'http://186.233.186.60:', 'https': 'https://186.233.186.60:'}\n"
     ]
    },
    {
     "name": "stderr",
     "output_type": "stream",
     "text": [
      "\r",
      " 84%|████████████████████████████████████████████████████████████████████▊             | 73/87 [00:13<00:03,  4.31it/s]"
     ]
    },
    {
     "name": "stdout",
     "output_type": "stream",
     "text": [
      "Success\n",
      "{'http': 'http://50.235.149.74:', 'https': 'https://50.235.149.74:'}\n"
     ]
    },
    {
     "name": "stderr",
     "output_type": "stream",
     "text": [
      " 86%|██████████████████████████████████████████████████████████████████████▋           | 75/87 [00:14<00:02,  4.78it/s]"
     ]
    },
    {
     "name": "stdout",
     "output_type": "stream",
     "text": [
      "Success\n",
      "{'http': 'http://159.65.69.186:9300', 'https': 'https://159.65.69.186:9300'}\n",
      "Success\n"
     ]
    },
    {
     "name": "stderr",
     "output_type": "stream",
     "text": [
      "\r",
      " 87%|███████████████████████████████████████████████████████████████████████▋          | 76/87 [00:14<00:02,  5.00it/s]"
     ]
    },
    {
     "name": "stdout",
     "output_type": "stream",
     "text": [
      "{'http': 'http://3.217.161.14:', 'https': 'https://3.217.161.14:'}\n",
      "Success\n",
      "{'http': 'http://104.192.202.11:', 'https': 'https://104.192.202.11:'}\n"
     ]
    },
    {
     "name": "stderr",
     "output_type": "stream",
     "text": [
      "\r",
      " 89%|████████████████████████████████████████████████████████████████████████▌         | 77/87 [00:14<00:01,  5.04it/s]"
     ]
    },
    {
     "name": "stdout",
     "output_type": "stream",
     "text": [
      "Success\n",
      "{'http': 'http://52.168.34.113:', 'https': 'https://52.168.34.113:'}\n",
      "Success\n"
     ]
    },
    {
     "name": "stderr",
     "output_type": "stream",
     "text": [
      " 91%|██████████████████████████████████████████████████████████████████████████▍       | 79/87 [00:15<00:01,  5.06it/s]"
     ]
    },
    {
     "name": "stdout",
     "output_type": "stream",
     "text": [
      "{'http': 'http://54.80.246.241:', 'https': 'https://54.80.246.241:'}\n",
      "Success\n",
      "{'http': 'http://40.136.41.6:', 'https': 'https://40.136.41.6:'}\n"
     ]
    },
    {
     "name": "stderr",
     "output_type": "stream",
     "text": [
      "\r",
      " 92%|███████████████████████████████████████████████████████████████████████████▍      | 80/87 [00:15<00:01,  4.85it/s]"
     ]
    },
    {
     "name": "stdout",
     "output_type": "stream",
     "text": [
      "Success\n",
      "{'http': 'http://74.205.128.200:', 'https': 'https://74.205.128.200:'}\n"
     ]
    },
    {
     "name": "stderr",
     "output_type": "stream",
     "text": [
      " 94%|█████████████████████████████████████████████████████████████████████████████▎    | 82/87 [00:15<00:01,  4.49it/s]"
     ]
    },
    {
     "name": "stdout",
     "output_type": "stream",
     "text": [
      "Success\n",
      "{'http': 'http://104.192.202.11:', 'https': 'https://104.192.202.11:'}\n",
      "Success\n"
     ]
    },
    {
     "name": "stderr",
     "output_type": "stream",
     "text": [
      "\r",
      " 95%|██████████████████████████████████████████████████████████████████████████████▏   | 83/87 [00:15<00:00,  4.72it/s]"
     ]
    },
    {
     "name": "stdout",
     "output_type": "stream",
     "text": [
      "{'http': 'http://173.196.205.170:', 'https': 'https://173.196.205.170:'}\n",
      "Success\n"
     ]
    },
    {
     "name": "stderr",
     "output_type": "stream",
     "text": [
      "\r",
      " 97%|███████████████████████████████████████████████████████████████████████████████▏  | 84/87 [00:16<00:00,  5.07it/s]"
     ]
    },
    {
     "name": "stdout",
     "output_type": "stream",
     "text": [
      "{'http': 'http://208.72.154.111:8888', 'https': 'https://208.72.154.111:8888'}\n",
      "Success\n",
      "{'http': 'http://74.205.128.200:', 'https': 'https://74.205.128.200:'}\n"
     ]
    },
    {
     "name": "stderr",
     "output_type": "stream",
     "text": [
      " 99%|█████████████████████████████████████████████████████████████████████████████████ | 86/87 [00:16<00:00,  5.28it/s]"
     ]
    },
    {
     "name": "stdout",
     "output_type": "stream",
     "text": [
      "Success\n",
      "{'http': 'http://192.155.107.60:', 'https': 'https://192.155.107.60:'}\n",
      "Success\n"
     ]
    },
    {
     "name": "stderr",
     "output_type": "stream",
     "text": [
      "100%|██████████████████████████████████████████████████████████████████████████████████| 87/87 [00:16<00:00,  5.21it/s]"
     ]
    },
    {
     "name": "stdout",
     "output_type": "stream",
     "text": [
      "{'http': 'http://192.155.107.59:', 'https': 'https://192.155.107.59:'}\n",
      "Success\n"
     ]
    },
    {
     "name": "stderr",
     "output_type": "stream",
     "text": [
      "\n",
      "  1%|▊                                                                                  | 1/99 [00:00<00:20,  4.75it/s]"
     ]
    },
    {
     "name": "stdout",
     "output_type": "stream",
     "text": [
      "{'http': 'http://186.233.186.60:', 'https': 'https://186.233.186.60:'}\n",
      "Success\n"
     ]
    },
    {
     "name": "stderr",
     "output_type": "stream",
     "text": [
      "\r",
      "  2%|█▋                                                                                 | 2/99 [00:00<00:18,  5.17it/s]"
     ]
    },
    {
     "name": "stdout",
     "output_type": "stream",
     "text": [
      "{'http': 'http://208.72.154.111:8888', 'https': 'https://208.72.154.111:8888'}\n",
      "Success\n",
      "{'http': 'http://132.145.195.93:', 'https': 'https://132.145.195.93:'}\n"
     ]
    },
    {
     "name": "stderr",
     "output_type": "stream",
     "text": [
      "  4%|███▎                                                                               | 4/99 [00:01<00:30,  3.12it/s]"
     ]
    },
    {
     "name": "stdout",
     "output_type": "stream",
     "text": [
      "Success\n",
      "{'http': 'http://204.16.1.169:82', 'https': 'https://204.16.1.169:82'}\n",
      "Success\n"
     ]
    },
    {
     "name": "stderr",
     "output_type": "stream",
     "text": [
      "\r",
      "  5%|████▏                                                                              | 5/99 [00:01<00:25,  3.62it/s]"
     ]
    },
    {
     "name": "stdout",
     "output_type": "stream",
     "text": [
      "{'http': 'http://12.151.56.30:', 'https': 'https://12.151.56.30:'}\n",
      "Success\n"
     ]
    },
    {
     "name": "stderr",
     "output_type": "stream",
     "text": [
      "\r",
      "  6%|█████                                                                              | 6/99 [00:01<00:22,  4.08it/s]"
     ]
    },
    {
     "name": "stdout",
     "output_type": "stream",
     "text": [
      "{'http': 'http://52.168.34.113:', 'https': 'https://52.168.34.113:'}\n",
      "Success\n",
      "{'http': 'http://173.196.205.170:', 'https': 'https://173.196.205.170:'}\n"
     ]
    },
    {
     "name": "stderr",
     "output_type": "stream",
     "text": [
      "  8%|██████▋                                                                            | 8/99 [00:01<00:19,  4.73it/s]"
     ]
    },
    {
     "name": "stdout",
     "output_type": "stream",
     "text": [
      "Success\n",
      "{'http': 'http://107.151.182.247:', 'https': 'https://107.151.182.247:'}\n",
      "Success\n"
     ]
    },
    {
     "name": "stderr",
     "output_type": "stream",
     "text": [
      "\r",
      "  9%|███████▌                                                                           | 9/99 [00:02<00:18,  4.79it/s]"
     ]
    },
    {
     "name": "stdout",
     "output_type": "stream",
     "text": [
      "{'http': 'http://40.136.41.6:', 'https': 'https://40.136.41.6:'}\n",
      "Success\n"
     ]
    },
    {
     "name": "stderr",
     "output_type": "stream",
     "text": [
      "\r",
      " 10%|████████▎                                                                         | 10/99 [00:02<00:18,  4.72it/s]"
     ]
    },
    {
     "name": "stdout",
     "output_type": "stream",
     "text": [
      "{'http': 'http://66.211.155.34:', 'https': 'https://66.211.155.34:'}\n",
      "Success\n",
      "{'http': 'http://54.244.204.46:', 'https': 'https://54.244.204.46:'}\n"
     ]
    },
    {
     "name": "stderr",
     "output_type": "stream",
     "text": [
      "\r",
      " 11%|█████████                                                                         | 11/99 [00:02<00:21,  4.14it/s]"
     ]
    },
    {
     "name": "stdout",
     "output_type": "stream",
     "text": [
      "Success\n",
      "{'http': 'http://52.168.34.113:', 'https': 'https://52.168.34.113:'}\n"
     ]
    },
    {
     "name": "stderr",
     "output_type": "stream",
     "text": [
      " 13%|██████████▊                                                                       | 13/99 [00:03<00:18,  4.55it/s]"
     ]
    },
    {
     "name": "stdout",
     "output_type": "stream",
     "text": [
      "Success\n",
      "{'http': 'http://3.211.17.212:', 'https': 'https://3.211.17.212:'}\n",
      "Success\n"
     ]
    },
    {
     "name": "stderr",
     "output_type": "stream",
     "text": [
      "\r",
      " 14%|███████████▌                                                                      | 14/99 [00:03<00:17,  4.74it/s]"
     ]
    },
    {
     "name": "stdout",
     "output_type": "stream",
     "text": [
      "{'http': 'http://3.230.91.35:', 'https': 'https://3.230.91.35:'}\n",
      "Success\n"
     ]
    },
    {
     "name": "stderr",
     "output_type": "stream",
     "text": [
      "\r",
      " 15%|████████████▍                                                                     | 15/99 [00:03<00:17,  4.88it/s]"
     ]
    },
    {
     "name": "stdout",
     "output_type": "stream",
     "text": [
      "{'http': 'http://154.85.35.235:8888', 'https': 'https://154.85.35.235:8888'}\n",
      "Success\n"
     ]
    },
    {
     "name": "stderr",
     "output_type": "stream",
     "text": [
      "\r",
      " 16%|█████████████▎                                                                    | 16/99 [00:03<00:15,  5.25it/s]"
     ]
    },
    {
     "name": "stdout",
     "output_type": "stream",
     "text": [
      "{'http': 'http://76.81.164.246:', 'https': 'https://76.81.164.246:'}\n",
      "Success\n",
      "{'http': 'http://3.217.161.14:', 'https': 'https://3.217.161.14:'}\n"
     ]
    },
    {
     "name": "stderr",
     "output_type": "stream",
     "text": [
      " 18%|██████████████▉                                                                   | 18/99 [00:03<00:14,  5.67it/s]"
     ]
    },
    {
     "name": "stdout",
     "output_type": "stream",
     "text": [
      "Success\n",
      "{'http': 'http://40.136.41.6:', 'https': 'https://40.136.41.6:'}\n",
      "Success\n",
      "{'http': 'http://72.47.152.224:55443', 'https': 'https://72.47.152.224:55443'}\n"
     ]
    },
    {
     "name": "stderr",
     "output_type": "stream",
     "text": [
      " 20%|████████████████▌                                                                 | 20/99 [00:04<00:13,  5.67it/s]"
     ]
    },
    {
     "name": "stdout",
     "output_type": "stream",
     "text": [
      "Success\n",
      "{'http': 'http://47.252.82.135:', 'https': 'https://47.252.82.135:'}\n",
      "Success\n",
      "{'http': 'http://3.211.17.212:', 'https': 'https://3.211.17.212:'}\n"
     ]
    },
    {
     "name": "stderr",
     "output_type": "stream",
     "text": [
      "\r",
      " 21%|█████████████████▍                                                                | 21/99 [00:04<00:16,  4.73it/s]"
     ]
    },
    {
     "name": "stdout",
     "output_type": "stream",
     "text": [
      "Success\n",
      "{'http': 'http://216.169.73.65:34679', 'https': 'https://216.169.73.65:34679'}\n",
      "Success\n"
     ]
    },
    {
     "name": "stderr",
     "output_type": "stream",
     "text": [
      " 23%|███████████████████                                                               | 23/99 [00:05<00:15,  4.79it/s]"
     ]
    },
    {
     "name": "stdout",
     "output_type": "stream",
     "text": [
      "{'http': 'http://138.68.235.51:', 'https': 'https://138.68.235.51:'}\n",
      "Success\n"
     ]
    },
    {
     "name": "stderr",
     "output_type": "stream",
     "text": [
      "\r",
      " 24%|███████████████████▉                                                              | 24/99 [00:05<00:15,  4.93it/s]"
     ]
    },
    {
     "name": "stdout",
     "output_type": "stream",
     "text": [
      "{'http': 'http://3.230.91.35:', 'https': 'https://3.230.91.35:'}\n",
      "Success\n"
     ]
    },
    {
     "name": "stderr",
     "output_type": "stream",
     "text": [
      "\r",
      " 25%|████████████████████▋                                                             | 25/99 [00:05<00:14,  5.23it/s]"
     ]
    },
    {
     "name": "stdout",
     "output_type": "stream",
     "text": [
      "{'http': 'http://47.88.7.115:3129', 'https': 'https://47.88.7.115:3129'}\n",
      "Success\n",
      "{'http': 'http://186.233.186.60:', 'https': 'https://186.233.186.60:'}\n"
     ]
    },
    {
     "name": "stderr",
     "output_type": "stream",
     "text": [
      " 27%|██████████████████████▎                                                           | 27/99 [00:05<00:13,  5.42it/s]"
     ]
    },
    {
     "name": "stdout",
     "output_type": "stream",
     "text": [
      "Success\n",
      "{'http': 'http://12.151.56.30:', 'https': 'https://12.151.56.30:'}\n",
      "Success\n"
     ]
    },
    {
     "name": "stderr",
     "output_type": "stream",
     "text": [
      "\r",
      " 28%|███████████████████████▏                                                          | 28/99 [00:05<00:12,  5.59it/s]"
     ]
    },
    {
     "name": "stdout",
     "output_type": "stream",
     "text": [
      "{'http': 'http://216.169.73.65:34679', 'https': 'https://216.169.73.65:34679'}\n",
      "Success\n",
      "{'http': 'http://107.151.182.247:', 'https': 'https://107.151.182.247:'}\n"
     ]
    },
    {
     "name": "stderr",
     "output_type": "stream",
     "text": [
      " 30%|████████████████████████▊                                                         | 30/99 [00:06<00:11,  5.92it/s]"
     ]
    },
    {
     "name": "stdout",
     "output_type": "stream",
     "text": [
      "Success\n",
      "{'http': 'http://159.65.69.186:9300', 'https': 'https://159.65.69.186:9300'}\n",
      "Success\n",
      "{'http': 'http://50.235.149.74:', 'https': 'https://50.235.149.74:'}\n"
     ]
    },
    {
     "name": "stderr",
     "output_type": "stream",
     "text": [
      "\r",
      " 31%|█████████████████████████▋                                                        | 31/99 [00:06<00:11,  5.91it/s]"
     ]
    },
    {
     "name": "stdout",
     "output_type": "stream",
     "text": [
      "Success\n",
      "{'http': 'http://3.217.161.14:', 'https': 'https://3.217.161.14:'}\n"
     ]
    },
    {
     "name": "stderr",
     "output_type": "stream",
     "text": [
      "\r",
      " 32%|██████████████████████████▌                                                       | 32/99 [00:06<00:13,  5.03it/s]"
     ]
    },
    {
     "name": "stdout",
     "output_type": "stream",
     "text": [
      "Success\n",
      "{'http': 'http://3.230.91.35:', 'https': 'https://3.230.91.35:'}\n"
     ]
    },
    {
     "name": "stderr",
     "output_type": "stream",
     "text": [
      " 34%|████████████████████████████▏                                                     | 34/99 [00:07<00:16,  3.98it/s]"
     ]
    },
    {
     "name": "stdout",
     "output_type": "stream",
     "text": [
      "Success\n",
      "{'http': 'http://132.145.195.93:', 'https': 'https://132.145.195.93:'}\n",
      "Success\n"
     ]
    },
    {
     "name": "stderr",
     "output_type": "stream",
     "text": [
      "\r",
      " 35%|████████████████████████████▉                                                     | 35/99 [00:07<00:14,  4.30it/s]"
     ]
    },
    {
     "name": "stdout",
     "output_type": "stream",
     "text": [
      "{'http': 'http://132.145.195.93:', 'https': 'https://132.145.195.93:'}\n",
      "Success\n"
     ]
    },
    {
     "name": "stderr",
     "output_type": "stream",
     "text": [
      "\r",
      " 36%|█████████████████████████████▊                                                    | 36/99 [00:07<00:13,  4.64it/s]"
     ]
    },
    {
     "name": "stdout",
     "output_type": "stream",
     "text": [
      "{'http': 'http://3.211.17.212:', 'https': 'https://3.211.17.212:'}\n",
      "Success\n",
      "{'http': 'http://66.211.155.34:', 'https': 'https://66.211.155.34:'}\n"
     ]
    },
    {
     "name": "stderr",
     "output_type": "stream",
     "text": [
      " 38%|███████████████████████████████▍                                                  | 38/99 [00:08<00:12,  4.95it/s]"
     ]
    },
    {
     "name": "stdout",
     "output_type": "stream",
     "text": [
      "Success\n",
      "{'http': 'http://208.72.154.111:8888', 'https': 'https://208.72.154.111:8888'}\n",
      "Success\n"
     ]
    },
    {
     "name": "stderr",
     "output_type": "stream",
     "text": [
      "\r",
      " 39%|████████████████████████████████▎                                                 | 39/99 [00:08<00:11,  5.04it/s]"
     ]
    },
    {
     "name": "stdout",
     "output_type": "stream",
     "text": [
      "{'http': 'http://3.217.161.14:', 'https': 'https://3.217.161.14:'}\n",
      "Success\n",
      "{'http': 'http://204.16.1.169:82', 'https': 'https://204.16.1.169:82'}\n"
     ]
    },
    {
     "name": "stderr",
     "output_type": "stream",
     "text": [
      "\r",
      " 40%|█████████████████████████████████▏                                                | 40/99 [00:08<00:12,  4.71it/s]"
     ]
    },
    {
     "name": "stdout",
     "output_type": "stream",
     "text": [
      "Success\n",
      "{'http': 'http://76.81.164.246:', 'https': 'https://76.81.164.246:'}\n"
     ]
    },
    {
     "name": "stderr",
     "output_type": "stream",
     "text": [
      "\r",
      " 41%|█████████████████████████████████▉                                                | 41/99 [00:08<00:14,  3.93it/s]"
     ]
    },
    {
     "name": "stdout",
     "output_type": "stream",
     "text": [
      "Success\n",
      "{'http': 'http://47.89.153.213:', 'https': 'https://47.89.153.213:'}\n",
      "Success\n"
     ]
    },
    {
     "name": "stderr",
     "output_type": "stream",
     "text": [
      " 43%|███████████████████████████████████▌                                              | 43/99 [00:09<00:12,  4.66it/s]"
     ]
    },
    {
     "name": "stdout",
     "output_type": "stream",
     "text": [
      "{'http': 'http://47.88.7.115:3129', 'https': 'https://47.88.7.115:3129'}\n",
      "Success\n",
      "{'http': 'http://216.169.73.65:34679', 'https': 'https://216.169.73.65:34679'}\n"
     ]
    },
    {
     "name": "stderr",
     "output_type": "stream",
     "text": [
      "\r",
      " 44%|████████████████████████████████████▍                                             | 44/99 [00:09<00:11,  4.78it/s]"
     ]
    },
    {
     "name": "stdout",
     "output_type": "stream",
     "text": [
      "Success\n",
      "{'http': 'http://47.89.153.213:', 'https': 'https://47.89.153.213:'}\n",
      "Success\n"
     ]
    },
    {
     "name": "stderr",
     "output_type": "stream",
     "text": [
      " 46%|██████████████████████████████████████                                            | 46/99 [00:09<00:10,  5.05it/s]"
     ]
    },
    {
     "name": "stdout",
     "output_type": "stream",
     "text": [
      "{'http': 'http://40.136.41.6:', 'https': 'https://40.136.41.6:'}\n",
      "Success\n",
      "{'http': 'http://192.155.107.60:', 'https': 'https://192.155.107.60:'}\n"
     ]
    },
    {
     "name": "stderr",
     "output_type": "stream",
     "text": [
      " 48%|███████████████████████████████████████▊                                          | 48/99 [00:10<00:09,  5.41it/s]"
     ]
    },
    {
     "name": "stdout",
     "output_type": "stream",
     "text": [
      "Success\n",
      "{'http': 'http://47.88.7.115:3129', 'https': 'https://47.88.7.115:3129'}\n",
      "Success\n"
     ]
    },
    {
     "name": "stderr",
     "output_type": "stream",
     "text": [
      "\r",
      " 49%|████████████████████████████████████████▌                                         | 49/99 [00:10<00:09,  5.18it/s]"
     ]
    },
    {
     "name": "stdout",
     "output_type": "stream",
     "text": [
      "{'http': 'http://204.16.1.169:82', 'https': 'https://204.16.1.169:82'}\n",
      "Success\n",
      "{'http': 'http://107.151.182.247:', 'https': 'https://107.151.182.247:'}\n"
     ]
    },
    {
     "name": "stderr",
     "output_type": "stream",
     "text": [
      "\r",
      " 51%|█████████████████████████████████████████▍                                        | 50/99 [00:10<00:10,  4.63it/s]"
     ]
    },
    {
     "name": "stdout",
     "output_type": "stream",
     "text": [
      "Success\n",
      "{'http': 'http://52.168.34.113:', 'https': 'https://52.168.34.113:'}\n"
     ]
    },
    {
     "name": "stderr",
     "output_type": "stream",
     "text": [
      " 53%|███████████████████████████████████████████                                       | 52/99 [00:11<00:09,  4.73it/s]"
     ]
    },
    {
     "name": "stdout",
     "output_type": "stream",
     "text": [
      "Success\n",
      "{'http': 'http://138.68.235.51:', 'https': 'https://138.68.235.51:'}\n",
      "Success\n"
     ]
    },
    {
     "name": "stderr",
     "output_type": "stream",
     "text": [
      "\r",
      " 54%|███████████████████████████████████████████▉                                      | 53/99 [00:11<00:09,  4.69it/s]"
     ]
    },
    {
     "name": "stdout",
     "output_type": "stream",
     "text": [
      "{'http': 'http://20.47.108.204:8888', 'https': 'https://20.47.108.204:8888'}\n",
      "Success\n",
      "{'http': 'http://54.244.204.46:', 'https': 'https://54.244.204.46:'}\n",
      "Success\n"
     ]
    },
    {
     "name": "stderr",
     "output_type": "stream",
     "text": [
      " 56%|█████████████████████████████████████████████▌                                    | 55/99 [00:11<00:08,  4.94it/s]"
     ]
    },
    {
     "name": "stdout",
     "output_type": "stream",
     "text": [
      "{'http': 'http://72.47.152.224:55443', 'https': 'https://72.47.152.224:55443'}\n",
      "Success\n",
      "{'http': 'http://76.81.164.246:', 'https': 'https://76.81.164.246:'}\n"
     ]
    },
    {
     "name": "stderr",
     "output_type": "stream",
     "text": [
      "\r",
      " 57%|██████████████████████████████████████████████▍                                   | 56/99 [00:11<00:08,  5.08it/s]"
     ]
    },
    {
     "name": "stdout",
     "output_type": "stream",
     "text": [
      "Success\n",
      "{'http': 'http://3.230.91.35:', 'https': 'https://3.230.91.35:'}\n",
      "Success\n"
     ]
    },
    {
     "name": "stderr",
     "output_type": "stream",
     "text": [
      " 59%|████████████████████████████████████████████████                                  | 58/99 [00:12<00:08,  5.03it/s]"
     ]
    },
    {
     "name": "stdout",
     "output_type": "stream",
     "text": [
      "{'http': 'http://52.168.34.113:', 'https': 'https://52.168.34.113:'}\n",
      "Success\n"
     ]
    },
    {
     "name": "stderr",
     "output_type": "stream",
     "text": [
      "\r",
      " 60%|████████████████████████████████████████████████▊                                 | 59/99 [00:12<00:08,  4.85it/s]"
     ]
    },
    {
     "name": "stdout",
     "output_type": "stream",
     "text": [
      "{'http': 'http://63.161.104.189:', 'https': 'https://63.161.104.189:'}\n",
      "Success\n",
      "{'http': 'http://47.89.153.213:', 'https': 'https://47.89.153.213:'}\n"
     ]
    },
    {
     "name": "stderr",
     "output_type": "stream",
     "text": [
      "\r",
      " 61%|█████████████████████████████████████████████████▋                                | 60/99 [00:12<00:08,  4.49it/s]"
     ]
    },
    {
     "name": "stdout",
     "output_type": "stream",
     "text": [
      "Success\n",
      "{'http': 'http://63.161.104.189:', 'https': 'https://63.161.104.189:'}\n"
     ]
    },
    {
     "name": "stderr",
     "output_type": "stream",
     "text": [
      " 63%|███████████████████████████████████████████████████▎                              | 62/99 [00:13<00:11,  3.19it/s]"
     ]
    },
    {
     "name": "stdout",
     "output_type": "stream",
     "text": [
      "Success\n",
      "{'http': 'http://72.47.152.224:55443', 'https': 'https://72.47.152.224:55443'}\n",
      "Success\n",
      "{'http': 'http://3.217.161.14:', 'https': 'https://3.217.161.14:'}\n"
     ]
    },
    {
     "name": "stderr",
     "output_type": "stream",
     "text": [
      " 65%|█████████████████████████████████████████████████████                             | 64/99 [00:14<00:08,  4.08it/s]"
     ]
    },
    {
     "name": "stdout",
     "output_type": "stream",
     "text": [
      "Success\n",
      "{'http': 'http://72.47.152.224:55443', 'https': 'https://72.47.152.224:55443'}\n",
      "Success\n",
      "{'http': 'http://192.155.107.59:', 'https': 'https://192.155.107.59:'}\n"
     ]
    },
    {
     "name": "stderr",
     "output_type": "stream",
     "text": [
      " 67%|██████████████████████████████████████████████████████▋                           | 66/99 [00:14<00:07,  4.71it/s]"
     ]
    },
    {
     "name": "stdout",
     "output_type": "stream",
     "text": [
      "Success\n",
      "{'http': 'http://159.65.69.186:9300', 'https': 'https://159.65.69.186:9300'}\n",
      "Success\n",
      "{'http': 'http://204.16.1.169:82', 'https': 'https://204.16.1.169:82'}\n"
     ]
    },
    {
     "name": "stderr",
     "output_type": "stream",
     "text": [
      "\r",
      " 68%|███████████████████████████████████████████████████████▍                          | 67/99 [00:14<00:07,  4.48it/s]"
     ]
    },
    {
     "name": "stdout",
     "output_type": "stream",
     "text": [
      "Success\n",
      "{'http': 'http://173.196.205.170:', 'https': 'https://173.196.205.170:'}\n"
     ]
    },
    {
     "name": "stderr",
     "output_type": "stream",
     "text": [
      "\r",
      " 69%|████████████████████████████████████████████████████████▎                         | 68/99 [00:14<00:07,  4.37it/s]"
     ]
    },
    {
     "name": "stdout",
     "output_type": "stream",
     "text": [
      "Success\n",
      "{'http': 'http://67.212.186.101:', 'https': 'https://67.212.186.101:'}\n"
     ]
    },
    {
     "name": "stderr",
     "output_type": "stream",
     "text": [
      " 71%|█████████████████████████████████████████████████████████▉                        | 70/99 [00:15<00:06,  4.74it/s]"
     ]
    },
    {
     "name": "stdout",
     "output_type": "stream",
     "text": [
      "Success\n",
      "{'http': 'http://161.35.4.201:', 'https': 'https://161.35.4.201:'}\n",
      "Success\n"
     ]
    },
    {
     "name": "stderr",
     "output_type": "stream",
     "text": [
      "\r",
      " 72%|██████████████████████████████████████████████████████████▊                       | 71/99 [00:15<00:05,  4.85it/s]"
     ]
    },
    {
     "name": "stdout",
     "output_type": "stream",
     "text": [
      "{'http': 'http://3.211.17.212:', 'https': 'https://3.211.17.212:'}\n",
      "Success\n"
     ]
    },
    {
     "name": "stderr",
     "output_type": "stream",
     "text": [
      "\r",
      " 73%|███████████████████████████████████████████████████████████▋                      | 72/99 [00:15<00:05,  4.88it/s]"
     ]
    },
    {
     "name": "stdout",
     "output_type": "stream",
     "text": [
      "{'http': 'http://40.136.41.6:', 'https': 'https://40.136.41.6:'}\n",
      "Success\n"
     ]
    },
    {
     "name": "stderr",
     "output_type": "stream",
     "text": [
      "\r",
      " 74%|████████████████████████████████████████████████████████████▍                     | 73/99 [00:15<00:05,  5.16it/s]"
     ]
    },
    {
     "name": "stdout",
     "output_type": "stream",
     "text": [
      "{'http': 'http://173.196.205.170:', 'https': 'https://173.196.205.170:'}\n",
      "Success\n",
      "{'http': 'http://66.211.155.34:', 'https': 'https://66.211.155.34:'}\n"
     ]
    },
    {
     "name": "stderr",
     "output_type": "stream",
     "text": [
      "\r",
      " 75%|█████████████████████████████████████████████████████████████▎                    | 74/99 [00:16<00:06,  4.16it/s]"
     ]
    },
    {
     "name": "stdout",
     "output_type": "stream",
     "text": [
      "Success\n",
      "{'http': 'http://12.151.56.30:', 'https': 'https://12.151.56.30:'}\n",
      "Success\n"
     ]
    },
    {
     "name": "stderr",
     "output_type": "stream",
     "text": [
      "\r",
      " 76%|██████████████████████████████████████████████████████████████                    | 75/99 [00:16<00:05,  4.33it/s]"
     ]
    },
    {
     "name": "stdout",
     "output_type": "stream",
     "text": [
      "{'http': 'http://192.155.107.60:', 'https': 'https://192.155.107.60:'}\n"
     ]
    },
    {
     "name": "stderr",
     "output_type": "stream",
     "text": [
      "\r",
      " 77%|██████████████████████████████████████████████████████████████▉                   | 76/99 [00:16<00:06,  3.39it/s]"
     ]
    },
    {
     "name": "stdout",
     "output_type": "stream",
     "text": [
      "Success\n",
      "{'http': 'http://54.244.204.46:', 'https': 'https://54.244.204.46:'}\n"
     ]
    },
    {
     "name": "stderr",
     "output_type": "stream",
     "text": [
      "\r",
      " 78%|███████████████████████████████████████████████████████████████▊                  | 77/99 [00:17<00:05,  3.71it/s]"
     ]
    },
    {
     "name": "stdout",
     "output_type": "stream",
     "text": [
      "Success\n",
      "{'http': 'http://12.151.56.30:', 'https': 'https://12.151.56.30:'}\n",
      "Success\n"
     ]
    },
    {
     "name": "stderr",
     "output_type": "stream",
     "text": [
      "\r",
      " 79%|████████████████████████████████████████████████████████████████▌                 | 78/99 [00:17<00:05,  3.99it/s]"
     ]
    },
    {
     "name": "stdout",
     "output_type": "stream",
     "text": [
      "{'http': 'http://64.227.62.123:', 'https': 'https://64.227.62.123:'}\n"
     ]
    },
    {
     "name": "stderr",
     "output_type": "stream",
     "text": [
      " 81%|██████████████████████████████████████████████████████████████████▎               | 80/99 [00:17<00:04,  4.55it/s]"
     ]
    },
    {
     "name": "stdout",
     "output_type": "stream",
     "text": [
      "Success\n",
      "{'http': 'http://20.47.108.204:8888', 'https': 'https://20.47.108.204:8888'}\n",
      "Request: <module 'requests' from 'C:\\\\Users\\\\nguye\\\\anaconda3\\\\lib\\\\site-packages\\\\requests\\\\__init__.py'>; Status code: 404\n",
      "17654\n",
      "{'http': 'http://3.217.161.14:', 'https': 'https://3.217.161.14:'}\n"
     ]
    },
    {
     "name": "stderr",
     "output_type": "stream",
     "text": [
      " 83%|███████████████████████████████████████████████████████████████████▉              | 82/99 [00:17<00:03,  5.04it/s]"
     ]
    },
    {
     "name": "stdout",
     "output_type": "stream",
     "text": [
      "Request: <module 'requests' from 'C:\\\\Users\\\\nguye\\\\anaconda3\\\\lib\\\\site-packages\\\\requests\\\\__init__.py'>; Status code: 404\n",
      "17655\n",
      "{'http': 'http://20.47.108.204:8888', 'https': 'https://20.47.108.204:8888'}\n",
      "Success\n",
      "{'http': 'http://64.227.62.123:', 'https': 'https://64.227.62.123:'}\n"
     ]
    },
    {
     "name": "stderr",
     "output_type": "stream",
     "text": [
      " 85%|█████████████████████████████████████████████████████████████████████▌            | 84/99 [00:18<00:02,  5.26it/s]"
     ]
    },
    {
     "name": "stdout",
     "output_type": "stream",
     "text": [
      "Success\n",
      "{'http': 'http://64.227.62.123:', 'https': 'https://64.227.62.123:'}\n",
      "Success\n",
      "{'http': 'http://208.72.154.111:8888', 'https': 'https://208.72.154.111:8888'}\n"
     ]
    },
    {
     "name": "stderr",
     "output_type": "stream",
     "text": [
      "\r",
      " 86%|██████████████████████████████████████████████████████████████████████▍           | 85/99 [00:18<00:02,  4.83it/s]"
     ]
    },
    {
     "name": "stdout",
     "output_type": "stream",
     "text": [
      "Success\n",
      "{'http': 'http://208.72.154.111:8888', 'https': 'https://208.72.154.111:8888'}\n"
     ]
    },
    {
     "name": "stderr",
     "output_type": "stream",
     "text": [
      " 88%|████████████████████████████████████████████████████████████████████████          | 87/99 [00:19<00:02,  4.34it/s]"
     ]
    },
    {
     "name": "stdout",
     "output_type": "stream",
     "text": [
      "Success\n",
      "{'http': 'http://72.47.152.224:55443', 'https': 'https://72.47.152.224:55443'}\n",
      "Success\n",
      "{'http': 'http://132.145.195.93:', 'https': 'https://132.145.195.93:'}\n"
     ]
    },
    {
     "name": "stderr",
     "output_type": "stream",
     "text": [
      " 90%|█████████████████████████████████████████████████████████████████████████▋        | 89/99 [00:19<00:02,  4.98it/s]"
     ]
    },
    {
     "name": "stdout",
     "output_type": "stream",
     "text": [
      "Success\n",
      "{'http': 'http://52.168.34.113:', 'https': 'https://52.168.34.113:'}\n",
      "Success\n",
      "{'http': 'http://47.89.153.213:', 'https': 'https://47.89.153.213:'}\n"
     ]
    },
    {
     "name": "stderr",
     "output_type": "stream",
     "text": [
      " 92%|███████████████████████████████████████████████████████████████████████████▎      | 91/99 [00:19<00:01,  5.27it/s]"
     ]
    },
    {
     "name": "stdout",
     "output_type": "stream",
     "text": [
      "Success\n",
      "{'http': 'http://23.225.64.59:1089', 'https': 'https://23.225.64.59:1089'}\n",
      "Success\n"
     ]
    },
    {
     "name": "stderr",
     "output_type": "stream",
     "text": [
      "\r",
      " 93%|████████████████████████████████████████████████████████████████████████████▏     | 92/99 [00:19<00:01,  5.51it/s]"
     ]
    },
    {
     "name": "stdout",
     "output_type": "stream",
     "text": [
      "{'http': 'http://186.233.186.60:', 'https': 'https://186.233.186.60:'}\n",
      "Success\n",
      "{'http': 'http://204.16.1.169:82', 'https': 'https://204.16.1.169:82'}\n"
     ]
    },
    {
     "name": "stderr",
     "output_type": "stream",
     "text": [
      " 95%|█████████████████████████████████████████████████████████████████████████████▊    | 94/99 [00:20<00:00,  5.89it/s]"
     ]
    },
    {
     "name": "stdout",
     "output_type": "stream",
     "text": [
      "Success\n",
      "{'http': 'http://54.244.204.46:', 'https': 'https://54.244.204.46:'}\n",
      "Success\n",
      "{'http': 'http://204.16.1.169:82', 'https': 'https://204.16.1.169:82'}\n"
     ]
    },
    {
     "name": "stderr",
     "output_type": "stream",
     "text": [
      "\r",
      " 96%|██████████████████████████████████████████████████████████████████████████████▋   | 95/99 [00:20<00:00,  5.09it/s]"
     ]
    },
    {
     "name": "stdout",
     "output_type": "stream",
     "text": [
      "Success\n",
      "{'http': 'http://204.16.1.169:82', 'https': 'https://204.16.1.169:82'}\n"
     ]
    },
    {
     "name": "stderr",
     "output_type": "stream",
     "text": [
      "\r",
      " 97%|███████████████████████████████████████████████████████████████████████████████▌  | 96/99 [00:21<00:00,  3.61it/s]"
     ]
    },
    {
     "name": "stdout",
     "output_type": "stream",
     "text": [
      "Success\n",
      "{'http': 'http://76.81.164.246:', 'https': 'https://76.81.164.246:'}\n",
      "Success\n"
     ]
    },
    {
     "name": "stderr",
     "output_type": "stream",
     "text": [
      " 99%|█████████████████████████████████████████████████████████████████████████████████▏| 98/99 [00:21<00:00,  4.41it/s]"
     ]
    },
    {
     "name": "stdout",
     "output_type": "stream",
     "text": [
      "{'http': 'http://159.65.69.186:9300', 'https': 'https://159.65.69.186:9300'}\n",
      "Success\n",
      "{'http': 'http://76.81.164.246:', 'https': 'https://76.81.164.246:'}\n"
     ]
    },
    {
     "name": "stderr",
     "output_type": "stream",
     "text": [
      "100%|██████████████████████████████████████████████████████████████████████████████████| 99/99 [00:21<00:00,  4.58it/s]"
     ]
    },
    {
     "name": "stdout",
     "output_type": "stream",
     "text": [
      "Success\n"
     ]
    },
    {
     "name": "stderr",
     "output_type": "stream",
     "text": [
      "\n",
      "  1%|█▏                                                                                 | 1/71 [00:00<00:13,  5.19it/s]"
     ]
    },
    {
     "name": "stdout",
     "output_type": "stream",
     "text": [
      "{'http': 'http://74.205.128.200:', 'https': 'https://74.205.128.200:'}\n",
      "Success\n"
     ]
    },
    {
     "name": "stderr",
     "output_type": "stream",
     "text": [
      "\r",
      "  3%|██▎                                                                                | 2/71 [00:00<00:12,  5.34it/s]"
     ]
    },
    {
     "name": "stdout",
     "output_type": "stream",
     "text": [
      "{'http': 'http://186.233.186.60:', 'https': 'https://186.233.186.60:'}\n",
      "Success\n",
      "{'http': 'http://47.88.7.115:3129', 'https': 'https://47.88.7.115:3129'}\n"
     ]
    },
    {
     "name": "stderr",
     "output_type": "stream",
     "text": [
      "  6%|████▋                                                                              | 4/71 [00:00<00:12,  5.18it/s]"
     ]
    },
    {
     "name": "stdout",
     "output_type": "stream",
     "text": [
      "Success\n",
      "{'http': 'http://107.151.182.247:', 'https': 'https://107.151.182.247:'}\n",
      "Success\n",
      "{'http': 'http://52.168.34.113:', 'https': 'https://52.168.34.113:'}\n"
     ]
    },
    {
     "name": "stderr",
     "output_type": "stream",
     "text": [
      "  8%|███████                                                                            | 6/71 [00:01<00:13,  4.72it/s]"
     ]
    },
    {
     "name": "stdout",
     "output_type": "stream",
     "text": [
      "Success\n",
      "{'http': 'http://74.205.128.200:', 'https': 'https://74.205.128.200:'}\n",
      "Success\n"
     ]
    },
    {
     "name": "stderr",
     "output_type": "stream",
     "text": [
      "\r",
      " 10%|████████▏                                                                          | 7/71 [00:01<00:12,  5.04it/s]"
     ]
    },
    {
     "name": "stdout",
     "output_type": "stream",
     "text": [
      "{'http': 'http://63.161.104.189:', 'https': 'https://63.161.104.189:'}\n",
      "Success\n",
      "{'http': 'http://138.68.235.51:', 'https': 'https://138.68.235.51:'}\n"
     ]
    },
    {
     "name": "stderr",
     "output_type": "stream",
     "text": [
      " 13%|██████████▌                                                                        | 9/71 [00:01<00:11,  5.29it/s]"
     ]
    },
    {
     "name": "stdout",
     "output_type": "stream",
     "text": [
      "Success\n",
      "{'http': 'http://104.192.202.11:', 'https': 'https://104.192.202.11:'}\n",
      "Success\n"
     ]
    },
    {
     "name": "stderr",
     "output_type": "stream",
     "text": [
      "\r",
      " 14%|███████████▌                                                                      | 10/71 [00:01<00:11,  5.15it/s]"
     ]
    },
    {
     "name": "stdout",
     "output_type": "stream",
     "text": [
      "{'http': 'http://66.211.155.34:', 'https': 'https://66.211.155.34:'}\n",
      "Success\n"
     ]
    },
    {
     "name": "stderr",
     "output_type": "stream",
     "text": [
      "\r",
      " 15%|████████████▋                                                                     | 11/71 [00:02<00:11,  5.08it/s]"
     ]
    },
    {
     "name": "stdout",
     "output_type": "stream",
     "text": [
      "{'http': 'http://208.72.154.111:8888', 'https': 'https://208.72.154.111:8888'}\n",
      "Success\n"
     ]
    },
    {
     "name": "stderr",
     "output_type": "stream",
     "text": [
      "\r",
      " 17%|█████████████▊                                                                    | 12/71 [00:02<00:11,  5.10it/s]"
     ]
    },
    {
     "name": "stdout",
     "output_type": "stream",
     "text": [
      "{'http': 'http://107.151.182.247:', 'https': 'https://107.151.182.247:'}\n",
      "Success\n"
     ]
    },
    {
     "name": "stderr",
     "output_type": "stream",
     "text": [
      "\r",
      " 18%|███████████████                                                                   | 13/71 [00:02<00:10,  5.38it/s]"
     ]
    },
    {
     "name": "stdout",
     "output_type": "stream",
     "text": [
      "{'http': 'http://72.47.152.224:55443', 'https': 'https://72.47.152.224:55443'}\n",
      "Success\n",
      "{'http': 'http://192.155.107.60:', 'https': 'https://192.155.107.60:'}\n"
     ]
    },
    {
     "name": "stderr",
     "output_type": "stream",
     "text": [
      "\r",
      " 20%|████████████████▏                                                                 | 14/71 [00:02<00:10,  5.31it/s]"
     ]
    },
    {
     "name": "stdout",
     "output_type": "stream",
     "text": [
      "Success\n",
      "{'http': 'http://192.155.107.59:', 'https': 'https://192.155.107.59:'}\n"
     ]
    },
    {
     "name": "stderr",
     "output_type": "stream",
     "text": [
      " 23%|██████████████████▍                                                               | 16/71 [00:09<01:24,  1.54s/it]"
     ]
    },
    {
     "name": "stdout",
     "output_type": "stream",
     "text": [
      "Success\n",
      "{'http': 'http://192.155.107.60:', 'https': 'https://192.155.107.60:'}\n",
      "Success\n",
      "{'http': 'http://3.230.91.35:', 'https': 'https://3.230.91.35:'}\n"
     ]
    },
    {
     "name": "stderr",
     "output_type": "stream",
     "text": [
      " 25%|████████████████████▊                                                             | 18/71 [00:09<00:46,  1.15it/s]"
     ]
    },
    {
     "name": "stdout",
     "output_type": "stream",
     "text": [
      "Success\n",
      "{'http': 'http://107.151.182.247:', 'https': 'https://107.151.182.247:'}\n",
      "Success\n",
      "{'http': 'http://52.168.34.113:', 'https': 'https://52.168.34.113:'}\n"
     ]
    },
    {
     "name": "stderr",
     "output_type": "stream",
     "text": [
      " 28%|███████████████████████                                                           | 20/71 [00:10<00:25,  1.96it/s]"
     ]
    },
    {
     "name": "stdout",
     "output_type": "stream",
     "text": [
      "Success\n",
      "{'http': 'http://208.72.154.111:8888', 'https': 'https://208.72.154.111:8888'}\n",
      "Success\n",
      "{'http': 'http://54.244.204.46:', 'https': 'https://54.244.204.46:'}\n"
     ]
    },
    {
     "name": "stderr",
     "output_type": "stream",
     "text": [
      "\r",
      " 30%|████████████████████████▎                                                         | 21/71 [00:10<00:20,  2.47it/s]"
     ]
    },
    {
     "name": "stdout",
     "output_type": "stream",
     "text": [
      "Success\n",
      "{'http': 'http://161.35.4.201:', 'https': 'https://161.35.4.201:'}\n"
     ]
    },
    {
     "name": "stderr",
     "output_type": "stream",
     "text": [
      "\r",
      " 31%|█████████████████████████▍                                                        | 22/71 [00:11<00:29,  1.67it/s]"
     ]
    },
    {
     "name": "stdout",
     "output_type": "stream",
     "text": [
      "Success\n",
      "{'http': 'http://186.233.186.60:', 'https': 'https://186.233.186.60:'}\n"
     ]
    },
    {
     "name": "stderr",
     "output_type": "stream",
     "text": [
      " 34%|███████████████████████████▋                                                      | 24/71 [00:11<00:18,  2.50it/s]"
     ]
    },
    {
     "name": "stdout",
     "output_type": "stream",
     "text": [
      "Success\n",
      "{'http': 'http://173.196.205.170:', 'https': 'https://173.196.205.170:'}\n",
      "Success\n"
     ]
    },
    {
     "name": "stderr",
     "output_type": "stream",
     "text": [
      "\r",
      " 35%|████████████████████████████▊                                                     | 25/71 [00:12<00:15,  3.01it/s]"
     ]
    },
    {
     "name": "stdout",
     "output_type": "stream",
     "text": [
      "{'http': 'http://54.80.246.241:', 'https': 'https://54.80.246.241:'}\n",
      "Success\n",
      "{'http': 'http://47.252.82.135:', 'https': 'https://47.252.82.135:'}\n"
     ]
    },
    {
     "name": "stderr",
     "output_type": "stream",
     "text": [
      "\r",
      " 37%|██████████████████████████████                                                    | 26/71 [00:12<00:13,  3.41it/s]"
     ]
    },
    {
     "name": "stdout",
     "output_type": "stream",
     "text": [
      "Success\n",
      "{'http': 'http://154.85.35.235:8888', 'https': 'https://154.85.35.235:8888'}\n",
      "Success\n"
     ]
    },
    {
     "name": "stderr",
     "output_type": "stream",
     "text": [
      "\r",
      " 38%|███████████████████████████████▏                                                  | 27/71 [00:12<00:11,  3.77it/s]"
     ]
    },
    {
     "name": "stdout",
     "output_type": "stream",
     "text": [
      "{'http': 'http://47.88.7.115:3129', 'https': 'https://47.88.7.115:3129'}\n",
      "Success\n"
     ]
    },
    {
     "name": "stderr",
     "output_type": "stream",
     "text": [
      "\r",
      " 39%|████████████████████████████████▎                                                 | 28/71 [00:12<00:10,  4.00it/s]"
     ]
    },
    {
     "name": "stdout",
     "output_type": "stream",
     "text": [
      "{'http': 'http://20.47.108.204:8888', 'https': 'https://20.47.108.204:8888'}\n"
     ]
    },
    {
     "name": "stderr",
     "output_type": "stream",
     "text": [
      "\r",
      " 41%|█████████████████████████████████▍                                                | 29/71 [00:13<00:10,  3.85it/s]"
     ]
    },
    {
     "name": "stdout",
     "output_type": "stream",
     "text": [
      "Success\n",
      "{'http': 'http://20.47.108.204:8888', 'https': 'https://20.47.108.204:8888'}\n"
     ]
    },
    {
     "name": "stderr",
     "output_type": "stream",
     "text": [
      " 44%|███████████████████████████████████▊                                              | 31/71 [00:13<00:08,  4.50it/s]"
     ]
    },
    {
     "name": "stdout",
     "output_type": "stream",
     "text": [
      "Success\n",
      "{'http': 'http://47.252.82.135:', 'https': 'https://47.252.82.135:'}\n",
      "Success\n",
      "{'http': 'http://23.225.64.59:1089', 'https': 'https://23.225.64.59:1089'}\n"
     ]
    },
    {
     "name": "stderr",
     "output_type": "stream",
     "text": [
      " 46%|██████████████████████████████████████                                            | 33/71 [00:13<00:07,  4.96it/s]"
     ]
    },
    {
     "name": "stdout",
     "output_type": "stream",
     "text": [
      "Success\n",
      "{'http': 'http://154.85.35.235:8888', 'https': 'https://154.85.35.235:8888'}\n",
      "Success\n"
     ]
    },
    {
     "name": "stderr",
     "output_type": "stream",
     "text": [
      "\r",
      " 48%|███████████████████████████████████████▎                                          | 34/71 [00:13<00:07,  5.00it/s]"
     ]
    },
    {
     "name": "stdout",
     "output_type": "stream",
     "text": [
      "{'http': 'http://47.88.7.115:3129', 'https': 'https://47.88.7.115:3129'}\n",
      "Success\n"
     ]
    },
    {
     "name": "stderr",
     "output_type": "stream",
     "text": [
      "\r",
      " 49%|████████████████████████████████████████▍                                         | 35/71 [00:14<00:07,  5.07it/s]"
     ]
    },
    {
     "name": "stdout",
     "output_type": "stream",
     "text": [
      "{'http': 'http://20.47.108.204:8888', 'https': 'https://20.47.108.204:8888'}\n",
      "Success\n"
     ]
    },
    {
     "name": "stderr",
     "output_type": "stream",
     "text": [
      "\r",
      " 51%|█████████████████████████████████████████▌                                        | 36/71 [00:14<00:06,  5.09it/s]"
     ]
    },
    {
     "name": "stdout",
     "output_type": "stream",
     "text": [
      "{'http': 'http://64.227.62.123:', 'https': 'https://64.227.62.123:'}\n",
      "Success\n"
     ]
    },
    {
     "name": "stderr",
     "output_type": "stream",
     "text": [
      "\r",
      " 52%|██████████████████████████████████████████▋                                       | 37/71 [00:14<00:06,  5.33it/s]"
     ]
    },
    {
     "name": "stdout",
     "output_type": "stream",
     "text": [
      "{'http': 'http://47.252.82.135:', 'https': 'https://47.252.82.135:'}\n",
      "Success\n",
      "{'http': 'http://208.72.154.111:8888', 'https': 'https://208.72.154.111:8888'}\n"
     ]
    },
    {
     "name": "stderr",
     "output_type": "stream",
     "text": [
      "\r",
      " 54%|███████████████████████████████████████████▉                                      | 38/71 [00:14<00:06,  5.43it/s]"
     ]
    },
    {
     "name": "stdout",
     "output_type": "stream",
     "text": [
      "Success\n",
      "{'http': 'http://47.88.7.115:3129', 'https': 'https://47.88.7.115:3129'}\n"
     ]
    },
    {
     "name": "stderr",
     "output_type": "stream",
     "text": [
      "\r",
      " 55%|█████████████████████████████████████████████                                     | 39/71 [00:14<00:06,  4.74it/s]"
     ]
    },
    {
     "name": "stdout",
     "output_type": "stream",
     "text": [
      "Success\n",
      "{'http': 'http://23.225.64.59:1089', 'https': 'https://23.225.64.59:1089'}\n"
     ]
    },
    {
     "name": "stderr",
     "output_type": "stream",
     "text": [
      " 58%|███████████████████████████████████████████████▎                                  | 41/71 [00:15<00:06,  4.50it/s]"
     ]
    },
    {
     "name": "stdout",
     "output_type": "stream",
     "text": [
      "Success\n",
      "{'http': 'http://216.169.73.65:34679', 'https': 'https://216.169.73.65:34679'}\n",
      "Success\n"
     ]
    },
    {
     "name": "stderr",
     "output_type": "stream",
     "text": [
      "\r",
      " 59%|████████████████████████████████████████████████▌                                 | 42/71 [00:15<00:06,  4.73it/s]"
     ]
    },
    {
     "name": "stdout",
     "output_type": "stream",
     "text": [
      "{'http': 'http://154.85.35.235:8888', 'https': 'https://154.85.35.235:8888'}\n",
      "Success\n"
     ]
    },
    {
     "name": "stderr",
     "output_type": "stream",
     "text": [
      "\r",
      " 61%|█████████████████████████████████████████████████▋                                | 43/71 [00:15<00:05,  4.88it/s]"
     ]
    },
    {
     "name": "stdout",
     "output_type": "stream",
     "text": [
      "{'http': 'http://74.205.128.200:', 'https': 'https://74.205.128.200:'}\n",
      "Success\n"
     ]
    },
    {
     "name": "stderr",
     "output_type": "stream",
     "text": [
      "\r",
      " 62%|██████████████████████████████████████████████████▊                               | 44/71 [00:16<00:05,  4.92it/s]"
     ]
    },
    {
     "name": "stdout",
     "output_type": "stream",
     "text": [
      "{'http': 'http://3.217.161.14:', 'https': 'https://3.217.161.14:'}\n",
      "Success\n"
     ]
    },
    {
     "name": "stderr",
     "output_type": "stream",
     "text": [
      "\r",
      " 63%|███████████████████████████████████████████████████▉                              | 45/71 [00:16<00:05,  4.94it/s]"
     ]
    },
    {
     "name": "stdout",
     "output_type": "stream",
     "text": [
      "{'http': 'http://132.145.195.93:', 'https': 'https://132.145.195.93:'}\n",
      "Success\n"
     ]
    },
    {
     "name": "stderr",
     "output_type": "stream",
     "text": [
      "\r",
      " 65%|█████████████████████████████████████████████████████▏                            | 46/71 [00:16<00:04,  5.28it/s]"
     ]
    },
    {
     "name": "stdout",
     "output_type": "stream",
     "text": [
      "{'http': 'http://76.81.164.246:', 'https': 'https://76.81.164.246:'}\n",
      "Success\n",
      "{'http': 'http://66.211.155.34:', 'https': 'https://66.211.155.34:'}\n"
     ]
    },
    {
     "name": "stderr",
     "output_type": "stream",
     "text": [
      "\r",
      " 66%|██████████████████████████████████████████████████████▎                           | 47/71 [00:16<00:04,  5.27it/s]"
     ]
    },
    {
     "name": "stdout",
     "output_type": "stream",
     "text": [
      "Success\n",
      "{'http': 'http://67.212.186.101:', 'https': 'https://67.212.186.101:'}\n"
     ]
    },
    {
     "name": "stderr",
     "output_type": "stream",
     "text": [
      "\r",
      " 68%|███████████████████████████████████████████████████████▍                          | 48/71 [00:16<00:04,  4.76it/s]"
     ]
    },
    {
     "name": "stdout",
     "output_type": "stream",
     "text": [
      "Success\n",
      "{'http': 'http://204.16.1.169:82', 'https': 'https://204.16.1.169:82'}\n"
     ]
    },
    {
     "name": "stderr",
     "output_type": "stream",
     "text": [
      "\r",
      " 69%|████████████████████████████████████████████████████████▌                         | 49/71 [00:17<00:05,  3.75it/s]"
     ]
    },
    {
     "name": "stdout",
     "output_type": "stream",
     "text": [
      "Success\n",
      "{'http': 'http://138.68.235.51:', 'https': 'https://138.68.235.51:'}\n",
      "Success\n"
     ]
    },
    {
     "name": "stderr",
     "output_type": "stream",
     "text": [
      " 72%|██████████████████████████████████████████████████████████▉                       | 51/71 [00:17<00:04,  4.25it/s]"
     ]
    },
    {
     "name": "stdout",
     "output_type": "stream",
     "text": [
      "{'http': 'http://63.161.104.189:', 'https': 'https://63.161.104.189:'}\n",
      "Success\n"
     ]
    },
    {
     "name": "stderr",
     "output_type": "stream",
     "text": [
      "\r",
      " 73%|████████████████████████████████████████████████████████████                      | 52/71 [00:17<00:04,  4.42it/s]"
     ]
    },
    {
     "name": "stdout",
     "output_type": "stream",
     "text": [
      "{'http': 'http://47.89.153.213:', 'https': 'https://47.89.153.213:'}\n",
      "Success\n"
     ]
    },
    {
     "name": "stderr",
     "output_type": "stream",
     "text": [
      "\r",
      " 75%|█████████████████████████████████████████████████████████████▏                    | 53/71 [00:18<00:03,  4.65it/s]"
     ]
    },
    {
     "name": "stdout",
     "output_type": "stream",
     "text": [
      "{'http': 'http://161.35.4.201:', 'https': 'https://161.35.4.201:'}\n",
      "Success\n"
     ]
    },
    {
     "name": "stderr",
     "output_type": "stream",
     "text": [
      "\r",
      " 76%|██████████████████████████████████████████████████████████████▎                   | 54/71 [00:18<00:03,  4.76it/s]"
     ]
    },
    {
     "name": "stdout",
     "output_type": "stream",
     "text": [
      "{'http': 'http://173.196.205.170:', 'https': 'https://173.196.205.170:'}\n",
      "Success\n"
     ]
    },
    {
     "name": "stderr",
     "output_type": "stream",
     "text": [
      "\r",
      " 77%|███████████████████████████████████████████████████████████████▌                  | 55/71 [00:18<00:03,  4.90it/s]"
     ]
    },
    {
     "name": "stdout",
     "output_type": "stream",
     "text": [
      "{'http': 'http://76.81.164.246:', 'https': 'https://76.81.164.246:'}\n",
      "Success\n",
      "{'http': 'http://63.161.104.189:', 'https': 'https://63.161.104.189:'}\n"
     ]
    },
    {
     "name": "stderr",
     "output_type": "stream",
     "text": [
      "\r",
      " 79%|████████████████████████████████████████████████████████████████▋                 | 56/71 [00:18<00:03,  4.76it/s]"
     ]
    },
    {
     "name": "stdout",
     "output_type": "stream",
     "text": [
      "Success\n",
      "{'http': 'http://52.168.34.113:', 'https': 'https://52.168.34.113:'}\n"
     ]
    },
    {
     "name": "stderr",
     "output_type": "stream",
     "text": [
      "\r",
      " 80%|█████████████████████████████████████████████████████████████████▊                | 57/71 [00:18<00:03,  4.22it/s]"
     ]
    },
    {
     "name": "stdout",
     "output_type": "stream",
     "text": [
      "Success\n",
      "{'http': 'http://67.212.186.101:', 'https': 'https://67.212.186.101:'}\n"
     ]
    },
    {
     "name": "stderr",
     "output_type": "stream",
     "text": [
      " 83%|████████████████████████████████████████████████████████████████████▏             | 59/71 [00:19<00:02,  4.48it/s]"
     ]
    },
    {
     "name": "stdout",
     "output_type": "stream",
     "text": [
      "Success\n",
      "{'http': 'http://64.227.62.123:', 'https': 'https://64.227.62.123:'}\n",
      "Success\n"
     ]
    },
    {
     "name": "stderr",
     "output_type": "stream",
     "text": [
      "\r",
      " 85%|█████████████████████████████████████████████████████████████████████▎            | 60/71 [00:19<00:02,  4.66it/s]"
     ]
    },
    {
     "name": "stdout",
     "output_type": "stream",
     "text": [
      "{'http': 'http://54.244.204.46:', 'https': 'https://54.244.204.46:'}\n",
      "Success\n",
      "{'http': 'http://47.252.82.135:', 'https': 'https://47.252.82.135:'}\n",
      "Success\n"
     ]
    },
    {
     "name": "stderr",
     "output_type": "stream",
     "text": [
      "\r",
      " 86%|██████████████████████████████████████████████████████████████████████▍           | 61/71 [00:19<00:02,  4.70it/s]"
     ]
    },
    {
     "name": "stdout",
     "output_type": "stream",
     "text": [
      "{'http': 'http://47.89.153.213:', 'https': 'https://47.89.153.213:'}\n",
      "Success\n"
     ]
    },
    {
     "name": "stderr",
     "output_type": "stream",
     "text": [
      " 89%|████████████████████████████████████████████████████████████████████████▊         | 63/71 [00:20<00:01,  4.28it/s]"
     ]
    },
    {
     "name": "stdout",
     "output_type": "stream",
     "text": [
      "{'http': 'http://47.89.153.213:', 'https': 'https://47.89.153.213:'}\n",
      "Success\n"
     ]
    },
    {
     "name": "stderr",
     "output_type": "stream",
     "text": [
      "\r",
      " 90%|█████████████████████████████████████████████████████████████████████████▉        | 64/71 [00:20<00:01,  4.52it/s]"
     ]
    },
    {
     "name": "stdout",
     "output_type": "stream",
     "text": [
      "{'http': 'http://208.72.154.111:8888', 'https': 'https://208.72.154.111:8888'}\n",
      "Success\n"
     ]
    },
    {
     "name": "stderr",
     "output_type": "stream",
     "text": [
      "\r",
      " 92%|███████████████████████████████████████████████████████████████████████████       | 65/71 [00:20<00:01,  4.72it/s]"
     ]
    },
    {
     "name": "stdout",
     "output_type": "stream",
     "text": [
      "{'http': 'http://107.151.182.247:', 'https': 'https://107.151.182.247:'}\n",
      "Success\n",
      "{'http': 'http://216.169.73.65:34679', 'https': 'https://216.169.73.65:34679'}\n"
     ]
    },
    {
     "name": "stderr",
     "output_type": "stream",
     "text": [
      "\r",
      " 93%|████████████████████████████████████████████████████████████████████████████▏     | 66/71 [00:20<00:01,  4.28it/s]"
     ]
    },
    {
     "name": "stdout",
     "output_type": "stream",
     "text": [
      "Success\n",
      "{'http': 'http://74.205.128.200:', 'https': 'https://74.205.128.200:'}\n"
     ]
    },
    {
     "name": "stderr",
     "output_type": "stream",
     "text": [
      " 96%|██████████████████████████████████████████████████████████████████████████████▌   | 68/71 [00:21<00:00,  4.38it/s]"
     ]
    },
    {
     "name": "stdout",
     "output_type": "stream",
     "text": [
      "Success\n",
      "{'http': 'http://159.65.69.186:9300', 'https': 'https://159.65.69.186:9300'}\n",
      "Success\n"
     ]
    },
    {
     "name": "stderr",
     "output_type": "stream",
     "text": [
      "\r",
      " 97%|███████████████████████████████████████████████████████████████████████████████▋  | 69/71 [00:21<00:00,  4.74it/s]"
     ]
    },
    {
     "name": "stdout",
     "output_type": "stream",
     "text": [
      "{'http': 'http://74.205.128.200:', 'https': 'https://74.205.128.200:'}\n",
      "Success\n",
      "{'http': 'http://76.81.164.246:', 'https': 'https://76.81.164.246:'}\n"
     ]
    },
    {
     "name": "stderr",
     "output_type": "stream",
     "text": [
      "100%|██████████████████████████████████████████████████████████████████████████████████| 71/71 [00:21<00:00,  5.06it/s]"
     ]
    },
    {
     "name": "stdout",
     "output_type": "stream",
     "text": [
      "Success\n",
      "{'http': 'http://20.47.108.204:8888', 'https': 'https://20.47.108.204:8888'}\n",
      "Success\n"
     ]
    },
    {
     "name": "stderr",
     "output_type": "stream",
     "text": [
      "100%|██████████████████████████████████████████████████████████████████████████████████| 71/71 [00:21<00:00,  3.23it/s]\n",
      "  0%|                                                                                          | 0/109 [00:00<?, ?it/s]"
     ]
    },
    {
     "name": "stdout",
     "output_type": "stream",
     "text": [
      "{'http': 'http://3.230.91.35:', 'https': 'https://3.230.91.35:'}\n"
     ]
    },
    {
     "name": "stderr",
     "output_type": "stream",
     "text": [
      "  2%|█▌                                                                                | 2/109 [00:00<00:22,  4.80it/s]"
     ]
    },
    {
     "name": "stdout",
     "output_type": "stream",
     "text": [
      "Success\n",
      "{'http': 'http://47.88.7.115:3129', 'https': 'https://47.88.7.115:3129'}\n",
      "Success\n"
     ]
    },
    {
     "name": "stderr",
     "output_type": "stream",
     "text": [
      "\r",
      "  3%|██▎                                                                               | 3/109 [00:00<00:21,  4.99it/s]"
     ]
    },
    {
     "name": "stdout",
     "output_type": "stream",
     "text": [
      "{'http': 'http://76.81.164.246:', 'https': 'https://76.81.164.246:'}\n",
      "Success\n"
     ]
    },
    {
     "name": "stderr",
     "output_type": "stream",
     "text": [
      "\r",
      "  4%|███                                                                               | 4/109 [00:00<00:21,  4.80it/s]"
     ]
    },
    {
     "name": "stdout",
     "output_type": "stream",
     "text": [
      "{'http': 'http://161.35.4.201:', 'https': 'https://161.35.4.201:'}\n",
      "Success\n",
      "{'http': 'http://154.85.35.235:8888', 'https': 'https://154.85.35.235:8888'}\n"
     ]
    },
    {
     "name": "stderr",
     "output_type": "stream",
     "text": [
      "  6%|████▌                                                                             | 6/109 [00:01<00:21,  4.78it/s]"
     ]
    },
    {
     "name": "stdout",
     "output_type": "stream",
     "text": [
      "Success\n",
      "{'http': 'http://161.35.4.201:', 'https': 'https://161.35.4.201:'}\n",
      "Success\n"
     ]
    },
    {
     "name": "stderr",
     "output_type": "stream",
     "text": [
      "\r",
      "  6%|█████▎                                                                            | 7/109 [00:01<00:19,  5.15it/s]"
     ]
    },
    {
     "name": "stdout",
     "output_type": "stream",
     "text": [
      "{'http': 'http://132.145.195.93:', 'https': 'https://132.145.195.93:'}\n",
      "Success\n",
      "{'http': 'http://154.85.35.235:8888', 'https': 'https://154.85.35.235:8888'}\n"
     ]
    },
    {
     "name": "stderr",
     "output_type": "stream",
     "text": [
      "  8%|██████▊                                                                           | 9/109 [00:01<00:17,  5.62it/s]"
     ]
    },
    {
     "name": "stdout",
     "output_type": "stream",
     "text": [
      "Success\n",
      "{'http': 'http://76.81.164.246:', 'https': 'https://76.81.164.246:'}\n",
      "Success\n",
      "{'http': 'http://173.196.205.170:', 'https': 'https://173.196.205.170:'}\n"
     ]
    },
    {
     "name": "stderr",
     "output_type": "stream",
     "text": [
      " 10%|████████▏                                                                        | 11/109 [00:02<00:16,  5.79it/s]"
     ]
    },
    {
     "name": "stdout",
     "output_type": "stream",
     "text": [
      "Success\n",
      "{'http': 'http://204.16.1.169:82', 'https': 'https://204.16.1.169:82'}\n",
      "Success\n",
      "{'http': 'http://20.47.108.204:8888', 'https': 'https://20.47.108.204:8888'}\n"
     ]
    },
    {
     "name": "stderr",
     "output_type": "stream",
     "text": [
      " 12%|█████████▋                                                                       | 13/109 [00:02<00:15,  6.03it/s]"
     ]
    },
    {
     "name": "stdout",
     "output_type": "stream",
     "text": [
      "Success\n",
      "{'http': 'http://20.47.108.204:8888', 'https': 'https://20.47.108.204:8888'}\n",
      "Success\n",
      "{'http': 'http://47.88.7.115:3129', 'https': 'https://47.88.7.115:3129'}\n"
     ]
    },
    {
     "name": "stderr",
     "output_type": "stream",
     "text": [
      "\r",
      " 13%|██████████▍                                                                      | 14/109 [00:02<00:16,  5.88it/s]"
     ]
    },
    {
     "name": "stdout",
     "output_type": "stream",
     "text": [
      "Success\n",
      "{'http': 'http://132.145.195.93:', 'https': 'https://132.145.195.93:'}\n"
     ]
    },
    {
     "name": "stderr",
     "output_type": "stream",
     "text": [
      "\r",
      " 14%|███████████▏                                                                     | 15/109 [00:02<00:18,  5.12it/s]"
     ]
    },
    {
     "name": "stdout",
     "output_type": "stream",
     "text": [
      "Success\n",
      "{'http': 'http://159.65.69.186:9300', 'https': 'https://159.65.69.186:9300'}\n"
     ]
    },
    {
     "name": "stderr",
     "output_type": "stream",
     "text": [
      " 16%|████████████▋                                                                    | 17/109 [00:03<00:18,  4.94it/s]"
     ]
    },
    {
     "name": "stdout",
     "output_type": "stream",
     "text": [
      "Success\n",
      "{'http': 'http://216.169.73.65:34679', 'https': 'https://216.169.73.65:34679'}\n",
      "Success\n"
     ]
    },
    {
     "name": "stderr",
     "output_type": "stream",
     "text": [
      "\r",
      " 17%|█████████████▍                                                                   | 18/109 [00:03<00:17,  5.08it/s]"
     ]
    },
    {
     "name": "stdout",
     "output_type": "stream",
     "text": [
      "{'http': 'http://208.72.154.111:8888', 'https': 'https://208.72.154.111:8888'}\n",
      "Success\n",
      "{'http': 'http://52.168.34.113:', 'https': 'https://52.168.34.113:'}\n"
     ]
    },
    {
     "name": "stderr",
     "output_type": "stream",
     "text": [
      " 18%|██████████████▊                                                                  | 20/109 [00:03<00:17,  5.14it/s]"
     ]
    },
    {
     "name": "stdout",
     "output_type": "stream",
     "text": [
      "Success\n",
      "{'http': 'http://54.80.246.241:', 'https': 'https://54.80.246.241:'}\n",
      "Success\n"
     ]
    },
    {
     "name": "stderr",
     "output_type": "stream",
     "text": [
      "\r",
      " 19%|███████████████▌                                                                 | 21/109 [00:04<00:16,  5.26it/s]"
     ]
    },
    {
     "name": "stdout",
     "output_type": "stream",
     "text": [
      "{'http': 'http://208.72.154.111:8888', 'https': 'https://208.72.154.111:8888'}\n",
      "Success\n",
      "{'http': 'http://192.155.107.60:', 'https': 'https://192.155.107.60:'}\n"
     ]
    },
    {
     "name": "stderr",
     "output_type": "stream",
     "text": [
      " 21%|█████████████████                                                                | 23/109 [00:04<00:15,  5.47it/s]"
     ]
    },
    {
     "name": "stdout",
     "output_type": "stream",
     "text": [
      "Success\n",
      "{'http': 'http://40.136.41.6:', 'https': 'https://40.136.41.6:'}\n",
      "Success\n",
      "{'http': 'http://67.212.186.101:', 'https': 'https://67.212.186.101:'}\n"
     ]
    },
    {
     "name": "stderr",
     "output_type": "stream",
     "text": [
      "\r",
      " 22%|█████████████████▊                                                               | 24/109 [00:04<00:15,  5.52it/s]"
     ]
    },
    {
     "name": "stdout",
     "output_type": "stream",
     "text": [
      "Success\n",
      "{'http': 'http://54.80.246.241:', 'https': 'https://54.80.246.241:'}\n",
      "Success\n"
     ]
    },
    {
     "name": "stderr",
     "output_type": "stream",
     "text": [
      "\r",
      " 23%|██████████████████▌                                                              | 25/109 [00:04<00:15,  5.34it/s]"
     ]
    },
    {
     "name": "stdout",
     "output_type": "stream",
     "text": [
      "{'http': 'http://154.85.35.235:8888', 'https': 'https://154.85.35.235:8888'}\n"
     ]
    },
    {
     "name": "stderr",
     "output_type": "stream",
     "text": [
      "\r",
      " 24%|███████████████████▎                                                             | 26/109 [00:05<00:17,  4.81it/s]"
     ]
    },
    {
     "name": "stdout",
     "output_type": "stream",
     "text": [
      "Success\n",
      "{'http': 'http://72.47.152.224:55443', 'https': 'https://72.47.152.224:55443'}\n",
      "Success\n"
     ]
    },
    {
     "name": "stderr",
     "output_type": "stream",
     "text": [
      " 26%|████████████████████▊                                                            | 28/109 [00:05<00:16,  5.03it/s]"
     ]
    },
    {
     "name": "stdout",
     "output_type": "stream",
     "text": [
      "{'http': 'http://47.252.82.135:', 'https': 'https://47.252.82.135:'}\n",
      "Success\n"
     ]
    },
    {
     "name": "stderr",
     "output_type": "stream",
     "text": [
      "\r",
      " 27%|█████████████████████▌                                                           | 29/109 [00:05<00:15,  5.21it/s]"
     ]
    },
    {
     "name": "stdout",
     "output_type": "stream",
     "text": [
      "{'http': 'http://54.80.246.241:', 'https': 'https://54.80.246.241:'}\n",
      "Success\n",
      "{'http': 'http://159.65.69.186:9300', 'https': 'https://159.65.69.186:9300'}\n"
     ]
    },
    {
     "name": "stderr",
     "output_type": "stream",
     "text": [
      " 28%|███████████████████████                                                          | 31/109 [00:05<00:14,  5.43it/s]"
     ]
    },
    {
     "name": "stdout",
     "output_type": "stream",
     "text": [
      "Success\n",
      "{'http': 'http://107.151.182.247:', 'https': 'https://107.151.182.247:'}\n",
      "Success\n"
     ]
    },
    {
     "name": "stderr",
     "output_type": "stream",
     "text": [
      "\r",
      " 29%|███████████████████████▊                                                         | 32/109 [00:06<00:14,  5.45it/s]"
     ]
    },
    {
     "name": "stdout",
     "output_type": "stream",
     "text": [
      "{'http': 'http://208.72.154.111:8888', 'https': 'https://208.72.154.111:8888'}\n",
      "Success\n",
      "{'http': 'http://40.136.41.6:', 'https': 'https://40.136.41.6:'}\n"
     ]
    },
    {
     "name": "stderr",
     "output_type": "stream",
     "text": [
      " 31%|█████████████████████████▎                                                       | 34/109 [00:06<00:13,  5.57it/s]"
     ]
    },
    {
     "name": "stdout",
     "output_type": "stream",
     "text": [
      "Success\n",
      "{'http': 'http://192.155.107.60:', 'https': 'https://192.155.107.60:'}\n",
      "Success\n",
      "{'http': 'http://54.244.204.46:', 'https': 'https://54.244.204.46:'}\n"
     ]
    },
    {
     "name": "stderr",
     "output_type": "stream",
     "text": [
      "\r",
      " 32%|██████████████████████████                                                       | 35/109 [00:06<00:13,  5.48it/s]"
     ]
    },
    {
     "name": "stdout",
     "output_type": "stream",
     "text": [
      "Success\n",
      "{'http': 'http://186.233.186.60:', 'https': 'https://186.233.186.60:'}\n"
     ]
    },
    {
     "name": "stderr",
     "output_type": "stream",
     "text": [
      " 34%|███████████████████████████▍                                                     | 37/109 [00:07<00:18,  3.86it/s]"
     ]
    },
    {
     "name": "stdout",
     "output_type": "stream",
     "text": [
      "Success\n",
      "{'http': 'http://47.252.82.135:', 'https': 'https://47.252.82.135:'}\n",
      "Success\n",
      "{'http': 'http://216.169.73.65:34679', 'https': 'https://216.169.73.65:34679'}\n"
     ]
    },
    {
     "name": "stderr",
     "output_type": "stream",
     "text": [
      " 36%|████████████████████████████▉                                                    | 39/109 [00:07<00:18,  3.69it/s]"
     ]
    },
    {
     "name": "stdout",
     "output_type": "stream",
     "text": [
      "Success\n",
      "{'http': 'http://173.196.205.170:', 'https': 'https://173.196.205.170:'}\n",
      "Success\n"
     ]
    },
    {
     "name": "stderr",
     "output_type": "stream",
     "text": [
      "\r",
      " 37%|█████████████████████████████▋                                                   | 40/109 [00:08<00:17,  4.00it/s]"
     ]
    },
    {
     "name": "stdout",
     "output_type": "stream",
     "text": [
      "{'http': 'http://72.47.152.224:55443', 'https': 'https://72.47.152.224:55443'}\n",
      "Success\n"
     ]
    },
    {
     "name": "stderr",
     "output_type": "stream",
     "text": [
      "\r",
      " 38%|██████████████████████████████▍                                                  | 41/109 [00:08<00:15,  4.35it/s]"
     ]
    },
    {
     "name": "stdout",
     "output_type": "stream",
     "text": [
      "{'http': 'http://154.85.35.235:8888', 'https': 'https://154.85.35.235:8888'}\n",
      "Success\n"
     ]
    },
    {
     "name": "stderr",
     "output_type": "stream",
     "text": [
      "\r",
      " 39%|███████████████████████████████▏                                                 | 42/109 [00:08<00:13,  4.88it/s]"
     ]
    },
    {
     "name": "stdout",
     "output_type": "stream",
     "text": [
      "{'http': 'http://40.136.41.6:', 'https': 'https://40.136.41.6:'}\n",
      "Success\n",
      "{'http': 'http://154.85.35.235:8888', 'https': 'https://154.85.35.235:8888'}\n"
     ]
    },
    {
     "name": "stderr",
     "output_type": "stream",
     "text": [
      "\r",
      " 39%|███████████████████████████████▉                                                 | 43/109 [00:08<00:12,  5.27it/s]"
     ]
    },
    {
     "name": "stdout",
     "output_type": "stream",
     "text": [
      "Success\n",
      "{'http': 'http://54.244.204.46:', 'https': 'https://54.244.204.46:'}\n"
     ]
    },
    {
     "name": "stderr",
     "output_type": "stream",
     "text": [
      " 41%|█████████████████████████████████▍                                               | 45/109 [00:09<00:13,  4.75it/s]"
     ]
    },
    {
     "name": "stdout",
     "output_type": "stream",
     "text": [
      "Success\n",
      "{'http': 'http://161.35.4.201:', 'https': 'https://161.35.4.201:'}\n",
      "Success\n"
     ]
    },
    {
     "name": "stderr",
     "output_type": "stream",
     "text": [
      "\r",
      " 42%|██████████████████████████████████▏                                              | 46/109 [00:09<00:12,  4.91it/s]"
     ]
    },
    {
     "name": "stdout",
     "output_type": "stream",
     "text": [
      "{'http': 'http://76.81.164.246:', 'https': 'https://76.81.164.246:'}\n",
      "Success\n"
     ]
    },
    {
     "name": "stderr",
     "output_type": "stream",
     "text": [
      "\r",
      " 43%|██████████████████████████████████▉                                              | 47/109 [00:09<00:12,  5.14it/s]"
     ]
    },
    {
     "name": "stdout",
     "output_type": "stream",
     "text": [
      "{'http': 'http://104.192.202.11:', 'https': 'https://104.192.202.11:'}\n",
      "Success\n",
      "{'http': 'http://208.72.154.111:8888', 'https': 'https://208.72.154.111:8888'}\n"
     ]
    },
    {
     "name": "stderr",
     "output_type": "stream",
     "text": [
      "\r",
      " 44%|███████████████████████████████████▋                                             | 48/109 [00:09<00:11,  5.23it/s]"
     ]
    },
    {
     "name": "stdout",
     "output_type": "stream",
     "text": [
      "Success\n",
      "{'http': 'http://3.211.17.212:', 'https': 'https://3.211.17.212:'}\n",
      "Success\n"
     ]
    },
    {
     "name": "stderr",
     "output_type": "stream",
     "text": [
      " 46%|█████████████████████████████████████▏                                           | 50/109 [00:10<00:11,  4.99it/s]"
     ]
    },
    {
     "name": "stdout",
     "output_type": "stream",
     "text": [
      "{'http': 'http://47.252.82.135:', 'https': 'https://47.252.82.135:'}\n",
      "Success\n"
     ]
    },
    {
     "name": "stderr",
     "output_type": "stream",
     "text": [
      "\r",
      " 47%|█████████████████████████████████████▉                                           | 51/109 [00:10<00:11,  4.95it/s]"
     ]
    },
    {
     "name": "stdout",
     "output_type": "stream",
     "text": [
      "{'http': 'http://23.225.64.59:1089', 'https': 'https://23.225.64.59:1089'}\n",
      "Success\n"
     ]
    },
    {
     "name": "stderr",
     "output_type": "stream",
     "text": [
      "\r",
      " 48%|██████████████████████████████████████▋                                          | 52/109 [00:10<00:11,  5.00it/s]"
     ]
    },
    {
     "name": "stdout",
     "output_type": "stream",
     "text": [
      "{'http': 'http://50.235.149.74:', 'https': 'https://50.235.149.74:'}\n",
      "Success\n"
     ]
    },
    {
     "name": "stderr",
     "output_type": "stream",
     "text": [
      "\r",
      " 49%|███████████████████████████████████████▍                                         | 53/109 [00:10<00:11,  5.02it/s]"
     ]
    },
    {
     "name": "stdout",
     "output_type": "stream",
     "text": [
      "{'http': 'http://54.80.246.241:', 'https': 'https://54.80.246.241:'}\n",
      "Success\n"
     ]
    },
    {
     "name": "stderr",
     "output_type": "stream",
     "text": [
      "\r",
      " 50%|████████████████████████████████████████▏                                        | 54/109 [00:10<00:11,  4.84it/s]"
     ]
    },
    {
     "name": "stdout",
     "output_type": "stream",
     "text": [
      "{'http': 'http://74.205.128.200:', 'https': 'https://74.205.128.200:'}\n",
      "Success\n"
     ]
    },
    {
     "name": "stderr",
     "output_type": "stream",
     "text": [
      "\r",
      " 50%|████████████████████████████████████████▊                                        | 55/109 [00:11<00:11,  4.88it/s]"
     ]
    },
    {
     "name": "stdout",
     "output_type": "stream",
     "text": [
      "{'http': 'http://52.168.34.113:', 'https': 'https://52.168.34.113:'}\n",
      "Success\n",
      "{'http': 'http://52.168.34.113:', 'https': 'https://52.168.34.113:'}\n"
     ]
    },
    {
     "name": "stderr",
     "output_type": "stream",
     "text": [
      " 52%|██████████████████████████████████████████▎                                      | 57/109 [00:11<00:10,  4.88it/s]"
     ]
    },
    {
     "name": "stdout",
     "output_type": "stream",
     "text": [
      "Success\n",
      "{'http': 'http://173.196.205.170:', 'https': 'https://173.196.205.170:'}\n",
      "Success\n"
     ]
    },
    {
     "name": "stderr",
     "output_type": "stream",
     "text": [
      "\r",
      " 53%|███████████████████████████████████████████                                      | 58/109 [00:11<00:09,  5.20it/s]"
     ]
    },
    {
     "name": "stdout",
     "output_type": "stream",
     "text": [
      "{'http': 'http://104.192.202.11:', 'https': 'https://104.192.202.11:'}\n",
      "Success\n",
      "{'http': 'http://12.151.56.30:', 'https': 'https://12.151.56.30:'}\n"
     ]
    },
    {
     "name": "stderr",
     "output_type": "stream",
     "text": [
      " 55%|████████████████████████████████████████████▌                                    | 60/109 [00:12<00:08,  5.52it/s]"
     ]
    },
    {
     "name": "stdout",
     "output_type": "stream",
     "text": [
      "Success\n",
      "{'http': 'http://132.145.195.93:', 'https': 'https://132.145.195.93:'}\n",
      "Success\n",
      "{'http': 'http://161.35.4.201:', 'https': 'https://161.35.4.201:'}\n"
     ]
    },
    {
     "name": "stderr",
     "output_type": "stream",
     "text": [
      "\r",
      " 56%|█████████████████████████████████████████████▎                                   | 61/109 [00:12<00:08,  5.63it/s]"
     ]
    },
    {
     "name": "stdout",
     "output_type": "stream",
     "text": [
      "Success\n",
      "{'http': 'http://3.211.17.212:', 'https': 'https://3.211.17.212:'}\n"
     ]
    },
    {
     "name": "stderr",
     "output_type": "stream",
     "text": [
      "\r",
      " 57%|██████████████████████████████████████████████                                   | 62/109 [00:12<00:12,  3.77it/s]"
     ]
    },
    {
     "name": "stdout",
     "output_type": "stream",
     "text": [
      "Success\n",
      "{'http': 'http://208.72.154.111:8888', 'https': 'https://208.72.154.111:8888'}\n",
      "Success\n"
     ]
    },
    {
     "name": "stderr",
     "output_type": "stream",
     "text": [
      "\r",
      " 58%|██████████████████████████████████████████████▊                                  | 63/109 [00:12<00:11,  3.93it/s]"
     ]
    },
    {
     "name": "stdout",
     "output_type": "stream",
     "text": [
      "{'http': 'http://104.192.202.11:', 'https': 'https://104.192.202.11:'}\n"
     ]
    },
    {
     "name": "stderr",
     "output_type": "stream",
     "text": [
      "\r",
      " 59%|███████████████████████████████████████████████▌                                 | 64/109 [00:13<00:11,  3.89it/s]"
     ]
    },
    {
     "name": "stdout",
     "output_type": "stream",
     "text": [
      "Success\n",
      "{'http': 'http://74.205.128.200:', 'https': 'https://74.205.128.200:'}\n"
     ]
    },
    {
     "name": "stderr",
     "output_type": "stream",
     "text": [
      " 61%|█████████████████████████████████████████████████                                | 66/109 [00:13<00:12,  3.56it/s]"
     ]
    },
    {
     "name": "stdout",
     "output_type": "stream",
     "text": [
      "Success\n",
      "{'http': 'http://47.88.7.115:3129', 'https': 'https://47.88.7.115:3129'}\n",
      "Success\n",
      "{'http': 'http://47.89.153.213:', 'https': 'https://47.89.153.213:'}\n"
     ]
    },
    {
     "name": "stderr",
     "output_type": "stream",
     "text": [
      " 62%|██████████████████████████████████████████████████▌                              | 68/109 [00:14<00:09,  4.40it/s]"
     ]
    },
    {
     "name": "stdout",
     "output_type": "stream",
     "text": [
      "Success\n",
      "{'http': 'http://23.225.64.59:1089', 'https': 'https://23.225.64.59:1089'}\n",
      "Success\n"
     ]
    },
    {
     "name": "stderr",
     "output_type": "stream",
     "text": [
      "\r",
      " 63%|███████████████████████████████████████████████████▎                             | 69/109 [00:14<00:08,  4.76it/s]"
     ]
    },
    {
     "name": "stdout",
     "output_type": "stream",
     "text": [
      "{'http': 'http://20.47.108.204:8888', 'https': 'https://20.47.108.204:8888'}\n",
      "Success\n",
      "{'http': 'http://192.155.107.59:', 'https': 'https://192.155.107.59:'}\n"
     ]
    },
    {
     "name": "stderr",
     "output_type": "stream",
     "text": [
      "\r",
      " 64%|████████████████████████████████████████████████████                             | 70/109 [00:14<00:07,  5.15it/s]"
     ]
    },
    {
     "name": "stdout",
     "output_type": "stream",
     "text": [
      "Success\n",
      "{'http': 'http://107.151.182.247:', 'https': 'https://107.151.182.247:'}\n"
     ]
    },
    {
     "name": "stderr",
     "output_type": "stream",
     "text": [
      "\r",
      " 65%|████████████████████████████████████████████████████▊                            | 71/109 [00:14<00:09,  4.07it/s]"
     ]
    },
    {
     "name": "stdout",
     "output_type": "stream",
     "text": [
      "Success\n",
      "{'http': 'http://161.35.4.201:', 'https': 'https://161.35.4.201:'}\n"
     ]
    },
    {
     "name": "stderr",
     "output_type": "stream",
     "text": [
      " 67%|██████████████████████████████████████████████████████▏                          | 73/109 [00:15<00:11,  3.27it/s]"
     ]
    },
    {
     "name": "stdout",
     "output_type": "stream",
     "text": [
      "Success\n",
      "{'http': 'http://3.211.17.212:', 'https': 'https://3.211.17.212:'}\n",
      "Success\n"
     ]
    },
    {
     "name": "stderr",
     "output_type": "stream",
     "text": [
      "\r",
      " 68%|██████████████████████████████████████████████████████▉                          | 74/109 [00:15<00:09,  3.74it/s]"
     ]
    },
    {
     "name": "stdout",
     "output_type": "stream",
     "text": [
      "{'http': 'http://12.151.56.30:', 'https': 'https://12.151.56.30:'}\n",
      "Success\n",
      "{'http': 'http://161.35.4.201:', 'https': 'https://161.35.4.201:'}\n"
     ]
    },
    {
     "name": "stderr",
     "output_type": "stream",
     "text": [
      " 70%|████████████████████████████████████████████████████████▍                        | 76/109 [00:16<00:07,  4.61it/s]"
     ]
    },
    {
     "name": "stdout",
     "output_type": "stream",
     "text": [
      "Success\n",
      "{'http': 'http://132.145.195.93:', 'https': 'https://132.145.195.93:'}\n",
      "Success\n",
      "{'http': 'http://138.68.235.51:', 'https': 'https://138.68.235.51:'}\n"
     ]
    },
    {
     "name": "stderr",
     "output_type": "stream",
     "text": [
      " 72%|█████████████████████████████████████████████████████████▉                       | 78/109 [00:16<00:06,  5.14it/s]"
     ]
    },
    {
     "name": "stdout",
     "output_type": "stream",
     "text": [
      "Success\n",
      "{'http': 'http://204.16.1.169:82', 'https': 'https://204.16.1.169:82'}\n",
      "Success\n"
     ]
    },
    {
     "name": "stderr",
     "output_type": "stream",
     "text": [
      "\r",
      " 72%|██████████████████████████████████████████████████████████▋                      | 79/109 [00:16<00:06,  4.91it/s]"
     ]
    },
    {
     "name": "stdout",
     "output_type": "stream",
     "text": [
      "{'http': 'http://54.80.246.241:', 'https': 'https://54.80.246.241:'}\n",
      "Success\n"
     ]
    },
    {
     "name": "stderr",
     "output_type": "stream",
     "text": [
      "\r",
      " 73%|███████████████████████████████████████████████████████████▍                     | 80/109 [00:16<00:05,  4.99it/s]"
     ]
    },
    {
     "name": "stdout",
     "output_type": "stream",
     "text": [
      "{'http': 'http://72.47.152.224:55443', 'https': 'https://72.47.152.224:55443'}\n",
      "Success\n",
      "{'http': 'http://3.211.17.212:', 'https': 'https://3.211.17.212:'}\n",
      "Success\n"
     ]
    },
    {
     "name": "stderr",
     "output_type": "stream",
     "text": [
      " 75%|████████████████████████████████████████████████████████████▉                    | 82/109 [00:17<00:05,  4.92it/s]"
     ]
    },
    {
     "name": "stdout",
     "output_type": "stream",
     "text": [
      "{'http': 'http://47.88.7.115:3129', 'https': 'https://47.88.7.115:3129'}\n",
      "Success\n"
     ]
    },
    {
     "name": "stderr",
     "output_type": "stream",
     "text": [
      "\r",
      " 76%|█████████████████████████████████████████████████████████████▋                   | 83/109 [00:17<00:05,  4.99it/s]"
     ]
    },
    {
     "name": "stdout",
     "output_type": "stream",
     "text": [
      "{'http': 'http://66.211.155.34:', 'https': 'https://66.211.155.34:'}\n",
      "Success\n"
     ]
    },
    {
     "name": "stderr",
     "output_type": "stream",
     "text": [
      "\r",
      " 77%|██████████████████████████████████████████████████████████████▍                  | 84/109 [00:17<00:04,  5.24it/s]"
     ]
    },
    {
     "name": "stdout",
     "output_type": "stream",
     "text": [
      "{'http': 'http://50.235.149.74:', 'https': 'https://50.235.149.74:'}\n",
      "Success\n",
      "{'http': 'http://161.35.4.201:', 'https': 'https://161.35.4.201:'}\n"
     ]
    },
    {
     "name": "stderr",
     "output_type": "stream",
     "text": [
      " 79%|███████████████████████████████████████████████████████████████▉                 | 86/109 [00:18<00:04,  5.66it/s]"
     ]
    },
    {
     "name": "stdout",
     "output_type": "stream",
     "text": [
      "Success\n",
      "{'http': 'http://3.217.161.14:', 'https': 'https://3.217.161.14:'}\n",
      "Success\n",
      "{'http': 'http://47.89.153.213:', 'https': 'https://47.89.153.213:'}\n"
     ]
    },
    {
     "name": "stderr",
     "output_type": "stream",
     "text": [
      " 81%|█████████████████████████████████████████████████████████████████▍               | 88/109 [00:18<00:03,  5.74it/s]"
     ]
    },
    {
     "name": "stdout",
     "output_type": "stream",
     "text": [
      "Success\n",
      "{'http': 'http://23.225.64.59:1089', 'https': 'https://23.225.64.59:1089'}\n",
      "Success\n",
      "{'http': 'http://20.47.108.204:8888', 'https': 'https://20.47.108.204:8888'}\n"
     ]
    },
    {
     "name": "stderr",
     "output_type": "stream",
     "text": [
      "\r",
      " 82%|██████████████████████████████████████████████████████████████████▏              | 89/109 [00:18<00:03,  5.60it/s]"
     ]
    },
    {
     "name": "stdout",
     "output_type": "stream",
     "text": [
      "Success\n",
      "{'http': 'http://132.145.195.93:', 'https': 'https://132.145.195.93:'}\n"
     ]
    },
    {
     "name": "stderr",
     "output_type": "stream",
     "text": [
      " 83%|███████████████████████████████████████████████████████████████████▌             | 91/109 [00:19<00:04,  4.32it/s]"
     ]
    },
    {
     "name": "stdout",
     "output_type": "stream",
     "text": [
      "Success\n",
      "{'http': 'http://3.217.161.14:', 'https': 'https://3.217.161.14:'}\n",
      "Success\n"
     ]
    },
    {
     "name": "stderr",
     "output_type": "stream",
     "text": [
      "\r",
      " 84%|████████████████████████████████████████████████████████████████████▎            | 92/109 [00:19<00:03,  4.87it/s]"
     ]
    },
    {
     "name": "stdout",
     "output_type": "stream",
     "text": [
      "{'http': 'http://192.155.107.60:', 'https': 'https://192.155.107.60:'}\n",
      "Success\n",
      "{'http': 'http://47.252.82.135:', 'https': 'https://47.252.82.135:'}\n"
     ]
    },
    {
     "name": "stderr",
     "output_type": "stream",
     "text": [
      " 86%|█████████████████████████████████████████████████████████████████████▊           | 94/109 [00:19<00:03,  4.85it/s]"
     ]
    },
    {
     "name": "stdout",
     "output_type": "stream",
     "text": [
      "Success\n",
      "{'http': 'http://76.81.164.246:', 'https': 'https://76.81.164.246:'}\n",
      "Success\n"
     ]
    },
    {
     "name": "stderr",
     "output_type": "stream",
     "text": [
      "\r",
      " 87%|██████████████████████████████████████████████████████████████████████▌          | 95/109 [00:19<00:02,  5.20it/s]"
     ]
    },
    {
     "name": "stdout",
     "output_type": "stream",
     "text": [
      "{'http': 'http://208.72.154.111:8888', 'https': 'https://208.72.154.111:8888'}\n",
      "Success\n",
      "{'http': 'http://192.155.107.59:', 'https': 'https://192.155.107.59:'}\n"
     ]
    },
    {
     "name": "stderr",
     "output_type": "stream",
     "text": [
      " 89%|████████████████████████████████████████████████████████████████████████         | 97/109 [00:20<00:02,  5.55it/s]"
     ]
    },
    {
     "name": "stdout",
     "output_type": "stream",
     "text": [
      "Success\n",
      "{'http': 'http://138.68.235.51:', 'https': 'https://138.68.235.51:'}\n",
      "Success\n",
      "{'http': 'http://52.168.34.113:', 'https': 'https://52.168.34.113:'}\n"
     ]
    },
    {
     "name": "stderr",
     "output_type": "stream",
     "text": [
      " 91%|█████████████████████████████████████████████████████████████████████████▌       | 99/109 [00:20<00:01,  5.58it/s]"
     ]
    },
    {
     "name": "stdout",
     "output_type": "stream",
     "text": [
      "Success\n",
      "{'http': 'http://161.35.4.201:', 'https': 'https://161.35.4.201:'}\n",
      "Success\n",
      "{'http': 'http://67.212.186.101:', 'https': 'https://67.212.186.101:'}\n"
     ]
    },
    {
     "name": "stderr",
     "output_type": "stream",
     "text": [
      "\r",
      " 92%|█████████████████████████████████████████████████████████████████████████▍      | 100/109 [00:20<00:01,  4.93it/s]"
     ]
    },
    {
     "name": "stdout",
     "output_type": "stream",
     "text": [
      "Success\n",
      "{'http': 'http://47.89.153.213:', 'https': 'https://47.89.153.213:'}\n"
     ]
    },
    {
     "name": "stderr",
     "output_type": "stream",
     "text": [
      " 94%|██████████████████████████████████████████████████████████████████████████▊     | 102/109 [00:21<00:01,  4.70it/s]"
     ]
    },
    {
     "name": "stdout",
     "output_type": "stream",
     "text": [
      "Success\n",
      "{'http': 'http://132.145.195.93:', 'https': 'https://132.145.195.93:'}\n",
      "Success\n"
     ]
    },
    {
     "name": "stderr",
     "output_type": "stream",
     "text": [
      "\r",
      " 94%|███████████████████████████████████████████████████████████████████████████▌    | 103/109 [00:21<00:01,  4.69it/s]"
     ]
    },
    {
     "name": "stdout",
     "output_type": "stream",
     "text": [
      "{'http': 'http://76.81.164.246:', 'https': 'https://76.81.164.246:'}\n",
      "Success\n"
     ]
    },
    {
     "name": "stderr",
     "output_type": "stream",
     "text": [
      "\r",
      " 95%|████████████████████████████████████████████████████████████████████████████▎   | 104/109 [00:21<00:01,  5.00it/s]"
     ]
    },
    {
     "name": "stdout",
     "output_type": "stream",
     "text": [
      "{'http': 'http://66.211.155.34:', 'https': 'https://66.211.155.34:'}\n",
      "Success\n",
      "{'http': 'http://47.89.153.213:', 'https': 'https://47.89.153.213:'}\n"
     ]
    },
    {
     "name": "stderr",
     "output_type": "stream",
     "text": [
      " 97%|█████████████████████████████████████████████████████████████████████████████▊  | 106/109 [00:22<00:00,  5.18it/s]"
     ]
    },
    {
     "name": "stdout",
     "output_type": "stream",
     "text": [
      "Success\n",
      "{'http': 'http://173.196.205.170:', 'https': 'https://173.196.205.170:'}\n",
      "Success\n"
     ]
    },
    {
     "name": "stderr",
     "output_type": "stream",
     "text": [
      "\r",
      " 98%|██████████████████████████████████████████████████████████████████████████████▌ | 107/109 [00:22<00:00,  5.49it/s]"
     ]
    },
    {
     "name": "stdout",
     "output_type": "stream",
     "text": [
      "{'http': 'http://186.233.186.60:', 'https': 'https://186.233.186.60:'}\n",
      "Success\n",
      "{'http': 'http://47.88.7.115:3129', 'https': 'https://47.88.7.115:3129'}\n"
     ]
    },
    {
     "name": "stderr",
     "output_type": "stream",
     "text": [
      "100%|████████████████████████████████████████████████████████████████████████████████| 109/109 [00:22<00:00,  4.81it/s]"
     ]
    },
    {
     "name": "stdout",
     "output_type": "stream",
     "text": [
      "Success\n",
      "{'http': 'http://23.225.64.59:1089', 'https': 'https://23.225.64.59:1089'}\n",
      "Success\n"
     ]
    },
    {
     "name": "stderr",
     "output_type": "stream",
     "text": [
      "\n",
      "  0%|                                                                                           | 0/98 [00:00<?, ?it/s]"
     ]
    },
    {
     "name": "stdout",
     "output_type": "stream",
     "text": [
      "{'http': 'http://76.81.164.246:', 'https': 'https://76.81.164.246:'}\n"
     ]
    },
    {
     "name": "stderr",
     "output_type": "stream",
     "text": [
      "  2%|█▋                                                                                 | 2/98 [00:01<00:58,  1.63it/s]"
     ]
    },
    {
     "name": "stdout",
     "output_type": "stream",
     "text": [
      "Success\n",
      "{'http': 'http://72.47.152.224:55443', 'https': 'https://72.47.152.224:55443'}\n",
      "Success\n",
      "{'http': 'http://12.151.56.30:', 'https': 'https://12.151.56.30:'}\n"
     ]
    },
    {
     "name": "stderr",
     "output_type": "stream",
     "text": [
      "  4%|███▍                                                                               | 4/98 [00:01<00:29,  3.23it/s]"
     ]
    },
    {
     "name": "stdout",
     "output_type": "stream",
     "text": [
      "Success\n",
      "{'http': 'http://204.16.1.169:82', 'https': 'https://204.16.1.169:82'}\n",
      "Success\n",
      "{'http': 'http://54.244.204.46:', 'https': 'https://54.244.204.46:'}\n"
     ]
    },
    {
     "name": "stderr",
     "output_type": "stream",
     "text": [
      "\r",
      "  5%|████▏                                                                              | 5/98 [00:01<00:24,  3.82it/s]"
     ]
    },
    {
     "name": "stdout",
     "output_type": "stream",
     "text": [
      "Success\n",
      "{'http': 'http://23.225.64.59:1089', 'https': 'https://23.225.64.59:1089'}\n"
     ]
    },
    {
     "name": "stderr",
     "output_type": "stream",
     "text": [
      "\r",
      "  6%|█████                                                                              | 6/98 [00:02<00:24,  3.82it/s]"
     ]
    },
    {
     "name": "stdout",
     "output_type": "stream",
     "text": [
      "Success\n",
      "{'http': 'http://173.196.205.170:', 'https': 'https://173.196.205.170:'}\n"
     ]
    },
    {
     "name": "stderr",
     "output_type": "stream",
     "text": [
      "\r",
      "  7%|█████▉                                                                             | 7/98 [00:02<00:24,  3.70it/s]"
     ]
    },
    {
     "name": "stdout",
     "output_type": "stream",
     "text": [
      "Success\n",
      "{'http': 'http://64.227.62.123:', 'https': 'https://64.227.62.123:'}\n"
     ]
    },
    {
     "name": "stderr",
     "output_type": "stream",
     "text": [
      "  9%|███████▌                                                                           | 9/98 [00:03<00:24,  3.65it/s]"
     ]
    },
    {
     "name": "stdout",
     "output_type": "stream",
     "text": [
      "Success\n",
      "{'http': 'http://40.136.41.6:', 'https': 'https://40.136.41.6:'}\n",
      "Success\n",
      "{'http': 'http://47.252.82.135:', 'https': 'https://47.252.82.135:'}\n"
     ]
    },
    {
     "name": "stderr",
     "output_type": "stream",
     "text": [
      "\r",
      " 10%|████████▎                                                                         | 10/98 [00:03<00:21,  4.07it/s]"
     ]
    },
    {
     "name": "stdout",
     "output_type": "stream",
     "text": [
      "Success\n",
      "{'http': 'http://72.47.152.224:55443', 'https': 'https://72.47.152.224:55443'}\n",
      "Success\n"
     ]
    },
    {
     "name": "stderr",
     "output_type": "stream",
     "text": [
      " 12%|██████████                                                                        | 12/98 [00:03<00:18,  4.68it/s]"
     ]
    },
    {
     "name": "stdout",
     "output_type": "stream",
     "text": [
      "{'http': 'http://47.252.82.135:', 'https': 'https://47.252.82.135:'}\n",
      "Success\n",
      "{'http': 'http://159.65.69.186:9300', 'https': 'https://159.65.69.186:9300'}\n"
     ]
    },
    {
     "name": "stderr",
     "output_type": "stream",
     "text": [
      " 14%|███████████▋                                                                      | 14/98 [00:03<00:15,  5.40it/s]"
     ]
    },
    {
     "name": "stdout",
     "output_type": "stream",
     "text": [
      "Success\n",
      "{'http': 'http://216.169.73.65:34679', 'https': 'https://216.169.73.65:34679'}\n",
      "Success\n",
      "{'http': 'http://40.136.41.6:', 'https': 'https://40.136.41.6:'}\n"
     ]
    },
    {
     "name": "stderr",
     "output_type": "stream",
     "text": [
      "\r",
      " 15%|████████████▌                                                                     | 15/98 [00:04<00:16,  5.18it/s]"
     ]
    },
    {
     "name": "stdout",
     "output_type": "stream",
     "text": [
      "Success\n",
      "{'http': 'http://154.85.35.235:8888', 'https': 'https://154.85.35.235:8888'}\n"
     ]
    },
    {
     "name": "stderr",
     "output_type": "stream",
     "text": [
      " 17%|██████████████▏                                                                   | 17/98 [00:04<00:15,  5.14it/s]"
     ]
    },
    {
     "name": "stdout",
     "output_type": "stream",
     "text": [
      "Success\n",
      "{'http': 'http://47.88.7.115:3129', 'https': 'https://47.88.7.115:3129'}\n",
      "Success\n",
      "{'http': 'http://3.217.161.14:', 'https': 'https://3.217.161.14:'}\n"
     ]
    },
    {
     "name": "stderr",
     "output_type": "stream",
     "text": [
      " 19%|███████████████▉                                                                  | 19/98 [00:04<00:14,  5.51it/s]"
     ]
    },
    {
     "name": "stdout",
     "output_type": "stream",
     "text": [
      "Success\n",
      "{'http': 'http://107.151.182.247:', 'https': 'https://107.151.182.247:'}\n",
      "Success\n"
     ]
    },
    {
     "name": "stderr",
     "output_type": "stream",
     "text": [
      "\r",
      " 20%|████████████████▋                                                                 | 20/98 [00:05<00:14,  5.46it/s]"
     ]
    },
    {
     "name": "stdout",
     "output_type": "stream",
     "text": [
      "{'http': 'http://47.252.82.135:', 'https': 'https://47.252.82.135:'}\n",
      "Success\n"
     ]
    },
    {
     "name": "stderr",
     "output_type": "stream",
     "text": [
      "\r",
      " 21%|█████████████████▌                                                                | 21/98 [00:05<00:14,  5.46it/s]"
     ]
    },
    {
     "name": "stdout",
     "output_type": "stream",
     "text": [
      "{'http': 'http://47.252.82.135:', 'https': 'https://47.252.82.135:'}\n",
      "Success\n",
      "{'http': 'http://72.47.152.224:55443', 'https': 'https://72.47.152.224:55443'}\n"
     ]
    },
    {
     "name": "stderr",
     "output_type": "stream",
     "text": [
      " 23%|███████████████████▏                                                              | 23/98 [00:05<00:13,  5.37it/s]"
     ]
    },
    {
     "name": "stdout",
     "output_type": "stream",
     "text": [
      "Success\n",
      "{'http': 'http://50.235.149.74:', 'https': 'https://50.235.149.74:'}\n",
      "Success\n",
      "{'http': 'http://186.233.186.60:', 'https': 'https://186.233.186.60:'}\n"
     ]
    },
    {
     "name": "stderr",
     "output_type": "stream",
     "text": [
      " 26%|████████████████████▉                                                             | 25/98 [00:06<00:28,  2.54it/s]"
     ]
    },
    {
     "name": "stdout",
     "output_type": "stream",
     "text": [
      "Success\n",
      "{'http': 'http://47.88.7.115:3129', 'https': 'https://47.88.7.115:3129'}\n",
      "Success\n",
      "{'http': 'http://40.136.41.6:', 'https': 'https://40.136.41.6:'}\n"
     ]
    },
    {
     "name": "stderr",
     "output_type": "stream",
     "text": [
      "\r",
      " 27%|█████████████████████▊                                                            | 26/98 [00:07<00:24,  2.89it/s]"
     ]
    },
    {
     "name": "stdout",
     "output_type": "stream",
     "text": [
      "Success\n",
      "{'http': 'http://208.72.154.111:8888', 'https': 'https://208.72.154.111:8888'}\n"
     ]
    },
    {
     "name": "stderr",
     "output_type": "stream",
     "text": [
      "\r",
      " 28%|██████████████████████▌                                                           | 27/98 [00:07<00:21,  3.25it/s]"
     ]
    },
    {
     "name": "stdout",
     "output_type": "stream",
     "text": [
      "Success\n",
      "{'http': 'http://12.151.56.30:', 'https': 'https://12.151.56.30:'}\n",
      "Success\n"
     ]
    },
    {
     "name": "stderr",
     "output_type": "stream",
     "text": [
      " 30%|████████████████████████▎                                                         | 29/98 [00:07<00:16,  4.12it/s]"
     ]
    },
    {
     "name": "stdout",
     "output_type": "stream",
     "text": [
      "{'http': 'http://154.85.35.235:8888', 'https': 'https://154.85.35.235:8888'}\n",
      "Success\n",
      "{'http': 'http://204.16.1.169:82', 'https': 'https://204.16.1.169:82'}\n"
     ]
    },
    {
     "name": "stderr",
     "output_type": "stream",
     "text": [
      "\r",
      " 31%|█████████████████████████                                                         | 30/98 [00:08<00:16,  4.11it/s]"
     ]
    },
    {
     "name": "stdout",
     "output_type": "stream",
     "text": [
      "Success\n",
      "{'http': 'http://47.89.153.213:', 'https': 'https://47.89.153.213:'}\n"
     ]
    },
    {
     "name": "stderr",
     "output_type": "stream",
     "text": [
      "\r",
      " 32%|█████████████████████████▉                                                        | 31/98 [00:08<00:16,  4.09it/s]"
     ]
    },
    {
     "name": "stdout",
     "output_type": "stream",
     "text": [
      "Success\n",
      "{'http': 'http://186.233.186.60:', 'https': 'https://186.233.186.60:'}\n"
     ]
    },
    {
     "name": "stderr",
     "output_type": "stream",
     "text": [
      " 34%|███████████████████████████▌                                                      | 33/98 [00:08<00:14,  4.47it/s]"
     ]
    },
    {
     "name": "stdout",
     "output_type": "stream",
     "text": [
      "Success\n",
      "{'http': 'http://208.72.154.111:8888', 'https': 'https://208.72.154.111:8888'}\n",
      "Success\n"
     ]
    },
    {
     "name": "stderr",
     "output_type": "stream",
     "text": [
      "\r",
      " 35%|████████████████████████████▍                                                     | 34/98 [00:08<00:13,  4.73it/s]"
     ]
    },
    {
     "name": "stdout",
     "output_type": "stream",
     "text": [
      "{'http': 'http://67.212.186.101:', 'https': 'https://67.212.186.101:'}\n",
      "Success\n",
      "{'http': 'http://104.192.202.11:', 'https': 'https://104.192.202.11:'}\n"
     ]
    },
    {
     "name": "stderr",
     "output_type": "stream",
     "text": [
      " 37%|██████████████████████████████                                                    | 36/98 [00:09<00:12,  4.83it/s]"
     ]
    },
    {
     "name": "stdout",
     "output_type": "stream",
     "text": [
      "Success\n",
      "{'http': 'http://208.72.154.111:8888', 'https': 'https://208.72.154.111:8888'}\n",
      "Success\n"
     ]
    },
    {
     "name": "stderr",
     "output_type": "stream",
     "text": [
      "\r",
      " 38%|██████████████████████████████▉                                                   | 37/98 [00:09<00:12,  5.05it/s]"
     ]
    },
    {
     "name": "stdout",
     "output_type": "stream",
     "text": [
      "{'http': 'http://67.212.186.101:', 'https': 'https://67.212.186.101:'}\n",
      "Success\n",
      "{'http': 'http://104.192.202.11:', 'https': 'https://104.192.202.11:'}\n"
     ]
    },
    {
     "name": "stderr",
     "output_type": "stream",
     "text": [
      " 40%|████████████████████████████████▋                                                 | 39/98 [00:09<00:11,  5.36it/s]"
     ]
    },
    {
     "name": "stdout",
     "output_type": "stream",
     "text": [
      "Success\n",
      "{'http': 'http://3.217.161.14:', 'https': 'https://3.217.161.14:'}\n",
      "Success\n",
      "{'http': 'http://3.211.17.212:', 'https': 'https://3.211.17.212:'}\n"
     ]
    },
    {
     "name": "stderr",
     "output_type": "stream",
     "text": [
      "\r",
      " 41%|█████████████████████████████████▍                                                | 40/98 [00:10<00:11,  4.85it/s]"
     ]
    },
    {
     "name": "stdout",
     "output_type": "stream",
     "text": [
      "Success\n",
      "{'http': 'http://138.68.235.51:', 'https': 'https://138.68.235.51:'}\n"
     ]
    },
    {
     "name": "stderr",
     "output_type": "stream",
     "text": [
      "\r",
      " 42%|██████████████████████████████████▎                                               | 41/98 [00:10<00:12,  4.62it/s]"
     ]
    },
    {
     "name": "stdout",
     "output_type": "stream",
     "text": [
      "Success\n",
      "{'http': 'http://23.225.64.59:1089', 'https': 'https://23.225.64.59:1089'}\n"
     ]
    },
    {
     "name": "stderr",
     "output_type": "stream",
     "text": [
      " 44%|███████████████████████████████████▉                                              | 43/98 [00:10<00:11,  4.71it/s]"
     ]
    },
    {
     "name": "stdout",
     "output_type": "stream",
     "text": [
      "Success\n",
      "{'http': 'http://54.244.204.46:', 'https': 'https://54.244.204.46:'}\n",
      "Success\n"
     ]
    },
    {
     "name": "stderr",
     "output_type": "stream",
     "text": [
      "\r",
      " 45%|████████████████████████████████████▊                                             | 44/98 [00:10<00:11,  4.68it/s]"
     ]
    },
    {
     "name": "stdout",
     "output_type": "stream",
     "text": [
      "{'http': 'http://3.211.17.212:', 'https': 'https://3.211.17.212:'}\n",
      "Success\n",
      "{'http': 'http://107.151.182.247:', 'https': 'https://107.151.182.247:'}\n",
      "Success\n"
     ]
    },
    {
     "name": "stderr",
     "output_type": "stream",
     "text": [
      " 47%|██████████████████████████████████████▍                                           | 46/98 [00:11<00:11,  4.47it/s]"
     ]
    },
    {
     "name": "stdout",
     "output_type": "stream",
     "text": [
      "{'http': 'http://161.35.4.201:', 'https': 'https://161.35.4.201:'}\n",
      "Success\n"
     ]
    },
    {
     "name": "stderr",
     "output_type": "stream",
     "text": [
      "\r",
      " 48%|███████████████████████████████████████▎                                          | 47/98 [00:11<00:10,  4.65it/s]"
     ]
    },
    {
     "name": "stdout",
     "output_type": "stream",
     "text": [
      "{'http': 'http://20.47.108.204:8888', 'https': 'https://20.47.108.204:8888'}\n",
      "Success\n"
     ]
    },
    {
     "name": "stderr",
     "output_type": "stream",
     "text": [
      "\r",
      " 49%|████████████████████████████████████████▏                                         | 48/98 [00:11<00:10,  4.87it/s]"
     ]
    },
    {
     "name": "stdout",
     "output_type": "stream",
     "text": [
      "{'http': 'http://161.35.4.201:', 'https': 'https://161.35.4.201:'}\n",
      "Success\n",
      "{'http': 'http://154.85.35.235:8888', 'https': 'https://154.85.35.235:8888'}\n"
     ]
    },
    {
     "name": "stderr",
     "output_type": "stream",
     "text": [
      "\r",
      " 50%|█████████████████████████████████████████                                         | 49/98 [00:12<00:11,  4.35it/s]"
     ]
    },
    {
     "name": "stdout",
     "output_type": "stream",
     "text": [
      "Success\n",
      "{'http': 'http://192.155.107.60:', 'https': 'https://192.155.107.60:'}\n"
     ]
    },
    {
     "name": "stderr",
     "output_type": "stream",
     "text": [
      " 52%|██████████████████████████████████████████▋                                       | 51/98 [00:12<00:10,  4.29it/s]"
     ]
    },
    {
     "name": "stdout",
     "output_type": "stream",
     "text": [
      "Success\n",
      "{'http': 'http://63.161.104.189:', 'https': 'https://63.161.104.189:'}\n",
      "Success\n"
     ]
    },
    {
     "name": "stderr",
     "output_type": "stream",
     "text": [
      "\r",
      " 53%|███████████████████████████████████████████▌                                      | 52/98 [00:12<00:09,  4.64it/s]"
     ]
    },
    {
     "name": "stdout",
     "output_type": "stream",
     "text": [
      "{'http': 'http://107.151.182.247:', 'https': 'https://107.151.182.247:'}\n",
      "Success\n",
      "{'http': 'http://12.151.56.30:', 'https': 'https://12.151.56.30:'}\n"
     ]
    },
    {
     "name": "stderr",
     "output_type": "stream",
     "text": [
      " 55%|█████████████████████████████████████████████▏                                    | 54/98 [00:13<00:08,  5.06it/s]"
     ]
    },
    {
     "name": "stdout",
     "output_type": "stream",
     "text": [
      "Success\n",
      "{'http': 'http://23.225.64.59:1089', 'https': 'https://23.225.64.59:1089'}\n",
      "Success\n"
     ]
    },
    {
     "name": "stderr",
     "output_type": "stream",
     "text": [
      "\r",
      " 56%|██████████████████████████████████████████████                                    | 55/98 [00:13<00:08,  5.12it/s]"
     ]
    },
    {
     "name": "stdout",
     "output_type": "stream",
     "text": [
      "{'http': 'http://76.81.164.246:', 'https': 'https://76.81.164.246:'}\n",
      "Success\n"
     ]
    },
    {
     "name": "stderr",
     "output_type": "stream",
     "text": [
      "\r",
      " 57%|██████████████████████████████████████████████▊                                   | 56/98 [00:13<00:08,  5.25it/s]"
     ]
    },
    {
     "name": "stdout",
     "output_type": "stream",
     "text": [
      "{'http': 'http://52.168.34.113:', 'https': 'https://52.168.34.113:'}\n",
      "Success\n"
     ]
    },
    {
     "name": "stderr",
     "output_type": "stream",
     "text": [
      "\r",
      " 58%|███████████████████████████████████████████████▋                                  | 57/98 [00:13<00:07,  5.37it/s]"
     ]
    },
    {
     "name": "stdout",
     "output_type": "stream",
     "text": [
      "{'http': 'http://138.68.235.51:', 'https': 'https://138.68.235.51:'}\n",
      "Success\n",
      "{'http': 'http://216.169.73.65:34679', 'https': 'https://216.169.73.65:34679'}\n"
     ]
    },
    {
     "name": "stderr",
     "output_type": "stream",
     "text": [
      "\r",
      " 59%|████████████████████████████████████████████████▌                                 | 58/98 [00:13<00:07,  5.64it/s]"
     ]
    },
    {
     "name": "stdout",
     "output_type": "stream",
     "text": [
      "Success\n",
      "{'http': 'http://20.47.108.204:8888', 'https': 'https://20.47.108.204:8888'}\n"
     ]
    },
    {
     "name": "stderr",
     "output_type": "stream",
     "text": [
      "\r",
      " 60%|█████████████████████████████████████████████████▎                                | 59/98 [00:14<00:07,  5.10it/s]"
     ]
    },
    {
     "name": "stdout",
     "output_type": "stream",
     "text": [
      "Success\n",
      "{'http': 'http://74.205.128.200:', 'https': 'https://74.205.128.200:'}\n"
     ]
    },
    {
     "name": "stderr",
     "output_type": "stream",
     "text": [
      "\r",
      " 61%|██████████████████████████████████████████████████▏                               | 60/98 [00:14<00:08,  4.28it/s]"
     ]
    },
    {
     "name": "stdout",
     "output_type": "stream",
     "text": [
      "Success\n",
      "{'http': 'http://107.151.182.247:', 'https': 'https://107.151.182.247:'}\n"
     ]
    },
    {
     "name": "stderr",
     "output_type": "stream",
     "text": [
      " 63%|███████████████████████████████████████████████████▉                              | 62/98 [00:14<00:08,  4.49it/s]"
     ]
    },
    {
     "name": "stdout",
     "output_type": "stream",
     "text": [
      "Success\n",
      "{'http': 'http://47.89.153.213:', 'https': 'https://47.89.153.213:'}\n",
      "Success\n"
     ]
    },
    {
     "name": "stderr",
     "output_type": "stream",
     "text": [
      "\r",
      " 64%|████████████████████████████████████████████████████▋                             | 63/98 [00:15<00:07,  4.74it/s]"
     ]
    },
    {
     "name": "stdout",
     "output_type": "stream",
     "text": [
      "{'http': 'http://20.47.108.204:8888', 'https': 'https://20.47.108.204:8888'}\n",
      "Success\n"
     ]
    },
    {
     "name": "stderr",
     "output_type": "stream",
     "text": [
      "\r",
      " 65%|█████████████████████████████████████████████████████▌                            | 64/98 [00:15<00:06,  4.96it/s]"
     ]
    },
    {
     "name": "stdout",
     "output_type": "stream",
     "text": [
      "{'http': 'http://132.145.195.93:', 'https': 'https://132.145.195.93:'}\n",
      "Success\n"
     ]
    },
    {
     "name": "stderr",
     "output_type": "stream",
     "text": [
      "\r",
      " 66%|██████████████████████████████████████████████████████▍                           | 65/98 [00:15<00:06,  5.10it/s]"
     ]
    },
    {
     "name": "stdout",
     "output_type": "stream",
     "text": [
      "{'http': 'http://63.161.104.189:', 'https': 'https://63.161.104.189:'}\n",
      "Success\n",
      "{'http': 'http://23.225.64.59:1089', 'https': 'https://23.225.64.59:1089'}\n"
     ]
    },
    {
     "name": "stderr",
     "output_type": "stream",
     "text": [
      "\r",
      " 67%|███████████████████████████████████████████████████████▏                          | 66/98 [00:15<00:06,  5.09it/s]"
     ]
    },
    {
     "name": "stdout",
     "output_type": "stream",
     "text": [
      "Success\n",
      "{'http': 'http://67.212.186.101:', 'https': 'https://67.212.186.101:'}\n"
     ]
    },
    {
     "name": "stderr",
     "output_type": "stream",
     "text": [
      " 69%|████████████████████████████████████████████████████████▉                         | 68/98 [00:18<00:21,  1.43it/s]"
     ]
    },
    {
     "name": "stdout",
     "output_type": "stream",
     "text": [
      "Success\n",
      "{'http': 'http://192.155.107.59:', 'https': 'https://192.155.107.59:'}\n",
      "Success\n"
     ]
    },
    {
     "name": "stderr",
     "output_type": "stream",
     "text": [
      "\r",
      " 70%|█████████████████████████████████████████████████████████▋                        | 69/98 [00:18<00:15,  1.81it/s]"
     ]
    },
    {
     "name": "stdout",
     "output_type": "stream",
     "text": [
      "{'http': 'http://74.205.128.200:', 'https': 'https://74.205.128.200:'}\n",
      "Success\n"
     ]
    },
    {
     "name": "stderr",
     "output_type": "stream",
     "text": [
      "\r",
      " 71%|██████████████████████████████████████████████████████████▌                       | 70/98 [00:18<00:12,  2.22it/s]"
     ]
    },
    {
     "name": "stdout",
     "output_type": "stream",
     "text": [
      "{'http': 'http://23.225.64.59:1089', 'https': 'https://23.225.64.59:1089'}\n",
      "Success\n"
     ]
    },
    {
     "name": "stderr",
     "output_type": "stream",
     "text": [
      "\r",
      " 72%|███████████████████████████████████████████████████████████▍                      | 71/98 [00:19<00:10,  2.68it/s]"
     ]
    },
    {
     "name": "stdout",
     "output_type": "stream",
     "text": [
      "{'http': 'http://138.68.235.51:', 'https': 'https://138.68.235.51:'}\n",
      "Success\n"
     ]
    },
    {
     "name": "stderr",
     "output_type": "stream",
     "text": [
      "\r",
      " 73%|████████████████████████████████████████████████████████████▏                     | 72/98 [00:19<00:08,  3.14it/s]"
     ]
    },
    {
     "name": "stdout",
     "output_type": "stream",
     "text": [
      "{'http': 'http://138.68.235.51:', 'https': 'https://138.68.235.51:'}\n",
      "Success\n"
     ]
    },
    {
     "name": "stderr",
     "output_type": "stream",
     "text": [
      "\r",
      " 74%|█████████████████████████████████████████████████████████████                     | 73/98 [00:19<00:07,  3.51it/s]"
     ]
    },
    {
     "name": "stdout",
     "output_type": "stream",
     "text": [
      "{'http': 'http://23.225.64.59:1089', 'https': 'https://23.225.64.59:1089'}\n",
      "Success\n"
     ]
    },
    {
     "name": "stderr",
     "output_type": "stream",
     "text": [
      "\r",
      " 76%|█████████████████████████████████████████████████████████████▉                    | 74/98 [00:19<00:06,  3.90it/s]"
     ]
    },
    {
     "name": "stdout",
     "output_type": "stream",
     "text": [
      "{'http': 'http://47.88.7.115:3129', 'https': 'https://47.88.7.115:3129'}\n",
      "Success\n"
     ]
    },
    {
     "name": "stderr",
     "output_type": "stream",
     "text": [
      "\r",
      " 77%|██████████████████████████████████████████████████████████████▊                   | 75/98 [00:19<00:05,  4.12it/s]"
     ]
    },
    {
     "name": "stdout",
     "output_type": "stream",
     "text": [
      "{'http': 'http://23.225.64.59:1089', 'https': 'https://23.225.64.59:1089'}\n",
      "Success\n"
     ]
    },
    {
     "name": "stderr",
     "output_type": "stream",
     "text": [
      "\r",
      " 78%|███████████████████████████████████████████████████████████████▌                  | 76/98 [00:19<00:04,  4.43it/s]"
     ]
    },
    {
     "name": "stdout",
     "output_type": "stream",
     "text": [
      "{'http': 'http://3.211.17.212:', 'https': 'https://3.211.17.212:'}\n",
      "Success\n",
      "{'http': 'http://3.211.17.212:', 'https': 'https://3.211.17.212:'}\n"
     ]
    },
    {
     "name": "stderr",
     "output_type": "stream",
     "text": [
      "\r",
      " 79%|████████████████████████████████████████████████████████████████▍                 | 77/98 [00:20<00:05,  4.06it/s]"
     ]
    },
    {
     "name": "stdout",
     "output_type": "stream",
     "text": [
      "Success\n",
      "{'http': 'http://154.85.35.235:8888', 'https': 'https://154.85.35.235:8888'}\n"
     ]
    },
    {
     "name": "stderr",
     "output_type": "stream",
     "text": [
      "\r",
      " 80%|█████████████████████████████████████████████████████████████████▎                | 78/98 [00:20<00:05,  3.96it/s]"
     ]
    },
    {
     "name": "stdout",
     "output_type": "stream",
     "text": [
      "Success\n",
      "{'http': 'http://186.233.186.60:', 'https': 'https://186.233.186.60:'}\n"
     ]
    },
    {
     "name": "stderr",
     "output_type": "stream",
     "text": [
      " 82%|██████████████████████████████████████████████████████████████████▉               | 80/98 [00:20<00:04,  4.34it/s]"
     ]
    },
    {
     "name": "stdout",
     "output_type": "stream",
     "text": [
      "Success\n",
      "{'http': 'http://3.230.91.35:', 'https': 'https://3.230.91.35:'}\n",
      "Success\n"
     ]
    },
    {
     "name": "stderr",
     "output_type": "stream",
     "text": [
      "\r",
      " 83%|███████████████████████████████████████████████████████████████████▊              | 81/98 [00:21<00:03,  4.43it/s]"
     ]
    },
    {
     "name": "stdout",
     "output_type": "stream",
     "text": [
      "{'http': 'http://23.225.64.59:1089', 'https': 'https://23.225.64.59:1089'}\n",
      "Success\n"
     ]
    },
    {
     "name": "stderr",
     "output_type": "stream",
     "text": [
      "\r",
      " 84%|████████████████████████████████████████████████████████████████████▌             | 82/98 [00:21<00:03,  4.57it/s]"
     ]
    },
    {
     "name": "stdout",
     "output_type": "stream",
     "text": [
      "{'http': 'http://50.235.149.74:', 'https': 'https://50.235.149.74:'}\n",
      "Success\n"
     ]
    },
    {
     "name": "stderr",
     "output_type": "stream",
     "text": [
      "\r",
      " 85%|█████████████████████████████████████████████████████████████████████▍            | 83/98 [00:21<00:03,  4.60it/s]"
     ]
    },
    {
     "name": "stdout",
     "output_type": "stream",
     "text": [
      "{'http': 'http://204.16.1.169:82', 'https': 'https://204.16.1.169:82'}\n",
      "Success\n"
     ]
    },
    {
     "name": "stderr",
     "output_type": "stream",
     "text": [
      "\r",
      " 86%|██████████████████████████████████████████████████████████████████████▎           | 84/98 [00:21<00:02,  4.91it/s]"
     ]
    },
    {
     "name": "stdout",
     "output_type": "stream",
     "text": [
      "{'http': 'http://50.235.149.74:', 'https': 'https://50.235.149.74:'}\n",
      "Success\n",
      "{'http': 'http://47.89.153.213:', 'https': 'https://47.89.153.213:'}\n"
     ]
    },
    {
     "name": "stderr",
     "output_type": "stream",
     "text": [
      "\r",
      " 87%|███████████████████████████████████████████████████████████████████████           | 85/98 [00:21<00:02,  5.08it/s]"
     ]
    },
    {
     "name": "stdout",
     "output_type": "stream",
     "text": [
      "Success\n",
      "{'http': 'http://104.192.202.11:', 'https': 'https://104.192.202.11:'}\n"
     ]
    },
    {
     "name": "stderr",
     "output_type": "stream",
     "text": [
      "\r",
      " 88%|███████████████████████████████████████████████████████████████████████▉          | 86/98 [00:22<00:03,  3.88it/s]"
     ]
    },
    {
     "name": "stdout",
     "output_type": "stream",
     "text": [
      "Success\n",
      "{'http': 'http://40.136.41.6:', 'https': 'https://40.136.41.6:'}\n",
      "Success\n"
     ]
    },
    {
     "name": "stderr",
     "output_type": "stream",
     "text": [
      " 90%|█████████████████████████████████████████████████████████████████████████▋        | 88/98 [00:22<00:02,  4.43it/s]"
     ]
    },
    {
     "name": "stdout",
     "output_type": "stream",
     "text": [
      "{'http': 'http://52.168.34.113:', 'https': 'https://52.168.34.113:'}\n",
      "Success\n",
      "{'http': 'http://3.217.161.14:', 'https': 'https://3.217.161.14:'}\n"
     ]
    },
    {
     "name": "stderr",
     "output_type": "stream",
     "text": [
      " 92%|███████████████████████████████████████████████████████████████████████████▎      | 90/98 [00:23<00:01,  4.74it/s]"
     ]
    },
    {
     "name": "stdout",
     "output_type": "stream",
     "text": [
      "Success\n",
      "{'http': 'http://63.161.104.189:', 'https': 'https://63.161.104.189:'}\n",
      "Success\n"
     ]
    },
    {
     "name": "stderr",
     "output_type": "stream",
     "text": [
      "\r",
      " 93%|████████████████████████████████████████████████████████████████████████████▏     | 91/98 [00:23<00:01,  4.93it/s]"
     ]
    },
    {
     "name": "stdout",
     "output_type": "stream",
     "text": [
      "{'http': 'http://54.80.246.241:', 'https': 'https://54.80.246.241:'}\n",
      "Success\n"
     ]
    },
    {
     "name": "stderr",
     "output_type": "stream",
     "text": [
      "\r",
      " 94%|████████████████████████████████████████████████████████████████████████████▉     | 92/98 [00:23<00:01,  4.98it/s]"
     ]
    },
    {
     "name": "stdout",
     "output_type": "stream",
     "text": [
      "{'http': 'http://74.205.128.200:', 'https': 'https://74.205.128.200:'}\n",
      "Success\n"
     ]
    },
    {
     "name": "stderr",
     "output_type": "stream",
     "text": [
      "\r",
      " 95%|█████████████████████████████████████████████████████████████████████████████▊    | 93/98 [00:23<00:00,  5.09it/s]"
     ]
    },
    {
     "name": "stdout",
     "output_type": "stream",
     "text": [
      "{'http': 'http://204.16.1.169:82', 'https': 'https://204.16.1.169:82'}\n",
      "Success\n"
     ]
    },
    {
     "name": "stderr",
     "output_type": "stream",
     "text": [
      "\r",
      " 96%|██████████████████████████████████████████████████████████████████████████████▋   | 94/98 [00:23<00:00,  5.15it/s]"
     ]
    },
    {
     "name": "stdout",
     "output_type": "stream",
     "text": [
      "{'http': 'http://104.192.202.11:', 'https': 'https://104.192.202.11:'}\n",
      "Success\n",
      "{'http': 'http://161.35.4.201:', 'https': 'https://161.35.4.201:'}\n"
     ]
    },
    {
     "name": "stderr",
     "output_type": "stream",
     "text": [
      "\r",
      " 97%|███████████████████████████████████████████████████████████████████████████████▍  | 95/98 [00:24<00:00,  4.67it/s]"
     ]
    },
    {
     "name": "stdout",
     "output_type": "stream",
     "text": [
      "Success\n",
      "{'http': 'http://186.233.186.60:', 'https': 'https://186.233.186.60:'}\n"
     ]
    },
    {
     "name": "stderr",
     "output_type": "stream",
     "text": [
      " 99%|█████████████████████████████████████████████████████████████████████████████████▏| 97/98 [00:24<00:00,  4.40it/s]"
     ]
    },
    {
     "name": "stdout",
     "output_type": "stream",
     "text": [
      "Success\n",
      "{'http': 'http://66.211.155.34:', 'https': 'https://66.211.155.34:'}\n",
      "Success\n"
     ]
    },
    {
     "name": "stderr",
     "output_type": "stream",
     "text": [
      "\r",
      "100%|██████████████████████████████████████████████████████████████████████████████████| 98/98 [00:24<00:00,  4.61it/s]"
     ]
    },
    {
     "name": "stdout",
     "output_type": "stream",
     "text": [
      "{'http': 'http://3.230.91.35:', 'https': 'https://3.230.91.35:'}\n",
      "Success\n"
     ]
    },
    {
     "name": "stderr",
     "output_type": "stream",
     "text": [
      "100%|██████████████████████████████████████████████████████████████████████████████████| 98/98 [00:24<00:00,  3.94it/s]\n",
      "  0%|                                                                                          | 0/109 [00:00<?, ?it/s]"
     ]
    },
    {
     "name": "stdout",
     "output_type": "stream",
     "text": [
      "{'http': 'http://173.196.205.170:', 'https': 'https://173.196.205.170:'}\n"
     ]
    },
    {
     "name": "stderr",
     "output_type": "stream",
     "text": [
      "\r",
      "  1%|▊                                                                                 | 1/109 [00:00<00:26,  4.09it/s]"
     ]
    },
    {
     "name": "stdout",
     "output_type": "stream",
     "text": [
      "Success\n",
      "{'http': 'http://20.47.108.204:8888', 'https': 'https://20.47.108.204:8888'}\n",
      "Success\n"
     ]
    },
    {
     "name": "stderr",
     "output_type": "stream",
     "text": [
      "  3%|██▎                                                                               | 3/109 [00:00<00:22,  4.69it/s]"
     ]
    },
    {
     "name": "stdout",
     "output_type": "stream",
     "text": [
      "{'http': 'http://3.211.17.212:', 'https': 'https://3.211.17.212:'}\n",
      "Success\n"
     ]
    },
    {
     "name": "stderr",
     "output_type": "stream",
     "text": [
      "\r",
      "  4%|███                                                                               | 4/109 [00:00<00:22,  4.64it/s]"
     ]
    },
    {
     "name": "stdout",
     "output_type": "stream",
     "text": [
      "{'http': 'http://47.88.7.115:3129', 'https': 'https://47.88.7.115:3129'}\n",
      "Success\n"
     ]
    },
    {
     "name": "stderr",
     "output_type": "stream",
     "text": [
      "\r",
      "  5%|███▊                                                                              | 5/109 [00:01<00:20,  5.02it/s]"
     ]
    },
    {
     "name": "stdout",
     "output_type": "stream",
     "text": [
      "{'http': 'http://104.192.202.11:', 'https': 'https://104.192.202.11:'}\n",
      "Success\n",
      "{'http': 'http://192.155.107.60:', 'https': 'https://192.155.107.60:'}\n"
     ]
    },
    {
     "name": "stderr",
     "output_type": "stream",
     "text": [
      "\r",
      "  6%|████▌                                                                             | 6/109 [00:01<00:22,  4.57it/s]"
     ]
    },
    {
     "name": "stdout",
     "output_type": "stream",
     "text": [
      "Success\n",
      "{'http': 'http://3.211.17.212:', 'https': 'https://3.211.17.212:'}\n"
     ]
    },
    {
     "name": "stderr",
     "output_type": "stream",
     "text": [
      "\r",
      "  6%|█████▎                                                                            | 7/109 [00:01<00:23,  4.29it/s]"
     ]
    },
    {
     "name": "stdout",
     "output_type": "stream",
     "text": [
      "Success\n",
      "{'http': 'http://63.161.104.189:', 'https': 'https://63.161.104.189:'}\n",
      "Success\n"
     ]
    },
    {
     "name": "stderr",
     "output_type": "stream",
     "text": [
      "  8%|██████▊                                                                           | 9/109 [00:01<00:20,  4.80it/s]"
     ]
    },
    {
     "name": "stdout",
     "output_type": "stream",
     "text": [
      "{'http': 'http://12.151.56.30:', 'https': 'https://12.151.56.30:'}\n",
      "Success\n",
      "{'http': 'http://54.80.246.241:', 'https': 'https://54.80.246.241:'}\n"
     ]
    },
    {
     "name": "stderr",
     "output_type": "stream",
     "text": [
      " 10%|████████▏                                                                        | 11/109 [00:02<00:19,  5.15it/s]"
     ]
    },
    {
     "name": "stdout",
     "output_type": "stream",
     "text": [
      "Success\n",
      "{'http': 'http://216.169.73.65:34679', 'https': 'https://216.169.73.65:34679'}\n",
      "Success\n"
     ]
    },
    {
     "name": "stderr",
     "output_type": "stream",
     "text": [
      "\r",
      " 11%|████████▉                                                                        | 12/109 [00:02<00:18,  5.25it/s]"
     ]
    },
    {
     "name": "stdout",
     "output_type": "stream",
     "text": [
      "{'http': 'http://138.68.235.51:', 'https': 'https://138.68.235.51:'}\n",
      "Success\n"
     ]
    },
    {
     "name": "stderr",
     "output_type": "stream",
     "text": [
      "\r",
      " 12%|█████████▋                                                                       | 13/109 [00:02<00:19,  5.03it/s]"
     ]
    },
    {
     "name": "stdout",
     "output_type": "stream",
     "text": [
      "{'http': 'http://208.72.154.111:8888', 'https': 'https://208.72.154.111:8888'}\n",
      "Success\n"
     ]
    },
    {
     "name": "stderr",
     "output_type": "stream",
     "text": [
      "\r",
      " 13%|██████████▍                                                                      | 14/109 [00:02<00:18,  5.02it/s]"
     ]
    },
    {
     "name": "stdout",
     "output_type": "stream",
     "text": [
      "{'http': 'http://74.205.128.200:', 'https': 'https://74.205.128.200:'}\n",
      "Success\n"
     ]
    },
    {
     "name": "stderr",
     "output_type": "stream",
     "text": [
      "\r",
      " 14%|███████████▏                                                                     | 15/109 [00:03<00:19,  4.84it/s]"
     ]
    },
    {
     "name": "stdout",
     "output_type": "stream",
     "text": [
      "{'http': 'http://216.169.73.65:34679', 'https': 'https://216.169.73.65:34679'}\n",
      "Success\n"
     ]
    },
    {
     "name": "stderr",
     "output_type": "stream",
     "text": [
      "\r",
      " 15%|███████████▉                                                                     | 16/109 [00:03<00:19,  4.86it/s]"
     ]
    },
    {
     "name": "stdout",
     "output_type": "stream",
     "text": [
      "{'http': 'http://154.85.35.235:8888', 'https': 'https://154.85.35.235:8888'}\n",
      "Success\n",
      "{'http': 'http://132.145.195.93:', 'https': 'https://132.145.195.93:'}\n"
     ]
    },
    {
     "name": "stderr",
     "output_type": "stream",
     "text": [
      "\r",
      " 16%|████████████▋                                                                    | 17/109 [00:03<00:19,  4.61it/s]"
     ]
    },
    {
     "name": "stdout",
     "output_type": "stream",
     "text": [
      "Success\n",
      "{'http': 'http://66.211.155.34:', 'https': 'https://66.211.155.34:'}\n",
      "Success\n"
     ]
    },
    {
     "name": "stderr",
     "output_type": "stream",
     "text": [
      " 17%|██████████████                                                                   | 19/109 [00:03<00:18,  4.82it/s]"
     ]
    },
    {
     "name": "stdout",
     "output_type": "stream",
     "text": [
      "{'http': 'http://208.72.154.111:8888', 'https': 'https://208.72.154.111:8888'}\n",
      "Success\n"
     ]
    },
    {
     "name": "stderr",
     "output_type": "stream",
     "text": [
      "\r",
      " 18%|██████████████▊                                                                  | 20/109 [00:04<00:17,  5.01it/s]"
     ]
    },
    {
     "name": "stdout",
     "output_type": "stream",
     "text": [
      "{'http': 'http://23.225.64.59:1089', 'https': 'https://23.225.64.59:1089'}\n",
      "Success\n"
     ]
    },
    {
     "name": "stderr",
     "output_type": "stream",
     "text": [
      "\r",
      " 19%|███████████████▌                                                                 | 21/109 [00:04<00:18,  4.87it/s]"
     ]
    },
    {
     "name": "stdout",
     "output_type": "stream",
     "text": [
      "{'http': 'http://186.233.186.60:', 'https': 'https://186.233.186.60:'}\n",
      "Success\n"
     ]
    },
    {
     "name": "stderr",
     "output_type": "stream",
     "text": [
      "\r",
      " 20%|████████████████▎                                                                | 22/109 [00:04<00:17,  4.98it/s]"
     ]
    },
    {
     "name": "stdout",
     "output_type": "stream",
     "text": [
      "{'http': 'http://66.211.155.34:', 'https': 'https://66.211.155.34:'}\n",
      "Success\n"
     ]
    },
    {
     "name": "stderr",
     "output_type": "stream",
     "text": [
      "\r",
      " 21%|█████████████████                                                                | 23/109 [00:04<00:16,  5.26it/s]"
     ]
    },
    {
     "name": "stdout",
     "output_type": "stream",
     "text": [
      "{'http': 'http://12.151.56.30:', 'https': 'https://12.151.56.30:'}\n",
      "Success\n",
      "{'http': 'http://66.211.155.34:', 'https': 'https://66.211.155.34:'}\n"
     ]
    },
    {
     "name": "stderr",
     "output_type": "stream",
     "text": [
      "\r",
      " 22%|█████████████████▊                                                               | 24/109 [00:04<00:16,  5.24it/s]"
     ]
    },
    {
     "name": "stdout",
     "output_type": "stream",
     "text": [
      "Success\n",
      "{'http': 'http://66.211.155.34:', 'https': 'https://66.211.155.34:'}\n"
     ]
    },
    {
     "name": "stderr",
     "output_type": "stream",
     "text": [
      "\r",
      " 23%|██████████████████▌                                                              | 25/109 [00:05<00:17,  4.90it/s]"
     ]
    },
    {
     "name": "stdout",
     "output_type": "stream",
     "text": [
      "Success\n",
      "{'http': 'http://64.227.62.123:', 'https': 'https://64.227.62.123:'}\n"
     ]
    },
    {
     "name": "stderr",
     "output_type": "stream",
     "text": [
      "\r",
      " 24%|███████████████████▎                                                             | 26/109 [00:05<00:18,  4.38it/s]"
     ]
    },
    {
     "name": "stdout",
     "output_type": "stream",
     "text": [
      "Success\n",
      "{'http': 'http://161.35.4.201:', 'https': 'https://161.35.4.201:'}\n"
     ]
    },
    {
     "name": "stderr",
     "output_type": "stream",
     "text": [
      " 26%|████████████████████▊                                                            | 28/109 [00:05<00:17,  4.54it/s]"
     ]
    },
    {
     "name": "stdout",
     "output_type": "stream",
     "text": [
      "Success\n",
      "{'http': 'http://74.205.128.200:', 'https': 'https://74.205.128.200:'}\n",
      "Success\n"
     ]
    },
    {
     "name": "stderr",
     "output_type": "stream",
     "text": [
      "\r",
      " 27%|█████████████████████▌                                                           | 29/109 [00:06<00:16,  4.74it/s]"
     ]
    },
    {
     "name": "stdout",
     "output_type": "stream",
     "text": [
      "{'http': 'http://192.155.107.59:', 'https': 'https://192.155.107.59:'}\n",
      "Success\n"
     ]
    },
    {
     "name": "stderr",
     "output_type": "stream",
     "text": [
      "\r",
      " 28%|██████████████████████▎                                                          | 30/109 [00:06<00:15,  5.04it/s]"
     ]
    },
    {
     "name": "stdout",
     "output_type": "stream",
     "text": [
      "{'http': 'http://216.169.73.65:34679', 'https': 'https://216.169.73.65:34679'}\n",
      "Success\n",
      "{'http': 'http://154.85.35.235:8888', 'https': 'https://154.85.35.235:8888'}\n"
     ]
    },
    {
     "name": "stderr",
     "output_type": "stream",
     "text": [
      " 29%|███████████████████████▊                                                         | 32/109 [00:06<00:16,  4.58it/s]"
     ]
    },
    {
     "name": "stdout",
     "output_type": "stream",
     "text": [
      "Success\n",
      "{'http': 'http://186.233.186.60:', 'https': 'https://186.233.186.60:'}\n",
      "Success\n"
     ]
    },
    {
     "name": "stderr",
     "output_type": "stream",
     "text": [
      "\r",
      " 30%|████████████████████████▌                                                        | 33/109 [00:06<00:15,  4.75it/s]"
     ]
    },
    {
     "name": "stdout",
     "output_type": "stream",
     "text": [
      "{'http': 'http://3.211.17.212:', 'https': 'https://3.211.17.212:'}\n",
      "Success\n",
      "{'http': 'http://161.35.4.201:', 'https': 'https://161.35.4.201:'}\n"
     ]
    },
    {
     "name": "stderr",
     "output_type": "stream",
     "text": [
      "\r",
      " 31%|█████████████████████████▎                                                       | 34/109 [00:07<00:16,  4.54it/s]"
     ]
    },
    {
     "name": "stdout",
     "output_type": "stream",
     "text": [
      "Success\n",
      "{'http': 'http://159.65.69.186:9300', 'https': 'https://159.65.69.186:9300'}\n"
     ]
    },
    {
     "name": "stderr",
     "output_type": "stream",
     "text": [
      " 33%|██████████████████████████▊                                                      | 36/109 [00:07<00:16,  4.43it/s]"
     ]
    },
    {
     "name": "stdout",
     "output_type": "stream",
     "text": [
      "Success\n",
      "{'http': 'http://159.65.69.186:9300', 'https': 'https://159.65.69.186:9300'}\n",
      "Success\n"
     ]
    },
    {
     "name": "stderr",
     "output_type": "stream",
     "text": [
      "\r",
      " 34%|███████████████████████████▍                                                     | 37/109 [00:07<00:15,  4.64it/s]"
     ]
    },
    {
     "name": "stdout",
     "output_type": "stream",
     "text": [
      "{'http': 'http://208.72.154.111:8888', 'https': 'https://208.72.154.111:8888'}\n",
      "Success\n"
     ]
    },
    {
     "name": "stderr",
     "output_type": "stream",
     "text": [
      "\r",
      " 35%|████████████████████████████▏                                                    | 38/109 [00:08<00:14,  4.76it/s]"
     ]
    },
    {
     "name": "stdout",
     "output_type": "stream",
     "text": [
      "{'http': 'http://159.65.69.186:9300', 'https': 'https://159.65.69.186:9300'}\n",
      "Success\n"
     ]
    },
    {
     "name": "stderr",
     "output_type": "stream",
     "text": [
      "\r",
      " 36%|████████████████████████████▉                                                    | 39/109 [00:08<00:14,  4.85it/s]"
     ]
    },
    {
     "name": "stdout",
     "output_type": "stream",
     "text": [
      "{'http': 'http://132.145.195.93:', 'https': 'https://132.145.195.93:'}\n",
      "Success\n"
     ]
    },
    {
     "name": "stderr",
     "output_type": "stream",
     "text": [
      "\r",
      " 37%|█████████████████████████████▋                                                   | 40/109 [00:08<00:12,  5.32it/s]"
     ]
    },
    {
     "name": "stdout",
     "output_type": "stream",
     "text": [
      "{'http': 'http://23.225.64.59:1089', 'https': 'https://23.225.64.59:1089'}\n",
      "Success\n",
      "{'http': 'http://52.168.34.113:', 'https': 'https://52.168.34.113:'}\n"
     ]
    },
    {
     "name": "stderr",
     "output_type": "stream",
     "text": [
      "\r",
      " 38%|██████████████████████████████▍                                                  | 41/109 [00:09<00:35,  1.91it/s]"
     ]
    },
    {
     "name": "stdout",
     "output_type": "stream",
     "text": [
      "Success\n",
      "{'http': 'http://216.169.73.65:34679', 'https': 'https://216.169.73.65:34679'}\n"
     ]
    },
    {
     "name": "stderr",
     "output_type": "stream",
     "text": [
      " 39%|███████████████████████████████▉                                                 | 43/109 [00:10<00:23,  2.79it/s]"
     ]
    },
    {
     "name": "stdout",
     "output_type": "stream",
     "text": [
      "Success\n",
      "{'http': 'http://3.217.161.14:', 'https': 'https://3.217.161.14:'}\n",
      "Success\n"
     ]
    },
    {
     "name": "stderr",
     "output_type": "stream",
     "text": [
      "\r",
      " 40%|████████████████████████████████▋                                                | 44/109 [00:10<00:20,  3.22it/s]"
     ]
    },
    {
     "name": "stdout",
     "output_type": "stream",
     "text": [
      "{'http': 'http://47.88.7.115:3129', 'https': 'https://47.88.7.115:3129'}\n",
      "Success\n"
     ]
    },
    {
     "name": "stderr",
     "output_type": "stream",
     "text": [
      "\r",
      " 41%|█████████████████████████████████▍                                               | 45/109 [00:10<00:17,  3.65it/s]"
     ]
    },
    {
     "name": "stdout",
     "output_type": "stream",
     "text": [
      "{'http': 'http://104.192.202.11:', 'https': 'https://104.192.202.11:'}\n",
      "Success\n"
     ]
    },
    {
     "name": "stderr",
     "output_type": "stream",
     "text": [
      "\r",
      " 42%|██████████████████████████████████▏                                              | 46/109 [00:10<00:15,  4.05it/s]"
     ]
    },
    {
     "name": "stdout",
     "output_type": "stream",
     "text": [
      "{'http': 'http://47.252.82.135:', 'https': 'https://47.252.82.135:'}\n",
      "Success\n",
      "{'http': 'http://154.85.35.235:8888', 'https': 'https://154.85.35.235:8888'}\n"
     ]
    },
    {
     "name": "stderr",
     "output_type": "stream",
     "text": [
      "\r",
      " 43%|██████████████████████████████████▉                                              | 47/109 [00:10<00:13,  4.46it/s]"
     ]
    },
    {
     "name": "stdout",
     "output_type": "stream",
     "text": [
      "Success\n",
      "{'http': 'http://47.88.7.115:3129', 'https': 'https://47.88.7.115:3129'}\n",
      "Success\n"
     ]
    },
    {
     "name": "stderr",
     "output_type": "stream",
     "text": [
      "\r",
      " 44%|███████████████████████████████████▋                                             | 48/109 [00:11<00:13,  4.60it/s]"
     ]
    },
    {
     "name": "stdout",
     "output_type": "stream",
     "text": [
      "{'http': 'http://54.80.246.241:', 'https': 'https://54.80.246.241:'}\n"
     ]
    },
    {
     "name": "stderr",
     "output_type": "stream",
     "text": [
      "\r",
      " 45%|████████████████████████████████████▍                                            | 49/109 [00:11<00:14,  4.18it/s]"
     ]
    },
    {
     "name": "stdout",
     "output_type": "stream",
     "text": [
      "Success\n",
      "{'http': 'http://23.225.64.59:1089', 'https': 'https://23.225.64.59:1089'}\n"
     ]
    },
    {
     "name": "stderr",
     "output_type": "stream",
     "text": [
      " 47%|█████████████████████████████████████▉                                           | 51/109 [00:11<00:13,  4.44it/s]"
     ]
    },
    {
     "name": "stdout",
     "output_type": "stream",
     "text": [
      "Success\n",
      "{'http': 'http://72.47.152.224:55443', 'https': 'https://72.47.152.224:55443'}\n",
      "Success\n"
     ]
    },
    {
     "name": "stderr",
     "output_type": "stream",
     "text": [
      "\r",
      " 48%|██████████████████████████████████████▋                                          | 52/109 [00:11<00:12,  4.71it/s]"
     ]
    },
    {
     "name": "stdout",
     "output_type": "stream",
     "text": [
      "{'http': 'http://54.80.246.241:', 'https': 'https://54.80.246.241:'}\n",
      "Success\n",
      "{'http': 'http://74.205.128.200:', 'https': 'https://74.205.128.200:'}\n"
     ]
    },
    {
     "name": "stderr",
     "output_type": "stream",
     "text": [
      " 50%|████████████████████████████████████████▏                                        | 54/109 [00:12<00:11,  4.82it/s]"
     ]
    },
    {
     "name": "stdout",
     "output_type": "stream",
     "text": [
      "Success\n",
      "{'http': 'http://47.89.153.213:', 'https': 'https://47.89.153.213:'}\n",
      "Success\n"
     ]
    },
    {
     "name": "stderr",
     "output_type": "stream",
     "text": [
      "\r",
      " 50%|████████████████████████████████████████▊                                        | 55/109 [00:12<00:10,  4.97it/s]"
     ]
    },
    {
     "name": "stdout",
     "output_type": "stream",
     "text": [
      "{'http': 'http://63.161.104.189:', 'https': 'https://63.161.104.189:'}\n",
      "Success\n",
      "{'http': 'http://52.168.34.113:', 'https': 'https://52.168.34.113:'}\n",
      "Success\n"
     ]
    },
    {
     "name": "stderr",
     "output_type": "stream",
     "text": [
      " 52%|██████████████████████████████████████████▎                                      | 57/109 [00:12<00:10,  4.82it/s]"
     ]
    },
    {
     "name": "stdout",
     "output_type": "stream",
     "text": [
      "{'http': 'http://66.211.155.34:', 'https': 'https://66.211.155.34:'}\n",
      "Success\n"
     ]
    },
    {
     "name": "stderr",
     "output_type": "stream",
     "text": [
      "\r",
      " 53%|███████████████████████████████████████████                                      | 58/109 [00:13<00:10,  4.82it/s]"
     ]
    },
    {
     "name": "stdout",
     "output_type": "stream",
     "text": [
      "{'http': 'http://52.168.34.113:', 'https': 'https://52.168.34.113:'}\n",
      "Success\n"
     ]
    },
    {
     "name": "stderr",
     "output_type": "stream",
     "text": [
      "\r",
      " 54%|███████████████████████████████████████████▊                                     | 59/109 [00:13<00:10,  4.87it/s]"
     ]
    },
    {
     "name": "stdout",
     "output_type": "stream",
     "text": [
      "{'http': 'http://76.81.164.246:', 'https': 'https://76.81.164.246:'}\n",
      "Success\n"
     ]
    },
    {
     "name": "stderr",
     "output_type": "stream",
     "text": [
      "\r",
      " 55%|████████████████████████████████████████████▌                                    | 60/109 [00:13<00:10,  4.80it/s]"
     ]
    },
    {
     "name": "stdout",
     "output_type": "stream",
     "text": [
      "{'http': 'http://76.81.164.246:', 'https': 'https://76.81.164.246:'}\n",
      "Success\n"
     ]
    },
    {
     "name": "stderr",
     "output_type": "stream",
     "text": [
      "\r",
      " 56%|█████████████████████████████████████████████▎                                   | 61/109 [00:13<00:09,  5.11it/s]"
     ]
    },
    {
     "name": "stdout",
     "output_type": "stream",
     "text": [
      "{'http': 'http://74.205.128.200:', 'https': 'https://74.205.128.200:'}\n",
      "Success\n",
      "{'http': 'http://23.225.64.59:1089', 'https': 'https://23.225.64.59:1089'}\n"
     ]
    },
    {
     "name": "stderr",
     "output_type": "stream",
     "text": [
      " 58%|██████████████████████████████████████████████▊                                  | 63/109 [00:14<00:08,  5.22it/s]"
     ]
    },
    {
     "name": "stdout",
     "output_type": "stream",
     "text": [
      "Success\n",
      "{'http': 'http://192.155.107.60:', 'https': 'https://192.155.107.60:'}\n",
      "Success\n"
     ]
    },
    {
     "name": "stderr",
     "output_type": "stream",
     "text": [
      "\r",
      " 59%|███████████████████████████████████████████████▌                                 | 64/109 [00:14<00:08,  5.27it/s]"
     ]
    },
    {
     "name": "stdout",
     "output_type": "stream",
     "text": [
      "{'http': 'http://12.151.56.30:', 'https': 'https://12.151.56.30:'}\n",
      "Success\n"
     ]
    },
    {
     "name": "stderr",
     "output_type": "stream",
     "text": [
      "\r",
      " 60%|████████████████████████████████████████████████▎                                | 65/109 [00:14<00:07,  5.52it/s]"
     ]
    },
    {
     "name": "stdout",
     "output_type": "stream",
     "text": [
      "{'http': 'http://192.155.107.60:', 'https': 'https://192.155.107.60:'}\n",
      "Success\n",
      "{'http': 'http://3.230.91.35:', 'https': 'https://3.230.91.35:'}\n"
     ]
    },
    {
     "name": "stderr",
     "output_type": "stream",
     "text": [
      " 61%|█████████████████████████████████████████████████▊                               | 67/109 [00:14<00:07,  5.80it/s]"
     ]
    },
    {
     "name": "stdout",
     "output_type": "stream",
     "text": [
      "Success\n",
      "{'http': 'http://47.252.82.135:', 'https': 'https://47.252.82.135:'}\n",
      "Success\n",
      "{'http': 'http://104.192.202.11:', 'https': 'https://104.192.202.11:'}\n"
     ]
    },
    {
     "name": "stderr",
     "output_type": "stream",
     "text": [
      "\r",
      " 62%|██████████████████████████████████████████████████▌                              | 68/109 [00:14<00:07,  5.81it/s]"
     ]
    },
    {
     "name": "stdout",
     "output_type": "stream",
     "text": [
      "Success\n",
      "{'http': 'http://159.65.69.186:9300', 'https': 'https://159.65.69.186:9300'}\n"
     ]
    },
    {
     "name": "stderr",
     "output_type": "stream",
     "text": [
      " 64%|████████████████████████████████████████████████████                             | 70/109 [00:15<00:08,  4.84it/s]"
     ]
    },
    {
     "name": "stdout",
     "output_type": "stream",
     "text": [
      "Success\n",
      "{'http': 'http://74.205.128.200:', 'https': 'https://74.205.128.200:'}\n",
      "Success\n"
     ]
    },
    {
     "name": "stderr",
     "output_type": "stream",
     "text": [
      "\r",
      " 65%|████████████████████████████████████████████████████▊                            | 71/109 [00:15<00:07,  4.89it/s]"
     ]
    },
    {
     "name": "stdout",
     "output_type": "stream",
     "text": [
      "{'http': 'http://63.161.104.189:', 'https': 'https://63.161.104.189:'}\n",
      "Success\n"
     ]
    },
    {
     "name": "stderr",
     "output_type": "stream",
     "text": [
      "\r",
      " 66%|█████████████████████████████████████████████████████▌                           | 72/109 [00:15<00:07,  5.07it/s]"
     ]
    },
    {
     "name": "stdout",
     "output_type": "stream",
     "text": [
      "{'http': 'http://66.211.155.34:', 'https': 'https://66.211.155.34:'}\n",
      "Success\n"
     ]
    },
    {
     "name": "stderr",
     "output_type": "stream",
     "text": [
      "\r",
      " 67%|██████████████████████████████████████████████████████▏                          | 73/109 [00:16<00:07,  5.13it/s]"
     ]
    },
    {
     "name": "stdout",
     "output_type": "stream",
     "text": [
      "{'http': 'http://132.145.195.93:', 'https': 'https://132.145.195.93:'}\n",
      "Success\n",
      "{'http': 'http://186.233.186.60:', 'https': 'https://186.233.186.60:'}\n"
     ]
    },
    {
     "name": "stderr",
     "output_type": "stream",
     "text": [
      " 69%|███████████████████████████████████████████████████████▋                         | 75/109 [00:16<00:07,  4.72it/s]"
     ]
    },
    {
     "name": "stdout",
     "output_type": "stream",
     "text": [
      "Success\n",
      "{'http': 'http://208.72.154.111:8888', 'https': 'https://208.72.154.111:8888'}\n",
      "Success\n"
     ]
    },
    {
     "name": "stderr",
     "output_type": "stream",
     "text": [
      "\r",
      " 70%|████████████████████████████████████████████████████████▍                        | 76/109 [00:16<00:06,  5.13it/s]"
     ]
    },
    {
     "name": "stdout",
     "output_type": "stream",
     "text": [
      "{'http': 'http://54.80.246.241:', 'https': 'https://54.80.246.241:'}\n",
      "Success\n",
      "{'http': 'http://192.155.107.59:', 'https': 'https://192.155.107.59:'}\n"
     ]
    },
    {
     "name": "stderr",
     "output_type": "stream",
     "text": [
      "\r",
      " 71%|█████████████████████████████████████████████████████████▏                       | 77/109 [00:16<00:06,  5.13it/s]"
     ]
    },
    {
     "name": "stdout",
     "output_type": "stream",
     "text": [
      "Success\n",
      "{'http': 'http://154.85.35.235:8888', 'https': 'https://154.85.35.235:8888'}\n",
      "Success\n"
     ]
    },
    {
     "name": "stderr",
     "output_type": "stream",
     "text": [
      "\r",
      " 72%|█████████████████████████████████████████████████████████▉                       | 78/109 [00:17<00:06,  4.82it/s]"
     ]
    },
    {
     "name": "stdout",
     "output_type": "stream",
     "text": [
      "{'http': 'http://47.252.82.135:', 'https': 'https://47.252.82.135:'}\n"
     ]
    },
    {
     "name": "stderr",
     "output_type": "stream",
     "text": [
      "\r",
      " 72%|██████████████████████████████████████████████████████████▋                      | 79/109 [00:17<00:07,  4.07it/s]"
     ]
    },
    {
     "name": "stdout",
     "output_type": "stream",
     "text": [
      "Success\n",
      "{'http': 'http://40.136.41.6:', 'https': 'https://40.136.41.6:'}\n",
      "Success\n"
     ]
    },
    {
     "name": "stderr",
     "output_type": "stream",
     "text": [
      " 74%|████████████████████████████████████████████████████████████▏                    | 81/109 [00:17<00:06,  4.43it/s]"
     ]
    },
    {
     "name": "stdout",
     "output_type": "stream",
     "text": [
      "{'http': 'http://104.192.202.11:', 'https': 'https://104.192.202.11:'}\n",
      "Success\n"
     ]
    },
    {
     "name": "stderr",
     "output_type": "stream",
     "text": [
      "\r",
      " 75%|████████████████████████████████████████████████████████████▉                    | 82/109 [00:18<00:05,  4.66it/s]"
     ]
    },
    {
     "name": "stdout",
     "output_type": "stream",
     "text": [
      "{'http': 'http://54.244.204.46:', 'https': 'https://54.244.204.46:'}\n",
      "Success\n",
      "{'http': 'http://47.89.153.213:', 'https': 'https://47.89.153.213:'}\n"
     ]
    },
    {
     "name": "stderr",
     "output_type": "stream",
     "text": [
      "\r",
      " 76%|█████████████████████████████████████████████████████████████▋                   | 83/109 [00:18<00:06,  4.11it/s]"
     ]
    },
    {
     "name": "stdout",
     "output_type": "stream",
     "text": [
      "Success\n",
      "{'http': 'http://47.89.153.213:', 'https': 'https://47.89.153.213:'}\n",
      "Success\n"
     ]
    },
    {
     "name": "stderr",
     "output_type": "stream",
     "text": [
      " 78%|███████████████████████████████████████████████████████████████▏                 | 85/109 [00:18<00:05,  4.71it/s]"
     ]
    },
    {
     "name": "stdout",
     "output_type": "stream",
     "text": [
      "{'http': 'http://47.89.153.213:', 'https': 'https://47.89.153.213:'}\n",
      "Success\n"
     ]
    },
    {
     "name": "stderr",
     "output_type": "stream",
     "text": [
      "\r",
      " 79%|███████████████████████████████████████████████████████████████▉                 | 86/109 [00:18<00:04,  4.89it/s]"
     ]
    },
    {
     "name": "stdout",
     "output_type": "stream",
     "text": [
      "{'http': 'http://74.205.128.200:', 'https': 'https://74.205.128.200:'}\n",
      "Success\n",
      "{'http': 'http://186.233.186.60:', 'https': 'https://186.233.186.60:'}\n"
     ]
    },
    {
     "name": "stderr",
     "output_type": "stream",
     "text": [
      "\r",
      " 80%|████████████████████████████████████████████████████████████████▋                | 87/109 [00:19<00:04,  4.58it/s]"
     ]
    },
    {
     "name": "stdout",
     "output_type": "stream",
     "text": [
      "Success\n",
      "{'http': 'http://208.72.154.111:8888', 'https': 'https://208.72.154.111:8888'}\n"
     ]
    },
    {
     "name": "stderr",
     "output_type": "stream",
     "text": [
      " 82%|██████████████████████████████████████████████████████████████████▏              | 89/109 [00:19<00:04,  4.45it/s]"
     ]
    },
    {
     "name": "stdout",
     "output_type": "stream",
     "text": [
      "Success\n",
      "{'http': 'http://216.169.73.65:34679', 'https': 'https://216.169.73.65:34679'}\n",
      "Success\n"
     ]
    },
    {
     "name": "stderr",
     "output_type": "stream",
     "text": [
      "\r",
      " 83%|██████████████████████████████████████████████████████████████████▉              | 90/109 [00:19<00:04,  4.59it/s]"
     ]
    },
    {
     "name": "stdout",
     "output_type": "stream",
     "text": [
      "{'http': 'http://3.217.161.14:', 'https': 'https://3.217.161.14:'}\n",
      "Success\n"
     ]
    },
    {
     "name": "stderr",
     "output_type": "stream",
     "text": [
      "\r",
      " 83%|███████████████████████████████████████████████████████████████████▌             | 91/109 [00:20<00:03,  4.87it/s]"
     ]
    },
    {
     "name": "stdout",
     "output_type": "stream",
     "text": [
      "{'http': 'http://104.192.202.11:', 'https': 'https://104.192.202.11:'}\n",
      "Success\n",
      "{'http': 'http://47.88.7.115:3129', 'https': 'https://47.88.7.115:3129'}\n"
     ]
    },
    {
     "name": "stderr",
     "output_type": "stream",
     "text": [
      "\r",
      " 84%|████████████████████████████████████████████████████████████████████▎            | 92/109 [00:20<00:03,  5.22it/s]"
     ]
    },
    {
     "name": "stdout",
     "output_type": "stream",
     "text": [
      "Success\n",
      "{'http': 'http://72.47.152.224:55443', 'https': 'https://72.47.152.224:55443'}\n",
      "Success\n"
     ]
    },
    {
     "name": "stderr",
     "output_type": "stream",
     "text": [
      " 86%|█████████████████████████████████████████████████████████████████████▊           | 94/109 [00:20<00:02,  5.16it/s]"
     ]
    },
    {
     "name": "stdout",
     "output_type": "stream",
     "text": [
      "{'http': 'http://12.151.56.30:', 'https': 'https://12.151.56.30:'}\n",
      "Success\n"
     ]
    },
    {
     "name": "stderr",
     "output_type": "stream",
     "text": [
      "\r",
      " 87%|██████████████████████████████████████████████████████████████████████▌          | 95/109 [00:20<00:02,  5.30it/s]"
     ]
    },
    {
     "name": "stdout",
     "output_type": "stream",
     "text": [
      "{'http': 'http://132.145.195.93:', 'https': 'https://132.145.195.93:'}\n",
      "Success\n",
      "{'http': 'http://50.235.149.74:', 'https': 'https://50.235.149.74:'}\n"
     ]
    },
    {
     "name": "stderr",
     "output_type": "stream",
     "text": [
      "\r",
      " 88%|███████████████████████████████████████████████████████████████████████▎         | 96/109 [00:20<00:02,  5.55it/s]"
     ]
    },
    {
     "name": "stdout",
     "output_type": "stream",
     "text": [
      "Success\n",
      "{'http': 'http://47.89.153.213:', 'https': 'https://47.89.153.213:'}\n"
     ]
    },
    {
     "name": "stderr",
     "output_type": "stream",
     "text": [
      "\r",
      " 89%|████████████████████████████████████████████████████████████████████████         | 97/109 [00:21<00:02,  4.97it/s]"
     ]
    },
    {
     "name": "stdout",
     "output_type": "stream",
     "text": [
      "Success\n",
      "{'http': 'http://54.244.204.46:', 'https': 'https://54.244.204.46:'}\n"
     ]
    },
    {
     "name": "stderr",
     "output_type": "stream",
     "text": [
      " 91%|█████████████████████████████████████████████████████████████████████████▌       | 99/109 [00:21<00:02,  4.50it/s]"
     ]
    },
    {
     "name": "stdout",
     "output_type": "stream",
     "text": [
      "Success\n",
      "{'http': 'http://192.155.107.59:', 'https': 'https://192.155.107.59:'}\n",
      "Success\n"
     ]
    },
    {
     "name": "stderr",
     "output_type": "stream",
     "text": [
      "\r",
      " 92%|█████████████████████████████████████████████████████████████████████████▍      | 100/109 [00:21<00:01,  4.64it/s]"
     ]
    },
    {
     "name": "stdout",
     "output_type": "stream",
     "text": [
      "{'http': 'http://104.192.202.11:', 'https': 'https://104.192.202.11:'}\n",
      "Success\n"
     ]
    },
    {
     "name": "stderr",
     "output_type": "stream",
     "text": [
      "\r",
      " 93%|██████████████████████████████████████████████████████████████████████████▏     | 101/109 [00:22<00:01,  4.84it/s]"
     ]
    },
    {
     "name": "stdout",
     "output_type": "stream",
     "text": [
      "{'http': 'http://64.227.62.123:', 'https': 'https://64.227.62.123:'}\n",
      "Success\n",
      "{'http': 'http://192.155.107.59:', 'https': 'https://192.155.107.59:'}\n",
      "Success\n"
     ]
    },
    {
     "name": "stderr",
     "output_type": "stream",
     "text": [
      " 94%|███████████████████████████████████████████████████████████████████████████▌    | 103/109 [00:22<00:01,  4.65it/s]"
     ]
    },
    {
     "name": "stdout",
     "output_type": "stream",
     "text": [
      "{'http': 'http://54.80.246.241:', 'https': 'https://54.80.246.241:'}\n",
      "Success\n",
      "{'http': 'http://161.35.4.201:', 'https': 'https://161.35.4.201:'}\n"
     ]
    },
    {
     "name": "stderr",
     "output_type": "stream",
     "text": [
      "\r",
      " 95%|████████████████████████████████████████████████████████████████████████████▎   | 104/109 [00:22<00:01,  4.77it/s]"
     ]
    },
    {
     "name": "stdout",
     "output_type": "stream",
     "text": [
      "Success\n",
      "{'http': 'http://64.227.62.123:', 'https': 'https://64.227.62.123:'}\n"
     ]
    },
    {
     "name": "stderr",
     "output_type": "stream",
     "text": [
      "\r",
      " 96%|█████████████████████████████████████████████████████████████████████████████   | 105/109 [00:22<00:00,  4.54it/s]"
     ]
    },
    {
     "name": "stdout",
     "output_type": "stream",
     "text": [
      "Success\n",
      "{'http': 'http://173.196.205.170:', 'https': 'https://173.196.205.170:'}\n"
     ]
    },
    {
     "name": "stderr",
     "output_type": "stream",
     "text": [
      "\r",
      " 97%|█████████████████████████████████████████████████████████████████████████████▊  | 106/109 [00:23<00:00,  4.47it/s]"
     ]
    },
    {
     "name": "stdout",
     "output_type": "stream",
     "text": [
      "Success\n",
      "{'http': 'http://20.47.108.204:8888', 'https': 'https://20.47.108.204:8888'}\n"
     ]
    },
    {
     "name": "stderr",
     "output_type": "stream",
     "text": [
      " 99%|███████████████████████████████████████████████████████████████████████████████▎| 108/109 [00:23<00:00,  4.39it/s]"
     ]
    },
    {
     "name": "stdout",
     "output_type": "stream",
     "text": [
      "Success\n",
      "{'http': 'http://54.80.246.241:', 'https': 'https://54.80.246.241:'}\n",
      "Success\n"
     ]
    },
    {
     "name": "stderr",
     "output_type": "stream",
     "text": [
      "100%|████████████████████████████████████████████████████████████████████████████████| 109/109 [00:23<00:00,  4.57it/s]\n"
     ]
    },
    {
     "name": "stdout",
     "output_type": "stream",
     "text": [
      "{'http': 'http://76.81.164.246:', 'https': 'https://76.81.164.246:'}\n",
      "Success\n"
     ]
    },
    {
     "name": "stderr",
     "output_type": "stream",
     "text": [
      "  1%|▉                                                                                  | 1/91 [00:00<00:18,  4.89it/s]"
     ]
    },
    {
     "name": "stdout",
     "output_type": "stream",
     "text": [
      "{'http': 'http://72.47.152.224:55443', 'https': 'https://72.47.152.224:55443'}\n",
      "Success\n"
     ]
    },
    {
     "name": "stderr",
     "output_type": "stream",
     "text": [
      "\r",
      "  2%|█▊                                                                                 | 2/91 [00:00<00:19,  4.68it/s]"
     ]
    },
    {
     "name": "stdout",
     "output_type": "stream",
     "text": [
      "{'http': 'http://138.68.235.51:', 'https': 'https://138.68.235.51:'}\n",
      "Success\n"
     ]
    },
    {
     "name": "stderr",
     "output_type": "stream",
     "text": [
      "\r",
      "  3%|██▋                                                                                | 3/91 [00:00<00:17,  5.11it/s]"
     ]
    },
    {
     "name": "stdout",
     "output_type": "stream",
     "text": [
      "{'http': 'http://208.72.154.111:8888', 'https': 'https://208.72.154.111:8888'}\n",
      "Success\n",
      "{'http': 'http://52.168.34.113:', 'https': 'https://52.168.34.113:'}\n"
     ]
    },
    {
     "name": "stderr",
     "output_type": "stream",
     "text": [
      "  5%|████▌                                                                              | 5/91 [00:00<00:16,  5.33it/s]"
     ]
    },
    {
     "name": "stdout",
     "output_type": "stream",
     "text": [
      "Success\n",
      "{'http': 'http://208.72.154.111:8888', 'https': 'https://208.72.154.111:8888'}\n",
      "Success\n"
     ]
    },
    {
     "name": "stderr",
     "output_type": "stream",
     "text": [
      "\r",
      "  7%|█████▍                                                                             | 6/91 [00:01<00:15,  5.50it/s]"
     ]
    },
    {
     "name": "stdout",
     "output_type": "stream",
     "text": [
      "{'http': 'http://204.16.1.169:82', 'https': 'https://204.16.1.169:82'}\n",
      "Success\n",
      "{'http': 'http://64.227.62.123:', 'https': 'https://64.227.62.123:'}\n"
     ]
    },
    {
     "name": "stderr",
     "output_type": "stream",
     "text": [
      "  9%|███████▎                                                                           | 8/91 [00:01<00:14,  5.72it/s]"
     ]
    },
    {
     "name": "stdout",
     "output_type": "stream",
     "text": [
      "Success\n",
      "{'http': 'http://66.211.155.34:', 'https': 'https://66.211.155.34:'}\n",
      "Success\n",
      "{'http': 'http://3.230.91.35:', 'https': 'https://3.230.91.35:'}\n"
     ]
    },
    {
     "name": "stderr",
     "output_type": "stream",
     "text": [
      " 11%|█████████                                                                         | 10/91 [00:01<00:13,  5.87it/s]"
     ]
    },
    {
     "name": "stdout",
     "output_type": "stream",
     "text": [
      "Success\n",
      "{'http': 'http://192.155.107.60:', 'https': 'https://192.155.107.60:'}\n",
      "Success\n",
      "{'http': 'http://67.212.186.101:', 'https': 'https://67.212.186.101:'}\n"
     ]
    },
    {
     "name": "stderr",
     "output_type": "stream",
     "text": [
      " 13%|██████████▊                                                                       | 12/91 [00:02<00:13,  5.81it/s]"
     ]
    },
    {
     "name": "stdout",
     "output_type": "stream",
     "text": [
      "Success\n",
      "{'http': 'http://107.151.182.247:', 'https': 'https://107.151.182.247:'}\n",
      "Success\n"
     ]
    },
    {
     "name": "stderr",
     "output_type": "stream",
     "text": [
      "\r",
      " 14%|███████████▋                                                                      | 13/91 [00:02<00:13,  5.73it/s]"
     ]
    },
    {
     "name": "stdout",
     "output_type": "stream",
     "text": [
      "{'http': 'http://192.155.107.59:', 'https': 'https://192.155.107.59:'}\n",
      "Success\n",
      "{'http': 'http://107.151.182.247:', 'https': 'https://107.151.182.247:'}\n"
     ]
    },
    {
     "name": "stderr",
     "output_type": "stream",
     "text": [
      " 16%|█████████████▌                                                                    | 15/91 [00:02<00:13,  5.56it/s]"
     ]
    },
    {
     "name": "stdout",
     "output_type": "stream",
     "text": [
      "Success\n",
      "{'http': 'http://63.161.104.189:', 'https': 'https://63.161.104.189:'}\n",
      "Success\n"
     ]
    },
    {
     "name": "stderr",
     "output_type": "stream",
     "text": [
      "\r",
      " 18%|██████████████▍                                                                   | 16/91 [00:02<00:13,  5.61it/s]"
     ]
    },
    {
     "name": "stdout",
     "output_type": "stream",
     "text": [
      "{'http': 'http://72.47.152.224:55443', 'https': 'https://72.47.152.224:55443'}\n",
      "Success\n",
      "{'http': 'http://173.196.205.170:', 'https': 'https://173.196.205.170:'}\n"
     ]
    },
    {
     "name": "stderr",
     "output_type": "stream",
     "text": [
      "\r",
      " 19%|███████████████▎                                                                  | 17/91 [00:03<00:13,  5.63it/s]"
     ]
    },
    {
     "name": "stdout",
     "output_type": "stream",
     "text": [
      "Success\n",
      "{'http': 'http://47.89.153.213:', 'https': 'https://47.89.153.213:'}\n"
     ]
    },
    {
     "name": "stderr",
     "output_type": "stream",
     "text": [
      "\r",
      " 20%|████████████████▏                                                                 | 18/91 [00:03<00:13,  5.27it/s]"
     ]
    },
    {
     "name": "stdout",
     "output_type": "stream",
     "text": [
      "Success\n",
      "{'http': 'http://3.230.91.35:', 'https': 'https://3.230.91.35:'}\n",
      "Success\n"
     ]
    },
    {
     "name": "stderr",
     "output_type": "stream",
     "text": [
      " 22%|██████████████████                                                                | 20/91 [00:03<00:14,  5.06it/s]"
     ]
    },
    {
     "name": "stdout",
     "output_type": "stream",
     "text": [
      "{'http': 'http://74.205.128.200:', 'https': 'https://74.205.128.200:'}\n",
      "Success\n"
     ]
    },
    {
     "name": "stderr",
     "output_type": "stream",
     "text": [
      "\r",
      " 23%|██████████████████▉                                                               | 21/91 [00:03<00:12,  5.52it/s]"
     ]
    },
    {
     "name": "stdout",
     "output_type": "stream",
     "text": [
      "{'http': 'http://54.80.246.241:', 'https': 'https://54.80.246.241:'}\n",
      "Success\n",
      "{'http': 'http://63.161.104.189:', 'https': 'https://63.161.104.189:'}\n"
     ]
    },
    {
     "name": "stderr",
     "output_type": "stream",
     "text": [
      " 25%|████████████████████▋                                                             | 23/91 [00:04<00:11,  6.09it/s]"
     ]
    },
    {
     "name": "stdout",
     "output_type": "stream",
     "text": [
      "Success\n",
      "{'http': 'http://67.212.186.101:', 'https': 'https://67.212.186.101:'}\n",
      "Success\n",
      "{'http': 'http://208.72.154.111:8888', 'https': 'https://208.72.154.111:8888'}\n"
     ]
    },
    {
     "name": "stderr",
     "output_type": "stream",
     "text": [
      "\r",
      " 26%|█████████████████████▋                                                            | 24/91 [00:04<00:11,  5.93it/s]"
     ]
    },
    {
     "name": "stdout",
     "output_type": "stream",
     "text": [
      "Success\n",
      "{'http': 'http://132.145.195.93:', 'https': 'https://132.145.195.93:'}\n"
     ]
    },
    {
     "name": "stderr",
     "output_type": "stream",
     "text": [
      "\r",
      " 27%|██████████████████████▌                                                           | 25/91 [00:04<00:12,  5.08it/s]"
     ]
    },
    {
     "name": "stdout",
     "output_type": "stream",
     "text": [
      "Success\n",
      "{'http': 'http://64.227.62.123:', 'https': 'https://64.227.62.123:'}\n",
      "Success\n"
     ]
    },
    {
     "name": "stderr",
     "output_type": "stream",
     "text": [
      " 30%|████████████████████████▎                                                         | 27/91 [00:04<00:12,  4.98it/s]"
     ]
    },
    {
     "name": "stdout",
     "output_type": "stream",
     "text": [
      "{'http': 'http://52.168.34.113:', 'https': 'https://52.168.34.113:'}\n",
      "Success\n",
      "{'http': 'http://186.233.186.60:', 'https': 'https://186.233.186.60:'}\n"
     ]
    },
    {
     "name": "stderr",
     "output_type": "stream",
     "text": [
      "\r",
      " 31%|█████████████████████████▏                                                        | 28/91 [00:05<00:13,  4.60it/s]"
     ]
    },
    {
     "name": "stdout",
     "output_type": "stream",
     "text": [
      "Success\n",
      "{'http': 'http://159.65.69.186:9300', 'https': 'https://159.65.69.186:9300'}\n"
     ]
    },
    {
     "name": "stderr",
     "output_type": "stream",
     "text": [
      "\r",
      " 32%|██████████████████████████▏                                                       | 29/91 [00:05<00:17,  3.57it/s]"
     ]
    },
    {
     "name": "stdout",
     "output_type": "stream",
     "text": [
      "Success\n",
      "{'http': 'http://12.151.56.30:', 'https': 'https://12.151.56.30:'}\n",
      "Success\n"
     ]
    },
    {
     "name": "stderr",
     "output_type": "stream",
     "text": [
      " 34%|███████████████████████████▉                                                      | 31/91 [00:06<00:14,  4.25it/s]"
     ]
    },
    {
     "name": "stdout",
     "output_type": "stream",
     "text": [
      "{'http': 'http://54.244.204.46:', 'https': 'https://54.244.204.46:'}\n",
      "Success\n",
      "{'http': 'http://173.196.205.170:', 'https': 'https://173.196.205.170:'}\n"
     ]
    },
    {
     "name": "stderr",
     "output_type": "stream",
     "text": [
      " 36%|█████████████████████████████▋                                                    | 33/91 [00:06<00:12,  4.81it/s]"
     ]
    },
    {
     "name": "stdout",
     "output_type": "stream",
     "text": [
      "Success\n",
      "{'http': 'http://76.81.164.246:', 'https': 'https://76.81.164.246:'}\n",
      "Success\n"
     ]
    },
    {
     "name": "stderr",
     "output_type": "stream",
     "text": [
      "\r",
      " 37%|██████████████████████████████▋                                                   | 34/91 [00:06<00:11,  4.90it/s]"
     ]
    },
    {
     "name": "stdout",
     "output_type": "stream",
     "text": [
      "{'http': 'http://132.145.195.93:', 'https': 'https://132.145.195.93:'}\n",
      "Success\n"
     ]
    },
    {
     "name": "stderr",
     "output_type": "stream",
     "text": [
      "\r",
      " 38%|███████████████████████████████▌                                                  | 35/91 [00:06<00:11,  4.99it/s]"
     ]
    },
    {
     "name": "stdout",
     "output_type": "stream",
     "text": [
      "{'http': 'http://64.227.62.123:', 'https': 'https://64.227.62.123:'}\n",
      "Success\n"
     ]
    },
    {
     "name": "stderr",
     "output_type": "stream",
     "text": [
      "\r",
      " 40%|████████████████████████████████▍                                                 | 36/91 [00:07<00:10,  5.10it/s]"
     ]
    },
    {
     "name": "stdout",
     "output_type": "stream",
     "text": [
      "{'http': 'http://192.155.107.60:', 'https': 'https://192.155.107.60:'}\n",
      "Success\n",
      "{'http': 'http://3.230.91.35:', 'https': 'https://3.230.91.35:'}\n"
     ]
    },
    {
     "name": "stderr",
     "output_type": "stream",
     "text": [
      "\r",
      " 41%|█████████████████████████████████▎                                                | 37/91 [00:07<00:15,  3.42it/s]"
     ]
    },
    {
     "name": "stdout",
     "output_type": "stream",
     "text": [
      "Success\n",
      "{'http': 'http://3.217.161.14:', 'https': 'https://3.217.161.14:'}\n"
     ]
    },
    {
     "name": "stderr",
     "output_type": "stream",
     "text": [
      " 43%|███████████████████████████████████▏                                              | 39/91 [00:08<00:15,  3.25it/s]"
     ]
    },
    {
     "name": "stdout",
     "output_type": "stream",
     "text": [
      "Success\n",
      "{'http': 'http://47.89.153.213:', 'https': 'https://47.89.153.213:'}\n",
      "Success\n",
      "{'http': 'http://64.227.62.123:', 'https': 'https://64.227.62.123:'}\n"
     ]
    },
    {
     "name": "stderr",
     "output_type": "stream",
     "text": [
      " 45%|████████████████████████████████████▉                                             | 41/91 [00:08<00:11,  4.29it/s]"
     ]
    },
    {
     "name": "stdout",
     "output_type": "stream",
     "text": [
      "Success\n",
      "{'http': 'http://54.80.246.241:', 'https': 'https://54.80.246.241:'}\n",
      "Success\n",
      "{'http': 'http://173.196.205.170:', 'https': 'https://173.196.205.170:'}\n"
     ]
    },
    {
     "name": "stderr",
     "output_type": "stream",
     "text": [
      " 47%|██████████████████████████████████████▋                                           | 43/91 [00:08<00:09,  4.94it/s]"
     ]
    },
    {
     "name": "stdout",
     "output_type": "stream",
     "text": [
      "Success\n",
      "{'http': 'http://23.225.64.59:1089', 'https': 'https://23.225.64.59:1089'}\n",
      "Success\n",
      "{'http': 'http://154.85.35.235:8888', 'https': 'https://154.85.35.235:8888'}\n"
     ]
    },
    {
     "name": "stderr",
     "output_type": "stream",
     "text": [
      "\r",
      " 48%|███████████████████████████████████████▋                                          | 44/91 [00:09<00:09,  5.10it/s]"
     ]
    },
    {
     "name": "stdout",
     "output_type": "stream",
     "text": [
      "Success\n",
      "{'http': 'http://173.196.205.170:', 'https': 'https://173.196.205.170:'}\n"
     ]
    },
    {
     "name": "stderr",
     "output_type": "stream",
     "text": [
      "\r",
      " 49%|████████████████████████████████████████▌                                         | 45/91 [00:09<00:10,  4.57it/s]"
     ]
    },
    {
     "name": "stdout",
     "output_type": "stream",
     "text": [
      "Success\n",
      "{'http': 'http://67.212.186.101:', 'https': 'https://67.212.186.101:'}\n"
     ]
    },
    {
     "name": "stderr",
     "output_type": "stream",
     "text": [
      " 52%|██████████████████████████████████████████▎                                       | 47/91 [00:09<00:09,  4.77it/s]"
     ]
    },
    {
     "name": "stdout",
     "output_type": "stream",
     "text": [
      "Success\n",
      "{'http': 'http://47.88.7.115:3129', 'https': 'https://47.88.7.115:3129'}\n",
      "Success\n",
      "{'http': 'http://132.145.195.93:', 'https': 'https://132.145.195.93:'}\n"
     ]
    },
    {
     "name": "stderr",
     "output_type": "stream",
     "text": [
      " 54%|████████████████████████████████████████████▏                                     | 49/91 [00:10<00:07,  5.27it/s]"
     ]
    },
    {
     "name": "stdout",
     "output_type": "stream",
     "text": [
      "Success\n",
      "{'http': 'http://74.205.128.200:', 'https': 'https://74.205.128.200:'}\n",
      "Success\n",
      "{'http': 'http://192.155.107.59:', 'https': 'https://192.155.107.59:'}\n"
     ]
    },
    {
     "name": "stderr",
     "output_type": "stream",
     "text": [
      " 56%|█████████████████████████████████████████████▉                                    | 51/91 [00:10<00:07,  5.37it/s]"
     ]
    },
    {
     "name": "stdout",
     "output_type": "stream",
     "text": [
      "Success\n",
      "{'http': 'http://64.227.62.123:', 'https': 'https://64.227.62.123:'}\n",
      "Success\n"
     ]
    },
    {
     "name": "stderr",
     "output_type": "stream",
     "text": [
      "\r",
      " 57%|██████████████████████████████████████████████▊                                   | 52/91 [00:10<00:07,  5.22it/s]"
     ]
    },
    {
     "name": "stdout",
     "output_type": "stream",
     "text": [
      "{'http': 'http://20.47.108.204:8888', 'https': 'https://20.47.108.204:8888'}\n",
      "Success\n"
     ]
    },
    {
     "name": "stderr",
     "output_type": "stream",
     "text": [
      "\r",
      " 58%|███████████████████████████████████████████████▊                                  | 53/91 [00:10<00:07,  5.35it/s]"
     ]
    },
    {
     "name": "stdout",
     "output_type": "stream",
     "text": [
      "{'http': 'http://192.155.107.60:', 'https': 'https://192.155.107.60:'}\n",
      "Success\n",
      "{'http': 'http://173.196.205.170:', 'https': 'https://173.196.205.170:'}\n"
     ]
    },
    {
     "name": "stderr",
     "output_type": "stream",
     "text": [
      "\r",
      " 59%|████████████████████████████████████████████████▋                                 | 54/91 [00:11<00:09,  3.76it/s]"
     ]
    },
    {
     "name": "stdout",
     "output_type": "stream",
     "text": [
      "Success\n",
      "{'http': 'http://76.81.164.246:', 'https': 'https://76.81.164.246:'}\n"
     ]
    },
    {
     "name": "stderr",
     "output_type": "stream",
     "text": [
      "\r",
      " 60%|█████████████████████████████████████████████████▌                                | 55/91 [00:11<00:09,  3.85it/s]"
     ]
    },
    {
     "name": "stdout",
     "output_type": "stream",
     "text": [
      "Success\n",
      "{'http': 'http://104.192.202.11:', 'https': 'https://104.192.202.11:'}\n"
     ]
    },
    {
     "name": "stderr",
     "output_type": "stream",
     "text": [
      " 63%|███████████████████████████████████████████████████▎                              | 57/91 [00:11<00:07,  4.34it/s]"
     ]
    },
    {
     "name": "stdout",
     "output_type": "stream",
     "text": [
      "Success\n",
      "{'http': 'http://132.145.195.93:', 'https': 'https://132.145.195.93:'}\n",
      "Success\n"
     ]
    },
    {
     "name": "stderr",
     "output_type": "stream",
     "text": [
      "\r",
      " 64%|████████████████████████████████████████████████████▎                             | 58/91 [00:12<00:07,  4.52it/s]"
     ]
    },
    {
     "name": "stdout",
     "output_type": "stream",
     "text": [
      "{'http': 'http://67.212.186.101:', 'https': 'https://67.212.186.101:'}\n",
      "Success\n"
     ]
    },
    {
     "name": "stderr",
     "output_type": "stream",
     "text": [
      "\r",
      " 65%|█████████████████████████████████████████████████████▏                            | 59/91 [00:12<00:06,  4.91it/s]"
     ]
    },
    {
     "name": "stdout",
     "output_type": "stream",
     "text": [
      "{'http': 'http://154.85.35.235:8888', 'https': 'https://154.85.35.235:8888'}\n",
      "Success\n",
      "{'http': 'http://52.168.34.113:', 'https': 'https://52.168.34.113:'}\n"
     ]
    },
    {
     "name": "stderr",
     "output_type": "stream",
     "text": [
      " 67%|██████████████████████████████████████████████████████▉                           | 61/91 [00:12<00:05,  5.20it/s]"
     ]
    },
    {
     "name": "stdout",
     "output_type": "stream",
     "text": [
      "Success\n",
      "{'http': 'http://161.35.4.201:', 'https': 'https://161.35.4.201:'}\n",
      "Success\n",
      "{'http': 'http://12.151.56.30:', 'https': 'https://12.151.56.30:'}\n"
     ]
    },
    {
     "name": "stderr",
     "output_type": "stream",
     "text": [
      " 69%|████████████████████████████████████████████████████████▊                         | 63/91 [00:13<00:05,  5.39it/s]"
     ]
    },
    {
     "name": "stdout",
     "output_type": "stream",
     "text": [
      "Success\n",
      "{'http': 'http://173.196.205.170:', 'https': 'https://173.196.205.170:'}\n",
      "Success\n"
     ]
    },
    {
     "name": "stderr",
     "output_type": "stream",
     "text": [
      "\r",
      " 70%|█████████████████████████████████████████████████████████▋                        | 64/91 [00:13<00:05,  5.31it/s]"
     ]
    },
    {
     "name": "stdout",
     "output_type": "stream",
     "text": [
      "{'http': 'http://63.161.104.189:', 'https': 'https://63.161.104.189:'}\n",
      "Success\n",
      "{'http': 'http://3.230.91.35:', 'https': 'https://3.230.91.35:'}\n"
     ]
    },
    {
     "name": "stderr",
     "output_type": "stream",
     "text": [
      " 73%|███████████████████████████████████████████████████████████▍                      | 66/91 [00:13<00:04,  5.04it/s]"
     ]
    },
    {
     "name": "stdout",
     "output_type": "stream",
     "text": [
      "Success\n",
      "{'http': 'http://192.155.107.60:', 'https': 'https://192.155.107.60:'}\n",
      "Success\n"
     ]
    },
    {
     "name": "stderr",
     "output_type": "stream",
     "text": [
      "\r",
      " 74%|████████████████████████████████████████████████████████████▎                     | 67/91 [00:13<00:04,  5.31it/s]"
     ]
    },
    {
     "name": "stdout",
     "output_type": "stream",
     "text": [
      "{'http': 'http://173.196.205.170:', 'https': 'https://173.196.205.170:'}\n",
      "Success\n",
      "{'http': 'http://132.145.195.93:', 'https': 'https://132.145.195.93:'}\n"
     ]
    },
    {
     "name": "stderr",
     "output_type": "stream",
     "text": [
      " 76%|██████████████████████████████████████████████████████████████▏                   | 69/91 [00:14<00:03,  5.62it/s]"
     ]
    },
    {
     "name": "stdout",
     "output_type": "stream",
     "text": [
      "Success\n",
      "{'http': 'http://47.252.82.135:', 'https': 'https://47.252.82.135:'}\n",
      "Success\n",
      "{'http': 'http://67.212.186.101:', 'https': 'https://67.212.186.101:'}\n"
     ]
    },
    {
     "name": "stderr",
     "output_type": "stream",
     "text": [
      " 78%|███████████████████████████████████████████████████████████████▉                  | 71/91 [00:14<00:03,  5.95it/s]"
     ]
    },
    {
     "name": "stdout",
     "output_type": "stream",
     "text": [
      "Success\n",
      "{'http': 'http://74.205.128.200:', 'https': 'https://74.205.128.200:'}\n",
      "Success\n",
      "{'http': 'http://40.136.41.6:', 'https': 'https://40.136.41.6:'}\n"
     ]
    },
    {
     "name": "stderr",
     "output_type": "stream",
     "text": [
      " 80%|█████████████████████████████████████████████████████████████████▊                | 73/91 [00:14<00:02,  6.03it/s]"
     ]
    },
    {
     "name": "stdout",
     "output_type": "stream",
     "text": [
      "Success\n",
      "{'http': 'http://3.211.17.212:', 'https': 'https://3.211.17.212:'}\n",
      "Success\n",
      "{'http': 'http://208.72.154.111:8888', 'https': 'https://208.72.154.111:8888'}\n"
     ]
    },
    {
     "name": "stderr",
     "output_type": "stream",
     "text": [
      " 82%|███████████████████████████████████████████████████████████████████▌              | 75/91 [00:15<00:02,  5.53it/s]"
     ]
    },
    {
     "name": "stdout",
     "output_type": "stream",
     "text": [
      "Success\n",
      "{'http': 'http://76.81.164.246:', 'https': 'https://76.81.164.246:'}\n",
      "Success\n"
     ]
    },
    {
     "name": "stderr",
     "output_type": "stream",
     "text": [
      "\r",
      " 84%|████████████████████████████████████████████████████████████████████▍             | 76/91 [00:15<00:02,  5.58it/s]"
     ]
    },
    {
     "name": "stdout",
     "output_type": "stream",
     "text": [
      "{'http': 'http://173.196.205.170:', 'https': 'https://173.196.205.170:'}\n",
      "Success\n",
      "{'http': 'http://47.252.82.135:', 'https': 'https://47.252.82.135:'}\n"
     ]
    },
    {
     "name": "stderr",
     "output_type": "stream",
     "text": [
      " 86%|██████████████████████████████████████████████████████████████████████▎           | 78/91 [00:15<00:02,  5.61it/s]"
     ]
    },
    {
     "name": "stdout",
     "output_type": "stream",
     "text": [
      "Success\n",
      "{'http': 'http://50.235.149.74:', 'https': 'https://50.235.149.74:'}\n",
      "Success\n",
      "{'http': 'http://208.72.154.111:8888', 'https': 'https://208.72.154.111:8888'}\n"
     ]
    },
    {
     "name": "stderr",
     "output_type": "stream",
     "text": [
      " 88%|████████████████████████████████████████████████████████████████████████          | 80/91 [00:16<00:01,  5.69it/s]"
     ]
    },
    {
     "name": "stdout",
     "output_type": "stream",
     "text": [
      "Success\n",
      "{'http': 'http://154.85.35.235:8888', 'https': 'https://154.85.35.235:8888'}\n",
      "Success\n",
      "{'http': 'http://67.212.186.101:', 'https': 'https://67.212.186.101:'}\n"
     ]
    },
    {
     "name": "stderr",
     "output_type": "stream",
     "text": [
      " 90%|█████████████████████████████████████████████████████████████████████████▉        | 82/91 [00:16<00:01,  6.03it/s]"
     ]
    },
    {
     "name": "stdout",
     "output_type": "stream",
     "text": [
      "Success\n",
      "{'http': 'http://104.192.202.11:', 'https': 'https://104.192.202.11:'}\n",
      "Success\n",
      "{'http': 'http://154.85.35.235:8888', 'https': 'https://154.85.35.235:8888'}\n"
     ]
    },
    {
     "name": "stderr",
     "output_type": "stream",
     "text": [
      "\r",
      " 91%|██████████████████████████████████████████████████████████████████████████▊       | 83/91 [00:16<00:01,  6.23it/s]"
     ]
    },
    {
     "name": "stdout",
     "output_type": "stream",
     "text": [
      "Success\n",
      "{'http': 'http://192.155.107.59:', 'https': 'https://192.155.107.59:'}\n",
      "Success\n"
     ]
    },
    {
     "name": "stderr",
     "output_type": "stream",
     "text": [
      "\r",
      " 92%|███████████████████████████████████████████████████████████████████████████▋      | 84/91 [00:16<00:01,  5.84it/s]"
     ]
    },
    {
     "name": "stdout",
     "output_type": "stream",
     "text": [
      "{'http': 'http://50.235.149.74:', 'https': 'https://50.235.149.74:'}\n",
      "Success\n"
     ]
    },
    {
     "name": "stderr",
     "output_type": "stream",
     "text": [
      " 95%|█████████████████████████████████████████████████████████████████████████████▍    | 86/91 [00:17<00:01,  4.86it/s]"
     ]
    },
    {
     "name": "stdout",
     "output_type": "stream",
     "text": [
      "{'http': 'http://63.161.104.189:', 'https': 'https://63.161.104.189:'}\n",
      "Success\n"
     ]
    },
    {
     "name": "stderr",
     "output_type": "stream",
     "text": [
      "\r",
      " 96%|██████████████████████████████████████████████████████████████████████████████▍   | 87/91 [00:17<00:00,  4.74it/s]"
     ]
    },
    {
     "name": "stdout",
     "output_type": "stream",
     "text": [
      "{'http': 'http://47.89.153.213:', 'https': 'https://47.89.153.213:'}\n",
      "Success\n"
     ]
    },
    {
     "name": "stderr",
     "output_type": "stream",
     "text": [
      "\r",
      " 97%|███████████████████████████████████████████████████████████████████████████████▎  | 88/91 [00:17<00:00,  4.75it/s]"
     ]
    },
    {
     "name": "stdout",
     "output_type": "stream",
     "text": [
      "{'http': 'http://47.252.82.135:', 'https': 'https://47.252.82.135:'}\n",
      "Success\n",
      "{'http': 'http://40.136.41.6:', 'https': 'https://40.136.41.6:'}\n",
      "Success\n"
     ]
    },
    {
     "name": "stderr",
     "output_type": "stream",
     "text": [
      " 99%|█████████████████████████████████████████████████████████████████████████████████ | 90/91 [00:18<00:00,  4.86it/s]"
     ]
    },
    {
     "name": "stdout",
     "output_type": "stream",
     "text": [
      "{'http': 'http://50.235.149.74:', 'https': 'https://50.235.149.74:'}\n",
      "Success\n"
     ]
    },
    {
     "name": "stderr",
     "output_type": "stream",
     "text": [
      "100%|██████████████████████████████████████████████████████████████████████████████████| 91/91 [00:18<00:00,  4.98it/s]\n"
     ]
    },
    {
     "name": "stdout",
     "output_type": "stream",
     "text": [
      "{'http': 'http://67.212.186.101:', 'https': 'https://67.212.186.101:'}\n",
      "Success\n"
     ]
    },
    {
     "name": "stderr",
     "output_type": "stream",
     "text": [
      "  1%|█                                                                                  | 1/79 [00:00<00:14,  5.36it/s]"
     ]
    },
    {
     "name": "stdout",
     "output_type": "stream",
     "text": [
      "{'http': 'http://74.205.128.200:', 'https': 'https://74.205.128.200:'}\n",
      "Success\n"
     ]
    },
    {
     "name": "stderr",
     "output_type": "stream",
     "text": [
      "\r",
      "  3%|██                                                                                 | 2/79 [00:00<00:12,  5.94it/s]"
     ]
    },
    {
     "name": "stdout",
     "output_type": "stream",
     "text": [
      "{'http': 'http://76.81.164.246:', 'https': 'https://76.81.164.246:'}\n",
      "Success\n",
      "{'http': 'http://161.35.4.201:', 'https': 'https://161.35.4.201:'}\n"
     ]
    },
    {
     "name": "stderr",
     "output_type": "stream",
     "text": [
      "  5%|████▏                                                                              | 4/79 [00:00<00:12,  6.00it/s]"
     ]
    },
    {
     "name": "stdout",
     "output_type": "stream",
     "text": [
      "Success\n",
      "{'http': 'http://138.68.235.51:', 'https': 'https://138.68.235.51:'}\n",
      "Success\n",
      "{'http': 'http://40.136.41.6:', 'https': 'https://40.136.41.6:'}\n"
     ]
    },
    {
     "name": "stderr",
     "output_type": "stream",
     "text": [
      "\r",
      "  6%|█████▎                                                                             | 5/79 [00:00<00:11,  6.22it/s]"
     ]
    },
    {
     "name": "stdout",
     "output_type": "stream",
     "text": [
      "Success\n",
      "{'http': 'http://154.85.35.235:8888', 'https': 'https://154.85.35.235:8888'}\n"
     ]
    },
    {
     "name": "stderr",
     "output_type": "stream",
     "text": [
      "  9%|███████▎                                                                           | 7/79 [00:02<00:27,  2.60it/s]"
     ]
    },
    {
     "name": "stdout",
     "output_type": "stream",
     "text": [
      "Success\n",
      "{'http': 'http://66.211.155.34:', 'https': 'https://66.211.155.34:'}\n",
      "Success\n",
      "{'http': 'http://52.168.34.113:', 'https': 'https://52.168.34.113:'}\n"
     ]
    },
    {
     "name": "stderr",
     "output_type": "stream",
     "text": [
      " 11%|█████████▍                                                                         | 9/79 [00:02<00:19,  3.63it/s]"
     ]
    },
    {
     "name": "stdout",
     "output_type": "stream",
     "text": [
      "Success\n",
      "{'http': 'http://3.217.161.14:', 'https': 'https://3.217.161.14:'}\n",
      "Success\n"
     ]
    },
    {
     "name": "stderr",
     "output_type": "stream",
     "text": [
      "\r",
      " 13%|██████████▍                                                                       | 10/79 [00:02<00:16,  4.21it/s]"
     ]
    },
    {
     "name": "stdout",
     "output_type": "stream",
     "text": [
      "{'http': 'http://132.145.195.93:', 'https': 'https://132.145.195.93:'}\n",
      "Success\n",
      "{'http': 'http://76.81.164.246:', 'https': 'https://76.81.164.246:'}\n"
     ]
    },
    {
     "name": "stderr",
     "output_type": "stream",
     "text": [
      "\r",
      " 14%|███████████▍                                                                      | 11/79 [00:02<00:15,  4.38it/s]"
     ]
    },
    {
     "name": "stdout",
     "output_type": "stream",
     "text": [
      "Success\n",
      "{'http': 'http://216.169.73.65:34679', 'https': 'https://216.169.73.65:34679'}\n"
     ]
    },
    {
     "name": "stderr",
     "output_type": "stream",
     "text": [
      " 16%|█████████████▍                                                                    | 13/79 [00:03<00:14,  4.57it/s]"
     ]
    },
    {
     "name": "stdout",
     "output_type": "stream",
     "text": [
      "Success\n",
      "{'http': 'http://47.88.7.115:3129', 'https': 'https://47.88.7.115:3129'}\n",
      "Success\n"
     ]
    },
    {
     "name": "stderr",
     "output_type": "stream",
     "text": [
      "\r",
      " 18%|██████████████▌                                                                   | 14/79 [00:03<00:13,  4.97it/s]"
     ]
    },
    {
     "name": "stdout",
     "output_type": "stream",
     "text": [
      "{'http': 'http://154.85.35.235:8888', 'https': 'https://154.85.35.235:8888'}\n",
      "Success\n",
      "{'http': 'http://216.169.73.65:34679', 'https': 'https://216.169.73.65:34679'}\n"
     ]
    },
    {
     "name": "stderr",
     "output_type": "stream",
     "text": [
      "\r",
      " 19%|███████████████▌                                                                  | 15/79 [00:03<00:12,  5.15it/s]"
     ]
    },
    {
     "name": "stdout",
     "output_type": "stream",
     "text": [
      "Success\n",
      "{'http': 'http://173.196.205.170:', 'https': 'https://173.196.205.170:'}\n",
      "Success\n"
     ]
    },
    {
     "name": "stderr",
     "output_type": "stream",
     "text": [
      " 22%|█████████████████▋                                                                | 17/79 [00:03<00:11,  5.29it/s]"
     ]
    },
    {
     "name": "stdout",
     "output_type": "stream",
     "text": [
      "{'http': 'http://54.80.246.241:', 'https': 'https://54.80.246.241:'}\n",
      "Success\n",
      "{'http': 'http://192.155.107.60:', 'https': 'https://192.155.107.60:'}\n"
     ]
    },
    {
     "name": "stderr",
     "output_type": "stream",
     "text": [
      " 24%|███████████████████▋                                                              | 19/79 [00:04<00:10,  5.61it/s]"
     ]
    },
    {
     "name": "stdout",
     "output_type": "stream",
     "text": [
      "Success\n",
      "{'http': 'http://192.155.107.60:', 'https': 'https://192.155.107.60:'}\n",
      "Success\n",
      "{'http': 'http://74.205.128.200:', 'https': 'https://74.205.128.200:'}\n"
     ]
    },
    {
     "name": "stderr",
     "output_type": "stream",
     "text": [
      " 27%|█████████████████████▊                                                            | 21/79 [00:04<00:10,  5.31it/s]"
     ]
    },
    {
     "name": "stdout",
     "output_type": "stream",
     "text": [
      "Success\n",
      "{'http': 'http://3.211.17.212:', 'https': 'https://3.211.17.212:'}\n",
      "Success\n",
      "{'http': 'http://47.88.7.115:3129', 'https': 'https://47.88.7.115:3129'}\n"
     ]
    },
    {
     "name": "stderr",
     "output_type": "stream",
     "text": [
      "\r",
      " 28%|██████████████████████▊                                                           | 22/79 [00:05<00:12,  4.51it/s]"
     ]
    },
    {
     "name": "stdout",
     "output_type": "stream",
     "text": [
      "Success\n",
      "{'http': 'http://54.80.246.241:', 'https': 'https://54.80.246.241:'}\n"
     ]
    },
    {
     "name": "stderr",
     "output_type": "stream",
     "text": [
      " 30%|████████████████████████▉                                                         | 24/79 [00:05<00:14,  3.81it/s]"
     ]
    },
    {
     "name": "stdout",
     "output_type": "stream",
     "text": [
      "Success\n",
      "{'http': 'http://74.205.128.200:', 'https': 'https://74.205.128.200:'}\n",
      "Success\n",
      "{'http': 'http://50.235.149.74:', 'https': 'https://50.235.149.74:'}\n"
     ]
    },
    {
     "name": "stderr",
     "output_type": "stream",
     "text": [
      " 33%|██████████████████████████▉                                                       | 26/79 [00:06<00:10,  4.88it/s]"
     ]
    },
    {
     "name": "stdout",
     "output_type": "stream",
     "text": [
      "Success\n",
      "{'http': 'http://20.47.108.204:8888', 'https': 'https://20.47.108.204:8888'}\n",
      "Success\n",
      "{'http': 'http://104.192.202.11:', 'https': 'https://104.192.202.11:'}\n"
     ]
    },
    {
     "name": "stderr",
     "output_type": "stream",
     "text": [
      " 35%|█████████████████████████████                                                     | 28/79 [00:06<00:09,  5.25it/s]"
     ]
    },
    {
     "name": "stdout",
     "output_type": "stream",
     "text": [
      "Success\n",
      "{'http': 'http://132.145.195.93:', 'https': 'https://132.145.195.93:'}\n",
      "Success\n"
     ]
    },
    {
     "name": "stderr",
     "output_type": "stream",
     "text": [
      "\r",
      " 37%|██████████████████████████████                                                    | 29/79 [00:06<00:09,  5.21it/s]"
     ]
    },
    {
     "name": "stdout",
     "output_type": "stream",
     "text": [
      "{'http': 'http://47.89.153.213:', 'https': 'https://47.89.153.213:'}\n",
      "Success\n"
     ]
    },
    {
     "name": "stderr",
     "output_type": "stream",
     "text": [
      "\r",
      " 38%|███████████████████████████████▏                                                  | 30/79 [00:06<00:09,  5.14it/s]"
     ]
    },
    {
     "name": "stdout",
     "output_type": "stream",
     "text": [
      "{'http': 'http://208.72.154.111:8888', 'https': 'https://208.72.154.111:8888'}\n",
      "Success\n",
      "{'http': 'http://47.252.82.135:', 'https': 'https://47.252.82.135:'}\n",
      "Success\n"
     ]
    },
    {
     "name": "stderr",
     "output_type": "stream",
     "text": [
      " 41%|█████████████████████████████████▏                                                | 32/79 [00:07<00:09,  4.91it/s]"
     ]
    },
    {
     "name": "stdout",
     "output_type": "stream",
     "text": [
      "{'http': 'http://138.68.235.51:', 'https': 'https://138.68.235.51:'}\n",
      "Success\n"
     ]
    },
    {
     "name": "stderr",
     "output_type": "stream",
     "text": [
      "\r",
      " 42%|██████████████████████████████████▎                                               | 33/79 [00:07<00:08,  5.23it/s]"
     ]
    },
    {
     "name": "stdout",
     "output_type": "stream",
     "text": [
      "{'http': 'http://154.85.35.235:8888', 'https': 'https://154.85.35.235:8888'}\n",
      "Success\n",
      "{'http': 'http://63.161.104.189:', 'https': 'https://63.161.104.189:'}\n"
     ]
    },
    {
     "name": "stderr",
     "output_type": "stream",
     "text": [
      "\r",
      " 43%|███████████████████████████████████▎                                              | 34/79 [00:07<00:08,  5.48it/s]"
     ]
    },
    {
     "name": "stdout",
     "output_type": "stream",
     "text": [
      "Success\n",
      "{'http': 'http://154.85.35.235:8888', 'https': 'https://154.85.35.235:8888'}\n",
      "Success\n"
     ]
    },
    {
     "name": "stderr",
     "output_type": "stream",
     "text": [
      " 46%|█████████████████████████████████████▎                                            | 36/79 [00:07<00:07,  5.60it/s]"
     ]
    },
    {
     "name": "stdout",
     "output_type": "stream",
     "text": [
      "{'http': 'http://47.89.153.213:', 'https': 'https://47.89.153.213:'}\n",
      "Success\n",
      "{'http': 'http://3.211.17.212:', 'https': 'https://3.211.17.212:'}\n"
     ]
    },
    {
     "name": "stderr",
     "output_type": "stream",
     "text": [
      "\r",
      " 47%|██████████████████████████████████████▍                                           | 37/79 [00:08<00:08,  5.09it/s]"
     ]
    },
    {
     "name": "stdout",
     "output_type": "stream",
     "text": [
      "Success\n",
      "{'http': 'http://47.89.153.213:', 'https': 'https://47.89.153.213:'}\n",
      "Success\n"
     ]
    },
    {
     "name": "stderr",
     "output_type": "stream",
     "text": [
      " 49%|████████████████████████████████████████▍                                         | 39/79 [00:08<00:07,  5.09it/s]"
     ]
    },
    {
     "name": "stdout",
     "output_type": "stream",
     "text": [
      "{'http': 'http://3.211.17.212:', 'https': 'https://3.211.17.212:'}\n",
      "Success\n"
     ]
    },
    {
     "name": "stderr",
     "output_type": "stream",
     "text": [
      "\r",
      " 51%|█████████████████████████████████████████▌                                        | 40/79 [00:08<00:07,  5.33it/s]"
     ]
    },
    {
     "name": "stdout",
     "output_type": "stream",
     "text": [
      "{'http': 'http://204.16.1.169:82', 'https': 'https://204.16.1.169:82'}\n",
      "Success\n",
      "{'http': 'http://47.252.82.135:', 'https': 'https://47.252.82.135:'}\n"
     ]
    },
    {
     "name": "stderr",
     "output_type": "stream",
     "text": [
      "\r",
      " 52%|██████████████████████████████████████████▌                                       | 41/79 [00:08<00:06,  5.61it/s]"
     ]
    },
    {
     "name": "stdout",
     "output_type": "stream",
     "text": [
      "Success\n",
      "{'http': 'http://154.85.35.235:8888', 'https': 'https://154.85.35.235:8888'}\n"
     ]
    },
    {
     "name": "stderr",
     "output_type": "stream",
     "text": [
      " 54%|████████████████████████████████████████████▋                                     | 43/79 [00:09<00:06,  5.15it/s]"
     ]
    },
    {
     "name": "stdout",
     "output_type": "stream",
     "text": [
      "Success\n",
      "{'http': 'http://186.233.186.60:', 'https': 'https://186.233.186.60:'}\n",
      "Success\n",
      "{'http': 'http://54.244.204.46:', 'https': 'https://54.244.204.46:'}\n",
      "Success\n"
     ]
    },
    {
     "name": "stderr",
     "output_type": "stream",
     "text": [
      " 57%|██████████████████████████████████████████████▋                                   | 45/79 [00:09<00:06,  5.27it/s]"
     ]
    },
    {
     "name": "stdout",
     "output_type": "stream",
     "text": [
      "{'http': 'http://3.217.161.14:', 'https': 'https://3.217.161.14:'}\n",
      "Success\n",
      "{'http': 'http://204.16.1.169:82', 'https': 'https://204.16.1.169:82'}\n"
     ]
    },
    {
     "name": "stderr",
     "output_type": "stream",
     "text": [
      " 59%|████████████████████████████████████████████████▊                                 | 47/79 [00:09<00:06,  5.28it/s]"
     ]
    },
    {
     "name": "stdout",
     "output_type": "stream",
     "text": [
      "Success\n",
      "{'http': 'http://50.235.149.74:', 'https': 'https://50.235.149.74:'}\n",
      "Success\n"
     ]
    },
    {
     "name": "stderr",
     "output_type": "stream",
     "text": [
      "\r",
      " 61%|█████████████████████████████████████████████████▊                                | 48/79 [00:10<00:06,  5.14it/s]"
     ]
    },
    {
     "name": "stdout",
     "output_type": "stream",
     "text": [
      "{'http': 'http://3.211.17.212:', 'https': 'https://3.211.17.212:'}\n",
      "Success\n"
     ]
    },
    {
     "name": "stderr",
     "output_type": "stream",
     "text": [
      "\r",
      " 62%|██████████████████████████████████████████████████▊                               | 49/79 [00:10<00:05,  5.16it/s]"
     ]
    },
    {
     "name": "stdout",
     "output_type": "stream",
     "text": [
      "{'http': 'http://161.35.4.201:', 'https': 'https://161.35.4.201:'}\n",
      "Success\n"
     ]
    },
    {
     "name": "stderr",
     "output_type": "stream",
     "text": [
      "\r",
      " 63%|███████████████████████████████████████████████████▉                              | 50/79 [00:10<00:05,  5.30it/s]"
     ]
    },
    {
     "name": "stdout",
     "output_type": "stream",
     "text": [
      "{'http': 'http://132.145.195.93:', 'https': 'https://132.145.195.93:'}\n",
      "Success\n",
      "{'http': 'http://216.169.73.65:34679', 'https': 'https://216.169.73.65:34679'}\n"
     ]
    },
    {
     "name": "stderr",
     "output_type": "stream",
     "text": [
      "\r",
      " 65%|████████████████████████████████████████████████████▉                             | 51/79 [00:10<00:05,  5.42it/s]"
     ]
    },
    {
     "name": "stdout",
     "output_type": "stream",
     "text": [
      "Success\n",
      "{'http': 'http://47.88.7.115:3129', 'https': 'https://47.88.7.115:3129'}\n"
     ]
    },
    {
     "name": "stderr",
     "output_type": "stream",
     "text": [
      "\r",
      " 66%|█████████████████████████████████████████████████████▉                            | 52/79 [00:11<00:07,  3.62it/s]"
     ]
    },
    {
     "name": "stdout",
     "output_type": "stream",
     "text": [
      "Success\n",
      "{'http': 'http://74.205.128.200:', 'https': 'https://74.205.128.200:'}\n"
     ]
    },
    {
     "name": "stderr",
     "output_type": "stream",
     "text": [
      " 68%|████████████████████████████████████████████████████████                          | 54/79 [00:11<00:06,  4.03it/s]"
     ]
    },
    {
     "name": "stdout",
     "output_type": "stream",
     "text": [
      "Success\n",
      "{'http': 'http://47.89.153.213:', 'https': 'https://47.89.153.213:'}\n",
      "Success\n"
     ]
    },
    {
     "name": "stderr",
     "output_type": "stream",
     "text": [
      "\r",
      " 70%|█████████████████████████████████████████████████████████                         | 55/79 [00:11<00:05,  4.39it/s]"
     ]
    },
    {
     "name": "stdout",
     "output_type": "stream",
     "text": [
      "{'http': 'http://63.161.104.189:', 'https': 'https://63.161.104.189:'}\n",
      "Success\n",
      "{'http': 'http://138.68.235.51:', 'https': 'https://138.68.235.51:'}\n"
     ]
    },
    {
     "name": "stderr",
     "output_type": "stream",
     "text": [
      " 72%|███████████████████████████████████████████████████████████▏                      | 57/79 [00:12<00:04,  5.05it/s]"
     ]
    },
    {
     "name": "stdout",
     "output_type": "stream",
     "text": [
      "Success\n",
      "{'http': 'http://64.227.62.123:', 'https': 'https://64.227.62.123:'}\n",
      "Success\n"
     ]
    },
    {
     "name": "stderr",
     "output_type": "stream",
     "text": [
      "\r",
      " 73%|████████████████████████████████████████████████████████████▏                     | 58/79 [00:12<00:04,  5.01it/s]"
     ]
    },
    {
     "name": "stdout",
     "output_type": "stream",
     "text": [
      "{'http': 'http://52.168.34.113:', 'https': 'https://52.168.34.113:'}\n",
      "Success\n"
     ]
    },
    {
     "name": "stderr",
     "output_type": "stream",
     "text": [
      "\r",
      " 75%|█████████████████████████████████████████████████████████████▏                    | 59/79 [00:12<00:03,  5.01it/s]"
     ]
    },
    {
     "name": "stdout",
     "output_type": "stream",
     "text": [
      "{'http': 'http://47.252.82.135:', 'https': 'https://47.252.82.135:'}\n",
      "Success\n"
     ]
    },
    {
     "name": "stderr",
     "output_type": "stream",
     "text": [
      "\r",
      " 76%|██████████████████████████████████████████████████████████████▎                   | 60/79 [00:12<00:03,  5.23it/s]"
     ]
    },
    {
     "name": "stdout",
     "output_type": "stream",
     "text": [
      "{'http': 'http://54.244.204.46:', 'https': 'https://54.244.204.46:'}\n",
      "Success\n",
      "{'http': 'http://204.16.1.169:82', 'https': 'https://204.16.1.169:82'}\n"
     ]
    },
    {
     "name": "stderr",
     "output_type": "stream",
     "text": [
      " 78%|████████████████████████████████████████████████████████████████▎                 | 62/79 [00:17<00:20,  1.19s/it]"
     ]
    },
    {
     "name": "stdout",
     "output_type": "stream",
     "text": [
      "Success\n",
      "{'http': 'http://132.145.195.93:', 'https': 'https://132.145.195.93:'}\n",
      "Success\n",
      "{'http': 'http://3.230.91.35:', 'https': 'https://3.230.91.35:'}\n"
     ]
    },
    {
     "name": "stderr",
     "output_type": "stream",
     "text": [
      "\r",
      " 80%|█████████████████████████████████████████████████████████████████▍                | 63/79 [00:18<00:14,  1.13it/s]"
     ]
    },
    {
     "name": "stdout",
     "output_type": "stream",
     "text": [
      "Success\n",
      "{'http': 'http://74.205.128.200:', 'https': 'https://74.205.128.200:'}\n",
      "Success\n"
     ]
    },
    {
     "name": "stderr",
     "output_type": "stream",
     "text": [
      " 82%|███████████████████████████████████████████████████████████████████▍              | 65/79 [00:18<00:07,  1.86it/s]"
     ]
    },
    {
     "name": "stdout",
     "output_type": "stream",
     "text": [
      "{'http': 'http://3.230.91.35:', 'https': 'https://3.230.91.35:'}\n",
      "Success\n"
     ]
    },
    {
     "name": "stderr",
     "output_type": "stream",
     "text": [
      "\r",
      " 84%|████████████████████████████████████████████████████████████████████▌             | 66/79 [00:18<00:05,  2.28it/s]"
     ]
    },
    {
     "name": "stdout",
     "output_type": "stream",
     "text": [
      "{'http': 'http://76.81.164.246:', 'https': 'https://76.81.164.246:'}\n",
      "Success\n",
      "{'http': 'http://138.68.235.51:', 'https': 'https://138.68.235.51:'}\n"
     ]
    },
    {
     "name": "stderr",
     "output_type": "stream",
     "text": [
      "\r",
      " 85%|█████████████████████████████████████████████████████████████████████▌            | 67/79 [00:19<00:04,  2.48it/s]"
     ]
    },
    {
     "name": "stdout",
     "output_type": "stream",
     "text": [
      "Success\n",
      "{'http': 'http://204.16.1.169:82', 'https': 'https://204.16.1.169:82'}\n"
     ]
    },
    {
     "name": "stderr",
     "output_type": "stream",
     "text": [
      "\r",
      " 86%|██████████████████████████████████████████████████████████████████████▌           | 68/79 [00:19<00:03,  2.78it/s]"
     ]
    },
    {
     "name": "stdout",
     "output_type": "stream",
     "text": [
      "Success\n",
      "{'http': 'http://138.68.235.51:', 'https': 'https://138.68.235.51:'}\n"
     ]
    },
    {
     "name": "stderr",
     "output_type": "stream",
     "text": [
      "\r",
      " 87%|███████████████████████████████████████████████████████████████████████▌          | 69/79 [00:19<00:03,  3.13it/s]"
     ]
    },
    {
     "name": "stdout",
     "output_type": "stream",
     "text": [
      "Success\n",
      "{'http': 'http://192.155.107.60:', 'https': 'https://192.155.107.60:'}\n",
      "Success\n"
     ]
    },
    {
     "name": "stderr",
     "output_type": "stream",
     "text": [
      " 90%|█████████████████████████████████████████████████████████████████████████▋        | 71/79 [00:19<00:02,  3.78it/s]"
     ]
    },
    {
     "name": "stdout",
     "output_type": "stream",
     "text": [
      "{'http': 'http://54.244.204.46:', 'https': 'https://54.244.204.46:'}\n",
      "Success\n"
     ]
    },
    {
     "name": "stderr",
     "output_type": "stream",
     "text": [
      "\r",
      " 91%|██████████████████████████████████████████████████████████████████████████▋       | 72/79 [00:20<00:01,  4.14it/s]"
     ]
    },
    {
     "name": "stdout",
     "output_type": "stream",
     "text": [
      "{'http': 'http://3.230.91.35:', 'https': 'https://3.230.91.35:'}\n",
      "Success\n"
     ]
    },
    {
     "name": "stderr",
     "output_type": "stream",
     "text": [
      "\r",
      " 92%|███████████████████████████████████████████████████████████████████████████▊      | 73/79 [00:20<00:01,  4.39it/s]"
     ]
    },
    {
     "name": "stdout",
     "output_type": "stream",
     "text": [
      "{'http': 'http://173.196.205.170:', 'https': 'https://173.196.205.170:'}\n",
      "Success\n",
      "{'http': 'http://208.72.154.111:8888', 'https': 'https://208.72.154.111:8888'}\n",
      "Success\n"
     ]
    },
    {
     "name": "stderr",
     "output_type": "stream",
     "text": [
      "\r",
      " 94%|████████████████████████████████████████████████████████████████████████████▊     | 74/79 [00:20<00:01,  4.34it/s]"
     ]
    },
    {
     "name": "stdout",
     "output_type": "stream",
     "text": [
      "{'http': 'http://54.244.204.46:', 'https': 'https://54.244.204.46:'}\n",
      "Success\n"
     ]
    },
    {
     "name": "stderr",
     "output_type": "stream",
     "text": [
      "\r",
      " 95%|█████████████████████████████████████████████████████████████████████████████▊    | 75/79 [00:20<00:00,  4.41it/s]"
     ]
    },
    {
     "name": "stdout",
     "output_type": "stream",
     "text": [
      "{'http': 'http://20.47.108.204:8888', 'https': 'https://20.47.108.204:8888'}\n"
     ]
    },
    {
     "name": "stderr",
     "output_type": "stream",
     "text": [
      "\r",
      " 96%|██████████████████████████████████████████████████████████████████████████████▉   | 76/79 [00:21<00:00,  4.11it/s]"
     ]
    },
    {
     "name": "stdout",
     "output_type": "stream",
     "text": [
      "Success\n",
      "{'http': 'http://47.88.7.115:3129', 'https': 'https://47.88.7.115:3129'}\n"
     ]
    },
    {
     "name": "stderr",
     "output_type": "stream",
     "text": [
      "\r",
      " 97%|███████████████████████████████████████████████████████████████████████████████▉  | 77/79 [00:21<00:00,  4.01it/s]"
     ]
    },
    {
     "name": "stdout",
     "output_type": "stream",
     "text": [
      "Success\n",
      "{'http': 'http://72.47.152.224:55443', 'https': 'https://72.47.152.224:55443'}\n",
      "Success\n"
     ]
    },
    {
     "name": "stderr",
     "output_type": "stream",
     "text": [
      "100%|██████████████████████████████████████████████████████████████████████████████████| 79/79 [00:21<00:00,  3.62it/s]\n"
     ]
    },
    {
     "name": "stdout",
     "output_type": "stream",
     "text": [
      "{'http': 'http://216.169.73.65:34679', 'https': 'https://216.169.73.65:34679'}\n",
      "Success\n"
     ]
    },
    {
     "name": "stderr",
     "output_type": "stream",
     "text": [
      "\r",
      "  0%|                                                                                           | 0/95 [00:00<?, ?it/s]"
     ]
    },
    {
     "name": "stdout",
     "output_type": "stream",
     "text": [
      "{'http': 'http://104.192.202.11:', 'https': 'https://104.192.202.11:'}\n"
     ]
    },
    {
     "name": "stderr",
     "output_type": "stream",
     "text": [
      "  2%|█▋                                                                                 | 2/95 [00:00<00:19,  4.89it/s]"
     ]
    },
    {
     "name": "stdout",
     "output_type": "stream",
     "text": [
      "Success\n",
      "{'http': 'http://3.217.161.14:', 'https': 'https://3.217.161.14:'}\n",
      "Success\n"
     ]
    },
    {
     "name": "stderr",
     "output_type": "stream",
     "text": [
      "\r",
      "  3%|██▌                                                                                | 3/95 [00:00<00:17,  5.25it/s]"
     ]
    },
    {
     "name": "stdout",
     "output_type": "stream",
     "text": [
      "{'http': 'http://54.80.246.241:', 'https': 'https://54.80.246.241:'}\n",
      "Success\n",
      "{'http': 'http://216.169.73.65:34679', 'https': 'https://216.169.73.65:34679'}\n"
     ]
    },
    {
     "name": "stderr",
     "output_type": "stream",
     "text": [
      "  5%|████▎                                                                              | 5/95 [00:00<00:16,  5.60it/s]"
     ]
    },
    {
     "name": "stdout",
     "output_type": "stream",
     "text": [
      "Success\n",
      "{'http': 'http://138.68.235.51:', 'https': 'https://138.68.235.51:'}\n",
      "Success\n"
     ]
    },
    {
     "name": "stderr",
     "output_type": "stream",
     "text": [
      "\r",
      "  6%|█████▏                                                                             | 6/95 [00:01<00:16,  5.56it/s]"
     ]
    },
    {
     "name": "stdout",
     "output_type": "stream",
     "text": [
      "{'http': 'http://204.16.1.169:82', 'https': 'https://204.16.1.169:82'}\n",
      "Success\n"
     ]
    },
    {
     "name": "stderr",
     "output_type": "stream",
     "text": [
      "\r",
      "  7%|██████                                                                             | 7/95 [00:01<00:15,  5.80it/s]"
     ]
    },
    {
     "name": "stdout",
     "output_type": "stream",
     "text": [
      "{'http': 'http://47.252.82.135:', 'https': 'https://47.252.82.135:'}\n",
      "Success\n",
      "{'http': 'http://216.169.73.65:34679', 'https': 'https://216.169.73.65:34679'}\n"
     ]
    },
    {
     "name": "stderr",
     "output_type": "stream",
     "text": [
      "\r",
      "  8%|██████▉                                                                            | 8/95 [00:01<00:14,  5.91it/s]"
     ]
    },
    {
     "name": "stdout",
     "output_type": "stream",
     "text": [
      "Success\n",
      "{'http': 'http://63.161.104.189:', 'https': 'https://63.161.104.189:'}\n",
      "Success\n"
     ]
    },
    {
     "name": "stderr",
     "output_type": "stream",
     "text": [
      " 11%|████████▋                                                                         | 10/95 [00:01<00:14,  5.75it/s]"
     ]
    },
    {
     "name": "stdout",
     "output_type": "stream",
     "text": [
      "{'http': 'http://216.169.73.65:34679', 'https': 'https://216.169.73.65:34679'}\n",
      "Success\n",
      "{'http': 'http://186.233.186.60:', 'https': 'https://186.233.186.60:'}\n"
     ]
    },
    {
     "name": "stderr",
     "output_type": "stream",
     "text": [
      " 13%|██████████▎                                                                       | 12/95 [00:02<00:14,  5.57it/s]"
     ]
    },
    {
     "name": "stdout",
     "output_type": "stream",
     "text": [
      "Success\n",
      "{'http': 'http://52.168.34.113:', 'https': 'https://52.168.34.113:'}\n",
      "Success\n",
      "{'http': 'http://67.212.186.101:', 'https': 'https://67.212.186.101:'}\n"
     ]
    },
    {
     "name": "stderr",
     "output_type": "stream",
     "text": [
      " 15%|████████████                                                                      | 14/95 [00:02<00:13,  5.90it/s]"
     ]
    },
    {
     "name": "stdout",
     "output_type": "stream",
     "text": [
      "Success\n",
      "{'http': 'http://12.151.56.30:', 'https': 'https://12.151.56.30:'}\n",
      "Success\n",
      "{'http': 'http://173.196.205.170:', 'https': 'https://173.196.205.170:'}\n"
     ]
    },
    {
     "name": "stderr",
     "output_type": "stream",
     "text": [
      " 17%|█████████████▊                                                                    | 16/95 [00:02<00:13,  5.66it/s]"
     ]
    },
    {
     "name": "stdout",
     "output_type": "stream",
     "text": [
      "Success\n",
      "{'http': 'http://72.47.152.224:55443', 'https': 'https://72.47.152.224:55443'}\n",
      "Success\n",
      "{'http': 'http://3.211.17.212:', 'https': 'https://3.211.17.212:'}\n",
      "Success\n"
     ]
    },
    {
     "name": "stderr",
     "output_type": "stream",
     "text": [
      "\r",
      " 18%|██████████████▋                                                                   | 17/95 [00:03<00:15,  5.11it/s]"
     ]
    },
    {
     "name": "stdout",
     "output_type": "stream",
     "text": [
      "{'http': 'http://74.205.128.200:', 'https': 'https://74.205.128.200:'}\n"
     ]
    },
    {
     "name": "stderr",
     "output_type": "stream",
     "text": [
      "\r",
      " 19%|███████████████▌                                                                  | 18/95 [00:03<00:19,  3.96it/s]"
     ]
    },
    {
     "name": "stdout",
     "output_type": "stream",
     "text": [
      "Success\n",
      "{'http': 'http://204.16.1.169:82', 'https': 'https://204.16.1.169:82'}\n",
      "Success\n"
     ]
    },
    {
     "name": "stderr",
     "output_type": "stream",
     "text": [
      " 21%|█████████████████▎                                                                | 20/95 [00:03<00:16,  4.51it/s]"
     ]
    },
    {
     "name": "stdout",
     "output_type": "stream",
     "text": [
      "{'http': 'http://47.88.7.115:3129', 'https': 'https://47.88.7.115:3129'}\n",
      "Success\n"
     ]
    },
    {
     "name": "stderr",
     "output_type": "stream",
     "text": [
      "\r",
      " 22%|██████████████████▏                                                               | 21/95 [00:04<00:15,  4.90it/s]"
     ]
    },
    {
     "name": "stdout",
     "output_type": "stream",
     "text": [
      "{'http': 'http://50.235.149.74:', 'https': 'https://50.235.149.74:'}\n",
      "Success\n",
      "{'http': 'http://63.161.104.189:', 'https': 'https://63.161.104.189:'}\n"
     ]
    },
    {
     "name": "stderr",
     "output_type": "stream",
     "text": [
      " 24%|███████████████████▊                                                              | 23/95 [00:04<00:12,  5.55it/s]"
     ]
    },
    {
     "name": "stdout",
     "output_type": "stream",
     "text": [
      "Success\n",
      "{'http': 'http://192.155.107.59:', 'https': 'https://192.155.107.59:'}\n",
      "Success\n",
      "{'http': 'http://52.168.34.113:', 'https': 'https://52.168.34.113:'}\n"
     ]
    },
    {
     "name": "stderr",
     "output_type": "stream",
     "text": [
      " 26%|█████████████████████▌                                                            | 25/95 [00:04<00:12,  5.63it/s]"
     ]
    },
    {
     "name": "stdout",
     "output_type": "stream",
     "text": [
      "Success\n",
      "{'http': 'http://3.217.161.14:', 'https': 'https://3.217.161.14:'}\n",
      "Success\n"
     ]
    },
    {
     "name": "stderr",
     "output_type": "stream",
     "text": [
      "\r",
      " 27%|██████████████████████▍                                                           | 26/95 [00:04<00:12,  5.72it/s]"
     ]
    },
    {
     "name": "stdout",
     "output_type": "stream",
     "text": [
      "{'http': 'http://216.169.73.65:34679', 'https': 'https://216.169.73.65:34679'}\n",
      "Success\n",
      "{'http': 'http://104.192.202.11:', 'https': 'https://104.192.202.11:'}\n"
     ]
    },
    {
     "name": "stderr",
     "output_type": "stream",
     "text": [
      "\r",
      " 28%|███████████████████████▎                                                          | 27/95 [00:05<00:12,  5.48it/s]"
     ]
    },
    {
     "name": "stdout",
     "output_type": "stream",
     "text": [
      "Success\n",
      "{'http': 'http://161.35.4.201:', 'https': 'https://161.35.4.201:'}\n"
     ]
    },
    {
     "name": "stderr",
     "output_type": "stream",
     "text": [
      " 31%|█████████████████████████                                                         | 29/95 [00:05<00:12,  5.16it/s]"
     ]
    },
    {
     "name": "stdout",
     "output_type": "stream",
     "text": [
      "Success\n",
      "{'http': 'http://216.169.73.65:34679', 'https': 'https://216.169.73.65:34679'}\n",
      "Success\n"
     ]
    },
    {
     "name": "stderr",
     "output_type": "stream",
     "text": [
      "\r",
      " 32%|█████████████████████████▉                                                        | 30/95 [00:05<00:12,  5.39it/s]"
     ]
    },
    {
     "name": "stdout",
     "output_type": "stream",
     "text": [
      "{'http': 'http://161.35.4.201:', 'https': 'https://161.35.4.201:'}\n",
      "Success\n",
      "{'http': 'http://72.47.152.224:55443', 'https': 'https://72.47.152.224:55443'}\n"
     ]
    },
    {
     "name": "stderr",
     "output_type": "stream",
     "text": [
      "\r",
      " 33%|██████████████████████████▊                                                       | 31/95 [00:05<00:12,  5.21it/s]"
     ]
    },
    {
     "name": "stdout",
     "output_type": "stream",
     "text": [
      "Success\n",
      "{'http': 'http://138.68.235.51:', 'https': 'https://138.68.235.51:'}\n",
      "Success\n"
     ]
    },
    {
     "name": "stderr",
     "output_type": "stream",
     "text": [
      " 35%|████████████████████████████▍                                                     | 33/95 [00:06<00:11,  5.18it/s]"
     ]
    },
    {
     "name": "stdout",
     "output_type": "stream",
     "text": [
      "{'http': 'http://66.211.155.34:', 'https': 'https://66.211.155.34:'}\n",
      "Success\n",
      "{'http': 'http://216.169.73.65:34679', 'https': 'https://216.169.73.65:34679'}\n"
     ]
    },
    {
     "name": "stderr",
     "output_type": "stream",
     "text": [
      " 37%|██████████████████████████████▏                                                   | 35/95 [00:06<00:11,  5.36it/s]"
     ]
    },
    {
     "name": "stdout",
     "output_type": "stream",
     "text": [
      "Success\n",
      "{'http': 'http://154.85.35.235:8888', 'https': 'https://154.85.35.235:8888'}\n",
      "Success\n"
     ]
    },
    {
     "name": "stderr",
     "output_type": "stream",
     "text": [
      "\r",
      " 38%|███████████████████████████████                                                   | 36/95 [00:06<00:10,  5.58it/s]"
     ]
    },
    {
     "name": "stdout",
     "output_type": "stream",
     "text": [
      "{'http': 'http://138.68.235.51:', 'https': 'https://138.68.235.51:'}\n",
      "Success\n",
      "{'http': 'http://12.151.56.30:', 'https': 'https://12.151.56.30:'}\n"
     ]
    },
    {
     "name": "stderr",
     "output_type": "stream",
     "text": [
      "\r",
      " 39%|███████████████████████████████▉                                                  | 37/95 [00:06<00:10,  5.74it/s]"
     ]
    },
    {
     "name": "stdout",
     "output_type": "stream",
     "text": [
      "Success\n",
      "{'http': 'http://67.212.186.101:', 'https': 'https://67.212.186.101:'}\n"
     ]
    },
    {
     "name": "stderr",
     "output_type": "stream",
     "text": [
      "\r",
      " 40%|████████████████████████████████▊                                                 | 38/95 [00:07<00:11,  5.14it/s]"
     ]
    },
    {
     "name": "stdout",
     "output_type": "stream",
     "text": [
      "Success\n",
      "{'http': 'http://107.151.182.247:', 'https': 'https://107.151.182.247:'}\n"
     ]
    },
    {
     "name": "stderr",
     "output_type": "stream",
     "text": [
      " 42%|██████████████████████████████████▌                                               | 40/95 [00:07<00:10,  5.00it/s]"
     ]
    },
    {
     "name": "stdout",
     "output_type": "stream",
     "text": [
      "Success\n",
      "{'http': 'http://54.244.204.46:', 'https': 'https://54.244.204.46:'}\n",
      "Success\n",
      "{'http': 'http://104.192.202.11:', 'https': 'https://104.192.202.11:'}\n"
     ]
    },
    {
     "name": "stderr",
     "output_type": "stream",
     "text": [
      " 44%|████████████████████████████████████▎                                             | 42/95 [00:07<00:09,  5.40it/s]"
     ]
    },
    {
     "name": "stdout",
     "output_type": "stream",
     "text": [
      "Success\n",
      "{'http': 'http://63.161.104.189:', 'https': 'https://63.161.104.189:'}\n",
      "Success\n"
     ]
    },
    {
     "name": "stderr",
     "output_type": "stream",
     "text": [
      "\r",
      " 45%|█████████████████████████████████████                                             | 43/95 [00:08<00:09,  5.41it/s]"
     ]
    },
    {
     "name": "stdout",
     "output_type": "stream",
     "text": [
      "{'http': 'http://208.72.154.111:8888', 'https': 'https://208.72.154.111:8888'}\n",
      "Success\n"
     ]
    },
    {
     "name": "stderr",
     "output_type": "stream",
     "text": [
      "\r",
      " 46%|█████████████████████████████████████▉                                            | 44/95 [00:08<00:09,  5.26it/s]"
     ]
    },
    {
     "name": "stdout",
     "output_type": "stream",
     "text": [
      "{'http': 'http://47.252.82.135:', 'https': 'https://47.252.82.135:'}\n",
      "Success\n"
     ]
    },
    {
     "name": "stderr",
     "output_type": "stream",
     "text": [
      "\r",
      " 47%|██████████████████████████████████████▊                                           | 45/95 [00:08<00:09,  5.33it/s]"
     ]
    },
    {
     "name": "stdout",
     "output_type": "stream",
     "text": [
      "{'http': 'http://47.88.7.115:3129', 'https': 'https://47.88.7.115:3129'}\n",
      "Success\n",
      "{'http': 'http://54.244.204.46:', 'https': 'https://54.244.204.46:'}\n"
     ]
    },
    {
     "name": "stderr",
     "output_type": "stream",
     "text": [
      " 49%|████████████████████████████████████████▌                                         | 47/95 [00:08<00:08,  5.51it/s]"
     ]
    },
    {
     "name": "stdout",
     "output_type": "stream",
     "text": [
      "Success\n",
      "{'http': 'http://64.227.62.123:', 'https': 'https://64.227.62.123:'}\n",
      "Success\n",
      "{'http': 'http://66.211.155.34:', 'https': 'https://66.211.155.34:'}\n"
     ]
    },
    {
     "name": "stderr",
     "output_type": "stream",
     "text": [
      " 52%|██████████████████████████████████████████▎                                       | 49/95 [00:11<00:29,  1.56it/s]"
     ]
    },
    {
     "name": "stdout",
     "output_type": "stream",
     "text": [
      "Success\n",
      "{'http': 'http://3.230.91.35:', 'https': 'https://3.230.91.35:'}\n",
      "Success\n"
     ]
    },
    {
     "name": "stderr",
     "output_type": "stream",
     "text": [
      "\r",
      " 53%|███████████████████████████████████████████▏                                      | 50/95 [00:11<00:22,  1.99it/s]"
     ]
    },
    {
     "name": "stdout",
     "output_type": "stream",
     "text": [
      "{'http': 'http://66.211.155.34:', 'https': 'https://66.211.155.34:'}\n",
      "Success\n",
      "{'http': 'http://12.151.56.30:', 'https': 'https://12.151.56.30:'}\n"
     ]
    },
    {
     "name": "stderr",
     "output_type": "stream",
     "text": [
      " 55%|████████████████████████████████████████████▉                                     | 52/95 [00:11<00:14,  3.00it/s]"
     ]
    },
    {
     "name": "stdout",
     "output_type": "stream",
     "text": [
      "Success\n",
      "{'http': 'http://23.225.64.59:1089', 'https': 'https://23.225.64.59:1089'}\n",
      "Success\n"
     ]
    },
    {
     "name": "stderr",
     "output_type": "stream",
     "text": [
      "\r",
      " 56%|█████████████████████████████████████████████▋                                    | 53/95 [00:12<00:11,  3.52it/s]"
     ]
    },
    {
     "name": "stdout",
     "output_type": "stream",
     "text": [
      "{'http': 'http://3.230.91.35:', 'https': 'https://3.230.91.35:'}\n",
      "Success\n",
      "{'http': 'http://47.89.153.213:', 'https': 'https://47.89.153.213:'}\n"
     ]
    },
    {
     "name": "stderr",
     "output_type": "stream",
     "text": [
      " 58%|███████████████████████████████████████████████▍                                  | 55/95 [00:12<00:08,  4.50it/s]"
     ]
    },
    {
     "name": "stdout",
     "output_type": "stream",
     "text": [
      "Success\n",
      "{'http': 'http://50.235.149.74:', 'https': 'https://50.235.149.74:'}\n",
      "Success\n",
      "{'http': 'http://204.16.1.169:82', 'https': 'https://204.16.1.169:82'}\n"
     ]
    },
    {
     "name": "stderr",
     "output_type": "stream",
     "text": [
      " 60%|█████████████████████████████████████████████████▏                                | 57/95 [00:12<00:07,  4.86it/s]"
     ]
    },
    {
     "name": "stdout",
     "output_type": "stream",
     "text": [
      "Success\n",
      "{'http': 'http://40.136.41.6:', 'https': 'https://40.136.41.6:'}\n",
      "Success\n"
     ]
    },
    {
     "name": "stderr",
     "output_type": "stream",
     "text": [
      "\r",
      " 61%|██████████████████████████████████████████████████                                | 58/95 [00:13<00:07,  4.90it/s]"
     ]
    },
    {
     "name": "stdout",
     "output_type": "stream",
     "text": [
      "{'http': 'http://67.212.186.101:', 'https': 'https://67.212.186.101:'}\n",
      "Success\n",
      "{'http': 'http://50.235.149.74:', 'https': 'https://50.235.149.74:'}\n",
      "Success\n"
     ]
    },
    {
     "name": "stderr",
     "output_type": "stream",
     "text": [
      "\r",
      " 62%|██████████████████████████████████████████████████▉                               | 59/95 [00:13<00:07,  4.85it/s]"
     ]
    },
    {
     "name": "stdout",
     "output_type": "stream",
     "text": [
      "{'http': 'http://50.235.149.74:', 'https': 'https://50.235.149.74:'}\n"
     ]
    },
    {
     "name": "stderr",
     "output_type": "stream",
     "text": [
      "\r",
      " 63%|███████████████████████████████████████████████████▊                              | 60/95 [00:13<00:08,  4.37it/s]"
     ]
    },
    {
     "name": "stdout",
     "output_type": "stream",
     "text": [
      "Success\n",
      "{'http': 'http://159.65.69.186:9300', 'https': 'https://159.65.69.186:9300'}\n"
     ]
    },
    {
     "name": "stderr",
     "output_type": "stream",
     "text": [
      "\r",
      " 64%|████████████████████████████████████████████████████▋                             | 61/95 [00:13<00:07,  4.27it/s]"
     ]
    },
    {
     "name": "stdout",
     "output_type": "stream",
     "text": [
      "Success\n",
      "{'http': 'http://204.16.1.169:82', 'https': 'https://204.16.1.169:82'}\n"
     ]
    },
    {
     "name": "stderr",
     "output_type": "stream",
     "text": [
      "\r",
      " 65%|█████████████████████████████████████████████████████▌                            | 62/95 [00:13<00:07,  4.29it/s]"
     ]
    },
    {
     "name": "stdout",
     "output_type": "stream",
     "text": [
      "Success\n",
      "{'http': 'http://159.65.69.186:9300', 'https': 'https://159.65.69.186:9300'}\n"
     ]
    },
    {
     "name": "stderr",
     "output_type": "stream",
     "text": [
      "\r",
      " 66%|██████████████████████████████████████████████████████▍                           | 63/95 [00:14<00:07,  4.37it/s]"
     ]
    },
    {
     "name": "stdout",
     "output_type": "stream",
     "text": [
      "Success\n",
      "{'http': 'http://64.227.62.123:', 'https': 'https://64.227.62.123:'}\n"
     ]
    },
    {
     "name": "stderr",
     "output_type": "stream",
     "text": [
      "\r",
      " 67%|███████████████████████████████████████████████████████▏                          | 64/95 [00:14<00:06,  4.47it/s]"
     ]
    },
    {
     "name": "stdout",
     "output_type": "stream",
     "text": [
      "Success\n",
      "{'http': 'http://67.212.186.101:', 'https': 'https://67.212.186.101:'}\n",
      "Success\n"
     ]
    },
    {
     "name": "stderr",
     "output_type": "stream",
     "text": [
      "\r",
      " 68%|████████████████████████████████████████████████████████                          | 65/95 [00:14<00:06,  4.52it/s]"
     ]
    },
    {
     "name": "stdout",
     "output_type": "stream",
     "text": [
      "{'http': 'http://3.211.17.212:', 'https': 'https://3.211.17.212:'}\n"
     ]
    },
    {
     "name": "stderr",
     "output_type": "stream",
     "text": [
      " 71%|█████████████████████████████████████████████████████████▊                        | 67/95 [00:15<00:06,  4.07it/s]"
     ]
    },
    {
     "name": "stdout",
     "output_type": "stream",
     "text": [
      "Success\n",
      "{'http': 'http://74.205.128.200:', 'https': 'https://74.205.128.200:'}\n",
      "Success\n",
      "{'http': 'http://186.233.186.60:', 'https': 'https://186.233.186.60:'}\n"
     ]
    },
    {
     "name": "stderr",
     "output_type": "stream",
     "text": [
      "\r",
      " 72%|██████████████████████████████████████████████████████████▋                       | 68/95 [00:15<00:06,  4.43it/s]"
     ]
    },
    {
     "name": "stdout",
     "output_type": "stream",
     "text": [
      "Success\n",
      "{'http': 'http://12.151.56.30:', 'https': 'https://12.151.56.30:'}\n",
      "Success\n"
     ]
    },
    {
     "name": "stderr",
     "output_type": "stream",
     "text": [
      " 74%|████████████████████████████████████████████████████████████▍                     | 70/95 [00:15<00:05,  4.33it/s]"
     ]
    },
    {
     "name": "stdout",
     "output_type": "stream",
     "text": [
      "{'http': 'http://107.151.182.247:', 'https': 'https://107.151.182.247:'}\n",
      "Success\n"
     ]
    },
    {
     "name": "stderr",
     "output_type": "stream",
     "text": [
      "\r",
      " 75%|█████████████████████████████████████████████████████████████▎                    | 71/95 [00:16<00:05,  4.54it/s]"
     ]
    },
    {
     "name": "stdout",
     "output_type": "stream",
     "text": [
      "{'http': 'http://72.47.152.224:55443', 'https': 'https://72.47.152.224:55443'}\n",
      "Success\n"
     ]
    },
    {
     "name": "stderr",
     "output_type": "stream",
     "text": [
      "\r",
      " 76%|██████████████████████████████████████████████████████████████▏                   | 72/95 [00:16<00:04,  5.03it/s]"
     ]
    },
    {
     "name": "stdout",
     "output_type": "stream",
     "text": [
      "{'http': 'http://67.212.186.101:', 'https': 'https://67.212.186.101:'}\n",
      "Success\n",
      "{'http': 'http://54.80.246.241:', 'https': 'https://54.80.246.241:'}\n"
     ]
    },
    {
     "name": "stderr",
     "output_type": "stream",
     "text": [
      " 78%|███████████████████████████████████████████████████████████████▊                  | 74/95 [00:16<00:03,  5.44it/s]"
     ]
    },
    {
     "name": "stdout",
     "output_type": "stream",
     "text": [
      "Success\n",
      "{'http': 'http://104.192.202.11:', 'https': 'https://104.192.202.11:'}\n",
      "Success\n",
      "{'http': 'http://66.211.155.34:', 'https': 'https://66.211.155.34:'}\n"
     ]
    },
    {
     "name": "stderr",
     "output_type": "stream",
     "text": [
      " 80%|█████████████████████████████████████████████████████████████████▌                | 76/95 [00:16<00:03,  5.79it/s]"
     ]
    },
    {
     "name": "stdout",
     "output_type": "stream",
     "text": [
      "Success\n",
      "{'http': 'http://216.169.73.65:34679', 'https': 'https://216.169.73.65:34679'}\n",
      "Success\n",
      "{'http': 'http://159.65.69.186:9300', 'https': 'https://159.65.69.186:9300'}\n"
     ]
    },
    {
     "name": "stderr",
     "output_type": "stream",
     "text": [
      "\r",
      " 81%|██████████████████████████████████████████████████████████████████▍               | 77/95 [00:17<00:03,  5.50it/s]"
     ]
    },
    {
     "name": "stdout",
     "output_type": "stream",
     "text": [
      "Success\n",
      "{'http': 'http://3.211.17.212:', 'https': 'https://3.211.17.212:'}\n"
     ]
    },
    {
     "name": "stderr",
     "output_type": "stream",
     "text": [
      " 83%|████████████████████████████████████████████████████████████████████▏             | 79/95 [00:17<00:03,  5.33it/s]"
     ]
    },
    {
     "name": "stdout",
     "output_type": "stream",
     "text": [
      "Success\n",
      "{'http': 'http://47.252.82.135:', 'https': 'https://47.252.82.135:'}\n",
      "Success\n",
      "{'http': 'http://54.244.204.46:', 'https': 'https://54.244.204.46:'}\n"
     ]
    },
    {
     "name": "stderr",
     "output_type": "stream",
     "text": [
      " 85%|█████████████████████████████████████████████████████████████████████▉            | 81/95 [00:17<00:02,  5.31it/s]"
     ]
    },
    {
     "name": "stdout",
     "output_type": "stream",
     "text": [
      "Success\n",
      "{'http': 'http://63.161.104.189:', 'https': 'https://63.161.104.189:'}\n",
      "Success\n"
     ]
    },
    {
     "name": "stderr",
     "output_type": "stream",
     "text": [
      "\r",
      " 86%|██████████████████████████████████████████████████████████████████████▊           | 82/95 [00:18<00:02,  5.54it/s]"
     ]
    },
    {
     "name": "stdout",
     "output_type": "stream",
     "text": [
      "{'http': 'http://3.217.161.14:', 'https': 'https://3.217.161.14:'}\n",
      "Success\n",
      "{'http': 'http://3.217.161.14:', 'https': 'https://3.217.161.14:'}\n"
     ]
    },
    {
     "name": "stderr",
     "output_type": "stream",
     "text": [
      " 88%|████████████████████████████████████████████████████████████████████████▌         | 84/95 [00:18<00:01,  5.69it/s]"
     ]
    },
    {
     "name": "stdout",
     "output_type": "stream",
     "text": [
      "Success\n",
      "{'http': 'http://74.205.128.200:', 'https': 'https://74.205.128.200:'}\n",
      "Success\n",
      "{'http': 'http://161.35.4.201:', 'https': 'https://161.35.4.201:'}\n"
     ]
    },
    {
     "name": "stderr",
     "output_type": "stream",
     "text": [
      " 91%|██████████████████████████████████████████████████████████████████████████▏       | 86/95 [00:18<00:01,  5.70it/s]"
     ]
    },
    {
     "name": "stdout",
     "output_type": "stream",
     "text": [
      "Success\n",
      "{'http': 'http://208.72.154.111:8888', 'https': 'https://208.72.154.111:8888'}\n",
      "Success\n",
      "{'http': 'http://47.252.82.135:', 'https': 'https://47.252.82.135:'}\n"
     ]
    },
    {
     "name": "stderr",
     "output_type": "stream",
     "text": [
      "\r",
      " 92%|███████████████████████████████████████████████████████████████████████████       | 87/95 [00:18<00:01,  5.79it/s]"
     ]
    },
    {
     "name": "stdout",
     "output_type": "stream",
     "text": [
      "Success\n",
      "{'http': 'http://3.211.17.212:', 'https': 'https://3.211.17.212:'}\n"
     ]
    },
    {
     "name": "stderr",
     "output_type": "stream",
     "text": [
      "\r",
      " 93%|███████████████████████████████████████████████████████████████████████████▉      | 88/95 [00:19<00:01,  4.99it/s]"
     ]
    },
    {
     "name": "stdout",
     "output_type": "stream",
     "text": [
      "Success\n",
      "{'http': 'http://12.151.56.30:', 'https': 'https://12.151.56.30:'}\n"
     ]
    },
    {
     "name": "stderr",
     "output_type": "stream",
     "text": [
      " 95%|█████████████████████████████████████████████████████████████████████████████▋    | 90/95 [00:19<00:01,  4.95it/s]"
     ]
    },
    {
     "name": "stdout",
     "output_type": "stream",
     "text": [
      "Success\n",
      "{'http': 'http://23.225.64.59:1089', 'https': 'https://23.225.64.59:1089'}\n",
      "Success\n",
      "{'http': 'http://47.88.7.115:3129', 'https': 'https://47.88.7.115:3129'}\n"
     ]
    },
    {
     "name": "stderr",
     "output_type": "stream",
     "text": [
      " 97%|███████████████████████████████████████████████████████████████████████████████▍  | 92/95 [00:19<00:00,  5.26it/s]"
     ]
    },
    {
     "name": "stdout",
     "output_type": "stream",
     "text": [
      "Success\n",
      "{'http': 'http://204.16.1.169:82', 'https': 'https://204.16.1.169:82'}\n",
      "Success\n"
     ]
    },
    {
     "name": "stderr",
     "output_type": "stream",
     "text": [
      "\r",
      " 98%|████████████████████████████████████████████████████████████████████████████████▎ | 93/95 [00:20<00:00,  5.20it/s]"
     ]
    },
    {
     "name": "stdout",
     "output_type": "stream",
     "text": [
      "{'http': 'http://47.252.82.135:', 'https': 'https://47.252.82.135:'}\n",
      "Success\n"
     ]
    },
    {
     "name": "stderr",
     "output_type": "stream",
     "text": [
      "\r",
      " 99%|█████████████████████████████████████████████████████████████████████████████████▏| 94/95 [00:20<00:00,  5.27it/s]"
     ]
    },
    {
     "name": "stdout",
     "output_type": "stream",
     "text": [
      "{'http': 'http://47.89.153.213:', 'https': 'https://47.89.153.213:'}\n",
      "Success\n"
     ]
    },
    {
     "name": "stderr",
     "output_type": "stream",
     "text": [
      "100%|██████████████████████████████████████████████████████████████████████████████████| 95/95 [00:20<00:00,  4.64it/s]\n"
     ]
    },
    {
     "name": "stdout",
     "output_type": "stream",
     "text": [
      "{'http': 'http://20.47.108.204:8888', 'https': 'https://20.47.108.204:8888'}\n",
      "Success\n"
     ]
    },
    {
     "name": "stderr",
     "output_type": "stream",
     "text": [
      "\r",
      "  0%|                                                                                           | 0/80 [00:00<?, ?it/s]"
     ]
    },
    {
     "name": "stdout",
     "output_type": "stream",
     "text": [
      "{'http': 'http://76.81.164.246:', 'https': 'https://76.81.164.246:'}\n"
     ]
    },
    {
     "name": "stderr",
     "output_type": "stream",
     "text": [
      "\r",
      "  1%|█                                                                                  | 1/80 [00:00<00:19,  4.05it/s]"
     ]
    },
    {
     "name": "stdout",
     "output_type": "stream",
     "text": [
      "Success\n",
      "{'http': 'http://159.65.69.186:9300', 'https': 'https://159.65.69.186:9300'}\n"
     ]
    },
    {
     "name": "stderr",
     "output_type": "stream",
     "text": [
      "  4%|███                                                                                | 3/80 [00:00<00:24,  3.18it/s]"
     ]
    },
    {
     "name": "stdout",
     "output_type": "stream",
     "text": [
      "Success\n",
      "{'http': 'http://12.151.56.30:', 'https': 'https://12.151.56.30:'}\n",
      "Success\n",
      "{'http': 'http://40.136.41.6:', 'https': 'https://40.136.41.6:'}\n"
     ]
    },
    {
     "name": "stderr",
     "output_type": "stream",
     "text": [
      "  6%|█████▏                                                                             | 5/80 [00:01<00:19,  3.90it/s]"
     ]
    },
    {
     "name": "stdout",
     "output_type": "stream",
     "text": [
      "Success\n",
      "{'http': 'http://3.211.17.212:', 'https': 'https://3.211.17.212:'}\n",
      "Success\n"
     ]
    },
    {
     "name": "stderr",
     "output_type": "stream",
     "text": [
      "\r",
      "  8%|██████▏                                                                            | 6/80 [00:01<00:16,  4.50it/s]"
     ]
    },
    {
     "name": "stdout",
     "output_type": "stream",
     "text": [
      "{'http': 'http://173.196.205.170:', 'https': 'https://173.196.205.170:'}\n",
      "Success\n",
      "{'http': 'http://23.225.64.59:1089', 'https': 'https://23.225.64.59:1089'}\n"
     ]
    },
    {
     "name": "stderr",
     "output_type": "stream",
     "text": [
      "\r",
      "  9%|███████▎                                                                           | 7/80 [00:01<00:16,  4.51it/s]"
     ]
    },
    {
     "name": "stdout",
     "output_type": "stream",
     "text": [
      "Success\n",
      "{'http': 'http://72.47.152.224:55443', 'https': 'https://72.47.152.224:55443'}\n",
      "Success\n"
     ]
    },
    {
     "name": "stderr",
     "output_type": "stream",
     "text": [
      " 11%|█████████▎                                                                         | 9/80 [00:02<00:15,  4.65it/s]"
     ]
    },
    {
     "name": "stdout",
     "output_type": "stream",
     "text": [
      "{'http': 'http://66.211.155.34:', 'https': 'https://66.211.155.34:'}\n",
      "Success\n",
      "{'http': 'http://47.252.82.135:', 'https': 'https://47.252.82.135:'}\n"
     ]
    },
    {
     "name": "stderr",
     "output_type": "stream",
     "text": [
      "\r",
      " 12%|██████████▎                                                                       | 10/80 [00:02<00:15,  4.50it/s]"
     ]
    },
    {
     "name": "stdout",
     "output_type": "stream",
     "text": [
      "Success\n",
      "{'http': 'http://186.233.186.60:', 'https': 'https://186.233.186.60:'}\n"
     ]
    },
    {
     "name": "stderr",
     "output_type": "stream",
     "text": [
      " 15%|████████████▎                                                                     | 12/80 [00:03<00:18,  3.59it/s]"
     ]
    },
    {
     "name": "stdout",
     "output_type": "stream",
     "text": [
      "Success\n",
      "{'http': 'http://66.211.155.34:', 'https': 'https://66.211.155.34:'}\n",
      "Success\n",
      "{'http': 'http://63.161.104.189:', 'https': 'https://63.161.104.189:'}\n"
     ]
    },
    {
     "name": "stderr",
     "output_type": "stream",
     "text": [
      " 18%|██████████████▎                                                                   | 14/80 [00:03<00:15,  4.25it/s]"
     ]
    },
    {
     "name": "stdout",
     "output_type": "stream",
     "text": [
      "Success\n",
      "{'http': 'http://132.145.195.93:', 'https': 'https://132.145.195.93:'}\n",
      "Success\n"
     ]
    },
    {
     "name": "stderr",
     "output_type": "stream",
     "text": [
      "\r",
      " 19%|███████████████▍                                                                  | 15/80 [00:03<00:14,  4.56it/s]"
     ]
    },
    {
     "name": "stdout",
     "output_type": "stream",
     "text": [
      "{'http': 'http://52.168.34.113:', 'https': 'https://52.168.34.113:'}\n",
      "Success\n"
     ]
    },
    {
     "name": "stderr",
     "output_type": "stream",
     "text": [
      "\r",
      " 20%|████████████████▍                                                                 | 16/80 [00:03<00:13,  4.68it/s]"
     ]
    },
    {
     "name": "stdout",
     "output_type": "stream",
     "text": [
      "{'http': 'http://23.225.64.59:1089', 'https': 'https://23.225.64.59:1089'}\n",
      "Success\n"
     ]
    },
    {
     "name": "stderr",
     "output_type": "stream",
     "text": [
      "\r",
      " 21%|█████████████████▍                                                                | 17/80 [00:04<00:13,  4.72it/s]"
     ]
    },
    {
     "name": "stdout",
     "output_type": "stream",
     "text": [
      "{'http': 'http://138.68.235.51:', 'https': 'https://138.68.235.51:'}\n",
      "Success\n"
     ]
    },
    {
     "name": "stderr",
     "output_type": "stream",
     "text": [
      "\r",
      " 22%|██████████████████▍                                                               | 18/80 [00:04<00:12,  4.90it/s]"
     ]
    },
    {
     "name": "stdout",
     "output_type": "stream",
     "text": [
      "{'http': 'http://76.81.164.246:', 'https': 'https://76.81.164.246:'}\n",
      "Success\n"
     ]
    },
    {
     "name": "stderr",
     "output_type": "stream",
     "text": [
      "\r",
      " 24%|███████████████████▍                                                              | 19/80 [00:04<00:12,  4.93it/s]"
     ]
    },
    {
     "name": "stdout",
     "output_type": "stream",
     "text": [
      "{'http': 'http://50.235.149.74:', 'https': 'https://50.235.149.74:'}\n",
      "Success\n"
     ]
    },
    {
     "name": "stderr",
     "output_type": "stream",
     "text": [
      "\r",
      " 25%|████████████████████▌                                                             | 20/80 [00:04<00:11,  5.34it/s]"
     ]
    },
    {
     "name": "stdout",
     "output_type": "stream",
     "text": [
      "{'http': 'http://76.81.164.246:', 'https': 'https://76.81.164.246:'}\n",
      "Success\n",
      "{'http': 'http://161.35.4.201:', 'https': 'https://161.35.4.201:'}\n"
     ]
    },
    {
     "name": "stderr",
     "output_type": "stream",
     "text": [
      " 28%|██████████████████████▌                                                           | 22/80 [00:05<00:10,  5.52it/s]"
     ]
    },
    {
     "name": "stdout",
     "output_type": "stream",
     "text": [
      "Success\n",
      "{'http': 'http://159.65.69.186:9300', 'https': 'https://159.65.69.186:9300'}\n",
      "Success\n",
      "{'http': 'http://107.151.182.247:', 'https': 'https://107.151.182.247:'}\n"
     ]
    },
    {
     "name": "stderr",
     "output_type": "stream",
     "text": [
      "\r",
      " 29%|███████████████████████▌                                                          | 23/80 [00:05<00:10,  5.61it/s]"
     ]
    },
    {
     "name": "stdout",
     "output_type": "stream",
     "text": [
      "Success\n",
      "{'http': 'http://20.47.108.204:8888', 'https': 'https://20.47.108.204:8888'}\n",
      "Success\n"
     ]
    },
    {
     "name": "stderr",
     "output_type": "stream",
     "text": [
      " 31%|█████████████████████████▋                                                        | 25/80 [00:05<00:10,  5.43it/s]"
     ]
    },
    {
     "name": "stdout",
     "output_type": "stream",
     "text": [
      "{'http': 'http://54.244.204.46:', 'https': 'https://54.244.204.46:'}\n",
      "Success\n"
     ]
    },
    {
     "name": "stderr",
     "output_type": "stream",
     "text": [
      "\r",
      " 32%|██████████████████████████▋                                                       | 26/80 [00:05<00:09,  5.62it/s]"
     ]
    },
    {
     "name": "stdout",
     "output_type": "stream",
     "text": [
      "{'http': 'http://3.230.91.35:', 'https': 'https://3.230.91.35:'}\n",
      "Success\n",
      "{'http': 'http://159.65.69.186:9300', 'https': 'https://159.65.69.186:9300'}\n"
     ]
    },
    {
     "name": "stderr",
     "output_type": "stream",
     "text": [
      " 35%|████████████████████████████▋                                                     | 28/80 [00:06<00:09,  5.47it/s]"
     ]
    },
    {
     "name": "stdout",
     "output_type": "stream",
     "text": [
      "Success\n",
      "{'http': 'http://3.230.91.35:', 'https': 'https://3.230.91.35:'}\n",
      "Success\n",
      "{'http': 'http://40.136.41.6:', 'https': 'https://40.136.41.6:'}\n"
     ]
    },
    {
     "name": "stderr",
     "output_type": "stream",
     "text": [
      " 38%|██████████████████████████████▊                                                   | 30/80 [00:06<00:09,  5.53it/s]"
     ]
    },
    {
     "name": "stdout",
     "output_type": "stream",
     "text": [
      "Success\n",
      "{'http': 'http://192.155.107.60:', 'https': 'https://192.155.107.60:'}\n",
      "Success\n",
      "{'http': 'http://63.161.104.189:', 'https': 'https://63.161.104.189:'}\n"
     ]
    },
    {
     "name": "stderr",
     "output_type": "stream",
     "text": [
      "\r",
      " 39%|███████████████████████████████▊                                                  | 31/80 [00:06<00:10,  4.61it/s]"
     ]
    },
    {
     "name": "stdout",
     "output_type": "stream",
     "text": [
      "Success\n",
      "{'http': 'http://3.217.161.14:', 'https': 'https://3.217.161.14:'}\n"
     ]
    },
    {
     "name": "stderr",
     "output_type": "stream",
     "text": [
      "\r",
      " 40%|████████████████████████████████▊                                                 | 32/80 [00:08<00:28,  1.71it/s]"
     ]
    },
    {
     "name": "stdout",
     "output_type": "stream",
     "text": [
      "Success\n",
      "{'http': 'http://54.80.246.241:', 'https': 'https://54.80.246.241:'}\n",
      "Success\n"
     ]
    },
    {
     "name": "stderr",
     "output_type": "stream",
     "text": [
      " 42%|██████████████████████████████████▊                                               | 34/80 [00:08<00:18,  2.51it/s]"
     ]
    },
    {
     "name": "stdout",
     "output_type": "stream",
     "text": [
      "{'http': 'http://161.35.4.201:', 'https': 'https://161.35.4.201:'}\n",
      "Success\n",
      "{'http': 'http://20.47.108.204:8888', 'https': 'https://20.47.108.204:8888'}\n"
     ]
    },
    {
     "name": "stderr",
     "output_type": "stream",
     "text": [
      "\r",
      " 44%|███████████████████████████████████▉                                              | 35/80 [00:08<00:16,  2.74it/s]"
     ]
    },
    {
     "name": "stdout",
     "output_type": "stream",
     "text": [
      "Success\n",
      "{'http': 'http://186.233.186.60:', 'https': 'https://186.233.186.60:'}\n"
     ]
    },
    {
     "name": "stderr",
     "output_type": "stream",
     "text": [
      "\r",
      " 45%|████████████████████████████████████▉                                             | 36/80 [00:09<00:14,  3.03it/s]"
     ]
    },
    {
     "name": "stdout",
     "output_type": "stream",
     "text": [
      "Success\n",
      "{'http': 'http://20.47.108.204:8888', 'https': 'https://20.47.108.204:8888'}\n"
     ]
    },
    {
     "name": "stderr",
     "output_type": "stream",
     "text": [
      " 48%|██████████████████████████████████████▉                                           | 38/80 [00:09<00:11,  3.82it/s]"
     ]
    },
    {
     "name": "stdout",
     "output_type": "stream",
     "text": [
      "Success\n",
      "{'http': 'http://186.233.186.60:', 'https': 'https://186.233.186.60:'}\n",
      "Success\n",
      "{'http': 'http://3.230.91.35:', 'https': 'https://3.230.91.35:'}\n"
     ]
    },
    {
     "name": "stderr",
     "output_type": "stream",
     "text": [
      "\r",
      " 49%|███████████████████████████████████████▉                                          | 39/80 [00:09<00:10,  4.06it/s]"
     ]
    },
    {
     "name": "stdout",
     "output_type": "stream",
     "text": [
      "Success\n",
      "{'http': 'http://52.168.34.113:', 'https': 'https://52.168.34.113:'}\n",
      "Success\n"
     ]
    },
    {
     "name": "stderr",
     "output_type": "stream",
     "text": [
      " 51%|██████████████████████████████████████████                                        | 41/80 [00:10<00:08,  4.55it/s]"
     ]
    },
    {
     "name": "stdout",
     "output_type": "stream",
     "text": [
      "{'http': 'http://76.81.164.246:', 'https': 'https://76.81.164.246:'}\n",
      "Success\n"
     ]
    },
    {
     "name": "stderr",
     "output_type": "stream",
     "text": [
      "\r",
      " 52%|███████████████████████████████████████████                                       | 42/80 [00:10<00:07,  4.87it/s]"
     ]
    },
    {
     "name": "stdout",
     "output_type": "stream",
     "text": [
      "{'http': 'http://173.196.205.170:', 'https': 'https://173.196.205.170:'}\n",
      "Success\n",
      "{'http': 'http://154.85.35.235:8888', 'https': 'https://154.85.35.235:8888'}\n"
     ]
    },
    {
     "name": "stderr",
     "output_type": "stream",
     "text": [
      "\r",
      " 54%|████████████████████████████████████████████                                      | 43/80 [00:10<00:10,  3.67it/s]"
     ]
    },
    {
     "name": "stdout",
     "output_type": "stream",
     "text": [
      "Success\n",
      "{'http': 'http://186.233.186.60:', 'https': 'https://186.233.186.60:'}\n"
     ]
    },
    {
     "name": "stderr",
     "output_type": "stream",
     "text": [
      "\r",
      " 55%|█████████████████████████████████████████████                                     | 44/80 [00:11<00:09,  3.67it/s]"
     ]
    },
    {
     "name": "stdout",
     "output_type": "stream",
     "text": [
      "Success\n",
      "{'http': 'http://107.151.182.247:', 'https': 'https://107.151.182.247:'}\n"
     ]
    },
    {
     "name": "stderr",
     "output_type": "stream",
     "text": [
      " 57%|███████████████████████████████████████████████▏                                  | 46/80 [00:11<00:09,  3.70it/s]"
     ]
    },
    {
     "name": "stdout",
     "output_type": "stream",
     "text": [
      "Success\n",
      "{'http': 'http://20.47.108.204:8888', 'https': 'https://20.47.108.204:8888'}\n",
      "Success\n",
      "{'http': 'http://47.88.7.115:3129', 'https': 'https://47.88.7.115:3129'}\n"
     ]
    },
    {
     "name": "stderr",
     "output_type": "stream",
     "text": [
      " 60%|█████████████████████████████████████████████████▏                                | 48/80 [00:12<00:07,  4.48it/s]"
     ]
    },
    {
     "name": "stdout",
     "output_type": "stream",
     "text": [
      "Success\n",
      "{'http': 'http://72.47.152.224:55443', 'https': 'https://72.47.152.224:55443'}\n",
      "Success\n",
      "{'http': 'http://216.169.73.65:34679', 'https': 'https://216.169.73.65:34679'}\n"
     ]
    },
    {
     "name": "stderr",
     "output_type": "stream",
     "text": [
      "\r",
      " 61%|██████████████████████████████████████████████████▏                               | 49/80 [00:12<00:06,  4.77it/s]"
     ]
    },
    {
     "name": "stdout",
     "output_type": "stream",
     "text": [
      "Success\n",
      "{'http': 'http://104.192.202.11:', 'https': 'https://104.192.202.11:'}\n"
     ]
    },
    {
     "name": "stderr",
     "output_type": "stream",
     "text": [
      "\r",
      " 62%|███████████████████████████████████████████████████▎                              | 50/80 [00:12<00:06,  4.50it/s]"
     ]
    },
    {
     "name": "stdout",
     "output_type": "stream",
     "text": [
      "Success\n",
      "{'http': 'http://161.35.4.201:', 'https': 'https://161.35.4.201:'}\n"
     ]
    },
    {
     "name": "stderr",
     "output_type": "stream",
     "text": [
      "\r",
      " 64%|████████████████████████████████████████████████████▎                             | 51/80 [00:12<00:06,  4.23it/s]"
     ]
    },
    {
     "name": "stdout",
     "output_type": "stream",
     "text": [
      "Success\n",
      "{'http': 'http://204.16.1.169:82', 'https': 'https://204.16.1.169:82'}\n"
     ]
    },
    {
     "name": "stderr",
     "output_type": "stream",
     "text": [
      " 66%|██████████████████████████████████████████████████████▎                           | 53/80 [00:13<00:05,  4.54it/s]"
     ]
    },
    {
     "name": "stdout",
     "output_type": "stream",
     "text": [
      "Success\n",
      "{'http': 'http://173.196.205.170:', 'https': 'https://173.196.205.170:'}\n",
      "Success\n"
     ]
    },
    {
     "name": "stderr",
     "output_type": "stream",
     "text": [
      "\r",
      " 68%|███████████████████████████████████████████████████████▎                          | 54/80 [00:13<00:05,  4.91it/s]"
     ]
    },
    {
     "name": "stdout",
     "output_type": "stream",
     "text": [
      "{'http': 'http://132.145.195.93:', 'https': 'https://132.145.195.93:'}\n",
      "Success\n",
      "{'http': 'http://12.151.56.30:', 'https': 'https://12.151.56.30:'}\n"
     ]
    },
    {
     "name": "stderr",
     "output_type": "stream",
     "text": [
      " 70%|█████████████████████████████████████████████████████████▍                        | 56/80 [00:13<00:04,  5.06it/s]"
     ]
    },
    {
     "name": "stdout",
     "output_type": "stream",
     "text": [
      "Success\n",
      "{'http': 'http://72.47.152.224:55443', 'https': 'https://72.47.152.224:55443'}\n",
      "Success\n",
      "{'http': 'http://20.47.108.204:8888', 'https': 'https://20.47.108.204:8888'}\n"
     ]
    },
    {
     "name": "stderr",
     "output_type": "stream",
     "text": [
      " 72%|███████████████████████████████████████████████████████████▍                      | 58/80 [00:14<00:04,  4.98it/s]"
     ]
    },
    {
     "name": "stdout",
     "output_type": "stream",
     "text": [
      "Success\n",
      "{'http': 'http://20.47.108.204:8888', 'https': 'https://20.47.108.204:8888'}\n",
      "Success\n"
     ]
    },
    {
     "name": "stderr",
     "output_type": "stream",
     "text": [
      "\r",
      " 74%|████████████████████████████████████████████████████████████▍                     | 59/80 [00:14<00:04,  5.21it/s]"
     ]
    },
    {
     "name": "stdout",
     "output_type": "stream",
     "text": [
      "{'http': 'http://64.227.62.123:', 'https': 'https://64.227.62.123:'}\n",
      "Success\n",
      "{'http': 'http://3.230.91.35:', 'https': 'https://3.230.91.35:'}\n"
     ]
    },
    {
     "name": "stderr",
     "output_type": "stream",
     "text": [
      " 76%|██████████████████████████████████████████████████████████████▌                   | 61/80 [00:14<00:03,  5.62it/s]"
     ]
    },
    {
     "name": "stdout",
     "output_type": "stream",
     "text": [
      "Success\n",
      "{'http': 'http://161.35.4.201:', 'https': 'https://161.35.4.201:'}\n",
      "Success\n",
      "{'http': 'http://54.80.246.241:', 'https': 'https://54.80.246.241:'}\n"
     ]
    },
    {
     "name": "stderr",
     "output_type": "stream",
     "text": [
      " 79%|████████████████████████████████████████████████████████████████▌                 | 63/80 [00:15<00:03,  5.39it/s]"
     ]
    },
    {
     "name": "stdout",
     "output_type": "stream",
     "text": [
      "Success\n",
      "{'http': 'http://20.47.108.204:8888', 'https': 'https://20.47.108.204:8888'}\n",
      "Success\n"
     ]
    },
    {
     "name": "stderr",
     "output_type": "stream",
     "text": [
      "\r",
      " 80%|█████████████████████████████████████████████████████████████████▌                | 64/80 [00:15<00:02,  5.38it/s]"
     ]
    },
    {
     "name": "stdout",
     "output_type": "stream",
     "text": [
      "{'http': 'http://52.168.34.113:', 'https': 'https://52.168.34.113:'}\n",
      "Success\n"
     ]
    },
    {
     "name": "stderr",
     "output_type": "stream",
     "text": [
      "\r",
      " 81%|██████████████████████████████████████████████████████████████████▋               | 65/80 [00:15<00:02,  5.10it/s]"
     ]
    },
    {
     "name": "stdout",
     "output_type": "stream",
     "text": [
      "{'http': 'http://54.80.246.241:', 'https': 'https://54.80.246.241:'}\n",
      "Success\n"
     ]
    },
    {
     "name": "stderr",
     "output_type": "stream",
     "text": [
      "\r",
      " 82%|███████████████████████████████████████████████████████████████████▋              | 66/80 [00:15<00:02,  5.15it/s]"
     ]
    },
    {
     "name": "stdout",
     "output_type": "stream",
     "text": [
      "{'http': 'http://192.155.107.59:', 'https': 'https://192.155.107.59:'}\n",
      "Success\n"
     ]
    },
    {
     "name": "stderr",
     "output_type": "stream",
     "text": [
      "\r",
      " 84%|████████████████████████████████████████████████████████████████████▋             | 67/80 [00:15<00:02,  5.02it/s]"
     ]
    },
    {
     "name": "stdout",
     "output_type": "stream",
     "text": [
      "{'http': 'http://40.136.41.6:', 'https': 'https://40.136.41.6:'}\n",
      "Success\n"
     ]
    },
    {
     "name": "stderr",
     "output_type": "stream",
     "text": [
      "\r",
      " 85%|█████████████████████████████████████████████████████████████████████▋            | 68/80 [00:16<00:02,  4.91it/s]"
     ]
    },
    {
     "name": "stdout",
     "output_type": "stream",
     "text": [
      "{'http': 'http://107.151.182.247:', 'https': 'https://107.151.182.247:'}\n",
      "Success\n",
      "{'http': 'http://47.89.153.213:', 'https': 'https://47.89.153.213:'}\n"
     ]
    },
    {
     "name": "stderr",
     "output_type": "stream",
     "text": [
      "\r",
      " 86%|██████████████████████████████████████████████████████████████████████▋           | 69/80 [00:16<00:02,  4.68it/s]"
     ]
    },
    {
     "name": "stdout",
     "output_type": "stream",
     "text": [
      "Success\n",
      "{'http': 'http://23.225.64.59:1089', 'https': 'https://23.225.64.59:1089'}\n",
      "Success\n"
     ]
    },
    {
     "name": "stderr",
     "output_type": "stream",
     "text": [
      "\r",
      " 88%|███████████████████████████████████████████████████████████████████████▊          | 70/80 [00:16<00:02,  4.69it/s]"
     ]
    },
    {
     "name": "stdout",
     "output_type": "stream",
     "text": [
      "{'http': 'http://3.230.91.35:', 'https': 'https://3.230.91.35:'}\n"
     ]
    },
    {
     "name": "stderr",
     "output_type": "stream",
     "text": [
      " 90%|█████████████████████████████████████████████████████████████████████████▊        | 72/80 [00:17<00:02,  3.91it/s]"
     ]
    },
    {
     "name": "stdout",
     "output_type": "stream",
     "text": [
      "Success\n",
      "{'http': 'http://138.68.235.51:', 'https': 'https://138.68.235.51:'}\n",
      "Success\n",
      "{'http': 'http://208.72.154.111:8888', 'https': 'https://208.72.154.111:8888'}\n"
     ]
    },
    {
     "name": "stderr",
     "output_type": "stream",
     "text": [
      "\r",
      " 91%|██████████████████████████████████████████████████████████████████████████▊       | 73/80 [00:17<00:01,  4.30it/s]"
     ]
    },
    {
     "name": "stdout",
     "output_type": "stream",
     "text": [
      "Success\n",
      "{'http': 'http://192.155.107.60:', 'https': 'https://192.155.107.60:'}\n",
      "Success\n"
     ]
    },
    {
     "name": "stderr",
     "output_type": "stream",
     "text": [
      " 94%|████████████████████████████████████████████████████████████████████████████▉     | 75/80 [00:17<00:01,  4.69it/s]"
     ]
    },
    {
     "name": "stdout",
     "output_type": "stream",
     "text": [
      "{'http': 'http://173.196.205.170:', 'https': 'https://173.196.205.170:'}\n",
      "Success\n",
      "{'http': 'http://104.192.202.11:', 'https': 'https://104.192.202.11:'}\n"
     ]
    },
    {
     "name": "stderr",
     "output_type": "stream",
     "text": [
      " 96%|██████████████████████████████████████████████████████████████████████████████▉   | 77/80 [00:18<00:00,  4.92it/s]"
     ]
    },
    {
     "name": "stdout",
     "output_type": "stream",
     "text": [
      "Success\n",
      "{'http': 'http://54.244.204.46:', 'https': 'https://54.244.204.46:'}\n",
      "Success\n"
     ]
    },
    {
     "name": "stderr",
     "output_type": "stream",
     "text": [
      "\r",
      " 98%|███████████████████████████████████████████████████████████████████████████████▉  | 78/80 [00:18<00:00,  5.21it/s]"
     ]
    },
    {
     "name": "stdout",
     "output_type": "stream",
     "text": [
      "{'http': 'http://67.212.186.101:', 'https': 'https://67.212.186.101:'}\n",
      "Success\n",
      "{'http': 'http://159.65.69.186:9300', 'https': 'https://159.65.69.186:9300'}\n"
     ]
    },
    {
     "name": "stderr",
     "output_type": "stream",
     "text": [
      "100%|██████████████████████████████████████████████████████████████████████████████████| 80/80 [00:18<00:00,  4.90it/s]"
     ]
    },
    {
     "name": "stdout",
     "output_type": "stream",
     "text": [
      "Success\n",
      "{'http': 'http://216.169.73.65:34679', 'https': 'https://216.169.73.65:34679'}\n",
      "Success\n"
     ]
    },
    {
     "name": "stderr",
     "output_type": "stream",
     "text": [
      "100%|██████████████████████████████████████████████████████████████████████████████████| 80/80 [00:18<00:00,  4.28it/s]\n",
      "  0%|                                                                                          | 0/105 [00:00<?, ?it/s]"
     ]
    },
    {
     "name": "stdout",
     "output_type": "stream",
     "text": [
      "{'http': 'http://23.225.64.59:1089', 'https': 'https://23.225.64.59:1089'}\n"
     ]
    },
    {
     "name": "stderr",
     "output_type": "stream",
     "text": [
      "  2%|█▌                                                                                | 2/105 [00:00<00:20,  4.93it/s]"
     ]
    },
    {
     "name": "stdout",
     "output_type": "stream",
     "text": [
      "Success\n",
      "{'http': 'http://63.161.104.189:', 'https': 'https://63.161.104.189:'}\n",
      "Success\n",
      "{'http': 'http://161.35.4.201:', 'https': 'https://161.35.4.201:'}\n"
     ]
    },
    {
     "name": "stderr",
     "output_type": "stream",
     "text": [
      "  4%|███                                                                               | 4/105 [00:00<00:17,  5.79it/s]"
     ]
    },
    {
     "name": "stdout",
     "output_type": "stream",
     "text": [
      "Success\n",
      "{'http': 'http://72.47.152.224:55443', 'https': 'https://72.47.152.224:55443'}\n",
      "Success\n",
      "{'http': 'http://161.35.4.201:', 'https': 'https://161.35.4.201:'}\n"
     ]
    },
    {
     "name": "stderr",
     "output_type": "stream",
     "text": [
      "  6%|████▋                                                                             | 6/105 [00:01<00:16,  5.97it/s]"
     ]
    },
    {
     "name": "stdout",
     "output_type": "stream",
     "text": [
      "Success\n",
      "{'http': 'http://12.151.56.30:', 'https': 'https://12.151.56.30:'}\n",
      "Success\n",
      "{'http': 'http://216.169.73.65:34679', 'https': 'https://216.169.73.65:34679'}\n"
     ]
    },
    {
     "name": "stderr",
     "output_type": "stream",
     "text": [
      "  8%|██████▏                                                                           | 8/105 [00:01<00:15,  6.18it/s]"
     ]
    },
    {
     "name": "stdout",
     "output_type": "stream",
     "text": [
      "Success\n",
      "{'http': 'http://66.211.155.34:', 'https': 'https://66.211.155.34:'}\n",
      "Success\n",
      "{'http': 'http://3.217.161.14:', 'https': 'https://3.217.161.14:'}\n"
     ]
    },
    {
     "name": "stderr",
     "output_type": "stream",
     "text": [
      "\r",
      "  9%|███████                                                                           | 9/105 [00:01<00:16,  6.00it/s]"
     ]
    },
    {
     "name": "stdout",
     "output_type": "stream",
     "text": [
      "Success\n",
      "{'http': 'http://47.89.153.213:', 'https': 'https://47.89.153.213:'}\n"
     ]
    },
    {
     "name": "stderr",
     "output_type": "stream",
     "text": [
      "\r",
      " 10%|███████▋                                                                         | 10/105 [00:01<00:17,  5.48it/s]"
     ]
    },
    {
     "name": "stdout",
     "output_type": "stream",
     "text": [
      "Success\n",
      "{'http': 'http://186.233.186.60:', 'https': 'https://186.233.186.60:'}\n",
      "Success\n"
     ]
    },
    {
     "name": "stderr",
     "output_type": "stream",
     "text": [
      " 11%|█████████▎                                                                       | 12/105 [00:02<00:16,  5.55it/s]"
     ]
    },
    {
     "name": "stdout",
     "output_type": "stream",
     "text": [
      "{'http': 'http://12.151.56.30:', 'https': 'https://12.151.56.30:'}\n",
      "Success\n",
      "{'http': 'http://23.225.64.59:1089', 'https': 'https://23.225.64.59:1089'}\n"
     ]
    },
    {
     "name": "stderr",
     "output_type": "stream",
     "text": [
      " 13%|██████████▊                                                                      | 14/105 [00:02<00:15,  5.69it/s]"
     ]
    },
    {
     "name": "stdout",
     "output_type": "stream",
     "text": [
      "Success\n",
      "{'http': 'http://154.85.35.235:8888', 'https': 'https://154.85.35.235:8888'}\n",
      "Success\n",
      "{'http': 'http://54.244.204.46:', 'https': 'https://54.244.204.46:'}\n"
     ]
    },
    {
     "name": "stderr",
     "output_type": "stream",
     "text": [
      " 15%|████████████▎                                                                    | 16/105 [00:02<00:15,  5.80it/s]"
     ]
    },
    {
     "name": "stdout",
     "output_type": "stream",
     "text": [
      "Success\n",
      "{'http': 'http://104.192.202.11:', 'https': 'https://104.192.202.11:'}\n",
      "Success\n",
      "{'http': 'http://132.145.195.93:', 'https': 'https://132.145.195.93:'}\n"
     ]
    },
    {
     "name": "stderr",
     "output_type": "stream",
     "text": [
      " 17%|█████████████▉                                                                   | 18/105 [00:03<00:14,  5.88it/s]"
     ]
    },
    {
     "name": "stdout",
     "output_type": "stream",
     "text": [
      "Success\n",
      "{'http': 'http://47.88.7.115:3129', 'https': 'https://47.88.7.115:3129'}\n",
      "Success\n",
      "{'http': 'http://76.81.164.246:', 'https': 'https://76.81.164.246:'}\n"
     ]
    },
    {
     "name": "stderr",
     "output_type": "stream",
     "text": [
      " 19%|███████████████▍                                                                 | 20/105 [00:03<00:13,  6.28it/s]"
     ]
    },
    {
     "name": "stdout",
     "output_type": "stream",
     "text": [
      "Success\n",
      "{'http': 'http://3.230.91.35:', 'https': 'https://3.230.91.35:'}\n",
      "Success\n",
      "{'http': 'http://54.80.246.241:', 'https': 'https://54.80.246.241:'}\n"
     ]
    },
    {
     "name": "stderr",
     "output_type": "stream",
     "text": [
      "\r",
      " 20%|████████████████▏                                                                | 21/105 [00:03<00:13,  6.29it/s]"
     ]
    },
    {
     "name": "stdout",
     "output_type": "stream",
     "text": [
      "Success\n",
      "{'http': 'http://63.161.104.189:', 'https': 'https://63.161.104.189:'}\n"
     ]
    },
    {
     "name": "stderr",
     "output_type": "stream",
     "text": [
      "\r",
      " 21%|████████████████▉                                                                | 22/105 [00:03<00:17,  4.85it/s]"
     ]
    },
    {
     "name": "stdout",
     "output_type": "stream",
     "text": [
      "Success\n",
      "{'http': 'http://47.252.82.135:', 'https': 'https://47.252.82.135:'}\n",
      "Success\n"
     ]
    },
    {
     "name": "stderr",
     "output_type": "stream",
     "text": [
      " 23%|██████████████████▌                                                              | 24/105 [00:04<00:15,  5.26it/s]"
     ]
    },
    {
     "name": "stdout",
     "output_type": "stream",
     "text": [
      "{'http': 'http://52.168.34.113:', 'https': 'https://52.168.34.113:'}\n",
      "Success\n",
      "{'http': 'http://54.244.204.46:', 'https': 'https://54.244.204.46:'}\n"
     ]
    },
    {
     "name": "stderr",
     "output_type": "stream",
     "text": [
      " 25%|████████████████████                                                             | 26/105 [00:04<00:14,  5.59it/s]"
     ]
    },
    {
     "name": "stdout",
     "output_type": "stream",
     "text": [
      "Success\n",
      "{'http': 'http://63.161.104.189:', 'https': 'https://63.161.104.189:'}\n",
      "Success\n",
      "{'http': 'http://161.35.4.201:', 'https': 'https://161.35.4.201:'}\n"
     ]
    },
    {
     "name": "stderr",
     "output_type": "stream",
     "text": [
      " 27%|█████████████████████▌                                                           | 28/105 [00:04<00:13,  5.66it/s]"
     ]
    },
    {
     "name": "stdout",
     "output_type": "stream",
     "text": [
      "Success\n",
      "{'http': 'http://66.211.155.34:', 'https': 'https://66.211.155.34:'}\n",
      "Success\n"
     ]
    },
    {
     "name": "stderr",
     "output_type": "stream",
     "text": [
      "\r",
      " 28%|██████████████████████▎                                                          | 29/105 [00:05<00:13,  5.64it/s]"
     ]
    },
    {
     "name": "stdout",
     "output_type": "stream",
     "text": [
      "{'http': 'http://154.85.35.235:8888', 'https': 'https://154.85.35.235:8888'}\n",
      "Success\n"
     ]
    },
    {
     "name": "stderr",
     "output_type": "stream",
     "text": [
      "\r",
      " 29%|███████████████████████▏                                                         | 30/105 [00:05<00:13,  5.43it/s]"
     ]
    },
    {
     "name": "stdout",
     "output_type": "stream",
     "text": [
      "{'http': 'http://3.217.161.14:', 'https': 'https://3.217.161.14:'}\n",
      "Success\n"
     ]
    },
    {
     "name": "stderr",
     "output_type": "stream",
     "text": [
      "\r",
      " 30%|███████████████████████▉                                                         | 31/105 [00:05<00:13,  5.38it/s]"
     ]
    },
    {
     "name": "stdout",
     "output_type": "stream",
     "text": [
      "{'http': 'http://192.155.107.60:', 'https': 'https://192.155.107.60:'}\n",
      "Success\n",
      "{'http': 'http://208.72.154.111:8888', 'https': 'https://208.72.154.111:8888'}\n"
     ]
    },
    {
     "name": "stderr",
     "output_type": "stream",
     "text": [
      " 31%|█████████████████████████▍                                                       | 33/105 [00:05<00:13,  5.25it/s]"
     ]
    },
    {
     "name": "stdout",
     "output_type": "stream",
     "text": [
      "Success\n",
      "{'http': 'http://12.151.56.30:', 'https': 'https://12.151.56.30:'}\n",
      "Success\n",
      "{'http': 'http://107.151.182.247:', 'https': 'https://107.151.182.247:'}\n"
     ]
    },
    {
     "name": "stderr",
     "output_type": "stream",
     "text": [
      " 33%|███████████████████████████                                                      | 35/105 [00:06<00:15,  4.62it/s]"
     ]
    },
    {
     "name": "stdout",
     "output_type": "stream",
     "text": [
      "Success\n",
      "{'http': 'http://3.217.161.14:', 'https': 'https://3.217.161.14:'}\n",
      "Success\n"
     ]
    },
    {
     "name": "stderr",
     "output_type": "stream",
     "text": [
      "\r",
      " 34%|███████████████████████████▊                                                     | 36/105 [00:06<00:13,  4.95it/s]"
     ]
    },
    {
     "name": "stdout",
     "output_type": "stream",
     "text": [
      "{'http': 'http://74.205.128.200:', 'https': 'https://74.205.128.200:'}\n",
      "Success\n",
      "{'http': 'http://76.81.164.246:', 'https': 'https://76.81.164.246:'}\n"
     ]
    },
    {
     "name": "stderr",
     "output_type": "stream",
     "text": [
      " 36%|█████████████████████████████▎                                                   | 38/105 [00:07<00:13,  5.02it/s]"
     ]
    },
    {
     "name": "stdout",
     "output_type": "stream",
     "text": [
      "Success\n",
      "{'http': 'http://3.217.161.14:', 'https': 'https://3.217.161.14:'}\n",
      "Success\n"
     ]
    },
    {
     "name": "stderr",
     "output_type": "stream",
     "text": [
      "\r",
      " 37%|██████████████████████████████                                                   | 39/105 [00:07<00:13,  4.97it/s]"
     ]
    },
    {
     "name": "stdout",
     "output_type": "stream",
     "text": [
      "{'http': 'http://3.217.161.14:', 'https': 'https://3.217.161.14:'}\n",
      "Success\n"
     ]
    },
    {
     "name": "stderr",
     "output_type": "stream",
     "text": [
      "\r",
      " 38%|██████████████████████████████▊                                                  | 40/105 [00:07<00:12,  5.04it/s]"
     ]
    },
    {
     "name": "stdout",
     "output_type": "stream",
     "text": [
      "{'http': 'http://64.227.62.123:', 'https': 'https://64.227.62.123:'}\n",
      "Success\n"
     ]
    },
    {
     "name": "stderr",
     "output_type": "stream",
     "text": [
      "\r",
      " 39%|███████████████████████████████▋                                                 | 41/105 [00:07<00:12,  5.20it/s]"
     ]
    },
    {
     "name": "stdout",
     "output_type": "stream",
     "text": [
      "{'http': 'http://54.80.246.241:', 'https': 'https://54.80.246.241:'}\n",
      "Success\n",
      "{'http': 'http://216.169.73.65:34679', 'https': 'https://216.169.73.65:34679'}\n"
     ]
    },
    {
     "name": "stderr",
     "output_type": "stream",
     "text": [
      "\r",
      " 40%|████████████████████████████████▍                                                | 42/105 [00:07<00:14,  4.49it/s]"
     ]
    },
    {
     "name": "stdout",
     "output_type": "stream",
     "text": [
      "Success\n",
      "{'http': 'http://186.233.186.60:', 'https': 'https://186.233.186.60:'}\n"
     ]
    },
    {
     "name": "stderr",
     "output_type": "stream",
     "text": [
      " 42%|█████████████████████████████████▉                                               | 44/105 [00:08<00:12,  4.73it/s]"
     ]
    },
    {
     "name": "stdout",
     "output_type": "stream",
     "text": [
      "Success\n",
      "{'http': 'http://3.217.161.14:', 'https': 'https://3.217.161.14:'}\n",
      "Success\n",
      "{'http': 'http://63.161.104.189:', 'https': 'https://63.161.104.189:'}\n",
      "Success\n"
     ]
    },
    {
     "name": "stderr",
     "output_type": "stream",
     "text": [
      " 44%|███████████████████████████████████▍                                             | 46/105 [00:08<00:12,  4.71it/s]"
     ]
    },
    {
     "name": "stdout",
     "output_type": "stream",
     "text": [
      "{'http': 'http://74.205.128.200:', 'https': 'https://74.205.128.200:'}\n",
      "Success\n",
      "{'http': 'http://72.47.152.224:55443', 'https': 'https://72.47.152.224:55443'}\n"
     ]
    },
    {
     "name": "stderr",
     "output_type": "stream",
     "text": [
      " 46%|█████████████████████████████████████                                            | 48/105 [00:09<00:11,  5.17it/s]"
     ]
    },
    {
     "name": "stdout",
     "output_type": "stream",
     "text": [
      "Success\n",
      "{'http': 'http://3.217.161.14:', 'https': 'https://3.217.161.14:'}\n",
      "Success\n",
      "{'http': 'http://161.35.4.201:', 'https': 'https://161.35.4.201:'}\n"
     ]
    },
    {
     "name": "stderr",
     "output_type": "stream",
     "text": [
      " 48%|██████████████████████████████████████▌                                          | 50/105 [00:09<00:09,  5.65it/s]"
     ]
    },
    {
     "name": "stdout",
     "output_type": "stream",
     "text": [
      "Success\n",
      "{'http': 'http://64.227.62.123:', 'https': 'https://64.227.62.123:'}\n",
      "Success\n",
      "{'http': 'http://76.81.164.246:', 'https': 'https://76.81.164.246:'}\n"
     ]
    },
    {
     "name": "stderr",
     "output_type": "stream",
     "text": [
      "\r",
      " 49%|███████████████████████████████████████▎                                         | 51/105 [00:09<00:09,  5.86it/s]"
     ]
    },
    {
     "name": "stdout",
     "output_type": "stream",
     "text": [
      "Success\n",
      "{'http': 'http://20.47.108.204:8888', 'https': 'https://20.47.108.204:8888'}\n"
     ]
    },
    {
     "name": "stderr",
     "output_type": "stream",
     "text": [
      "\r",
      " 50%|████████████████████████████████████████                                         | 52/105 [00:09<00:10,  5.14it/s]"
     ]
    },
    {
     "name": "stdout",
     "output_type": "stream",
     "text": [
      "Success\n",
      "{'http': 'http://72.47.152.224:55443', 'https': 'https://72.47.152.224:55443'}\n"
     ]
    },
    {
     "name": "stderr",
     "output_type": "stream",
     "text": [
      " 51%|█████████████████████████████████████████▋                                       | 54/105 [00:10<00:10,  5.08it/s]"
     ]
    },
    {
     "name": "stdout",
     "output_type": "stream",
     "text": [
      "Success\n",
      "{'http': 'http://66.211.155.34:', 'https': 'https://66.211.155.34:'}\n",
      "Success\n"
     ]
    },
    {
     "name": "stderr",
     "output_type": "stream",
     "text": [
      "\r",
      " 52%|██████████████████████████████████████████▍                                      | 55/105 [00:10<00:09,  5.31it/s]"
     ]
    },
    {
     "name": "stdout",
     "output_type": "stream",
     "text": [
      "{'http': 'http://63.161.104.189:', 'https': 'https://63.161.104.189:'}\n",
      "Success\n",
      "{'http': 'http://47.89.153.213:', 'https': 'https://47.89.153.213:'}\n"
     ]
    },
    {
     "name": "stderr",
     "output_type": "stream",
     "text": [
      " 54%|███████████████████████████████████████████▉                                     | 57/105 [00:10<00:09,  5.28it/s]"
     ]
    },
    {
     "name": "stdout",
     "output_type": "stream",
     "text": [
      "Success\n",
      "{'http': 'http://66.211.155.34:', 'https': 'https://66.211.155.34:'}\n",
      "Success\n"
     ]
    },
    {
     "name": "stderr",
     "output_type": "stream",
     "text": [
      "\r",
      " 55%|████████████████████████████████████████████▋                                    | 58/105 [00:10<00:08,  5.29it/s]"
     ]
    },
    {
     "name": "stdout",
     "output_type": "stream",
     "text": [
      "{'http': 'http://12.151.56.30:', 'https': 'https://12.151.56.30:'}\n",
      "Success\n"
     ]
    },
    {
     "name": "stderr",
     "output_type": "stream",
     "text": [
      "\r",
      " 56%|█████████████████████████████████████████████▌                                   | 59/105 [00:11<00:08,  5.53it/s]"
     ]
    },
    {
     "name": "stdout",
     "output_type": "stream",
     "text": [
      "{'http': 'http://107.151.182.247:', 'https': 'https://107.151.182.247:'}\n",
      "Success\n",
      "{'http': 'http://192.155.107.60:', 'https': 'https://192.155.107.60:'}\n"
     ]
    },
    {
     "name": "stderr",
     "output_type": "stream",
     "text": [
      "\r",
      " 57%|██████████████████████████████████████████████▎                                  | 60/105 [00:11<00:07,  5.73it/s]"
     ]
    },
    {
     "name": "stdout",
     "output_type": "stream",
     "text": [
      "Success\n",
      "{'http': 'http://208.72.154.111:8888', 'https': 'https://208.72.154.111:8888'}\n",
      "Success\n"
     ]
    },
    {
     "name": "stderr",
     "output_type": "stream",
     "text": [
      "\r",
      " 58%|███████████████████████████████████████████████                                  | 61/105 [00:11<00:08,  5.43it/s]"
     ]
    },
    {
     "name": "stdout",
     "output_type": "stream",
     "text": [
      "{'http': 'http://47.89.153.213:', 'https': 'https://47.89.153.213:'}\n"
     ]
    },
    {
     "name": "stderr",
     "output_type": "stream",
     "text": [
      "\r",
      " 59%|███████████████████████████████████████████████▊                                 | 62/105 [00:11<00:08,  5.19it/s]"
     ]
    },
    {
     "name": "stdout",
     "output_type": "stream",
     "text": [
      "Success\n",
      "{'http': 'http://216.169.73.65:34679', 'https': 'https://216.169.73.65:34679'}\n"
     ]
    },
    {
     "name": "stderr",
     "output_type": "stream",
     "text": [
      " 61%|█████████████████████████████████████████████████▎                               | 64/105 [00:12<00:09,  4.48it/s]"
     ]
    },
    {
     "name": "stdout",
     "output_type": "stream",
     "text": [
      "Success\n",
      "{'http': 'http://64.227.62.123:', 'https': 'https://64.227.62.123:'}\n",
      "Success\n",
      "{'http': 'http://3.230.91.35:', 'https': 'https://3.230.91.35:'}\n"
     ]
    },
    {
     "name": "stderr",
     "output_type": "stream",
     "text": [
      " 63%|██████████████████████████████████████████████████▉                              | 66/105 [00:12<00:07,  5.27it/s]"
     ]
    },
    {
     "name": "stdout",
     "output_type": "stream",
     "text": [
      "Success\n",
      "{'http': 'http://54.80.246.241:', 'https': 'https://54.80.246.241:'}\n",
      "Success\n",
      "{'http': 'http://63.161.104.189:', 'https': 'https://63.161.104.189:'}\n"
     ]
    },
    {
     "name": "stderr",
     "output_type": "stream",
     "text": [
      "\r",
      " 64%|███████████████████████████████████████████████████▋                             | 67/105 [00:12<00:07,  5.40it/s]"
     ]
    },
    {
     "name": "stdout",
     "output_type": "stream",
     "text": [
      "Success\n",
      "{'http': 'http://161.35.4.201:', 'https': 'https://161.35.4.201:'}\n"
     ]
    },
    {
     "name": "stderr",
     "output_type": "stream",
     "text": [
      " 66%|█████████████████████████████████████████████████████▏                           | 69/105 [00:13<00:08,  4.43it/s]"
     ]
    },
    {
     "name": "stdout",
     "output_type": "stream",
     "text": [
      "Success\n",
      "{'http': 'http://204.16.1.169:82', 'https': 'https://204.16.1.169:82'}\n",
      "Success\n",
      "{'http': 'http://159.65.69.186:9300', 'https': 'https://159.65.69.186:9300'}\n"
     ]
    },
    {
     "name": "stderr",
     "output_type": "stream",
     "text": [
      " 68%|██████████████████████████████████████████████████████▊                          | 71/105 [00:13<00:06,  5.01it/s]"
     ]
    },
    {
     "name": "stdout",
     "output_type": "stream",
     "text": [
      "Success\n",
      "{'http': 'http://74.205.128.200:', 'https': 'https://74.205.128.200:'}\n",
      "Success\n",
      "{'http': 'http://20.47.108.204:8888', 'https': 'https://20.47.108.204:8888'}\n"
     ]
    },
    {
     "name": "stderr",
     "output_type": "stream",
     "text": [
      " 70%|████████████████████████████████████████████████████████▎                        | 73/105 [00:14<00:06,  4.76it/s]"
     ]
    },
    {
     "name": "stdout",
     "output_type": "stream",
     "text": [
      "Success\n",
      "{'http': 'http://161.35.4.201:', 'https': 'https://161.35.4.201:'}\n",
      "Success\n",
      "{'http': 'http://138.68.235.51:', 'https': 'https://138.68.235.51:'}\n"
     ]
    },
    {
     "name": "stderr",
     "output_type": "stream",
     "text": [
      " 71%|█████████████████████████████████████████████████████████▊                       | 75/105 [00:14<00:05,  5.45it/s]"
     ]
    },
    {
     "name": "stdout",
     "output_type": "stream",
     "text": [
      "Success\n",
      "{'http': 'http://204.16.1.169:82', 'https': 'https://204.16.1.169:82'}\n",
      "Success\n",
      "{'http': 'http://47.89.153.213:', 'https': 'https://47.89.153.213:'}\n"
     ]
    },
    {
     "name": "stderr",
     "output_type": "stream",
     "text": [
      " 73%|███████████████████████████████████████████████████████████▍                     | 77/105 [00:14<00:04,  5.73it/s]"
     ]
    },
    {
     "name": "stdout",
     "output_type": "stream",
     "text": [
      "Success\n",
      "{'http': 'http://47.89.153.213:', 'https': 'https://47.89.153.213:'}\n",
      "Success\n",
      "{'http': 'http://54.80.246.241:', 'https': 'https://54.80.246.241:'}\n"
     ]
    },
    {
     "name": "stderr",
     "output_type": "stream",
     "text": [
      " 75%|████████████████████████████████████████████████████████████▉                    | 79/105 [00:15<00:04,  5.81it/s]"
     ]
    },
    {
     "name": "stdout",
     "output_type": "stream",
     "text": [
      "Success\n",
      "{'http': 'http://67.212.186.101:', 'https': 'https://67.212.186.101:'}\n",
      "Success\n",
      "{'http': 'http://23.225.64.59:1089', 'https': 'https://23.225.64.59:1089'}\n"
     ]
    },
    {
     "name": "stderr",
     "output_type": "stream",
     "text": [
      "\r",
      " 76%|█████████████████████████████████████████████████████████████▋                   | 80/105 [00:15<00:04,  5.52it/s]"
     ]
    },
    {
     "name": "stdout",
     "output_type": "stream",
     "text": [
      "Success\n",
      "{'http': 'http://159.65.69.186:9300', 'https': 'https://159.65.69.186:9300'}\n",
      "Success\n"
     ]
    },
    {
     "name": "stderr",
     "output_type": "stream",
     "text": [
      "\r",
      " 77%|██████████████████████████████████████████████████████████████▍                  | 81/105 [00:15<00:04,  5.31it/s]"
     ]
    },
    {
     "name": "stdout",
     "output_type": "stream",
     "text": [
      "{'http': 'http://107.151.182.247:', 'https': 'https://107.151.182.247:'}\n"
     ]
    },
    {
     "name": "stderr",
     "output_type": "stream",
     "text": [
      "\r",
      " 78%|███████████████████████████████████████████████████████████████▎                 | 82/105 [00:15<00:05,  4.56it/s]"
     ]
    },
    {
     "name": "stdout",
     "output_type": "stream",
     "text": [
      "Success\n",
      "{'http': 'http://204.16.1.169:82', 'https': 'https://204.16.1.169:82'}\n"
     ]
    },
    {
     "name": "stderr",
     "output_type": "stream",
     "text": [
      " 80%|████████████████████████████████████████████████████████████████▊                | 84/105 [00:16<00:04,  4.36it/s]"
     ]
    },
    {
     "name": "stdout",
     "output_type": "stream",
     "text": [
      "Success\n",
      "{'http': 'http://3.230.91.35:', 'https': 'https://3.230.91.35:'}\n",
      "Success\n"
     ]
    },
    {
     "name": "stderr",
     "output_type": "stream",
     "text": [
      "\r",
      " 81%|█████████████████████████████████████████████████████████████████▌               | 85/105 [00:16<00:04,  4.62it/s]"
     ]
    },
    {
     "name": "stdout",
     "output_type": "stream",
     "text": [
      "{'http': 'http://52.168.34.113:', 'https': 'https://52.168.34.113:'}\n",
      "Success\n"
     ]
    },
    {
     "name": "stderr",
     "output_type": "stream",
     "text": [
      "\r",
      " 82%|██████████████████████████████████████████████████████████████████▎              | 86/105 [00:16<00:04,  4.67it/s]"
     ]
    },
    {
     "name": "stdout",
     "output_type": "stream",
     "text": [
      "{'http': 'http://159.65.69.186:9300', 'https': 'https://159.65.69.186:9300'}\n",
      "Success\n"
     ]
    },
    {
     "name": "stderr",
     "output_type": "stream",
     "text": [
      "\r",
      " 83%|███████████████████████████████████████████████████████████████████              | 87/105 [00:16<00:03,  4.83it/s]"
     ]
    },
    {
     "name": "stdout",
     "output_type": "stream",
     "text": [
      "{'http': 'http://66.211.155.34:', 'https': 'https://66.211.155.34:'}\n",
      "Success\n"
     ]
    },
    {
     "name": "stderr",
     "output_type": "stream",
     "text": [
      "\r",
      " 84%|███████████████████████████████████████████████████████████████████▉             | 88/105 [00:17<00:03,  5.09it/s]"
     ]
    },
    {
     "name": "stdout",
     "output_type": "stream",
     "text": [
      "{'http': 'http://186.233.186.60:', 'https': 'https://186.233.186.60:'}\n",
      "Success\n",
      "{'http': 'http://47.89.153.213:', 'https': 'https://47.89.153.213:'}\n"
     ]
    },
    {
     "name": "stderr",
     "output_type": "stream",
     "text": [
      " 86%|█████████████████████████████████████████████████████████████████████▍           | 90/105 [00:17<00:02,  5.54it/s]"
     ]
    },
    {
     "name": "stdout",
     "output_type": "stream",
     "text": [
      "Success\n",
      "{'http': 'http://107.151.182.247:', 'https': 'https://107.151.182.247:'}\n",
      "Success\n",
      "{'http': 'http://76.81.164.246:', 'https': 'https://76.81.164.246:'}\n"
     ]
    },
    {
     "name": "stderr",
     "output_type": "stream",
     "text": [
      "\r",
      " 87%|██████████████████████████████████████████████████████████████████████▏          | 91/105 [00:17<00:02,  5.73it/s]"
     ]
    },
    {
     "name": "stdout",
     "output_type": "stream",
     "text": [
      "Success\n",
      "{'http': 'http://66.211.155.34:', 'https': 'https://66.211.155.34:'}\n"
     ]
    },
    {
     "name": "stderr",
     "output_type": "stream",
     "text": [
      " 89%|███████████████████████████████████████████████████████████████████████▋         | 93/105 [00:18<00:04,  2.64it/s]"
     ]
    },
    {
     "name": "stdout",
     "output_type": "stream",
     "text": [
      "Success\n",
      "{'http': 'http://74.205.128.200:', 'https': 'https://74.205.128.200:'}\n",
      "Success\n",
      "{'http': 'http://192.155.107.59:', 'https': 'https://192.155.107.59:'}\n"
     ]
    },
    {
     "name": "stderr",
     "output_type": "stream",
     "text": [
      " 90%|█████████████████████████████████████████████████████████████████████████▎       | 95/105 [00:19<00:02,  3.71it/s]"
     ]
    },
    {
     "name": "stdout",
     "output_type": "stream",
     "text": [
      "Success\n",
      "{'http': 'http://74.205.128.200:', 'https': 'https://74.205.128.200:'}\n",
      "Success\n",
      "{'http': 'http://47.88.7.115:3129', 'https': 'https://47.88.7.115:3129'}\n"
     ]
    },
    {
     "name": "stderr",
     "output_type": "stream",
     "text": [
      " 92%|██████████████████████████████████████████████████████████████████████████▊      | 97/105 [00:19<00:02,  3.90it/s]"
     ]
    },
    {
     "name": "stdout",
     "output_type": "stream",
     "text": [
      "Success\n",
      "{'http': 'http://54.244.204.46:', 'https': 'https://54.244.204.46:'}\n",
      "Success\n",
      "{'http': 'http://3.217.161.14:', 'https': 'https://3.217.161.14:'}\n"
     ]
    },
    {
     "name": "stderr",
     "output_type": "stream",
     "text": [
      " 94%|████████████████████████████████████████████████████████████████████████████▎    | 99/105 [00:20<00:01,  4.13it/s]"
     ]
    },
    {
     "name": "stdout",
     "output_type": "stream",
     "text": [
      "Success\n",
      "{'http': 'http://208.72.154.111:8888', 'https': 'https://208.72.154.111:8888'}\n",
      "Success\n"
     ]
    },
    {
     "name": "stderr",
     "output_type": "stream",
     "text": [
      "\r",
      " 95%|████████████████████████████████████████████████████████████████████████████▏   | 100/105 [00:20<00:01,  4.42it/s]"
     ]
    },
    {
     "name": "stdout",
     "output_type": "stream",
     "text": [
      "{'http': 'http://72.47.152.224:55443', 'https': 'https://72.47.152.224:55443'}\n",
      "Success\n"
     ]
    },
    {
     "name": "stderr",
     "output_type": "stream",
     "text": [
      "\r",
      " 96%|████████████████████████████████████████████████████████████████████████████▉   | 101/105 [00:20<00:00,  4.72it/s]"
     ]
    },
    {
     "name": "stdout",
     "output_type": "stream",
     "text": [
      "{'http': 'http://154.85.35.235:8888', 'https': 'https://154.85.35.235:8888'}\n",
      "Success\n",
      "{'http': 'http://192.155.107.59:', 'https': 'https://192.155.107.59:'}\n"
     ]
    },
    {
     "name": "stderr",
     "output_type": "stream",
     "text": [
      "\r",
      " 97%|█████████████████████████████████████████████████████████████████████████████▋  | 102/105 [00:20<00:00,  5.02it/s]"
     ]
    },
    {
     "name": "stdout",
     "output_type": "stream",
     "text": [
      "Success\n",
      "{'http': 'http://76.81.164.246:', 'https': 'https://76.81.164.246:'}\n"
     ]
    },
    {
     "name": "stderr",
     "output_type": "stream",
     "text": [
      " 99%|███████████████████████████████████████████████████████████████████████████████▏| 104/105 [00:21<00:00,  3.97it/s]"
     ]
    },
    {
     "name": "stdout",
     "output_type": "stream",
     "text": [
      "Success\n",
      "{'http': 'http://107.151.182.247:', 'https': 'https://107.151.182.247:'}\n",
      "Success\n",
      "{'http': 'http://50.235.149.74:', 'https': 'https://50.235.149.74:'}\n"
     ]
    },
    {
     "name": "stderr",
     "output_type": "stream",
     "text": [
      "100%|████████████████████████████████████████████████████████████████████████████████| 105/105 [00:21<00:00,  4.78it/s]"
     ]
    },
    {
     "name": "stdout",
     "output_type": "stream",
     "text": [
      "Success\n"
     ]
    },
    {
     "name": "stderr",
     "output_type": "stream",
     "text": [
      "\n",
      "  0%|                                                                                           | 0/84 [00:00<?, ?it/s]"
     ]
    },
    {
     "name": "stdout",
     "output_type": "stream",
     "text": [
      "{'http': 'http://47.89.153.213:', 'https': 'https://47.89.153.213:'}\n"
     ]
    },
    {
     "name": "stderr",
     "output_type": "stream",
     "text": [
      "\r",
      "  1%|▉                                                                                  | 1/84 [00:00<00:21,  3.95it/s]"
     ]
    },
    {
     "name": "stdout",
     "output_type": "stream",
     "text": [
      "Success\n",
      "{'http': 'http://54.244.204.46:', 'https': 'https://54.244.204.46:'}\n"
     ]
    },
    {
     "name": "stderr",
     "output_type": "stream",
     "text": [
      "\r",
      "  2%|█▉                                                                                 | 2/84 [00:00<00:20,  4.05it/s]"
     ]
    },
    {
     "name": "stdout",
     "output_type": "stream",
     "text": [
      "Success\n",
      "{'http': 'http://63.161.104.189:', 'https': 'https://63.161.104.189:'}\n"
     ]
    },
    {
     "name": "stderr",
     "output_type": "stream",
     "text": [
      "\r",
      "  4%|██▉                                                                                | 3/84 [00:00<00:19,  4.15it/s]"
     ]
    },
    {
     "name": "stdout",
     "output_type": "stream",
     "text": [
      "Success\n",
      "{'http': 'http://64.227.62.123:', 'https': 'https://64.227.62.123:'}\n",
      "Success\n"
     ]
    },
    {
     "name": "stderr",
     "output_type": "stream",
     "text": [
      "  6%|████▉                                                                              | 5/84 [00:01<00:17,  4.48it/s]"
     ]
    },
    {
     "name": "stdout",
     "output_type": "stream",
     "text": [
      "{'http': 'http://63.161.104.189:', 'https': 'https://63.161.104.189:'}\n",
      "Success\n"
     ]
    },
    {
     "name": "stderr",
     "output_type": "stream",
     "text": [
      "\r",
      "  7%|█████▉                                                                             | 6/84 [00:01<00:16,  4.85it/s]"
     ]
    },
    {
     "name": "stdout",
     "output_type": "stream",
     "text": [
      "{'http': 'http://74.205.128.200:', 'https': 'https://74.205.128.200:'}\n",
      "Success\n",
      "{'http': 'http://132.145.195.93:', 'https': 'https://132.145.195.93:'}\n"
     ]
    },
    {
     "name": "stderr",
     "output_type": "stream",
     "text": [
      "\r",
      "  8%|██████▉                                                                            | 7/84 [00:01<00:15,  4.89it/s]"
     ]
    },
    {
     "name": "stdout",
     "output_type": "stream",
     "text": [
      "Success\n",
      "{'http': 'http://23.225.64.59:1089', 'https': 'https://23.225.64.59:1089'}\n"
     ]
    },
    {
     "name": "stderr",
     "output_type": "stream",
     "text": [
      "\r",
      " 10%|███████▉                                                                           | 8/84 [00:01<00:16,  4.49it/s]"
     ]
    },
    {
     "name": "stdout",
     "output_type": "stream",
     "text": [
      "Success\n",
      "{'http': 'http://204.16.1.169:82', 'https': 'https://204.16.1.169:82'}\n"
     ]
    },
    {
     "name": "stderr",
     "output_type": "stream",
     "text": [
      "\r",
      " 11%|████████▉                                                                          | 9/84 [00:02<00:18,  4.14it/s]"
     ]
    },
    {
     "name": "stdout",
     "output_type": "stream",
     "text": [
      "Success\n",
      "{'http': 'http://3.217.161.14:', 'https': 'https://3.217.161.14:'}\n",
      "Success\n"
     ]
    },
    {
     "name": "stderr",
     "output_type": "stream",
     "text": [
      "\r",
      " 12%|█████████▊                                                                        | 10/84 [00:02<00:16,  4.40it/s]"
     ]
    },
    {
     "name": "stdout",
     "output_type": "stream",
     "text": [
      "{'http': 'http://63.161.104.189:', 'https': 'https://63.161.104.189:'}\n",
      "Success\n"
     ]
    },
    {
     "name": "stderr",
     "output_type": "stream",
     "text": [
      " 14%|███████████▋                                                                      | 12/84 [00:02<00:15,  4.60it/s]"
     ]
    },
    {
     "name": "stdout",
     "output_type": "stream",
     "text": [
      "{'http': 'http://63.161.104.189:', 'https': 'https://63.161.104.189:'}\n",
      "Success\n"
     ]
    },
    {
     "name": "stderr",
     "output_type": "stream",
     "text": [
      "\r",
      " 15%|████████████▋                                                                     | 13/84 [00:02<00:14,  4.82it/s]"
     ]
    },
    {
     "name": "stdout",
     "output_type": "stream",
     "text": [
      "{'http': 'http://104.192.202.11:', 'https': 'https://104.192.202.11:'}\n",
      "Success\n"
     ]
    },
    {
     "name": "stderr",
     "output_type": "stream",
     "text": [
      "\r",
      " 17%|█████████████▋                                                                    | 14/84 [00:03<00:13,  5.00it/s]"
     ]
    },
    {
     "name": "stdout",
     "output_type": "stream",
     "text": [
      "{'http': 'http://74.205.128.200:', 'https': 'https://74.205.128.200:'}\n",
      "Success\n"
     ]
    },
    {
     "name": "stderr",
     "output_type": "stream",
     "text": [
      "\r",
      " 18%|██████████████▋                                                                   | 15/84 [00:03<00:13,  5.10it/s]"
     ]
    },
    {
     "name": "stdout",
     "output_type": "stream",
     "text": [
      "{'http': 'http://40.136.41.6:', 'https': 'https://40.136.41.6:'}\n",
      "Success\n"
     ]
    },
    {
     "name": "stderr",
     "output_type": "stream",
     "text": [
      "\r",
      " 19%|███████████████▌                                                                  | 16/84 [00:03<00:12,  5.34it/s]"
     ]
    },
    {
     "name": "stdout",
     "output_type": "stream",
     "text": [
      "{'http': 'http://67.212.186.101:', 'https': 'https://67.212.186.101:'}\n",
      "Success\n",
      "{'http': 'http://216.169.73.65:34679', 'https': 'https://216.169.73.65:34679'}\n"
     ]
    },
    {
     "name": "stderr",
     "output_type": "stream",
     "text": [
      " 21%|█████████████████▌                                                                | 18/84 [00:03<00:12,  5.32it/s]"
     ]
    },
    {
     "name": "stdout",
     "output_type": "stream",
     "text": [
      "Success\n",
      "{'http': 'http://208.72.154.111:8888', 'https': 'https://208.72.154.111:8888'}\n",
      "Success\n",
      "{'http': 'http://66.211.155.34:', 'https': 'https://66.211.155.34:'}\n"
     ]
    },
    {
     "name": "stderr",
     "output_type": "stream",
     "text": [
      "\r",
      " 23%|██████████████████▌                                                               | 19/84 [00:04<00:13,  4.86it/s]"
     ]
    },
    {
     "name": "stdout",
     "output_type": "stream",
     "text": [
      "Success\n",
      "{'http': 'http://173.196.205.170:', 'https': 'https://173.196.205.170:'}\n"
     ]
    },
    {
     "name": "stderr",
     "output_type": "stream",
     "text": [
      "\r",
      " 24%|███████████████████▌                                                              | 20/84 [00:04<00:13,  4.86it/s]"
     ]
    },
    {
     "name": "stdout",
     "output_type": "stream",
     "text": [
      "Success\n",
      "{'http': 'http://161.35.4.201:', 'https': 'https://161.35.4.201:'}\n",
      "Success\n"
     ]
    },
    {
     "name": "stderr",
     "output_type": "stream",
     "text": [
      " 26%|█████████████████████▍                                                            | 22/84 [00:04<00:13,  4.70it/s]"
     ]
    },
    {
     "name": "stdout",
     "output_type": "stream",
     "text": [
      "{'http': 'http://216.169.73.65:34679', 'https': 'https://216.169.73.65:34679'}\n",
      "Success\n",
      "{'http': 'http://47.252.82.135:', 'https': 'https://47.252.82.135:'}\n",
      "Success\n"
     ]
    },
    {
     "name": "stderr",
     "output_type": "stream",
     "text": [
      "\r",
      " 27%|██████████████████████▍                                                           | 23/84 [00:05<00:16,  3.73it/s]"
     ]
    },
    {
     "name": "stdout",
     "output_type": "stream",
     "text": [
      "{'http': 'http://107.151.182.247:', 'https': 'https://107.151.182.247:'}\n"
     ]
    },
    {
     "name": "stderr",
     "output_type": "stream",
     "text": [
      "\r",
      " 29%|███████████████████████▍                                                          | 24/84 [00:05<00:15,  3.83it/s]"
     ]
    },
    {
     "name": "stdout",
     "output_type": "stream",
     "text": [
      "Success\n",
      "{'http': 'http://192.155.107.60:', 'https': 'https://192.155.107.60:'}\n"
     ]
    },
    {
     "name": "stderr",
     "output_type": "stream",
     "text": [
      "\r",
      " 30%|████████████████████████▍                                                         | 25/84 [00:05<00:14,  4.08it/s]"
     ]
    },
    {
     "name": "stdout",
     "output_type": "stream",
     "text": [
      "Success\n",
      "{'http': 'http://63.161.104.189:', 'https': 'https://63.161.104.189:'}\n"
     ]
    },
    {
     "name": "stderr",
     "output_type": "stream",
     "text": [
      "\r",
      " 31%|█████████████████████████▍                                                        | 26/84 [00:05<00:14,  4.14it/s]"
     ]
    },
    {
     "name": "stdout",
     "output_type": "stream",
     "text": [
      "Success\n",
      "{'http': 'http://3.217.161.14:', 'https': 'https://3.217.161.14:'}\n"
     ]
    },
    {
     "name": "stderr",
     "output_type": "stream",
     "text": [
      " 33%|███████████████████████████▎                                                      | 28/84 [00:06<00:13,  4.23it/s]"
     ]
    },
    {
     "name": "stdout",
     "output_type": "stream",
     "text": [
      "Success\n",
      "{'http': 'http://204.16.1.169:82', 'https': 'https://204.16.1.169:82'}\n",
      "Success\n"
     ]
    },
    {
     "name": "stderr",
     "output_type": "stream",
     "text": [
      "\r",
      " 35%|████████████████████████████▎                                                     | 29/84 [00:06<00:12,  4.52it/s]"
     ]
    },
    {
     "name": "stdout",
     "output_type": "stream",
     "text": [
      "{'http': 'http://3.230.91.35:', 'https': 'https://3.230.91.35:'}\n",
      "Success\n"
     ]
    },
    {
     "name": "stderr",
     "output_type": "stream",
     "text": [
      "\r",
      " 36%|█████████████████████████████▎                                                    | 30/84 [00:06<00:11,  4.86it/s]"
     ]
    },
    {
     "name": "stdout",
     "output_type": "stream",
     "text": [
      "{'http': 'http://154.85.35.235:8888', 'https': 'https://154.85.35.235:8888'}\n",
      "Success\n",
      "{'http': 'http://54.80.246.241:', 'https': 'https://54.80.246.241:'}\n"
     ]
    },
    {
     "name": "stderr",
     "output_type": "stream",
     "text": [
      " 38%|███████████████████████████████▏                                                  | 32/84 [00:06<00:10,  4.97it/s]"
     ]
    },
    {
     "name": "stdout",
     "output_type": "stream",
     "text": [
      "Success\n",
      "{'http': 'http://54.244.204.46:', 'https': 'https://54.244.204.46:'}\n",
      "Success\n"
     ]
    },
    {
     "name": "stderr",
     "output_type": "stream",
     "text": [
      "\r",
      " 39%|████████████████████████████████▏                                                 | 33/84 [00:07<00:09,  5.23it/s]"
     ]
    },
    {
     "name": "stdout",
     "output_type": "stream",
     "text": [
      "{'http': 'http://66.211.155.34:', 'https': 'https://66.211.155.34:'}\n",
      "Success\n",
      "{'http': 'http://54.244.204.46:', 'https': 'https://54.244.204.46:'}\n"
     ]
    },
    {
     "name": "stderr",
     "output_type": "stream",
     "text": [
      " 42%|██████████████████████████████████▏                                               | 35/84 [00:07<00:09,  5.13it/s]"
     ]
    },
    {
     "name": "stdout",
     "output_type": "stream",
     "text": [
      "Success\n",
      "{'http': 'http://72.47.152.224:55443', 'https': 'https://72.47.152.224:55443'}\n",
      "Success\n",
      "{'http': 'http://3.211.17.212:', 'https': 'https://3.211.17.212:'}\n"
     ]
    },
    {
     "name": "stderr",
     "output_type": "stream",
     "text": [
      "\r",
      " 43%|███████████████████████████████████▏                                              | 36/84 [00:07<00:10,  4.74it/s]"
     ]
    },
    {
     "name": "stdout",
     "output_type": "stream",
     "text": [
      "Success\n",
      "{'http': 'http://54.244.204.46:', 'https': 'https://54.244.204.46:'}\n"
     ]
    },
    {
     "name": "stderr",
     "output_type": "stream",
     "text": [
      "\r",
      " 44%|████████████████████████████████████                                              | 37/84 [00:08<00:10,  4.37it/s]"
     ]
    },
    {
     "name": "stdout",
     "output_type": "stream",
     "text": [
      "Success\n",
      "{'http': 'http://208.72.154.111:8888', 'https': 'https://208.72.154.111:8888'}\n",
      "Success\n"
     ]
    },
    {
     "name": "stderr",
     "output_type": "stream",
     "text": [
      " 46%|██████████████████████████████████████                                            | 39/84 [00:08<00:09,  4.61it/s]"
     ]
    },
    {
     "name": "stdout",
     "output_type": "stream",
     "text": [
      "{'http': 'http://12.151.56.30:', 'https': 'https://12.151.56.30:'}\n",
      "Success\n",
      "{'http': 'http://54.80.246.241:', 'https': 'https://54.80.246.241:'}\n"
     ]
    },
    {
     "name": "stderr",
     "output_type": "stream",
     "text": [
      " 49%|████████████████████████████████████████                                          | 41/84 [00:09<00:10,  4.15it/s]"
     ]
    },
    {
     "name": "stdout",
     "output_type": "stream",
     "text": [
      "Success\n",
      "{'http': 'http://47.252.82.135:', 'https': 'https://47.252.82.135:'}\n",
      "Success\n",
      "{'http': 'http://23.225.64.59:1089', 'https': 'https://23.225.64.59:1089'}\n"
     ]
    },
    {
     "name": "stderr",
     "output_type": "stream",
     "text": [
      " 51%|█████████████████████████████████████████▉                                        | 43/84 [00:09<00:09,  4.48it/s]"
     ]
    },
    {
     "name": "stdout",
     "output_type": "stream",
     "text": [
      "Success\n",
      "{'http': 'http://23.225.64.59:1089', 'https': 'https://23.225.64.59:1089'}\n",
      "Success\n",
      "{'http': 'http://107.151.182.247:', 'https': 'https://107.151.182.247:'}\n"
     ]
    },
    {
     "name": "stderr",
     "output_type": "stream",
     "text": [
      "\r",
      " 52%|██████████████████████████████████████████▉                                       | 44/84 [00:09<00:10,  3.96it/s]"
     ]
    },
    {
     "name": "stdout",
     "output_type": "stream",
     "text": [
      "Success\n",
      "{'http': 'http://132.145.195.93:', 'https': 'https://132.145.195.93:'}\n",
      "Success\n"
     ]
    },
    {
     "name": "stderr",
     "output_type": "stream",
     "text": [
      "\r",
      " 54%|███████████████████████████████████████████▉                                      | 45/84 [00:10<00:09,  4.03it/s]"
     ]
    },
    {
     "name": "stdout",
     "output_type": "stream",
     "text": [
      "{'http': 'http://23.225.64.59:1089', 'https': 'https://23.225.64.59:1089'}\n",
      "Success\n"
     ]
    },
    {
     "name": "stderr",
     "output_type": "stream",
     "text": [
      " 56%|█████████████████████████████████████████████▉                                    | 47/84 [00:10<00:08,  4.36it/s]"
     ]
    },
    {
     "name": "stdout",
     "output_type": "stream",
     "text": [
      "{'http': 'http://173.196.205.170:', 'https': 'https://173.196.205.170:'}\n",
      "Success\n"
     ]
    },
    {
     "name": "stderr",
     "output_type": "stream",
     "text": [
      "\r",
      " 57%|██████████████████████████████████████████████▊                                   | 48/84 [00:10<00:07,  4.91it/s]"
     ]
    },
    {
     "name": "stdout",
     "output_type": "stream",
     "text": [
      "{'http': 'http://208.72.154.111:8888', 'https': 'https://208.72.154.111:8888'}\n",
      "Success\n",
      "{'http': 'http://154.85.35.235:8888', 'https': 'https://154.85.35.235:8888'}\n"
     ]
    },
    {
     "name": "stderr",
     "output_type": "stream",
     "text": [
      " 60%|████████████████████████████████████████████████▊                                 | 50/84 [00:10<00:06,  5.35it/s]"
     ]
    },
    {
     "name": "stdout",
     "output_type": "stream",
     "text": [
      "Success\n",
      "{'http': 'http://72.47.152.224:55443', 'https': 'https://72.47.152.224:55443'}\n",
      "Success\n"
     ]
    },
    {
     "name": "stderr",
     "output_type": "stream",
     "text": [
      "\r",
      " 61%|█████████████████████████████████████████████████▊                                | 51/84 [00:11<00:05,  5.55it/s]"
     ]
    },
    {
     "name": "stdout",
     "output_type": "stream",
     "text": [
      "{'http': 'http://192.155.107.59:', 'https': 'https://192.155.107.59:'}\n",
      "Success\n",
      "{'http': 'http://23.225.64.59:1089', 'https': 'https://23.225.64.59:1089'}\n"
     ]
    },
    {
     "name": "stderr",
     "output_type": "stream",
     "text": [
      " 63%|███████████████████████████████████████████████████▋                              | 53/84 [00:11<00:05,  5.69it/s]"
     ]
    },
    {
     "name": "stdout",
     "output_type": "stream",
     "text": [
      "Success\n",
      "{'http': 'http://3.211.17.212:', 'https': 'https://3.211.17.212:'}\n",
      "Success\n",
      "{'http': 'http://47.88.7.115:3129', 'https': 'https://47.88.7.115:3129'}\n"
     ]
    },
    {
     "name": "stderr",
     "output_type": "stream",
     "text": [
      "\r",
      " 64%|████████████████████████████████████████████████████▋                             | 54/84 [00:11<00:05,  5.23it/s]"
     ]
    },
    {
     "name": "stdout",
     "output_type": "stream",
     "text": [
      "Success\n",
      "{'http': 'http://192.155.107.60:', 'https': 'https://192.155.107.60:'}\n"
     ]
    },
    {
     "name": "stderr",
     "output_type": "stream",
     "text": [
      " 67%|██████████████████████████████████████████████████████▋                           | 56/84 [00:12<00:05,  5.05it/s]"
     ]
    },
    {
     "name": "stdout",
     "output_type": "stream",
     "text": [
      "Success\n",
      "{'http': 'http://20.47.108.204:8888', 'https': 'https://20.47.108.204:8888'}\n",
      "Success\n"
     ]
    },
    {
     "name": "stderr",
     "output_type": "stream",
     "text": [
      "\r",
      " 68%|███████████████████████████████████████████████████████▋                          | 57/84 [00:12<00:05,  5.23it/s]"
     ]
    },
    {
     "name": "stdout",
     "output_type": "stream",
     "text": [
      "{'http': 'http://12.151.56.30:', 'https': 'https://12.151.56.30:'}\n",
      "Success\n",
      "{'http': 'http://54.244.204.46:', 'https': 'https://54.244.204.46:'}\n"
     ]
    },
    {
     "name": "stderr",
     "output_type": "stream",
     "text": [
      "\r",
      " 69%|████████████████████████████████████████████████████████▌                         | 58/84 [00:12<00:05,  4.97it/s]"
     ]
    },
    {
     "name": "stdout",
     "output_type": "stream",
     "text": [
      "Success\n",
      "{'http': 'http://208.72.154.111:8888', 'https': 'https://208.72.154.111:8888'}\n",
      "Success\n"
     ]
    },
    {
     "name": "stderr",
     "output_type": "stream",
     "text": [
      " 71%|██████████████████████████████████████████████████████████▌                       | 60/84 [00:12<00:04,  5.37it/s]"
     ]
    },
    {
     "name": "stdout",
     "output_type": "stream",
     "text": [
      "{'http': 'http://3.230.91.35:', 'https': 'https://3.230.91.35:'}\n",
      "Success\n",
      "{'http': 'http://47.252.82.135:', 'https': 'https://47.252.82.135:'}\n"
     ]
    },
    {
     "name": "stderr",
     "output_type": "stream",
     "text": [
      "\r",
      " 73%|███████████████████████████████████████████████████████████▌                      | 61/84 [00:13<00:04,  5.13it/s]"
     ]
    },
    {
     "name": "stdout",
     "output_type": "stream",
     "text": [
      "Success\n",
      "{'http': 'http://3.211.17.212:', 'https': 'https://3.211.17.212:'}\n"
     ]
    },
    {
     "name": "stderr",
     "output_type": "stream",
     "text": [
      " 75%|█████████████████████████████████████████████████████████████▌                    | 63/84 [00:13<00:04,  5.24it/s]"
     ]
    },
    {
     "name": "stdout",
     "output_type": "stream",
     "text": [
      "Success\n",
      "{'http': 'http://64.227.62.123:', 'https': 'https://64.227.62.123:'}\n",
      "Success\n",
      "{'http': 'http://208.72.154.111:8888', 'https': 'https://208.72.154.111:8888'}\n"
     ]
    },
    {
     "name": "stderr",
     "output_type": "stream",
     "text": [
      "\r",
      " 76%|██████████████████████████████████████████████████████████████▍                   | 64/84 [00:13<00:03,  5.28it/s]"
     ]
    },
    {
     "name": "stdout",
     "output_type": "stream",
     "text": [
      "Success\n",
      "{'http': 'http://74.205.128.200:', 'https': 'https://74.205.128.200:'}\n"
     ]
    },
    {
     "name": "stderr",
     "output_type": "stream",
     "text": [
      "\r",
      " 77%|███████████████████████████████████████████████████████████████▍                  | 65/84 [00:13<00:03,  4.93it/s]"
     ]
    },
    {
     "name": "stdout",
     "output_type": "stream",
     "text": [
      "Success\n",
      "{'http': 'http://192.155.107.59:', 'https': 'https://192.155.107.59:'}\n",
      "Success\n"
     ]
    },
    {
     "name": "stderr",
     "output_type": "stream",
     "text": [
      " 80%|█████████████████████████████████████████████████████████████████▍                | 67/84 [00:14<00:03,  4.90it/s]"
     ]
    },
    {
     "name": "stdout",
     "output_type": "stream",
     "text": [
      "{'http': 'http://40.136.41.6:', 'https': 'https://40.136.41.6:'}\n",
      "Success\n"
     ]
    },
    {
     "name": "stderr",
     "output_type": "stream",
     "text": [
      "\r",
      " 81%|██████████████████████████████████████████████████████████████████▍               | 68/84 [00:14<00:03,  5.09it/s]"
     ]
    },
    {
     "name": "stdout",
     "output_type": "stream",
     "text": [
      "{'http': 'http://72.47.152.224:55443', 'https': 'https://72.47.152.224:55443'}\n",
      "Success\n",
      "{'http': 'http://159.65.69.186:9300', 'https': 'https://159.65.69.186:9300'}\n"
     ]
    },
    {
     "name": "stderr",
     "output_type": "stream",
     "text": [
      " 83%|████████████████████████████████████████████████████████████████████▎             | 70/84 [00:14<00:02,  5.29it/s]"
     ]
    },
    {
     "name": "stdout",
     "output_type": "stream",
     "text": [
      "Success\n",
      "{'http': 'http://204.16.1.169:82', 'https': 'https://204.16.1.169:82'}\n",
      "Success\n"
     ]
    },
    {
     "name": "stderr",
     "output_type": "stream",
     "text": [
      "\r",
      " 85%|█████████████████████████████████████████████████████████████████████▎            | 71/84 [00:15<00:02,  5.32it/s]"
     ]
    },
    {
     "name": "stdout",
     "output_type": "stream",
     "text": [
      "{'http': 'http://54.244.204.46:', 'https': 'https://54.244.204.46:'}\n",
      "Success\n",
      "{'http': 'http://192.155.107.59:', 'https': 'https://192.155.107.59:'}\n"
     ]
    },
    {
     "name": "stderr",
     "output_type": "stream",
     "text": [
      " 87%|███████████████████████████████████████████████████████████████████████▎          | 73/84 [00:15<00:02,  5.38it/s]"
     ]
    },
    {
     "name": "stdout",
     "output_type": "stream",
     "text": [
      "Success\n",
      "{'http': 'http://63.161.104.189:', 'https': 'https://63.161.104.189:'}\n",
      "Success\n",
      "{'http': 'http://63.161.104.189:', 'https': 'https://63.161.104.189:'}\n"
     ]
    },
    {
     "name": "stderr",
     "output_type": "stream",
     "text": [
      "\r",
      " 88%|████████████████████████████████████████████████████████████████████████▏         | 74/84 [00:15<00:01,  5.24it/s]"
     ]
    },
    {
     "name": "stdout",
     "output_type": "stream",
     "text": [
      "Success\n",
      "{'http': 'http://208.72.154.111:8888', 'https': 'https://208.72.154.111:8888'}\n"
     ]
    },
    {
     "name": "stderr",
     "output_type": "stream",
     "text": [
      "\r",
      " 89%|█████████████████████████████████████████████████████████████████████████▏        | 75/84 [00:15<00:01,  5.04it/s]"
     ]
    },
    {
     "name": "stdout",
     "output_type": "stream",
     "text": [
      "Success\n",
      "{'http': 'http://154.85.35.235:8888', 'https': 'https://154.85.35.235:8888'}\n"
     ]
    },
    {
     "name": "stderr",
     "output_type": "stream",
     "text": [
      " 92%|███████████████████████████████████████████████████████████████████████████▏      | 77/84 [00:16<00:01,  4.52it/s]"
     ]
    },
    {
     "name": "stdout",
     "output_type": "stream",
     "text": [
      "Success\n",
      "{'http': 'http://74.205.128.200:', 'https': 'https://74.205.128.200:'}\n",
      "Success\n"
     ]
    },
    {
     "name": "stderr",
     "output_type": "stream",
     "text": [
      "\r",
      " 93%|████████████████████████████████████████████████████████████████████████████▏     | 78/84 [00:16<00:01,  4.74it/s]"
     ]
    },
    {
     "name": "stdout",
     "output_type": "stream",
     "text": [
      "{'http': 'http://3.217.161.14:', 'https': 'https://3.217.161.14:'}\n",
      "Success\n"
     ]
    },
    {
     "name": "stderr",
     "output_type": "stream",
     "text": [
      "\r",
      " 94%|█████████████████████████████████████████████████████████████████████████████     | 79/84 [00:16<00:01,  4.89it/s]"
     ]
    },
    {
     "name": "stdout",
     "output_type": "stream",
     "text": [
      "{'http': 'http://64.227.62.123:', 'https': 'https://64.227.62.123:'}\n",
      "Success\n"
     ]
    },
    {
     "name": "stderr",
     "output_type": "stream",
     "text": [
      "\r",
      " 95%|██████████████████████████████████████████████████████████████████████████████    | 80/84 [00:16<00:00,  4.98it/s]"
     ]
    },
    {
     "name": "stdout",
     "output_type": "stream",
     "text": [
      "{'http': 'http://72.47.152.224:55443', 'https': 'https://72.47.152.224:55443'}\n",
      "Success\n"
     ]
    },
    {
     "name": "stderr",
     "output_type": "stream",
     "text": [
      "\r",
      " 96%|███████████████████████████████████████████████████████████████████████████████   | 81/84 [00:17<00:00,  5.13it/s]"
     ]
    },
    {
     "name": "stdout",
     "output_type": "stream",
     "text": [
      "{'http': 'http://66.211.155.34:', 'https': 'https://66.211.155.34:'}\n",
      "Success\n",
      "{'http': 'http://161.35.4.201:', 'https': 'https://161.35.4.201:'}\n"
     ]
    },
    {
     "name": "stderr",
     "output_type": "stream",
     "text": [
      " 99%|█████████████████████████████████████████████████████████████████████████████████ | 83/84 [00:17<00:00,  5.20it/s]"
     ]
    },
    {
     "name": "stdout",
     "output_type": "stream",
     "text": [
      "Success\n",
      "{'http': 'http://3.230.91.35:', 'https': 'https://3.230.91.35:'}\n",
      "Success\n"
     ]
    },
    {
     "name": "stderr",
     "output_type": "stream",
     "text": [
      "100%|██████████████████████████████████████████████████████████████████████████████████| 84/84 [00:17<00:00,  4.77it/s]\n"
     ]
    },
    {
     "name": "stdout",
     "output_type": "stream",
     "text": [
      "{'http': 'http://47.88.7.115:3129', 'https': 'https://47.88.7.115:3129'}\n",
      "Success\n"
     ]
    },
    {
     "name": "stderr",
     "output_type": "stream",
     "text": [
      "\r",
      "  0%|                                                                                          | 0/100 [00:00<?, ?it/s]"
     ]
    },
    {
     "name": "stdout",
     "output_type": "stream",
     "text": [
      "{'http': 'http://76.81.164.246:', 'https': 'https://76.81.164.246:'}\n"
     ]
    },
    {
     "name": "stderr",
     "output_type": "stream",
     "text": [
      "  2%|█▋                                                                                | 2/100 [00:00<00:18,  5.24it/s]"
     ]
    },
    {
     "name": "stdout",
     "output_type": "stream",
     "text": [
      "Request: <module 'requests' from 'C:\\\\Users\\\\nguye\\\\anaconda3\\\\lib\\\\site-packages\\\\requests\\\\__init__.py'>; Status code: 403\n",
      "28507\n",
      "{'http': 'http://64.227.62.123:', 'https': 'https://64.227.62.123:'}\n",
      "Request: <module 'requests' from 'C:\\\\Users\\\\nguye\\\\anaconda3\\\\lib\\\\site-packages\\\\requests\\\\__init__.py'>; Status code: 403\n",
      "28508\n",
      "{'http': 'http://173.196.205.170:', 'https': 'https://173.196.205.170:'}\n"
     ]
    },
    {
     "name": "stderr",
     "output_type": "stream",
     "text": [
      "  4%|███▎                                                                              | 4/100 [00:00<00:14,  6.45it/s]"
     ]
    },
    {
     "name": "stdout",
     "output_type": "stream",
     "text": [
      "Request: <module 'requests' from 'C:\\\\Users\\\\nguye\\\\anaconda3\\\\lib\\\\site-packages\\\\requests\\\\__init__.py'>; Status code: 403\n",
      "28509\n",
      "{'http': 'http://50.235.149.74:', 'https': 'https://50.235.149.74:'}\n",
      "Request: <module 'requests' from 'C:\\\\Users\\\\nguye\\\\anaconda3\\\\lib\\\\site-packages\\\\requests\\\\__init__.py'>; Status code: 403\n",
      "28510\n",
      "{'http': 'http://208.72.154.111:8888', 'https': 'https://208.72.154.111:8888'}\n"
     ]
    },
    {
     "name": "stderr",
     "output_type": "stream",
     "text": [
      "  6%|████▉                                                                             | 6/100 [00:00<00:13,  6.73it/s]"
     ]
    },
    {
     "name": "stdout",
     "output_type": "stream",
     "text": [
      "Request: <module 'requests' from 'C:\\\\Users\\\\nguye\\\\anaconda3\\\\lib\\\\site-packages\\\\requests\\\\__init__.py'>; Status code: 403\n",
      "28511\n",
      "{'http': 'http://20.47.108.204:8888', 'https': 'https://20.47.108.204:8888'}\n",
      "Request: <module 'requests' from 'C:\\\\Users\\\\nguye\\\\anaconda3\\\\lib\\\\site-packages\\\\requests\\\\__init__.py'>; Status code: 403\n",
      "28512\n",
      "{'http': 'http://50.235.149.74:', 'https': 'https://50.235.149.74:'}\n"
     ]
    },
    {
     "name": "stderr",
     "output_type": "stream",
     "text": [
      "  8%|██████▌                                                                           | 8/100 [00:01<00:13,  6.59it/s]"
     ]
    },
    {
     "name": "stdout",
     "output_type": "stream",
     "text": [
      "Request: <module 'requests' from 'C:\\\\Users\\\\nguye\\\\anaconda3\\\\lib\\\\site-packages\\\\requests\\\\__init__.py'>; Status code: 403\n",
      "28513\n",
      "{'http': 'http://52.168.34.113:', 'https': 'https://52.168.34.113:'}\n",
      "Request: <module 'requests' from 'C:\\\\Users\\\\nguye\\\\anaconda3\\\\lib\\\\site-packages\\\\requests\\\\__init__.py'>; Status code: 403\n",
      "28514\n",
      "{'http': 'http://204.16.1.169:82', 'https': 'https://204.16.1.169:82'}\n"
     ]
    },
    {
     "name": "stderr",
     "output_type": "stream",
     "text": [
      " 10%|████████                                                                         | 10/100 [00:01<00:15,  5.88it/s]"
     ]
    },
    {
     "name": "stdout",
     "output_type": "stream",
     "text": [
      "Request: <module 'requests' from 'C:\\\\Users\\\\nguye\\\\anaconda3\\\\lib\\\\site-packages\\\\requests\\\\__init__.py'>; Status code: 403\n",
      "28515\n",
      "{'http': 'http://54.80.246.241:', 'https': 'https://54.80.246.241:'}\n",
      "Request: <module 'requests' from 'C:\\\\Users\\\\nguye\\\\anaconda3\\\\lib\\\\site-packages\\\\requests\\\\__init__.py'>; Status code: 403\n",
      "28516\n",
      "{'http': 'http://3.211.17.212:', 'https': 'https://3.211.17.212:'}\n"
     ]
    },
    {
     "name": "stderr",
     "output_type": "stream",
     "text": [
      " 12%|█████████▋                                                                       | 12/100 [00:02<00:15,  5.76it/s]"
     ]
    },
    {
     "name": "stdout",
     "output_type": "stream",
     "text": [
      "Request: <module 'requests' from 'C:\\\\Users\\\\nguye\\\\anaconda3\\\\lib\\\\site-packages\\\\requests\\\\__init__.py'>; Status code: 403\n",
      "28517\n",
      "{'http': 'http://20.47.108.204:8888', 'https': 'https://20.47.108.204:8888'}\n",
      "Request: <module 'requests' from 'C:\\\\Users\\\\nguye\\\\anaconda3\\\\lib\\\\site-packages\\\\requests\\\\__init__.py'>; Status code: 403\n",
      "28518\n"
     ]
    },
    {
     "name": "stderr",
     "output_type": "stream",
     "text": [
      "\r",
      " 13%|██████████▌                                                                      | 13/100 [00:02<00:14,  5.94it/s]"
     ]
    },
    {
     "name": "stdout",
     "output_type": "stream",
     "text": [
      "{'http': 'http://63.161.104.189:', 'https': 'https://63.161.104.189:'}\n",
      "Request: <module 'requests' from 'C:\\\\Users\\\\nguye\\\\anaconda3\\\\lib\\\\site-packages\\\\requests\\\\__init__.py'>; Status code: 403\n",
      "28519\n",
      "{'http': 'http://67.212.186.101:', 'https': 'https://67.212.186.101:'}\n"
     ]
    },
    {
     "name": "stderr",
     "output_type": "stream",
     "text": [
      " 15%|████████████▏                                                                    | 15/100 [00:02<00:13,  6.27it/s]"
     ]
    },
    {
     "name": "stdout",
     "output_type": "stream",
     "text": [
      "Request: <module 'requests' from 'C:\\\\Users\\\\nguye\\\\anaconda3\\\\lib\\\\site-packages\\\\requests\\\\__init__.py'>; Status code: 403\n",
      "28520\n",
      "{'http': 'http://208.72.154.111:8888', 'https': 'https://208.72.154.111:8888'}\n",
      "Request: <module 'requests' from 'C:\\\\Users\\\\nguye\\\\anaconda3\\\\lib\\\\site-packages\\\\requests\\\\__init__.py'>; Status code: 403\n",
      "28521\n",
      "{'http': 'http://159.65.69.186:9300', 'https': 'https://159.65.69.186:9300'}\n"
     ]
    },
    {
     "name": "stderr",
     "output_type": "stream",
     "text": [
      " 17%|█████████████▊                                                                   | 17/100 [00:02<00:13,  6.32it/s]"
     ]
    },
    {
     "name": "stdout",
     "output_type": "stream",
     "text": [
      "Request: <module 'requests' from 'C:\\\\Users\\\\nguye\\\\anaconda3\\\\lib\\\\site-packages\\\\requests\\\\__init__.py'>; Status code: 403\n",
      "28522\n",
      "{'http': 'http://47.88.7.115:3129', 'https': 'https://47.88.7.115:3129'}\n",
      "Request: <module 'requests' from 'C:\\\\Users\\\\nguye\\\\anaconda3\\\\lib\\\\site-packages\\\\requests\\\\__init__.py'>; Status code: 403\n",
      "28523\n",
      "{'http': 'http://52.168.34.113:', 'https': 'https://52.168.34.113:'}\n"
     ]
    },
    {
     "name": "stderr",
     "output_type": "stream",
     "text": [
      " 19%|███████████████▍                                                                 | 19/100 [00:03<00:12,  6.75it/s]"
     ]
    },
    {
     "name": "stdout",
     "output_type": "stream",
     "text": [
      "Request: <module 'requests' from 'C:\\\\Users\\\\nguye\\\\anaconda3\\\\lib\\\\site-packages\\\\requests\\\\__init__.py'>; Status code: 403\n",
      "28524\n",
      "{'http': 'http://104.192.202.11:', 'https': 'https://104.192.202.11:'}\n",
      "Request: <module 'requests' from 'C:\\\\Users\\\\nguye\\\\anaconda3\\\\lib\\\\site-packages\\\\requests\\\\__init__.py'>; Status code: 403\n",
      "28525\n",
      "{'http': 'http://3.230.91.35:', 'https': 'https://3.230.91.35:'}\n"
     ]
    },
    {
     "name": "stderr",
     "output_type": "stream",
     "text": [
      " 21%|█████████████████                                                                | 21/100 [00:03<00:11,  6.73it/s]"
     ]
    },
    {
     "name": "stdout",
     "output_type": "stream",
     "text": [
      "Request: <module 'requests' from 'C:\\\\Users\\\\nguye\\\\anaconda3\\\\lib\\\\site-packages\\\\requests\\\\__init__.py'>; Status code: 403\n",
      "28526\n",
      "{'http': 'http://67.212.186.101:', 'https': 'https://67.212.186.101:'}\n",
      "Request: <module 'requests' from 'C:\\\\Users\\\\nguye\\\\anaconda3\\\\lib\\\\site-packages\\\\requests\\\\__init__.py'>; Status code: 403\n",
      "28527\n",
      "{'http': 'http://76.81.164.246:', 'https': 'https://76.81.164.246:'}\n"
     ]
    },
    {
     "name": "stderr",
     "output_type": "stream",
     "text": [
      " 23%|██████████████████▋                                                              | 23/100 [00:03<00:12,  6.29it/s]"
     ]
    },
    {
     "name": "stdout",
     "output_type": "stream",
     "text": [
      "Request: <module 'requests' from 'C:\\\\Users\\\\nguye\\\\anaconda3\\\\lib\\\\site-packages\\\\requests\\\\__init__.py'>; Status code: 403\n",
      "28528\n",
      "{'http': 'http://107.151.182.247:', 'https': 'https://107.151.182.247:'}\n",
      "Request: <module 'requests' from 'C:\\\\Users\\\\nguye\\\\anaconda3\\\\lib\\\\site-packages\\\\requests\\\\__init__.py'>; Status code: 403\n",
      "28529\n",
      "{'http': 'http://208.72.154.111:8888', 'https': 'https://208.72.154.111:8888'}\n"
     ]
    },
    {
     "name": "stderr",
     "output_type": "stream",
     "text": [
      "\r",
      " 24%|███████████████████▍                                                             | 24/100 [00:03<00:12,  6.09it/s]"
     ]
    },
    {
     "name": "stdout",
     "output_type": "stream",
     "text": [
      "Request: <module 'requests' from 'C:\\\\Users\\\\nguye\\\\anaconda3\\\\lib\\\\site-packages\\\\requests\\\\__init__.py'>; Status code: 403\n",
      "28530\n",
      "{'http': 'http://204.16.1.169:82', 'https': 'https://204.16.1.169:82'}\n"
     ]
    },
    {
     "name": "stderr",
     "output_type": "stream",
     "text": [
      " 26%|█████████████████████                                                            | 26/100 [00:05<00:27,  2.70it/s]"
     ]
    },
    {
     "name": "stdout",
     "output_type": "stream",
     "text": [
      "Request: <module 'requests' from 'C:\\\\Users\\\\nguye\\\\anaconda3\\\\lib\\\\site-packages\\\\requests\\\\__init__.py'>; Status code: 403\n",
      "28531\n",
      "{'http': 'http://72.47.152.224:55443', 'https': 'https://72.47.152.224:55443'}\n",
      "Request: <module 'requests' from 'C:\\\\Users\\\\nguye\\\\anaconda3\\\\lib\\\\site-packages\\\\requests\\\\__init__.py'>; Status code: 403\n",
      "28532\n",
      "{'http': 'http://40.136.41.6:', 'https': 'https://40.136.41.6:'}\n"
     ]
    },
    {
     "name": "stderr",
     "output_type": "stream",
     "text": [
      " 28%|██████████████████████▋                                                          | 28/100 [00:05<00:18,  3.84it/s]"
     ]
    },
    {
     "name": "stdout",
     "output_type": "stream",
     "text": [
      "Request: <module 'requests' from 'C:\\\\Users\\\\nguye\\\\anaconda3\\\\lib\\\\site-packages\\\\requests\\\\__init__.py'>; Status code: 403\n",
      "28533\n",
      "{'http': 'http://20.47.108.204:8888', 'https': 'https://20.47.108.204:8888'}\n",
      "Request: <module 'requests' from 'C:\\\\Users\\\\nguye\\\\anaconda3\\\\lib\\\\site-packages\\\\requests\\\\__init__.py'>; Status code: 403\n",
      "28534\n",
      "{'http': 'http://54.244.204.46:', 'https': 'https://54.244.204.46:'}\n"
     ]
    },
    {
     "name": "stderr",
     "output_type": "stream",
     "text": [
      " 30%|████████████████████████▎                                                        | 30/100 [00:05<00:13,  5.06it/s]"
     ]
    },
    {
     "name": "stdout",
     "output_type": "stream",
     "text": [
      "Request: <module 'requests' from 'C:\\\\Users\\\\nguye\\\\anaconda3\\\\lib\\\\site-packages\\\\requests\\\\__init__.py'>; Status code: 403\n",
      "28535\n",
      "{'http': 'http://192.155.107.60:', 'https': 'https://192.155.107.60:'}\n",
      "Request: <module 'requests' from 'C:\\\\Users\\\\nguye\\\\anaconda3\\\\lib\\\\site-packages\\\\requests\\\\__init__.py'>; Status code: 403\n",
      "28536\n",
      "{'http': 'http://107.151.182.247:', 'https': 'https://107.151.182.247:'}\n"
     ]
    },
    {
     "name": "stderr",
     "output_type": "stream",
     "text": [
      " 32%|█████████████████████████▉                                                       | 32/100 [00:06<00:13,  5.20it/s]"
     ]
    },
    {
     "name": "stdout",
     "output_type": "stream",
     "text": [
      "Request: <module 'requests' from 'C:\\\\Users\\\\nguye\\\\anaconda3\\\\lib\\\\site-packages\\\\requests\\\\__init__.py'>; Status code: 403\n",
      "28537\n",
      "{'http': 'http://161.35.4.201:', 'https': 'https://161.35.4.201:'}\n",
      "Request: <module 'requests' from 'C:\\\\Users\\\\nguye\\\\anaconda3\\\\lib\\\\site-packages\\\\requests\\\\__init__.py'>; Status code: 403\n",
      "28538\n",
      "{'http': 'http://20.47.108.204:8888', 'https': 'https://20.47.108.204:8888'}\n"
     ]
    },
    {
     "name": "stderr",
     "output_type": "stream",
     "text": [
      " 34%|███████████████████████████▌                                                     | 34/100 [00:06<00:13,  5.02it/s]"
     ]
    },
    {
     "name": "stdout",
     "output_type": "stream",
     "text": [
      "Request: <module 'requests' from 'C:\\\\Users\\\\nguye\\\\anaconda3\\\\lib\\\\site-packages\\\\requests\\\\__init__.py'>; Status code: 403\n",
      "28539\n",
      "{'http': 'http://186.233.186.60:', 'https': 'https://186.233.186.60:'}\n",
      "Request: <module 'requests' from 'C:\\\\Users\\\\nguye\\\\anaconda3\\\\lib\\\\site-packages\\\\requests\\\\__init__.py'>; Status code: 403\n",
      "28540\n",
      "{'http': 'http://50.235.149.74:', 'https': 'https://50.235.149.74:'}\n"
     ]
    },
    {
     "name": "stderr",
     "output_type": "stream",
     "text": [
      " 36%|█████████████████████████████▏                                                   | 36/100 [00:06<00:11,  5.63it/s]"
     ]
    },
    {
     "name": "stdout",
     "output_type": "stream",
     "text": [
      "Request: <module 'requests' from 'C:\\\\Users\\\\nguye\\\\anaconda3\\\\lib\\\\site-packages\\\\requests\\\\__init__.py'>; Status code: 403\n",
      "28541\n",
      "{'http': 'http://161.35.4.201:', 'https': 'https://161.35.4.201:'}\n",
      "Request: <module 'requests' from 'C:\\\\Users\\\\nguye\\\\anaconda3\\\\lib\\\\site-packages\\\\requests\\\\__init__.py'>; Status code: 403\n",
      "28542\n",
      "{'http': 'http://3.211.17.212:', 'https': 'https://3.211.17.212:'}\n"
     ]
    },
    {
     "name": "stderr",
     "output_type": "stream",
     "text": [
      " 38%|██████████████████████████████▊                                                  | 38/100 [00:07<00:10,  6.07it/s]"
     ]
    },
    {
     "name": "stdout",
     "output_type": "stream",
     "text": [
      "Request: <module 'requests' from 'C:\\\\Users\\\\nguye\\\\anaconda3\\\\lib\\\\site-packages\\\\requests\\\\__init__.py'>; Status code: 403\n",
      "28543\n",
      "{'http': 'http://54.80.246.241:', 'https': 'https://54.80.246.241:'}\n",
      "Request: <module 'requests' from 'C:\\\\Users\\\\nguye\\\\anaconda3\\\\lib\\\\site-packages\\\\requests\\\\__init__.py'>; Status code: 403\n",
      "28544\n",
      "{'http': 'http://192.155.107.59:', 'https': 'https://192.155.107.59:'}\n"
     ]
    },
    {
     "name": "stderr",
     "output_type": "stream",
     "text": [
      " 40%|████████████████████████████████▍                                                | 40/100 [00:07<00:09,  6.29it/s]"
     ]
    },
    {
     "name": "stdout",
     "output_type": "stream",
     "text": [
      "Request: <module 'requests' from 'C:\\\\Users\\\\nguye\\\\anaconda3\\\\lib\\\\site-packages\\\\requests\\\\__init__.py'>; Status code: 403\n",
      "28545\n",
      "{'http': 'http://192.155.107.59:', 'https': 'https://192.155.107.59:'}\n",
      "Request: <module 'requests' from 'C:\\\\Users\\\\nguye\\\\anaconda3\\\\lib\\\\site-packages\\\\requests\\\\__init__.py'>; Status code: 403\n",
      "28546\n",
      "{'http': 'http://192.155.107.59:', 'https': 'https://192.155.107.59:'}\n"
     ]
    },
    {
     "name": "stderr",
     "output_type": "stream",
     "text": [
      " 42%|██████████████████████████████████                                               | 42/100 [00:07<00:09,  6.40it/s]"
     ]
    },
    {
     "name": "stdout",
     "output_type": "stream",
     "text": [
      "Request: <module 'requests' from 'C:\\\\Users\\\\nguye\\\\anaconda3\\\\lib\\\\site-packages\\\\requests\\\\__init__.py'>; Status code: 403\n",
      "28547\n",
      "{'http': 'http://20.47.108.204:8888', 'https': 'https://20.47.108.204:8888'}\n",
      "Request: <module 'requests' from 'C:\\\\Users\\\\nguye\\\\anaconda3\\\\lib\\\\site-packages\\\\requests\\\\__init__.py'>; Status code: 403\n",
      "28548\n",
      "{'http': 'http://186.233.186.60:', 'https': 'https://186.233.186.60:'}\n"
     ]
    },
    {
     "name": "stderr",
     "output_type": "stream",
     "text": [
      " 44%|███████████████████████████████████▋                                             | 44/100 [00:08<00:09,  5.82it/s]"
     ]
    },
    {
     "name": "stdout",
     "output_type": "stream",
     "text": [
      "Request: <module 'requests' from 'C:\\\\Users\\\\nguye\\\\anaconda3\\\\lib\\\\site-packages\\\\requests\\\\__init__.py'>; Status code: 403\n",
      "28549\n",
      "{'http': 'http://54.244.204.46:', 'https': 'https://54.244.204.46:'}\n",
      "Request: <module 'requests' from 'C:\\\\Users\\\\nguye\\\\anaconda3\\\\lib\\\\site-packages\\\\requests\\\\__init__.py'>; Status code: 403\n",
      "28550\n",
      "{'http': 'http://3.230.91.35:', 'https': 'https://3.230.91.35:'}\n"
     ]
    },
    {
     "name": "stderr",
     "output_type": "stream",
     "text": [
      " 46%|█████████████████████████████████████▎                                           | 46/100 [00:09<00:19,  2.84it/s]"
     ]
    },
    {
     "name": "stdout",
     "output_type": "stream",
     "text": [
      "Request: <module 'requests' from 'C:\\\\Users\\\\nguye\\\\anaconda3\\\\lib\\\\site-packages\\\\requests\\\\__init__.py'>; Status code: 403\n",
      "28551\n",
      "{'http': 'http://208.72.154.111:8888', 'https': 'https://208.72.154.111:8888'}\n",
      "Request: <module 'requests' from 'C:\\\\Users\\\\nguye\\\\anaconda3\\\\lib\\\\site-packages\\\\requests\\\\__init__.py'>; Status code: 403\n",
      "28552\n",
      "{'http': 'http://107.151.182.247:', 'https': 'https://107.151.182.247:'}\n"
     ]
    },
    {
     "name": "stderr",
     "output_type": "stream",
     "text": [
      " 48%|██████████████████████████████████████▉                                          | 48/100 [00:09<00:13,  3.99it/s]"
     ]
    },
    {
     "name": "stdout",
     "output_type": "stream",
     "text": [
      "Request: <module 'requests' from 'C:\\\\Users\\\\nguye\\\\anaconda3\\\\lib\\\\site-packages\\\\requests\\\\__init__.py'>; Status code: 403\n",
      "28553\n",
      "{'http': 'http://40.136.41.6:', 'https': 'https://40.136.41.6:'}\n",
      "Request: <module 'requests' from 'C:\\\\Users\\\\nguye\\\\anaconda3\\\\lib\\\\site-packages\\\\requests\\\\__init__.py'>; Status code: 403\n",
      "28554\n",
      "{'http': 'http://54.80.246.241:', 'https': 'https://54.80.246.241:'}\n"
     ]
    },
    {
     "name": "stderr",
     "output_type": "stream",
     "text": [
      "\r",
      " 49%|███████████████████████████████████████▋                                         | 49/100 [00:09<00:11,  4.47it/s]"
     ]
    },
    {
     "name": "stdout",
     "output_type": "stream",
     "text": [
      "Request: <module 'requests' from 'C:\\\\Users\\\\nguye\\\\anaconda3\\\\lib\\\\site-packages\\\\requests\\\\__init__.py'>; Status code: 403\n",
      "28555\n",
      "{'http': 'http://104.192.202.11:', 'https': 'https://104.192.202.11:'}\n"
     ]
    },
    {
     "name": "stderr",
     "output_type": "stream",
     "text": [
      "\r",
      " 50%|████████████████████████████████████████▌                                        | 50/100 [00:10<00:11,  4.38it/s]"
     ]
    },
    {
     "name": "stdout",
     "output_type": "stream",
     "text": [
      "Request: <module 'requests' from 'C:\\\\Users\\\\nguye\\\\anaconda3\\\\lib\\\\site-packages\\\\requests\\\\__init__.py'>; Status code: 403\n",
      "28556\n",
      "{'http': 'http://12.151.56.30:', 'https': 'https://12.151.56.30:'}\n"
     ]
    },
    {
     "name": "stderr",
     "output_type": "stream",
     "text": [
      " 52%|██████████████████████████████████████████                                       | 52/100 [00:10<00:10,  4.75it/s]"
     ]
    },
    {
     "name": "stdout",
     "output_type": "stream",
     "text": [
      "Request: <module 'requests' from 'C:\\\\Users\\\\nguye\\\\anaconda3\\\\lib\\\\site-packages\\\\requests\\\\__init__.py'>; Status code: 403\n",
      "28557\n",
      "{'http': 'http://138.68.235.51:', 'https': 'https://138.68.235.51:'}\n",
      "Request: <module 'requests' from 'C:\\\\Users\\\\nguye\\\\anaconda3\\\\lib\\\\site-packages\\\\requests\\\\__init__.py'>; Status code: 403\n",
      "28558\n",
      "{'http': 'http://3.211.17.212:', 'https': 'https://3.211.17.212:'}\n"
     ]
    },
    {
     "name": "stderr",
     "output_type": "stream",
     "text": [
      " 54%|███████████████████████████████████████████▋                                     | 54/100 [00:10<00:08,  5.50it/s]"
     ]
    },
    {
     "name": "stdout",
     "output_type": "stream",
     "text": [
      "Request: <module 'requests' from 'C:\\\\Users\\\\nguye\\\\anaconda3\\\\lib\\\\site-packages\\\\requests\\\\__init__.py'>; Status code: 403\n",
      "28559\n",
      "{'http': 'http://47.252.82.135:', 'https': 'https://47.252.82.135:'}\n",
      "Request: <module 'requests' from 'C:\\\\Users\\\\nguye\\\\anaconda3\\\\lib\\\\site-packages\\\\requests\\\\__init__.py'>; Status code: 403\n",
      "28560\n",
      "{'http': 'http://186.233.186.60:', 'https': 'https://186.233.186.60:'}\n"
     ]
    },
    {
     "name": "stderr",
     "output_type": "stream",
     "text": [
      " 56%|█████████████████████████████████████████████▎                                   | 56/100 [00:11<00:07,  5.54it/s]"
     ]
    },
    {
     "name": "stdout",
     "output_type": "stream",
     "text": [
      "Request: <module 'requests' from 'C:\\\\Users\\\\nguye\\\\anaconda3\\\\lib\\\\site-packages\\\\requests\\\\__init__.py'>; Status code: 403\n",
      "28561\n",
      "{'http': 'http://208.72.154.111:8888', 'https': 'https://208.72.154.111:8888'}\n",
      "Request: <module 'requests' from 'C:\\\\Users\\\\nguye\\\\anaconda3\\\\lib\\\\site-packages\\\\requests\\\\__init__.py'>; Status code: 403\n",
      "28562\n"
     ]
    },
    {
     "name": "stderr",
     "output_type": "stream",
     "text": [
      "\r",
      " 57%|██████████████████████████████████████████████▏                                  | 57/100 [00:11<00:07,  5.64it/s]"
     ]
    },
    {
     "name": "stdout",
     "output_type": "stream",
     "text": [
      "{'http': 'http://50.235.149.74:', 'https': 'https://50.235.149.74:'}\n",
      "Request: <module 'requests' from 'C:\\\\Users\\\\nguye\\\\anaconda3\\\\lib\\\\site-packages\\\\requests\\\\__init__.py'>; Status code: 403\n",
      "28563\n",
      "{'http': 'http://216.169.73.65:34679', 'https': 'https://216.169.73.65:34679'}\n"
     ]
    },
    {
     "name": "stderr",
     "output_type": "stream",
     "text": [
      " 59%|███████████████████████████████████████████████▊                                 | 59/100 [00:11<00:06,  5.97it/s]"
     ]
    },
    {
     "name": "stdout",
     "output_type": "stream",
     "text": [
      "Request: <module 'requests' from 'C:\\\\Users\\\\nguye\\\\anaconda3\\\\lib\\\\site-packages\\\\requests\\\\__init__.py'>; Status code: 403\n",
      "28564\n",
      "{'http': 'http://66.211.155.34:', 'https': 'https://66.211.155.34:'}\n",
      "Request: <module 'requests' from 'C:\\\\Users\\\\nguye\\\\anaconda3\\\\lib\\\\site-packages\\\\requests\\\\__init__.py'>; Status code: 403\n",
      "28565\n",
      "{'http': 'http://40.136.41.6:', 'https': 'https://40.136.41.6:'}\n"
     ]
    },
    {
     "name": "stderr",
     "output_type": "stream",
     "text": [
      " 61%|█████████████████████████████████████████████████▍                               | 61/100 [00:12<00:06,  5.97it/s]"
     ]
    },
    {
     "name": "stdout",
     "output_type": "stream",
     "text": [
      "Request: <module 'requests' from 'C:\\\\Users\\\\nguye\\\\anaconda3\\\\lib\\\\site-packages\\\\requests\\\\__init__.py'>; Status code: 403\n",
      "28566\n",
      "{'http': 'http://216.169.73.65:34679', 'https': 'https://216.169.73.65:34679'}\n",
      "Request: <module 'requests' from 'C:\\\\Users\\\\nguye\\\\anaconda3\\\\lib\\\\site-packages\\\\requests\\\\__init__.py'>; Status code: 403\n",
      "28567\n",
      "{'http': 'http://23.225.64.59:1089', 'https': 'https://23.225.64.59:1089'}\n"
     ]
    },
    {
     "name": "stderr",
     "output_type": "stream",
     "text": [
      "\r",
      " 62%|██████████████████████████████████████████████████▏                              | 62/100 [00:12<00:06,  6.00it/s]"
     ]
    },
    {
     "name": "stdout",
     "output_type": "stream",
     "text": [
      "Request: <module 'requests' from 'C:\\\\Users\\\\nguye\\\\anaconda3\\\\lib\\\\site-packages\\\\requests\\\\__init__.py'>; Status code: 403\n",
      "28568\n",
      "{'http': 'http://67.212.186.101:', 'https': 'https://67.212.186.101:'}\n"
     ]
    },
    {
     "name": "stderr",
     "output_type": "stream",
     "text": [
      " 64%|███████████████████████████████████████████████████▊                             | 64/100 [00:12<00:07,  4.82it/s]"
     ]
    },
    {
     "name": "stdout",
     "output_type": "stream",
     "text": [
      "Request: <module 'requests' from 'C:\\\\Users\\\\nguye\\\\anaconda3\\\\lib\\\\site-packages\\\\requests\\\\__init__.py'>; Status code: 403\n",
      "28569\n",
      "{'http': 'http://12.151.56.30:', 'https': 'https://12.151.56.30:'}\n",
      "Request: <module 'requests' from 'C:\\\\Users\\\\nguye\\\\anaconda3\\\\lib\\\\site-packages\\\\requests\\\\__init__.py'>; Status code: 403\n",
      "28570\n",
      "{'http': 'http://3.217.161.14:', 'https': 'https://3.217.161.14:'}\n"
     ]
    },
    {
     "name": "stderr",
     "output_type": "stream",
     "text": [
      " 66%|█████████████████████████████████████████████████████▍                           | 66/100 [00:13<00:07,  4.74it/s]"
     ]
    },
    {
     "name": "stdout",
     "output_type": "stream",
     "text": [
      "Request: <module 'requests' from 'C:\\\\Users\\\\nguye\\\\anaconda3\\\\lib\\\\site-packages\\\\requests\\\\__init__.py'>; Status code: 403\n",
      "28571\n",
      "{'http': 'http://50.235.149.74:', 'https': 'https://50.235.149.74:'}\n",
      "Request: <module 'requests' from 'C:\\\\Users\\\\nguye\\\\anaconda3\\\\lib\\\\site-packages\\\\requests\\\\__init__.py'>; Status code: 403\n",
      "28572\n",
      "{'http': 'http://64.227.62.123:', 'https': 'https://64.227.62.123:'}\n"
     ]
    },
    {
     "name": "stderr",
     "output_type": "stream",
     "text": [
      " 68%|███████████████████████████████████████████████████████                          | 68/100 [00:13<00:06,  5.29it/s]"
     ]
    },
    {
     "name": "stdout",
     "output_type": "stream",
     "text": [
      "Request: <module 'requests' from 'C:\\\\Users\\\\nguye\\\\anaconda3\\\\lib\\\\site-packages\\\\requests\\\\__init__.py'>; Status code: 403\n",
      "28573\n",
      "{'http': 'http://52.168.34.113:', 'https': 'https://52.168.34.113:'}\n",
      "Request: <module 'requests' from 'C:\\\\Users\\\\nguye\\\\anaconda3\\\\lib\\\\site-packages\\\\requests\\\\__init__.py'>; Status code: 403\n",
      "28574\n",
      "{'http': 'http://173.196.205.170:', 'https': 'https://173.196.205.170:'}\n"
     ]
    },
    {
     "name": "stderr",
     "output_type": "stream",
     "text": [
      "\r",
      " 69%|███████████████████████████████████████████████████████▉                         | 69/100 [00:14<00:09,  3.12it/s]"
     ]
    },
    {
     "name": "stdout",
     "output_type": "stream",
     "text": [
      "Request: <module 'requests' from 'C:\\\\Users\\\\nguye\\\\anaconda3\\\\lib\\\\site-packages\\\\requests\\\\__init__.py'>; Status code: 403\n",
      "28575\n",
      "{'http': 'http://47.252.82.135:', 'https': 'https://47.252.82.135:'}\n"
     ]
    },
    {
     "name": "stderr",
     "output_type": "stream",
     "text": [
      " 71%|█████████████████████████████████████████████████████████▌                       | 71/100 [00:14<00:07,  3.81it/s]"
     ]
    },
    {
     "name": "stdout",
     "output_type": "stream",
     "text": [
      "Request: <module 'requests' from 'C:\\\\Users\\\\nguye\\\\anaconda3\\\\lib\\\\site-packages\\\\requests\\\\__init__.py'>; Status code: 403\n",
      "28576\n",
      "{'http': 'http://216.169.73.65:34679', 'https': 'https://216.169.73.65:34679'}\n",
      "Request: <module 'requests' from 'C:\\\\Users\\\\nguye\\\\anaconda3\\\\lib\\\\site-packages\\\\requests\\\\__init__.py'>; Status code: 403\n",
      "28577\n",
      "{'http': 'http://64.227.62.123:', 'https': 'https://64.227.62.123:'}\n"
     ]
    },
    {
     "name": "stderr",
     "output_type": "stream",
     "text": [
      "\r",
      " 72%|██████████████████████████████████████████████████████████▎                      | 72/100 [00:15<00:10,  2.56it/s]"
     ]
    },
    {
     "name": "stdout",
     "output_type": "stream",
     "text": [
      "Request: <module 'requests' from 'C:\\\\Users\\\\nguye\\\\anaconda3\\\\lib\\\\site-packages\\\\requests\\\\__init__.py'>; Status code: 403\n",
      "28578\n",
      "{'http': 'http://204.16.1.169:82', 'https': 'https://204.16.1.169:82'}\n"
     ]
    },
    {
     "name": "stderr",
     "output_type": "stream",
     "text": [
      " 74%|███████████████████████████████████████████████████████████▉                     | 74/100 [00:16<00:13,  2.00it/s]"
     ]
    },
    {
     "name": "stdout",
     "output_type": "stream",
     "text": [
      "Request: <module 'requests' from 'C:\\\\Users\\\\nguye\\\\anaconda3\\\\lib\\\\site-packages\\\\requests\\\\__init__.py'>; Status code: 403\n",
      "28579\n",
      "{'http': 'http://47.89.153.213:', 'https': 'https://47.89.153.213:'}\n",
      "Request: <module 'requests' from 'C:\\\\Users\\\\nguye\\\\anaconda3\\\\lib\\\\site-packages\\\\requests\\\\__init__.py'>; Status code: 403\n",
      "28580\n"
     ]
    },
    {
     "name": "stderr",
     "output_type": "stream",
     "text": [
      "\r",
      " 75%|████████████████████████████████████████████████████████████▊                    | 75/100 [00:16<00:09,  2.53it/s]"
     ]
    },
    {
     "name": "stdout",
     "output_type": "stream",
     "text": [
      "{'http': 'http://67.212.186.101:', 'https': 'https://67.212.186.101:'}\n",
      "Request: <module 'requests' from 'C:\\\\Users\\\\nguye\\\\anaconda3\\\\lib\\\\site-packages\\\\requests\\\\__init__.py'>; Status code: 403\n",
      "28581\n",
      "{'http': 'http://47.88.7.115:3129', 'https': 'https://47.88.7.115:3129'}\n"
     ]
    },
    {
     "name": "stderr",
     "output_type": "stream",
     "text": [
      " 77%|██████████████████████████████████████████████████████████████▎                  | 77/100 [00:17<00:06,  3.57it/s]"
     ]
    },
    {
     "name": "stdout",
     "output_type": "stream",
     "text": [
      "Request: <module 'requests' from 'C:\\\\Users\\\\nguye\\\\anaconda3\\\\lib\\\\site-packages\\\\requests\\\\__init__.py'>; Status code: 403\n",
      "28582\n",
      "{'http': 'http://74.205.128.200:', 'https': 'https://74.205.128.200:'}\n",
      "Request: <module 'requests' from 'C:\\\\Users\\\\nguye\\\\anaconda3\\\\lib\\\\site-packages\\\\requests\\\\__init__.py'>; Status code: 403\n",
      "28583\n",
      "{'http': 'http://154.85.35.235:8888', 'https': 'https://154.85.35.235:8888'}\n"
     ]
    },
    {
     "name": "stderr",
     "output_type": "stream",
     "text": [
      " 79%|███████████████████████████████████████████████████████████████▉                 | 79/100 [00:17<00:04,  4.64it/s]"
     ]
    },
    {
     "name": "stdout",
     "output_type": "stream",
     "text": [
      "Request: <module 'requests' from 'C:\\\\Users\\\\nguye\\\\anaconda3\\\\lib\\\\site-packages\\\\requests\\\\__init__.py'>; Status code: 403\n",
      "28584\n",
      "{'http': 'http://138.68.235.51:', 'https': 'https://138.68.235.51:'}\n",
      "Request: <module 'requests' from 'C:\\\\Users\\\\nguye\\\\anaconda3\\\\lib\\\\site-packages\\\\requests\\\\__init__.py'>; Status code: 403\n",
      "28585\n",
      "{'http': 'http://138.68.235.51:', 'https': 'https://138.68.235.51:'}\n"
     ]
    },
    {
     "name": "stderr",
     "output_type": "stream",
     "text": [
      "\r",
      " 80%|████████████████████████████████████████████████████████████████▊                | 80/100 [00:17<00:04,  4.94it/s]"
     ]
    },
    {
     "name": "stdout",
     "output_type": "stream",
     "text": [
      "Request: <module 'requests' from 'C:\\\\Users\\\\nguye\\\\anaconda3\\\\lib\\\\site-packages\\\\requests\\\\__init__.py'>; Status code: 403\n",
      "28586\n",
      "{'http': 'http://138.68.235.51:', 'https': 'https://138.68.235.51:'}\n"
     ]
    },
    {
     "name": "stderr",
     "output_type": "stream",
     "text": [
      " 82%|██████████████████████████████████████████████████████████████████▍              | 82/100 [00:18<00:04,  4.17it/s]"
     ]
    },
    {
     "name": "stdout",
     "output_type": "stream",
     "text": [
      "Request: <module 'requests' from 'C:\\\\Users\\\\nguye\\\\anaconda3\\\\lib\\\\site-packages\\\\requests\\\\__init__.py'>; Status code: 403\n",
      "28587\n",
      "{'http': 'http://192.155.107.59:', 'https': 'https://192.155.107.59:'}\n",
      "Request: <module 'requests' from 'C:\\\\Users\\\\nguye\\\\anaconda3\\\\lib\\\\site-packages\\\\requests\\\\__init__.py'>; Status code: 403\n",
      "28588\n"
     ]
    },
    {
     "name": "stderr",
     "output_type": "stream",
     "text": [
      "\r",
      " 83%|███████████████████████████████████████████████████████████████████▏             | 83/100 [00:18<00:03,  4.53it/s]"
     ]
    },
    {
     "name": "stdout",
     "output_type": "stream",
     "text": [
      "{'http': 'http://173.196.205.170:', 'https': 'https://173.196.205.170:'}\n",
      "Request: <module 'requests' from 'C:\\\\Users\\\\nguye\\\\anaconda3\\\\lib\\\\site-packages\\\\requests\\\\__init__.py'>; Status code: 403\n",
      "28589\n",
      "{'http': 'http://20.47.108.204:8888', 'https': 'https://20.47.108.204:8888'}\n"
     ]
    },
    {
     "name": "stderr",
     "output_type": "stream",
     "text": [
      " 85%|████████████████████████████████████████████████████████████████████▊            | 85/100 [00:18<00:02,  5.37it/s]"
     ]
    },
    {
     "name": "stdout",
     "output_type": "stream",
     "text": [
      "Request: <module 'requests' from 'C:\\\\Users\\\\nguye\\\\anaconda3\\\\lib\\\\site-packages\\\\requests\\\\__init__.py'>; Status code: 403\n",
      "28590\n",
      "{'http': 'http://64.227.62.123:', 'https': 'https://64.227.62.123:'}\n",
      "Request: <module 'requests' from 'C:\\\\Users\\\\nguye\\\\anaconda3\\\\lib\\\\site-packages\\\\requests\\\\__init__.py'>; Status code: 403\n",
      "28591\n",
      "{'http': 'http://64.227.62.123:', 'https': 'https://64.227.62.123:'}\n"
     ]
    },
    {
     "name": "stderr",
     "output_type": "stream",
     "text": [
      " 87%|██████████████████████████████████████████████████████████████████████▍          | 87/100 [00:18<00:02,  5.76it/s]"
     ]
    },
    {
     "name": "stdout",
     "output_type": "stream",
     "text": [
      "Request: <module 'requests' from 'C:\\\\Users\\\\nguye\\\\anaconda3\\\\lib\\\\site-packages\\\\requests\\\\__init__.py'>; Status code: 403\n",
      "28592\n",
      "{'http': 'http://132.145.195.93:', 'https': 'https://132.145.195.93:'}\n",
      "Request: <module 'requests' from 'C:\\\\Users\\\\nguye\\\\anaconda3\\\\lib\\\\site-packages\\\\requests\\\\__init__.py'>; Status code: 403\n",
      "28593\n",
      "{'http': 'http://23.225.64.59:1089', 'https': 'https://23.225.64.59:1089'}\n"
     ]
    },
    {
     "name": "stderr",
     "output_type": "stream",
     "text": [
      "\r",
      " 88%|███████████████████████████████████████████████████████████████████████▎         | 88/100 [00:19<00:02,  5.79it/s]"
     ]
    },
    {
     "name": "stdout",
     "output_type": "stream",
     "text": [
      "Request: <module 'requests' from 'C:\\\\Users\\\\nguye\\\\anaconda3\\\\lib\\\\site-packages\\\\requests\\\\__init__.py'>; Status code: 403\n",
      "28594\n",
      "{'http': 'http://104.192.202.11:', 'https': 'https://104.192.202.11:'}\n"
     ]
    },
    {
     "name": "stderr",
     "output_type": "stream",
     "text": [
      " 90%|████████████████████████████████████████████████████████████████████████▉        | 90/100 [00:19<00:01,  5.10it/s]"
     ]
    },
    {
     "name": "stdout",
     "output_type": "stream",
     "text": [
      "Request: <module 'requests' from 'C:\\\\Users\\\\nguye\\\\anaconda3\\\\lib\\\\site-packages\\\\requests\\\\__init__.py'>; Status code: 403\n",
      "28595\n",
      "{'http': 'http://208.72.154.111:8888', 'https': 'https://208.72.154.111:8888'}\n",
      "Request: <module 'requests' from 'C:\\\\Users\\\\nguye\\\\anaconda3\\\\lib\\\\site-packages\\\\requests\\\\__init__.py'>; Status code: 403\n",
      "28596\n",
      "{'http': 'http://47.88.7.115:3129', 'https': 'https://47.88.7.115:3129'}\n"
     ]
    },
    {
     "name": "stderr",
     "output_type": "stream",
     "text": [
      "\r",
      " 91%|█████████████████████████████████████████████████████████████████████████▋       | 91/100 [00:19<00:01,  5.34it/s]"
     ]
    },
    {
     "name": "stdout",
     "output_type": "stream",
     "text": [
      "Request: <module 'requests' from 'C:\\\\Users\\\\nguye\\\\anaconda3\\\\lib\\\\site-packages\\\\requests\\\\__init__.py'>; Status code: 403\n",
      "28597\n",
      "{'http': 'http://204.16.1.169:82', 'https': 'https://204.16.1.169:82'}\n"
     ]
    },
    {
     "name": "stderr",
     "output_type": "stream",
     "text": [
      "\r",
      " 92%|██████████████████████████████████████████████████████████████████████████▌      | 92/100 [00:20<00:01,  5.09it/s]"
     ]
    },
    {
     "name": "stdout",
     "output_type": "stream",
     "text": [
      "Request: <module 'requests' from 'C:\\\\Users\\\\nguye\\\\anaconda3\\\\lib\\\\site-packages\\\\requests\\\\__init__.py'>; Status code: 403\n",
      "28598\n",
      "{'http': 'http://154.85.35.235:8888', 'https': 'https://154.85.35.235:8888'}\n"
     ]
    },
    {
     "name": "stderr",
     "output_type": "stream",
     "text": [
      "\r",
      " 93%|███████████████████████████████████████████████████████████████████████████▎     | 93/100 [00:20<00:01,  4.38it/s]"
     ]
    },
    {
     "name": "stdout",
     "output_type": "stream",
     "text": [
      "Request: <module 'requests' from 'C:\\\\Users\\\\nguye\\\\anaconda3\\\\lib\\\\site-packages\\\\requests\\\\__init__.py'>; Status code: 403\n",
      "28599\n",
      "{'http': 'http://104.192.202.11:', 'https': 'https://104.192.202.11:'}\n"
     ]
    },
    {
     "name": "stderr",
     "output_type": "stream",
     "text": [
      " 95%|████████████████████████████████████████████████████████████████████████████▉    | 95/100 [00:20<00:01,  4.79it/s]"
     ]
    },
    {
     "name": "stdout",
     "output_type": "stream",
     "text": [
      "Request: <module 'requests' from 'C:\\\\Users\\\\nguye\\\\anaconda3\\\\lib\\\\site-packages\\\\requests\\\\__init__.py'>; Status code: 403\n",
      "28600\n",
      "{'http': 'http://154.85.35.235:8888', 'https': 'https://154.85.35.235:8888'}\n",
      "Request: <module 'requests' from 'C:\\\\Users\\\\nguye\\\\anaconda3\\\\lib\\\\site-packages\\\\requests\\\\__init__.py'>; Status code: 403\n",
      "28601\n",
      "{'http': 'http://204.16.1.169:82', 'https': 'https://204.16.1.169:82'}\n"
     ]
    },
    {
     "name": "stderr",
     "output_type": "stream",
     "text": [
      " 97%|██████████████████████████████████████████████████████████████████████████████▌  | 97/100 [00:21<00:00,  5.17it/s]"
     ]
    },
    {
     "name": "stdout",
     "output_type": "stream",
     "text": [
      "Request: <module 'requests' from 'C:\\\\Users\\\\nguye\\\\anaconda3\\\\lib\\\\site-packages\\\\requests\\\\__init__.py'>; Status code: 403\n",
      "28602\n",
      "{'http': 'http://3.217.161.14:', 'https': 'https://3.217.161.14:'}\n",
      "Request: <module 'requests' from 'C:\\\\Users\\\\nguye\\\\anaconda3\\\\lib\\\\site-packages\\\\requests\\\\__init__.py'>; Status code: 403\n",
      "28603\n"
     ]
    },
    {
     "name": "stderr",
     "output_type": "stream",
     "text": [
      "\r",
      " 98%|███████████████████████████████████████████████████████████████████████████████▍ | 98/100 [00:21<00:00,  5.51it/s]"
     ]
    },
    {
     "name": "stdout",
     "output_type": "stream",
     "text": [
      "{'http': 'http://52.168.34.113:', 'https': 'https://52.168.34.113:'}\n",
      "Request: <module 'requests' from 'C:\\\\Users\\\\nguye\\\\anaconda3\\\\lib\\\\site-packages\\\\requests\\\\__init__.py'>; Status code: 403\n",
      "28604\n",
      "{'http': 'http://76.81.164.246:', 'https': 'https://76.81.164.246:'}\n"
     ]
    },
    {
     "name": "stderr",
     "output_type": "stream",
     "text": [
      "100%|████████████████████████████████████████████████████████████████████████████████| 100/100 [00:21<00:00,  4.64it/s]"
     ]
    },
    {
     "name": "stdout",
     "output_type": "stream",
     "text": [
      "Request: <module 'requests' from 'C:\\\\Users\\\\nguye\\\\anaconda3\\\\lib\\\\site-packages\\\\requests\\\\__init__.py'>; Status code: 403\n",
      "28605\n",
      "{'http': 'http://208.72.154.111:8888', 'https': 'https://208.72.154.111:8888'}\n",
      "Request: <module 'requests' from 'C:\\\\Users\\\\nguye\\\\anaconda3\\\\lib\\\\site-packages\\\\requests\\\\__init__.py'>; Status code: 403\n",
      "28606\n"
     ]
    },
    {
     "name": "stderr",
     "output_type": "stream",
     "text": [
      "\n",
      "  0%|                                                                                           | 0/95 [00:00<?, ?it/s]"
     ]
    },
    {
     "name": "stdout",
     "output_type": "stream",
     "text": [
      "{'http': 'http://20.47.108.204:8888', 'https': 'https://20.47.108.204:8888'}\n"
     ]
    },
    {
     "name": "stderr",
     "output_type": "stream",
     "text": [
      "  2%|█▋                                                                                 | 2/95 [00:01<00:58,  1.59it/s]"
     ]
    },
    {
     "name": "stdout",
     "output_type": "stream",
     "text": [
      "Request: <module 'requests' from 'C:\\\\Users\\\\nguye\\\\anaconda3\\\\lib\\\\site-packages\\\\requests\\\\__init__.py'>; Status code: 403\n",
      "27161\n",
      "{'http': 'http://173.196.205.170:', 'https': 'https://173.196.205.170:'}\n",
      "Request: <module 'requests' from 'C:\\\\Users\\\\nguye\\\\anaconda3\\\\lib\\\\site-packages\\\\requests\\\\__init__.py'>; Status code: 403\n",
      "27162\n"
     ]
    },
    {
     "name": "stderr",
     "output_type": "stream",
     "text": [
      "\r",
      "  3%|██▌                                                                                | 3/95 [00:01<00:37,  2.44it/s]"
     ]
    },
    {
     "name": "stdout",
     "output_type": "stream",
     "text": [
      "{'http': 'http://63.161.104.189:', 'https': 'https://63.161.104.189:'}\n",
      "Request: <module 'requests' from 'C:\\\\Users\\\\nguye\\\\anaconda3\\\\lib\\\\site-packages\\\\requests\\\\__init__.py'>; Status code: 403\n",
      "27163\n",
      "{'http': 'http://63.161.104.189:', 'https': 'https://63.161.104.189:'}\n"
     ]
    },
    {
     "name": "stderr",
     "output_type": "stream",
     "text": [
      "  5%|████▎                                                                              | 5/95 [00:01<00:22,  3.94it/s]"
     ]
    },
    {
     "name": "stdout",
     "output_type": "stream",
     "text": [
      "Request: <module 'requests' from 'C:\\\\Users\\\\nguye\\\\anaconda3\\\\lib\\\\site-packages\\\\requests\\\\__init__.py'>; Status code: 403\n",
      "27164\n",
      "{'http': 'http://107.151.182.247:', 'https': 'https://107.151.182.247:'}\n",
      "Request: <module 'requests' from 'C:\\\\Users\\\\nguye\\\\anaconda3\\\\lib\\\\site-packages\\\\requests\\\\__init__.py'>; Status code: 403\n",
      "27165\n",
      "{'http': 'http://64.227.62.123:', 'https': 'https://64.227.62.123:'}\n"
     ]
    },
    {
     "name": "stderr",
     "output_type": "stream",
     "text": [
      "  7%|██████                                                                             | 7/95 [00:02<00:17,  5.06it/s]"
     ]
    },
    {
     "name": "stdout",
     "output_type": "stream",
     "text": [
      "Request: <module 'requests' from 'C:\\\\Users\\\\nguye\\\\anaconda3\\\\lib\\\\site-packages\\\\requests\\\\__init__.py'>; Status code: 403\n",
      "27166\n",
      "{'http': 'http://54.80.246.241:', 'https': 'https://54.80.246.241:'}\n",
      "Request: <module 'requests' from 'C:\\\\Users\\\\nguye\\\\anaconda3\\\\lib\\\\site-packages\\\\requests\\\\__init__.py'>; Status code: 403\n",
      "27167\n",
      "{'http': 'http://72.47.152.224:55443', 'https': 'https://72.47.152.224:55443'}\n"
     ]
    },
    {
     "name": "stderr",
     "output_type": "stream",
     "text": [
      "  9%|███████▊                                                                           | 9/95 [00:03<00:30,  2.86it/s]"
     ]
    },
    {
     "name": "stdout",
     "output_type": "stream",
     "text": [
      "Request: <module 'requests' from 'C:\\\\Users\\\\nguye\\\\anaconda3\\\\lib\\\\site-packages\\\\requests\\\\__init__.py'>; Status code: 403\n",
      "27168\n",
      "{'http': 'http://12.151.56.30:', 'https': 'https://12.151.56.30:'}\n",
      "Request: <module 'requests' from 'C:\\\\Users\\\\nguye\\\\anaconda3\\\\lib\\\\site-packages\\\\requests\\\\__init__.py'>; Status code: 403\n",
      "27169\n",
      "{'http': 'http://104.192.202.11:', 'https': 'https://104.192.202.11:'}\n"
     ]
    },
    {
     "name": "stderr",
     "output_type": "stream",
     "text": [
      " 12%|█████████▍                                                                        | 11/95 [00:03<00:20,  4.10it/s]"
     ]
    },
    {
     "name": "stdout",
     "output_type": "stream",
     "text": [
      "Request: <module 'requests' from 'C:\\\\Users\\\\nguye\\\\anaconda3\\\\lib\\\\site-packages\\\\requests\\\\__init__.py'>; Status code: 403\n",
      "27170\n",
      "{'http': 'http://173.196.205.170:', 'https': 'https://173.196.205.170:'}\n",
      "Request: <module 'requests' from 'C:\\\\Users\\\\nguye\\\\anaconda3\\\\lib\\\\site-packages\\\\requests\\\\__init__.py'>; Status code: 403\n",
      "27171\n",
      "{'http': 'http://52.168.34.113:', 'https': 'https://52.168.34.113:'}\n"
     ]
    },
    {
     "name": "stderr",
     "output_type": "stream",
     "text": [
      " 14%|███████████▏                                                                      | 13/95 [00:03<00:15,  5.25it/s]"
     ]
    },
    {
     "name": "stdout",
     "output_type": "stream",
     "text": [
      "Request: <module 'requests' from 'C:\\\\Users\\\\nguye\\\\anaconda3\\\\lib\\\\site-packages\\\\requests\\\\__init__.py'>; Status code: 403\n",
      "27172\n",
      "{'http': 'http://20.47.108.204:8888', 'https': 'https://20.47.108.204:8888'}\n",
      "Request: <module 'requests' from 'C:\\\\Users\\\\nguye\\\\anaconda3\\\\lib\\\\site-packages\\\\requests\\\\__init__.py'>; Status code: 403\n",
      "27173\n",
      "{'http': 'http://74.205.128.200:', 'https': 'https://74.205.128.200:'}\n"
     ]
    },
    {
     "name": "stderr",
     "output_type": "stream",
     "text": [
      " 16%|████████████▉                                                                     | 15/95 [00:04<00:14,  5.63it/s]"
     ]
    },
    {
     "name": "stdout",
     "output_type": "stream",
     "text": [
      "Request: <module 'requests' from 'C:\\\\Users\\\\nguye\\\\anaconda3\\\\lib\\\\site-packages\\\\requests\\\\__init__.py'>; Status code: 403\n",
      "27174\n",
      "{'http': 'http://186.233.186.60:', 'https': 'https://186.233.186.60:'}\n",
      "Request: <module 'requests' from 'C:\\\\Users\\\\nguye\\\\anaconda3\\\\lib\\\\site-packages\\\\requests\\\\__init__.py'>; Status code: 403\n",
      "27175\n",
      "{'http': 'http://161.35.4.201:', 'https': 'https://161.35.4.201:'}\n"
     ]
    },
    {
     "name": "stderr",
     "output_type": "stream",
     "text": [
      "\r",
      " 17%|█████████████▊                                                                    | 16/95 [00:04<00:15,  5.06it/s]"
     ]
    },
    {
     "name": "stdout",
     "output_type": "stream",
     "text": [
      "Request: <module 'requests' from 'C:\\\\Users\\\\nguye\\\\anaconda3\\\\lib\\\\site-packages\\\\requests\\\\__init__.py'>; Status code: 403\n",
      "27176\n",
      "{'http': 'http://154.85.35.235:8888', 'https': 'https://154.85.35.235:8888'}\n"
     ]
    },
    {
     "name": "stderr",
     "output_type": "stream",
     "text": [
      "\r",
      " 18%|██████████████▋                                                                   | 17/95 [00:05<00:35,  2.21it/s]"
     ]
    },
    {
     "name": "stdout",
     "output_type": "stream",
     "text": [
      "Request: <module 'requests' from 'C:\\\\Users\\\\nguye\\\\anaconda3\\\\lib\\\\site-packages\\\\requests\\\\__init__.py'>; Status code: 403\n",
      "27177\n",
      "{'http': 'http://204.16.1.169:82', 'https': 'https://204.16.1.169:82'}\n"
     ]
    },
    {
     "name": "stderr",
     "output_type": "stream",
     "text": [
      " 20%|████████████████▍                                                                 | 19/95 [00:06<00:26,  2.83it/s]"
     ]
    },
    {
     "name": "stdout",
     "output_type": "stream",
     "text": [
      "Request: <module 'requests' from 'C:\\\\Users\\\\nguye\\\\anaconda3\\\\lib\\\\site-packages\\\\requests\\\\__init__.py'>; Status code: 403\n",
      "27178\n",
      "{'http': 'http://3.217.161.14:', 'https': 'https://3.217.161.14:'}\n",
      "Request: <module 'requests' from 'C:\\\\Users\\\\nguye\\\\anaconda3\\\\lib\\\\site-packages\\\\requests\\\\__init__.py'>; Status code: 403\n",
      "27179\n",
      "{'http': 'http://192.155.107.60:', 'https': 'https://192.155.107.60:'}\n"
     ]
    },
    {
     "name": "stderr",
     "output_type": "stream",
     "text": [
      " 22%|██████████████████▏                                                               | 21/95 [00:06<00:18,  3.98it/s]"
     ]
    },
    {
     "name": "stdout",
     "output_type": "stream",
     "text": [
      "Request: <module 'requests' from 'C:\\\\Users\\\\nguye\\\\anaconda3\\\\lib\\\\site-packages\\\\requests\\\\__init__.py'>; Status code: 403\n",
      "27180\n",
      "{'http': 'http://47.252.82.135:', 'https': 'https://47.252.82.135:'}\n",
      "Request: <module 'requests' from 'C:\\\\Users\\\\nguye\\\\anaconda3\\\\lib\\\\site-packages\\\\requests\\\\__init__.py'>; Status code: 403\n",
      "27181\n",
      "{'http': 'http://159.65.69.186:9300', 'https': 'https://159.65.69.186:9300'}\n"
     ]
    },
    {
     "name": "stderr",
     "output_type": "stream",
     "text": [
      " 24%|███████████████████▊                                                              | 23/95 [00:06<00:15,  4.80it/s]"
     ]
    },
    {
     "name": "stdout",
     "output_type": "stream",
     "text": [
      "Request: <module 'requests' from 'C:\\\\Users\\\\nguye\\\\anaconda3\\\\lib\\\\site-packages\\\\requests\\\\__init__.py'>; Status code: 403\n",
      "27182\n",
      "{'http': 'http://72.47.152.224:55443', 'https': 'https://72.47.152.224:55443'}\n",
      "Request: <module 'requests' from 'C:\\\\Users\\\\nguye\\\\anaconda3\\\\lib\\\\site-packages\\\\requests\\\\__init__.py'>; Status code: 403\n",
      "27183\n",
      "{'http': 'http://50.235.149.74:', 'https': 'https://50.235.149.74:'}\n"
     ]
    },
    {
     "name": "stderr",
     "output_type": "stream",
     "text": [
      " 26%|█████████████████████▌                                                            | 25/95 [00:07<00:13,  5.27it/s]"
     ]
    },
    {
     "name": "stdout",
     "output_type": "stream",
     "text": [
      "Request: <module 'requests' from 'C:\\\\Users\\\\nguye\\\\anaconda3\\\\lib\\\\site-packages\\\\requests\\\\__init__.py'>; Status code: 403\n",
      "27184\n",
      "{'http': 'http://161.35.4.201:', 'https': 'https://161.35.4.201:'}\n",
      "Request: <module 'requests' from 'C:\\\\Users\\\\nguye\\\\anaconda3\\\\lib\\\\site-packages\\\\requests\\\\__init__.py'>; Status code: 403\n",
      "27185\n"
     ]
    },
    {
     "name": "stderr",
     "output_type": "stream",
     "text": [
      "\r",
      " 27%|██████████████████████▍                                                           | 26/95 [00:07<00:12,  5.56it/s]"
     ]
    },
    {
     "name": "stdout",
     "output_type": "stream",
     "text": [
      "{'http': 'http://161.35.4.201:', 'https': 'https://161.35.4.201:'}\n",
      "Request: <module 'requests' from 'C:\\\\Users\\\\nguye\\\\anaconda3\\\\lib\\\\site-packages\\\\requests\\\\__init__.py'>; Status code: 403\n",
      "27186\n",
      "{'http': 'http://52.168.34.113:', 'https': 'https://52.168.34.113:'}\n"
     ]
    },
    {
     "name": "stderr",
     "output_type": "stream",
     "text": [
      " 29%|████████████████████████▏                                                         | 28/95 [00:07<00:11,  5.95it/s]"
     ]
    },
    {
     "name": "stdout",
     "output_type": "stream",
     "text": [
      "Request: <module 'requests' from 'C:\\\\Users\\\\nguye\\\\anaconda3\\\\lib\\\\site-packages\\\\requests\\\\__init__.py'>; Status code: 403\n",
      "27187\n",
      "{'http': 'http://76.81.164.246:', 'https': 'https://76.81.164.246:'}\n",
      "Request: <module 'requests' from 'C:\\\\Users\\\\nguye\\\\anaconda3\\\\lib\\\\site-packages\\\\requests\\\\__init__.py'>; Status code: 403\n",
      "27188\n",
      "{'http': 'http://76.81.164.246:', 'https': 'https://76.81.164.246:'}\n"
     ]
    },
    {
     "name": "stderr",
     "output_type": "stream",
     "text": [
      " 32%|█████████████████████████▉                                                        | 30/95 [00:07<00:09,  6.55it/s]"
     ]
    },
    {
     "name": "stdout",
     "output_type": "stream",
     "text": [
      "Request: <module 'requests' from 'C:\\\\Users\\\\nguye\\\\anaconda3\\\\lib\\\\site-packages\\\\requests\\\\__init__.py'>; Status code: 403\n",
      "27189\n",
      "{'http': 'http://186.233.186.60:', 'https': 'https://186.233.186.60:'}\n",
      "Request: <module 'requests' from 'C:\\\\Users\\\\nguye\\\\anaconda3\\\\lib\\\\site-packages\\\\requests\\\\__init__.py'>; Status code: 403\n",
      "27190\n",
      "{'http': 'http://50.235.149.74:', 'https': 'https://50.235.149.74:'}\n"
     ]
    },
    {
     "name": "stderr",
     "output_type": "stream",
     "text": [
      "\r",
      " 33%|██████████████████████████▊                                                       | 31/95 [00:07<00:09,  6.64it/s]"
     ]
    },
    {
     "name": "stdout",
     "output_type": "stream",
     "text": [
      "Request: <module 'requests' from 'C:\\\\Users\\\\nguye\\\\anaconda3\\\\lib\\\\site-packages\\\\requests\\\\__init__.py'>; Status code: 403\n",
      "27191\n",
      "{'http': 'http://66.211.155.34:', 'https': 'https://66.211.155.34:'}\n"
     ]
    },
    {
     "name": "stderr",
     "output_type": "stream",
     "text": [
      "\r",
      " 34%|███████████████████████████▌                                                      | 32/95 [00:08<00:18,  3.32it/s]"
     ]
    },
    {
     "name": "stdout",
     "output_type": "stream",
     "text": [
      "Request: <module 'requests' from 'C:\\\\Users\\\\nguye\\\\anaconda3\\\\lib\\\\site-packages\\\\requests\\\\__init__.py'>; Status code: 403\n",
      "27192\n",
      "{'http': 'http://138.68.235.51:', 'https': 'https://138.68.235.51:'}\n"
     ]
    },
    {
     "name": "stderr",
     "output_type": "stream",
     "text": [
      " 36%|█████████████████████████████▎                                                    | 34/95 [00:08<00:15,  4.05it/s]"
     ]
    },
    {
     "name": "stdout",
     "output_type": "stream",
     "text": [
      "Request: <module 'requests' from 'C:\\\\Users\\\\nguye\\\\anaconda3\\\\lib\\\\site-packages\\\\requests\\\\__init__.py'>; Status code: 403\n",
      "27193\n",
      "{'http': 'http://132.145.195.93:', 'https': 'https://132.145.195.93:'}\n",
      "Request: <module 'requests' from 'C:\\\\Users\\\\nguye\\\\anaconda3\\\\lib\\\\site-packages\\\\requests\\\\__init__.py'>; Status code: 403\n",
      "27194\n"
     ]
    },
    {
     "name": "stderr",
     "output_type": "stream",
     "text": [
      "\r",
      " 37%|██████████████████████████████▏                                                   | 35/95 [00:09<00:14,  4.21it/s]"
     ]
    },
    {
     "name": "stdout",
     "output_type": "stream",
     "text": [
      "{'http': 'http://132.145.195.93:', 'https': 'https://132.145.195.93:'}\n",
      "Request: <module 'requests' from 'C:\\\\Users\\\\nguye\\\\anaconda3\\\\lib\\\\site-packages\\\\requests\\\\__init__.py'>; Status code: 403\n",
      "27195\n",
      "{'http': 'http://208.72.154.111:8888', 'https': 'https://208.72.154.111:8888'}\n"
     ]
    },
    {
     "name": "stderr",
     "output_type": "stream",
     "text": [
      " 39%|███████████████████████████████▉                                                  | 37/95 [00:09<00:12,  4.54it/s]"
     ]
    },
    {
     "name": "stdout",
     "output_type": "stream",
     "text": [
      "Request: <module 'requests' from 'C:\\\\Users\\\\nguye\\\\anaconda3\\\\lib\\\\site-packages\\\\requests\\\\__init__.py'>; Status code: 403\n",
      "27196\n",
      "{'http': 'http://161.35.4.201:', 'https': 'https://161.35.4.201:'}\n",
      "Request: <module 'requests' from 'C:\\\\Users\\\\nguye\\\\anaconda3\\\\lib\\\\site-packages\\\\requests\\\\__init__.py'>; Status code: 403\n",
      "27197\n",
      "{'http': 'http://159.65.69.186:9300', 'https': 'https://159.65.69.186:9300'}\n"
     ]
    },
    {
     "name": "stderr",
     "output_type": "stream",
     "text": [
      " 41%|█████████████████████████████████▋                                                | 39/95 [00:09<00:10,  5.35it/s]"
     ]
    },
    {
     "name": "stdout",
     "output_type": "stream",
     "text": [
      "Request: <module 'requests' from 'C:\\\\Users\\\\nguye\\\\anaconda3\\\\lib\\\\site-packages\\\\requests\\\\__init__.py'>; Status code: 403\n",
      "27198\n",
      "{'http': 'http://47.252.82.135:', 'https': 'https://47.252.82.135:'}\n",
      "Request: <module 'requests' from 'C:\\\\Users\\\\nguye\\\\anaconda3\\\\lib\\\\site-packages\\\\requests\\\\__init__.py'>; Status code: 403\n",
      "27199\n",
      "{'http': 'http://3.211.17.212:', 'https': 'https://3.211.17.212:'}\n"
     ]
    },
    {
     "name": "stderr",
     "output_type": "stream",
     "text": [
      " 43%|███████████████████████████████████▍                                              | 41/95 [00:10<00:09,  5.85it/s]"
     ]
    },
    {
     "name": "stdout",
     "output_type": "stream",
     "text": [
      "Request: <module 'requests' from 'C:\\\\Users\\\\nguye\\\\anaconda3\\\\lib\\\\site-packages\\\\requests\\\\__init__.py'>; Status code: 403\n",
      "27200\n",
      "{'http': 'http://50.235.149.74:', 'https': 'https://50.235.149.74:'}\n",
      "Request: <module 'requests' from 'C:\\\\Users\\\\nguye\\\\anaconda3\\\\lib\\\\site-packages\\\\requests\\\\__init__.py'>; Status code: 403\n",
      "27201\n",
      "{'http': 'http://54.80.246.241:', 'https': 'https://54.80.246.241:'}\n"
     ]
    },
    {
     "name": "stderr",
     "output_type": "stream",
     "text": [
      "\r",
      " 44%|████████████████████████████████████▎                                             | 42/95 [00:10<00:08,  6.04it/s]"
     ]
    },
    {
     "name": "stdout",
     "output_type": "stream",
     "text": [
      "Request: <module 'requests' from 'C:\\\\Users\\\\nguye\\\\anaconda3\\\\lib\\\\site-packages\\\\requests\\\\__init__.py'>; Status code: 403\n",
      "27202\n",
      "{'http': 'http://208.72.154.111:8888', 'https': 'https://208.72.154.111:8888'}\n"
     ]
    },
    {
     "name": "stderr",
     "output_type": "stream",
     "text": [
      "\r",
      " 45%|█████████████████████████████████████                                             | 43/95 [00:10<00:09,  5.55it/s]"
     ]
    },
    {
     "name": "stdout",
     "output_type": "stream",
     "text": [
      "Request: <module 'requests' from 'C:\\\\Users\\\\nguye\\\\anaconda3\\\\lib\\\\site-packages\\\\requests\\\\__init__.py'>; Status code: 403\n",
      "27203\n",
      "{'http': 'http://66.211.155.34:', 'https': 'https://66.211.155.34:'}\n"
     ]
    },
    {
     "name": "stderr",
     "output_type": "stream",
     "text": [
      " 47%|██████████████████████████████████████▊                                           | 45/95 [00:11<00:09,  5.34it/s]"
     ]
    },
    {
     "name": "stdout",
     "output_type": "stream",
     "text": [
      "Request: <module 'requests' from 'C:\\\\Users\\\\nguye\\\\anaconda3\\\\lib\\\\site-packages\\\\requests\\\\__init__.py'>; Status code: 403\n",
      "27204\n",
      "{'http': 'http://47.252.82.135:', 'https': 'https://47.252.82.135:'}\n",
      "Request: <module 'requests' from 'C:\\\\Users\\\\nguye\\\\anaconda3\\\\lib\\\\site-packages\\\\requests\\\\__init__.py'>; Status code: 403\n",
      "27205\n",
      "{'http': 'http://173.196.205.170:', 'https': 'https://173.196.205.170:'}\n"
     ]
    },
    {
     "name": "stderr",
     "output_type": "stream",
     "text": [
      "\r",
      " 48%|███████████████████████████████████████▋                                          | 46/95 [00:11<00:09,  5.10it/s]"
     ]
    },
    {
     "name": "stdout",
     "output_type": "stream",
     "text": [
      "Request: <module 'requests' from 'C:\\\\Users\\\\nguye\\\\anaconda3\\\\lib\\\\site-packages\\\\requests\\\\__init__.py'>; Status code: 403\n",
      "27206\n",
      "{'http': 'http://104.192.202.11:', 'https': 'https://104.192.202.11:'}\n"
     ]
    },
    {
     "name": "stderr",
     "output_type": "stream",
     "text": [
      " 51%|█████████████████████████████████████████▍                                        | 48/95 [00:11<00:09,  4.93it/s]"
     ]
    },
    {
     "name": "stdout",
     "output_type": "stream",
     "text": [
      "Request: <module 'requests' from 'C:\\\\Users\\\\nguye\\\\anaconda3\\\\lib\\\\site-packages\\\\requests\\\\__init__.py'>; Status code: 403\n",
      "27207\n",
      "{'http': 'http://107.151.182.247:', 'https': 'https://107.151.182.247:'}\n",
      "Request: <module 'requests' from 'C:\\\\Users\\\\nguye\\\\anaconda3\\\\lib\\\\site-packages\\\\requests\\\\__init__.py'>; Status code: 403\n",
      "27208\n"
     ]
    },
    {
     "name": "stderr",
     "output_type": "stream",
     "text": [
      "\r",
      " 52%|██████████████████████████████████████████▎                                       | 49/95 [00:11<00:08,  5.17it/s]"
     ]
    },
    {
     "name": "stdout",
     "output_type": "stream",
     "text": [
      "{'http': 'http://132.145.195.93:', 'https': 'https://132.145.195.93:'}\n",
      "Request: <module 'requests' from 'C:\\\\Users\\\\nguye\\\\anaconda3\\\\lib\\\\site-packages\\\\requests\\\\__init__.py'>; Status code: 403\n",
      "27209\n",
      "{'http': 'http://3.211.17.212:', 'https': 'https://3.211.17.212:'}\n"
     ]
    },
    {
     "name": "stderr",
     "output_type": "stream",
     "text": [
      " 54%|████████████████████████████████████████████                                      | 51/95 [00:12<00:08,  5.41it/s]"
     ]
    },
    {
     "name": "stdout",
     "output_type": "stream",
     "text": [
      "Request: <module 'requests' from 'C:\\\\Users\\\\nguye\\\\anaconda3\\\\lib\\\\site-packages\\\\requests\\\\__init__.py'>; Status code: 403\n",
      "27210\n",
      "{'http': 'http://47.252.82.135:', 'https': 'https://47.252.82.135:'}\n",
      "Request: <module 'requests' from 'C:\\\\Users\\\\nguye\\\\anaconda3\\\\lib\\\\site-packages\\\\requests\\\\__init__.py'>; Status code: 403\n",
      "27211\n"
     ]
    },
    {
     "name": "stderr",
     "output_type": "stream",
     "text": [
      "\r",
      " 55%|████████████████████████████████████████████▉                                     | 52/95 [00:12<00:07,  5.55it/s]"
     ]
    },
    {
     "name": "stdout",
     "output_type": "stream",
     "text": [
      "{'http': 'http://20.47.108.204:8888', 'https': 'https://20.47.108.204:8888'}\n",
      "Request: <module 'requests' from 'C:\\\\Users\\\\nguye\\\\anaconda3\\\\lib\\\\site-packages\\\\requests\\\\__init__.py'>; Status code: 403\n",
      "27212\n",
      "{'http': 'http://159.65.69.186:9300', 'https': 'https://159.65.69.186:9300'}\n"
     ]
    },
    {
     "name": "stderr",
     "output_type": "stream",
     "text": [
      "\r",
      " 56%|█████████████████████████████████████████████▋                                    | 53/95 [00:12<00:09,  4.35it/s]"
     ]
    },
    {
     "name": "stdout",
     "output_type": "stream",
     "text": [
      "Request: <module 'requests' from 'C:\\\\Users\\\\nguye\\\\anaconda3\\\\lib\\\\site-packages\\\\requests\\\\__init__.py'>; Status code: 403\n",
      "27213\n",
      "{'http': 'http://74.205.128.200:', 'https': 'https://74.205.128.200:'}\n"
     ]
    },
    {
     "name": "stderr",
     "output_type": "stream",
     "text": [
      " 58%|███████████████████████████████████████████████▍                                  | 55/95 [00:13<00:09,  4.37it/s]"
     ]
    },
    {
     "name": "stdout",
     "output_type": "stream",
     "text": [
      "Request: <module 'requests' from 'C:\\\\Users\\\\nguye\\\\anaconda3\\\\lib\\\\site-packages\\\\requests\\\\__init__.py'>; Status code: 403\n",
      "27214\n",
      "{'http': 'http://138.68.235.51:', 'https': 'https://138.68.235.51:'}\n",
      "Request: <module 'requests' from 'C:\\\\Users\\\\nguye\\\\anaconda3\\\\lib\\\\site-packages\\\\requests\\\\__init__.py'>; Status code: 403\n",
      "27215\n",
      "{'http': 'http://192.155.107.59:', 'https': 'https://192.155.107.59:'}\n"
     ]
    },
    {
     "name": "stderr",
     "output_type": "stream",
     "text": [
      " 60%|█████████████████████████████████████████████████▏                                | 57/95 [00:13<00:07,  5.02it/s]"
     ]
    },
    {
     "name": "stdout",
     "output_type": "stream",
     "text": [
      "Request: <module 'requests' from 'C:\\\\Users\\\\nguye\\\\anaconda3\\\\lib\\\\site-packages\\\\requests\\\\__init__.py'>; Status code: 403\n",
      "27216\n",
      "{'http': 'http://132.145.195.93:', 'https': 'https://132.145.195.93:'}\n",
      "Request: <module 'requests' from 'C:\\\\Users\\\\nguye\\\\anaconda3\\\\lib\\\\site-packages\\\\requests\\\\__init__.py'>; Status code: 403\n",
      "27217\n"
     ]
    },
    {
     "name": "stderr",
     "output_type": "stream",
     "text": [
      "\r",
      " 61%|██████████████████████████████████████████████████                                | 58/95 [00:13<00:07,  5.15it/s]"
     ]
    },
    {
     "name": "stdout",
     "output_type": "stream",
     "text": [
      "{'http': 'http://104.192.202.11:', 'https': 'https://104.192.202.11:'}\n",
      "Request: <module 'requests' from 'C:\\\\Users\\\\nguye\\\\anaconda3\\\\lib\\\\site-packages\\\\requests\\\\__init__.py'>; Status code: 403\n",
      "27218\n",
      "{'http': 'http://47.88.7.115:3129', 'https': 'https://47.88.7.115:3129'}\n"
     ]
    },
    {
     "name": "stderr",
     "output_type": "stream",
     "text": [
      " 63%|███████████████████████████████████████████████████▊                              | 60/95 [00:14<00:06,  5.47it/s]"
     ]
    },
    {
     "name": "stdout",
     "output_type": "stream",
     "text": [
      "Request: <module 'requests' from 'C:\\\\Users\\\\nguye\\\\anaconda3\\\\lib\\\\site-packages\\\\requests\\\\__init__.py'>; Status code: 403\n",
      "27219\n",
      "{'http': 'http://186.233.186.60:', 'https': 'https://186.233.186.60:'}\n",
      "Request: <module 'requests' from 'C:\\\\Users\\\\nguye\\\\anaconda3\\\\lib\\\\site-packages\\\\requests\\\\__init__.py'>; Status code: 403\n",
      "27220\n",
      "{'http': 'http://161.35.4.201:', 'https': 'https://161.35.4.201:'}\n"
     ]
    },
    {
     "name": "stderr",
     "output_type": "stream",
     "text": [
      " 65%|█████████████████████████████████████████████████████▌                            | 62/95 [00:14<00:05,  5.59it/s]"
     ]
    },
    {
     "name": "stdout",
     "output_type": "stream",
     "text": [
      "Request: <module 'requests' from 'C:\\\\Users\\\\nguye\\\\anaconda3\\\\lib\\\\site-packages\\\\requests\\\\__init__.py'>; Status code: 403\n",
      "27221\n",
      "{'http': 'http://132.145.195.93:', 'https': 'https://132.145.195.93:'}\n",
      "Request: <module 'requests' from 'C:\\\\Users\\\\nguye\\\\anaconda3\\\\lib\\\\site-packages\\\\requests\\\\__init__.py'>; Status code: 403\n",
      "27222\n",
      "{'http': 'http://23.225.64.59:1089', 'https': 'https://23.225.64.59:1089'}\n"
     ]
    },
    {
     "name": "stderr",
     "output_type": "stream",
     "text": [
      "\r",
      " 66%|██████████████████████████████████████████████████████▍                           | 63/95 [00:14<00:06,  5.14it/s]"
     ]
    },
    {
     "name": "stdout",
     "output_type": "stream",
     "text": [
      "Request: <module 'requests' from 'C:\\\\Users\\\\nguye\\\\anaconda3\\\\lib\\\\site-packages\\\\requests\\\\__init__.py'>; Status code: 403\n",
      "27223\n",
      "{'http': 'http://3.230.91.35:', 'https': 'https://3.230.91.35:'}\n"
     ]
    },
    {
     "name": "stderr",
     "output_type": "stream",
     "text": [
      "\r",
      " 67%|███████████████████████████████████████████████████████▏                          | 64/95 [00:14<00:06,  4.64it/s]"
     ]
    },
    {
     "name": "stdout",
     "output_type": "stream",
     "text": [
      "Request: <module 'requests' from 'C:\\\\Users\\\\nguye\\\\anaconda3\\\\lib\\\\site-packages\\\\requests\\\\__init__.py'>; Status code: 403\n",
      "27224\n",
      "{'http': 'http://67.212.186.101:', 'https': 'https://67.212.186.101:'}\n"
     ]
    },
    {
     "name": "stderr",
     "output_type": "stream",
     "text": [
      " 69%|████████████████████████████████████████████████████████▉                         | 66/95 [00:15<00:06,  4.83it/s]"
     ]
    },
    {
     "name": "stdout",
     "output_type": "stream",
     "text": [
      "Request: <module 'requests' from 'C:\\\\Users\\\\nguye\\\\anaconda3\\\\lib\\\\site-packages\\\\requests\\\\__init__.py'>; Status code: 403\n",
      "27225\n",
      "{'http': 'http://66.211.155.34:', 'https': 'https://66.211.155.34:'}\n",
      "Request: <module 'requests' from 'C:\\\\Users\\\\nguye\\\\anaconda3\\\\lib\\\\site-packages\\\\requests\\\\__init__.py'>; Status code: 403\n",
      "27226\n",
      "{'http': 'http://50.235.149.74:', 'https': 'https://50.235.149.74:'}\n"
     ]
    },
    {
     "name": "stderr",
     "output_type": "stream",
     "text": [
      " 72%|██████████████████████████████████████████████████████████▋                       | 68/95 [00:15<00:05,  5.17it/s]"
     ]
    },
    {
     "name": "stdout",
     "output_type": "stream",
     "text": [
      "Request: <module 'requests' from 'C:\\\\Users\\\\nguye\\\\anaconda3\\\\lib\\\\site-packages\\\\requests\\\\__init__.py'>; Status code: 403\n",
      "27227\n",
      "{'http': 'http://66.211.155.34:', 'https': 'https://66.211.155.34:'}\n",
      "Request: <module 'requests' from 'C:\\\\Users\\\\nguye\\\\anaconda3\\\\lib\\\\site-packages\\\\requests\\\\__init__.py'>; Status code: 403\n",
      "27228\n"
     ]
    },
    {
     "name": "stderr",
     "output_type": "stream",
     "text": [
      "\r",
      " 73%|███████████████████████████████████████████████████████████▌                      | 69/95 [00:15<00:04,  5.52it/s]"
     ]
    },
    {
     "name": "stdout",
     "output_type": "stream",
     "text": [
      "{'http': 'http://138.68.235.51:', 'https': 'https://138.68.235.51:'}\n",
      "Request: <module 'requests' from 'C:\\\\Users\\\\nguye\\\\anaconda3\\\\lib\\\\site-packages\\\\requests\\\\__init__.py'>; Status code: 403\n",
      "27229\n",
      "{'http': 'http://204.16.1.169:82', 'https': 'https://204.16.1.169:82'}\n"
     ]
    },
    {
     "name": "stderr",
     "output_type": "stream",
     "text": [
      " 75%|█████████████████████████████████████████████████████████████▎                    | 71/95 [00:16<00:04,  5.53it/s]"
     ]
    },
    {
     "name": "stdout",
     "output_type": "stream",
     "text": [
      "Request: <module 'requests' from 'C:\\\\Users\\\\nguye\\\\anaconda3\\\\lib\\\\site-packages\\\\requests\\\\__init__.py'>; Status code: 403\n",
      "27230\n",
      "{'http': 'http://3.230.91.35:', 'https': 'https://3.230.91.35:'}\n",
      "Request: <module 'requests' from 'C:\\\\Users\\\\nguye\\\\anaconda3\\\\lib\\\\site-packages\\\\requests\\\\__init__.py'>; Status code: 403\n",
      "27231\n",
      "{'http': 'http://47.88.7.115:3129', 'https': 'https://47.88.7.115:3129'}\n"
     ]
    },
    {
     "name": "stderr",
     "output_type": "stream",
     "text": [
      "\r",
      " 76%|██████████████████████████████████████████████████████████████▏                   | 72/95 [00:16<00:04,  5.04it/s]"
     ]
    },
    {
     "name": "stdout",
     "output_type": "stream",
     "text": [
      "Request: <module 'requests' from 'C:\\\\Users\\\\nguye\\\\anaconda3\\\\lib\\\\site-packages\\\\requests\\\\__init__.py'>; Status code: 403\n",
      "27232\n",
      "{'http': 'http://161.35.4.201:', 'https': 'https://161.35.4.201:'}\n"
     ]
    },
    {
     "name": "stderr",
     "output_type": "stream",
     "text": [
      "\r",
      " 77%|███████████████████████████████████████████████████████████████                   | 73/95 [00:16<00:04,  4.69it/s]"
     ]
    },
    {
     "name": "stdout",
     "output_type": "stream",
     "text": [
      "Request: <module 'requests' from 'C:\\\\Users\\\\nguye\\\\anaconda3\\\\lib\\\\site-packages\\\\requests\\\\__init__.py'>; Status code: 403\n",
      "27233\n",
      "{'http': 'http://104.192.202.11:', 'https': 'https://104.192.202.11:'}\n"
     ]
    },
    {
     "name": "stderr",
     "output_type": "stream",
     "text": [
      "\r",
      " 78%|███████████████████████████████████████████████████████████████▊                  | 74/95 [00:17<00:10,  2.01it/s]"
     ]
    },
    {
     "name": "stdout",
     "output_type": "stream",
     "text": [
      "Request: <module 'requests' from 'C:\\\\Users\\\\nguye\\\\anaconda3\\\\lib\\\\site-packages\\\\requests\\\\__init__.py'>; Status code: 403\n",
      "27234\n",
      "{'http': 'http://3.217.161.14:', 'https': 'https://3.217.161.14:'}\n"
     ]
    },
    {
     "name": "stderr",
     "output_type": "stream",
     "text": [
      " 80%|█████████████████████████████████████████████████████████████████▌                | 76/95 [00:19<00:10,  1.78it/s]"
     ]
    },
    {
     "name": "stdout",
     "output_type": "stream",
     "text": [
      "Request: <module 'requests' from 'C:\\\\Users\\\\nguye\\\\anaconda3\\\\lib\\\\site-packages\\\\requests\\\\__init__.py'>; Status code: 403\n",
      "27235\n",
      "{'http': 'http://104.192.202.11:', 'https': 'https://104.192.202.11:'}\n",
      "Request: <module 'requests' from 'C:\\\\Users\\\\nguye\\\\anaconda3\\\\lib\\\\site-packages\\\\requests\\\\__init__.py'>; Status code: 403\n",
      "27236\n",
      "{'http': 'http://186.233.186.60:', 'https': 'https://186.233.186.60:'}\n"
     ]
    },
    {
     "name": "stderr",
     "output_type": "stream",
     "text": [
      " 82%|███████████████████████████████████████████████████████████████████▎              | 78/95 [00:19<00:06,  2.79it/s]"
     ]
    },
    {
     "name": "stdout",
     "output_type": "stream",
     "text": [
      "Request: <module 'requests' from 'C:\\\\Users\\\\nguye\\\\anaconda3\\\\lib\\\\site-packages\\\\requests\\\\__init__.py'>; Status code: 403\n",
      "27237\n",
      "{'http': 'http://132.145.195.93:', 'https': 'https://132.145.195.93:'}\n",
      "Request: <module 'requests' from 'C:\\\\Users\\\\nguye\\\\anaconda3\\\\lib\\\\site-packages\\\\requests\\\\__init__.py'>; Status code: 403\n",
      "27238\n",
      "{'http': 'http://47.89.153.213:', 'https': 'https://47.89.153.213:'}\n"
     ]
    },
    {
     "name": "stderr",
     "output_type": "stream",
     "text": [
      " 84%|█████████████████████████████████████████████████████████████████████             | 80/95 [00:19<00:03,  3.80it/s]"
     ]
    },
    {
     "name": "stdout",
     "output_type": "stream",
     "text": [
      "Request: <module 'requests' from 'C:\\\\Users\\\\nguye\\\\anaconda3\\\\lib\\\\site-packages\\\\requests\\\\__init__.py'>; Status code: 403\n",
      "27239\n",
      "{'http': 'http://63.161.104.189:', 'https': 'https://63.161.104.189:'}\n",
      "Request: <module 'requests' from 'C:\\\\Users\\\\nguye\\\\anaconda3\\\\lib\\\\site-packages\\\\requests\\\\__init__.py'>; Status code: 403\n",
      "27240\n"
     ]
    },
    {
     "name": "stderr",
     "output_type": "stream",
     "text": [
      "\r",
      " 85%|█████████████████████████████████████████████████████████████████████▉            | 81/95 [00:20<00:03,  4.33it/s]"
     ]
    },
    {
     "name": "stdout",
     "output_type": "stream",
     "text": [
      "{'http': 'http://3.217.161.14:', 'https': 'https://3.217.161.14:'}\n",
      "Request: <module 'requests' from 'C:\\\\Users\\\\nguye\\\\anaconda3\\\\lib\\\\site-packages\\\\requests\\\\__init__.py'>; Status code: 403\n",
      "27241\n",
      "{'http': 'http://154.85.35.235:8888', 'https': 'https://154.85.35.235:8888'}\n"
     ]
    },
    {
     "name": "stderr",
     "output_type": "stream",
     "text": [
      "\r",
      " 86%|██████████████████████████████████████████████████████████████████████▊           | 82/95 [00:20<00:02,  4.68it/s]"
     ]
    },
    {
     "name": "stdout",
     "output_type": "stream",
     "text": [
      "Request: <module 'requests' from 'C:\\\\Users\\\\nguye\\\\anaconda3\\\\lib\\\\site-packages\\\\requests\\\\__init__.py'>; Status code: 403\n",
      "27242\n",
      "{'http': 'http://23.225.64.59:1089', 'https': 'https://23.225.64.59:1089'}\n"
     ]
    },
    {
     "name": "stderr",
     "output_type": "stream",
     "text": [
      " 88%|████████████████████████████████████████████████████████████████████████▌         | 84/95 [00:20<00:02,  4.39it/s]"
     ]
    },
    {
     "name": "stdout",
     "output_type": "stream",
     "text": [
      "Request: <module 'requests' from 'C:\\\\Users\\\\nguye\\\\anaconda3\\\\lib\\\\site-packages\\\\requests\\\\__init__.py'>; Status code: 403\n",
      "27243\n",
      "{'http': 'http://12.151.56.30:', 'https': 'https://12.151.56.30:'}\n",
      "Request: <module 'requests' from 'C:\\\\Users\\\\nguye\\\\anaconda3\\\\lib\\\\site-packages\\\\requests\\\\__init__.py'>; Status code: 403\n",
      "27244\n",
      "{'http': 'http://63.161.104.189:', 'https': 'https://63.161.104.189:'}\n"
     ]
    },
    {
     "name": "stderr",
     "output_type": "stream",
     "text": [
      " 91%|██████████████████████████████████████████████████████████████████████████▏       | 86/95 [00:21<00:01,  5.36it/s]"
     ]
    },
    {
     "name": "stdout",
     "output_type": "stream",
     "text": [
      "Request: <module 'requests' from 'C:\\\\Users\\\\nguye\\\\anaconda3\\\\lib\\\\site-packages\\\\requests\\\\__init__.py'>; Status code: 403\n",
      "27245\n",
      "{'http': 'http://20.47.108.204:8888', 'https': 'https://20.47.108.204:8888'}\n",
      "Request: <module 'requests' from 'C:\\\\Users\\\\nguye\\\\anaconda3\\\\lib\\\\site-packages\\\\requests\\\\__init__.py'>; Status code: 403\n",
      "27246\n",
      "{'http': 'http://47.252.82.135:', 'https': 'https://47.252.82.135:'}\n"
     ]
    },
    {
     "name": "stderr",
     "output_type": "stream",
     "text": [
      " 93%|███████████████████████████████████████████████████████████████████████████▉      | 88/95 [00:21<00:01,  5.98it/s]"
     ]
    },
    {
     "name": "stdout",
     "output_type": "stream",
     "text": [
      "Request: <module 'requests' from 'C:\\\\Users\\\\nguye\\\\anaconda3\\\\lib\\\\site-packages\\\\requests\\\\__init__.py'>; Status code: 403\n",
      "27247\n",
      "{'http': 'http://47.88.7.115:3129', 'https': 'https://47.88.7.115:3129'}\n",
      "Request: <module 'requests' from 'C:\\\\Users\\\\nguye\\\\anaconda3\\\\lib\\\\site-packages\\\\requests\\\\__init__.py'>; Status code: 403\n",
      "27248\n",
      "{'http': 'http://47.88.7.115:3129', 'https': 'https://47.88.7.115:3129'}\n"
     ]
    },
    {
     "name": "stderr",
     "output_type": "stream",
     "text": [
      " 95%|█████████████████████████████████████████████████████████████████████████████▋    | 90/95 [00:21<00:00,  6.30it/s]"
     ]
    },
    {
     "name": "stdout",
     "output_type": "stream",
     "text": [
      "Request: <module 'requests' from 'C:\\\\Users\\\\nguye\\\\anaconda3\\\\lib\\\\site-packages\\\\requests\\\\__init__.py'>; Status code: 403\n",
      "27249\n",
      "{'http': 'http://47.88.7.115:3129', 'https': 'https://47.88.7.115:3129'}\n",
      "Request: <module 'requests' from 'C:\\\\Users\\\\nguye\\\\anaconda3\\\\lib\\\\site-packages\\\\requests\\\\__init__.py'>; Status code: 403\n",
      "27250\n",
      "{'http': 'http://186.233.186.60:', 'https': 'https://186.233.186.60:'}\n"
     ]
    },
    {
     "name": "stderr",
     "output_type": "stream",
     "text": [
      " 97%|███████████████████████████████████████████████████████████████████████████████▍  | 92/95 [00:21<00:00,  6.52it/s]"
     ]
    },
    {
     "name": "stdout",
     "output_type": "stream",
     "text": [
      "Request: <module 'requests' from 'C:\\\\Users\\\\nguye\\\\anaconda3\\\\lib\\\\site-packages\\\\requests\\\\__init__.py'>; Status code: 403\n",
      "27251\n",
      "{'http': 'http://52.168.34.113:', 'https': 'https://52.168.34.113:'}\n",
      "Request: <module 'requests' from 'C:\\\\Users\\\\nguye\\\\anaconda3\\\\lib\\\\site-packages\\\\requests\\\\__init__.py'>; Status code: 403\n",
      "27252\n",
      "{'http': 'http://204.16.1.169:82', 'https': 'https://204.16.1.169:82'}\n"
     ]
    },
    {
     "name": "stderr",
     "output_type": "stream",
     "text": [
      " 99%|█████████████████████████████████████████████████████████████████████████████████▏| 94/95 [00:22<00:00,  6.36it/s]"
     ]
    },
    {
     "name": "stdout",
     "output_type": "stream",
     "text": [
      "Request: <module 'requests' from 'C:\\\\Users\\\\nguye\\\\anaconda3\\\\lib\\\\site-packages\\\\requests\\\\__init__.py'>; Status code: 403\n",
      "27253\n",
      "{'http': 'http://50.235.149.74:', 'https': 'https://50.235.149.74:'}\n",
      "Request: <module 'requests' from 'C:\\\\Users\\\\nguye\\\\anaconda3\\\\lib\\\\site-packages\\\\requests\\\\__init__.py'>; Status code: 403\n",
      "27254\n",
      "{'http': 'http://3.217.161.14:', 'https': 'https://3.217.161.14:'}\n"
     ]
    },
    {
     "name": "stderr",
     "output_type": "stream",
     "text": [
      "100%|██████████████████████████████████████████████████████████████████████████████████| 95/95 [00:22<00:00,  4.22it/s]"
     ]
    },
    {
     "name": "stdout",
     "output_type": "stream",
     "text": [
      "Request: <module 'requests' from 'C:\\\\Users\\\\nguye\\\\anaconda3\\\\lib\\\\site-packages\\\\requests\\\\__init__.py'>; Status code: 403\n",
      "27255\n"
     ]
    },
    {
     "name": "stderr",
     "output_type": "stream",
     "text": [
      "\n",
      "  0%|                                                                                          | 0/100 [00:00<?, ?it/s]"
     ]
    },
    {
     "name": "stdout",
     "output_type": "stream",
     "text": [
      "{'http': 'http://204.16.1.169:82', 'https': 'https://204.16.1.169:82'}\n"
     ]
    },
    {
     "name": "stderr",
     "output_type": "stream",
     "text": [
      "  2%|█▋                                                                                | 2/100 [00:00<00:19,  5.15it/s]"
     ]
    },
    {
     "name": "stdout",
     "output_type": "stream",
     "text": [
      "Request: <module 'requests' from 'C:\\\\Users\\\\nguye\\\\anaconda3\\\\lib\\\\site-packages\\\\requests\\\\__init__.py'>; Status code: 403\n",
      "25072\n",
      "{'http': 'http://54.80.246.241:', 'https': 'https://54.80.246.241:'}\n",
      "Request: <module 'requests' from 'C:\\\\Users\\\\nguye\\\\anaconda3\\\\lib\\\\site-packages\\\\requests\\\\__init__.py'>; Status code: 403\n",
      "25073\n"
     ]
    },
    {
     "name": "stderr",
     "output_type": "stream",
     "text": [
      "\r",
      "  3%|██▍                                                                               | 3/100 [00:00<00:17,  5.69it/s]"
     ]
    },
    {
     "name": "stdout",
     "output_type": "stream",
     "text": [
      "{'http': 'http://173.196.205.170:', 'https': 'https://173.196.205.170:'}\n",
      "Request: <module 'requests' from 'C:\\\\Users\\\\nguye\\\\anaconda3\\\\lib\\\\site-packages\\\\requests\\\\__init__.py'>; Status code: 403\n",
      "25074\n",
      "{'http': 'http://74.205.128.200:', 'https': 'https://74.205.128.200:'}\n"
     ]
    },
    {
     "name": "stderr",
     "output_type": "stream",
     "text": [
      "  5%|████                                                                              | 5/100 [00:00<00:14,  6.41it/s]"
     ]
    },
    {
     "name": "stdout",
     "output_type": "stream",
     "text": [
      "Request: <module 'requests' from 'C:\\\\Users\\\\nguye\\\\anaconda3\\\\lib\\\\site-packages\\\\requests\\\\__init__.py'>; Status code: 403\n",
      "25075\n",
      "{'http': 'http://216.169.73.65:34679', 'https': 'https://216.169.73.65:34679'}\n",
      "Request: <module 'requests' from 'C:\\\\Users\\\\nguye\\\\anaconda3\\\\lib\\\\site-packages\\\\requests\\\\__init__.py'>; Status code: 403\n",
      "25076\n",
      "{'http': 'http://216.169.73.65:34679', 'https': 'https://216.169.73.65:34679'}\n"
     ]
    },
    {
     "name": "stderr",
     "output_type": "stream",
     "text": [
      "  7%|█████▋                                                                            | 7/100 [00:01<00:14,  6.30it/s]"
     ]
    },
    {
     "name": "stdout",
     "output_type": "stream",
     "text": [
      "Request: <module 'requests' from 'C:\\\\Users\\\\nguye\\\\anaconda3\\\\lib\\\\site-packages\\\\requests\\\\__init__.py'>; Status code: 403\n",
      "25077\n",
      "{'http': 'http://159.65.69.186:9300', 'https': 'https://159.65.69.186:9300'}\n",
      "Request: <module 'requests' from 'C:\\\\Users\\\\nguye\\\\anaconda3\\\\lib\\\\site-packages\\\\requests\\\\__init__.py'>; Status code: 403\n",
      "25078\n",
      "{'http': 'http://64.227.62.123:', 'https': 'https://64.227.62.123:'}\n"
     ]
    },
    {
     "name": "stderr",
     "output_type": "stream",
     "text": [
      "  9%|███████▍                                                                          | 9/100 [00:01<00:14,  6.48it/s]"
     ]
    },
    {
     "name": "stdout",
     "output_type": "stream",
     "text": [
      "Request: <module 'requests' from 'C:\\\\Users\\\\nguye\\\\anaconda3\\\\lib\\\\site-packages\\\\requests\\\\__init__.py'>; Status code: 403\n",
      "25079\n",
      "{'http': 'http://54.244.204.46:', 'https': 'https://54.244.204.46:'}\n",
      "Request: <module 'requests' from 'C:\\\\Users\\\\nguye\\\\anaconda3\\\\lib\\\\site-packages\\\\requests\\\\__init__.py'>; Status code: 403\n",
      "25080\n",
      "{'http': 'http://204.16.1.169:82', 'https': 'https://204.16.1.169:82'}\n"
     ]
    },
    {
     "name": "stderr",
     "output_type": "stream",
     "text": [
      "\r",
      " 10%|████████                                                                         | 10/100 [00:01<00:15,  5.98it/s]"
     ]
    },
    {
     "name": "stdout",
     "output_type": "stream",
     "text": [
      "Request: <module 'requests' from 'C:\\\\Users\\\\nguye\\\\anaconda3\\\\lib\\\\site-packages\\\\requests\\\\__init__.py'>; Status code: 403\n",
      "25081\n",
      "{'http': 'http://54.80.246.241:', 'https': 'https://54.80.246.241:'}\n"
     ]
    },
    {
     "name": "stderr",
     "output_type": "stream",
     "text": [
      " 12%|█████████▋                                                                       | 12/100 [00:02<00:16,  5.18it/s]"
     ]
    },
    {
     "name": "stdout",
     "output_type": "stream",
     "text": [
      "Request: <module 'requests' from 'C:\\\\Users\\\\nguye\\\\anaconda3\\\\lib\\\\site-packages\\\\requests\\\\__init__.py'>; Status code: 403\n",
      "25082\n",
      "{'http': 'http://3.217.161.14:', 'https': 'https://3.217.161.14:'}\n",
      "Request: <module 'requests' from 'C:\\\\Users\\\\nguye\\\\anaconda3\\\\lib\\\\site-packages\\\\requests\\\\__init__.py'>; Status code: 403\n",
      "25083\n"
     ]
    },
    {
     "name": "stderr",
     "output_type": "stream",
     "text": [
      "\r",
      " 13%|██████████▌                                                                      | 13/100 [00:02<00:16,  5.30it/s]"
     ]
    },
    {
     "name": "stdout",
     "output_type": "stream",
     "text": [
      "{'http': 'http://159.65.69.186:9300', 'https': 'https://159.65.69.186:9300'}\n",
      "Request: <module 'requests' from 'C:\\\\Users\\\\nguye\\\\anaconda3\\\\lib\\\\site-packages\\\\requests\\\\__init__.py'>; Status code: 403\n",
      "25084\n",
      "{'http': 'http://66.211.155.34:', 'https': 'https://66.211.155.34:'}\n"
     ]
    },
    {
     "name": "stderr",
     "output_type": "stream",
     "text": [
      "\r",
      " 14%|███████████▎                                                                     | 14/100 [00:02<00:14,  5.84it/s]"
     ]
    },
    {
     "name": "stdout",
     "output_type": "stream",
     "text": [
      "Request: <module 'requests' from 'C:\\\\Users\\\\nguye\\\\anaconda3\\\\lib\\\\site-packages\\\\requests\\\\__init__.py'>; Status code: 403\n",
      "25085\n",
      "{'http': 'http://208.72.154.111:8888', 'https': 'https://208.72.154.111:8888'}\n"
     ]
    },
    {
     "name": "stderr",
     "output_type": "stream",
     "text": [
      " 16%|████████████▉                                                                    | 16/100 [00:02<00:17,  4.78it/s]"
     ]
    },
    {
     "name": "stdout",
     "output_type": "stream",
     "text": [
      "Request: <module 'requests' from 'C:\\\\Users\\\\nguye\\\\anaconda3\\\\lib\\\\site-packages\\\\requests\\\\__init__.py'>; Status code: 403\n",
      "25086\n",
      "{'http': 'http://47.89.153.213:', 'https': 'https://47.89.153.213:'}\n",
      "Request: <module 'requests' from 'C:\\\\Users\\\\nguye\\\\anaconda3\\\\lib\\\\site-packages\\\\requests\\\\__init__.py'>; Status code: 403\n",
      "25087\n",
      "{'http': 'http://192.155.107.60:', 'https': 'https://192.155.107.60:'}\n"
     ]
    },
    {
     "name": "stderr",
     "output_type": "stream",
     "text": [
      " 18%|██████████████▌                                                                  | 18/100 [00:03<00:13,  5.88it/s]"
     ]
    },
    {
     "name": "stdout",
     "output_type": "stream",
     "text": [
      "Request: <module 'requests' from 'C:\\\\Users\\\\nguye\\\\anaconda3\\\\lib\\\\site-packages\\\\requests\\\\__init__.py'>; Status code: 403\n",
      "25088\n",
      "{'http': 'http://161.35.4.201:', 'https': 'https://161.35.4.201:'}\n",
      "Request: <module 'requests' from 'C:\\\\Users\\\\nguye\\\\anaconda3\\\\lib\\\\site-packages\\\\requests\\\\__init__.py'>; Status code: 403\n",
      "25089\n",
      "{'http': 'http://54.80.246.241:', 'https': 'https://54.80.246.241:'}\n"
     ]
    },
    {
     "name": "stderr",
     "output_type": "stream",
     "text": [
      " 20%|████████████████▏                                                                | 20/100 [00:03<00:13,  6.02it/s]"
     ]
    },
    {
     "name": "stdout",
     "output_type": "stream",
     "text": [
      "Request: <module 'requests' from 'C:\\\\Users\\\\nguye\\\\anaconda3\\\\lib\\\\site-packages\\\\requests\\\\__init__.py'>; Status code: 403\n",
      "25090\n",
      "{'http': 'http://186.233.186.60:', 'https': 'https://186.233.186.60:'}\n",
      "Request: <module 'requests' from 'C:\\\\Users\\\\nguye\\\\anaconda3\\\\lib\\\\site-packages\\\\requests\\\\__init__.py'>; Status code: 403\n",
      "25091\n",
      "{'http': 'http://47.89.153.213:', 'https': 'https://47.89.153.213:'}\n"
     ]
    },
    {
     "name": "stderr",
     "output_type": "stream",
     "text": [
      "\r",
      " 21%|█████████████████                                                                | 21/100 [00:03<00:13,  6.01it/s]"
     ]
    },
    {
     "name": "stdout",
     "output_type": "stream",
     "text": [
      "Request: <module 'requests' from 'C:\\\\Users\\\\nguye\\\\anaconda3\\\\lib\\\\site-packages\\\\requests\\\\__init__.py'>; Status code: 403\n",
      "25092\n",
      "{'http': 'http://208.72.154.111:8888', 'https': 'https://208.72.154.111:8888'}\n"
     ]
    },
    {
     "name": "stderr",
     "output_type": "stream",
     "text": [
      " 23%|██████████████████▋                                                              | 23/100 [00:04<00:14,  5.21it/s]"
     ]
    },
    {
     "name": "stdout",
     "output_type": "stream",
     "text": [
      "Request: <module 'requests' from 'C:\\\\Users\\\\nguye\\\\anaconda3\\\\lib\\\\site-packages\\\\requests\\\\__init__.py'>; Status code: 403\n",
      "25093\n",
      "{'http': 'http://107.151.182.247:', 'https': 'https://107.151.182.247:'}\n",
      "Request: <module 'requests' from 'C:\\\\Users\\\\nguye\\\\anaconda3\\\\lib\\\\site-packages\\\\requests\\\\__init__.py'>; Status code: 403\n",
      "25094\n"
     ]
    },
    {
     "name": "stderr",
     "output_type": "stream",
     "text": [
      "\r",
      " 24%|███████████████████▍                                                             | 24/100 [00:04<00:14,  5.27it/s]"
     ]
    },
    {
     "name": "stdout",
     "output_type": "stream",
     "text": [
      "{'http': 'http://54.80.246.241:', 'https': 'https://54.80.246.241:'}\n",
      "Request: <module 'requests' from 'C:\\\\Users\\\\nguye\\\\anaconda3\\\\lib\\\\site-packages\\\\requests\\\\__init__.py'>; Status code: 403\n",
      "25095\n"
     ]
    },
    {
     "name": "stderr",
     "output_type": "stream",
     "text": [
      "\r",
      " 25%|████████████████████▎                                                            | 25/100 [00:04<00:13,  5.59it/s]"
     ]
    },
    {
     "name": "stdout",
     "output_type": "stream",
     "text": [
      "{'http': 'http://3.217.161.14:', 'https': 'https://3.217.161.14:'}\n",
      "Request: <module 'requests' from 'C:\\\\Users\\\\nguye\\\\anaconda3\\\\lib\\\\site-packages\\\\requests\\\\__init__.py'>; Status code: 403\n",
      "25096\n",
      "{'http': 'http://64.227.62.123:', 'https': 'https://64.227.62.123:'}\n"
     ]
    },
    {
     "name": "stderr",
     "output_type": "stream",
     "text": [
      " 27%|█████████████████████▊                                                           | 27/100 [00:04<00:11,  6.25it/s]"
     ]
    },
    {
     "name": "stdout",
     "output_type": "stream",
     "text": [
      "Request: <module 'requests' from 'C:\\\\Users\\\\nguye\\\\anaconda3\\\\lib\\\\site-packages\\\\requests\\\\__init__.py'>; Status code: 403\n",
      "25097\n",
      "{'http': 'http://64.227.62.123:', 'https': 'https://64.227.62.123:'}\n",
      "Request: <module 'requests' from 'C:\\\\Users\\\\nguye\\\\anaconda3\\\\lib\\\\site-packages\\\\requests\\\\__init__.py'>; Status code: 403\n",
      "25098\n",
      "{'http': 'http://192.155.107.59:', 'https': 'https://192.155.107.59:'}\n"
     ]
    },
    {
     "name": "stderr",
     "output_type": "stream",
     "text": [
      " 29%|███████████████████████▍                                                         | 29/100 [00:05<00:11,  6.17it/s]"
     ]
    },
    {
     "name": "stdout",
     "output_type": "stream",
     "text": [
      "Request: <module 'requests' from 'C:\\\\Users\\\\nguye\\\\anaconda3\\\\lib\\\\site-packages\\\\requests\\\\__init__.py'>; Status code: 403\n",
      "25099\n",
      "{'http': 'http://161.35.4.201:', 'https': 'https://161.35.4.201:'}\n",
      "Request: <module 'requests' from 'C:\\\\Users\\\\nguye\\\\anaconda3\\\\lib\\\\site-packages\\\\requests\\\\__init__.py'>; Status code: 403\n",
      "25100\n",
      "{'http': 'http://12.151.56.30:', 'https': 'https://12.151.56.30:'}\n"
     ]
    },
    {
     "name": "stderr",
     "output_type": "stream",
     "text": [
      " 31%|█████████████████████████                                                        | 31/100 [00:05<00:11,  6.10it/s]"
     ]
    },
    {
     "name": "stdout",
     "output_type": "stream",
     "text": [
      "Request: <module 'requests' from 'C:\\\\Users\\\\nguye\\\\anaconda3\\\\lib\\\\site-packages\\\\requests\\\\__init__.py'>; Status code: 403\n",
      "25101\n",
      "{'http': 'http://54.244.204.46:', 'https': 'https://54.244.204.46:'}\n",
      "Request: <module 'requests' from 'C:\\\\Users\\\\nguye\\\\anaconda3\\\\lib\\\\site-packages\\\\requests\\\\__init__.py'>; Status code: 403\n",
      "25102\n",
      "{'http': 'http://47.88.7.115:3129', 'https': 'https://47.88.7.115:3129'}\n"
     ]
    },
    {
     "name": "stderr",
     "output_type": "stream",
     "text": [
      "\r",
      " 32%|█████████████████████████▉                                                       | 32/100 [00:05<00:10,  6.34it/s]"
     ]
    },
    {
     "name": "stdout",
     "output_type": "stream",
     "text": [
      "Request: <module 'requests' from 'C:\\\\Users\\\\nguye\\\\anaconda3\\\\lib\\\\site-packages\\\\requests\\\\__init__.py'>; Status code: 403\n",
      "25103\n",
      "{'http': 'http://154.85.35.235:8888', 'https': 'https://154.85.35.235:8888'}\n"
     ]
    },
    {
     "name": "stderr",
     "output_type": "stream",
     "text": [
      " 34%|███████████████████████████▌                                                     | 34/100 [00:06<00:16,  4.00it/s]"
     ]
    },
    {
     "name": "stdout",
     "output_type": "stream",
     "text": [
      "Request: <module 'requests' from 'C:\\\\Users\\\\nguye\\\\anaconda3\\\\lib\\\\site-packages\\\\requests\\\\__init__.py'>; Status code: 403\n",
      "25104\n",
      "{'http': 'http://67.212.186.101:', 'https': 'https://67.212.186.101:'}\n",
      "Request: <module 'requests' from 'C:\\\\Users\\\\nguye\\\\anaconda3\\\\lib\\\\site-packages\\\\requests\\\\__init__.py'>; Status code: 403\n",
      "25105\n"
     ]
    },
    {
     "name": "stderr",
     "output_type": "stream",
     "text": [
      "\r",
      " 35%|████████████████████████████▎                                                    | 35/100 [00:06<00:14,  4.60it/s]"
     ]
    },
    {
     "name": "stdout",
     "output_type": "stream",
     "text": [
      "{'http': 'http://132.145.195.93:', 'https': 'https://132.145.195.93:'}\n",
      "Request: <module 'requests' from 'C:\\\\Users\\\\nguye\\\\anaconda3\\\\lib\\\\site-packages\\\\requests\\\\__init__.py'>; Status code: 403\n",
      "25106\n",
      "{'http': 'http://3.217.161.14:', 'https': 'https://3.217.161.14:'}\n"
     ]
    },
    {
     "name": "stderr",
     "output_type": "stream",
     "text": [
      " 37%|█████████████████████████████▉                                                   | 37/100 [00:06<00:12,  5.23it/s]"
     ]
    },
    {
     "name": "stdout",
     "output_type": "stream",
     "text": [
      "Request: <module 'requests' from 'C:\\\\Users\\\\nguye\\\\anaconda3\\\\lib\\\\site-packages\\\\requests\\\\__init__.py'>; Status code: 403\n",
      "25107\n",
      "{'http': 'http://216.169.73.65:34679', 'https': 'https://216.169.73.65:34679'}\n",
      "Request: <module 'requests' from 'C:\\\\Users\\\\nguye\\\\anaconda3\\\\lib\\\\site-packages\\\\requests\\\\__init__.py'>; Status code: 403\n",
      "25108\n",
      "{'http': 'http://192.155.107.59:', 'https': 'https://192.155.107.59:'}\n"
     ]
    },
    {
     "name": "stderr",
     "output_type": "stream",
     "text": [
      " 39%|███████████████████████████████▌                                                 | 39/100 [00:07<00:11,  5.47it/s]"
     ]
    },
    {
     "name": "stdout",
     "output_type": "stream",
     "text": [
      "Request: <module 'requests' from 'C:\\\\Users\\\\nguye\\\\anaconda3\\\\lib\\\\site-packages\\\\requests\\\\__init__.py'>; Status code: 403\n",
      "25109\n",
      "{'http': 'http://216.169.73.65:34679', 'https': 'https://216.169.73.65:34679'}\n",
      "Request: <module 'requests' from 'C:\\\\Users\\\\nguye\\\\anaconda3\\\\lib\\\\site-packages\\\\requests\\\\__init__.py'>; Status code: 403\n",
      "25110\n"
     ]
    },
    {
     "name": "stderr",
     "output_type": "stream",
     "text": [
      "\r",
      " 40%|████████████████████████████████▍                                                | 40/100 [00:07<00:10,  5.75it/s]"
     ]
    },
    {
     "name": "stdout",
     "output_type": "stream",
     "text": [
      "{'http': 'http://74.205.128.200:', 'https': 'https://74.205.128.200:'}\n",
      "Request: <module 'requests' from 'C:\\\\Users\\\\nguye\\\\anaconda3\\\\lib\\\\site-packages\\\\requests\\\\__init__.py'>; Status code: 403\n",
      "25111\n",
      "{'http': 'http://173.196.205.170:', 'https': 'https://173.196.205.170:'}\n"
     ]
    },
    {
     "name": "stderr",
     "output_type": "stream",
     "text": [
      "\r",
      " 41%|█████████████████████████████████▏                                               | 41/100 [00:07<00:10,  5.88it/s]"
     ]
    },
    {
     "name": "stdout",
     "output_type": "stream",
     "text": [
      "Request: <module 'requests' from 'C:\\\\Users\\\\nguye\\\\anaconda3\\\\lib\\\\site-packages\\\\requests\\\\__init__.py'>; Status code: 403\n",
      "25112\n",
      "{'http': 'http://216.169.73.65:34679', 'https': 'https://216.169.73.65:34679'}\n"
     ]
    },
    {
     "name": "stderr",
     "output_type": "stream",
     "text": [
      "\r",
      " 42%|██████████████████████████████████                                               | 42/100 [00:08<00:16,  3.45it/s]"
     ]
    },
    {
     "name": "stdout",
     "output_type": "stream",
     "text": [
      "Request: <module 'requests' from 'C:\\\\Users\\\\nguye\\\\anaconda3\\\\lib\\\\site-packages\\\\requests\\\\__init__.py'>; Status code: 403\n",
      "25113\n",
      "{'http': 'http://67.212.186.101:', 'https': 'https://67.212.186.101:'}\n"
     ]
    },
    {
     "name": "stderr",
     "output_type": "stream",
     "text": [
      " 44%|███████████████████████████████████▋                                             | 44/100 [00:08<00:14,  3.82it/s]"
     ]
    },
    {
     "name": "stdout",
     "output_type": "stream",
     "text": [
      "Request: <module 'requests' from 'C:\\\\Users\\\\nguye\\\\anaconda3\\\\lib\\\\site-packages\\\\requests\\\\__init__.py'>; Status code: 403\n",
      "25114\n",
      "{'http': 'http://159.65.69.186:9300', 'https': 'https://159.65.69.186:9300'}\n",
      "Request: <module 'requests' from 'C:\\\\Users\\\\nguye\\\\anaconda3\\\\lib\\\\site-packages\\\\requests\\\\__init__.py'>; Status code: 403\n",
      "25115\n",
      "{'http': 'http://12.151.56.30:', 'https': 'https://12.151.56.30:'}\n"
     ]
    },
    {
     "name": "stderr",
     "output_type": "stream",
     "text": [
      " 46%|█████████████████████████████████████▎                                           | 46/100 [00:08<00:11,  4.71it/s]"
     ]
    },
    {
     "name": "stdout",
     "output_type": "stream",
     "text": [
      "Request: <module 'requests' from 'C:\\\\Users\\\\nguye\\\\anaconda3\\\\lib\\\\site-packages\\\\requests\\\\__init__.py'>; Status code: 403\n",
      "25116\n",
      "{'http': 'http://138.68.235.51:', 'https': 'https://138.68.235.51:'}\n",
      "Request: <module 'requests' from 'C:\\\\Users\\\\nguye\\\\anaconda3\\\\lib\\\\site-packages\\\\requests\\\\__init__.py'>; Status code: 403\n",
      "25117\n",
      "{'http': 'http://161.35.4.201:', 'https': 'https://161.35.4.201:'}\n"
     ]
    },
    {
     "name": "stderr",
     "output_type": "stream",
     "text": [
      " 48%|██████████████████████████████████████▉                                          | 48/100 [00:09<00:10,  5.14it/s]"
     ]
    },
    {
     "name": "stdout",
     "output_type": "stream",
     "text": [
      "Request: <module 'requests' from 'C:\\\\Users\\\\nguye\\\\anaconda3\\\\lib\\\\site-packages\\\\requests\\\\__init__.py'>; Status code: 403\n",
      "25118\n",
      "{'http': 'http://138.68.235.51:', 'https': 'https://138.68.235.51:'}\n",
      "Request: <module 'requests' from 'C:\\\\Users\\\\nguye\\\\anaconda3\\\\lib\\\\site-packages\\\\requests\\\\__init__.py'>; Status code: 403\n",
      "25119\n",
      "{'http': 'http://40.136.41.6:', 'https': 'https://40.136.41.6:'}\n"
     ]
    },
    {
     "name": "stderr",
     "output_type": "stream",
     "text": [
      " 50%|████████████████████████████████████████▌                                        | 50/100 [00:09<00:08,  5.71it/s]"
     ]
    },
    {
     "name": "stdout",
     "output_type": "stream",
     "text": [
      "Request: <module 'requests' from 'C:\\\\Users\\\\nguye\\\\anaconda3\\\\lib\\\\site-packages\\\\requests\\\\__init__.py'>; Status code: 403\n",
      "25120\n",
      "{'http': 'http://20.47.108.204:8888', 'https': 'https://20.47.108.204:8888'}\n",
      "Request: <module 'requests' from 'C:\\\\Users\\\\nguye\\\\anaconda3\\\\lib\\\\site-packages\\\\requests\\\\__init__.py'>; Status code: 403\n",
      "25121\n",
      "{'http': 'http://23.225.64.59:1089', 'https': 'https://23.225.64.59:1089'}\n"
     ]
    },
    {
     "name": "stderr",
     "output_type": "stream",
     "text": [
      "\r",
      " 51%|█████████████████████████████████████████▎                                       | 51/100 [00:09<00:08,  6.06it/s]"
     ]
    },
    {
     "name": "stdout",
     "output_type": "stream",
     "text": [
      "Request: <module 'requests' from 'C:\\\\Users\\\\nguye\\\\anaconda3\\\\lib\\\\site-packages\\\\requests\\\\__init__.py'>; Status code: 403\n",
      "25122\n",
      "{'http': 'http://64.227.62.123:', 'https': 'https://64.227.62.123:'}\n"
     ]
    },
    {
     "name": "stderr",
     "output_type": "stream",
     "text": [
      " 53%|██████████████████████████████████████████▉                                      | 53/100 [00:10<00:08,  5.37it/s]"
     ]
    },
    {
     "name": "stdout",
     "output_type": "stream",
     "text": [
      "Request: <module 'requests' from 'C:\\\\Users\\\\nguye\\\\anaconda3\\\\lib\\\\site-packages\\\\requests\\\\__init__.py'>; Status code: 403\n",
      "25123\n",
      "{'http': 'http://66.211.155.34:', 'https': 'https://66.211.155.34:'}\n",
      "Request: <module 'requests' from 'C:\\\\Users\\\\nguye\\\\anaconda3\\\\lib\\\\site-packages\\\\requests\\\\__init__.py'>; Status code: 403\n",
      "25124\n"
     ]
    },
    {
     "name": "stderr",
     "output_type": "stream",
     "text": [
      "\r",
      " 54%|███████████████████████████████████████████▋                                     | 54/100 [00:10<00:08,  5.74it/s]"
     ]
    },
    {
     "name": "stdout",
     "output_type": "stream",
     "text": [
      "{'http': 'http://40.136.41.6:', 'https': 'https://40.136.41.6:'}\n",
      "Request: <module 'requests' from 'C:\\\\Users\\\\nguye\\\\anaconda3\\\\lib\\\\site-packages\\\\requests\\\\__init__.py'>; Status code: 403\n",
      "25125\n",
      "{'http': 'http://40.136.41.6:', 'https': 'https://40.136.41.6:'}\n"
     ]
    },
    {
     "name": "stderr",
     "output_type": "stream",
     "text": [
      " 56%|█████████████████████████████████████████████▎                                   | 56/100 [00:10<00:07,  5.53it/s]"
     ]
    },
    {
     "name": "stdout",
     "output_type": "stream",
     "text": [
      "Request: <module 'requests' from 'C:\\\\Users\\\\nguye\\\\anaconda3\\\\lib\\\\site-packages\\\\requests\\\\__init__.py'>; Status code: 403\n",
      "25126\n",
      "{'http': 'http://204.16.1.169:82', 'https': 'https://204.16.1.169:82'}\n",
      "Request: <module 'requests' from 'C:\\\\Users\\\\nguye\\\\anaconda3\\\\lib\\\\site-packages\\\\requests\\\\__init__.py'>; Status code: 403\n",
      "25127\n",
      "{'http': 'http://132.145.195.93:', 'https': 'https://132.145.195.93:'}\n"
     ]
    },
    {
     "name": "stderr",
     "output_type": "stream",
     "text": [
      " 58%|██████████████████████████████████████████████▉                                  | 58/100 [00:10<00:07,  5.99it/s]"
     ]
    },
    {
     "name": "stdout",
     "output_type": "stream",
     "text": [
      "Request: <module 'requests' from 'C:\\\\Users\\\\nguye\\\\anaconda3\\\\lib\\\\site-packages\\\\requests\\\\__init__.py'>; Status code: 403\n",
      "25128\n",
      "{'http': 'http://132.145.195.93:', 'https': 'https://132.145.195.93:'}\n",
      "Request: <module 'requests' from 'C:\\\\Users\\\\nguye\\\\anaconda3\\\\lib\\\\site-packages\\\\requests\\\\__init__.py'>; Status code: 403\n",
      "25129\n",
      "{'http': 'http://67.212.186.101:', 'https': 'https://67.212.186.101:'}\n"
     ]
    },
    {
     "name": "stderr",
     "output_type": "stream",
     "text": [
      " 60%|████████████████████████████████████████████████▌                                | 60/100 [00:11<00:06,  6.30it/s]"
     ]
    },
    {
     "name": "stdout",
     "output_type": "stream",
     "text": [
      "Request: <module 'requests' from 'C:\\\\Users\\\\nguye\\\\anaconda3\\\\lib\\\\site-packages\\\\requests\\\\__init__.py'>; Status code: 403\n",
      "25130\n",
      "{'http': 'http://173.196.205.170:', 'https': 'https://173.196.205.170:'}\n",
      "Request: <module 'requests' from 'C:\\\\Users\\\\nguye\\\\anaconda3\\\\lib\\\\site-packages\\\\requests\\\\__init__.py'>; Status code: 403\n",
      "25131\n",
      "{'http': 'http://64.227.62.123:', 'https': 'https://64.227.62.123:'}\n"
     ]
    },
    {
     "name": "stderr",
     "output_type": "stream",
     "text": [
      " 62%|██████████████████████████████████████████████████▏                              | 62/100 [00:11<00:05,  6.36it/s]"
     ]
    },
    {
     "name": "stdout",
     "output_type": "stream",
     "text": [
      "Request: <module 'requests' from 'C:\\\\Users\\\\nguye\\\\anaconda3\\\\lib\\\\site-packages\\\\requests\\\\__init__.py'>; Status code: 403\n",
      "25132\n",
      "{'http': 'http://54.80.246.241:', 'https': 'https://54.80.246.241:'}\n",
      "Request: <module 'requests' from 'C:\\\\Users\\\\nguye\\\\anaconda3\\\\lib\\\\site-packages\\\\requests\\\\__init__.py'>; Status code: 403\n",
      "25133\n",
      "{'http': 'http://104.192.202.11:', 'https': 'https://104.192.202.11:'}\n"
     ]
    },
    {
     "name": "stderr",
     "output_type": "stream",
     "text": [
      " 64%|███████████████████████████████████████████████████▊                             | 64/100 [00:11<00:05,  6.33it/s]"
     ]
    },
    {
     "name": "stdout",
     "output_type": "stream",
     "text": [
      "Request: <module 'requests' from 'C:\\\\Users\\\\nguye\\\\anaconda3\\\\lib\\\\site-packages\\\\requests\\\\__init__.py'>; Status code: 403\n",
      "25134\n",
      "{'http': 'http://47.89.153.213:', 'https': 'https://47.89.153.213:'}\n",
      "Request: <module 'requests' from 'C:\\\\Users\\\\nguye\\\\anaconda3\\\\lib\\\\site-packages\\\\requests\\\\__init__.py'>; Status code: 403\n",
      "25135\n",
      "{'http': 'http://132.145.195.93:', 'https': 'https://132.145.195.93:'}\n"
     ]
    },
    {
     "name": "stderr",
     "output_type": "stream",
     "text": [
      "\r",
      " 65%|████████████████████████████████████████████████████▋                            | 65/100 [00:12<00:05,  5.91it/s]"
     ]
    },
    {
     "name": "stdout",
     "output_type": "stream",
     "text": [
      "Request: <module 'requests' from 'C:\\\\Users\\\\nguye\\\\anaconda3\\\\lib\\\\site-packages\\\\requests\\\\__init__.py'>; Status code: 403\n",
      "25136\n",
      "{'http': 'http://47.89.153.213:', 'https': 'https://47.89.153.213:'}\n"
     ]
    },
    {
     "name": "stderr",
     "output_type": "stream",
     "text": [
      " 67%|██████████████████████████████████████████████████████▎                          | 67/100 [00:13<00:12,  2.60it/s]"
     ]
    },
    {
     "name": "stdout",
     "output_type": "stream",
     "text": [
      "Request: <module 'requests' from 'C:\\\\Users\\\\nguye\\\\anaconda3\\\\lib\\\\site-packages\\\\requests\\\\__init__.py'>; Status code: 403\n",
      "25137\n",
      "{'http': 'http://64.227.62.123:', 'https': 'https://64.227.62.123:'}\n",
      "Request: <module 'requests' from 'C:\\\\Users\\\\nguye\\\\anaconda3\\\\lib\\\\site-packages\\\\requests\\\\__init__.py'>; Status code: 403\n",
      "25138\n",
      "{'http': 'http://40.136.41.6:', 'https': 'https://40.136.41.6:'}\n"
     ]
    },
    {
     "name": "stderr",
     "output_type": "stream",
     "text": [
      " 69%|███████████████████████████████████████████████████████▉                         | 69/100 [00:13<00:08,  3.69it/s]"
     ]
    },
    {
     "name": "stdout",
     "output_type": "stream",
     "text": [
      "Request: <module 'requests' from 'C:\\\\Users\\\\nguye\\\\anaconda3\\\\lib\\\\site-packages\\\\requests\\\\__init__.py'>; Status code: 403\n",
      "25139\n",
      "{'http': 'http://3.211.17.212:', 'https': 'https://3.211.17.212:'}\n",
      "Request: <module 'requests' from 'C:\\\\Users\\\\nguye\\\\anaconda3\\\\lib\\\\site-packages\\\\requests\\\\__init__.py'>; Status code: 403\n",
      "25140\n",
      "{'http': 'http://66.211.155.34:', 'https': 'https://66.211.155.34:'}\n"
     ]
    },
    {
     "name": "stderr",
     "output_type": "stream",
     "text": [
      " 71%|█████████████████████████████████████████████████████████▌                       | 71/100 [00:14<00:06,  4.44it/s]"
     ]
    },
    {
     "name": "stdout",
     "output_type": "stream",
     "text": [
      "Request: <module 'requests' from 'C:\\\\Users\\\\nguye\\\\anaconda3\\\\lib\\\\site-packages\\\\requests\\\\__init__.py'>; Status code: 403\n",
      "25141\n",
      "{'http': 'http://104.192.202.11:', 'https': 'https://104.192.202.11:'}\n",
      "Request: <module 'requests' from 'C:\\\\Users\\\\nguye\\\\anaconda3\\\\lib\\\\site-packages\\\\requests\\\\__init__.py'>; Status code: 403\n",
      "25142\n",
      "{'http': 'http://54.80.246.241:', 'https': 'https://54.80.246.241:'}\n"
     ]
    },
    {
     "name": "stderr",
     "output_type": "stream",
     "text": [
      " 73%|███████████████████████████████████████████████████████████▏                     | 73/100 [00:14<00:04,  5.49it/s]"
     ]
    },
    {
     "name": "stdout",
     "output_type": "stream",
     "text": [
      "Request: <module 'requests' from 'C:\\\\Users\\\\nguye\\\\anaconda3\\\\lib\\\\site-packages\\\\requests\\\\__init__.py'>; Status code: 403\n",
      "25143\n",
      "{'http': 'http://40.136.41.6:', 'https': 'https://40.136.41.6:'}\n",
      "Request: <module 'requests' from 'C:\\\\Users\\\\nguye\\\\anaconda3\\\\lib\\\\site-packages\\\\requests\\\\__init__.py'>; Status code: 403\n",
      "25144\n",
      "{'http': 'http://67.212.186.101:', 'https': 'https://67.212.186.101:'}\n"
     ]
    },
    {
     "name": "stderr",
     "output_type": "stream",
     "text": [
      " 75%|████████████████████████████████████████████████████████████▊                    | 75/100 [00:14<00:04,  5.82it/s]"
     ]
    },
    {
     "name": "stdout",
     "output_type": "stream",
     "text": [
      "Request: <module 'requests' from 'C:\\\\Users\\\\nguye\\\\anaconda3\\\\lib\\\\site-packages\\\\requests\\\\__init__.py'>; Status code: 403\n",
      "25145\n",
      "{'http': 'http://154.85.35.235:8888', 'https': 'https://154.85.35.235:8888'}\n",
      "Request: <module 'requests' from 'C:\\\\Users\\\\nguye\\\\anaconda3\\\\lib\\\\site-packages\\\\requests\\\\__init__.py'>; Status code: 403\n",
      "25146\n",
      "{'http': 'http://63.161.104.189:', 'https': 'https://63.161.104.189:'}\n"
     ]
    },
    {
     "name": "stderr",
     "output_type": "stream",
     "text": [
      " 77%|██████████████████████████████████████████████████████████████▎                  | 77/100 [00:15<00:03,  6.08it/s]"
     ]
    },
    {
     "name": "stdout",
     "output_type": "stream",
     "text": [
      "Request: <module 'requests' from 'C:\\\\Users\\\\nguye\\\\anaconda3\\\\lib\\\\site-packages\\\\requests\\\\__init__.py'>; Status code: 403\n",
      "25147\n",
      "{'http': 'http://161.35.4.201:', 'https': 'https://161.35.4.201:'}\n",
      "Request: <module 'requests' from 'C:\\\\Users\\\\nguye\\\\anaconda3\\\\lib\\\\site-packages\\\\requests\\\\__init__.py'>; Status code: 403\n",
      "25148\n",
      "{'http': 'http://138.68.235.51:', 'https': 'https://138.68.235.51:'}\n"
     ]
    },
    {
     "name": "stderr",
     "output_type": "stream",
     "text": [
      " 79%|███████████████████████████████████████████████████████████████▉                 | 79/100 [00:15<00:03,  6.05it/s]"
     ]
    },
    {
     "name": "stdout",
     "output_type": "stream",
     "text": [
      "Request: <module 'requests' from 'C:\\\\Users\\\\nguye\\\\anaconda3\\\\lib\\\\site-packages\\\\requests\\\\__init__.py'>; Status code: 403\n",
      "25149\n",
      "{'http': 'http://161.35.4.201:', 'https': 'https://161.35.4.201:'}\n",
      "Request: <module 'requests' from 'C:\\\\Users\\\\nguye\\\\anaconda3\\\\lib\\\\site-packages\\\\requests\\\\__init__.py'>; Status code: 403\n",
      "25150\n",
      "{'http': 'http://154.85.35.235:8888', 'https': 'https://154.85.35.235:8888'}\n"
     ]
    },
    {
     "name": "stderr",
     "output_type": "stream",
     "text": [
      " 81%|█████████████████████████████████████████████████████████████████▌               | 81/100 [00:15<00:03,  6.18it/s]"
     ]
    },
    {
     "name": "stdout",
     "output_type": "stream",
     "text": [
      "Request: <module 'requests' from 'C:\\\\Users\\\\nguye\\\\anaconda3\\\\lib\\\\site-packages\\\\requests\\\\__init__.py'>; Status code: 403\n",
      "25151\n",
      "{'http': 'http://72.47.152.224:55443', 'https': 'https://72.47.152.224:55443'}\n",
      "Request: <module 'requests' from 'C:\\\\Users\\\\nguye\\\\anaconda3\\\\lib\\\\site-packages\\\\requests\\\\__init__.py'>; Status code: 403\n",
      "25152\n",
      "{'http': 'http://104.192.202.11:', 'https': 'https://104.192.202.11:'}\n"
     ]
    },
    {
     "name": "stderr",
     "output_type": "stream",
     "text": [
      " 83%|███████████████████████████████████████████████████████████████████▏             | 83/100 [00:15<00:02,  6.49it/s]"
     ]
    },
    {
     "name": "stdout",
     "output_type": "stream",
     "text": [
      "Request: <module 'requests' from 'C:\\\\Users\\\\nguye\\\\anaconda3\\\\lib\\\\site-packages\\\\requests\\\\__init__.py'>; Status code: 403\n",
      "25153\n",
      "{'http': 'http://154.85.35.235:8888', 'https': 'https://154.85.35.235:8888'}\n",
      "Request: <module 'requests' from 'C:\\\\Users\\\\nguye\\\\anaconda3\\\\lib\\\\site-packages\\\\requests\\\\__init__.py'>; Status code: 403\n",
      "25154\n",
      "{'http': 'http://204.16.1.169:82', 'https': 'https://204.16.1.169:82'}\n"
     ]
    },
    {
     "name": "stderr",
     "output_type": "stream",
     "text": [
      " 85%|████████████████████████████████████████████████████████████████████▊            | 85/100 [00:16<00:02,  6.70it/s]"
     ]
    },
    {
     "name": "stdout",
     "output_type": "stream",
     "text": [
      "Request: <module 'requests' from 'C:\\\\Users\\\\nguye\\\\anaconda3\\\\lib\\\\site-packages\\\\requests\\\\__init__.py'>; Status code: 403\n",
      "25155\n",
      "{'http': 'http://64.227.62.123:', 'https': 'https://64.227.62.123:'}\n",
      "Request: <module 'requests' from 'C:\\\\Users\\\\nguye\\\\anaconda3\\\\lib\\\\site-packages\\\\requests\\\\__init__.py'>; Status code: 403\n",
      "25156\n",
      "{'http': 'http://63.161.104.189:', 'https': 'https://63.161.104.189:'}\n"
     ]
    },
    {
     "name": "stderr",
     "output_type": "stream",
     "text": [
      " 87%|██████████████████████████████████████████████████████████████████████▍          | 87/100 [00:16<00:01,  7.13it/s]"
     ]
    },
    {
     "name": "stdout",
     "output_type": "stream",
     "text": [
      "Request: <module 'requests' from 'C:\\\\Users\\\\nguye\\\\anaconda3\\\\lib\\\\site-packages\\\\requests\\\\__init__.py'>; Status code: 403\n",
      "25157\n",
      "{'http': 'http://192.155.107.60:', 'https': 'https://192.155.107.60:'}\n",
      "Request: <module 'requests' from 'C:\\\\Users\\\\nguye\\\\anaconda3\\\\lib\\\\site-packages\\\\requests\\\\__init__.py'>; Status code: 403\n",
      "25158\n",
      "{'http': 'http://54.244.204.46:', 'https': 'https://54.244.204.46:'}\n"
     ]
    },
    {
     "name": "stderr",
     "output_type": "stream",
     "text": [
      " 89%|████████████████████████████████████████████████████████████████████████         | 89/100 [00:16<00:01,  6.89it/s]"
     ]
    },
    {
     "name": "stdout",
     "output_type": "stream",
     "text": [
      "Request: <module 'requests' from 'C:\\\\Users\\\\nguye\\\\anaconda3\\\\lib\\\\site-packages\\\\requests\\\\__init__.py'>; Status code: 403\n",
      "25159\n",
      "{'http': 'http://67.212.186.101:', 'https': 'https://67.212.186.101:'}\n",
      "Request: <module 'requests' from 'C:\\\\Users\\\\nguye\\\\anaconda3\\\\lib\\\\site-packages\\\\requests\\\\__init__.py'>; Status code: 403\n",
      "25160\n",
      "{'http': 'http://208.72.154.111:8888', 'https': 'https://208.72.154.111:8888'}\n"
     ]
    },
    {
     "name": "stderr",
     "output_type": "stream",
     "text": [
      " 91%|█████████████████████████████████████████████████████████████████████████▋       | 91/100 [00:17<00:01,  6.42it/s]"
     ]
    },
    {
     "name": "stdout",
     "output_type": "stream",
     "text": [
      "Request: <module 'requests' from 'C:\\\\Users\\\\nguye\\\\anaconda3\\\\lib\\\\site-packages\\\\requests\\\\__init__.py'>; Status code: 403\n",
      "25161\n",
      "{'http': 'http://67.212.186.101:', 'https': 'https://67.212.186.101:'}\n",
      "Request: <module 'requests' from 'C:\\\\Users\\\\nguye\\\\anaconda3\\\\lib\\\\site-packages\\\\requests\\\\__init__.py'>; Status code: 403\n",
      "25162\n",
      "{'http': 'http://132.145.195.93:', 'https': 'https://132.145.195.93:'}\n"
     ]
    },
    {
     "name": "stderr",
     "output_type": "stream",
     "text": [
      " 93%|███████████████████████████████████████████████████████████████████████████▎     | 93/100 [00:17<00:01,  6.62it/s]"
     ]
    },
    {
     "name": "stdout",
     "output_type": "stream",
     "text": [
      "Request: <module 'requests' from 'C:\\\\Users\\\\nguye\\\\anaconda3\\\\lib\\\\site-packages\\\\requests\\\\__init__.py'>; Status code: 403\n",
      "25163\n",
      "{'http': 'http://192.155.107.59:', 'https': 'https://192.155.107.59:'}\n",
      "Request: <module 'requests' from 'C:\\\\Users\\\\nguye\\\\anaconda3\\\\lib\\\\site-packages\\\\requests\\\\__init__.py'>; Status code: 403\n",
      "25164\n",
      "{'http': 'http://208.72.154.111:8888', 'https': 'https://208.72.154.111:8888'}\n"
     ]
    },
    {
     "name": "stderr",
     "output_type": "stream",
     "text": [
      " 95%|████████████████████████████████████████████████████████████████████████████▉    | 95/100 [00:17<00:00,  6.80it/s]"
     ]
    },
    {
     "name": "stdout",
     "output_type": "stream",
     "text": [
      "Request: <module 'requests' from 'C:\\\\Users\\\\nguye\\\\anaconda3\\\\lib\\\\site-packages\\\\requests\\\\__init__.py'>; Status code: 403\n",
      "25165\n",
      "{'http': 'http://52.168.34.113:', 'https': 'https://52.168.34.113:'}\n",
      "Request: <module 'requests' from 'C:\\\\Users\\\\nguye\\\\anaconda3\\\\lib\\\\site-packages\\\\requests\\\\__init__.py'>; Status code: 403\n",
      "25166\n",
      "{'http': 'http://64.227.62.123:', 'https': 'https://64.227.62.123:'}\n"
     ]
    },
    {
     "name": "stderr",
     "output_type": "stream",
     "text": [
      "\r",
      " 96%|█████████████████████████████████████████████████████████████████████████████▊   | 96/100 [00:18<00:00,  4.40it/s]"
     ]
    },
    {
     "name": "stdout",
     "output_type": "stream",
     "text": [
      "Request: <module 'requests' from 'C:\\\\Users\\\\nguye\\\\anaconda3\\\\lib\\\\site-packages\\\\requests\\\\__init__.py'>; Status code: 403\n",
      "25167\n",
      "{'http': 'http://3.230.91.35:', 'https': 'https://3.230.91.35:'}\n"
     ]
    },
    {
     "name": "stderr",
     "output_type": "stream",
     "text": [
      " 98%|███████████████████████████████████████████████████████████████████████████████▍ | 98/100 [00:18<00:00,  4.92it/s]"
     ]
    },
    {
     "name": "stdout",
     "output_type": "stream",
     "text": [
      "Request: <module 'requests' from 'C:\\\\Users\\\\nguye\\\\anaconda3\\\\lib\\\\site-packages\\\\requests\\\\__init__.py'>; Status code: 403\n",
      "25168\n",
      "{'http': 'http://3.217.161.14:', 'https': 'https://3.217.161.14:'}\n",
      "Request: <module 'requests' from 'C:\\\\Users\\\\nguye\\\\anaconda3\\\\lib\\\\site-packages\\\\requests\\\\__init__.py'>; Status code: 403\n",
      "25169\n",
      "{'http': 'http://3.217.161.14:', 'https': 'https://3.217.161.14:'}\n"
     ]
    },
    {
     "name": "stderr",
     "output_type": "stream",
     "text": [
      "\r",
      " 99%|████████████████████████████████████████████████████████████████████████████████▏| 99/100 [00:18<00:00,  5.24it/s]"
     ]
    },
    {
     "name": "stdout",
     "output_type": "stream",
     "text": [
      "Request: <module 'requests' from 'C:\\\\Users\\\\nguye\\\\anaconda3\\\\lib\\\\site-packages\\\\requests\\\\__init__.py'>; Status code: 403\n",
      "25170\n",
      "{'http': 'http://40.136.41.6:', 'https': 'https://40.136.41.6:'}\n"
     ]
    },
    {
     "name": "stderr",
     "output_type": "stream",
     "text": [
      "100%|████████████████████████████████████████████████████████████████████████████████| 100/100 [00:19<00:00,  5.22it/s]"
     ]
    },
    {
     "name": "stdout",
     "output_type": "stream",
     "text": [
      "Request: <module 'requests' from 'C:\\\\Users\\\\nguye\\\\anaconda3\\\\lib\\\\site-packages\\\\requests\\\\__init__.py'>; Status code: 403\n",
      "25171\n"
     ]
    },
    {
     "name": "stderr",
     "output_type": "stream",
     "text": [
      "\n",
      "  1%|▉                                                                                  | 1/87 [00:00<00:15,  5.42it/s]"
     ]
    },
    {
     "name": "stdout",
     "output_type": "stream",
     "text": [
      "{'http': 'http://204.16.1.169:82', 'https': 'https://204.16.1.169:82'}\n",
      "Request: <module 'requests' from 'C:\\\\Users\\\\nguye\\\\anaconda3\\\\lib\\\\site-packages\\\\requests\\\\__init__.py'>; Status code: 403\n",
      "24599\n"
     ]
    },
    {
     "name": "stderr",
     "output_type": "stream",
     "text": [
      "\r",
      "  2%|█▉                                                                                 | 2/87 [00:00<00:13,  6.08it/s]"
     ]
    },
    {
     "name": "stdout",
     "output_type": "stream",
     "text": [
      "{'http': 'http://138.68.235.51:', 'https': 'https://138.68.235.51:'}\n",
      "Request: <module 'requests' from 'C:\\\\Users\\\\nguye\\\\anaconda3\\\\lib\\\\site-packages\\\\requests\\\\__init__.py'>; Status code: 403\n",
      "24600\n",
      "{'http': 'http://161.35.4.201:', 'https': 'https://161.35.4.201:'}\n"
     ]
    },
    {
     "name": "stderr",
     "output_type": "stream",
     "text": [
      "\r",
      "  3%|██▊                                                                                | 3/87 [00:00<00:23,  3.55it/s]"
     ]
    },
    {
     "name": "stdout",
     "output_type": "stream",
     "text": [
      "Request: <module 'requests' from 'C:\\\\Users\\\\nguye\\\\anaconda3\\\\lib\\\\site-packages\\\\requests\\\\__init__.py'>; Status code: 403\n",
      "24601\n",
      "{'http': 'http://20.47.108.204:8888', 'https': 'https://20.47.108.204:8888'}\n",
      "Request: <module 'requests' from 'C:\\\\Users\\\\nguye\\\\anaconda3\\\\lib\\\\site-packages\\\\requests\\\\__init__.py'>; Status code: 403\n",
      "24602\n"
     ]
    },
    {
     "name": "stderr",
     "output_type": "stream",
     "text": [
      "\r",
      "  5%|███▊                                                                               | 4/87 [00:00<00:21,  3.90it/s]"
     ]
    },
    {
     "name": "stdout",
     "output_type": "stream",
     "text": [
      "{'http': 'http://47.89.153.213:', 'https': 'https://47.89.153.213:'}\n"
     ]
    },
    {
     "name": "stderr",
     "output_type": "stream",
     "text": [
      "  7%|█████▋                                                                             | 6/87 [00:01<00:17,  4.65it/s]"
     ]
    },
    {
     "name": "stdout",
     "output_type": "stream",
     "text": [
      "Request: <module 'requests' from 'C:\\\\Users\\\\nguye\\\\anaconda3\\\\lib\\\\site-packages\\\\requests\\\\__init__.py'>; Status code: 403\n",
      "24603\n",
      "{'http': 'http://72.47.152.224:55443', 'https': 'https://72.47.152.224:55443'}\n",
      "Request: <module 'requests' from 'C:\\\\Users\\\\nguye\\\\anaconda3\\\\lib\\\\site-packages\\\\requests\\\\__init__.py'>; Status code: 403\n",
      "24604\n",
      "{'http': 'http://3.230.91.35:', 'https': 'https://3.230.91.35:'}\n"
     ]
    },
    {
     "name": "stderr",
     "output_type": "stream",
     "text": [
      "\r",
      "  8%|██████▋                                                                            | 7/87 [00:01<00:16,  4.94it/s]"
     ]
    },
    {
     "name": "stdout",
     "output_type": "stream",
     "text": [
      "Request: <module 'requests' from 'C:\\\\Users\\\\nguye\\\\anaconda3\\\\lib\\\\site-packages\\\\requests\\\\__init__.py'>; Status code: 403\n",
      "24605\n",
      "{'http': 'http://104.192.202.11:', 'https': 'https://104.192.202.11:'}\n"
     ]
    },
    {
     "name": "stderr",
     "output_type": "stream",
     "text": [
      " 10%|████████▌                                                                          | 9/87 [00:02<00:30,  2.54it/s]"
     ]
    },
    {
     "name": "stdout",
     "output_type": "stream",
     "text": [
      "Request: <module 'requests' from 'C:\\\\Users\\\\nguye\\\\anaconda3\\\\lib\\\\site-packages\\\\requests\\\\__init__.py'>; Status code: 403\n",
      "24606\n",
      "{'http': 'http://107.151.182.247:', 'https': 'https://107.151.182.247:'}\n",
      "Request: <module 'requests' from 'C:\\\\Users\\\\nguye\\\\anaconda3\\\\lib\\\\site-packages\\\\requests\\\\__init__.py'>; Status code: 403\n",
      "24607\n",
      "{'http': 'http://132.145.195.93:', 'https': 'https://132.145.195.93:'}\n"
     ]
    },
    {
     "name": "stderr",
     "output_type": "stream",
     "text": [
      " 13%|██████████▎                                                                       | 11/87 [00:03<00:21,  3.58it/s]"
     ]
    },
    {
     "name": "stdout",
     "output_type": "stream",
     "text": [
      "Request: <module 'requests' from 'C:\\\\Users\\\\nguye\\\\anaconda3\\\\lib\\\\site-packages\\\\requests\\\\__init__.py'>; Status code: 403\n",
      "24608\n",
      "{'http': 'http://23.225.64.59:1089', 'https': 'https://23.225.64.59:1089'}\n",
      "Request: <module 'requests' from 'C:\\\\Users\\\\nguye\\\\anaconda3\\\\lib\\\\site-packages\\\\requests\\\\__init__.py'>; Status code: 403\n",
      "24609\n"
     ]
    },
    {
     "name": "stderr",
     "output_type": "stream",
     "text": [
      "\r",
      " 14%|███████████▎                                                                      | 12/87 [00:03<00:18,  4.02it/s]"
     ]
    },
    {
     "name": "stdout",
     "output_type": "stream",
     "text": [
      "{'http': 'http://161.35.4.201:', 'https': 'https://161.35.4.201:'}\n",
      "Request: <module 'requests' from 'C:\\\\Users\\\\nguye\\\\anaconda3\\\\lib\\\\site-packages\\\\requests\\\\__init__.py'>; Status code: 403\n",
      "24610\n"
     ]
    },
    {
     "name": "stderr",
     "output_type": "stream",
     "text": [
      "\r",
      " 15%|████████████▎                                                                     | 13/87 [00:03<00:16,  4.45it/s]"
     ]
    },
    {
     "name": "stdout",
     "output_type": "stream",
     "text": [
      "{'http': 'http://47.89.153.213:', 'https': 'https://47.89.153.213:'}\n",
      "Request: <module 'requests' from 'C:\\\\Users\\\\nguye\\\\anaconda3\\\\lib\\\\site-packages\\\\requests\\\\__init__.py'>; Status code: 403\n",
      "24611\n",
      "{'http': 'http://104.192.202.11:', 'https': 'https://104.192.202.11:'}\n"
     ]
    },
    {
     "name": "stderr",
     "output_type": "stream",
     "text": [
      " 17%|██████████████▏                                                                   | 15/87 [00:03<00:13,  5.48it/s]"
     ]
    },
    {
     "name": "stdout",
     "output_type": "stream",
     "text": [
      "Request: <module 'requests' from 'C:\\\\Users\\\\nguye\\\\anaconda3\\\\lib\\\\site-packages\\\\requests\\\\__init__.py'>; Status code: 403\n",
      "24612\n",
      "{'http': 'http://161.35.4.201:', 'https': 'https://161.35.4.201:'}\n",
      "Request: <module 'requests' from 'C:\\\\Users\\\\nguye\\\\anaconda3\\\\lib\\\\site-packages\\\\requests\\\\__init__.py'>; Status code: 403\n",
      "24613\n",
      "{'http': 'http://161.35.4.201:', 'https': 'https://161.35.4.201:'}\n"
     ]
    },
    {
     "name": "stderr",
     "output_type": "stream",
     "text": [
      " 20%|████████████████                                                                  | 17/87 [00:04<00:11,  6.05it/s]"
     ]
    },
    {
     "name": "stdout",
     "output_type": "stream",
     "text": [
      "Request: <module 'requests' from 'C:\\\\Users\\\\nguye\\\\anaconda3\\\\lib\\\\site-packages\\\\requests\\\\__init__.py'>; Status code: 403\n",
      "24614\n",
      "{'http': 'http://63.161.104.189:', 'https': 'https://63.161.104.189:'}\n",
      "Request: <module 'requests' from 'C:\\\\Users\\\\nguye\\\\anaconda3\\\\lib\\\\site-packages\\\\requests\\\\__init__.py'>; Status code: 403\n",
      "24615\n",
      "{'http': 'http://54.244.204.46:', 'https': 'https://54.244.204.46:'}\n"
     ]
    },
    {
     "name": "stderr",
     "output_type": "stream",
     "text": [
      " 22%|█████████████████▉                                                                | 19/87 [00:04<00:10,  6.37it/s]"
     ]
    },
    {
     "name": "stdout",
     "output_type": "stream",
     "text": [
      "Request: <module 'requests' from 'C:\\\\Users\\\\nguye\\\\anaconda3\\\\lib\\\\site-packages\\\\requests\\\\__init__.py'>; Status code: 403\n",
      "24616\n",
      "{'http': 'http://216.169.73.65:34679', 'https': 'https://216.169.73.65:34679'}\n",
      "Request: <module 'requests' from 'C:\\\\Users\\\\nguye\\\\anaconda3\\\\lib\\\\site-packages\\\\requests\\\\__init__.py'>; Status code: 403\n",
      "24617\n",
      "{'http': 'http://66.211.155.34:', 'https': 'https://66.211.155.34:'}\n"
     ]
    },
    {
     "name": "stderr",
     "output_type": "stream",
     "text": [
      " 24%|███████████████████▊                                                              | 21/87 [00:04<00:10,  6.05it/s]"
     ]
    },
    {
     "name": "stdout",
     "output_type": "stream",
     "text": [
      "Request: <module 'requests' from 'C:\\\\Users\\\\nguye\\\\anaconda3\\\\lib\\\\site-packages\\\\requests\\\\__init__.py'>; Status code: 403\n",
      "24618\n",
      "{'http': 'http://50.235.149.74:', 'https': 'https://50.235.149.74:'}\n",
      "Request: <module 'requests' from 'C:\\\\Users\\\\nguye\\\\anaconda3\\\\lib\\\\site-packages\\\\requests\\\\__init__.py'>; Status code: 403\n",
      "24619\n",
      "{'http': 'http://74.205.128.200:', 'https': 'https://74.205.128.200:'}\n"
     ]
    },
    {
     "name": "stderr",
     "output_type": "stream",
     "text": [
      "\r",
      " 25%|████████████████████▋                                                             | 22/87 [00:04<00:10,  5.99it/s]"
     ]
    },
    {
     "name": "stdout",
     "output_type": "stream",
     "text": [
      "Request: <module 'requests' from 'C:\\\\Users\\\\nguye\\\\anaconda3\\\\lib\\\\site-packages\\\\requests\\\\__init__.py'>; Status code: 403\n",
      "24620\n",
      "{'http': 'http://72.47.152.224:55443', 'https': 'https://72.47.152.224:55443'}\n"
     ]
    },
    {
     "name": "stderr",
     "output_type": "stream",
     "text": [
      "\r",
      " 26%|█████████████████████▋                                                            | 23/87 [00:05<00:11,  5.62it/s]"
     ]
    },
    {
     "name": "stdout",
     "output_type": "stream",
     "text": [
      "Request: <module 'requests' from 'C:\\\\Users\\\\nguye\\\\anaconda3\\\\lib\\\\site-packages\\\\requests\\\\__init__.py'>; Status code: 403\n",
      "24621\n",
      "{'http': 'http://132.145.195.93:', 'https': 'https://132.145.195.93:'}\n"
     ]
    },
    {
     "name": "stderr",
     "output_type": "stream",
     "text": [
      " 29%|███████████████████████▌                                                          | 25/87 [00:05<00:16,  3.87it/s]"
     ]
    },
    {
     "name": "stdout",
     "output_type": "stream",
     "text": [
      "Request: <module 'requests' from 'C:\\\\Users\\\\nguye\\\\anaconda3\\\\lib\\\\site-packages\\\\requests\\\\__init__.py'>; Status code: 403\n",
      "24622\n",
      "{'http': 'http://54.80.246.241:', 'https': 'https://54.80.246.241:'}\n",
      "Request: <module 'requests' from 'C:\\\\Users\\\\nguye\\\\anaconda3\\\\lib\\\\site-packages\\\\requests\\\\__init__.py'>; Status code: 403\n",
      "24623\n"
     ]
    },
    {
     "name": "stderr",
     "output_type": "stream",
     "text": [
      "\r",
      " 30%|████████████████████████▌                                                         | 26/87 [00:06<00:13,  4.46it/s]"
     ]
    },
    {
     "name": "stdout",
     "output_type": "stream",
     "text": [
      "{'http': 'http://54.244.204.46:', 'https': 'https://54.244.204.46:'}\n",
      "Request: <module 'requests' from 'C:\\\\Users\\\\nguye\\\\anaconda3\\\\lib\\\\site-packages\\\\requests\\\\__init__.py'>; Status code: 403\n",
      "24624\n",
      "{'http': 'http://138.68.235.51:', 'https': 'https://138.68.235.51:'}\n"
     ]
    },
    {
     "name": "stderr",
     "output_type": "stream",
     "text": [
      "\r",
      " 31%|█████████████████████████▍                                                        | 27/87 [00:06<00:12,  4.87it/s]"
     ]
    },
    {
     "name": "stdout",
     "output_type": "stream",
     "text": [
      "Request: <module 'requests' from 'C:\\\\Users\\\\nguye\\\\anaconda3\\\\lib\\\\site-packages\\\\requests\\\\__init__.py'>; Status code: 403\n",
      "24625\n",
      "{'http': 'http://3.217.161.14:', 'https': 'https://3.217.161.14:'}\n"
     ]
    },
    {
     "name": "stderr",
     "output_type": "stream",
     "text": [
      " 33%|███████████████████████████▎                                                      | 29/87 [00:06<00:13,  4.37it/s]"
     ]
    },
    {
     "name": "stdout",
     "output_type": "stream",
     "text": [
      "Request: <module 'requests' from 'C:\\\\Users\\\\nguye\\\\anaconda3\\\\lib\\\\site-packages\\\\requests\\\\__init__.py'>; Status code: 403\n",
      "24626\n",
      "{'http': 'http://54.80.246.241:', 'https': 'https://54.80.246.241:'}\n",
      "Request: <module 'requests' from 'C:\\\\Users\\\\nguye\\\\anaconda3\\\\lib\\\\site-packages\\\\requests\\\\__init__.py'>; Status code: 403\n",
      "24627\n",
      "{'http': 'http://159.65.69.186:9300', 'https': 'https://159.65.69.186:9300'}\n"
     ]
    },
    {
     "name": "stderr",
     "output_type": "stream",
     "text": [
      " 36%|█████████████████████████████▏                                                    | 31/87 [00:07<00:10,  5.39it/s]"
     ]
    },
    {
     "name": "stdout",
     "output_type": "stream",
     "text": [
      "Request: <module 'requests' from 'C:\\\\Users\\\\nguye\\\\anaconda3\\\\lib\\\\site-packages\\\\requests\\\\__init__.py'>; Status code: 403\n",
      "24628\n",
      "{'http': 'http://3.230.91.35:', 'https': 'https://3.230.91.35:'}\n",
      "Request: <module 'requests' from 'C:\\\\Users\\\\nguye\\\\anaconda3\\\\lib\\\\site-packages\\\\requests\\\\__init__.py'>; Status code: 403\n",
      "24629\n",
      "{'http': 'http://47.89.153.213:', 'https': 'https://47.89.153.213:'}\n"
     ]
    },
    {
     "name": "stderr",
     "output_type": "stream",
     "text": [
      " 38%|███████████████████████████████                                                   | 33/87 [00:07<00:09,  5.85it/s]"
     ]
    },
    {
     "name": "stdout",
     "output_type": "stream",
     "text": [
      "Request: <module 'requests' from 'C:\\\\Users\\\\nguye\\\\anaconda3\\\\lib\\\\site-packages\\\\requests\\\\__init__.py'>; Status code: 403\n",
      "24630\n",
      "{'http': 'http://54.80.246.241:', 'https': 'https://54.80.246.241:'}\n",
      "Request: <module 'requests' from 'C:\\\\Users\\\\nguye\\\\anaconda3\\\\lib\\\\site-packages\\\\requests\\\\__init__.py'>; Status code: 403\n",
      "24631\n",
      "{'http': 'http://154.85.35.235:8888', 'https': 'https://154.85.35.235:8888'}\n"
     ]
    },
    {
     "name": "stderr",
     "output_type": "stream",
     "text": [
      " 40%|████████████████████████████████▉                                                 | 35/87 [00:07<00:08,  5.91it/s]"
     ]
    },
    {
     "name": "stdout",
     "output_type": "stream",
     "text": [
      "Request: <module 'requests' from 'C:\\\\Users\\\\nguye\\\\anaconda3\\\\lib\\\\site-packages\\\\requests\\\\__init__.py'>; Status code: 403\n",
      "24632\n",
      "{'http': 'http://161.35.4.201:', 'https': 'https://161.35.4.201:'}\n",
      "Request: <module 'requests' from 'C:\\\\Users\\\\nguye\\\\anaconda3\\\\lib\\\\site-packages\\\\requests\\\\__init__.py'>; Status code: 403\n",
      "24633\n",
      "{'http': 'http://40.136.41.6:', 'https': 'https://40.136.41.6:'}\n"
     ]
    },
    {
     "name": "stderr",
     "output_type": "stream",
     "text": [
      " 43%|██████████████████████████████████▊                                               | 37/87 [00:07<00:08,  6.24it/s]"
     ]
    },
    {
     "name": "stdout",
     "output_type": "stream",
     "text": [
      "Request: <module 'requests' from 'C:\\\\Users\\\\nguye\\\\anaconda3\\\\lib\\\\site-packages\\\\requests\\\\__init__.py'>; Status code: 403\n",
      "24634\n",
      "{'http': 'http://3.211.17.212:', 'https': 'https://3.211.17.212:'}\n",
      "Request: <module 'requests' from 'C:\\\\Users\\\\nguye\\\\anaconda3\\\\lib\\\\site-packages\\\\requests\\\\__init__.py'>; Status code: 403\n",
      "24635\n",
      "{'http': 'http://104.192.202.11:', 'https': 'https://104.192.202.11:'}\n"
     ]
    },
    {
     "name": "stderr",
     "output_type": "stream",
     "text": [
      " 45%|████████████████████████████████████▊                                             | 39/87 [00:08<00:07,  6.43it/s]"
     ]
    },
    {
     "name": "stdout",
     "output_type": "stream",
     "text": [
      "Request: <module 'requests' from 'C:\\\\Users\\\\nguye\\\\anaconda3\\\\lib\\\\site-packages\\\\requests\\\\__init__.py'>; Status code: 403\n",
      "24636\n",
      "{'http': 'http://54.80.246.241:', 'https': 'https://54.80.246.241:'}\n",
      "Request: <module 'requests' from 'C:\\\\Users\\\\nguye\\\\anaconda3\\\\lib\\\\site-packages\\\\requests\\\\__init__.py'>; Status code: 403\n",
      "24637\n",
      "{'http': 'http://67.212.186.101:', 'https': 'https://67.212.186.101:'}\n"
     ]
    },
    {
     "name": "stderr",
     "output_type": "stream",
     "text": [
      " 47%|██████████████████████████████████████▋                                           | 41/87 [00:08<00:07,  6.06it/s]"
     ]
    },
    {
     "name": "stdout",
     "output_type": "stream",
     "text": [
      "Request: <module 'requests' from 'C:\\\\Users\\\\nguye\\\\anaconda3\\\\lib\\\\site-packages\\\\requests\\\\__init__.py'>; Status code: 403\n",
      "24638\n",
      "{'http': 'http://72.47.152.224:55443', 'https': 'https://72.47.152.224:55443'}\n",
      "Request: <module 'requests' from 'C:\\\\Users\\\\nguye\\\\anaconda3\\\\lib\\\\site-packages\\\\requests\\\\__init__.py'>; Status code: 403\n",
      "24639\n",
      "{'http': 'http://104.192.202.11:', 'https': 'https://104.192.202.11:'}\n"
     ]
    },
    {
     "name": "stderr",
     "output_type": "stream",
     "text": [
      " 49%|████████████████████████████████████████▌                                         | 43/87 [00:08<00:06,  6.39it/s]"
     ]
    },
    {
     "name": "stdout",
     "output_type": "stream",
     "text": [
      "Request: <module 'requests' from 'C:\\\\Users\\\\nguye\\\\anaconda3\\\\lib\\\\site-packages\\\\requests\\\\__init__.py'>; Status code: 403\n",
      "24640\n",
      "{'http': 'http://104.192.202.11:', 'https': 'https://104.192.202.11:'}\n",
      "Request: <module 'requests' from 'C:\\\\Users\\\\nguye\\\\anaconda3\\\\lib\\\\site-packages\\\\requests\\\\__init__.py'>; Status code: 403\n",
      "24641\n",
      "{'http': 'http://192.155.107.60:', 'https': 'https://192.155.107.60:'}\n"
     ]
    },
    {
     "name": "stderr",
     "output_type": "stream",
     "text": [
      "\r",
      " 51%|█████████████████████████████████████████▍                                        | 44/87 [00:09<00:07,  5.85it/s]"
     ]
    },
    {
     "name": "stdout",
     "output_type": "stream",
     "text": [
      "Request: <module 'requests' from 'C:\\\\Users\\\\nguye\\\\anaconda3\\\\lib\\\\site-packages\\\\requests\\\\__init__.py'>; Status code: 403\n",
      "24642\n",
      "{'http': 'http://23.225.64.59:1089', 'https': 'https://23.225.64.59:1089'}\n"
     ]
    },
    {
     "name": "stderr",
     "output_type": "stream",
     "text": [
      "\r",
      " 52%|██████████████████████████████████████████▍                                       | 45/87 [00:09<00:08,  5.02it/s]"
     ]
    },
    {
     "name": "stdout",
     "output_type": "stream",
     "text": [
      "Request: <module 'requests' from 'C:\\\\Users\\\\nguye\\\\anaconda3\\\\lib\\\\site-packages\\\\requests\\\\__init__.py'>; Status code: 403\n",
      "24643\n",
      "{'http': 'http://216.169.73.65:34679', 'https': 'https://216.169.73.65:34679'}\n"
     ]
    },
    {
     "name": "stderr",
     "output_type": "stream",
     "text": [
      " 54%|████████████████████████████████████████████▎                                     | 47/87 [00:09<00:08,  4.88it/s]"
     ]
    },
    {
     "name": "stdout",
     "output_type": "stream",
     "text": [
      "Request: <module 'requests' from 'C:\\\\Users\\\\nguye\\\\anaconda3\\\\lib\\\\site-packages\\\\requests\\\\__init__.py'>; Status code: 403\n",
      "24644\n",
      "{'http': 'http://3.211.17.212:', 'https': 'https://3.211.17.212:'}\n",
      "Request: <module 'requests' from 'C:\\\\Users\\\\nguye\\\\anaconda3\\\\lib\\\\site-packages\\\\requests\\\\__init__.py'>; Status code: 403\n",
      "24645\n"
     ]
    },
    {
     "name": "stderr",
     "output_type": "stream",
     "text": [
      "\r",
      " 55%|█████████████████████████████████████████████▏                                    | 48/87 [00:09<00:07,  5.09it/s]"
     ]
    },
    {
     "name": "stdout",
     "output_type": "stream",
     "text": [
      "{'http': 'http://23.225.64.59:1089', 'https': 'https://23.225.64.59:1089'}\n",
      "Request: <module 'requests' from 'C:\\\\Users\\\\nguye\\\\anaconda3\\\\lib\\\\site-packages\\\\requests\\\\__init__.py'>; Status code: 403\n",
      "24646\n",
      "{'http': 'http://192.155.107.60:', 'https': 'https://192.155.107.60:'}\n"
     ]
    },
    {
     "name": "stderr",
     "output_type": "stream",
     "text": [
      " 57%|███████████████████████████████████████████████▏                                  | 50/87 [00:10<00:08,  4.13it/s]"
     ]
    },
    {
     "name": "stdout",
     "output_type": "stream",
     "text": [
      "Request: <module 'requests' from 'C:\\\\Users\\\\nguye\\\\anaconda3\\\\lib\\\\site-packages\\\\requests\\\\__init__.py'>; Status code: 403\n",
      "24647\n",
      "{'http': 'http://3.217.161.14:', 'https': 'https://3.217.161.14:'}\n",
      "Request: <module 'requests' from 'C:\\\\Users\\\\nguye\\\\anaconda3\\\\lib\\\\site-packages\\\\requests\\\\__init__.py'>; Status code: 403\n",
      "24648\n",
      "{'http': 'http://138.68.235.51:', 'https': 'https://138.68.235.51:'}\n"
     ]
    },
    {
     "name": "stderr",
     "output_type": "stream",
     "text": [
      " 60%|█████████████████████████████████████████████████                                 | 52/87 [00:10<00:07,  4.94it/s]"
     ]
    },
    {
     "name": "stdout",
     "output_type": "stream",
     "text": [
      "Request: <module 'requests' from 'C:\\\\Users\\\\nguye\\\\anaconda3\\\\lib\\\\site-packages\\\\requests\\\\__init__.py'>; Status code: 403\n",
      "24649\n",
      "{'http': 'http://66.211.155.34:', 'https': 'https://66.211.155.34:'}\n",
      "Request: <module 'requests' from 'C:\\\\Users\\\\nguye\\\\anaconda3\\\\lib\\\\site-packages\\\\requests\\\\__init__.py'>; Status code: 403\n",
      "24650\n",
      "{'http': 'http://154.85.35.235:8888', 'https': 'https://154.85.35.235:8888'}\n"
     ]
    },
    {
     "name": "stderr",
     "output_type": "stream",
     "text": [
      " 62%|██████████████████████████████████████████████████▉                               | 54/87 [00:11<00:06,  5.40it/s]"
     ]
    },
    {
     "name": "stdout",
     "output_type": "stream",
     "text": [
      "Request: <module 'requests' from 'C:\\\\Users\\\\nguye\\\\anaconda3\\\\lib\\\\site-packages\\\\requests\\\\__init__.py'>; Status code: 403\n",
      "24651\n",
      "{'http': 'http://154.85.35.235:8888', 'https': 'https://154.85.35.235:8888'}\n",
      "Request: <module 'requests' from 'C:\\\\Users\\\\nguye\\\\anaconda3\\\\lib\\\\site-packages\\\\requests\\\\__init__.py'>; Status code: 403\n",
      "24652\n",
      "{'http': 'http://107.151.182.247:', 'https': 'https://107.151.182.247:'}\n"
     ]
    },
    {
     "name": "stderr",
     "output_type": "stream",
     "text": [
      " 64%|████████████████████████████████████████████████████▊                             | 56/87 [00:11<00:05,  5.96it/s]"
     ]
    },
    {
     "name": "stdout",
     "output_type": "stream",
     "text": [
      "Request: <module 'requests' from 'C:\\\\Users\\\\nguye\\\\anaconda3\\\\lib\\\\site-packages\\\\requests\\\\__init__.py'>; Status code: 403\n",
      "24653\n",
      "{'http': 'http://23.225.64.59:1089', 'https': 'https://23.225.64.59:1089'}\n",
      "Request: <module 'requests' from 'C:\\\\Users\\\\nguye\\\\anaconda3\\\\lib\\\\site-packages\\\\requests\\\\__init__.py'>; Status code: 403\n",
      "24654\n",
      "{'http': 'http://161.35.4.201:', 'https': 'https://161.35.4.201:'}\n"
     ]
    },
    {
     "name": "stderr",
     "output_type": "stream",
     "text": [
      " 67%|██████████████████████████████████████████████████████▋                           | 58/87 [00:11<00:04,  6.06it/s]"
     ]
    },
    {
     "name": "stdout",
     "output_type": "stream",
     "text": [
      "Request: <module 'requests' from 'C:\\\\Users\\\\nguye\\\\anaconda3\\\\lib\\\\site-packages\\\\requests\\\\__init__.py'>; Status code: 403\n",
      "24655\n",
      "{'http': 'http://47.89.153.213:', 'https': 'https://47.89.153.213:'}\n",
      "Request: <module 'requests' from 'C:\\\\Users\\\\nguye\\\\anaconda3\\\\lib\\\\site-packages\\\\requests\\\\__init__.py'>; Status code: 403\n",
      "24656\n",
      "{'http': 'http://173.196.205.170:', 'https': 'https://173.196.205.170:'}\n"
     ]
    },
    {
     "name": "stderr",
     "output_type": "stream",
     "text": [
      " 69%|████████████████████████████████████████████████████████▌                         | 60/87 [00:12<00:04,  6.47it/s]"
     ]
    },
    {
     "name": "stdout",
     "output_type": "stream",
     "text": [
      "Request: <module 'requests' from 'C:\\\\Users\\\\nguye\\\\anaconda3\\\\lib\\\\site-packages\\\\requests\\\\__init__.py'>; Status code: 403\n",
      "24657\n",
      "{'http': 'http://154.85.35.235:8888', 'https': 'https://154.85.35.235:8888'}\n",
      "Request: <module 'requests' from 'C:\\\\Users\\\\nguye\\\\anaconda3\\\\lib\\\\site-packages\\\\requests\\\\__init__.py'>; Status code: 403\n",
      "24658\n",
      "{'http': 'http://192.155.107.59:', 'https': 'https://192.155.107.59:'}\n"
     ]
    },
    {
     "name": "stderr",
     "output_type": "stream",
     "text": [
      " 71%|██████████████████████████████████████████████████████████▍                       | 62/87 [00:12<00:03,  6.51it/s]"
     ]
    },
    {
     "name": "stdout",
     "output_type": "stream",
     "text": [
      "Request: <module 'requests' from 'C:\\\\Users\\\\nguye\\\\anaconda3\\\\lib\\\\site-packages\\\\requests\\\\__init__.py'>; Status code: 403\n",
      "24659\n",
      "{'http': 'http://132.145.195.93:', 'https': 'https://132.145.195.93:'}\n",
      "Request: <module 'requests' from 'C:\\\\Users\\\\nguye\\\\anaconda3\\\\lib\\\\site-packages\\\\requests\\\\__init__.py'>; Status code: 403\n",
      "24660\n",
      "{'http': 'http://76.81.164.246:', 'https': 'https://76.81.164.246:'}\n"
     ]
    },
    {
     "name": "stderr",
     "output_type": "stream",
     "text": [
      " 74%|████████████████████████████████████████████████████████████▎                     | 64/87 [00:12<00:03,  6.86it/s]"
     ]
    },
    {
     "name": "stdout",
     "output_type": "stream",
     "text": [
      "Request: <module 'requests' from 'C:\\\\Users\\\\nguye\\\\anaconda3\\\\lib\\\\site-packages\\\\requests\\\\__init__.py'>; Status code: 403\n",
      "24661\n",
      "{'http': 'http://192.155.107.59:', 'https': 'https://192.155.107.59:'}\n",
      "Request: <module 'requests' from 'C:\\\\Users\\\\nguye\\\\anaconda3\\\\lib\\\\site-packages\\\\requests\\\\__init__.py'>; Status code: 403\n",
      "24662\n",
      "{'http': 'http://104.192.202.11:', 'https': 'https://104.192.202.11:'}\n"
     ]
    },
    {
     "name": "stderr",
     "output_type": "stream",
     "text": [
      "\r",
      " 75%|█████████████████████████████████████████████████████████████▎                    | 65/87 [00:12<00:03,  6.91it/s]"
     ]
    },
    {
     "name": "stdout",
     "output_type": "stream",
     "text": [
      "Request: <module 'requests' from 'C:\\\\Users\\\\nguye\\\\anaconda3\\\\lib\\\\site-packages\\\\requests\\\\__init__.py'>; Status code: 403\n",
      "24663\n",
      "{'http': 'http://50.235.149.74:', 'https': 'https://50.235.149.74:'}\n"
     ]
    },
    {
     "name": "stderr",
     "output_type": "stream",
     "text": [
      " 77%|███████████████████████████████████████████████████████████████▏                  | 67/87 [00:13<00:04,  4.34it/s]"
     ]
    },
    {
     "name": "stdout",
     "output_type": "stream",
     "text": [
      "Request: <module 'requests' from 'C:\\\\Users\\\\nguye\\\\anaconda3\\\\lib\\\\site-packages\\\\requests\\\\__init__.py'>; Status code: 403\n",
      "24664\n",
      "{'http': 'http://67.212.186.101:', 'https': 'https://67.212.186.101:'}\n",
      "Request: <module 'requests' from 'C:\\\\Users\\\\nguye\\\\anaconda3\\\\lib\\\\site-packages\\\\requests\\\\__init__.py'>; Status code: 403\n",
      "24665\n",
      "{'http': 'http://47.89.153.213:', 'https': 'https://47.89.153.213:'}\n"
     ]
    },
    {
     "name": "stderr",
     "output_type": "stream",
     "text": [
      " 79%|█████████████████████████████████████████████████████████████████                 | 69/87 [00:13<00:03,  5.45it/s]"
     ]
    },
    {
     "name": "stdout",
     "output_type": "stream",
     "text": [
      "Request: <module 'requests' from 'C:\\\\Users\\\\nguye\\\\anaconda3\\\\lib\\\\site-packages\\\\requests\\\\__init__.py'>; Status code: 403\n",
      "24666\n",
      "{'http': 'http://104.192.202.11:', 'https': 'https://104.192.202.11:'}\n",
      "Request: <module 'requests' from 'C:\\\\Users\\\\nguye\\\\anaconda3\\\\lib\\\\site-packages\\\\requests\\\\__init__.py'>; Status code: 403\n",
      "24667\n",
      "{'http': 'http://63.161.104.189:', 'https': 'https://63.161.104.189:'}\n"
     ]
    },
    {
     "name": "stderr",
     "output_type": "stream",
     "text": [
      " 82%|██████████████████████████████████████████████████████████████████▉               | 71/87 [00:14<00:02,  6.04it/s]"
     ]
    },
    {
     "name": "stdout",
     "output_type": "stream",
     "text": [
      "Request: <module 'requests' from 'C:\\\\Users\\\\nguye\\\\anaconda3\\\\lib\\\\site-packages\\\\requests\\\\__init__.py'>; Status code: 403\n",
      "24668\n",
      "{'http': 'http://66.211.155.34:', 'https': 'https://66.211.155.34:'}\n",
      "Request: <module 'requests' from 'C:\\\\Users\\\\nguye\\\\anaconda3\\\\lib\\\\site-packages\\\\requests\\\\__init__.py'>; Status code: 403\n",
      "24669\n",
      "{'http': 'http://154.85.35.235:8888', 'https': 'https://154.85.35.235:8888'}\n"
     ]
    },
    {
     "name": "stderr",
     "output_type": "stream",
     "text": [
      " 84%|████████████████████████████████████████████████████████████████████▊             | 73/87 [00:14<00:02,  6.56it/s]"
     ]
    },
    {
     "name": "stdout",
     "output_type": "stream",
     "text": [
      "Request: <module 'requests' from 'C:\\\\Users\\\\nguye\\\\anaconda3\\\\lib\\\\site-packages\\\\requests\\\\__init__.py'>; Status code: 403\n",
      "24670\n",
      "{'http': 'http://3.211.17.212:', 'https': 'https://3.211.17.212:'}\n",
      "Request: <module 'requests' from 'C:\\\\Users\\\\nguye\\\\anaconda3\\\\lib\\\\site-packages\\\\requests\\\\__init__.py'>; Status code: 403\n",
      "24671\n",
      "{'http': 'http://47.88.7.115:3129', 'https': 'https://47.88.7.115:3129'}\n"
     ]
    },
    {
     "name": "stderr",
     "output_type": "stream",
     "text": [
      " 86%|██████████████████████████████████████████████████████████████████████▋           | 75/87 [00:14<00:01,  6.81it/s]"
     ]
    },
    {
     "name": "stdout",
     "output_type": "stream",
     "text": [
      "Request: <module 'requests' from 'C:\\\\Users\\\\nguye\\\\anaconda3\\\\lib\\\\site-packages\\\\requests\\\\__init__.py'>; Status code: 403\n",
      "24672\n",
      "{'http': 'http://76.81.164.246:', 'https': 'https://76.81.164.246:'}\n",
      "Request: <module 'requests' from 'C:\\\\Users\\\\nguye\\\\anaconda3\\\\lib\\\\site-packages\\\\requests\\\\__init__.py'>; Status code: 403\n",
      "24673\n",
      "{'http': 'http://66.211.155.34:', 'https': 'https://66.211.155.34:'}\n"
     ]
    },
    {
     "name": "stderr",
     "output_type": "stream",
     "text": [
      "\r",
      " 87%|███████████████████████████████████████████████████████████████████████▋          | 76/87 [00:14<00:01,  6.72it/s]"
     ]
    },
    {
     "name": "stdout",
     "output_type": "stream",
     "text": [
      "Request: <module 'requests' from 'C:\\\\Users\\\\nguye\\\\anaconda3\\\\lib\\\\site-packages\\\\requests\\\\__init__.py'>; Status code: 403\n",
      "24674\n",
      "{'http': 'http://3.230.91.35:', 'https': 'https://3.230.91.35:'}\n"
     ]
    },
    {
     "name": "stderr",
     "output_type": "stream",
     "text": [
      " 90%|█████████████████████████████████████████████████████████████████████████▌        | 78/87 [00:16<00:03,  2.67it/s]"
     ]
    },
    {
     "name": "stdout",
     "output_type": "stream",
     "text": [
      "Request: <module 'requests' from 'C:\\\\Users\\\\nguye\\\\anaconda3\\\\lib\\\\site-packages\\\\requests\\\\__init__.py'>; Status code: 403\n",
      "24675\n",
      "{'http': 'http://192.155.107.60:', 'https': 'https://192.155.107.60:'}\n",
      "Request: <module 'requests' from 'C:\\\\Users\\\\nguye\\\\anaconda3\\\\lib\\\\site-packages\\\\requests\\\\__init__.py'>; Status code: 403\n",
      "24676\n",
      "{'http': 'http://74.205.128.200:', 'https': 'https://74.205.128.200:'}\n"
     ]
    },
    {
     "name": "stderr",
     "output_type": "stream",
     "text": [
      " 92%|███████████████████████████████████████████████████████████████████████████▍      | 80/87 [00:16<00:01,  3.87it/s]"
     ]
    },
    {
     "name": "stdout",
     "output_type": "stream",
     "text": [
      "Request: <module 'requests' from 'C:\\\\Users\\\\nguye\\\\anaconda3\\\\lib\\\\site-packages\\\\requests\\\\__init__.py'>; Status code: 403\n",
      "24677\n",
      "{'http': 'http://40.136.41.6:', 'https': 'https://40.136.41.6:'}\n",
      "Request: <module 'requests' from 'C:\\\\Users\\\\nguye\\\\anaconda3\\\\lib\\\\site-packages\\\\requests\\\\__init__.py'>; Status code: 403\n",
      "24678\n",
      "{'http': 'http://192.155.107.60:', 'https': 'https://192.155.107.60:'}\n"
     ]
    },
    {
     "name": "stderr",
     "output_type": "stream",
     "text": [
      "\r",
      " 93%|████████████████████████████████████████████████████████████████████████████▎     | 81/87 [00:16<00:01,  4.44it/s]"
     ]
    },
    {
     "name": "stdout",
     "output_type": "stream",
     "text": [
      "Request: <module 'requests' from 'C:\\\\Users\\\\nguye\\\\anaconda3\\\\lib\\\\site-packages\\\\requests\\\\__init__.py'>; Status code: 403\n",
      "24679\n",
      "{'http': 'http://72.47.152.224:55443', 'https': 'https://72.47.152.224:55443'}\n"
     ]
    },
    {
     "name": "stderr",
     "output_type": "stream",
     "text": [
      "\r",
      " 94%|█████████████████████████████████████████████████████████████████████████████▎    | 82/87 [00:17<00:01,  3.55it/s]"
     ]
    },
    {
     "name": "stdout",
     "output_type": "stream",
     "text": [
      "Request: <module 'requests' from 'C:\\\\Users\\\\nguye\\\\anaconda3\\\\lib\\\\site-packages\\\\requests\\\\__init__.py'>; Status code: 403\n",
      "24680\n",
      "{'http': 'http://47.88.7.115:3129', 'https': 'https://47.88.7.115:3129'}\n"
     ]
    },
    {
     "name": "stderr",
     "output_type": "stream",
     "text": [
      " 97%|███████████████████████████████████████████████████████████████████████████████▏  | 84/87 [00:17<00:00,  4.07it/s]"
     ]
    },
    {
     "name": "stdout",
     "output_type": "stream",
     "text": [
      "Request: <module 'requests' from 'C:\\\\Users\\\\nguye\\\\anaconda3\\\\lib\\\\site-packages\\\\requests\\\\__init__.py'>; Status code: 403\n",
      "24681\n",
      "{'http': 'http://74.205.128.200:', 'https': 'https://74.205.128.200:'}\n",
      "Request: <module 'requests' from 'C:\\\\Users\\\\nguye\\\\anaconda3\\\\lib\\\\site-packages\\\\requests\\\\__init__.py'>; Status code: 403\n",
      "24682\n"
     ]
    },
    {
     "name": "stderr",
     "output_type": "stream",
     "text": [
      "\r",
      " 98%|████████████████████████████████████████████████████████████████████████████████  | 85/87 [00:17<00:00,  4.33it/s]"
     ]
    },
    {
     "name": "stdout",
     "output_type": "stream",
     "text": [
      "{'http': 'http://64.227.62.123:', 'https': 'https://64.227.62.123:'}\n",
      "Request: <module 'requests' from 'C:\\\\Users\\\\nguye\\\\anaconda3\\\\lib\\\\site-packages\\\\requests\\\\__init__.py'>; Status code: 403\n",
      "24683\n"
     ]
    },
    {
     "name": "stderr",
     "output_type": "stream",
     "text": [
      "\r",
      " 99%|█████████████████████████████████████████████████████████████████████████████████ | 86/87 [00:17<00:00,  4.76it/s]"
     ]
    },
    {
     "name": "stdout",
     "output_type": "stream",
     "text": [
      "{'http': 'http://47.89.153.213:', 'https': 'https://47.89.153.213:'}\n",
      "Request: <module 'requests' from 'C:\\\\Users\\\\nguye\\\\anaconda3\\\\lib\\\\site-packages\\\\requests\\\\__init__.py'>; Status code: 403\n",
      "24684\n",
      "{'http': 'http://192.155.107.60:', 'https': 'https://192.155.107.60:'}\n"
     ]
    },
    {
     "name": "stderr",
     "output_type": "stream",
     "text": [
      "100%|██████████████████████████████████████████████████████████████████████████████████| 87/87 [00:18<00:00,  4.81it/s]\n"
     ]
    },
    {
     "name": "stdout",
     "output_type": "stream",
     "text": [
      "Request: <module 'requests' from 'C:\\\\Users\\\\nguye\\\\anaconda3\\\\lib\\\\site-packages\\\\requests\\\\__init__.py'>; Status code: 403\n",
      "24685\n"
     ]
    },
    {
     "name": "stderr",
     "output_type": "stream",
     "text": [
      "  1%|▊                                                                                 | 1/105 [00:00<00:16,  6.35it/s]"
     ]
    },
    {
     "name": "stdout",
     "output_type": "stream",
     "text": [
      "{'http': 'http://67.212.186.101:', 'https': 'https://67.212.186.101:'}\n",
      "Request: <module 'requests' from 'C:\\\\Users\\\\nguye\\\\anaconda3\\\\lib\\\\site-packages\\\\requests\\\\__init__.py'>; Status code: 403\n",
      "20979\n",
      "{'http': 'http://3.217.161.14:', 'https': 'https://3.217.161.14:'}\n"
     ]
    },
    {
     "name": "stderr",
     "output_type": "stream",
     "text": [
      "  3%|██▎                                                                               | 3/105 [00:00<00:17,  5.96it/s]"
     ]
    },
    {
     "name": "stdout",
     "output_type": "stream",
     "text": [
      "Request: <module 'requests' from 'C:\\\\Users\\\\nguye\\\\anaconda3\\\\lib\\\\site-packages\\\\requests\\\\__init__.py'>; Status code: 403\n",
      "20980\n",
      "{'http': 'http://47.89.153.213:', 'https': 'https://47.89.153.213:'}\n",
      "Request: <module 'requests' from 'C:\\\\Users\\\\nguye\\\\anaconda3\\\\lib\\\\site-packages\\\\requests\\\\__init__.py'>; Status code: 403\n",
      "20981\n",
      "{'http': 'http://161.35.4.201:', 'https': 'https://161.35.4.201:'}\n"
     ]
    },
    {
     "name": "stderr",
     "output_type": "stream",
     "text": [
      "  5%|███▉                                                                              | 5/105 [00:00<00:16,  5.95it/s]"
     ]
    },
    {
     "name": "stdout",
     "output_type": "stream",
     "text": [
      "Request: <module 'requests' from 'C:\\\\Users\\\\nguye\\\\anaconda3\\\\lib\\\\site-packages\\\\requests\\\\__init__.py'>; Status code: 403\n",
      "20982\n",
      "{'http': 'http://12.151.56.30:', 'https': 'https://12.151.56.30:'}\n",
      "Request: <module 'requests' from 'C:\\\\Users\\\\nguye\\\\anaconda3\\\\lib\\\\site-packages\\\\requests\\\\__init__.py'>; Status code: 403\n",
      "20983\n",
      "{'http': 'http://3.211.17.212:', 'https': 'https://3.211.17.212:'}\n"
     ]
    },
    {
     "name": "stderr",
     "output_type": "stream",
     "text": [
      "\r",
      "  6%|████▋                                                                             | 6/105 [00:01<00:20,  4.82it/s]"
     ]
    },
    {
     "name": "stdout",
     "output_type": "stream",
     "text": [
      "Request: <module 'requests' from 'C:\\\\Users\\\\nguye\\\\anaconda3\\\\lib\\\\site-packages\\\\requests\\\\__init__.py'>; Status code: 403\n",
      "20984\n",
      "{'http': 'http://54.244.204.46:', 'https': 'https://54.244.204.46:'}\n"
     ]
    },
    {
     "name": "stderr",
     "output_type": "stream",
     "text": [
      "  8%|██████▏                                                                           | 8/105 [00:01<00:18,  5.21it/s]"
     ]
    },
    {
     "name": "stdout",
     "output_type": "stream",
     "text": [
      "Request: <module 'requests' from 'C:\\\\Users\\\\nguye\\\\anaconda3\\\\lib\\\\site-packages\\\\requests\\\\__init__.py'>; Status code: 403\n",
      "20985\n",
      "{'http': 'http://47.252.82.135:', 'https': 'https://47.252.82.135:'}\n",
      "Request: <module 'requests' from 'C:\\\\Users\\\\nguye\\\\anaconda3\\\\lib\\\\site-packages\\\\requests\\\\__init__.py'>; Status code: 403\n",
      "20986\n",
      "{'http': 'http://204.16.1.169:82', 'https': 'https://204.16.1.169:82'}\n"
     ]
    },
    {
     "name": "stderr",
     "output_type": "stream",
     "text": [
      " 10%|███████▋                                                                         | 10/105 [00:01<00:16,  5.93it/s]"
     ]
    },
    {
     "name": "stdout",
     "output_type": "stream",
     "text": [
      "Request: <module 'requests' from 'C:\\\\Users\\\\nguye\\\\anaconda3\\\\lib\\\\site-packages\\\\requests\\\\__init__.py'>; Status code: 403\n",
      "20987\n",
      "{'http': 'http://107.151.182.247:', 'https': 'https://107.151.182.247:'}\n",
      "Request: <module 'requests' from 'C:\\\\Users\\\\nguye\\\\anaconda3\\\\lib\\\\site-packages\\\\requests\\\\__init__.py'>; Status code: 403\n",
      "20988\n",
      "{'http': 'http://161.35.4.201:', 'https': 'https://161.35.4.201:'}\n"
     ]
    },
    {
     "name": "stderr",
     "output_type": "stream",
     "text": [
      "\r",
      " 10%|████████▍                                                                        | 11/105 [00:01<00:16,  5.83it/s]"
     ]
    },
    {
     "name": "stdout",
     "output_type": "stream",
     "text": [
      "Request: <module 'requests' from 'C:\\\\Users\\\\nguye\\\\anaconda3\\\\lib\\\\site-packages\\\\requests\\\\__init__.py'>; Status code: 403\n",
      "20989\n",
      "{'http': 'http://208.72.154.111:8888', 'https': 'https://208.72.154.111:8888'}\n"
     ]
    },
    {
     "name": "stderr",
     "output_type": "stream",
     "text": [
      "\r",
      " 11%|█████████▎                                                                       | 12/105 [00:02<00:28,  3.26it/s]"
     ]
    },
    {
     "name": "stdout",
     "output_type": "stream",
     "text": [
      "Request: <module 'requests' from 'C:\\\\Users\\\\nguye\\\\anaconda3\\\\lib\\\\site-packages\\\\requests\\\\__init__.py'>; Status code: 403\n",
      "20990\n",
      "{'http': 'http://47.89.153.213:', 'https': 'https://47.89.153.213:'}\n"
     ]
    },
    {
     "name": "stderr",
     "output_type": "stream",
     "text": [
      " 13%|██████████▊                                                                      | 14/105 [00:03<00:40,  2.27it/s]"
     ]
    },
    {
     "name": "stdout",
     "output_type": "stream",
     "text": [
      "Request: <module 'requests' from 'C:\\\\Users\\\\nguye\\\\anaconda3\\\\lib\\\\site-packages\\\\requests\\\\__init__.py'>; Status code: 403\n",
      "20991\n",
      "{'http': 'http://20.47.108.204:8888', 'https': 'https://20.47.108.204:8888'}\n",
      "Request: <module 'requests' from 'C:\\\\Users\\\\nguye\\\\anaconda3\\\\lib\\\\site-packages\\\\requests\\\\__init__.py'>; Status code: 403\n",
      "20992\n",
      "{'http': 'http://107.151.182.247:', 'https': 'https://107.151.182.247:'}\n"
     ]
    },
    {
     "name": "stderr",
     "output_type": "stream",
     "text": [
      " 15%|████████████▎                                                                    | 16/105 [00:04<00:25,  3.48it/s]"
     ]
    },
    {
     "name": "stdout",
     "output_type": "stream",
     "text": [
      "Request: <module 'requests' from 'C:\\\\Users\\\\nguye\\\\anaconda3\\\\lib\\\\site-packages\\\\requests\\\\__init__.py'>; Status code: 403\n",
      "20993\n",
      "{'http': 'http://47.252.82.135:', 'https': 'https://47.252.82.135:'}\n",
      "Request: <module 'requests' from 'C:\\\\Users\\\\nguye\\\\anaconda3\\\\lib\\\\site-packages\\\\requests\\\\__init__.py'>; Status code: 403\n",
      "20994\n",
      "{'http': 'http://192.155.107.60:', 'https': 'https://192.155.107.60:'}\n"
     ]
    },
    {
     "name": "stderr",
     "output_type": "stream",
     "text": [
      " 17%|█████████████▉                                                                   | 18/105 [00:04<00:20,  4.32it/s]"
     ]
    },
    {
     "name": "stdout",
     "output_type": "stream",
     "text": [
      "Request: <module 'requests' from 'C:\\\\Users\\\\nguye\\\\anaconda3\\\\lib\\\\site-packages\\\\requests\\\\__init__.py'>; Status code: 403\n",
      "20995\n",
      "{'http': 'http://138.68.235.51:', 'https': 'https://138.68.235.51:'}\n",
      "Request: <module 'requests' from 'C:\\\\Users\\\\nguye\\\\anaconda3\\\\lib\\\\site-packages\\\\requests\\\\__init__.py'>; Status code: 403\n",
      "20996\n",
      "{'http': 'http://76.81.164.246:', 'https': 'https://76.81.164.246:'}\n"
     ]
    },
    {
     "name": "stderr",
     "output_type": "stream",
     "text": [
      " 19%|███████████████▍                                                                 | 20/105 [00:04<00:16,  5.14it/s]"
     ]
    },
    {
     "name": "stdout",
     "output_type": "stream",
     "text": [
      "Request: <module 'requests' from 'C:\\\\Users\\\\nguye\\\\anaconda3\\\\lib\\\\site-packages\\\\requests\\\\__init__.py'>; Status code: 403\n",
      "20997\n",
      "{'http': 'http://54.80.246.241:', 'https': 'https://54.80.246.241:'}\n",
      "Request: <module 'requests' from 'C:\\\\Users\\\\nguye\\\\anaconda3\\\\lib\\\\site-packages\\\\requests\\\\__init__.py'>; Status code: 403\n",
      "20998\n",
      "{'http': 'http://192.155.107.60:', 'https': 'https://192.155.107.60:'}\n"
     ]
    },
    {
     "name": "stderr",
     "output_type": "stream",
     "text": [
      " 21%|████████████████▉                                                                | 22/105 [00:05<00:16,  5.12it/s]"
     ]
    },
    {
     "name": "stdout",
     "output_type": "stream",
     "text": [
      "Request: <module 'requests' from 'C:\\\\Users\\\\nguye\\\\anaconda3\\\\lib\\\\site-packages\\\\requests\\\\__init__.py'>; Status code: 403\n",
      "20999\n",
      "{'http': 'http://47.252.82.135:', 'https': 'https://47.252.82.135:'}\n",
      "Request: <module 'requests' from 'C:\\\\Users\\\\nguye\\\\anaconda3\\\\lib\\\\site-packages\\\\requests\\\\__init__.py'>; Status code: 403\n",
      "21000\n",
      "{'http': 'http://3.211.17.212:', 'https': 'https://3.211.17.212:'}\n"
     ]
    },
    {
     "name": "stderr",
     "output_type": "stream",
     "text": [
      " 23%|██████████████████▌                                                              | 24/105 [00:05<00:16,  5.05it/s]"
     ]
    },
    {
     "name": "stdout",
     "output_type": "stream",
     "text": [
      "Request: <module 'requests' from 'C:\\\\Users\\\\nguye\\\\anaconda3\\\\lib\\\\site-packages\\\\requests\\\\__init__.py'>; Status code: 403\n",
      "21001\n",
      "{'http': 'http://23.225.64.59:1089', 'https': 'https://23.225.64.59:1089'}\n",
      "Request: <module 'requests' from 'C:\\\\Users\\\\nguye\\\\anaconda3\\\\lib\\\\site-packages\\\\requests\\\\__init__.py'>; Status code: 403\n",
      "21002\n",
      "{'http': 'http://3.217.161.14:', 'https': 'https://3.217.161.14:'}\n"
     ]
    },
    {
     "name": "stderr",
     "output_type": "stream",
     "text": [
      " 25%|████████████████████                                                             | 26/105 [00:05<00:14,  5.55it/s]"
     ]
    },
    {
     "name": "stdout",
     "output_type": "stream",
     "text": [
      "Request: <module 'requests' from 'C:\\\\Users\\\\nguye\\\\anaconda3\\\\lib\\\\site-packages\\\\requests\\\\__init__.py'>; Status code: 403\n",
      "21003\n",
      "{'http': 'http://173.196.205.170:', 'https': 'https://173.196.205.170:'}\n",
      "Request: <module 'requests' from 'C:\\\\Users\\\\nguye\\\\anaconda3\\\\lib\\\\site-packages\\\\requests\\\\__init__.py'>; Status code: 403\n",
      "21004\n",
      "{'http': 'http://76.81.164.246:', 'https': 'https://76.81.164.246:'}\n"
     ]
    },
    {
     "name": "stderr",
     "output_type": "stream",
     "text": [
      " 27%|█████████████████████▌                                                           | 28/105 [00:06<00:12,  6.08it/s]"
     ]
    },
    {
     "name": "stdout",
     "output_type": "stream",
     "text": [
      "Request: <module 'requests' from 'C:\\\\Users\\\\nguye\\\\anaconda3\\\\lib\\\\site-packages\\\\requests\\\\__init__.py'>; Status code: 403\n",
      "21005\n",
      "{'http': 'http://208.72.154.111:8888', 'https': 'https://208.72.154.111:8888'}\n",
      "Request: <module 'requests' from 'C:\\\\Users\\\\nguye\\\\anaconda3\\\\lib\\\\site-packages\\\\requests\\\\__init__.py'>; Status code: 403\n",
      "21006\n",
      "{'http': 'http://161.35.4.201:', 'https': 'https://161.35.4.201:'}\n"
     ]
    },
    {
     "name": "stderr",
     "output_type": "stream",
     "text": [
      " 29%|███████████████████████▏                                                         | 30/105 [00:06<00:11,  6.29it/s]"
     ]
    },
    {
     "name": "stdout",
     "output_type": "stream",
     "text": [
      "Request: <module 'requests' from 'C:\\\\Users\\\\nguye\\\\anaconda3\\\\lib\\\\site-packages\\\\requests\\\\__init__.py'>; Status code: 403\n",
      "21007\n",
      "{'http': 'http://54.80.246.241:', 'https': 'https://54.80.246.241:'}\n",
      "Request: <module 'requests' from 'C:\\\\Users\\\\nguye\\\\anaconda3\\\\lib\\\\site-packages\\\\requests\\\\__init__.py'>; Status code: 403\n",
      "21008\n",
      "{'http': 'http://47.252.82.135:', 'https': 'https://47.252.82.135:'}\n"
     ]
    },
    {
     "name": "stderr",
     "output_type": "stream",
     "text": [
      " 30%|████████████████████████▋                                                        | 32/105 [00:06<00:10,  6.71it/s]"
     ]
    },
    {
     "name": "stdout",
     "output_type": "stream",
     "text": [
      "Request: <module 'requests' from 'C:\\\\Users\\\\nguye\\\\anaconda3\\\\lib\\\\site-packages\\\\requests\\\\__init__.py'>; Status code: 403\n",
      "21009\n",
      "{'http': 'http://3.230.91.35:', 'https': 'https://3.230.91.35:'}\n",
      "Request: <module 'requests' from 'C:\\\\Users\\\\nguye\\\\anaconda3\\\\lib\\\\site-packages\\\\requests\\\\__init__.py'>; Status code: 403\n",
      "21010\n",
      "{'http': 'http://47.89.153.213:', 'https': 'https://47.89.153.213:'}\n"
     ]
    },
    {
     "name": "stderr",
     "output_type": "stream",
     "text": [
      " 32%|██████████████████████████▏                                                      | 34/105 [00:07<00:11,  6.39it/s]"
     ]
    },
    {
     "name": "stdout",
     "output_type": "stream",
     "text": [
      "Request: <module 'requests' from 'C:\\\\Users\\\\nguye\\\\anaconda3\\\\lib\\\\site-packages\\\\requests\\\\__init__.py'>; Status code: 403\n",
      "21011\n",
      "{'http': 'http://67.212.186.101:', 'https': 'https://67.212.186.101:'}\n",
      "Request: <module 'requests' from 'C:\\\\Users\\\\nguye\\\\anaconda3\\\\lib\\\\site-packages\\\\requests\\\\__init__.py'>; Status code: 403\n",
      "21012\n",
      "{'http': 'http://64.227.62.123:', 'https': 'https://64.227.62.123:'}\n"
     ]
    },
    {
     "name": "stderr",
     "output_type": "stream",
     "text": [
      " 34%|███████████████████████████▊                                                     | 36/105 [00:07<00:10,  6.48it/s]"
     ]
    },
    {
     "name": "stdout",
     "output_type": "stream",
     "text": [
      "Request: <module 'requests' from 'C:\\\\Users\\\\nguye\\\\anaconda3\\\\lib\\\\site-packages\\\\requests\\\\__init__.py'>; Status code: 403\n",
      "21013\n",
      "{'http': 'http://154.85.35.235:8888', 'https': 'https://154.85.35.235:8888'}\n",
      "Request: <module 'requests' from 'C:\\\\Users\\\\nguye\\\\anaconda3\\\\lib\\\\site-packages\\\\requests\\\\__init__.py'>; Status code: 403\n",
      "21014\n",
      "{'http': 'http://186.233.186.60:', 'https': 'https://186.233.186.60:'}\n"
     ]
    },
    {
     "name": "stderr",
     "output_type": "stream",
     "text": [
      " 36%|█████████████████████████████▎                                                   | 38/105 [00:07<00:10,  6.43it/s]"
     ]
    },
    {
     "name": "stdout",
     "output_type": "stream",
     "text": [
      "Request: <module 'requests' from 'C:\\\\Users\\\\nguye\\\\anaconda3\\\\lib\\\\site-packages\\\\requests\\\\__init__.py'>; Status code: 403\n",
      "21015\n",
      "{'http': 'http://208.72.154.111:8888', 'https': 'https://208.72.154.111:8888'}\n",
      "Request: <module 'requests' from 'C:\\\\Users\\\\nguye\\\\anaconda3\\\\lib\\\\site-packages\\\\requests\\\\__init__.py'>; Status code: 403\n",
      "21016\n",
      "{'http': 'http://107.151.182.247:', 'https': 'https://107.151.182.247:'}\n"
     ]
    },
    {
     "name": "stderr",
     "output_type": "stream",
     "text": [
      " 38%|██████████████████████████████▊                                                  | 40/105 [00:08<00:10,  6.40it/s]"
     ]
    },
    {
     "name": "stdout",
     "output_type": "stream",
     "text": [
      "Request: <module 'requests' from 'C:\\\\Users\\\\nguye\\\\anaconda3\\\\lib\\\\site-packages\\\\requests\\\\__init__.py'>; Status code: 403\n",
      "21017\n",
      "{'http': 'http://20.47.108.204:8888', 'https': 'https://20.47.108.204:8888'}\n",
      "Request: <module 'requests' from 'C:\\\\Users\\\\nguye\\\\anaconda3\\\\lib\\\\site-packages\\\\requests\\\\__init__.py'>; Status code: 403\n",
      "21018\n",
      "{'http': 'http://3.217.161.14:', 'https': 'https://3.217.161.14:'}\n"
     ]
    },
    {
     "name": "stderr",
     "output_type": "stream",
     "text": [
      " 40%|████████████████████████████████▍                                                | 42/105 [00:08<00:10,  6.23it/s]"
     ]
    },
    {
     "name": "stdout",
     "output_type": "stream",
     "text": [
      "Request: <module 'requests' from 'C:\\\\Users\\\\nguye\\\\anaconda3\\\\lib\\\\site-packages\\\\requests\\\\__init__.py'>; Status code: 403\n",
      "21019\n",
      "{'http': 'http://40.136.41.6:', 'https': 'https://40.136.41.6:'}\n",
      "Request: <module 'requests' from 'C:\\\\Users\\\\nguye\\\\anaconda3\\\\lib\\\\site-packages\\\\requests\\\\__init__.py'>; Status code: 403\n",
      "21020\n",
      "{'http': 'http://20.47.108.204:8888', 'https': 'https://20.47.108.204:8888'}\n"
     ]
    },
    {
     "name": "stderr",
     "output_type": "stream",
     "text": [
      " 42%|█████████████████████████████████▉                                               | 44/105 [00:08<00:10,  6.05it/s]"
     ]
    },
    {
     "name": "stdout",
     "output_type": "stream",
     "text": [
      "Request: <module 'requests' from 'C:\\\\Users\\\\nguye\\\\anaconda3\\\\lib\\\\site-packages\\\\requests\\\\__init__.py'>; Status code: 403\n",
      "21021\n",
      "{'http': 'http://47.88.7.115:3129', 'https': 'https://47.88.7.115:3129'}\n",
      "Request: <module 'requests' from 'C:\\\\Users\\\\nguye\\\\anaconda3\\\\lib\\\\site-packages\\\\requests\\\\__init__.py'>; Status code: 403\n",
      "21022\n",
      "{'http': 'http://63.161.104.189:', 'https': 'https://63.161.104.189:'}\n"
     ]
    },
    {
     "name": "stderr",
     "output_type": "stream",
     "text": [
      "\r",
      " 43%|██████████████████████████████████▋                                              | 45/105 [00:09<00:11,  5.22it/s]"
     ]
    },
    {
     "name": "stdout",
     "output_type": "stream",
     "text": [
      "Request: <module 'requests' from 'C:\\\\Users\\\\nguye\\\\anaconda3\\\\lib\\\\site-packages\\\\requests\\\\__init__.py'>; Status code: 403\n",
      "21023\n",
      "{'http': 'http://47.88.7.115:3129', 'https': 'https://47.88.7.115:3129'}\n"
     ]
    },
    {
     "name": "stderr",
     "output_type": "stream",
     "text": [
      " 45%|████████████████████████████████████▎                                            | 47/105 [00:09<00:11,  5.14it/s]"
     ]
    },
    {
     "name": "stdout",
     "output_type": "stream",
     "text": [
      "Request: <module 'requests' from 'C:\\\\Users\\\\nguye\\\\anaconda3\\\\lib\\\\site-packages\\\\requests\\\\__init__.py'>; Status code: 403\n",
      "21024\n",
      "{'http': 'http://3.230.91.35:', 'https': 'https://3.230.91.35:'}\n",
      "Request: <module 'requests' from 'C:\\\\Users\\\\nguye\\\\anaconda3\\\\lib\\\\site-packages\\\\requests\\\\__init__.py'>; Status code: 403\n",
      "21025\n",
      "{'http': 'http://138.68.235.51:', 'https': 'https://138.68.235.51:'}\n"
     ]
    },
    {
     "name": "stderr",
     "output_type": "stream",
     "text": [
      " 47%|█████████████████████████████████████▊                                           | 49/105 [00:09<00:10,  5.37it/s]"
     ]
    },
    {
     "name": "stdout",
     "output_type": "stream",
     "text": [
      "Request: <module 'requests' from 'C:\\\\Users\\\\nguye\\\\anaconda3\\\\lib\\\\site-packages\\\\requests\\\\__init__.py'>; Status code: 403\n",
      "21026\n",
      "{'http': 'http://104.192.202.11:', 'https': 'https://104.192.202.11:'}\n",
      "Request: <module 'requests' from 'C:\\\\Users\\\\nguye\\\\anaconda3\\\\lib\\\\site-packages\\\\requests\\\\__init__.py'>; Status code: 403\n",
      "21027\n"
     ]
    },
    {
     "name": "stderr",
     "output_type": "stream",
     "text": [
      "\r",
      " 48%|██████████████████████████████████████▌                                          | 50/105 [00:10<00:10,  5.29it/s]"
     ]
    },
    {
     "name": "stdout",
     "output_type": "stream",
     "text": [
      "{'http': 'http://72.47.152.224:55443', 'https': 'https://72.47.152.224:55443'}\n",
      "Request: <module 'requests' from 'C:\\\\Users\\\\nguye\\\\anaconda3\\\\lib\\\\site-packages\\\\requests\\\\__init__.py'>; Status code: 403\n",
      "21028\n"
     ]
    },
    {
     "name": "stderr",
     "output_type": "stream",
     "text": [
      "\r",
      " 49%|███████████████████████████████████████▎                                         | 51/105 [00:10<00:10,  5.30it/s]"
     ]
    },
    {
     "name": "stdout",
     "output_type": "stream",
     "text": [
      "{'http': 'http://192.155.107.59:', 'https': 'https://192.155.107.59:'}\n",
      "Request: <module 'requests' from 'C:\\\\Users\\\\nguye\\\\anaconda3\\\\lib\\\\site-packages\\\\requests\\\\__init__.py'>; Status code: 403\n",
      "21029\n",
      "{'http': 'http://76.81.164.246:', 'https': 'https://76.81.164.246:'}\n"
     ]
    },
    {
     "name": "stderr",
     "output_type": "stream",
     "text": [
      " 50%|████████████████████████████████████████▉                                        | 53/105 [00:10<00:09,  5.41it/s]"
     ]
    },
    {
     "name": "stdout",
     "output_type": "stream",
     "text": [
      "Request: <module 'requests' from 'C:\\\\Users\\\\nguye\\\\anaconda3\\\\lib\\\\site-packages\\\\requests\\\\__init__.py'>; Status code: 403\n",
      "21030\n",
      "{'http': 'http://3.211.17.212:', 'https': 'https://3.211.17.212:'}\n",
      "Request: <module 'requests' from 'C:\\\\Users\\\\nguye\\\\anaconda3\\\\lib\\\\site-packages\\\\requests\\\\__init__.py'>; Status code: 403\n",
      "21031\n"
     ]
    },
    {
     "name": "stderr",
     "output_type": "stream",
     "text": [
      "\r",
      " 51%|█████████████████████████████████████████▋                                       | 54/105 [00:10<00:09,  5.32it/s]"
     ]
    },
    {
     "name": "stdout",
     "output_type": "stream",
     "text": [
      "{'http': 'http://138.68.235.51:', 'https': 'https://138.68.235.51:'}\n",
      "Request: <module 'requests' from 'C:\\\\Users\\\\nguye\\\\anaconda3\\\\lib\\\\site-packages\\\\requests\\\\__init__.py'>; Status code: 403\n",
      "21032\n"
     ]
    },
    {
     "name": "stderr",
     "output_type": "stream",
     "text": [
      "\r",
      " 52%|██████████████████████████████████████████▍                                      | 55/105 [00:10<00:09,  5.36it/s]"
     ]
    },
    {
     "name": "stdout",
     "output_type": "stream",
     "text": [
      "{'http': 'http://20.47.108.204:8888', 'https': 'https://20.47.108.204:8888'}\n",
      "Request: <module 'requests' from 'C:\\\\Users\\\\nguye\\\\anaconda3\\\\lib\\\\site-packages\\\\requests\\\\__init__.py'>; Status code: 403\n",
      "21033\n",
      "{'http': 'http://208.72.154.111:8888', 'https': 'https://208.72.154.111:8888'}\n"
     ]
    },
    {
     "name": "stderr",
     "output_type": "stream",
     "text": [
      " 54%|███████████████████████████████████████████▉                                     | 57/105 [00:11<00:10,  4.69it/s]"
     ]
    },
    {
     "name": "stdout",
     "output_type": "stream",
     "text": [
      "Request: <module 'requests' from 'C:\\\\Users\\\\nguye\\\\anaconda3\\\\lib\\\\site-packages\\\\requests\\\\__init__.py'>; Status code: 403\n",
      "21034\n",
      "{'http': 'http://47.252.82.135:', 'https': 'https://47.252.82.135:'}\n",
      "Request: <module 'requests' from 'C:\\\\Users\\\\nguye\\\\anaconda3\\\\lib\\\\site-packages\\\\requests\\\\__init__.py'>; Status code: 403\n",
      "21035\n",
      "{'http': 'http://107.151.182.247:', 'https': 'https://107.151.182.247:'}\n"
     ]
    },
    {
     "name": "stderr",
     "output_type": "stream",
     "text": [
      " 56%|█████████████████████████████████████████████▌                                   | 59/105 [00:11<00:08,  5.44it/s]"
     ]
    },
    {
     "name": "stdout",
     "output_type": "stream",
     "text": [
      "Request: <module 'requests' from 'C:\\\\Users\\\\nguye\\\\anaconda3\\\\lib\\\\site-packages\\\\requests\\\\__init__.py'>; Status code: 403\n",
      "21036\n",
      "{'http': 'http://208.72.154.111:8888', 'https': 'https://208.72.154.111:8888'}\n",
      "Request: <module 'requests' from 'C:\\\\Users\\\\nguye\\\\anaconda3\\\\lib\\\\site-packages\\\\requests\\\\__init__.py'>; Status code: 403\n",
      "21037\n",
      "{'http': 'http://47.89.153.213:', 'https': 'https://47.89.153.213:'}\n"
     ]
    },
    {
     "name": "stderr",
     "output_type": "stream",
     "text": [
      " 58%|███████████████████████████████████████████████                                  | 61/105 [00:12<00:07,  5.75it/s]"
     ]
    },
    {
     "name": "stdout",
     "output_type": "stream",
     "text": [
      "Request: <module 'requests' from 'C:\\\\Users\\\\nguye\\\\anaconda3\\\\lib\\\\site-packages\\\\requests\\\\__init__.py'>; Status code: 403\n",
      "21038\n",
      "{'http': 'http://216.169.73.65:34679', 'https': 'https://216.169.73.65:34679'}\n",
      "Request: <module 'requests' from 'C:\\\\Users\\\\nguye\\\\anaconda3\\\\lib\\\\site-packages\\\\requests\\\\__init__.py'>; Status code: 403\n",
      "21039\n",
      "{'http': 'http://3.217.161.14:', 'https': 'https://3.217.161.14:'}\n"
     ]
    },
    {
     "name": "stderr",
     "output_type": "stream",
     "text": [
      " 60%|████████████████████████████████████████████████▌                                | 63/105 [00:12<00:07,  5.82it/s]"
     ]
    },
    {
     "name": "stdout",
     "output_type": "stream",
     "text": [
      "Request: <module 'requests' from 'C:\\\\Users\\\\nguye\\\\anaconda3\\\\lib\\\\site-packages\\\\requests\\\\__init__.py'>; Status code: 403\n",
      "21040\n",
      "{'http': 'http://107.151.182.247:', 'https': 'https://107.151.182.247:'}\n",
      "Request: <module 'requests' from 'C:\\\\Users\\\\nguye\\\\anaconda3\\\\lib\\\\site-packages\\\\requests\\\\__init__.py'>; Status code: 403\n",
      "21041\n",
      "{'http': 'http://47.89.153.213:', 'https': 'https://47.89.153.213:'}\n"
     ]
    },
    {
     "name": "stderr",
     "output_type": "stream",
     "text": [
      "\r",
      " 61%|█████████████████████████████████████████████████▎                               | 64/105 [00:12<00:06,  5.98it/s]"
     ]
    },
    {
     "name": "stdout",
     "output_type": "stream",
     "text": [
      "Request: <module 'requests' from 'C:\\\\Users\\\\nguye\\\\anaconda3\\\\lib\\\\site-packages\\\\requests\\\\__init__.py'>; Status code: 403\n",
      "21042\n",
      "{'http': 'http://192.155.107.59:', 'https': 'https://192.155.107.59:'}\n"
     ]
    },
    {
     "name": "stderr",
     "output_type": "stream",
     "text": [
      "\r",
      " 62%|██████████████████████████████████████████████████▏                              | 65/105 [00:13<00:10,  3.77it/s]"
     ]
    },
    {
     "name": "stdout",
     "output_type": "stream",
     "text": [
      "Request: <module 'requests' from 'C:\\\\Users\\\\nguye\\\\anaconda3\\\\lib\\\\site-packages\\\\requests\\\\__init__.py'>; Status code: 403\n",
      "21043\n",
      "{'http': 'http://161.35.4.201:', 'https': 'https://161.35.4.201:'}\n"
     ]
    },
    {
     "name": "stderr",
     "output_type": "stream",
     "text": [
      " 64%|███████████████████████████████████████████████████▋                             | 67/105 [00:13<00:09,  4.17it/s]"
     ]
    },
    {
     "name": "stdout",
     "output_type": "stream",
     "text": [
      "Request: <module 'requests' from 'C:\\\\Users\\\\nguye\\\\anaconda3\\\\lib\\\\site-packages\\\\requests\\\\__init__.py'>; Status code: 403\n",
      "21044\n",
      "{'http': 'http://3.211.17.212:', 'https': 'https://3.211.17.212:'}\n",
      "Request: <module 'requests' from 'C:\\\\Users\\\\nguye\\\\anaconda3\\\\lib\\\\site-packages\\\\requests\\\\__init__.py'>; Status code: 403\n",
      "21045\n"
     ]
    },
    {
     "name": "stderr",
     "output_type": "stream",
     "text": [
      "\r",
      " 65%|████████████████████████████████████████████████████▍                            | 68/105 [00:13<00:08,  4.57it/s]"
     ]
    },
    {
     "name": "stdout",
     "output_type": "stream",
     "text": [
      "{'http': 'http://107.151.182.247:', 'https': 'https://107.151.182.247:'}\n",
      "Request: <module 'requests' from 'C:\\\\Users\\\\nguye\\\\anaconda3\\\\lib\\\\site-packages\\\\requests\\\\__init__.py'>; Status code: 403\n",
      "21046\n",
      "{'http': 'http://192.155.107.60:', 'https': 'https://192.155.107.60:'}\n"
     ]
    },
    {
     "name": "stderr",
     "output_type": "stream",
     "text": [
      " 67%|██████████████████████████████████████████████████████                           | 70/105 [00:13<00:06,  5.58it/s]"
     ]
    },
    {
     "name": "stdout",
     "output_type": "stream",
     "text": [
      "Request: <module 'requests' from 'C:\\\\Users\\\\nguye\\\\anaconda3\\\\lib\\\\site-packages\\\\requests\\\\__init__.py'>; Status code: 403\n",
      "21047\n",
      "{'http': 'http://204.16.1.169:82', 'https': 'https://204.16.1.169:82'}\n",
      "Request: <module 'requests' from 'C:\\\\Users\\\\nguye\\\\anaconda3\\\\lib\\\\site-packages\\\\requests\\\\__init__.py'>; Status code: 403\n",
      "21048\n",
      "{'http': 'http://3.217.161.14:', 'https': 'https://3.217.161.14:'}\n"
     ]
    },
    {
     "name": "stderr",
     "output_type": "stream",
     "text": [
      " 69%|███████████████████████████████████████████████████████▌                         | 72/105 [00:14<00:05,  6.04it/s]"
     ]
    },
    {
     "name": "stdout",
     "output_type": "stream",
     "text": [
      "Request: <module 'requests' from 'C:\\\\Users\\\\nguye\\\\anaconda3\\\\lib\\\\site-packages\\\\requests\\\\__init__.py'>; Status code: 403\n",
      "21049\n",
      "{'http': 'http://52.168.34.113:', 'https': 'https://52.168.34.113:'}\n",
      "Request: <module 'requests' from 'C:\\\\Users\\\\nguye\\\\anaconda3\\\\lib\\\\site-packages\\\\requests\\\\__init__.py'>; Status code: 403\n",
      "21050\n",
      "{'http': 'http://40.136.41.6:', 'https': 'https://40.136.41.6:'}\n"
     ]
    },
    {
     "name": "stderr",
     "output_type": "stream",
     "text": [
      " 70%|█████████████████████████████████████████████████████████                        | 74/105 [00:14<00:04,  6.59it/s]"
     ]
    },
    {
     "name": "stdout",
     "output_type": "stream",
     "text": [
      "Request: <module 'requests' from 'C:\\\\Users\\\\nguye\\\\anaconda3\\\\lib\\\\site-packages\\\\requests\\\\__init__.py'>; Status code: 403\n",
      "21051\n",
      "{'http': 'http://23.225.64.59:1089', 'https': 'https://23.225.64.59:1089'}\n",
      "Request: <module 'requests' from 'C:\\\\Users\\\\nguye\\\\anaconda3\\\\lib\\\\site-packages\\\\requests\\\\__init__.py'>; Status code: 403\n",
      "21052\n",
      "{'http': 'http://76.81.164.246:', 'https': 'https://76.81.164.246:'}\n"
     ]
    },
    {
     "name": "stderr",
     "output_type": "stream",
     "text": [
      "\r",
      " 71%|█████████████████████████████████████████████████████████▊                       | 75/105 [00:14<00:04,  6.32it/s]"
     ]
    },
    {
     "name": "stdout",
     "output_type": "stream",
     "text": [
      "Request: <module 'requests' from 'C:\\\\Users\\\\nguye\\\\anaconda3\\\\lib\\\\site-packages\\\\requests\\\\__init__.py'>; Status code: 403\n",
      "21053\n",
      "{'http': 'http://47.89.153.213:', 'https': 'https://47.89.153.213:'}\n"
     ]
    },
    {
     "name": "stderr",
     "output_type": "stream",
     "text": [
      "\r",
      " 72%|██████████████████████████████████████████████████████████▋                      | 76/105 [00:15<00:05,  5.16it/s]"
     ]
    },
    {
     "name": "stdout",
     "output_type": "stream",
     "text": [
      "Request: <module 'requests' from 'C:\\\\Users\\\\nguye\\\\anaconda3\\\\lib\\\\site-packages\\\\requests\\\\__init__.py'>; Status code: 403\n",
      "21054\n",
      "{'http': 'http://50.235.149.74:', 'https': 'https://50.235.149.74:'}\n"
     ]
    },
    {
     "name": "stderr",
     "output_type": "stream",
     "text": [
      "\r",
      " 73%|███████████████████████████████████████████████████████████▍                     | 77/105 [00:15<00:05,  4.82it/s]"
     ]
    },
    {
     "name": "stdout",
     "output_type": "stream",
     "text": [
      "Request: <module 'requests' from 'C:\\\\Users\\\\nguye\\\\anaconda3\\\\lib\\\\site-packages\\\\requests\\\\__init__.py'>; Status code: 403\n",
      "21055\n",
      "{'http': 'http://192.155.107.59:', 'https': 'https://192.155.107.59:'}\n"
     ]
    },
    {
     "name": "stderr",
     "output_type": "stream",
     "text": [
      " 75%|████████████████████████████████████████████████████████████▉                    | 79/105 [00:15<00:05,  4.97it/s]"
     ]
    },
    {
     "name": "stdout",
     "output_type": "stream",
     "text": [
      "Request: <module 'requests' from 'C:\\\\Users\\\\nguye\\\\anaconda3\\\\lib\\\\site-packages\\\\requests\\\\__init__.py'>; Status code: 403\n",
      "21056\n",
      "{'http': 'http://72.47.152.224:55443', 'https': 'https://72.47.152.224:55443'}\n",
      "Request: <module 'requests' from 'C:\\\\Users\\\\nguye\\\\anaconda3\\\\lib\\\\site-packages\\\\requests\\\\__init__.py'>; Status code: 403\n",
      "21057\n",
      "{'http': 'http://47.88.7.115:3129', 'https': 'https://47.88.7.115:3129'}\n"
     ]
    },
    {
     "name": "stderr",
     "output_type": "stream",
     "text": [
      " 77%|██████████████████████████████████████████████████████████████▍                  | 81/105 [00:15<00:04,  5.70it/s]"
     ]
    },
    {
     "name": "stdout",
     "output_type": "stream",
     "text": [
      "Request: <module 'requests' from 'C:\\\\Users\\\\nguye\\\\anaconda3\\\\lib\\\\site-packages\\\\requests\\\\__init__.py'>; Status code: 403\n",
      "21058\n",
      "{'http': 'http://192.155.107.60:', 'https': 'https://192.155.107.60:'}\n",
      "Request: <module 'requests' from 'C:\\\\Users\\\\nguye\\\\anaconda3\\\\lib\\\\site-packages\\\\requests\\\\__init__.py'>; Status code: 403\n",
      "21059\n",
      "{'http': 'http://3.211.17.212:', 'https': 'https://3.211.17.212:'}\n"
     ]
    },
    {
     "name": "stderr",
     "output_type": "stream",
     "text": [
      " 79%|████████████████████████████████████████████████████████████████                 | 83/105 [00:16<00:03,  5.84it/s]"
     ]
    },
    {
     "name": "stdout",
     "output_type": "stream",
     "text": [
      "Request: <module 'requests' from 'C:\\\\Users\\\\nguye\\\\anaconda3\\\\lib\\\\site-packages\\\\requests\\\\__init__.py'>; Status code: 403\n",
      "21060\n",
      "{'http': 'http://154.85.35.235:8888', 'https': 'https://154.85.35.235:8888'}\n",
      "Request: <module 'requests' from 'C:\\\\Users\\\\nguye\\\\anaconda3\\\\lib\\\\site-packages\\\\requests\\\\__init__.py'>; Status code: 403\n",
      "21061\n",
      "{'http': 'http://66.211.155.34:', 'https': 'https://66.211.155.34:'}\n"
     ]
    },
    {
     "name": "stderr",
     "output_type": "stream",
     "text": [
      " 81%|█████████████████████████████████████████████████████████████████▌               | 85/105 [00:16<00:03,  5.68it/s]"
     ]
    },
    {
     "name": "stdout",
     "output_type": "stream",
     "text": [
      "Request: <module 'requests' from 'C:\\\\Users\\\\nguye\\\\anaconda3\\\\lib\\\\site-packages\\\\requests\\\\__init__.py'>; Status code: 403\n",
      "21062\n",
      "{'http': 'http://107.151.182.247:', 'https': 'https://107.151.182.247:'}\n",
      "Request: <module 'requests' from 'C:\\\\Users\\\\nguye\\\\anaconda3\\\\lib\\\\site-packages\\\\requests\\\\__init__.py'>; Status code: 403\n",
      "21063\n",
      "{'http': 'http://161.35.4.201:', 'https': 'https://161.35.4.201:'}\n"
     ]
    },
    {
     "name": "stderr",
     "output_type": "stream",
     "text": [
      "\r",
      " 82%|██████████████████████████████████████████████████████████████████▎              | 86/105 [00:16<00:03,  5.05it/s]"
     ]
    },
    {
     "name": "stdout",
     "output_type": "stream",
     "text": [
      "Request: <module 'requests' from 'C:\\\\Users\\\\nguye\\\\anaconda3\\\\lib\\\\site-packages\\\\requests\\\\__init__.py'>; Status code: 403\n",
      "21064\n",
      "{'http': 'http://40.136.41.6:', 'https': 'https://40.136.41.6:'}\n"
     ]
    },
    {
     "name": "stderr",
     "output_type": "stream",
     "text": [
      "\r",
      " 83%|███████████████████████████████████████████████████████████████████              | 87/105 [00:17<00:04,  4.44it/s]"
     ]
    },
    {
     "name": "stdout",
     "output_type": "stream",
     "text": [
      "Request: <module 'requests' from 'C:\\\\Users\\\\nguye\\\\anaconda3\\\\lib\\\\site-packages\\\\requests\\\\__init__.py'>; Status code: 403\n",
      "21065\n",
      "{'http': 'http://132.145.195.93:', 'https': 'https://132.145.195.93:'}\n"
     ]
    },
    {
     "name": "stderr",
     "output_type": "stream",
     "text": [
      " 85%|████████████████████████████████████████████████████████████████████▋            | 89/105 [00:17<00:03,  4.46it/s]"
     ]
    },
    {
     "name": "stdout",
     "output_type": "stream",
     "text": [
      "Request: <module 'requests' from 'C:\\\\Users\\\\nguye\\\\anaconda3\\\\lib\\\\site-packages\\\\requests\\\\__init__.py'>; Status code: 403\n",
      "21066\n",
      "{'http': 'http://76.81.164.246:', 'https': 'https://76.81.164.246:'}\n",
      "Request: <module 'requests' from 'C:\\\\Users\\\\nguye\\\\anaconda3\\\\lib\\\\site-packages\\\\requests\\\\__init__.py'>; Status code: 403\n",
      "21067\n"
     ]
    },
    {
     "name": "stderr",
     "output_type": "stream",
     "text": [
      "\r",
      " 86%|█████████████████████████████████████████████████████████████████████▍           | 90/105 [00:17<00:03,  4.84it/s]"
     ]
    },
    {
     "name": "stdout",
     "output_type": "stream",
     "text": [
      "{'http': 'http://159.65.69.186:9300', 'https': 'https://159.65.69.186:9300'}\n",
      "Request: <module 'requests' from 'C:\\\\Users\\\\nguye\\\\anaconda3\\\\lib\\\\site-packages\\\\requests\\\\__init__.py'>; Status code: 403\n",
      "21068\n",
      "{'http': 'http://54.244.204.46:', 'https': 'https://54.244.204.46:'}\n"
     ]
    },
    {
     "name": "stderr",
     "output_type": "stream",
     "text": [
      " 88%|██████████████████████████████████████████████████████████████████████▉          | 92/105 [00:18<00:02,  5.36it/s]"
     ]
    },
    {
     "name": "stdout",
     "output_type": "stream",
     "text": [
      "Request: <module 'requests' from 'C:\\\\Users\\\\nguye\\\\anaconda3\\\\lib\\\\site-packages\\\\requests\\\\__init__.py'>; Status code: 403\n",
      "21069\n",
      "{'http': 'http://204.16.1.169:82', 'https': 'https://204.16.1.169:82'}\n",
      "Request: <module 'requests' from 'C:\\\\Users\\\\nguye\\\\anaconda3\\\\lib\\\\site-packages\\\\requests\\\\__init__.py'>; Status code: 403\n",
      "21070\n",
      "{'http': 'http://3.217.161.14:', 'https': 'https://3.217.161.14:'}\n"
     ]
    },
    {
     "name": "stderr",
     "output_type": "stream",
     "text": [
      " 90%|████████████████████████████████████████████████████████████████████████▌        | 94/105 [00:18<00:01,  5.66it/s]"
     ]
    },
    {
     "name": "stdout",
     "output_type": "stream",
     "text": [
      "Request: <module 'requests' from 'C:\\\\Users\\\\nguye\\\\anaconda3\\\\lib\\\\site-packages\\\\requests\\\\__init__.py'>; Status code: 403\n",
      "21071\n",
      "{'http': 'http://132.145.195.93:', 'https': 'https://132.145.195.93:'}\n",
      "Request: <module 'requests' from 'C:\\\\Users\\\\nguye\\\\anaconda3\\\\lib\\\\site-packages\\\\requests\\\\__init__.py'>; Status code: 403\n",
      "21072\n",
      "{'http': 'http://161.35.4.201:', 'https': 'https://161.35.4.201:'}\n"
     ]
    },
    {
     "name": "stderr",
     "output_type": "stream",
     "text": [
      " 91%|██████████████████████████████████████████████████████████████████████████       | 96/105 [00:18<00:01,  5.76it/s]"
     ]
    },
    {
     "name": "stdout",
     "output_type": "stream",
     "text": [
      "Request: <module 'requests' from 'C:\\\\Users\\\\nguye\\\\anaconda3\\\\lib\\\\site-packages\\\\requests\\\\__init__.py'>; Status code: 403\n",
      "21073\n",
      "{'http': 'http://216.169.73.65:34679', 'https': 'https://216.169.73.65:34679'}\n",
      "Request: <module 'requests' from 'C:\\\\Users\\\\nguye\\\\anaconda3\\\\lib\\\\site-packages\\\\requests\\\\__init__.py'>; Status code: 403\n",
      "21074\n",
      "{'http': 'http://66.211.155.34:', 'https': 'https://66.211.155.34:'}\n"
     ]
    },
    {
     "name": "stderr",
     "output_type": "stream",
     "text": [
      "\r",
      " 92%|██████████████████████████████████████████████████████████████████████████▊      | 97/105 [00:19<00:01,  5.08it/s]"
     ]
    },
    {
     "name": "stdout",
     "output_type": "stream",
     "text": [
      "Request: <module 'requests' from 'C:\\\\Users\\\\nguye\\\\anaconda3\\\\lib\\\\site-packages\\\\requests\\\\__init__.py'>; Status code: 403\n",
      "21075\n",
      "{'http': 'http://132.145.195.93:', 'https': 'https://132.145.195.93:'}\n"
     ]
    },
    {
     "name": "stderr",
     "output_type": "stream",
     "text": [
      "\r",
      " 93%|███████████████████████████████████████████████████████████████████████████▌     | 98/105 [00:19<00:01,  4.62it/s]"
     ]
    },
    {
     "name": "stdout",
     "output_type": "stream",
     "text": [
      "Request: <module 'requests' from 'C:\\\\Users\\\\nguye\\\\anaconda3\\\\lib\\\\site-packages\\\\requests\\\\__init__.py'>; Status code: 403\n",
      "21076\n",
      "{'http': 'http://192.155.107.60:', 'https': 'https://192.155.107.60:'}\n",
      "Request: <module 'requests' from 'C:\\\\Users\\\\nguye\\\\anaconda3\\\\lib\\\\site-packages\\\\requests\\\\__init__.py'>; Status code: 403\n",
      "21077\n"
     ]
    },
    {
     "name": "stderr",
     "output_type": "stream",
     "text": [
      " 95%|████████████████████████████████████████████████████████████████████████████▏   | 100/105 [00:19<00:00,  5.22it/s]"
     ]
    },
    {
     "name": "stdout",
     "output_type": "stream",
     "text": [
      "{'http': 'http://54.244.204.46:', 'https': 'https://54.244.204.46:'}\n",
      "Request: <module 'requests' from 'C:\\\\Users\\\\nguye\\\\anaconda3\\\\lib\\\\site-packages\\\\requests\\\\__init__.py'>; Status code: 403\n",
      "21078\n",
      "{'http': 'http://107.151.182.247:', 'https': 'https://107.151.182.247:'}\n"
     ]
    },
    {
     "name": "stderr",
     "output_type": "stream",
     "text": [
      " 97%|█████████████████████████████████████████████████████████████████████████████▋  | 102/105 [00:20<00:00,  5.31it/s]"
     ]
    },
    {
     "name": "stdout",
     "output_type": "stream",
     "text": [
      "Request: <module 'requests' from 'C:\\\\Users\\\\nguye\\\\anaconda3\\\\lib\\\\site-packages\\\\requests\\\\__init__.py'>; Status code: 403\n",
      "21079\n",
      "{'http': 'http://12.151.56.30:', 'https': 'https://12.151.56.30:'}\n",
      "Request: <module 'requests' from 'C:\\\\Users\\\\nguye\\\\anaconda3\\\\lib\\\\site-packages\\\\requests\\\\__init__.py'>; Status code: 403\n",
      "21080\n"
     ]
    },
    {
     "name": "stderr",
     "output_type": "stream",
     "text": [
      "\r",
      " 98%|██████████████████████████████████████████████████████████████████████████████▍ | 103/105 [00:20<00:00,  5.65it/s]"
     ]
    },
    {
     "name": "stdout",
     "output_type": "stream",
     "text": [
      "{'http': 'http://159.65.69.186:9300', 'https': 'https://159.65.69.186:9300'}\n",
      "Request: <module 'requests' from 'C:\\\\Users\\\\nguye\\\\anaconda3\\\\lib\\\\site-packages\\\\requests\\\\__init__.py'>; Status code: 403\n",
      "21081\n",
      "{'http': 'http://74.205.128.200:', 'https': 'https://74.205.128.200:'}\n"
     ]
    },
    {
     "name": "stderr",
     "output_type": "stream",
     "text": [
      "100%|████████████████████████████████████████████████████████████████████████████████| 105/105 [00:20<00:00,  5.12it/s]"
     ]
    },
    {
     "name": "stdout",
     "output_type": "stream",
     "text": [
      "Request: <module 'requests' from 'C:\\\\Users\\\\nguye\\\\anaconda3\\\\lib\\\\site-packages\\\\requests\\\\__init__.py'>; Status code: 403\n",
      "21082\n",
      "{'http': 'http://54.80.246.241:', 'https': 'https://54.80.246.241:'}\n",
      "Request: <module 'requests' from 'C:\\\\Users\\\\nguye\\\\anaconda3\\\\lib\\\\site-packages\\\\requests\\\\__init__.py'>; Status code: 403\n",
      "21083\n"
     ]
    },
    {
     "name": "stderr",
     "output_type": "stream",
     "text": [
      "\n",
      "  0%|                                                                                           | 0/89 [00:00<?, ?it/s]"
     ]
    },
    {
     "name": "stdout",
     "output_type": "stream",
     "text": [
      "{'http': 'http://23.225.64.59:1089', 'https': 'https://23.225.64.59:1089'}\n"
     ]
    },
    {
     "name": "stderr",
     "output_type": "stream",
     "text": [
      "  2%|█▊                                                                                 | 2/89 [00:00<00:16,  5.13it/s]"
     ]
    },
    {
     "name": "stdout",
     "output_type": "stream",
     "text": [
      "Request: <module 'requests' from 'C:\\\\Users\\\\nguye\\\\anaconda3\\\\lib\\\\site-packages\\\\requests\\\\__init__.py'>; Status code: 403\n",
      "11242\n",
      "{'http': 'http://132.145.195.93:', 'https': 'https://132.145.195.93:'}\n",
      "Request: <module 'requests' from 'C:\\\\Users\\\\nguye\\\\anaconda3\\\\lib\\\\site-packages\\\\requests\\\\__init__.py'>; Status code: 403\n",
      "11243\n",
      "{'http': 'http://161.35.4.201:', 'https': 'https://161.35.4.201:'}\n"
     ]
    },
    {
     "name": "stderr",
     "output_type": "stream",
     "text": [
      "  4%|███▋                                                                               | 4/89 [00:00<00:16,  5.00it/s]"
     ]
    },
    {
     "name": "stdout",
     "output_type": "stream",
     "text": [
      "Request: <module 'requests' from 'C:\\\\Users\\\\nguye\\\\anaconda3\\\\lib\\\\site-packages\\\\requests\\\\__init__.py'>; Status code: 403\n",
      "11244\n",
      "{'http': 'http://107.151.182.247:', 'https': 'https://107.151.182.247:'}\n",
      "Request: <module 'requests' from 'C:\\\\Users\\\\nguye\\\\anaconda3\\\\lib\\\\site-packages\\\\requests\\\\__init__.py'>; Status code: 403\n",
      "11245\n",
      "{'http': 'http://159.65.69.186:9300', 'https': 'https://159.65.69.186:9300'}\n"
     ]
    },
    {
     "name": "stderr",
     "output_type": "stream",
     "text": [
      "  7%|█████▌                                                                             | 6/89 [00:01<00:15,  5.44it/s]"
     ]
    },
    {
     "name": "stdout",
     "output_type": "stream",
     "text": [
      "Request: <module 'requests' from 'C:\\\\Users\\\\nguye\\\\anaconda3\\\\lib\\\\site-packages\\\\requests\\\\__init__.py'>; Status code: 403\n",
      "11246\n",
      "{'http': 'http://54.244.204.46:', 'https': 'https://54.244.204.46:'}\n",
      "Request: <module 'requests' from 'C:\\\\Users\\\\nguye\\\\anaconda3\\\\lib\\\\site-packages\\\\requests\\\\__init__.py'>; Status code: 403\n",
      "11247\n"
     ]
    },
    {
     "name": "stderr",
     "output_type": "stream",
     "text": [
      "\r",
      "  8%|██████▌                                                                            | 7/89 [00:01<00:15,  5.35it/s]"
     ]
    },
    {
     "name": "stdout",
     "output_type": "stream",
     "text": [
      "{'http': 'http://23.225.64.59:1089', 'https': 'https://23.225.64.59:1089'}\n",
      "Request: <module 'requests' from 'C:\\\\Users\\\\nguye\\\\anaconda3\\\\lib\\\\site-packages\\\\requests\\\\__init__.py'>; Status code: 403\n",
      "11248\n"
     ]
    },
    {
     "name": "stderr",
     "output_type": "stream",
     "text": [
      "\r",
      "  9%|███████▍                                                                           | 8/89 [00:01<00:14,  5.44it/s]"
     ]
    },
    {
     "name": "stdout",
     "output_type": "stream",
     "text": [
      "{'http': 'http://132.145.195.93:', 'https': 'https://132.145.195.93:'}\n",
      "Request: <module 'requests' from 'C:\\\\Users\\\\nguye\\\\anaconda3\\\\lib\\\\site-packages\\\\requests\\\\__init__.py'>; Status code: 403\n",
      "11249\n",
      "{'http': 'http://54.244.204.46:', 'https': 'https://54.244.204.46:'}\n"
     ]
    },
    {
     "name": "stderr",
     "output_type": "stream",
     "text": [
      " 11%|█████████▏                                                                        | 10/89 [00:01<00:13,  5.89it/s]"
     ]
    },
    {
     "name": "stdout",
     "output_type": "stream",
     "text": [
      "Request: <module 'requests' from 'C:\\\\Users\\\\nguye\\\\anaconda3\\\\lib\\\\site-packages\\\\requests\\\\__init__.py'>; Status code: 403\n",
      "11250\n",
      "{'http': 'http://74.205.128.200:', 'https': 'https://74.205.128.200:'}\n",
      "Request: <module 'requests' from 'C:\\\\Users\\\\nguye\\\\anaconda3\\\\lib\\\\site-packages\\\\requests\\\\__init__.py'>; Status code: 403\n",
      "11251\n",
      "{'http': 'http://104.192.202.11:', 'https': 'https://104.192.202.11:'}\n"
     ]
    },
    {
     "name": "stderr",
     "output_type": "stream",
     "text": [
      " 13%|███████████                                                                       | 12/89 [00:02<00:12,  6.21it/s]"
     ]
    },
    {
     "name": "stdout",
     "output_type": "stream",
     "text": [
      "Request: <module 'requests' from 'C:\\\\Users\\\\nguye\\\\anaconda3\\\\lib\\\\site-packages\\\\requests\\\\__init__.py'>; Status code: 403\n",
      "11252\n",
      "{'http': 'http://54.244.204.46:', 'https': 'https://54.244.204.46:'}\n",
      "Request: <module 'requests' from 'C:\\\\Users\\\\nguye\\\\anaconda3\\\\lib\\\\site-packages\\\\requests\\\\__init__.py'>; Status code: 403\n",
      "11253\n",
      "{'http': 'http://3.230.91.35:', 'https': 'https://3.230.91.35:'}\n"
     ]
    },
    {
     "name": "stderr",
     "output_type": "stream",
     "text": [
      "\r",
      " 15%|███████████▉                                                                      | 13/89 [00:02<00:12,  6.14it/s]"
     ]
    },
    {
     "name": "stdout",
     "output_type": "stream",
     "text": [
      "Request: <module 'requests' from 'C:\\\\Users\\\\nguye\\\\anaconda3\\\\lib\\\\site-packages\\\\requests\\\\__init__.py'>; Status code: 403\n",
      "11254\n",
      "{'http': 'http://154.85.35.235:8888', 'https': 'https://154.85.35.235:8888'}\n"
     ]
    },
    {
     "name": "stderr",
     "output_type": "stream",
     "text": [
      " 17%|█████████████▊                                                                    | 15/89 [00:02<00:13,  5.45it/s]"
     ]
    },
    {
     "name": "stdout",
     "output_type": "stream",
     "text": [
      "Request: <module 'requests' from 'C:\\\\Users\\\\nguye\\\\anaconda3\\\\lib\\\\site-packages\\\\requests\\\\__init__.py'>; Status code: 403\n",
      "11255\n",
      "{'http': 'http://67.212.186.101:', 'https': 'https://67.212.186.101:'}\n",
      "Request: <module 'requests' from 'C:\\\\Users\\\\nguye\\\\anaconda3\\\\lib\\\\site-packages\\\\requests\\\\__init__.py'>; Status code: 403\n",
      "11256\n",
      "{'http': 'http://20.47.108.204:8888', 'https': 'https://20.47.108.204:8888'}\n"
     ]
    },
    {
     "name": "stderr",
     "output_type": "stream",
     "text": [
      " 19%|███████████████▋                                                                  | 17/89 [00:03<00:12,  6.00it/s]"
     ]
    },
    {
     "name": "stdout",
     "output_type": "stream",
     "text": [
      "Request: <module 'requests' from 'C:\\\\Users\\\\nguye\\\\anaconda3\\\\lib\\\\site-packages\\\\requests\\\\__init__.py'>; Status code: 403\n",
      "11257\n",
      "{'http': 'http://67.212.186.101:', 'https': 'https://67.212.186.101:'}\n",
      "Request: <module 'requests' from 'C:\\\\Users\\\\nguye\\\\anaconda3\\\\lib\\\\site-packages\\\\requests\\\\__init__.py'>; Status code: 403\n",
      "11258\n",
      "{'http': 'http://192.155.107.59:', 'https': 'https://192.155.107.59:'}\n"
     ]
    },
    {
     "name": "stderr",
     "output_type": "stream",
     "text": [
      " 21%|█████████████████▌                                                                | 19/89 [00:03<00:11,  6.34it/s]"
     ]
    },
    {
     "name": "stdout",
     "output_type": "stream",
     "text": [
      "Request: <module 'requests' from 'C:\\\\Users\\\\nguye\\\\anaconda3\\\\lib\\\\site-packages\\\\requests\\\\__init__.py'>; Status code: 403\n",
      "11259\n",
      "{'http': 'http://216.169.73.65:34679', 'https': 'https://216.169.73.65:34679'}\n",
      "Request: <module 'requests' from 'C:\\\\Users\\\\nguye\\\\anaconda3\\\\lib\\\\site-packages\\\\requests\\\\__init__.py'>; Status code: 403\n",
      "11260\n",
      "{'http': 'http://192.155.107.60:', 'https': 'https://192.155.107.60:'}\n"
     ]
    },
    {
     "name": "stderr",
     "output_type": "stream",
     "text": [
      " 24%|███████████████████▎                                                              | 21/89 [00:03<00:10,  6.24it/s]"
     ]
    },
    {
     "name": "stdout",
     "output_type": "stream",
     "text": [
      "Request: <module 'requests' from 'C:\\\\Users\\\\nguye\\\\anaconda3\\\\lib\\\\site-packages\\\\requests\\\\__init__.py'>; Status code: 403\n",
      "11261\n",
      "{'http': 'http://47.88.7.115:3129', 'https': 'https://47.88.7.115:3129'}\n",
      "Request: <module 'requests' from 'C:\\\\Users\\\\nguye\\\\anaconda3\\\\lib\\\\site-packages\\\\requests\\\\__init__.py'>; Status code: 403\n",
      "11262\n",
      "{'http': 'http://40.136.41.6:', 'https': 'https://40.136.41.6:'}\n"
     ]
    },
    {
     "name": "stderr",
     "output_type": "stream",
     "text": [
      " 26%|█████████████████████▏                                                            | 23/89 [00:03<00:10,  6.32it/s]"
     ]
    },
    {
     "name": "stdout",
     "output_type": "stream",
     "text": [
      "Request: <module 'requests' from 'C:\\\\Users\\\\nguye\\\\anaconda3\\\\lib\\\\site-packages\\\\requests\\\\__init__.py'>; Status code: 403\n",
      "11263\n",
      "{'http': 'http://192.155.107.59:', 'https': 'https://192.155.107.59:'}\n",
      "Request: <module 'requests' from 'C:\\\\Users\\\\nguye\\\\anaconda3\\\\lib\\\\site-packages\\\\requests\\\\__init__.py'>; Status code: 403\n",
      "11264\n",
      "{'http': 'http://3.211.17.212:', 'https': 'https://3.211.17.212:'}\n"
     ]
    },
    {
     "name": "stderr",
     "output_type": "stream",
     "text": [
      " 28%|███████████████████████                                                           | 25/89 [00:04<00:10,  5.92it/s]"
     ]
    },
    {
     "name": "stdout",
     "output_type": "stream",
     "text": [
      "Request: <module 'requests' from 'C:\\\\Users\\\\nguye\\\\anaconda3\\\\lib\\\\site-packages\\\\requests\\\\__init__.py'>; Status code: 403\n",
      "11265\n",
      "{'http': 'http://47.88.7.115:3129', 'https': 'https://47.88.7.115:3129'}\n",
      "Request: <module 'requests' from 'C:\\\\Users\\\\nguye\\\\anaconda3\\\\lib\\\\site-packages\\\\requests\\\\__init__.py'>; Status code: 403\n",
      "11266\n",
      "{'http': 'http://138.68.235.51:', 'https': 'https://138.68.235.51:'}\n"
     ]
    },
    {
     "name": "stderr",
     "output_type": "stream",
     "text": [
      " 30%|████████████████████████▉                                                         | 27/89 [00:04<00:12,  5.03it/s]"
     ]
    },
    {
     "name": "stdout",
     "output_type": "stream",
     "text": [
      "Request: <module 'requests' from 'C:\\\\Users\\\\nguye\\\\anaconda3\\\\lib\\\\site-packages\\\\requests\\\\__init__.py'>; Status code: 403\n",
      "11267\n",
      "{'http': 'http://72.47.152.224:55443', 'https': 'https://72.47.152.224:55443'}\n",
      "Request: <module 'requests' from 'C:\\\\Users\\\\nguye\\\\anaconda3\\\\lib\\\\site-packages\\\\requests\\\\__init__.py'>; Status code: 403\n",
      "11268\n"
     ]
    },
    {
     "name": "stderr",
     "output_type": "stream",
     "text": [
      "\r",
      " 31%|█████████████████████████▊                                                        | 28/89 [00:04<00:11,  5.23it/s]"
     ]
    },
    {
     "name": "stdout",
     "output_type": "stream",
     "text": [
      "{'http': 'http://54.244.204.46:', 'https': 'https://54.244.204.46:'}\n",
      "Request: <module 'requests' from 'C:\\\\Users\\\\nguye\\\\anaconda3\\\\lib\\\\site-packages\\\\requests\\\\__init__.py'>; Status code: 403\n",
      "11269\n",
      "{'http': 'http://12.151.56.30:', 'https': 'https://12.151.56.30:'}\n"
     ]
    },
    {
     "name": "stderr",
     "output_type": "stream",
     "text": [
      " 34%|███████████████████████████▋                                                      | 30/89 [00:05<00:10,  5.59it/s]"
     ]
    },
    {
     "name": "stdout",
     "output_type": "stream",
     "text": [
      "Request: <module 'requests' from 'C:\\\\Users\\\\nguye\\\\anaconda3\\\\lib\\\\site-packages\\\\requests\\\\__init__.py'>; Status code: 403\n",
      "11270\n",
      "{'http': 'http://20.47.108.204:8888', 'https': 'https://20.47.108.204:8888'}\n",
      "Request: <module 'requests' from 'C:\\\\Users\\\\nguye\\\\anaconda3\\\\lib\\\\site-packages\\\\requests\\\\__init__.py'>; Status code: 403\n",
      "11271\n",
      "{'http': 'http://50.235.149.74:', 'https': 'https://50.235.149.74:'}\n"
     ]
    },
    {
     "name": "stderr",
     "output_type": "stream",
     "text": [
      " 36%|█████████████████████████████▍                                                    | 32/89 [00:05<00:09,  5.94it/s]"
     ]
    },
    {
     "name": "stdout",
     "output_type": "stream",
     "text": [
      "Request: <module 'requests' from 'C:\\\\Users\\\\nguye\\\\anaconda3\\\\lib\\\\site-packages\\\\requests\\\\__init__.py'>; Status code: 403\n",
      "11272\n",
      "{'http': 'http://104.192.202.11:', 'https': 'https://104.192.202.11:'}\n",
      "Request: <module 'requests' from 'C:\\\\Users\\\\nguye\\\\anaconda3\\\\lib\\\\site-packages\\\\requests\\\\__init__.py'>; Status code: 403\n",
      "11273\n",
      "{'http': 'http://186.233.186.60:', 'https': 'https://186.233.186.60:'}\n"
     ]
    },
    {
     "name": "stderr",
     "output_type": "stream",
     "text": [
      " 38%|███████████████████████████████▎                                                  | 34/89 [00:05<00:09,  5.89it/s]"
     ]
    },
    {
     "name": "stdout",
     "output_type": "stream",
     "text": [
      "Request: <module 'requests' from 'C:\\\\Users\\\\nguye\\\\anaconda3\\\\lib\\\\site-packages\\\\requests\\\\__init__.py'>; Status code: 403\n",
      "11274\n",
      "{'http': 'http://3.217.161.14:', 'https': 'https://3.217.161.14:'}\n",
      "Request: <module 'requests' from 'C:\\\\Users\\\\nguye\\\\anaconda3\\\\lib\\\\site-packages\\\\requests\\\\__init__.py'>; Status code: 403\n",
      "11275\n",
      "{'http': 'http://3.217.161.14:', 'https': 'https://3.217.161.14:'}\n"
     ]
    },
    {
     "name": "stderr",
     "output_type": "stream",
     "text": [
      " 40%|█████████████████████████████████▏                                                | 36/89 [00:06<00:09,  5.85it/s]"
     ]
    },
    {
     "name": "stdout",
     "output_type": "stream",
     "text": [
      "Request: <module 'requests' from 'C:\\\\Users\\\\nguye\\\\anaconda3\\\\lib\\\\site-packages\\\\requests\\\\__init__.py'>; Status code: 403\n",
      "11276\n",
      "{'http': 'http://54.80.246.241:', 'https': 'https://54.80.246.241:'}\n",
      "Request: <module 'requests' from 'C:\\\\Users\\\\nguye\\\\anaconda3\\\\lib\\\\site-packages\\\\requests\\\\__init__.py'>; Status code: 403\n",
      "11277\n",
      "{'http': 'http://3.211.17.212:', 'https': 'https://3.211.17.212:'}\n"
     ]
    },
    {
     "name": "stderr",
     "output_type": "stream",
     "text": [
      "\r",
      " 42%|██████████████████████████████████                                                | 37/89 [00:06<00:10,  5.00it/s]"
     ]
    },
    {
     "name": "stdout",
     "output_type": "stream",
     "text": [
      "Request: <module 'requests' from 'C:\\\\Users\\\\nguye\\\\anaconda3\\\\lib\\\\site-packages\\\\requests\\\\__init__.py'>; Status code: 403\n",
      "11278\n",
      "{'http': 'http://138.68.235.51:', 'https': 'https://138.68.235.51:'}\n"
     ]
    },
    {
     "name": "stderr",
     "output_type": "stream",
     "text": [
      " 44%|███████████████████████████████████▉                                              | 39/89 [00:06<00:09,  5.21it/s]"
     ]
    },
    {
     "name": "stdout",
     "output_type": "stream",
     "text": [
      "Request: <module 'requests' from 'C:\\\\Users\\\\nguye\\\\anaconda3\\\\lib\\\\site-packages\\\\requests\\\\__init__.py'>; Status code: 403\n",
      "11279\n",
      "{'http': 'http://47.252.82.135:', 'https': 'https://47.252.82.135:'}\n",
      "Request: <module 'requests' from 'C:\\\\Users\\\\nguye\\\\anaconda3\\\\lib\\\\site-packages\\\\requests\\\\__init__.py'>; Status code: 403\n",
      "11280\n",
      "{'http': 'http://63.161.104.189:', 'https': 'https://63.161.104.189:'}\n"
     ]
    },
    {
     "name": "stderr",
     "output_type": "stream",
     "text": [
      " 46%|█████████████████████████████████████▊                                            | 41/89 [00:07<00:08,  5.81it/s]"
     ]
    },
    {
     "name": "stdout",
     "output_type": "stream",
     "text": [
      "Request: <module 'requests' from 'C:\\\\Users\\\\nguye\\\\anaconda3\\\\lib\\\\site-packages\\\\requests\\\\__init__.py'>; Status code: 403\n",
      "11281\n",
      "{'http': 'http://54.80.246.241:', 'https': 'https://54.80.246.241:'}\n",
      "Request: <module 'requests' from 'C:\\\\Users\\\\nguye\\\\anaconda3\\\\lib\\\\site-packages\\\\requests\\\\__init__.py'>; Status code: 403\n",
      "11282\n",
      "{'http': 'http://47.88.7.115:3129', 'https': 'https://47.88.7.115:3129'}\n"
     ]
    },
    {
     "name": "stderr",
     "output_type": "stream",
     "text": [
      " 48%|███████████████████████████████████████▌                                          | 43/89 [00:07<00:07,  6.15it/s]"
     ]
    },
    {
     "name": "stdout",
     "output_type": "stream",
     "text": [
      "Request: <module 'requests' from 'C:\\\\Users\\\\nguye\\\\anaconda3\\\\lib\\\\site-packages\\\\requests\\\\__init__.py'>; Status code: 403\n",
      "11283\n",
      "{'http': 'http://63.161.104.189:', 'https': 'https://63.161.104.189:'}\n",
      "Request: <module 'requests' from 'C:\\\\Users\\\\nguye\\\\anaconda3\\\\lib\\\\site-packages\\\\requests\\\\__init__.py'>; Status code: 403\n",
      "11284\n",
      "{'http': 'http://159.65.69.186:9300', 'https': 'https://159.65.69.186:9300'}\n"
     ]
    },
    {
     "name": "stderr",
     "output_type": "stream",
     "text": [
      " 51%|█████████████████████████████████████████▍                                        | 45/89 [00:07<00:07,  6.19it/s]"
     ]
    },
    {
     "name": "stdout",
     "output_type": "stream",
     "text": [
      "Request: <module 'requests' from 'C:\\\\Users\\\\nguye\\\\anaconda3\\\\lib\\\\site-packages\\\\requests\\\\__init__.py'>; Status code: 403\n",
      "11285\n",
      "{'http': 'http://47.252.82.135:', 'https': 'https://47.252.82.135:'}\n",
      "Request: <module 'requests' from 'C:\\\\Users\\\\nguye\\\\anaconda3\\\\lib\\\\site-packages\\\\requests\\\\__init__.py'>; Status code: 403\n",
      "11286\n",
      "{'http': 'http://50.235.149.74:', 'https': 'https://50.235.149.74:'}\n"
     ]
    },
    {
     "name": "stderr",
     "output_type": "stream",
     "text": [
      " 53%|███████████████████████████████████████████▎                                      | 47/89 [00:08<00:06,  6.11it/s]"
     ]
    },
    {
     "name": "stdout",
     "output_type": "stream",
     "text": [
      "Request: <module 'requests' from 'C:\\\\Users\\\\nguye\\\\anaconda3\\\\lib\\\\site-packages\\\\requests\\\\__init__.py'>; Status code: 403\n",
      "11287\n",
      "{'http': 'http://50.235.149.74:', 'https': 'https://50.235.149.74:'}\n",
      "Request: <module 'requests' from 'C:\\\\Users\\\\nguye\\\\anaconda3\\\\lib\\\\site-packages\\\\requests\\\\__init__.py'>; Status code: 403\n",
      "11288\n",
      "{'http': 'http://3.217.161.14:', 'https': 'https://3.217.161.14:'}\n"
     ]
    },
    {
     "name": "stderr",
     "output_type": "stream",
     "text": [
      " 55%|█████████████████████████████████████████████▏                                    | 49/89 [00:08<00:07,  5.27it/s]"
     ]
    },
    {
     "name": "stdout",
     "output_type": "stream",
     "text": [
      "Request: <module 'requests' from 'C:\\\\Users\\\\nguye\\\\anaconda3\\\\lib\\\\site-packages\\\\requests\\\\__init__.py'>; Status code: 403\n",
      "11289\n",
      "{'http': 'http://72.47.152.224:55443', 'https': 'https://72.47.152.224:55443'}\n",
      "Request: <module 'requests' from 'C:\\\\Users\\\\nguye\\\\anaconda3\\\\lib\\\\site-packages\\\\requests\\\\__init__.py'>; Status code: 403\n",
      "11290\n"
     ]
    },
    {
     "name": "stderr",
     "output_type": "stream",
     "text": [
      "\r",
      " 56%|██████████████████████████████████████████████                                    | 50/89 [00:08<00:07,  5.24it/s]"
     ]
    },
    {
     "name": "stdout",
     "output_type": "stream",
     "text": [
      "{'http': 'http://159.65.69.186:9300', 'https': 'https://159.65.69.186:9300'}\n",
      "Request: <module 'requests' from 'C:\\\\Users\\\\nguye\\\\anaconda3\\\\lib\\\\site-packages\\\\requests\\\\__init__.py'>; Status code: 403\n",
      "11291\n"
     ]
    },
    {
     "name": "stderr",
     "output_type": "stream",
     "text": [
      "\r",
      " 57%|██████████████████████████████████████████████▉                                   | 51/89 [00:09<00:06,  5.44it/s]"
     ]
    },
    {
     "name": "stdout",
     "output_type": "stream",
     "text": [
      "{'http': 'http://216.169.73.65:34679', 'https': 'https://216.169.73.65:34679'}\n",
      "Request: <module 'requests' from 'C:\\\\Users\\\\nguye\\\\anaconda3\\\\lib\\\\site-packages\\\\requests\\\\__init__.py'>; Status code: 403\n",
      "11292\n",
      "{'http': 'http://74.205.128.200:', 'https': 'https://74.205.128.200:'}\n"
     ]
    },
    {
     "name": "stderr",
     "output_type": "stream",
     "text": [
      " 60%|████████████████████████████████████████████████▊                                 | 53/89 [00:09<00:06,  5.35it/s]"
     ]
    },
    {
     "name": "stdout",
     "output_type": "stream",
     "text": [
      "Request: <module 'requests' from 'C:\\\\Users\\\\nguye\\\\anaconda3\\\\lib\\\\site-packages\\\\requests\\\\__init__.py'>; Status code: 403\n",
      "11293\n",
      "{'http': 'http://192.155.107.60:', 'https': 'https://192.155.107.60:'}\n",
      "Request: <module 'requests' from 'C:\\\\Users\\\\nguye\\\\anaconda3\\\\lib\\\\site-packages\\\\requests\\\\__init__.py'>; Status code: 403\n",
      "11294\n",
      "{'http': 'http://47.252.82.135:', 'https': 'https://47.252.82.135:'}\n"
     ]
    },
    {
     "name": "stderr",
     "output_type": "stream",
     "text": [
      " 62%|██████████████████████████████████████████████████▋                               | 55/89 [00:10<00:07,  4.30it/s]"
     ]
    },
    {
     "name": "stdout",
     "output_type": "stream",
     "text": [
      "Request: <module 'requests' from 'C:\\\\Users\\\\nguye\\\\anaconda3\\\\lib\\\\site-packages\\\\requests\\\\__init__.py'>; Status code: 403\n",
      "11295\n",
      "{'http': 'http://64.227.62.123:', 'https': 'https://64.227.62.123:'}\n",
      "Request: <module 'requests' from 'C:\\\\Users\\\\nguye\\\\anaconda3\\\\lib\\\\site-packages\\\\requests\\\\__init__.py'>; Status code: 403\n",
      "11296\n",
      "{'http': 'http://104.192.202.11:', 'https': 'https://104.192.202.11:'}\n"
     ]
    },
    {
     "name": "stderr",
     "output_type": "stream",
     "text": [
      "\r",
      " 63%|███████████████████████████████████████████████████▌                              | 56/89 [00:10<00:06,  4.80it/s]"
     ]
    },
    {
     "name": "stdout",
     "output_type": "stream",
     "text": [
      "Request: <module 'requests' from 'C:\\\\Users\\\\nguye\\\\anaconda3\\\\lib\\\\site-packages\\\\requests\\\\__init__.py'>; Status code: 403\n",
      "11297\n",
      "{'http': 'http://66.211.155.34:', 'https': 'https://66.211.155.34:'}\n"
     ]
    },
    {
     "name": "stderr",
     "output_type": "stream",
     "text": [
      " 65%|█████████████████████████████████████████████████████▍                            | 58/89 [00:11<00:09,  3.32it/s]"
     ]
    },
    {
     "name": "stdout",
     "output_type": "stream",
     "text": [
      "Request: <module 'requests' from 'C:\\\\Users\\\\nguye\\\\anaconda3\\\\lib\\\\site-packages\\\\requests\\\\__init__.py'>; Status code: 403\n",
      "11298\n",
      "{'http': 'http://132.145.195.93:', 'https': 'https://132.145.195.93:'}\n",
      "Request: <module 'requests' from 'C:\\\\Users\\\\nguye\\\\anaconda3\\\\lib\\\\site-packages\\\\requests\\\\__init__.py'>; Status code: 403\n",
      "11299\n",
      "{'http': 'http://47.88.7.115:3129', 'https': 'https://47.88.7.115:3129'}\n"
     ]
    },
    {
     "name": "stderr",
     "output_type": "stream",
     "text": [
      " 67%|███████████████████████████████████████████████████████▎                          | 60/89 [00:11<00:06,  4.48it/s]"
     ]
    },
    {
     "name": "stdout",
     "output_type": "stream",
     "text": [
      "Request: <module 'requests' from 'C:\\\\Users\\\\nguye\\\\anaconda3\\\\lib\\\\site-packages\\\\requests\\\\__init__.py'>; Status code: 403\n",
      "11300\n",
      "{'http': 'http://3.211.17.212:', 'https': 'https://3.211.17.212:'}\n",
      "Request: <module 'requests' from 'C:\\\\Users\\\\nguye\\\\anaconda3\\\\lib\\\\site-packages\\\\requests\\\\__init__.py'>; Status code: 403\n",
      "11301\n",
      "{'http': 'http://3.230.91.35:', 'https': 'https://3.230.91.35:'}\n"
     ]
    },
    {
     "name": "stderr",
     "output_type": "stream",
     "text": [
      " 70%|█████████████████████████████████████████████████████████                         | 62/89 [00:11<00:04,  5.51it/s]"
     ]
    },
    {
     "name": "stdout",
     "output_type": "stream",
     "text": [
      "Request: <module 'requests' from 'C:\\\\Users\\\\nguye\\\\anaconda3\\\\lib\\\\site-packages\\\\requests\\\\__init__.py'>; Status code: 403\n",
      "11302\n",
      "{'http': 'http://3.217.161.14:', 'https': 'https://3.217.161.14:'}\n",
      "Request: <module 'requests' from 'C:\\\\Users\\\\nguye\\\\anaconda3\\\\lib\\\\site-packages\\\\requests\\\\__init__.py'>; Status code: 403\n",
      "11303\n",
      "{'http': 'http://64.227.62.123:', 'https': 'https://64.227.62.123:'}\n"
     ]
    },
    {
     "name": "stderr",
     "output_type": "stream",
     "text": [
      " 72%|██████████████████████████████████████████████████████████▉                       | 64/89 [00:11<00:04,  6.06it/s]"
     ]
    },
    {
     "name": "stdout",
     "output_type": "stream",
     "text": [
      "Request: <module 'requests' from 'C:\\\\Users\\\\nguye\\\\anaconda3\\\\lib\\\\site-packages\\\\requests\\\\__init__.py'>; Status code: 403\n",
      "11304\n",
      "{'http': 'http://12.151.56.30:', 'https': 'https://12.151.56.30:'}\n",
      "Request: <module 'requests' from 'C:\\\\Users\\\\nguye\\\\anaconda3\\\\lib\\\\site-packages\\\\requests\\\\__init__.py'>; Status code: 403\n",
      "11305\n",
      "{'http': 'http://3.217.161.14:', 'https': 'https://3.217.161.14:'}\n"
     ]
    },
    {
     "name": "stderr",
     "output_type": "stream",
     "text": [
      " 74%|████████████████████████████████████████████████████████████▊                     | 66/89 [00:12<00:03,  6.12it/s]"
     ]
    },
    {
     "name": "stdout",
     "output_type": "stream",
     "text": [
      "Request: <module 'requests' from 'C:\\\\Users\\\\nguye\\\\anaconda3\\\\lib\\\\site-packages\\\\requests\\\\__init__.py'>; Status code: 403\n",
      "11306\n",
      "{'http': 'http://192.155.107.60:', 'https': 'https://192.155.107.60:'}\n",
      "Request: <module 'requests' from 'C:\\\\Users\\\\nguye\\\\anaconda3\\\\lib\\\\site-packages\\\\requests\\\\__init__.py'>; Status code: 403\n",
      "11307\n",
      "{'http': 'http://47.88.7.115:3129', 'https': 'https://47.88.7.115:3129'}\n"
     ]
    },
    {
     "name": "stderr",
     "output_type": "stream",
     "text": [
      " 76%|██████████████████████████████████████████████████████████████▋                   | 68/89 [00:12<00:03,  5.56it/s]"
     ]
    },
    {
     "name": "stdout",
     "output_type": "stream",
     "text": [
      "Request: <module 'requests' from 'C:\\\\Users\\\\nguye\\\\anaconda3\\\\lib\\\\site-packages\\\\requests\\\\__init__.py'>; Status code: 403\n",
      "11308\n",
      "{'http': 'http://159.65.69.186:9300', 'https': 'https://159.65.69.186:9300'}\n",
      "Request: <module 'requests' from 'C:\\\\Users\\\\nguye\\\\anaconda3\\\\lib\\\\site-packages\\\\requests\\\\__init__.py'>; Status code: 403\n",
      "11309\n"
     ]
    },
    {
     "name": "stderr",
     "output_type": "stream",
     "text": [
      "\r",
      " 78%|███████████████████████████████████████████████████████████████▌                  | 69/89 [00:12<00:03,  5.94it/s]"
     ]
    },
    {
     "name": "stdout",
     "output_type": "stream",
     "text": [
      "{'http': 'http://159.65.69.186:9300', 'https': 'https://159.65.69.186:9300'}\n",
      "Request: <module 'requests' from 'C:\\\\Users\\\\nguye\\\\anaconda3\\\\lib\\\\site-packages\\\\requests\\\\__init__.py'>; Status code: 403\n",
      "11310\n",
      "{'http': 'http://12.151.56.30:', 'https': 'https://12.151.56.30:'}\n"
     ]
    },
    {
     "name": "stderr",
     "output_type": "stream",
     "text": [
      " 80%|█████████████████████████████████████████████████████████████████▍                | 71/89 [00:13<00:02,  6.12it/s]"
     ]
    },
    {
     "name": "stdout",
     "output_type": "stream",
     "text": [
      "Request: <module 'requests' from 'C:\\\\Users\\\\nguye\\\\anaconda3\\\\lib\\\\site-packages\\\\requests\\\\__init__.py'>; Status code: 403\n",
      "11311\n",
      "{'http': 'http://154.85.35.235:8888', 'https': 'https://154.85.35.235:8888'}\n",
      "Request: <module 'requests' from 'C:\\\\Users\\\\nguye\\\\anaconda3\\\\lib\\\\site-packages\\\\requests\\\\__init__.py'>; Status code: 403\n",
      "11312\n",
      "{'http': 'http://204.16.1.169:82', 'https': 'https://204.16.1.169:82'}\n"
     ]
    },
    {
     "name": "stderr",
     "output_type": "stream",
     "text": [
      " 82%|███████████████████████████████████████████████████████████████████▎              | 73/89 [00:13<00:02,  6.61it/s]"
     ]
    },
    {
     "name": "stdout",
     "output_type": "stream",
     "text": [
      "Request: <module 'requests' from 'C:\\\\Users\\\\nguye\\\\anaconda3\\\\lib\\\\site-packages\\\\requests\\\\__init__.py'>; Status code: 403\n",
      "11313\n",
      "{'http': 'http://192.155.107.59:', 'https': 'https://192.155.107.59:'}\n",
      "Request: <module 'requests' from 'C:\\\\Users\\\\nguye\\\\anaconda3\\\\lib\\\\site-packages\\\\requests\\\\__init__.py'>; Status code: 403\n",
      "11314\n",
      "{'http': 'http://50.235.149.74:', 'https': 'https://50.235.149.74:'}\n"
     ]
    },
    {
     "name": "stderr",
     "output_type": "stream",
     "text": [
      " 84%|█████████████████████████████████████████████████████████████████████             | 75/89 [00:13<00:02,  6.50it/s]"
     ]
    },
    {
     "name": "stdout",
     "output_type": "stream",
     "text": [
      "Request: <module 'requests' from 'C:\\\\Users\\\\nguye\\\\anaconda3\\\\lib\\\\site-packages\\\\requests\\\\__init__.py'>; Status code: 403\n",
      "11315\n",
      "{'http': 'http://173.196.205.170:', 'https': 'https://173.196.205.170:'}\n",
      "Request: <module 'requests' from 'C:\\\\Users\\\\nguye\\\\anaconda3\\\\lib\\\\site-packages\\\\requests\\\\__init__.py'>; Status code: 403\n",
      "11316\n",
      "{'http': 'http://216.169.73.65:34679', 'https': 'https://216.169.73.65:34679'}\n"
     ]
    },
    {
     "name": "stderr",
     "output_type": "stream",
     "text": [
      " 87%|██████████████████████████████████████████████████████████████████████▉           | 77/89 [00:13<00:01,  6.94it/s]"
     ]
    },
    {
     "name": "stdout",
     "output_type": "stream",
     "text": [
      "Request: <module 'requests' from 'C:\\\\Users\\\\nguye\\\\anaconda3\\\\lib\\\\site-packages\\\\requests\\\\__init__.py'>; Status code: 403\n",
      "11317\n",
      "{'http': 'http://67.212.186.101:', 'https': 'https://67.212.186.101:'}\n",
      "Request: <module 'requests' from 'C:\\\\Users\\\\nguye\\\\anaconda3\\\\lib\\\\site-packages\\\\requests\\\\__init__.py'>; Status code: 403\n",
      "11318\n",
      "{'http': 'http://12.151.56.30:', 'https': 'https://12.151.56.30:'}\n"
     ]
    },
    {
     "name": "stderr",
     "output_type": "stream",
     "text": [
      " 89%|████████████████████████████████████████████████████████████████████████▊         | 79/89 [00:14<00:01,  7.21it/s]"
     ]
    },
    {
     "name": "stdout",
     "output_type": "stream",
     "text": [
      "Request: <module 'requests' from 'C:\\\\Users\\\\nguye\\\\anaconda3\\\\lib\\\\site-packages\\\\requests\\\\__init__.py'>; Status code: 403\n",
      "11319\n",
      "{'http': 'http://52.168.34.113:', 'https': 'https://52.168.34.113:'}\n",
      "Request: <module 'requests' from 'C:\\\\Users\\\\nguye\\\\anaconda3\\\\lib\\\\site-packages\\\\requests\\\\__init__.py'>; Status code: 403\n",
      "11320\n",
      "{'http': 'http://50.235.149.74:', 'https': 'https://50.235.149.74:'}\n"
     ]
    },
    {
     "name": "stderr",
     "output_type": "stream",
     "text": [
      "\r",
      " 90%|█████████████████████████████████████████████████████████████████████████▋        | 80/89 [00:14<00:01,  6.17it/s]"
     ]
    },
    {
     "name": "stdout",
     "output_type": "stream",
     "text": [
      "Request: <module 'requests' from 'C:\\\\Users\\\\nguye\\\\anaconda3\\\\lib\\\\site-packages\\\\requests\\\\__init__.py'>; Status code: 403\n",
      "11321\n",
      "{'http': 'http://50.235.149.74:', 'https': 'https://50.235.149.74:'}\n"
     ]
    },
    {
     "name": "stderr",
     "output_type": "stream",
     "text": [
      " 92%|███████████████████████████████████████████████████████████████████████████▌      | 82/89 [00:14<00:01,  5.54it/s]"
     ]
    },
    {
     "name": "stdout",
     "output_type": "stream",
     "text": [
      "Request: <module 'requests' from 'C:\\\\Users\\\\nguye\\\\anaconda3\\\\lib\\\\site-packages\\\\requests\\\\__init__.py'>; Status code: 403\n",
      "11322\n",
      "{'http': 'http://76.81.164.246:', 'https': 'https://76.81.164.246:'}\n",
      "Request: <module 'requests' from 'C:\\\\Users\\\\nguye\\\\anaconda3\\\\lib\\\\site-packages\\\\requests\\\\__init__.py'>; Status code: 403\n",
      "11323\n",
      "{'http': 'http://52.168.34.113:', 'https': 'https://52.168.34.113:'}\n"
     ]
    },
    {
     "name": "stderr",
     "output_type": "stream",
     "text": [
      " 94%|█████████████████████████████████████████████████████████████████████████████▍    | 84/89 [00:15<00:00,  6.28it/s]"
     ]
    },
    {
     "name": "stdout",
     "output_type": "stream",
     "text": [
      "Request: <module 'requests' from 'C:\\\\Users\\\\nguye\\\\anaconda3\\\\lib\\\\site-packages\\\\requests\\\\__init__.py'>; Status code: 403\n",
      "11324\n",
      "{'http': 'http://159.65.69.186:9300', 'https': 'https://159.65.69.186:9300'}\n",
      "Request: <module 'requests' from 'C:\\\\Users\\\\nguye\\\\anaconda3\\\\lib\\\\site-packages\\\\requests\\\\__init__.py'>; Status code: 403\n",
      "11325\n",
      "{'http': 'http://54.80.246.241:', 'https': 'https://54.80.246.241:'}\n"
     ]
    },
    {
     "name": "stderr",
     "output_type": "stream",
     "text": [
      " 97%|███████████████████████████████████████████████████████████████████████████████▏  | 86/89 [00:15<00:00,  6.32it/s]"
     ]
    },
    {
     "name": "stdout",
     "output_type": "stream",
     "text": [
      "Request: <module 'requests' from 'C:\\\\Users\\\\nguye\\\\anaconda3\\\\lib\\\\site-packages\\\\requests\\\\__init__.py'>; Status code: 403\n",
      "11326\n",
      "{'http': 'http://208.72.154.111:8888', 'https': 'https://208.72.154.111:8888'}\n",
      "Request: <module 'requests' from 'C:\\\\Users\\\\nguye\\\\anaconda3\\\\lib\\\\site-packages\\\\requests\\\\__init__.py'>; Status code: 403\n",
      "11327\n",
      "{'http': 'http://192.155.107.60:', 'https': 'https://192.155.107.60:'}\n"
     ]
    },
    {
     "name": "stderr",
     "output_type": "stream",
     "text": [
      " 99%|█████████████████████████████████████████████████████████████████████████████████ | 88/89 [00:15<00:00,  6.35it/s]"
     ]
    },
    {
     "name": "stdout",
     "output_type": "stream",
     "text": [
      "Request: <module 'requests' from 'C:\\\\Users\\\\nguye\\\\anaconda3\\\\lib\\\\site-packages\\\\requests\\\\__init__.py'>; Status code: 403\n",
      "11328\n",
      "{'http': 'http://159.65.69.186:9300', 'https': 'https://159.65.69.186:9300'}\n",
      "Request: <module 'requests' from 'C:\\\\Users\\\\nguye\\\\anaconda3\\\\lib\\\\site-packages\\\\requests\\\\__init__.py'>; Status code: 403\n",
      "11329\n",
      "{'http': 'http://132.145.195.93:', 'https': 'https://132.145.195.93:'}\n"
     ]
    },
    {
     "name": "stderr",
     "output_type": "stream",
     "text": [
      "100%|██████████████████████████████████████████████████████████████████████████████████| 89/89 [00:15<00:00,  5.59it/s]\n"
     ]
    },
    {
     "name": "stdout",
     "output_type": "stream",
     "text": [
      "Request: <module 'requests' from 'C:\\\\Users\\\\nguye\\\\anaconda3\\\\lib\\\\site-packages\\\\requests\\\\__init__.py'>; Status code: 403\n",
      "11330\n"
     ]
    },
    {
     "name": "stderr",
     "output_type": "stream",
     "text": [
      "  1%|▊                                                                                  | 1/99 [00:00<00:17,  5.51it/s]"
     ]
    },
    {
     "name": "stdout",
     "output_type": "stream",
     "text": [
      "{'http': 'http://50.235.149.74:', 'https': 'https://50.235.149.74:'}\n",
      "Request: <module 'requests' from 'C:\\\\Users\\\\nguye\\\\anaconda3\\\\lib\\\\site-packages\\\\requests\\\\__init__.py'>; Status code: 403\n",
      "8330\n",
      "{'http': 'http://3.230.91.35:', 'https': 'https://3.230.91.35:'}\n"
     ]
    },
    {
     "name": "stderr",
     "output_type": "stream",
     "text": [
      "\r",
      "  2%|█▋                                                                                 | 2/99 [00:00<00:20,  4.70it/s]"
     ]
    },
    {
     "name": "stdout",
     "output_type": "stream",
     "text": [
      "Request: <module 'requests' from 'C:\\\\Users\\\\nguye\\\\anaconda3\\\\lib\\\\site-packages\\\\requests\\\\__init__.py'>; Status code: 403\n",
      "8331\n",
      "{'http': 'http://107.151.182.247:', 'https': 'https://107.151.182.247:'}\n"
     ]
    },
    {
     "name": "stderr",
     "output_type": "stream",
     "text": [
      "  4%|███▎                                                                               | 4/99 [00:00<00:19,  4.95it/s]"
     ]
    },
    {
     "name": "stdout",
     "output_type": "stream",
     "text": [
      "Request: <module 'requests' from 'C:\\\\Users\\\\nguye\\\\anaconda3\\\\lib\\\\site-packages\\\\requests\\\\__init__.py'>; Status code: 403\n",
      "8332\n",
      "{'http': 'http://76.81.164.246:', 'https': 'https://76.81.164.246:'}\n",
      "Request: <module 'requests' from 'C:\\\\Users\\\\nguye\\\\anaconda3\\\\lib\\\\site-packages\\\\requests\\\\__init__.py'>; Status code: 403\n",
      "8333\n",
      "{'http': 'http://104.192.202.11:', 'https': 'https://104.192.202.11:'}\n"
     ]
    },
    {
     "name": "stderr",
     "output_type": "stream",
     "text": [
      "  6%|█████                                                                              | 6/99 [00:01<00:16,  5.77it/s]"
     ]
    },
    {
     "name": "stdout",
     "output_type": "stream",
     "text": [
      "Request: <module 'requests' from 'C:\\\\Users\\\\nguye\\\\anaconda3\\\\lib\\\\site-packages\\\\requests\\\\__init__.py'>; Status code: 403\n",
      "8334\n",
      "{'http': 'http://52.168.34.113:', 'https': 'https://52.168.34.113:'}\n",
      "Request: <module 'requests' from 'C:\\\\Users\\\\nguye\\\\anaconda3\\\\lib\\\\site-packages\\\\requests\\\\__init__.py'>; Status code: 403\n",
      "8335\n",
      "{'http': 'http://54.244.204.46:', 'https': 'https://54.244.204.46:'}\n"
     ]
    },
    {
     "name": "stderr",
     "output_type": "stream",
     "text": [
      "  8%|██████▋                                                                            | 8/99 [00:01<00:14,  6.40it/s]"
     ]
    },
    {
     "name": "stdout",
     "output_type": "stream",
     "text": [
      "Request: <module 'requests' from 'C:\\\\Users\\\\nguye\\\\anaconda3\\\\lib\\\\site-packages\\\\requests\\\\__init__.py'>; Status code: 403\n",
      "8336\n",
      "{'http': 'http://154.85.35.235:8888', 'https': 'https://154.85.35.235:8888'}\n",
      "Request: <module 'requests' from 'C:\\\\Users\\\\nguye\\\\anaconda3\\\\lib\\\\site-packages\\\\requests\\\\__init__.py'>; Status code: 403\n",
      "8337\n",
      "{'http': 'http://3.230.91.35:', 'https': 'https://3.230.91.35:'}\n"
     ]
    },
    {
     "name": "stderr",
     "output_type": "stream",
     "text": [
      " 10%|████████▎                                                                         | 10/99 [00:01<00:14,  6.35it/s]"
     ]
    },
    {
     "name": "stdout",
     "output_type": "stream",
     "text": [
      "Request: <module 'requests' from 'C:\\\\Users\\\\nguye\\\\anaconda3\\\\lib\\\\site-packages\\\\requests\\\\__init__.py'>; Status code: 403\n",
      "8338\n",
      "{'http': 'http://104.192.202.11:', 'https': 'https://104.192.202.11:'}\n",
      "Request: <module 'requests' from 'C:\\\\Users\\\\nguye\\\\anaconda3\\\\lib\\\\site-packages\\\\requests\\\\__init__.py'>; Status code: 403\n",
      "8339\n",
      "{'http': 'http://47.88.7.115:3129', 'https': 'https://47.88.7.115:3129'}\n"
     ]
    },
    {
     "name": "stderr",
     "output_type": "stream",
     "text": [
      " 12%|█████████▉                                                                        | 12/99 [00:02<00:15,  5.70it/s]"
     ]
    },
    {
     "name": "stdout",
     "output_type": "stream",
     "text": [
      "Request: <module 'requests' from 'C:\\\\Users\\\\nguye\\\\anaconda3\\\\lib\\\\site-packages\\\\requests\\\\__init__.py'>; Status code: 403\n",
      "8340\n",
      "{'http': 'http://72.47.152.224:55443', 'https': 'https://72.47.152.224:55443'}\n",
      "Request: <module 'requests' from 'C:\\\\Users\\\\nguye\\\\anaconda3\\\\lib\\\\site-packages\\\\requests\\\\__init__.py'>; Status code: 403\n",
      "8341\n"
     ]
    },
    {
     "name": "stderr",
     "output_type": "stream",
     "text": [
      "\r",
      " 13%|██████████▊                                                                       | 13/99 [00:02<00:15,  5.48it/s]"
     ]
    },
    {
     "name": "stdout",
     "output_type": "stream",
     "text": [
      "{'http': 'http://47.89.153.213:', 'https': 'https://47.89.153.213:'}\n",
      "Request: <module 'requests' from 'C:\\\\Users\\\\nguye\\\\anaconda3\\\\lib\\\\site-packages\\\\requests\\\\__init__.py'>; Status code: 403\n",
      "8342\n",
      "{'http': 'http://20.47.108.204:8888', 'https': 'https://20.47.108.204:8888'}\n"
     ]
    },
    {
     "name": "stderr",
     "output_type": "stream",
     "text": [
      " 15%|████████████▍                                                                     | 15/99 [00:02<00:16,  5.12it/s]"
     ]
    },
    {
     "name": "stdout",
     "output_type": "stream",
     "text": [
      "Request: <module 'requests' from 'C:\\\\Users\\\\nguye\\\\anaconda3\\\\lib\\\\site-packages\\\\requests\\\\__init__.py'>; Status code: 403\n",
      "8343\n",
      "{'http': 'http://72.47.152.224:55443', 'https': 'https://72.47.152.224:55443'}\n",
      "Request: <module 'requests' from 'C:\\\\Users\\\\nguye\\\\anaconda3\\\\lib\\\\site-packages\\\\requests\\\\__init__.py'>; Status code: 403\n",
      "8344\n",
      "{'http': 'http://107.151.182.247:', 'https': 'https://107.151.182.247:'}\n"
     ]
    },
    {
     "name": "stderr",
     "output_type": "stream",
     "text": [
      " 17%|██████████████                                                                    | 17/99 [00:03<00:14,  5.53it/s]"
     ]
    },
    {
     "name": "stdout",
     "output_type": "stream",
     "text": [
      "Request: <module 'requests' from 'C:\\\\Users\\\\nguye\\\\anaconda3\\\\lib\\\\site-packages\\\\requests\\\\__init__.py'>; Status code: 403\n",
      "8345\n",
      "{'http': 'http://72.47.152.224:55443', 'https': 'https://72.47.152.224:55443'}\n",
      "Request: <module 'requests' from 'C:\\\\Users\\\\nguye\\\\anaconda3\\\\lib\\\\site-packages\\\\requests\\\\__init__.py'>; Status code: 403\n",
      "8346\n",
      "{'http': 'http://20.47.108.204:8888', 'https': 'https://20.47.108.204:8888'}\n"
     ]
    },
    {
     "name": "stderr",
     "output_type": "stream",
     "text": [
      " 19%|███████████████▋                                                                  | 19/99 [00:03<00:14,  5.57it/s]"
     ]
    },
    {
     "name": "stdout",
     "output_type": "stream",
     "text": [
      "Request: <module 'requests' from 'C:\\\\Users\\\\nguye\\\\anaconda3\\\\lib\\\\site-packages\\\\requests\\\\__init__.py'>; Status code: 403\n",
      "8347\n",
      "{'http': 'http://159.65.69.186:9300', 'https': 'https://159.65.69.186:9300'}\n",
      "Request: <module 'requests' from 'C:\\\\Users\\\\nguye\\\\anaconda3\\\\lib\\\\site-packages\\\\requests\\\\__init__.py'>; Status code: 403\n",
      "8348\n",
      "{'http': 'http://208.72.154.111:8888', 'https': 'https://208.72.154.111:8888'}\n"
     ]
    },
    {
     "name": "stderr",
     "output_type": "stream",
     "text": [
      " 21%|█████████████████▍                                                                | 21/99 [00:03<00:13,  5.85it/s]"
     ]
    },
    {
     "name": "stdout",
     "output_type": "stream",
     "text": [
      "Request: <module 'requests' from 'C:\\\\Users\\\\nguye\\\\anaconda3\\\\lib\\\\site-packages\\\\requests\\\\__init__.py'>; Status code: 403\n",
      "8349\n",
      "{'http': 'http://3.230.91.35:', 'https': 'https://3.230.91.35:'}\n",
      "Request: <module 'requests' from 'C:\\\\Users\\\\nguye\\\\anaconda3\\\\lib\\\\site-packages\\\\requests\\\\__init__.py'>; Status code: 403\n",
      "8350\n",
      "{'http': 'http://3.211.17.212:', 'https': 'https://3.211.17.212:'}\n"
     ]
    },
    {
     "name": "stderr",
     "output_type": "stream",
     "text": [
      " 23%|███████████████████                                                               | 23/99 [00:04<00:12,  6.26it/s]"
     ]
    },
    {
     "name": "stdout",
     "output_type": "stream",
     "text": [
      "Request: <module 'requests' from 'C:\\\\Users\\\\nguye\\\\anaconda3\\\\lib\\\\site-packages\\\\requests\\\\__init__.py'>; Status code: 403\n",
      "8351\n",
      "{'http': 'http://186.233.186.60:', 'https': 'https://186.233.186.60:'}\n",
      "Request: <module 'requests' from 'C:\\\\Users\\\\nguye\\\\anaconda3\\\\lib\\\\site-packages\\\\requests\\\\__init__.py'>; Status code: 403\n",
      "8352\n",
      "{'http': 'http://3.217.161.14:', 'https': 'https://3.217.161.14:'}\n"
     ]
    },
    {
     "name": "stderr",
     "output_type": "stream",
     "text": [
      "\r",
      " 24%|███████████████████▉                                                              | 24/99 [00:04<00:11,  6.36it/s]"
     ]
    },
    {
     "name": "stdout",
     "output_type": "stream",
     "text": [
      "Request: <module 'requests' from 'C:\\\\Users\\\\nguye\\\\anaconda3\\\\lib\\\\site-packages\\\\requests\\\\__init__.py'>; Status code: 403\n",
      "8353\n",
      "{'http': 'http://72.47.152.224:55443', 'https': 'https://72.47.152.224:55443'}\n"
     ]
    },
    {
     "name": "stderr",
     "output_type": "stream",
     "text": [
      "\r",
      " 25%|████████████████████▋                                                             | 25/99 [00:04<00:12,  5.81it/s]"
     ]
    },
    {
     "name": "stdout",
     "output_type": "stream",
     "text": [
      "Request: <module 'requests' from 'C:\\\\Users\\\\nguye\\\\anaconda3\\\\lib\\\\site-packages\\\\requests\\\\__init__.py'>; Status code: 403\n",
      "8354\n",
      "{'http': 'http://12.151.56.30:', 'https': 'https://12.151.56.30:'}\n"
     ]
    },
    {
     "name": "stderr",
     "output_type": "stream",
     "text": [
      " 27%|██████████████████████▎                                                           | 27/99 [00:04<00:14,  5.14it/s]"
     ]
    },
    {
     "name": "stdout",
     "output_type": "stream",
     "text": [
      "Request: <module 'requests' from 'C:\\\\Users\\\\nguye\\\\anaconda3\\\\lib\\\\site-packages\\\\requests\\\\__init__.py'>; Status code: 403\n",
      "8355\n",
      "{'http': 'http://76.81.164.246:', 'https': 'https://76.81.164.246:'}\n",
      "Request: <module 'requests' from 'C:\\\\Users\\\\nguye\\\\anaconda3\\\\lib\\\\site-packages\\\\requests\\\\__init__.py'>; Status code: 403\n",
      "8356\n",
      "{'http': 'http://20.47.108.204:8888', 'https': 'https://20.47.108.204:8888'}\n"
     ]
    },
    {
     "name": "stderr",
     "output_type": "stream",
     "text": [
      " 29%|████████████████████████                                                          | 29/99 [00:05<00:12,  5.68it/s]"
     ]
    },
    {
     "name": "stdout",
     "output_type": "stream",
     "text": [
      "Request: <module 'requests' from 'C:\\\\Users\\\\nguye\\\\anaconda3\\\\lib\\\\site-packages\\\\requests\\\\__init__.py'>; Status code: 403\n",
      "8357\n",
      "{'http': 'http://107.151.182.247:', 'https': 'https://107.151.182.247:'}\n",
      "Request: <module 'requests' from 'C:\\\\Users\\\\nguye\\\\anaconda3\\\\lib\\\\site-packages\\\\requests\\\\__init__.py'>; Status code: 403\n",
      "8358\n",
      "{'http': 'http://66.211.155.34:', 'https': 'https://66.211.155.34:'}\n"
     ]
    },
    {
     "name": "stderr",
     "output_type": "stream",
     "text": [
      " 31%|█████████████████████████▋                                                        | 31/99 [00:05<00:12,  5.62it/s]"
     ]
    },
    {
     "name": "stdout",
     "output_type": "stream",
     "text": [
      "Request: <module 'requests' from 'C:\\\\Users\\\\nguye\\\\anaconda3\\\\lib\\\\site-packages\\\\requests\\\\__init__.py'>; Status code: 403\n",
      "8359\n",
      "{'http': 'http://47.252.82.135:', 'https': 'https://47.252.82.135:'}\n",
      "Request: <module 'requests' from 'C:\\\\Users\\\\nguye\\\\anaconda3\\\\lib\\\\site-packages\\\\requests\\\\__init__.py'>; Status code: 403\n",
      "8360\n"
     ]
    },
    {
     "name": "stderr",
     "output_type": "stream",
     "text": [
      "\r",
      " 32%|██████████████████████████▌                                                       | 32/99 [00:05<00:12,  5.50it/s]"
     ]
    },
    {
     "name": "stdout",
     "output_type": "stream",
     "text": [
      "{'http': 'http://216.169.73.65:34679', 'https': 'https://216.169.73.65:34679'}\n",
      "Request: <module 'requests' from 'C:\\\\Users\\\\nguye\\\\anaconda3\\\\lib\\\\site-packages\\\\requests\\\\__init__.py'>; Status code: 403\n",
      "8361\n"
     ]
    },
    {
     "name": "stderr",
     "output_type": "stream",
     "text": [
      "\r",
      " 33%|███████████████████████████▎                                                      | 33/99 [00:05<00:11,  5.52it/s]"
     ]
    },
    {
     "name": "stdout",
     "output_type": "stream",
     "text": [
      "{'http': 'http://23.225.64.59:1089', 'https': 'https://23.225.64.59:1089'}\n",
      "Request: <module 'requests' from 'C:\\\\Users\\\\nguye\\\\anaconda3\\\\lib\\\\site-packages\\\\requests\\\\__init__.py'>; Status code: 403\n",
      "8362\n",
      "{'http': 'http://67.212.186.101:', 'https': 'https://67.212.186.101:'}\n"
     ]
    },
    {
     "name": "stderr",
     "output_type": "stream",
     "text": [
      " 35%|████████████████████████████▉                                                     | 35/99 [00:06<00:11,  5.62it/s]"
     ]
    },
    {
     "name": "stdout",
     "output_type": "stream",
     "text": [
      "Request: <module 'requests' from 'C:\\\\Users\\\\nguye\\\\anaconda3\\\\lib\\\\site-packages\\\\requests\\\\__init__.py'>; Status code: 403\n",
      "8363\n",
      "{'http': 'http://159.65.69.186:9300', 'https': 'https://159.65.69.186:9300'}\n",
      "Request: <module 'requests' from 'C:\\\\Users\\\\nguye\\\\anaconda3\\\\lib\\\\site-packages\\\\requests\\\\__init__.py'>; Status code: 403\n",
      "8364\n",
      "{'http': 'http://3.211.17.212:', 'https': 'https://3.211.17.212:'}\n"
     ]
    },
    {
     "name": "stderr",
     "output_type": "stream",
     "text": [
      "\r",
      " 36%|█████████████████████████████▊                                                    | 36/99 [00:06<00:12,  5.23it/s]"
     ]
    },
    {
     "name": "stdout",
     "output_type": "stream",
     "text": [
      "Request: <module 'requests' from 'C:\\\\Users\\\\nguye\\\\anaconda3\\\\lib\\\\site-packages\\\\requests\\\\__init__.py'>; Status code: 403\n",
      "8365\n",
      "{'http': 'http://159.65.69.186:9300', 'https': 'https://159.65.69.186:9300'}\n"
     ]
    },
    {
     "name": "stderr",
     "output_type": "stream",
     "text": [
      " 38%|███████████████████████████████▍                                                  | 38/99 [00:07<00:15,  4.02it/s]"
     ]
    },
    {
     "name": "stdout",
     "output_type": "stream",
     "text": [
      "Request: <module 'requests' from 'C:\\\\Users\\\\nguye\\\\anaconda3\\\\lib\\\\site-packages\\\\requests\\\\__init__.py'>; Status code: 403\n",
      "8366\n",
      "{'http': 'http://74.205.128.200:', 'https': 'https://74.205.128.200:'}\n",
      "Request: <module 'requests' from 'C:\\\\Users\\\\nguye\\\\anaconda3\\\\lib\\\\site-packages\\\\requests\\\\__init__.py'>; Status code: 403\n",
      "8367\n",
      "{'http': 'http://3.230.91.35:', 'https': 'https://3.230.91.35:'}\n"
     ]
    },
    {
     "name": "stderr",
     "output_type": "stream",
     "text": [
      " 40%|█████████████████████████████████▏                                                | 40/99 [00:07<00:12,  4.84it/s]"
     ]
    },
    {
     "name": "stdout",
     "output_type": "stream",
     "text": [
      "Request: <module 'requests' from 'C:\\\\Users\\\\nguye\\\\anaconda3\\\\lib\\\\site-packages\\\\requests\\\\__init__.py'>; Status code: 403\n",
      "8368\n",
      "{'http': 'http://47.89.153.213:', 'https': 'https://47.89.153.213:'}\n",
      "Request: <module 'requests' from 'C:\\\\Users\\\\nguye\\\\anaconda3\\\\lib\\\\site-packages\\\\requests\\\\__init__.py'>; Status code: 403\n",
      "8369\n",
      "{'http': 'http://52.168.34.113:', 'https': 'https://52.168.34.113:'}\n"
     ]
    },
    {
     "name": "stderr",
     "output_type": "stream",
     "text": [
      " 42%|██████████████████████████████████▊                                               | 42/99 [00:07<00:10,  5.68it/s]"
     ]
    },
    {
     "name": "stdout",
     "output_type": "stream",
     "text": [
      "Request: <module 'requests' from 'C:\\\\Users\\\\nguye\\\\anaconda3\\\\lib\\\\site-packages\\\\requests\\\\__init__.py'>; Status code: 403\n",
      "8370\n",
      "{'http': 'http://159.65.69.186:9300', 'https': 'https://159.65.69.186:9300'}\n",
      "Request: <module 'requests' from 'C:\\\\Users\\\\nguye\\\\anaconda3\\\\lib\\\\site-packages\\\\requests\\\\__init__.py'>; Status code: 403\n",
      "8371\n",
      "{'http': 'http://74.205.128.200:', 'https': 'https://74.205.128.200:'}\n"
     ]
    },
    {
     "name": "stderr",
     "output_type": "stream",
     "text": [
      " 44%|████████████████████████████████████▍                                             | 44/99 [00:08<00:09,  5.85it/s]"
     ]
    },
    {
     "name": "stdout",
     "output_type": "stream",
     "text": [
      "Request: <module 'requests' from 'C:\\\\Users\\\\nguye\\\\anaconda3\\\\lib\\\\site-packages\\\\requests\\\\__init__.py'>; Status code: 403\n",
      "8372\n",
      "{'http': 'http://138.68.235.51:', 'https': 'https://138.68.235.51:'}\n",
      "Request: <module 'requests' from 'C:\\\\Users\\\\nguye\\\\anaconda3\\\\lib\\\\site-packages\\\\requests\\\\__init__.py'>; Status code: 403\n",
      "8373\n",
      "{'http': 'http://66.211.155.34:', 'https': 'https://66.211.155.34:'}\n"
     ]
    },
    {
     "name": "stderr",
     "output_type": "stream",
     "text": [
      " 46%|██████████████████████████████████████                                            | 46/99 [00:08<00:09,  5.39it/s]"
     ]
    },
    {
     "name": "stdout",
     "output_type": "stream",
     "text": [
      "Request: <module 'requests' from 'C:\\\\Users\\\\nguye\\\\anaconda3\\\\lib\\\\site-packages\\\\requests\\\\__init__.py'>; Status code: 403\n",
      "8374\n",
      "{'http': 'http://47.89.153.213:', 'https': 'https://47.89.153.213:'}\n",
      "Request: <module 'requests' from 'C:\\\\Users\\\\nguye\\\\anaconda3\\\\lib\\\\site-packages\\\\requests\\\\__init__.py'>; Status code: 403\n",
      "8375\n"
     ]
    },
    {
     "name": "stderr",
     "output_type": "stream",
     "text": [
      "\r",
      " 47%|██████████████████████████████████████▉                                           | 47/99 [00:08<00:09,  5.34it/s]"
     ]
    },
    {
     "name": "stdout",
     "output_type": "stream",
     "text": [
      "{'http': 'http://186.233.186.60:', 'https': 'https://186.233.186.60:'}\n",
      "Request: <module 'requests' from 'C:\\\\Users\\\\nguye\\\\anaconda3\\\\lib\\\\site-packages\\\\requests\\\\__init__.py'>; Status code: 403\n",
      "8376\n"
     ]
    },
    {
     "name": "stderr",
     "output_type": "stream",
     "text": [
      "\r",
      " 48%|███████████████████████████████████████▊                                          | 48/99 [00:08<00:08,  5.88it/s]"
     ]
    },
    {
     "name": "stdout",
     "output_type": "stream",
     "text": [
      "{'http': 'http://3.211.17.212:', 'https': 'https://3.211.17.212:'}\n",
      "Request: <module 'requests' from 'C:\\\\Users\\\\nguye\\\\anaconda3\\\\lib\\\\site-packages\\\\requests\\\\__init__.py'>; Status code: 403\n",
      "8377\n",
      "{'http': 'http://107.151.182.247:', 'https': 'https://107.151.182.247:'}\n"
     ]
    },
    {
     "name": "stderr",
     "output_type": "stream",
     "text": [
      " 51%|█████████████████████████████████████████▍                                        | 50/99 [00:09<00:07,  6.34it/s]"
     ]
    },
    {
     "name": "stdout",
     "output_type": "stream",
     "text": [
      "Request: <module 'requests' from 'C:\\\\Users\\\\nguye\\\\anaconda3\\\\lib\\\\site-packages\\\\requests\\\\__init__.py'>; Status code: 403\n",
      "8378\n",
      "{'http': 'http://64.227.62.123:', 'https': 'https://64.227.62.123:'}\n",
      "Request: <module 'requests' from 'C:\\\\Users\\\\nguye\\\\anaconda3\\\\lib\\\\site-packages\\\\requests\\\\__init__.py'>; Status code: 403\n",
      "8379\n",
      "{'http': 'http://76.81.164.246:', 'https': 'https://76.81.164.246:'}\n"
     ]
    },
    {
     "name": "stderr",
     "output_type": "stream",
     "text": [
      " 53%|███████████████████████████████████████████                                       | 52/99 [00:09<00:07,  6.39it/s]"
     ]
    },
    {
     "name": "stdout",
     "output_type": "stream",
     "text": [
      "Request: <module 'requests' from 'C:\\\\Users\\\\nguye\\\\anaconda3\\\\lib\\\\site-packages\\\\requests\\\\__init__.py'>; Status code: 403\n",
      "8380\n",
      "{'http': 'http://67.212.186.101:', 'https': 'https://67.212.186.101:'}\n",
      "Request: <module 'requests' from 'C:\\\\Users\\\\nguye\\\\anaconda3\\\\lib\\\\site-packages\\\\requests\\\\__init__.py'>; Status code: 403\n",
      "8381\n",
      "{'http': 'http://161.35.4.201:', 'https': 'https://161.35.4.201:'}\n"
     ]
    },
    {
     "name": "stderr",
     "output_type": "stream",
     "text": [
      " 55%|████████████████████████████████████████████▋                                     | 54/99 [00:10<00:10,  4.46it/s]"
     ]
    },
    {
     "name": "stdout",
     "output_type": "stream",
     "text": [
      "Request: <module 'requests' from 'C:\\\\Users\\\\nguye\\\\anaconda3\\\\lib\\\\site-packages\\\\requests\\\\__init__.py'>; Status code: 403\n",
      "8382\n",
      "{'http': 'http://50.235.149.74:', 'https': 'https://50.235.149.74:'}\n",
      "Request: <module 'requests' from 'C:\\\\Users\\\\nguye\\\\anaconda3\\\\lib\\\\site-packages\\\\requests\\\\__init__.py'>; Status code: 403\n",
      "8383\n"
     ]
    },
    {
     "name": "stderr",
     "output_type": "stream",
     "text": [
      "\r",
      " 56%|█████████████████████████████████████████████▌                                    | 55/99 [00:10<00:09,  4.74it/s]"
     ]
    },
    {
     "name": "stdout",
     "output_type": "stream",
     "text": [
      "{'http': 'http://72.47.152.224:55443', 'https': 'https://72.47.152.224:55443'}\n",
      "Request: <module 'requests' from 'C:\\\\Users\\\\nguye\\\\anaconda3\\\\lib\\\\site-packages\\\\requests\\\\__init__.py'>; Status code: 403\n",
      "8384\n",
      "{'http': 'http://161.35.4.201:', 'https': 'https://161.35.4.201:'}\n"
     ]
    },
    {
     "name": "stderr",
     "output_type": "stream",
     "text": [
      "\r",
      " 57%|██████████████████████████████████████████████▍                                   | 56/99 [00:10<00:09,  4.56it/s]"
     ]
    },
    {
     "name": "stdout",
     "output_type": "stream",
     "text": [
      "Request: <module 'requests' from 'C:\\\\Users\\\\nguye\\\\anaconda3\\\\lib\\\\site-packages\\\\requests\\\\__init__.py'>; Status code: 403\n",
      "8385\n",
      "{'http': 'http://67.212.186.101:', 'https': 'https://67.212.186.101:'}\n"
     ]
    },
    {
     "name": "stderr",
     "output_type": "stream",
     "text": [
      " 59%|████████████████████████████████████████████████                                  | 58/99 [00:10<00:08,  5.04it/s]"
     ]
    },
    {
     "name": "stdout",
     "output_type": "stream",
     "text": [
      "Request: <module 'requests' from 'C:\\\\Users\\\\nguye\\\\anaconda3\\\\lib\\\\site-packages\\\\requests\\\\__init__.py'>; Status code: 403\n",
      "8386\n",
      "{'http': 'http://173.196.205.170:', 'https': 'https://173.196.205.170:'}\n",
      "Request: <module 'requests' from 'C:\\\\Users\\\\nguye\\\\anaconda3\\\\lib\\\\site-packages\\\\requests\\\\__init__.py'>; Status code: 403\n",
      "8387\n",
      "{'http': 'http://64.227.62.123:', 'https': 'https://64.227.62.123:'}\n"
     ]
    },
    {
     "name": "stderr",
     "output_type": "stream",
     "text": [
      " 61%|█████████████████████████████████████████████████▋                                | 60/99 [00:11<00:06,  5.88it/s]"
     ]
    },
    {
     "name": "stdout",
     "output_type": "stream",
     "text": [
      "Request: <module 'requests' from 'C:\\\\Users\\\\nguye\\\\anaconda3\\\\lib\\\\site-packages\\\\requests\\\\__init__.py'>; Status code: 403\n",
      "8388\n",
      "{'http': 'http://12.151.56.30:', 'https': 'https://12.151.56.30:'}\n",
      "Request: <module 'requests' from 'C:\\\\Users\\\\nguye\\\\anaconda3\\\\lib\\\\site-packages\\\\requests\\\\__init__.py'>; Status code: 403\n",
      "8389\n",
      "{'http': 'http://63.161.104.189:', 'https': 'https://63.161.104.189:'}\n"
     ]
    },
    {
     "name": "stderr",
     "output_type": "stream",
     "text": [
      " 63%|███████████████████████████████████████████████████▎                              | 62/99 [00:11<00:06,  6.09it/s]"
     ]
    },
    {
     "name": "stdout",
     "output_type": "stream",
     "text": [
      "Request: <module 'requests' from 'C:\\\\Users\\\\nguye\\\\anaconda3\\\\lib\\\\site-packages\\\\requests\\\\__init__.py'>; Status code: 403\n",
      "8390\n",
      "{'http': 'http://204.16.1.169:82', 'https': 'https://204.16.1.169:82'}\n",
      "Request: <module 'requests' from 'C:\\\\Users\\\\nguye\\\\anaconda3\\\\lib\\\\site-packages\\\\requests\\\\__init__.py'>; Status code: 403\n",
      "8391\n",
      "{'http': 'http://63.161.104.189:', 'https': 'https://63.161.104.189:'}\n"
     ]
    },
    {
     "name": "stderr",
     "output_type": "stream",
     "text": [
      " 65%|█████████████████████████████████████████████████████                             | 64/99 [00:11<00:05,  6.26it/s]"
     ]
    },
    {
     "name": "stdout",
     "output_type": "stream",
     "text": [
      "Request: <module 'requests' from 'C:\\\\Users\\\\nguye\\\\anaconda3\\\\lib\\\\site-packages\\\\requests\\\\__init__.py'>; Status code: 403\n",
      "8392\n",
      "{'http': 'http://104.192.202.11:', 'https': 'https://104.192.202.11:'}\n",
      "Request: <module 'requests' from 'C:\\\\Users\\\\nguye\\\\anaconda3\\\\lib\\\\site-packages\\\\requests\\\\__init__.py'>; Status code: 403\n",
      "8393\n",
      "{'http': 'http://66.211.155.34:', 'https': 'https://66.211.155.34:'}\n"
     ]
    },
    {
     "name": "stderr",
     "output_type": "stream",
     "text": [
      " 67%|██████████████████████████████████████████████████████▋                           | 66/99 [00:12<00:04,  6.70it/s]"
     ]
    },
    {
     "name": "stdout",
     "output_type": "stream",
     "text": [
      "Request: <module 'requests' from 'C:\\\\Users\\\\nguye\\\\anaconda3\\\\lib\\\\site-packages\\\\requests\\\\__init__.py'>; Status code: 403\n",
      "8394\n",
      "{'http': 'http://72.47.152.224:55443', 'https': 'https://72.47.152.224:55443'}\n",
      "Request: <module 'requests' from 'C:\\\\Users\\\\nguye\\\\anaconda3\\\\lib\\\\site-packages\\\\requests\\\\__init__.py'>; Status code: 403\n",
      "8395\n",
      "{'http': 'http://3.211.17.212:', 'https': 'https://3.211.17.212:'}\n"
     ]
    },
    {
     "name": "stderr",
     "output_type": "stream",
     "text": [
      "\r",
      " 68%|███████████████████████████████████████████████████████▍                          | 67/99 [00:12<00:04,  6.80it/s]"
     ]
    },
    {
     "name": "stdout",
     "output_type": "stream",
     "text": [
      "Request: <module 'requests' from 'C:\\\\Users\\\\nguye\\\\anaconda3\\\\lib\\\\site-packages\\\\requests\\\\__init__.py'>; Status code: 403\n",
      "8396\n",
      "{'http': 'http://3.217.161.14:', 'https': 'https://3.217.161.14:'}\n"
     ]
    },
    {
     "name": "stderr",
     "output_type": "stream",
     "text": [
      "\r",
      " 69%|████████████████████████████████████████████████████████▎                         | 68/99 [00:12<00:06,  5.09it/s]"
     ]
    },
    {
     "name": "stdout",
     "output_type": "stream",
     "text": [
      "Request: <module 'requests' from 'C:\\\\Users\\\\nguye\\\\anaconda3\\\\lib\\\\site-packages\\\\requests\\\\__init__.py'>; Status code: 403\n",
      "8397\n",
      "{'http': 'http://74.205.128.200:', 'https': 'https://74.205.128.200:'}\n"
     ]
    },
    {
     "name": "stderr",
     "output_type": "stream",
     "text": [
      "\r",
      " 70%|█████████████████████████████████████████████████████████▏                        | 69/99 [00:12<00:06,  4.86it/s]"
     ]
    },
    {
     "name": "stdout",
     "output_type": "stream",
     "text": [
      "Request: <module 'requests' from 'C:\\\\Users\\\\nguye\\\\anaconda3\\\\lib\\\\site-packages\\\\requests\\\\__init__.py'>; Status code: 403\n",
      "8398\n",
      "{'http': 'http://107.151.182.247:', 'https': 'https://107.151.182.247:'}\n"
     ]
    },
    {
     "name": "stderr",
     "output_type": "stream",
     "text": [
      " 72%|██████████████████████████████████████████████████████████▊                       | 71/99 [00:13<00:06,  4.51it/s]"
     ]
    },
    {
     "name": "stdout",
     "output_type": "stream",
     "text": [
      "Request: <module 'requests' from 'C:\\\\Users\\\\nguye\\\\anaconda3\\\\lib\\\\site-packages\\\\requests\\\\__init__.py'>; Status code: 403\n",
      "8399\n",
      "{'http': 'http://63.161.104.189:', 'https': 'https://63.161.104.189:'}\n",
      "Request: <module 'requests' from 'C:\\\\Users\\\\nguye\\\\anaconda3\\\\lib\\\\site-packages\\\\requests\\\\__init__.py'>; Status code: 403\n",
      "8400\n",
      "{'http': 'http://192.155.107.59:', 'https': 'https://192.155.107.59:'}\n"
     ]
    },
    {
     "name": "stderr",
     "output_type": "stream",
     "text": [
      " 74%|████████████████████████████████████████████████████████████▍                     | 73/99 [00:13<00:04,  5.24it/s]"
     ]
    },
    {
     "name": "stdout",
     "output_type": "stream",
     "text": [
      "Request: <module 'requests' from 'C:\\\\Users\\\\nguye\\\\anaconda3\\\\lib\\\\site-packages\\\\requests\\\\__init__.py'>; Status code: 403\n",
      "8401\n",
      "{'http': 'http://104.192.202.11:', 'https': 'https://104.192.202.11:'}\n",
      "Request: <module 'requests' from 'C:\\\\Users\\\\nguye\\\\anaconda3\\\\lib\\\\site-packages\\\\requests\\\\__init__.py'>; Status code: 403\n",
      "8402\n",
      "{'http': 'http://63.161.104.189:', 'https': 'https://63.161.104.189:'}\n"
     ]
    },
    {
     "name": "stderr",
     "output_type": "stream",
     "text": [
      " 76%|██████████████████████████████████████████████████████████████                    | 75/99 [00:13<00:04,  5.87it/s]"
     ]
    },
    {
     "name": "stdout",
     "output_type": "stream",
     "text": [
      "Request: <module 'requests' from 'C:\\\\Users\\\\nguye\\\\anaconda3\\\\lib\\\\site-packages\\\\requests\\\\__init__.py'>; Status code: 403\n",
      "8403\n",
      "{'http': 'http://54.80.246.241:', 'https': 'https://54.80.246.241:'}\n",
      "Request: <module 'requests' from 'C:\\\\Users\\\\nguye\\\\anaconda3\\\\lib\\\\site-packages\\\\requests\\\\__init__.py'>; Status code: 403\n",
      "8404\n",
      "{'http': 'http://3.217.161.14:', 'https': 'https://3.217.161.14:'}\n"
     ]
    },
    {
     "name": "stderr",
     "output_type": "stream",
     "text": [
      " 78%|███████████████████████████████████████████████████████████████▊                  | 77/99 [00:14<00:03,  6.45it/s]"
     ]
    },
    {
     "name": "stdout",
     "output_type": "stream",
     "text": [
      "Request: <module 'requests' from 'C:\\\\Users\\\\nguye\\\\anaconda3\\\\lib\\\\site-packages\\\\requests\\\\__init__.py'>; Status code: 403\n",
      "8405\n",
      "{'http': 'http://47.89.153.213:', 'https': 'https://47.89.153.213:'}\n",
      "Request: <module 'requests' from 'C:\\\\Users\\\\nguye\\\\anaconda3\\\\lib\\\\site-packages\\\\requests\\\\__init__.py'>; Status code: 403\n",
      "8406\n",
      "{'http': 'http://216.169.73.65:34679', 'https': 'https://216.169.73.65:34679'}\n"
     ]
    },
    {
     "name": "stderr",
     "output_type": "stream",
     "text": [
      " 80%|█████████████████████████████████████████████████████████████████▍                | 79/99 [00:14<00:04,  4.57it/s]"
     ]
    },
    {
     "name": "stdout",
     "output_type": "stream",
     "text": [
      "Request: <module 'requests' from 'C:\\\\Users\\\\nguye\\\\anaconda3\\\\lib\\\\site-packages\\\\requests\\\\__init__.py'>; Status code: 403\n",
      "8407\n",
      "{'http': 'http://54.80.246.241:', 'https': 'https://54.80.246.241:'}\n",
      "Request: <module 'requests' from 'C:\\\\Users\\\\nguye\\\\anaconda3\\\\lib\\\\site-packages\\\\requests\\\\__init__.py'>; Status code: 403\n",
      "8408\n"
     ]
    },
    {
     "name": "stderr",
     "output_type": "stream",
     "text": [
      "\r",
      " 81%|██████████████████████████████████████████████████████████████████▎               | 80/99 [00:14<00:03,  4.77it/s]"
     ]
    },
    {
     "name": "stdout",
     "output_type": "stream",
     "text": [
      "{'http': 'http://138.68.235.51:', 'https': 'https://138.68.235.51:'}\n",
      "Request: <module 'requests' from 'C:\\\\Users\\\\nguye\\\\anaconda3\\\\lib\\\\site-packages\\\\requests\\\\__init__.py'>; Status code: 403\n",
      "8409\n"
     ]
    },
    {
     "name": "stderr",
     "output_type": "stream",
     "text": [
      "\r",
      " 82%|███████████████████████████████████████████████████████████████████               | 81/99 [00:15<00:03,  5.22it/s]"
     ]
    },
    {
     "name": "stdout",
     "output_type": "stream",
     "text": [
      "{'http': 'http://132.145.195.93:', 'https': 'https://132.145.195.93:'}\n",
      "Request: <module 'requests' from 'C:\\\\Users\\\\nguye\\\\anaconda3\\\\lib\\\\site-packages\\\\requests\\\\__init__.py'>; Status code: 403\n",
      "8410\n",
      "{'http': 'http://66.211.155.34:', 'https': 'https://66.211.155.34:'}\n"
     ]
    },
    {
     "name": "stderr",
     "output_type": "stream",
     "text": [
      " 84%|████████████████████████████████████████████████████████████████████▋             | 83/99 [00:15<00:02,  5.72it/s]"
     ]
    },
    {
     "name": "stdout",
     "output_type": "stream",
     "text": [
      "Request: <module 'requests' from 'C:\\\\Users\\\\nguye\\\\anaconda3\\\\lib\\\\site-packages\\\\requests\\\\__init__.py'>; Status code: 403\n",
      "8411\n",
      "{'http': 'http://161.35.4.201:', 'https': 'https://161.35.4.201:'}\n",
      "Request: <module 'requests' from 'C:\\\\Users\\\\nguye\\\\anaconda3\\\\lib\\\\site-packages\\\\requests\\\\__init__.py'>; Status code: 403\n",
      "8412\n",
      "{'http': 'http://204.16.1.169:82', 'https': 'https://204.16.1.169:82'}\n"
     ]
    },
    {
     "name": "stderr",
     "output_type": "stream",
     "text": [
      " 86%|██████████████████████████████████████████████████████████████████████▍           | 85/99 [00:15<00:02,  5.92it/s]"
     ]
    },
    {
     "name": "stdout",
     "output_type": "stream",
     "text": [
      "Request: <module 'requests' from 'C:\\\\Users\\\\nguye\\\\anaconda3\\\\lib\\\\site-packages\\\\requests\\\\__init__.py'>; Status code: 403\n",
      "8413\n",
      "{'http': 'http://54.80.246.241:', 'https': 'https://54.80.246.241:'}\n",
      "Request: <module 'requests' from 'C:\\\\Users\\\\nguye\\\\anaconda3\\\\lib\\\\site-packages\\\\requests\\\\__init__.py'>; Status code: 403\n",
      "8414\n",
      "{'http': 'http://67.212.186.101:', 'https': 'https://67.212.186.101:'}\n"
     ]
    },
    {
     "name": "stderr",
     "output_type": "stream",
     "text": [
      " 88%|████████████████████████████████████████████████████████████████████████          | 87/99 [00:16<00:02,  5.92it/s]"
     ]
    },
    {
     "name": "stdout",
     "output_type": "stream",
     "text": [
      "Request: <module 'requests' from 'C:\\\\Users\\\\nguye\\\\anaconda3\\\\lib\\\\site-packages\\\\requests\\\\__init__.py'>; Status code: 403\n",
      "8415\n",
      "{'http': 'http://216.169.73.65:34679', 'https': 'https://216.169.73.65:34679'}\n",
      "Request: <module 'requests' from 'C:\\\\Users\\\\nguye\\\\anaconda3\\\\lib\\\\site-packages\\\\requests\\\\__init__.py'>; Status code: 403\n",
      "8416\n",
      "{'http': 'http://64.227.62.123:', 'https': 'https://64.227.62.123:'}\n"
     ]
    },
    {
     "name": "stderr",
     "output_type": "stream",
     "text": [
      "\r",
      " 89%|████████████████████████████████████████████████████████████████████████▉         | 88/99 [00:16<00:01,  5.80it/s]"
     ]
    },
    {
     "name": "stdout",
     "output_type": "stream",
     "text": [
      "Request: <module 'requests' from 'C:\\\\Users\\\\nguye\\\\anaconda3\\\\lib\\\\site-packages\\\\requests\\\\__init__.py'>; Status code: 403\n",
      "8417\n",
      "{'http': 'http://50.235.149.74:', 'https': 'https://50.235.149.74:'}\n"
     ]
    },
    {
     "name": "stderr",
     "output_type": "stream",
     "text": [
      " 91%|██████████████████████████████████████████████████████████████████████████▌       | 90/99 [00:16<00:01,  5.28it/s]"
     ]
    },
    {
     "name": "stdout",
     "output_type": "stream",
     "text": [
      "Request: <module 'requests' from 'C:\\\\Users\\\\nguye\\\\anaconda3\\\\lib\\\\site-packages\\\\requests\\\\__init__.py'>; Status code: 403\n",
      "8418\n",
      "{'http': 'http://132.145.195.93:', 'https': 'https://132.145.195.93:'}\n",
      "Request: <module 'requests' from 'C:\\\\Users\\\\nguye\\\\anaconda3\\\\lib\\\\site-packages\\\\requests\\\\__init__.py'>; Status code: 403\n",
      "8419\n"
     ]
    },
    {
     "name": "stderr",
     "output_type": "stream",
     "text": [
      "\r",
      " 92%|███████████████████████████████████████████████████████████████████████████▎      | 91/99 [00:16<00:01,  5.44it/s]"
     ]
    },
    {
     "name": "stdout",
     "output_type": "stream",
     "text": [
      "{'http': 'http://23.225.64.59:1089', 'https': 'https://23.225.64.59:1089'}\n",
      "Request: <module 'requests' from 'C:\\\\Users\\\\nguye\\\\anaconda3\\\\lib\\\\site-packages\\\\requests\\\\__init__.py'>; Status code: 403\n",
      "8420\n",
      "{'http': 'http://192.155.107.59:', 'https': 'https://192.155.107.59:'}\n"
     ]
    },
    {
     "name": "stderr",
     "output_type": "stream",
     "text": [
      " 94%|█████████████████████████████████████████████████████████████████████████████     | 93/99 [00:17<00:01,  5.58it/s]"
     ]
    },
    {
     "name": "stdout",
     "output_type": "stream",
     "text": [
      "Request: <module 'requests' from 'C:\\\\Users\\\\nguye\\\\anaconda3\\\\lib\\\\site-packages\\\\requests\\\\__init__.py'>; Status code: 403\n",
      "8421\n",
      "{'http': 'http://204.16.1.169:82', 'https': 'https://204.16.1.169:82'}\n",
      "Request: <module 'requests' from 'C:\\\\Users\\\\nguye\\\\anaconda3\\\\lib\\\\site-packages\\\\requests\\\\__init__.py'>; Status code: 403\n",
      "8422\n",
      "{'http': 'http://23.225.64.59:1089', 'https': 'https://23.225.64.59:1089'}\n"
     ]
    },
    {
     "name": "stderr",
     "output_type": "stream",
     "text": [
      " 96%|██████████████████████████████████████████████████████████████████████████████▋   | 95/99 [00:17<00:00,  5.84it/s]"
     ]
    },
    {
     "name": "stdout",
     "output_type": "stream",
     "text": [
      "Request: <module 'requests' from 'C:\\\\Users\\\\nguye\\\\anaconda3\\\\lib\\\\site-packages\\\\requests\\\\__init__.py'>; Status code: 403\n",
      "8423\n",
      "{'http': 'http://66.211.155.34:', 'https': 'https://66.211.155.34:'}\n",
      "Request: <module 'requests' from 'C:\\\\Users\\\\nguye\\\\anaconda3\\\\lib\\\\site-packages\\\\requests\\\\__init__.py'>; Status code: 403\n",
      "8424\n",
      "{'http': 'http://138.68.235.51:', 'https': 'https://138.68.235.51:'}\n"
     ]
    },
    {
     "name": "stderr",
     "output_type": "stream",
     "text": [
      " 98%|████████████████████████████████████████████████████████████████████████████████▎ | 97/99 [00:17<00:00,  6.03it/s]"
     ]
    },
    {
     "name": "stdout",
     "output_type": "stream",
     "text": [
      "Request: <module 'requests' from 'C:\\\\Users\\\\nguye\\\\anaconda3\\\\lib\\\\site-packages\\\\requests\\\\__init__.py'>; Status code: 403\n",
      "8425\n",
      "{'http': 'http://54.80.246.241:', 'https': 'https://54.80.246.241:'}\n",
      "Request: <module 'requests' from 'C:\\\\Users\\\\nguye\\\\anaconda3\\\\lib\\\\site-packages\\\\requests\\\\__init__.py'>; Status code: 403\n",
      "8426\n",
      "{'http': 'http://161.35.4.201:', 'https': 'https://161.35.4.201:'}\n"
     ]
    },
    {
     "name": "stderr",
     "output_type": "stream",
     "text": [
      "100%|██████████████████████████████████████████████████████████████████████████████████| 99/99 [00:18<00:00,  5.81it/s]"
     ]
    },
    {
     "name": "stdout",
     "output_type": "stream",
     "text": [
      "Request: <module 'requests' from 'C:\\\\Users\\\\nguye\\\\anaconda3\\\\lib\\\\site-packages\\\\requests\\\\__init__.py'>; Status code: 403\n",
      "8427\n",
      "{'http': 'http://216.169.73.65:34679', 'https': 'https://216.169.73.65:34679'}\n",
      "Request: <module 'requests' from 'C:\\\\Users\\\\nguye\\\\anaconda3\\\\lib\\\\site-packages\\\\requests\\\\__init__.py'>; Status code: 403\n",
      "8428\n"
     ]
    },
    {
     "name": "stderr",
     "output_type": "stream",
     "text": [
      "100%|██████████████████████████████████████████████████████████████████████████████████| 99/99 [00:18<00:00,  5.44it/s]\n",
      "  0%|                                                                                           | 0/94 [00:00<?, ?it/s]"
     ]
    },
    {
     "name": "stdout",
     "output_type": "stream",
     "text": [
      "{'http': 'http://76.81.164.246:', 'https': 'https://76.81.164.246:'}\n"
     ]
    },
    {
     "name": "stderr",
     "output_type": "stream",
     "text": [
      "\r",
      "  1%|▉                                                                                  | 1/94 [00:00<00:21,  4.24it/s]"
     ]
    },
    {
     "name": "stdout",
     "output_type": "stream",
     "text": [
      "Request: <module 'requests' from 'C:\\\\Users\\\\nguye\\\\anaconda3\\\\lib\\\\site-packages\\\\requests\\\\__init__.py'>; Status code: 403\n",
      "4361\n",
      "{'http': 'http://47.89.153.213:', 'https': 'https://47.89.153.213:'}\n",
      "Request: <module 'requests' from 'C:\\\\Users\\\\nguye\\\\anaconda3\\\\lib\\\\site-packages\\\\requests\\\\__init__.py'>; Status code: 403\n",
      "4362\n"
     ]
    },
    {
     "name": "stderr",
     "output_type": "stream",
     "text": [
      "  3%|██▋                                                                                | 3/94 [00:00<00:18,  5.04it/s]"
     ]
    },
    {
     "name": "stdout",
     "output_type": "stream",
     "text": [
      "{'http': 'http://47.88.7.115:3129', 'https': 'https://47.88.7.115:3129'}\n",
      "Request: <module 'requests' from 'C:\\\\Users\\\\nguye\\\\anaconda3\\\\lib\\\\site-packages\\\\requests\\\\__init__.py'>; Status code: 403\n",
      "4363\n",
      "{'http': 'http://47.89.153.213:', 'https': 'https://47.89.153.213:'}\n"
     ]
    },
    {
     "name": "stderr",
     "output_type": "stream",
     "text": [
      "  5%|████▍                                                                              | 5/94 [00:00<00:15,  5.78it/s]"
     ]
    },
    {
     "name": "stdout",
     "output_type": "stream",
     "text": [
      "Request: <module 'requests' from 'C:\\\\Users\\\\nguye\\\\anaconda3\\\\lib\\\\site-packages\\\\requests\\\\__init__.py'>; Status code: 403\n",
      "4364\n",
      "{'http': 'http://138.68.235.51:', 'https': 'https://138.68.235.51:'}\n",
      "Request: <module 'requests' from 'C:\\\\Users\\\\nguye\\\\anaconda3\\\\lib\\\\site-packages\\\\requests\\\\__init__.py'>; Status code: 403\n",
      "4365\n",
      "{'http': 'http://23.225.64.59:1089', 'https': 'https://23.225.64.59:1089'}\n"
     ]
    },
    {
     "name": "stderr",
     "output_type": "stream",
     "text": [
      "  7%|██████▏                                                                            | 7/94 [00:01<00:14,  5.87it/s]"
     ]
    },
    {
     "name": "stdout",
     "output_type": "stream",
     "text": [
      "Request: <module 'requests' from 'C:\\\\Users\\\\nguye\\\\anaconda3\\\\lib\\\\site-packages\\\\requests\\\\__init__.py'>; Status code: 403\n",
      "4366\n",
      "{'http': 'http://54.244.204.46:', 'https': 'https://54.244.204.46:'}\n",
      "Request: <module 'requests' from 'C:\\\\Users\\\\nguye\\\\anaconda3\\\\lib\\\\site-packages\\\\requests\\\\__init__.py'>; Status code: 403\n",
      "4367\n",
      "{'http': 'http://154.85.35.235:8888', 'https': 'https://154.85.35.235:8888'}\n"
     ]
    },
    {
     "name": "stderr",
     "output_type": "stream",
     "text": [
      " 10%|███████▉                                                                           | 9/94 [00:01<00:13,  6.23it/s]"
     ]
    },
    {
     "name": "stdout",
     "output_type": "stream",
     "text": [
      "Request: <module 'requests' from 'C:\\\\Users\\\\nguye\\\\anaconda3\\\\lib\\\\site-packages\\\\requests\\\\__init__.py'>; Status code: 403\n",
      "4368\n",
      "{'http': 'http://132.145.195.93:', 'https': 'https://132.145.195.93:'}\n",
      "Request: <module 'requests' from 'C:\\\\Users\\\\nguye\\\\anaconda3\\\\lib\\\\site-packages\\\\requests\\\\__init__.py'>; Status code: 403\n",
      "4369\n",
      "{'http': 'http://54.244.204.46:', 'https': 'https://54.244.204.46:'}\n"
     ]
    },
    {
     "name": "stderr",
     "output_type": "stream",
     "text": [
      " 12%|█████████▌                                                                        | 11/94 [00:01<00:13,  6.28it/s]"
     ]
    },
    {
     "name": "stdout",
     "output_type": "stream",
     "text": [
      "Request: <module 'requests' from 'C:\\\\Users\\\\nguye\\\\anaconda3\\\\lib\\\\site-packages\\\\requests\\\\__init__.py'>; Status code: 403\n",
      "4370\n",
      "{'http': 'http://208.72.154.111:8888', 'https': 'https://208.72.154.111:8888'}\n",
      "Request: <module 'requests' from 'C:\\\\Users\\\\nguye\\\\anaconda3\\\\lib\\\\site-packages\\\\requests\\\\__init__.py'>; Status code: 403\n",
      "4371\n",
      "{'http': 'http://3.211.17.212:', 'https': 'https://3.211.17.212:'}\n"
     ]
    },
    {
     "name": "stderr",
     "output_type": "stream",
     "text": [
      "\r",
      " 13%|██████████▍                                                                       | 12/94 [00:02<00:12,  6.39it/s]"
     ]
    },
    {
     "name": "stdout",
     "output_type": "stream",
     "text": [
      "Request: <module 'requests' from 'C:\\\\Users\\\\nguye\\\\anaconda3\\\\lib\\\\site-packages\\\\requests\\\\__init__.py'>; Status code: 403\n",
      "4372\n",
      "{'http': 'http://3.230.91.35:', 'https': 'https://3.230.91.35:'}\n",
      "Request: <module 'requests' from 'C:\\\\Users\\\\nguye\\\\anaconda3\\\\lib\\\\site-packages\\\\requests\\\\__init__.py'>; Status code: 403\n",
      "4373\n"
     ]
    },
    {
     "name": "stderr",
     "output_type": "stream",
     "text": [
      " 15%|████████████▏                                                                     | 14/94 [00:02<00:13,  5.78it/s]"
     ]
    },
    {
     "name": "stdout",
     "output_type": "stream",
     "text": [
      "{'http': 'http://63.161.104.189:', 'https': 'https://63.161.104.189:'}\n",
      "Request: <module 'requests' from 'C:\\\\Users\\\\nguye\\\\anaconda3\\\\lib\\\\site-packages\\\\requests\\\\__init__.py'>; Status code: 403\n",
      "4374\n"
     ]
    },
    {
     "name": "stderr",
     "output_type": "stream",
     "text": [
      "\r",
      " 16%|█████████████                                                                     | 15/94 [00:02<00:13,  5.84it/s]"
     ]
    },
    {
     "name": "stdout",
     "output_type": "stream",
     "text": [
      "{'http': 'http://47.252.82.135:', 'https': 'https://47.252.82.135:'}\n",
      "Request: <module 'requests' from 'C:\\\\Users\\\\nguye\\\\anaconda3\\\\lib\\\\site-packages\\\\requests\\\\__init__.py'>; Status code: 403\n",
      "4375\n",
      "{'http': 'http://47.252.82.135:', 'https': 'https://47.252.82.135:'}\n"
     ]
    },
    {
     "name": "stderr",
     "output_type": "stream",
     "text": [
      " 18%|██████████████▊                                                                   | 17/94 [00:02<00:12,  5.97it/s]"
     ]
    },
    {
     "name": "stdout",
     "output_type": "stream",
     "text": [
      "Request: <module 'requests' from 'C:\\\\Users\\\\nguye\\\\anaconda3\\\\lib\\\\site-packages\\\\requests\\\\__init__.py'>; Status code: 403\n",
      "4376\n",
      "{'http': 'http://192.155.107.60:', 'https': 'https://192.155.107.60:'}\n",
      "Request: <module 'requests' from 'C:\\\\Users\\\\nguye\\\\anaconda3\\\\lib\\\\site-packages\\\\requests\\\\__init__.py'>; Status code: 403\n",
      "4377\n",
      "{'http': 'http://192.155.107.60:', 'https': 'https://192.155.107.60:'}\n"
     ]
    },
    {
     "name": "stderr",
     "output_type": "stream",
     "text": [
      " 20%|████████████████▌                                                                 | 19/94 [00:03<00:11,  6.59it/s]"
     ]
    },
    {
     "name": "stdout",
     "output_type": "stream",
     "text": [
      "Request: <module 'requests' from 'C:\\\\Users\\\\nguye\\\\anaconda3\\\\lib\\\\site-packages\\\\requests\\\\__init__.py'>; Status code: 403\n",
      "4378\n",
      "{'http': 'http://192.155.107.60:', 'https': 'https://192.155.107.60:'}\n",
      "Request: <module 'requests' from 'C:\\\\Users\\\\nguye\\\\anaconda3\\\\lib\\\\site-packages\\\\requests\\\\__init__.py'>; Status code: 403\n",
      "4379\n",
      "{'http': 'http://20.47.108.204:8888', 'https': 'https://20.47.108.204:8888'}\n"
     ]
    },
    {
     "name": "stderr",
     "output_type": "stream",
     "text": [
      " 22%|██████████████████▎                                                               | 21/94 [00:03<00:10,  6.84it/s]"
     ]
    },
    {
     "name": "stdout",
     "output_type": "stream",
     "text": [
      "Request: <module 'requests' from 'C:\\\\Users\\\\nguye\\\\anaconda3\\\\lib\\\\site-packages\\\\requests\\\\__init__.py'>; Status code: 403\n",
      "4380\n",
      "{'http': 'http://52.168.34.113:', 'https': 'https://52.168.34.113:'}\n",
      "Request: <module 'requests' from 'C:\\\\Users\\\\nguye\\\\anaconda3\\\\lib\\\\site-packages\\\\requests\\\\__init__.py'>; Status code: 403\n",
      "4381\n",
      "{'http': 'http://64.227.62.123:', 'https': 'https://64.227.62.123:'}\n"
     ]
    },
    {
     "name": "stderr",
     "output_type": "stream",
     "text": [
      " 24%|████████████████████                                                              | 23/94 [00:03<00:09,  7.27it/s]"
     ]
    },
    {
     "name": "stdout",
     "output_type": "stream",
     "text": [
      "Request: <module 'requests' from 'C:\\\\Users\\\\nguye\\\\anaconda3\\\\lib\\\\site-packages\\\\requests\\\\__init__.py'>; Status code: 403\n",
      "4382\n",
      "{'http': 'http://159.65.69.186:9300', 'https': 'https://159.65.69.186:9300'}\n",
      "Request: <module 'requests' from 'C:\\\\Users\\\\nguye\\\\anaconda3\\\\lib\\\\site-packages\\\\requests\\\\__init__.py'>; Status code: 403\n",
      "4383\n",
      "{'http': 'http://72.47.152.224:55443', 'https': 'https://72.47.152.224:55443'}\n"
     ]
    },
    {
     "name": "stderr",
     "output_type": "stream",
     "text": [
      " 27%|█████████████████████▊                                                            | 25/94 [00:04<00:10,  6.58it/s]"
     ]
    },
    {
     "name": "stdout",
     "output_type": "stream",
     "text": [
      "Request: <module 'requests' from 'C:\\\\Users\\\\nguye\\\\anaconda3\\\\lib\\\\site-packages\\\\requests\\\\__init__.py'>; Status code: 403\n",
      "4384\n",
      "{'http': 'http://204.16.1.169:82', 'https': 'https://204.16.1.169:82'}\n",
      "Request: <module 'requests' from 'C:\\\\Users\\\\nguye\\\\anaconda3\\\\lib\\\\site-packages\\\\requests\\\\__init__.py'>; Status code: 403\n",
      "4385\n",
      "{'http': 'http://63.161.104.189:', 'https': 'https://63.161.104.189:'}\n"
     ]
    },
    {
     "name": "stderr",
     "output_type": "stream",
     "text": [
      " 29%|███████████████████████▌                                                          | 27/94 [00:04<00:11,  5.75it/s]"
     ]
    },
    {
     "name": "stdout",
     "output_type": "stream",
     "text": [
      "Request: <module 'requests' from 'C:\\\\Users\\\\nguye\\\\anaconda3\\\\lib\\\\site-packages\\\\requests\\\\__init__.py'>; Status code: 403\n",
      "4386\n",
      "{'http': 'http://76.81.164.246:', 'https': 'https://76.81.164.246:'}\n",
      "Request: <module 'requests' from 'C:\\\\Users\\\\nguye\\\\anaconda3\\\\lib\\\\site-packages\\\\requests\\\\__init__.py'>; Status code: 403\n",
      "4387\n"
     ]
    },
    {
     "name": "stderr",
     "output_type": "stream",
     "text": [
      "\r",
      " 30%|████████████████████████▍                                                         | 28/94 [00:04<00:11,  5.85it/s]"
     ]
    },
    {
     "name": "stdout",
     "output_type": "stream",
     "text": [
      "{'http': 'http://173.196.205.170:', 'https': 'https://173.196.205.170:'}\n",
      "Request: <module 'requests' from 'C:\\\\Users\\\\nguye\\\\anaconda3\\\\lib\\\\site-packages\\\\requests\\\\__init__.py'>; Status code: 403\n",
      "4388\n",
      "{'http': 'http://66.211.155.34:', 'https': 'https://66.211.155.34:'}\n"
     ]
    },
    {
     "name": "stderr",
     "output_type": "stream",
     "text": [
      " 32%|██████████████████████████▏                                                       | 30/94 [00:04<00:10,  5.92it/s]"
     ]
    },
    {
     "name": "stdout",
     "output_type": "stream",
     "text": [
      "Request: <module 'requests' from 'C:\\\\Users\\\\nguye\\\\anaconda3\\\\lib\\\\site-packages\\\\requests\\\\__init__.py'>; Status code: 403\n",
      "4389\n",
      "{'http': 'http://138.68.235.51:', 'https': 'https://138.68.235.51:'}\n",
      "Request: <module 'requests' from 'C:\\\\Users\\\\nguye\\\\anaconda3\\\\lib\\\\site-packages\\\\requests\\\\__init__.py'>; Status code: 403\n",
      "4390\n",
      "{'http': 'http://23.225.64.59:1089', 'https': 'https://23.225.64.59:1089'}\n"
     ]
    },
    {
     "name": "stderr",
     "output_type": "stream",
     "text": [
      " 34%|███████████████████████████▉                                                      | 32/94 [00:05<00:13,  4.54it/s]"
     ]
    },
    {
     "name": "stdout",
     "output_type": "stream",
     "text": [
      "Request: <module 'requests' from 'C:\\\\Users\\\\nguye\\\\anaconda3\\\\lib\\\\site-packages\\\\requests\\\\__init__.py'>; Status code: 403\n",
      "4391\n",
      "{'http': 'http://159.65.69.186:9300', 'https': 'https://159.65.69.186:9300'}\n",
      "Request: <module 'requests' from 'C:\\\\Users\\\\nguye\\\\anaconda3\\\\lib\\\\site-packages\\\\requests\\\\__init__.py'>; Status code: 403\n",
      "4392\n",
      "{'http': 'http://12.151.56.30:', 'https': 'https://12.151.56.30:'}\n"
     ]
    },
    {
     "name": "stderr",
     "output_type": "stream",
     "text": [
      " 36%|█████████████████████████████▋                                                    | 34/94 [00:05<00:10,  5.60it/s]"
     ]
    },
    {
     "name": "stdout",
     "output_type": "stream",
     "text": [
      "Request: <module 'requests' from 'C:\\\\Users\\\\nguye\\\\anaconda3\\\\lib\\\\site-packages\\\\requests\\\\__init__.py'>; Status code: 403\n",
      "4393\n",
      "{'http': 'http://186.233.186.60:', 'https': 'https://186.233.186.60:'}\n",
      "Request: <module 'requests' from 'C:\\\\Users\\\\nguye\\\\anaconda3\\\\lib\\\\site-packages\\\\requests\\\\__init__.py'>; Status code: 403\n",
      "4394\n",
      "{'http': 'http://159.65.69.186:9300', 'https': 'https://159.65.69.186:9300'}\n"
     ]
    },
    {
     "name": "stderr",
     "output_type": "stream",
     "text": [
      " 38%|███████████████████████████████▍                                                  | 36/94 [00:06<00:10,  5.60it/s]"
     ]
    },
    {
     "name": "stdout",
     "output_type": "stream",
     "text": [
      "Request: <module 'requests' from 'C:\\\\Users\\\\nguye\\\\anaconda3\\\\lib\\\\site-packages\\\\requests\\\\__init__.py'>; Status code: 403\n",
      "4395\n",
      "{'http': 'http://216.169.73.65:34679', 'https': 'https://216.169.73.65:34679'}\n",
      "Request: <module 'requests' from 'C:\\\\Users\\\\nguye\\\\anaconda3\\\\lib\\\\site-packages\\\\requests\\\\__init__.py'>; Status code: 403\n",
      "4396\n",
      "{'http': 'http://173.196.205.170:', 'https': 'https://173.196.205.170:'}\n"
     ]
    },
    {
     "name": "stderr",
     "output_type": "stream",
     "text": [
      " 40%|█████████████████████████████████▏                                                | 38/94 [00:06<00:10,  5.29it/s]"
     ]
    },
    {
     "name": "stdout",
     "output_type": "stream",
     "text": [
      "Request: <module 'requests' from 'C:\\\\Users\\\\nguye\\\\anaconda3\\\\lib\\\\site-packages\\\\requests\\\\__init__.py'>; Status code: 403\n",
      "4397\n",
      "{'http': 'http://63.161.104.189:', 'https': 'https://63.161.104.189:'}\n",
      "Request: <module 'requests' from 'C:\\\\Users\\\\nguye\\\\anaconda3\\\\lib\\\\site-packages\\\\requests\\\\__init__.py'>; Status code: 403\n",
      "4398\n"
     ]
    },
    {
     "name": "stderr",
     "output_type": "stream",
     "text": [
      "\r",
      " 41%|██████████████████████████████████                                                | 39/94 [00:06<00:10,  5.33it/s]"
     ]
    },
    {
     "name": "stdout",
     "output_type": "stream",
     "text": [
      "{'http': 'http://3.217.161.14:', 'https': 'https://3.217.161.14:'}\n",
      "Request: <module 'requests' from 'C:\\\\Users\\\\nguye\\\\anaconda3\\\\lib\\\\site-packages\\\\requests\\\\__init__.py'>; Status code: 403\n",
      "4399\n",
      "{'http': 'http://138.68.235.51:', 'https': 'https://138.68.235.51:'}\n"
     ]
    },
    {
     "name": "stderr",
     "output_type": "stream",
     "text": [
      " 44%|███████████████████████████████████▊                                              | 41/94 [00:07<00:09,  5.59it/s]"
     ]
    },
    {
     "name": "stdout",
     "output_type": "stream",
     "text": [
      "Request: <module 'requests' from 'C:\\\\Users\\\\nguye\\\\anaconda3\\\\lib\\\\site-packages\\\\requests\\\\__init__.py'>; Status code: 403\n",
      "4400\n",
      "{'http': 'http://3.217.161.14:', 'https': 'https://3.217.161.14:'}\n",
      "Request: <module 'requests' from 'C:\\\\Users\\\\nguye\\\\anaconda3\\\\lib\\\\site-packages\\\\requests\\\\__init__.py'>; Status code: 403\n",
      "4401\n",
      "{'http': 'http://52.168.34.113:', 'https': 'https://52.168.34.113:'}\n"
     ]
    },
    {
     "name": "stderr",
     "output_type": "stream",
     "text": [
      " 46%|█████████████████████████████████████▌                                            | 43/94 [00:07<00:08,  6.06it/s]"
     ]
    },
    {
     "name": "stdout",
     "output_type": "stream",
     "text": [
      "Request: <module 'requests' from 'C:\\\\Users\\\\nguye\\\\anaconda3\\\\lib\\\\site-packages\\\\requests\\\\__init__.py'>; Status code: 403\n",
      "4402\n",
      "{'http': 'http://3.230.91.35:', 'https': 'https://3.230.91.35:'}\n",
      "Request: <module 'requests' from 'C:\\\\Users\\\\nguye\\\\anaconda3\\\\lib\\\\site-packages\\\\requests\\\\__init__.py'>; Status code: 403\n",
      "4403\n",
      "{'http': 'http://23.225.64.59:1089', 'https': 'https://23.225.64.59:1089'}\n"
     ]
    },
    {
     "name": "stderr",
     "output_type": "stream",
     "text": [
      " 48%|███████████████████████████████████████▎                                          | 45/94 [00:07<00:07,  6.31it/s]"
     ]
    },
    {
     "name": "stdout",
     "output_type": "stream",
     "text": [
      "Request: <module 'requests' from 'C:\\\\Users\\\\nguye\\\\anaconda3\\\\lib\\\\site-packages\\\\requests\\\\__init__.py'>; Status code: 403\n",
      "4404\n",
      "{'http': 'http://161.35.4.201:', 'https': 'https://161.35.4.201:'}\n",
      "Request: <module 'requests' from 'C:\\\\Users\\\\nguye\\\\anaconda3\\\\lib\\\\site-packages\\\\requests\\\\__init__.py'>; Status code: 403\n",
      "4405\n",
      "{'http': 'http://204.16.1.169:82', 'https': 'https://204.16.1.169:82'}\n"
     ]
    },
    {
     "name": "stderr",
     "output_type": "stream",
     "text": [
      " 50%|█████████████████████████████████████████                                         | 47/94 [00:08<00:07,  6.50it/s]"
     ]
    },
    {
     "name": "stdout",
     "output_type": "stream",
     "text": [
      "Request: <module 'requests' from 'C:\\\\Users\\\\nguye\\\\anaconda3\\\\lib\\\\site-packages\\\\requests\\\\__init__.py'>; Status code: 403\n",
      "4406\n",
      "{'http': 'http://52.168.34.113:', 'https': 'https://52.168.34.113:'}\n",
      "Request: <module 'requests' from 'C:\\\\Users\\\\nguye\\\\anaconda3\\\\lib\\\\site-packages\\\\requests\\\\__init__.py'>; Status code: 403\n",
      "4407\n",
      "{'http': 'http://173.196.205.170:', 'https': 'https://173.196.205.170:'}\n"
     ]
    },
    {
     "name": "stderr",
     "output_type": "stream",
     "text": [
      "\r",
      " 51%|█████████████████████████████████████████▊                                        | 48/94 [00:08<00:07,  6.47it/s]"
     ]
    },
    {
     "name": "stdout",
     "output_type": "stream",
     "text": [
      "Request: <module 'requests' from 'C:\\\\Users\\\\nguye\\\\anaconda3\\\\lib\\\\site-packages\\\\requests\\\\__init__.py'>; Status code: 403\n",
      "4408\n",
      "{'http': 'http://12.151.56.30:', 'https': 'https://12.151.56.30:'}\n"
     ]
    },
    {
     "name": "stderr",
     "output_type": "stream",
     "text": [
      " 53%|███████████████████████████████████████████▌                                      | 50/94 [00:08<00:07,  5.69it/s]"
     ]
    },
    {
     "name": "stdout",
     "output_type": "stream",
     "text": [
      "Request: <module 'requests' from 'C:\\\\Users\\\\nguye\\\\anaconda3\\\\lib\\\\site-packages\\\\requests\\\\__init__.py'>; Status code: 403\n",
      "4409\n",
      "{'http': 'http://47.252.82.135:', 'https': 'https://47.252.82.135:'}\n",
      "Request: <module 'requests' from 'C:\\\\Users\\\\nguye\\\\anaconda3\\\\lib\\\\site-packages\\\\requests\\\\__init__.py'>; Status code: 403\n",
      "4410\n",
      "{'http': 'http://47.89.153.213:', 'https': 'https://47.89.153.213:'}\n"
     ]
    },
    {
     "name": "stderr",
     "output_type": "stream",
     "text": [
      " 55%|█████████████████████████████████████████████▎                                    | 52/94 [00:08<00:07,  5.93it/s]"
     ]
    },
    {
     "name": "stdout",
     "output_type": "stream",
     "text": [
      "Request: <module 'requests' from 'C:\\\\Users\\\\nguye\\\\anaconda3\\\\lib\\\\site-packages\\\\requests\\\\__init__.py'>; Status code: 403\n",
      "4411\n",
      "{'http': 'http://3.217.161.14:', 'https': 'https://3.217.161.14:'}\n",
      "Request: <module 'requests' from 'C:\\\\Users\\\\nguye\\\\anaconda3\\\\lib\\\\site-packages\\\\requests\\\\__init__.py'>; Status code: 403\n",
      "4412\n",
      "{'http': 'http://63.161.104.189:', 'https': 'https://63.161.104.189:'}\n"
     ]
    },
    {
     "name": "stderr",
     "output_type": "stream",
     "text": [
      " 57%|███████████████████████████████████████████████                                   | 54/94 [00:09<00:06,  6.42it/s]"
     ]
    },
    {
     "name": "stdout",
     "output_type": "stream",
     "text": [
      "Request: <module 'requests' from 'C:\\\\Users\\\\nguye\\\\anaconda3\\\\lib\\\\site-packages\\\\requests\\\\__init__.py'>; Status code: 403\n",
      "4413\n",
      "{'http': 'http://161.35.4.201:', 'https': 'https://161.35.4.201:'}\n",
      "Request: <module 'requests' from 'C:\\\\Users\\\\nguye\\\\anaconda3\\\\lib\\\\site-packages\\\\requests\\\\__init__.py'>; Status code: 403\n",
      "4414\n",
      "{'http': 'http://104.192.202.11:', 'https': 'https://104.192.202.11:'}\n"
     ]
    },
    {
     "name": "stderr",
     "output_type": "stream",
     "text": [
      " 60%|████████████████████████████████████████████████▊                                 | 56/94 [00:09<00:05,  6.77it/s]"
     ]
    },
    {
     "name": "stdout",
     "output_type": "stream",
     "text": [
      "Request: <module 'requests' from 'C:\\\\Users\\\\nguye\\\\anaconda3\\\\lib\\\\site-packages\\\\requests\\\\__init__.py'>; Status code: 403\n",
      "4415\n",
      "{'http': 'http://154.85.35.235:8888', 'https': 'https://154.85.35.235:8888'}\n",
      "Request: <module 'requests' from 'C:\\\\Users\\\\nguye\\\\anaconda3\\\\lib\\\\site-packages\\\\requests\\\\__init__.py'>; Status code: 403\n",
      "4416\n",
      "{'http': 'http://54.244.204.46:', 'https': 'https://54.244.204.46:'}\n"
     ]
    },
    {
     "name": "stderr",
     "output_type": "stream",
     "text": [
      " 62%|██████████████████████████████████████████████████▌                               | 58/94 [00:09<00:05,  6.62it/s]"
     ]
    },
    {
     "name": "stdout",
     "output_type": "stream",
     "text": [
      "Request: <module 'requests' from 'C:\\\\Users\\\\nguye\\\\anaconda3\\\\lib\\\\site-packages\\\\requests\\\\__init__.py'>; Status code: 403\n",
      "4417\n",
      "{'http': 'http://47.88.7.115:3129', 'https': 'https://47.88.7.115:3129'}\n",
      "Request: <module 'requests' from 'C:\\\\Users\\\\nguye\\\\anaconda3\\\\lib\\\\site-packages\\\\requests\\\\__init__.py'>; Status code: 403\n",
      "4418\n",
      "{'http': 'http://47.88.7.115:3129', 'https': 'https://47.88.7.115:3129'}\n"
     ]
    },
    {
     "name": "stderr",
     "output_type": "stream",
     "text": [
      " 64%|████████████████████████████████████████████████████▎                             | 60/94 [00:10<00:04,  6.86it/s]"
     ]
    },
    {
     "name": "stdout",
     "output_type": "stream",
     "text": [
      "Request: <module 'requests' from 'C:\\\\Users\\\\nguye\\\\anaconda3\\\\lib\\\\site-packages\\\\requests\\\\__init__.py'>; Status code: 403\n",
      "4419\n",
      "{'http': 'http://47.89.153.213:', 'https': 'https://47.89.153.213:'}\n",
      "Request: <module 'requests' from 'C:\\\\Users\\\\nguye\\\\anaconda3\\\\lib\\\\site-packages\\\\requests\\\\__init__.py'>; Status code: 403\n",
      "4420\n",
      "{'http': 'http://138.68.235.51:', 'https': 'https://138.68.235.51:'}\n"
     ]
    },
    {
     "name": "stderr",
     "output_type": "stream",
     "text": [
      "\r",
      " 65%|█████████████████████████████████████████████████████▏                            | 61/94 [00:10<00:05,  6.02it/s]"
     ]
    },
    {
     "name": "stdout",
     "output_type": "stream",
     "text": [
      "Request: <module 'requests' from 'C:\\\\Users\\\\nguye\\\\anaconda3\\\\lib\\\\site-packages\\\\requests\\\\__init__.py'>; Status code: 403\n",
      "4421\n",
      "{'http': 'http://12.151.56.30:', 'https': 'https://12.151.56.30:'}\n"
     ]
    },
    {
     "name": "stderr",
     "output_type": "stream",
     "text": [
      " 67%|██████████████████████████████████████████████████████▉                           | 63/94 [00:10<00:06,  4.89it/s]"
     ]
    },
    {
     "name": "stdout",
     "output_type": "stream",
     "text": [
      "Request: <module 'requests' from 'C:\\\\Users\\\\nguye\\\\anaconda3\\\\lib\\\\site-packages\\\\requests\\\\__init__.py'>; Status code: 403\n",
      "4422\n",
      "{'http': 'http://3.230.91.35:', 'https': 'https://3.230.91.35:'}\n",
      "Request: <module 'requests' from 'C:\\\\Users\\\\nguye\\\\anaconda3\\\\lib\\\\site-packages\\\\requests\\\\__init__.py'>; Status code: 403\n",
      "4423\n"
     ]
    },
    {
     "name": "stderr",
     "output_type": "stream",
     "text": [
      "\r",
      " 68%|███████████████████████████████████████████████████████▊                          | 64/94 [00:10<00:05,  5.28it/s]"
     ]
    },
    {
     "name": "stdout",
     "output_type": "stream",
     "text": [
      "{'http': 'http://72.47.152.224:55443', 'https': 'https://72.47.152.224:55443'}\n",
      "Request: <module 'requests' from 'C:\\\\Users\\\\nguye\\\\anaconda3\\\\lib\\\\site-packages\\\\requests\\\\__init__.py'>; Status code: 403\n",
      "4424\n",
      "{'http': 'http://3.217.161.14:', 'https': 'https://3.217.161.14:'}\n"
     ]
    },
    {
     "name": "stderr",
     "output_type": "stream",
     "text": [
      " 70%|█████████████████████████████████████████████████████████▌                        | 66/94 [00:11<00:05,  5.60it/s]"
     ]
    },
    {
     "name": "stdout",
     "output_type": "stream",
     "text": [
      "Request: <module 'requests' from 'C:\\\\Users\\\\nguye\\\\anaconda3\\\\lib\\\\site-packages\\\\requests\\\\__init__.py'>; Status code: 403\n",
      "4425\n",
      "{'http': 'http://3.230.91.35:', 'https': 'https://3.230.91.35:'}\n",
      "Request: <module 'requests' from 'C:\\\\Users\\\\nguye\\\\anaconda3\\\\lib\\\\site-packages\\\\requests\\\\__init__.py'>; Status code: 403\n",
      "4426\n",
      "{'http': 'http://74.205.128.200:', 'https': 'https://74.205.128.200:'}\n"
     ]
    },
    {
     "name": "stderr",
     "output_type": "stream",
     "text": [
      " 72%|███████████████████████████████████████████████████████████▎                      | 68/94 [00:11<00:04,  5.97it/s]"
     ]
    },
    {
     "name": "stdout",
     "output_type": "stream",
     "text": [
      "Request: <module 'requests' from 'C:\\\\Users\\\\nguye\\\\anaconda3\\\\lib\\\\site-packages\\\\requests\\\\__init__.py'>; Status code: 403\n",
      "4427\n",
      "{'http': 'http://104.192.202.11:', 'https': 'https://104.192.202.11:'}\n",
      "Request: <module 'requests' from 'C:\\\\Users\\\\nguye\\\\anaconda3\\\\lib\\\\site-packages\\\\requests\\\\__init__.py'>; Status code: 403\n",
      "4428\n",
      "{'http': 'http://47.252.82.135:', 'https': 'https://47.252.82.135:'}\n"
     ]
    },
    {
     "name": "stderr",
     "output_type": "stream",
     "text": [
      " 74%|█████████████████████████████████████████████████████████████                     | 70/94 [00:11<00:03,  6.09it/s]"
     ]
    },
    {
     "name": "stdout",
     "output_type": "stream",
     "text": [
      "Request: <module 'requests' from 'C:\\\\Users\\\\nguye\\\\anaconda3\\\\lib\\\\site-packages\\\\requests\\\\__init__.py'>; Status code: 403\n",
      "4429\n",
      "{'http': 'http://154.85.35.235:8888', 'https': 'https://154.85.35.235:8888'}\n",
      "Request: <module 'requests' from 'C:\\\\Users\\\\nguye\\\\anaconda3\\\\lib\\\\site-packages\\\\requests\\\\__init__.py'>; Status code: 403\n",
      "4430\n",
      "{'http': 'http://66.211.155.34:', 'https': 'https://66.211.155.34:'}\n"
     ]
    },
    {
     "name": "stderr",
     "output_type": "stream",
     "text": [
      "\r",
      " 76%|█████████████████████████████████████████████████████████████▉                    | 71/94 [00:12<00:03,  5.85it/s]"
     ]
    },
    {
     "name": "stdout",
     "output_type": "stream",
     "text": [
      "Request: <module 'requests' from 'C:\\\\Users\\\\nguye\\\\anaconda3\\\\lib\\\\site-packages\\\\requests\\\\__init__.py'>; Status code: 403\n",
      "4431\n",
      "{'http': 'http://192.155.107.59:', 'https': 'https://192.155.107.59:'}\n"
     ]
    },
    {
     "name": "stderr",
     "output_type": "stream",
     "text": [
      " 78%|███████████████████████████████████████████████████████████████▋                  | 73/94 [00:12<00:04,  5.05it/s]"
     ]
    },
    {
     "name": "stdout",
     "output_type": "stream",
     "text": [
      "Request: <module 'requests' from 'C:\\\\Users\\\\nguye\\\\anaconda3\\\\lib\\\\site-packages\\\\requests\\\\__init__.py'>; Status code: 403\n",
      "4432\n",
      "{'http': 'http://104.192.202.11:', 'https': 'https://104.192.202.11:'}\n",
      "Request: <module 'requests' from 'C:\\\\Users\\\\nguye\\\\anaconda3\\\\lib\\\\site-packages\\\\requests\\\\__init__.py'>; Status code: 403\n",
      "4433\n"
     ]
    },
    {
     "name": "stderr",
     "output_type": "stream",
     "text": [
      "\r",
      " 79%|████████████████████████████████████████████████████████████████▌                 | 74/94 [00:12<00:03,  5.12it/s]"
     ]
    },
    {
     "name": "stdout",
     "output_type": "stream",
     "text": [
      "{'http': 'http://23.225.64.59:1089', 'https': 'https://23.225.64.59:1089'}\n",
      "Request: <module 'requests' from 'C:\\\\Users\\\\nguye\\\\anaconda3\\\\lib\\\\site-packages\\\\requests\\\\__init__.py'>; Status code: 403\n",
      "4434\n"
     ]
    },
    {
     "name": "stderr",
     "output_type": "stream",
     "text": [
      "\r",
      " 80%|█████████████████████████████████████████████████████████████████▍                | 75/94 [00:12<00:03,  5.42it/s]"
     ]
    },
    {
     "name": "stdout",
     "output_type": "stream",
     "text": [
      "{'http': 'http://204.16.1.169:82', 'https': 'https://204.16.1.169:82'}\n",
      "Request: <module 'requests' from 'C:\\\\Users\\\\nguye\\\\anaconda3\\\\lib\\\\site-packages\\\\requests\\\\__init__.py'>; Status code: 403\n",
      "4435\n",
      "{'http': 'http://47.89.153.213:', 'https': 'https://47.89.153.213:'}\n"
     ]
    },
    {
     "name": "stderr",
     "output_type": "stream",
     "text": [
      " 82%|███████████████████████████████████████████████████████████████████▏              | 77/94 [00:13<00:02,  5.82it/s]"
     ]
    },
    {
     "name": "stdout",
     "output_type": "stream",
     "text": [
      "Request: <module 'requests' from 'C:\\\\Users\\\\nguye\\\\anaconda3\\\\lib\\\\site-packages\\\\requests\\\\__init__.py'>; Status code: 403\n",
      "4436\n",
      "{'http': 'http://3.211.17.212:', 'https': 'https://3.211.17.212:'}\n",
      "Request: <module 'requests' from 'C:\\\\Users\\\\nguye\\\\anaconda3\\\\lib\\\\site-packages\\\\requests\\\\__init__.py'>; Status code: 403\n",
      "4437\n",
      "{'http': 'http://54.244.204.46:', 'https': 'https://54.244.204.46:'}\n"
     ]
    },
    {
     "name": "stderr",
     "output_type": "stream",
     "text": [
      " 84%|████████████████████████████████████████████████████████████████████▉             | 79/94 [00:13<00:02,  6.24it/s]"
     ]
    },
    {
     "name": "stdout",
     "output_type": "stream",
     "text": [
      "Request: <module 'requests' from 'C:\\\\Users\\\\nguye\\\\anaconda3\\\\lib\\\\site-packages\\\\requests\\\\__init__.py'>; Status code: 403\n",
      "4438\n",
      "{'http': 'http://54.244.204.46:', 'https': 'https://54.244.204.46:'}\n",
      "Request: <module 'requests' from 'C:\\\\Users\\\\nguye\\\\anaconda3\\\\lib\\\\site-packages\\\\requests\\\\__init__.py'>; Status code: 403\n",
      "4439\n",
      "{'http': 'http://208.72.154.111:8888', 'https': 'https://208.72.154.111:8888'}\n"
     ]
    },
    {
     "name": "stderr",
     "output_type": "stream",
     "text": [
      " 86%|██████████████████████████████████████████████████████████████████████▋           | 81/94 [00:13<00:02,  6.38it/s]"
     ]
    },
    {
     "name": "stdout",
     "output_type": "stream",
     "text": [
      "Request: <module 'requests' from 'C:\\\\Users\\\\nguye\\\\anaconda3\\\\lib\\\\site-packages\\\\requests\\\\__init__.py'>; Status code: 403\n",
      "4440\n",
      "{'http': 'http://216.169.73.65:34679', 'https': 'https://216.169.73.65:34679'}\n",
      "Request: <module 'requests' from 'C:\\\\Users\\\\nguye\\\\anaconda3\\\\lib\\\\site-packages\\\\requests\\\\__init__.py'>; Status code: 403\n",
      "4441\n",
      "{'http': 'http://47.89.153.213:', 'https': 'https://47.89.153.213:'}\n"
     ]
    },
    {
     "name": "stderr",
     "output_type": "stream",
     "text": [
      "\r",
      " 87%|███████████████████████████████████████████████████████████████████████▌          | 82/94 [00:13<00:01,  6.27it/s]"
     ]
    },
    {
     "name": "stdout",
     "output_type": "stream",
     "text": [
      "Request: <module 'requests' from 'C:\\\\Users\\\\nguye\\\\anaconda3\\\\lib\\\\site-packages\\\\requests\\\\__init__.py'>; Status code: 403\n",
      "4442\n",
      "{'http': 'http://54.244.204.46:', 'https': 'https://54.244.204.46:'}\n"
     ]
    },
    {
     "name": "stderr",
     "output_type": "stream",
     "text": [
      "\r",
      " 88%|████████████████████████████████████████████████████████████████████████▍         | 83/94 [00:14<00:02,  5.43it/s]"
     ]
    },
    {
     "name": "stdout",
     "output_type": "stream",
     "text": [
      "Request: <module 'requests' from 'C:\\\\Users\\\\nguye\\\\anaconda3\\\\lib\\\\site-packages\\\\requests\\\\__init__.py'>; Status code: 403\n",
      "4443\n",
      "{'http': 'http://138.68.235.51:', 'https': 'https://138.68.235.51:'}\n"
     ]
    },
    {
     "name": "stderr",
     "output_type": "stream",
     "text": [
      " 90%|██████████████████████████████████████████████████████████████████████████▏       | 85/94 [00:14<00:01,  4.67it/s]"
     ]
    },
    {
     "name": "stdout",
     "output_type": "stream",
     "text": [
      "Request: <module 'requests' from 'C:\\\\Users\\\\nguye\\\\anaconda3\\\\lib\\\\site-packages\\\\requests\\\\__init__.py'>; Status code: 403\n",
      "4444\n",
      "{'http': 'http://47.252.82.135:', 'https': 'https://47.252.82.135:'}\n",
      "Request: <module 'requests' from 'C:\\\\Users\\\\nguye\\\\anaconda3\\\\lib\\\\site-packages\\\\requests\\\\__init__.py'>; Status code: 403\n",
      "4445\n",
      "{'http': 'http://47.252.82.135:', 'https': 'https://47.252.82.135:'}\n"
     ]
    },
    {
     "name": "stderr",
     "output_type": "stream",
     "text": [
      " 93%|███████████████████████████████████████████████████████████████████████████▉      | 87/94 [00:15<00:01,  5.43it/s]"
     ]
    },
    {
     "name": "stdout",
     "output_type": "stream",
     "text": [
      "Request: <module 'requests' from 'C:\\\\Users\\\\nguye\\\\anaconda3\\\\lib\\\\site-packages\\\\requests\\\\__init__.py'>; Status code: 403\n",
      "4446\n",
      "{'http': 'http://63.161.104.189:', 'https': 'https://63.161.104.189:'}\n",
      "Request: <module 'requests' from 'C:\\\\Users\\\\nguye\\\\anaconda3\\\\lib\\\\site-packages\\\\requests\\\\__init__.py'>; Status code: 403\n",
      "4447\n",
      "{'http': 'http://208.72.154.111:8888', 'https': 'https://208.72.154.111:8888'}\n"
     ]
    },
    {
     "name": "stderr",
     "output_type": "stream",
     "text": [
      " 95%|█████████████████████████████████████████████████████████████████████████████▋    | 89/94 [00:15<00:00,  6.11it/s]"
     ]
    },
    {
     "name": "stdout",
     "output_type": "stream",
     "text": [
      "Request: <module 'requests' from 'C:\\\\Users\\\\nguye\\\\anaconda3\\\\lib\\\\site-packages\\\\requests\\\\__init__.py'>; Status code: 403\n",
      "4448\n",
      "{'http': 'http://66.211.155.34:', 'https': 'https://66.211.155.34:'}\n",
      "Request: <module 'requests' from 'C:\\\\Users\\\\nguye\\\\anaconda3\\\\lib\\\\site-packages\\\\requests\\\\__init__.py'>; Status code: 403\n",
      "4449\n",
      "{'http': 'http://50.235.149.74:', 'https': 'https://50.235.149.74:'}\n"
     ]
    },
    {
     "name": "stderr",
     "output_type": "stream",
     "text": [
      " 97%|███████████████████████████████████████████████████████████████████████████████▍  | 91/94 [00:15<00:00,  6.34it/s]"
     ]
    },
    {
     "name": "stdout",
     "output_type": "stream",
     "text": [
      "Request: <module 'requests' from 'C:\\\\Users\\\\nguye\\\\anaconda3\\\\lib\\\\site-packages\\\\requests\\\\__init__.py'>; Status code: 403\n",
      "4450\n",
      "{'http': 'http://47.89.153.213:', 'https': 'https://47.89.153.213:'}\n",
      "Request: <module 'requests' from 'C:\\\\Users\\\\nguye\\\\anaconda3\\\\lib\\\\site-packages\\\\requests\\\\__init__.py'>; Status code: 403\n",
      "4451\n",
      "{'http': 'http://50.235.149.74:', 'https': 'https://50.235.149.74:'}\n"
     ]
    },
    {
     "name": "stderr",
     "output_type": "stream",
     "text": [
      " 99%|█████████████████████████████████████████████████████████████████████████████████▏| 93/94 [00:15<00:00,  6.85it/s]"
     ]
    },
    {
     "name": "stdout",
     "output_type": "stream",
     "text": [
      "Request: <module 'requests' from 'C:\\\\Users\\\\nguye\\\\anaconda3\\\\lib\\\\site-packages\\\\requests\\\\__init__.py'>; Status code: 403\n",
      "4452\n",
      "{'http': 'http://3.230.91.35:', 'https': 'https://3.230.91.35:'}\n",
      "Request: <module 'requests' from 'C:\\\\Users\\\\nguye\\\\anaconda3\\\\lib\\\\site-packages\\\\requests\\\\__init__.py'>; Status code: 403\n",
      "4453\n",
      "{'http': 'http://54.244.204.46:', 'https': 'https://54.244.204.46:'}\n"
     ]
    },
    {
     "name": "stderr",
     "output_type": "stream",
     "text": [
      "100%|██████████████████████████████████████████████████████████████████████████████████| 94/94 [00:16<00:00,  5.82it/s]"
     ]
    },
    {
     "name": "stdout",
     "output_type": "stream",
     "text": [
      "Request: <module 'requests' from 'C:\\\\Users\\\\nguye\\\\anaconda3\\\\lib\\\\site-packages\\\\requests\\\\__init__.py'>; Status code: 403\n",
      "4454\n"
     ]
    },
    {
     "name": "stderr",
     "output_type": "stream",
     "text": [
      "\n"
     ]
    }
   ],
   "source": [
    "for city in tqdm(cities):\n",
    "    scrape(df, city)\n",
    "    sleep(2)"
   ]
  },
  {
   "cell_type": "code",
   "execution_count": null,
   "metadata": {},
   "outputs": [
    {
     "data": {
      "text/html": [
       "<div>\n",
       "<style scoped>\n",
       "    .dataframe tbody tr th:only-of-type {\n",
       "        vertical-align: middle;\n",
       "    }\n",
       "\n",
       "    .dataframe tbody tr th {\n",
       "        vertical-align: top;\n",
       "    }\n",
       "\n",
       "    .dataframe thead th {\n",
       "        text-align: right;\n",
       "    }\n",
       "</style>\n",
       "<table border=\"1\" class=\"dataframe\">\n",
       "  <thead>\n",
       "    <tr style=\"text-align: right;\">\n",
       "      <th></th>\n",
       "      <th>level_0</th>\n",
       "      <th>index</th>\n",
       "      <th>Price</th>\n",
       "      <th>Neighborhood</th>\n",
       "      <th>URL</th>\n",
       "      <th>Date</th>\n",
       "      <th>bicycle frame material</th>\n",
       "      <th>bicycle type</th>\n",
       "      <th>frame size</th>\n",
       "      <th>suspension</th>\n",
       "      <th>...</th>\n",
       "      <th>text</th>\n",
       "      <th>condition</th>\n",
       "      <th>electric assist</th>\n",
       "      <th>make / manufacturer</th>\n",
       "      <th>model name / number</th>\n",
       "      <th>brake type</th>\n",
       "      <th>handlebar type</th>\n",
       "      <th>part type</th>\n",
       "      <th>size / dimensions</th>\n",
       "      <th>serial number</th>\n",
       "    </tr>\n",
       "  </thead>\n",
       "  <tbody>\n",
       "    <tr>\n",
       "      <th>0</th>\n",
       "      <td>0</td>\n",
       "      <td>0</td>\n",
       "      <td>1900.0</td>\n",
       "      <td>(Hudson, FL)</td>\n",
       "      <td>https://newyork.craigslist.org/brk/bik/d/hudso...</td>\n",
       "      <td>2022-04-14 10:05</td>\n",
       "      <td>NaN</td>\n",
       "      <td>NaN</td>\n",
       "      <td>NaN</td>\n",
       "      <td>NaN</td>\n",
       "      <td>...</td>\n",
       "      <td>NaN</td>\n",
       "      <td>NaN</td>\n",
       "      <td>NaN</td>\n",
       "      <td>NaN</td>\n",
       "      <td>NaN</td>\n",
       "      <td>NaN</td>\n",
       "      <td>NaN</td>\n",
       "      <td>NaN</td>\n",
       "      <td>NaN</td>\n",
       "      <td>NaN</td>\n",
       "    </tr>\n",
       "    <tr>\n",
       "      <th>1</th>\n",
       "      <td>1</td>\n",
       "      <td>1</td>\n",
       "      <td>300.0</td>\n",
       "      <td>(Fairfield CT)</td>\n",
       "      <td>https://newyork.craigslist.org/fct/bik/d/fairf...</td>\n",
       "      <td>2022-04-14 10:05</td>\n",
       "      <td>NaN</td>\n",
       "      <td>NaN</td>\n",
       "      <td>NaN</td>\n",
       "      <td>NaN</td>\n",
       "      <td>...</td>\n",
       "      <td>NaN</td>\n",
       "      <td>NaN</td>\n",
       "      <td>NaN</td>\n",
       "      <td>NaN</td>\n",
       "      <td>NaN</td>\n",
       "      <td>NaN</td>\n",
       "      <td>NaN</td>\n",
       "      <td>NaN</td>\n",
       "      <td>NaN</td>\n",
       "      <td>NaN</td>\n",
       "    </tr>\n",
       "    <tr>\n",
       "      <th>2</th>\n",
       "      <td>2</td>\n",
       "      <td>2</td>\n",
       "      <td>190.0</td>\n",
       "      <td>(BROOKLYN)</td>\n",
       "      <td>https://newyork.craigslist.org/brk/bik/d/brook...</td>\n",
       "      <td>2022-04-14 10:01</td>\n",
       "      <td>NaN</td>\n",
       "      <td>NaN</td>\n",
       "      <td>NaN</td>\n",
       "      <td>NaN</td>\n",
       "      <td>...</td>\n",
       "      <td>NaN</td>\n",
       "      <td>NaN</td>\n",
       "      <td>NaN</td>\n",
       "      <td>NaN</td>\n",
       "      <td>NaN</td>\n",
       "      <td>NaN</td>\n",
       "      <td>NaN</td>\n",
       "      <td>NaN</td>\n",
       "      <td>NaN</td>\n",
       "      <td>NaN</td>\n",
       "    </tr>\n",
       "    <tr>\n",
       "      <th>3</th>\n",
       "      <td>3</td>\n",
       "      <td>3</td>\n",
       "      <td>250.0</td>\n",
       "      <td>(West Village)</td>\n",
       "      <td>https://newyork.craigslist.org/mnh/bik/d/new-y...</td>\n",
       "      <td>2022-04-14 08:25</td>\n",
       "      <td>NaN</td>\n",
       "      <td>NaN</td>\n",
       "      <td>NaN</td>\n",
       "      <td>NaN</td>\n",
       "      <td>...</td>\n",
       "      <td>NaN</td>\n",
       "      <td>NaN</td>\n",
       "      <td>NaN</td>\n",
       "      <td>NaN</td>\n",
       "      <td>NaN</td>\n",
       "      <td>NaN</td>\n",
       "      <td>NaN</td>\n",
       "      <td>NaN</td>\n",
       "      <td>NaN</td>\n",
       "      <td>NaN</td>\n",
       "    </tr>\n",
       "    <tr>\n",
       "      <th>4</th>\n",
       "      <td>4</td>\n",
       "      <td>4</td>\n",
       "      <td>800.0</td>\n",
       "      <td>(Brooklyn)</td>\n",
       "      <td>https://newyork.craigslist.org/brk/bik/d/brook...</td>\n",
       "      <td>2022-04-14 00:22</td>\n",
       "      <td>NaN</td>\n",
       "      <td>NaN</td>\n",
       "      <td>NaN</td>\n",
       "      <td>NaN</td>\n",
       "      <td>...</td>\n",
       "      <td>NaN</td>\n",
       "      <td>NaN</td>\n",
       "      <td>NaN</td>\n",
       "      <td>NaN</td>\n",
       "      <td>NaN</td>\n",
       "      <td>NaN</td>\n",
       "      <td>NaN</td>\n",
       "      <td>NaN</td>\n",
       "      <td>NaN</td>\n",
       "      <td>NaN</td>\n",
       "    </tr>\n",
       "    <tr>\n",
       "      <th>...</th>\n",
       "      <td>...</td>\n",
       "      <td>...</td>\n",
       "      <td>...</td>\n",
       "      <td>...</td>\n",
       "      <td>...</td>\n",
       "      <td>...</td>\n",
       "      <td>...</td>\n",
       "      <td>...</td>\n",
       "      <td>...</td>\n",
       "      <td>...</td>\n",
       "      <td>...</td>\n",
       "      <td>...</td>\n",
       "      <td>...</td>\n",
       "      <td>...</td>\n",
       "      <td>...</td>\n",
       "      <td>...</td>\n",
       "      <td>...</td>\n",
       "      <td>...</td>\n",
       "      <td>...</td>\n",
       "      <td>...</td>\n",
       "      <td>...</td>\n",
       "    </tr>\n",
       "    <tr>\n",
       "      <th>2933</th>\n",
       "      <td>2933</td>\n",
       "      <td>3113</td>\n",
       "      <td>999.0</td>\n",
       "      <td>(Financial District)</td>\n",
       "      <td>https://newyork.craigslist.org/mnh/bik/d/new-y...</td>\n",
       "      <td>2022-03-31 20:33</td>\n",
       "      <td>aluminum</td>\n",
       "      <td>bmx</td>\n",
       "      <td>ALL</td>\n",
       "      <td>NaN</td>\n",
       "      <td>...</td>\n",
       "      <td>The PK Ripper was the raddest, baddest, and mo...</td>\n",
       "      <td>new</td>\n",
       "      <td>NaN</td>\n",
       "      <td>NaN</td>\n",
       "      <td>NaN</td>\n",
       "      <td>NaN</td>\n",
       "      <td>NaN</td>\n",
       "      <td>NaN</td>\n",
       "      <td>NaN</td>\n",
       "      <td>NaN</td>\n",
       "    </tr>\n",
       "    <tr>\n",
       "      <th>2934</th>\n",
       "      <td>2934</td>\n",
       "      <td>3114</td>\n",
       "      <td>3850.0</td>\n",
       "      <td>(brooklyn)</td>\n",
       "      <td>https://newyork.craigslist.org/brk/bik/d/brook...</td>\n",
       "      <td>2022-03-31 15:54</td>\n",
       "      <td>steel</td>\n",
       "      <td>gravel</td>\n",
       "      <td>XL</td>\n",
       "      <td>NaN</td>\n",
       "      <td>...</td>\n",
       "      <td>I ordered this bike back in NOV.2020 with all ...</td>\n",
       "      <td>NaN</td>\n",
       "      <td>NaN</td>\n",
       "      <td>NaN</td>\n",
       "      <td>NaN</td>\n",
       "      <td>NaN</td>\n",
       "      <td>NaN</td>\n",
       "      <td>NaN</td>\n",
       "      <td>NaN</td>\n",
       "      <td>NaN</td>\n",
       "    </tr>\n",
       "    <tr>\n",
       "      <th>2935</th>\n",
       "      <td>2935</td>\n",
       "      <td>3115</td>\n",
       "      <td>125.0</td>\n",
       "      <td>(Garden City)</td>\n",
       "      <td>https://newyork.craigslist.org/lgi/bik/d/new-h...</td>\n",
       "      <td>2022-03-31 11:50</td>\n",
       "      <td>other/unknown</td>\n",
       "      <td>bmx</td>\n",
       "      <td>Medium</td>\n",
       "      <td>NaN</td>\n",
       "      <td>...</td>\n",
       "      <td>Haro F3 BMX-$175  Mongoose Racer X BMX-$175  T...</td>\n",
       "      <td>NaN</td>\n",
       "      <td>NaN</td>\n",
       "      <td>NaN</td>\n",
       "      <td>NaN</td>\n",
       "      <td>NaN</td>\n",
       "      <td>NaN</td>\n",
       "      <td>NaN</td>\n",
       "      <td>NaN</td>\n",
       "      <td>NaN</td>\n",
       "    </tr>\n",
       "    <tr>\n",
       "      <th>2936</th>\n",
       "      <td>2936</td>\n",
       "      <td>3116</td>\n",
       "      <td>190.0</td>\n",
       "      <td>(BROOKLYN)</td>\n",
       "      <td>https://newyork.craigslist.org/brk/bik/d/brook...</td>\n",
       "      <td>2022-03-31 11:35</td>\n",
       "      <td>other/unknown</td>\n",
       "      <td>track</td>\n",
       "      <td>54</td>\n",
       "      <td>NaN</td>\n",
       "      <td>...</td>\n",
       "      <td>Pick up in Brooklyn 11229 show contact info  N...</td>\n",
       "      <td>NaN</td>\n",
       "      <td>NaN</td>\n",
       "      <td>NaN</td>\n",
       "      <td>NaN</td>\n",
       "      <td>NaN</td>\n",
       "      <td>NaN</td>\n",
       "      <td>NaN</td>\n",
       "      <td>NaN</td>\n",
       "      <td>NaN</td>\n",
       "    </tr>\n",
       "    <tr>\n",
       "      <th>2937</th>\n",
       "      <td>2937</td>\n",
       "      <td>3119</td>\n",
       "      <td>250.0</td>\n",
       "      <td>(West Village)</td>\n",
       "      <td>https://newyork.craigslist.org/mnh/bik/d/new-y...</td>\n",
       "      <td>2022-03-31 08:58</td>\n",
       "      <td>steel</td>\n",
       "      <td>other</td>\n",
       "      <td>Medium</td>\n",
       "      <td>frame and fork (full suspension)</td>\n",
       "      <td>...</td>\n",
       "      <td>1 red mountain bike, 1 black single speed,  bl...</td>\n",
       "      <td>NaN</td>\n",
       "      <td>NaN</td>\n",
       "      <td>NaN</td>\n",
       "      <td>NaN</td>\n",
       "      <td>NaN</td>\n",
       "      <td>NaN</td>\n",
       "      <td>NaN</td>\n",
       "      <td>NaN</td>\n",
       "      <td>NaN</td>\n",
       "    </tr>\n",
       "  </tbody>\n",
       "</table>\n",
       "<p>2938 rows × 22 columns</p>\n",
       "</div>"
      ],
      "text/plain": [
       "      level_0  index   Price           Neighborhood  \\\n",
       "0           0      0  1900.0           (Hudson, FL)   \n",
       "1           1      1   300.0         (Fairfield CT)   \n",
       "2           2      2   190.0             (BROOKLYN)   \n",
       "3           3      3   250.0         (West Village)   \n",
       "4           4      4   800.0             (Brooklyn)   \n",
       "...       ...    ...     ...                    ...   \n",
       "2933     2933   3113   999.0   (Financial District)   \n",
       "2934     2934   3114  3850.0             (brooklyn)   \n",
       "2935     2935   3115   125.0          (Garden City)   \n",
       "2936     2936   3116   190.0             (BROOKLYN)   \n",
       "2937     2937   3119   250.0         (West Village)   \n",
       "\n",
       "                                                    URL              Date  \\\n",
       "0     https://newyork.craigslist.org/brk/bik/d/hudso...  2022-04-14 10:05   \n",
       "1     https://newyork.craigslist.org/fct/bik/d/fairf...  2022-04-14 10:05   \n",
       "2     https://newyork.craigslist.org/brk/bik/d/brook...  2022-04-14 10:01   \n",
       "3     https://newyork.craigslist.org/mnh/bik/d/new-y...  2022-04-14 08:25   \n",
       "4     https://newyork.craigslist.org/brk/bik/d/brook...  2022-04-14 00:22   \n",
       "...                                                 ...               ...   \n",
       "2933  https://newyork.craigslist.org/mnh/bik/d/new-y...  2022-03-31 20:33   \n",
       "2934  https://newyork.craigslist.org/brk/bik/d/brook...  2022-03-31 15:54   \n",
       "2935  https://newyork.craigslist.org/lgi/bik/d/new-h...  2022-03-31 11:50   \n",
       "2936  https://newyork.craigslist.org/brk/bik/d/brook...  2022-03-31 11:35   \n",
       "2937  https://newyork.craigslist.org/mnh/bik/d/new-y...  2022-03-31 08:58   \n",
       "\n",
       "     bicycle frame material bicycle type frame size  \\\n",
       "0                       NaN          NaN        NaN   \n",
       "1                       NaN          NaN        NaN   \n",
       "2                       NaN          NaN        NaN   \n",
       "3                       NaN          NaN        NaN   \n",
       "4                       NaN          NaN        NaN   \n",
       "...                     ...          ...        ...   \n",
       "2933               aluminum          bmx        ALL   \n",
       "2934                  steel       gravel         XL   \n",
       "2935          other/unknown          bmx     Medium   \n",
       "2936          other/unknown        track         54   \n",
       "2937                  steel        other     Medium   \n",
       "\n",
       "                             suspension  ...  \\\n",
       "0                                   NaN  ...   \n",
       "1                                   NaN  ...   \n",
       "2                                   NaN  ...   \n",
       "3                                   NaN  ...   \n",
       "4                                   NaN  ...   \n",
       "...                                 ...  ...   \n",
       "2933                                NaN  ...   \n",
       "2934                                NaN  ...   \n",
       "2935                                NaN  ...   \n",
       "2936                                NaN  ...   \n",
       "2937   frame and fork (full suspension)  ...   \n",
       "\n",
       "                                                   text condition  \\\n",
       "0                                                   NaN       NaN   \n",
       "1                                                   NaN       NaN   \n",
       "2                                                   NaN       NaN   \n",
       "3                                                   NaN       NaN   \n",
       "4                                                   NaN       NaN   \n",
       "...                                                 ...       ...   \n",
       "2933  The PK Ripper was the raddest, baddest, and mo...       new   \n",
       "2934  I ordered this bike back in NOV.2020 with all ...       NaN   \n",
       "2935  Haro F3 BMX-$175  Mongoose Racer X BMX-$175  T...       NaN   \n",
       "2936  Pick up in Brooklyn 11229 show contact info  N...       NaN   \n",
       "2937  1 red mountain bike, 1 black single speed,  bl...       NaN   \n",
       "\n",
       "     electric assist make / manufacturer model name / number brake type  \\\n",
       "0                NaN                 NaN                 NaN        NaN   \n",
       "1                NaN                 NaN                 NaN        NaN   \n",
       "2                NaN                 NaN                 NaN        NaN   \n",
       "3                NaN                 NaN                 NaN        NaN   \n",
       "4                NaN                 NaN                 NaN        NaN   \n",
       "...              ...                 ...                 ...        ...   \n",
       "2933             NaN                 NaN                 NaN        NaN   \n",
       "2934             NaN                 NaN                 NaN        NaN   \n",
       "2935             NaN                 NaN                 NaN        NaN   \n",
       "2936             NaN                 NaN                 NaN        NaN   \n",
       "2937             NaN                 NaN                 NaN        NaN   \n",
       "\n",
       "     handlebar type part type size / dimensions serial number  \n",
       "0               NaN       NaN               NaN           NaN  \n",
       "1               NaN       NaN               NaN           NaN  \n",
       "2               NaN       NaN               NaN           NaN  \n",
       "3               NaN       NaN               NaN           NaN  \n",
       "4               NaN       NaN               NaN           NaN  \n",
       "...             ...       ...               ...           ...  \n",
       "2933            NaN       NaN               NaN           NaN  \n",
       "2934            NaN       NaN               NaN           NaN  \n",
       "2935            NaN       NaN               NaN           NaN  \n",
       "2936            NaN       NaN               NaN           NaN  \n",
       "2937            NaN       NaN               NaN           NaN  \n",
       "\n",
       "[2938 rows x 22 columns]"
      ]
     },
     "execution_count": 11,
     "metadata": {},
     "output_type": "execute_result"
    }
   ],
   "source": [
    "df"
   ]
  },
  {
   "cell_type": "code",
   "execution_count": null,
   "metadata": {},
   "outputs": [],
   "source": []
  }
 ],
 "metadata": {
  "interpreter": {
   "hash": "b3ba2566441a7c06988d0923437866b63cedc61552a5af99d1f4fb67d367b25f"
  },
  "kernelspec": {
   "display_name": "Python 3 (ipykernel)",
   "language": "python",
   "name": "python3"
  },
  "language_info": {
   "codemirror_mode": {
    "name": "ipython",
    "version": 3
   },
   "file_extension": ".py",
   "mimetype": "text/x-python",
   "name": "python",
   "nbconvert_exporter": "python",
   "pygments_lexer": "ipython3",
   "version": "3.9.7"
  },
  "toc": {
   "base_numbering": 1,
   "nav_menu": {},
   "number_sections": true,
   "sideBar": true,
   "skip_h1_title": false,
   "title_cell": "Table of Contents",
   "title_sidebar": "Contents",
   "toc_cell": false,
   "toc_position": {},
   "toc_section_display": true,
   "toc_window_display": false
  }
 },
 "nbformat": 4,
 "nbformat_minor": 2
}
